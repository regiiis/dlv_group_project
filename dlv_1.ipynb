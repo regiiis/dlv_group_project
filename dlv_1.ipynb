{
  "nbformat": 4,
  "nbformat_minor": 0,
  "metadata": {
    "colab": {
      "name": "dlv_1.ipynb",
      "provenance": [],
      "collapsed_sections": [],
      "authorship_tag": "ABX9TyPuWsMfy1xdfebPDyLRvXAw",
      "include_colab_link": true
    },
    "kernelspec": {
      "name": "python3",
      "display_name": "Python 3"
    },
    "language_info": {
      "name": "python"
    },
    "accelerator": "GPU",
    "gpuClass": "standard"
  },
  "cells": [
    {
      "cell_type": "markdown",
      "metadata": {
        "id": "view-in-github",
        "colab_type": "text"
      },
      "source": [
        "<a href=\"https://colab.research.google.com/github/regiiis/dlv_group_project/blob/main/dlv_1.ipynb\" target=\"_parent\"><img src=\"https://colab.research.google.com/assets/colab-badge.svg\" alt=\"Open In Colab\"/></a>"
      ]
    },
    {
      "cell_type": "markdown",
      "source": [
        "# DLV Group Project"
      ],
      "metadata": {
        "id": "c0Pg8lH3Z2qt"
      }
    },
    {
      "cell_type": "code",
      "source": [
        "gpu_info = !nvidia-smi\n",
        "gpu_info = '\\n'.join(gpu_info)\n",
        "if gpu_info.find('failed') >= 0:\n",
        "  print('Not connected to a GPU')\n",
        "else:\n",
        "  print(gpu_info)"
      ],
      "metadata": {
        "id": "trYV8QVVgo9M",
        "outputId": "7179320c-aef9-4898-db78-1ceb1e21e9ec",
        "colab": {
          "base_uri": "https://localhost:8080/"
        }
      },
      "execution_count": 1,
      "outputs": [
        {
          "output_type": "stream",
          "name": "stdout",
          "text": [
            "Sun Jun 26 15:01:25 2022       \n",
            "+-----------------------------------------------------------------------------+\n",
            "| NVIDIA-SMI 460.32.03    Driver Version: 460.32.03    CUDA Version: 11.2     |\n",
            "|-------------------------------+----------------------+----------------------+\n",
            "| GPU  Name        Persistence-M| Bus-Id        Disp.A | Volatile Uncorr. ECC |\n",
            "| Fan  Temp  Perf  Pwr:Usage/Cap|         Memory-Usage | GPU-Util  Compute M. |\n",
            "|                               |                      |               MIG M. |\n",
            "|===============================+======================+======================|\n",
            "|   0  Tesla P100-PCIE...  Off  | 00000000:00:04.0 Off |                    0 |\n",
            "| N/A   36C    P0    26W / 250W |      0MiB / 16280MiB |      0%      Default |\n",
            "|                               |                      |                  N/A |\n",
            "+-------------------------------+----------------------+----------------------+\n",
            "                                                                               \n",
            "+-----------------------------------------------------------------------------+\n",
            "| Processes:                                                                  |\n",
            "|  GPU   GI   CI        PID   Type   Process name                  GPU Memory |\n",
            "|        ID   ID                                                   Usage      |\n",
            "|=============================================================================|\n",
            "|  No running processes found                                                 |\n",
            "+-----------------------------------------------------------------------------+\n"
          ]
        }
      ]
    },
    {
      "cell_type": "markdown",
      "source": [
        "## Set up"
      ],
      "metadata": {
        "id": "M5NRUJhIhLJR"
      }
    },
    {
      "cell_type": "code",
      "source": [
        "%pylab inline\n",
        "import matplotlib.pyplot as plt\n",
        "import matplotlib.image as mpimg\n",
        "import numpy as np\n",
        "import pandas as pd"
      ],
      "metadata": {
        "id": "w1X3Kj1pgaTs",
        "colab": {
          "base_uri": "https://localhost:8080/"
        },
        "outputId": "0e7eb465-d9f2-4ad7-ac98-8d057d5b9182"
      },
      "execution_count": 2,
      "outputs": [
        {
          "output_type": "stream",
          "name": "stdout",
          "text": [
            "Populating the interactive namespace from numpy and matplotlib\n"
          ]
        }
      ]
    },
    {
      "cell_type": "code",
      "source": [
        "from google.colab import drive\n",
        "drive.mount('/content/drive')"
      ],
      "metadata": {
        "id": "WSMPorlhZ74t",
        "colab": {
          "base_uri": "https://localhost:8080/"
        },
        "outputId": "92348f6d-e485-446e-d52c-c471368aa66b"
      },
      "execution_count": 3,
      "outputs": [
        {
          "output_type": "stream",
          "name": "stdout",
          "text": [
            "Mounted at /content/drive\n"
          ]
        }
      ]
    },
    {
      "cell_type": "code",
      "source": [
        "!unzip \"/content/drive/My Drive/Colab Notebooks/data/2020-02-14_InfraredSolarModules.zip\""
      ],
      "metadata": {
        "id": "dRDtIrj8B3pU"
      },
      "execution_count": null,
      "outputs": []
    },
    {
      "cell_type": "code",
      "source": [
        "df = pd.read_json(\"/content/InfraredSolarModules/module_metadata.json\",orient=\"index\")\n",
        "df['image_name'] = df['image_filepath'].str[7:]\n",
        "df"
      ],
      "metadata": {
        "colab": {
          "base_uri": "https://localhost:8080/",
          "height": 424
        },
        "id": "y6pI1HadgNe6",
        "outputId": "c5b196bc-d98a-4966-936f-9697c83d4ee4"
      },
      "execution_count": 5,
      "outputs": [
        {
          "output_type": "execute_result",
          "data": {
            "text/plain": [
              "         image_filepath anomaly_class image_name\n",
              "13357  images/13357.jpg    No-Anomaly  13357.jpg\n",
              "13356  images/13356.jpg    No-Anomaly  13356.jpg\n",
              "19719  images/19719.jpg    No-Anomaly  19719.jpg\n",
              "11542  images/11542.jpg    No-Anomaly  11542.jpg\n",
              "11543  images/11543.jpg    No-Anomaly  11543.jpg\n",
              "...                 ...           ...        ...\n",
              "8488    images/8488.jpg    Vegetation   8488.jpg\n",
              "8489    images/8489.jpg    Vegetation   8489.jpg\n",
              "7464    images/7464.jpg      Cracking   7464.jpg\n",
              "18065  images/18065.jpg    No-Anomaly  18065.jpg\n",
              "13354  images/13354.jpg    No-Anomaly  13354.jpg\n",
              "\n",
              "[20000 rows x 3 columns]"
            ],
            "text/html": [
              "\n",
              "  <div id=\"df-c2014325-b437-4695-bc43-adfe2c8c4c2b\">\n",
              "    <div class=\"colab-df-container\">\n",
              "      <div>\n",
              "<style scoped>\n",
              "    .dataframe tbody tr th:only-of-type {\n",
              "        vertical-align: middle;\n",
              "    }\n",
              "\n",
              "    .dataframe tbody tr th {\n",
              "        vertical-align: top;\n",
              "    }\n",
              "\n",
              "    .dataframe thead th {\n",
              "        text-align: right;\n",
              "    }\n",
              "</style>\n",
              "<table border=\"1\" class=\"dataframe\">\n",
              "  <thead>\n",
              "    <tr style=\"text-align: right;\">\n",
              "      <th></th>\n",
              "      <th>image_filepath</th>\n",
              "      <th>anomaly_class</th>\n",
              "      <th>image_name</th>\n",
              "    </tr>\n",
              "  </thead>\n",
              "  <tbody>\n",
              "    <tr>\n",
              "      <th>13357</th>\n",
              "      <td>images/13357.jpg</td>\n",
              "      <td>No-Anomaly</td>\n",
              "      <td>13357.jpg</td>\n",
              "    </tr>\n",
              "    <tr>\n",
              "      <th>13356</th>\n",
              "      <td>images/13356.jpg</td>\n",
              "      <td>No-Anomaly</td>\n",
              "      <td>13356.jpg</td>\n",
              "    </tr>\n",
              "    <tr>\n",
              "      <th>19719</th>\n",
              "      <td>images/19719.jpg</td>\n",
              "      <td>No-Anomaly</td>\n",
              "      <td>19719.jpg</td>\n",
              "    </tr>\n",
              "    <tr>\n",
              "      <th>11542</th>\n",
              "      <td>images/11542.jpg</td>\n",
              "      <td>No-Anomaly</td>\n",
              "      <td>11542.jpg</td>\n",
              "    </tr>\n",
              "    <tr>\n",
              "      <th>11543</th>\n",
              "      <td>images/11543.jpg</td>\n",
              "      <td>No-Anomaly</td>\n",
              "      <td>11543.jpg</td>\n",
              "    </tr>\n",
              "    <tr>\n",
              "      <th>...</th>\n",
              "      <td>...</td>\n",
              "      <td>...</td>\n",
              "      <td>...</td>\n",
              "    </tr>\n",
              "    <tr>\n",
              "      <th>8488</th>\n",
              "      <td>images/8488.jpg</td>\n",
              "      <td>Vegetation</td>\n",
              "      <td>8488.jpg</td>\n",
              "    </tr>\n",
              "    <tr>\n",
              "      <th>8489</th>\n",
              "      <td>images/8489.jpg</td>\n",
              "      <td>Vegetation</td>\n",
              "      <td>8489.jpg</td>\n",
              "    </tr>\n",
              "    <tr>\n",
              "      <th>7464</th>\n",
              "      <td>images/7464.jpg</td>\n",
              "      <td>Cracking</td>\n",
              "      <td>7464.jpg</td>\n",
              "    </tr>\n",
              "    <tr>\n",
              "      <th>18065</th>\n",
              "      <td>images/18065.jpg</td>\n",
              "      <td>No-Anomaly</td>\n",
              "      <td>18065.jpg</td>\n",
              "    </tr>\n",
              "    <tr>\n",
              "      <th>13354</th>\n",
              "      <td>images/13354.jpg</td>\n",
              "      <td>No-Anomaly</td>\n",
              "      <td>13354.jpg</td>\n",
              "    </tr>\n",
              "  </tbody>\n",
              "</table>\n",
              "<p>20000 rows × 3 columns</p>\n",
              "</div>\n",
              "      <button class=\"colab-df-convert\" onclick=\"convertToInteractive('df-c2014325-b437-4695-bc43-adfe2c8c4c2b')\"\n",
              "              title=\"Convert this dataframe to an interactive table.\"\n",
              "              style=\"display:none;\">\n",
              "        \n",
              "  <svg xmlns=\"http://www.w3.org/2000/svg\" height=\"24px\"viewBox=\"0 0 24 24\"\n",
              "       width=\"24px\">\n",
              "    <path d=\"M0 0h24v24H0V0z\" fill=\"none\"/>\n",
              "    <path d=\"M18.56 5.44l.94 2.06.94-2.06 2.06-.94-2.06-.94-.94-2.06-.94 2.06-2.06.94zm-11 1L8.5 8.5l.94-2.06 2.06-.94-2.06-.94L8.5 2.5l-.94 2.06-2.06.94zm10 10l.94 2.06.94-2.06 2.06-.94-2.06-.94-.94-2.06-.94 2.06-2.06.94z\"/><path d=\"M17.41 7.96l-1.37-1.37c-.4-.4-.92-.59-1.43-.59-.52 0-1.04.2-1.43.59L10.3 9.45l-7.72 7.72c-.78.78-.78 2.05 0 2.83L4 21.41c.39.39.9.59 1.41.59.51 0 1.02-.2 1.41-.59l7.78-7.78 2.81-2.81c.8-.78.8-2.07 0-2.86zM5.41 20L4 18.59l7.72-7.72 1.47 1.35L5.41 20z\"/>\n",
              "  </svg>\n",
              "      </button>\n",
              "      \n",
              "  <style>\n",
              "    .colab-df-container {\n",
              "      display:flex;\n",
              "      flex-wrap:wrap;\n",
              "      gap: 12px;\n",
              "    }\n",
              "\n",
              "    .colab-df-convert {\n",
              "      background-color: #E8F0FE;\n",
              "      border: none;\n",
              "      border-radius: 50%;\n",
              "      cursor: pointer;\n",
              "      display: none;\n",
              "      fill: #1967D2;\n",
              "      height: 32px;\n",
              "      padding: 0 0 0 0;\n",
              "      width: 32px;\n",
              "    }\n",
              "\n",
              "    .colab-df-convert:hover {\n",
              "      background-color: #E2EBFA;\n",
              "      box-shadow: 0px 1px 2px rgba(60, 64, 67, 0.3), 0px 1px 3px 1px rgba(60, 64, 67, 0.15);\n",
              "      fill: #174EA6;\n",
              "    }\n",
              "\n",
              "    [theme=dark] .colab-df-convert {\n",
              "      background-color: #3B4455;\n",
              "      fill: #D2E3FC;\n",
              "    }\n",
              "\n",
              "    [theme=dark] .colab-df-convert:hover {\n",
              "      background-color: #434B5C;\n",
              "      box-shadow: 0px 1px 3px 1px rgba(0, 0, 0, 0.15);\n",
              "      filter: drop-shadow(0px 1px 2px rgba(0, 0, 0, 0.3));\n",
              "      fill: #FFFFFF;\n",
              "    }\n",
              "  </style>\n",
              "\n",
              "      <script>\n",
              "        const buttonEl =\n",
              "          document.querySelector('#df-c2014325-b437-4695-bc43-adfe2c8c4c2b button.colab-df-convert');\n",
              "        buttonEl.style.display =\n",
              "          google.colab.kernel.accessAllowed ? 'block' : 'none';\n",
              "\n",
              "        async function convertToInteractive(key) {\n",
              "          const element = document.querySelector('#df-c2014325-b437-4695-bc43-adfe2c8c4c2b');\n",
              "          const dataTable =\n",
              "            await google.colab.kernel.invokeFunction('convertToInteractive',\n",
              "                                                     [key], {});\n",
              "          if (!dataTable) return;\n",
              "\n",
              "          const docLinkHtml = 'Like what you see? Visit the ' +\n",
              "            '<a target=\"_blank\" href=https://colab.research.google.com/notebooks/data_table.ipynb>data table notebook</a>'\n",
              "            + ' to learn more about interactive tables.';\n",
              "          element.innerHTML = '';\n",
              "          dataTable['output_type'] = 'display_data';\n",
              "          await google.colab.output.renderOutput(dataTable, element);\n",
              "          const docLink = document.createElement('div');\n",
              "          docLink.innerHTML = docLinkHtml;\n",
              "          element.appendChild(docLink);\n",
              "        }\n",
              "      </script>\n",
              "    </div>\n",
              "  </div>\n",
              "  "
            ]
          },
          "metadata": {},
          "execution_count": 5
        }
      ]
    },
    {
      "cell_type": "code",
      "source": [
        "reduced_df = df.sample(frac=0.8,random_state=200)       # random state is a seed value\n",
        "train_df = reduced_df.sample(frac=0.8,random_state=200) # random state is a seed value\n",
        "validation_test_df = reduced_df.drop(train_df.index)\n",
        "validation_df = validation_test_df.sample(frac=0.5,random_state=200)\n",
        "test_df = validation_test_df.drop(validation_df.index)\n",
        "\n",
        "print(train_df.info())\n",
        "print()\n",
        "print(validation_df.info())\n",
        "print()\n",
        "test_df.info()\n",
        "\n",
        "test_df.anomaly_class"
      ],
      "metadata": {
        "id": "7arGPB-M7ATH",
        "outputId": "8527b357-7bc1-4a69-e941-94d7408a27a2",
        "colab": {
          "base_uri": "https://localhost:8080/"
        }
      },
      "execution_count": 44,
      "outputs": [
        {
          "output_type": "stream",
          "name": "stdout",
          "text": [
            "<class 'pandas.core.frame.DataFrame'>\n",
            "Int64Index: 12800 entries, 19208 to 2880\n",
            "Data columns (total 3 columns):\n",
            " #   Column          Non-Null Count  Dtype \n",
            "---  ------          --------------  ----- \n",
            " 0   image_filepath  12800 non-null  object\n",
            " 1   anomaly_class   12800 non-null  object\n",
            " 2   image_name      12800 non-null  object\n",
            "dtypes: object(3)\n",
            "memory usage: 400.0+ KB\n",
            "None\n",
            "\n",
            "<class 'pandas.core.frame.DataFrame'>\n",
            "Int64Index: 1600 entries, 12389 to 2391\n",
            "Data columns (total 3 columns):\n",
            " #   Column          Non-Null Count  Dtype \n",
            "---  ------          --------------  ----- \n",
            " 0   image_filepath  1600 non-null   object\n",
            " 1   anomaly_class   1600 non-null   object\n",
            " 2   image_name      1600 non-null   object\n",
            "dtypes: object(3)\n",
            "memory usage: 50.0+ KB\n",
            "None\n",
            "\n",
            "<class 'pandas.core.frame.DataFrame'>\n",
            "Int64Index: 1600 entries, 2358 to 14124\n",
            "Data columns (total 3 columns):\n",
            " #   Column          Non-Null Count  Dtype \n",
            "---  ------          --------------  ----- \n",
            " 0   image_filepath  1600 non-null   object\n",
            " 1   anomaly_class   1600 non-null   object\n",
            " 2   image_name      1600 non-null   object\n",
            "dtypes: object(3)\n",
            "memory usage: 50.0+ KB\n"
          ]
        },
        {
          "output_type": "execute_result",
          "data": {
            "text/plain": [
              "2358          Diode\n",
              "9560     Vegetation\n",
              "17012    No-Anomaly\n",
              "6147           Cell\n",
              "11880    No-Anomaly\n",
              "            ...    \n",
              "1520          Diode\n",
              "1330          Diode\n",
              "4781     Cell-Multi\n",
              "14401    No-Anomaly\n",
              "14124    No-Anomaly\n",
              "Name: anomaly_class, Length: 1600, dtype: object"
            ]
          },
          "metadata": {},
          "execution_count": 44
        }
      ]
    },
    {
      "cell_type": "code",
      "source": [
        "img1 = mpimg.imread('/content/InfraredSolarModules/images/13356.jpg') #No-Anomaly\n",
        "img2 = mpimg.imread('/content/InfraredSolarModules/images/8488.jpg')  #Vegetation\n",
        "img3 = mpimg.imread('/content/InfraredSolarModules/images/8489.jpg')  #Vegetation\n",
        "img4 = mpimg.imread('/content/InfraredSolarModules/images/7464.jpg')  #Cracking\n",
        "\n",
        "f, axarr = plt.subplots(2,3)\n",
        "axarr[0,0].imshow(img1)\n",
        "axarr[0,1].imshow(img2)\n",
        "axarr[0,2].imshow(img3)\n",
        "axarr[1,1].imshow(img4)"
      ],
      "metadata": {
        "id": "XB3Q6FkRgoaa",
        "colab": {
          "base_uri": "https://localhost:8080/",
          "height": 286
        },
        "outputId": "2bdfe561-6832-4939-da6e-6a80102cee45"
      },
      "execution_count": 102,
      "outputs": [
        {
          "output_type": "execute_result",
          "data": {
            "text/plain": [
              "<matplotlib.image.AxesImage at 0x7faeae17b990>"
            ]
          },
          "metadata": {},
          "execution_count": 102
        },
        {
          "output_type": "display_data",
          "data": {
            "text/plain": [
              "<Figure size 432x288 with 6 Axes>"
            ],
            "image/png": "[encoded data removed]"
          },
          "metadata": {
            "needs_background": "light"
          }
        }
      ]
    },
    {
      "cell_type": "markdown",
      "source": [
        "## Transfer Learning"
      ],
      "metadata": {
        "id": "QPVeW8Wpytzk"
      }
    },
    {
      "cell_type": "markdown",
      "source": [
        "### **Feature Extraction** - without data augmentation"
      ],
      "metadata": {
        "id": "mRmn93ZxuUBB"
      }
    },
    {
      "cell_type": "code",
      "source": [
        "# General imports\n",
        "import tensorflow as tf\n",
        "tf.compat.v1.enable_eager_execution(\n",
        "    config=None, device_policy=None, execution_mode=None\n",
        ")\n",
        "import os, datetime\n",
        "\n",
        "# Shortcuts to keras if (however from tensorflow)\n",
        "from tensorflow import keras\n",
        "from tensorflow.keras.preprocessing.image import ImageDataGenerator\n",
        "from tensorflow.keras.models import Sequential\n",
        "from tensorflow.keras.layers import Conv2D, MaxPooling2D\n",
        "from tensorflow.keras.layers import Activation, Dropout, Flatten, Dense\n",
        "from tensorflow.keras.callbacks import TensorBoard \n",
        "from tensorflow.keras import layers\n",
        "from IPython.display import Image"
      ],
      "metadata": {
        "id": "XJZ9_KCkys1t"
      },
      "execution_count": 8,
      "outputs": []
    },
    {
      "cell_type": "code",
      "source": [
        "\n",
        "image_height = 40\n",
        "image_width = 32\n",
        "batch_size = 32\n",
        "\n",
        "datagen_train = ImageDataGenerator(rescale=1./255)\n",
        "datagen_validation = ImageDataGenerator(rescale=1./255)\n",
        "\n",
        "train_generator = datagen_train.flow_from_dataframe(\n",
        "    dataframe = train_df,\n",
        "    directory = \"/content/InfraredSolarModules/images/\",\n",
        "    x_col = \"image_name\",\n",
        "    y_col = \"anomaly_class\",\n",
        "    class_mode = \"categorical\",\n",
        "    target_size = (image_height, image_width),\n",
        "    batch_size = batch_size,\n",
        "    color_mode = \"rgb\"\n",
        ")\n",
        "\n",
        "val_generator = datagen_train.flow_from_dataframe(\n",
        "    dataframe = validation_df,\n",
        "    directory = \"/content/InfraredSolarModules/images/\",\n",
        "    x_col = \"image_name\",\n",
        "    y_col = \"anomaly_class\",\n",
        "    class_mode = \"categorical\",\n",
        "    target_size = (image_height, image_width),\n",
        "    batch_size = batch_size,\n",
        "    color_mode = \"rgb\"\n",
        "     )"
      ],
      "metadata": {
        "colab": {
          "base_uri": "https://localhost:8080/"
        },
        "id": "ww6VVlV1ufms",
        "outputId": "f8a66b97-f33b-40ef-cfa0-5bfc1beae3d3"
      },
      "execution_count": 27,
      "outputs": [
        {
          "output_type": "stream",
          "name": "stdout",
          "text": [
            "Found 12800 validated image filenames belonging to 12 classes.\n",
            "Found 1600 validated image filenames belonging to 12 classes.\n"
          ]
        }
      ]
    },
    {
      "cell_type": "code",
      "source": [
        "from tensorflow.keras.applications.vgg16 import VGG16\n",
        "\n",
        "pre_trained_model = VGG16(\n",
        "    input_shape=(image_width,image_height,3),\n",
        "    include_top=False,\n",
        "    weights=\"imagenet\"\n",
        ")\n",
        "\n",
        "for layer in pre_trained_model.layers:\n",
        "    layer.trainable=False\n",
        "    \n",
        "pre_trained_model.summary()"
      ],
      "metadata": {
        "colab": {
          "base_uri": "https://localhost:8080/"
        },
        "id": "aVKtUe8XvQPd",
        "outputId": "d45980ea-8b26-43c4-b62c-5d14c3379d28"
      },
      "execution_count": 28,
      "outputs": [
        {
          "output_type": "stream",
          "name": "stdout",
          "text": [
            "Model: \"vgg16\"\n",
            "_________________________________________________________________\n",
            " Layer (type)                Output Shape              Param #   \n",
            "=================================================================\n",
            " input_2 (InputLayer)        [(None, 32, 40, 3)]       0         \n",
            "                                                                 \n",
            " block1_conv1 (Conv2D)       (None, 32, 40, 64)        1792      \n",
            "                                                                 \n",
            " block1_conv2 (Conv2D)       (None, 32, 40, 64)        36928     \n",
            "                                                                 \n",
            " block1_pool (MaxPooling2D)  (None, 16, 20, 64)        0         \n",
            "                                                                 \n",
            " block2_conv1 (Conv2D)       (None, 16, 20, 128)       73856     \n",
            "                                                                 \n",
            " block2_conv2 (Conv2D)       (None, 16, 20, 128)       147584    \n",
            "                                                                 \n",
            " block2_pool (MaxPooling2D)  (None, 8, 10, 128)        0         \n",
            "                                                                 \n",
            " block3_conv1 (Conv2D)       (None, 8, 10, 256)        295168    \n",
            "                                                                 \n",
            " block3_conv2 (Conv2D)       (None, 8, 10, 256)        590080    \n",
            "                                                                 \n",
            " block3_conv3 (Conv2D)       (None, 8, 10, 256)        590080    \n",
            "                                                                 \n",
            " block3_pool (MaxPooling2D)  (None, 4, 5, 256)         0         \n",
            "                                                                 \n",
            " block4_conv1 (Conv2D)       (None, 4, 5, 512)         1180160   \n",
            "                                                                 \n",
            " block4_conv2 (Conv2D)       (None, 4, 5, 512)         2359808   \n",
            "                                                                 \n",
            " block4_conv3 (Conv2D)       (None, 4, 5, 512)         2359808   \n",
            "                                                                 \n",
            " block4_pool (MaxPooling2D)  (None, 2, 2, 512)         0         \n",
            "                                                                 \n",
            " block5_conv1 (Conv2D)       (None, 2, 2, 512)         2359808   \n",
            "                                                                 \n",
            " block5_conv2 (Conv2D)       (None, 2, 2, 512)         2359808   \n",
            "                                                                 \n",
            " block5_conv3 (Conv2D)       (None, 2, 2, 512)         2359808   \n",
            "                                                                 \n",
            " block5_pool (MaxPooling2D)  (None, 1, 1, 512)         0         \n",
            "                                                                 \n",
            "=================================================================\n",
            "Total params: 14,714,688\n",
            "Trainable params: 0\n",
            "Non-trainable params: 14,714,688\n",
            "_________________________________________________________________\n"
          ]
        }
      ]
    },
    {
      "cell_type": "code",
      "source": [
        "import tensorflow as tf\n",
        "from tensorflow.keras.layers import Dropout, Flatten, Dense, BatchNormalization\n",
        "\n",
        "model = tf.keras.models.Sequential([\n",
        "    pre_trained_model,\n",
        "    \n",
        "    Flatten(),    \n",
        "    Dense(256,activation=\"relu\"),\n",
        "    BatchNormalization(),\n",
        "    Dropout(0.5),\n",
        "    Dense(12, activation='softmax')\n",
        "])\n",
        "\n",
        "model.summary()"
      ],
      "metadata": {
        "colab": {
          "base_uri": "https://localhost:8080/"
        },
        "id": "61oBaVzPv6NA",
        "outputId": "da2baa57-30b4-4047-c685-ca1b3d9773f9"
      },
      "execution_count": 29,
      "outputs": [
        {
          "output_type": "stream",
          "name": "stdout",
          "text": [
            "Model: \"sequential_1\"\n",
            "_________________________________________________________________\n",
            " Layer (type)                Output Shape              Param #   \n",
            "=================================================================\n",
            " vgg16 (Functional)          (None, 1, 1, 512)         14714688  \n",
            "                                                                 \n",
            " flatten_1 (Flatten)         (None, 512)               0         \n",
            "                                                                 \n",
            " dense_2 (Dense)             (None, 256)               131328    \n",
            "                                                                 \n",
            " batch_normalization_1 (Batc  (None, 256)              1024      \n",
            " hNormalization)                                                 \n",
            "                                                                 \n",
            " dropout_1 (Dropout)         (None, 256)               0         \n",
            "                                                                 \n",
            " dense_3 (Dense)             (None, 12)                3084      \n",
            "                                                                 \n",
            "=================================================================\n",
            "Total params: 14,850,124\n",
            "Trainable params: 134,924\n",
            "Non-trainable params: 14,715,200\n",
            "_________________________________________________________________\n"
          ]
        }
      ]
    },
    {
      "cell_type": "markdown",
      "source": [
        "#### Compute Model"
      ],
      "metadata": {
        "id": "lLHGur-TFgJ6"
      }
    },
    {
      "cell_type": "code",
      "source": [
        "model.compile(loss=\"categorical_crossentropy\",\n",
        "    optimizer=\"adam\",\n",
        "    metrics=[\"accuracy\"])\n",
        "\n",
        "\n",
        "logdir = os.path.join(\"logs_feature_extraction\", datetime.datetime.now().strftime(\"%Y%m%d-%H%M%S\"))\n",
        "\n",
        "\n",
        "callbacks = [\n",
        "    keras.callbacks.ModelCheckpoint(filepath=\"feature_extraction.h5\", save_best_only=True, monitor=\"val_loss\"),\n",
        "    tf.keras.callbacks.TensorBoard(logdir, histogram_freq=1)\n",
        "]\n",
        "\n",
        "history = model.fit(\n",
        "train_generator,\n",
        "epochs=30,\n",
        "validation_data=(val_generator),\n",
        "callbacks=callbacks\n",
        ")"
      ],
      "metadata": {
        "colab": {
          "base_uri": "https://localhost:8080/"
        },
        "id": "0JVHXLsjxBAS",
        "outputId": "026f6acf-a41b-4740-94e5-1a3526c11e29"
      },
      "execution_count": 30,
      "outputs": [
        {
          "output_type": "stream",
          "name": "stdout",
          "text": [
            "Epoch 1/30\n",
            "400/400 [==============================] - 10s 22ms/step - loss: 1.5544 - accuracy: 0.5535 - val_loss: 1.5816 - val_accuracy: 0.5300\n",
            "Epoch 2/30\n",
            "400/400 [==============================] - 8s 21ms/step - loss: 1.2498 - accuracy: 0.6231 - val_loss: 1.4479 - val_accuracy: 0.5800\n",
            "Epoch 3/30\n",
            "400/400 [==============================] - 8s 21ms/step - loss: 1.1902 - accuracy: 0.6338 - val_loss: 1.1404 - val_accuracy: 0.6488\n",
            "Epoch 4/30\n",
            "400/400 [==============================] - 11s 28ms/step - loss: 1.1529 - accuracy: 0.6445 - val_loss: 1.0898 - val_accuracy: 0.6650\n",
            "Epoch 5/30\n",
            "400/400 [==============================] - 9s 22ms/step - loss: 1.1292 - accuracy: 0.6466 - val_loss: 1.1174 - val_accuracy: 0.6381\n",
            "Epoch 6/30\n",
            "400/400 [==============================] - 9s 23ms/step - loss: 1.1147 - accuracy: 0.6516 - val_loss: 1.1413 - val_accuracy: 0.6212\n",
            "Epoch 7/30\n",
            "400/400 [==============================] - 9s 21ms/step - loss: 1.0998 - accuracy: 0.6570 - val_loss: 1.0829 - val_accuracy: 0.6544\n",
            "Epoch 8/30\n",
            "400/400 [==============================] - 9s 21ms/step - loss: 1.0909 - accuracy: 0.6530 - val_loss: 1.0602 - val_accuracy: 0.6612\n",
            "Epoch 9/30\n",
            "400/400 [==============================] - 11s 29ms/step - loss: 1.0838 - accuracy: 0.6618 - val_loss: 1.1665 - val_accuracy: 0.6469\n",
            "Epoch 10/30\n",
            "400/400 [==============================] - 8s 21ms/step - loss: 1.0816 - accuracy: 0.6602 - val_loss: 1.0872 - val_accuracy: 0.6681\n",
            "Epoch 11/30\n",
            "400/400 [==============================] - 10s 24ms/step - loss: 1.0627 - accuracy: 0.6652 - val_loss: 1.0314 - val_accuracy: 0.6712\n",
            "Epoch 12/30\n",
            "400/400 [==============================] - 8s 21ms/step - loss: 1.0647 - accuracy: 0.6645 - val_loss: 1.0931 - val_accuracy: 0.6581\n",
            "Epoch 13/30\n",
            "400/400 [==============================] - 9s 23ms/step - loss: 1.0591 - accuracy: 0.6657 - val_loss: 1.0728 - val_accuracy: 0.6700\n",
            "Epoch 14/30\n",
            "400/400 [==============================] - 8s 21ms/step - loss: 1.0459 - accuracy: 0.6735 - val_loss: 1.0872 - val_accuracy: 0.6587\n",
            "Epoch 15/30\n",
            "400/400 [==============================] - 8s 21ms/step - loss: 1.0466 - accuracy: 0.6675 - val_loss: 1.0778 - val_accuracy: 0.6681\n",
            "Epoch 16/30\n",
            "400/400 [==============================] - 8s 21ms/step - loss: 1.0429 - accuracy: 0.6748 - val_loss: 1.0720 - val_accuracy: 0.6606\n",
            "Epoch 17/30\n",
            "400/400 [==============================] - 8s 21ms/step - loss: 1.0337 - accuracy: 0.6734 - val_loss: 1.0496 - val_accuracy: 0.6744\n",
            "Epoch 18/30\n",
            "400/400 [==============================] - 8s 21ms/step - loss: 1.0244 - accuracy: 0.6764 - val_loss: 1.0648 - val_accuracy: 0.6625\n",
            "Epoch 19/30\n",
            "400/400 [==============================] - 9s 21ms/step - loss: 1.0339 - accuracy: 0.6728 - val_loss: 1.0228 - val_accuracy: 0.6787\n",
            "Epoch 20/30\n",
            "400/400 [==============================] - 8s 21ms/step - loss: 1.0367 - accuracy: 0.6759 - val_loss: 1.0217 - val_accuracy: 0.6719\n",
            "Epoch 21/30\n",
            "400/400 [==============================] - 8s 21ms/step - loss: 1.0267 - accuracy: 0.6741 - val_loss: 1.1110 - val_accuracy: 0.6519\n",
            "Epoch 22/30\n",
            "400/400 [==============================] - 8s 21ms/step - loss: 1.0242 - accuracy: 0.6714 - val_loss: 1.0406 - val_accuracy: 0.6656\n",
            "Epoch 23/30\n",
            "400/400 [==============================] - 8s 21ms/step - loss: 1.0228 - accuracy: 0.6731 - val_loss: 1.0505 - val_accuracy: 0.6637\n",
            "Epoch 24/30\n",
            "400/400 [==============================] - 8s 21ms/step - loss: 1.0182 - accuracy: 0.6770 - val_loss: 1.0758 - val_accuracy: 0.6744\n",
            "Epoch 25/30\n",
            "400/400 [==============================] - 9s 21ms/step - loss: 1.0241 - accuracy: 0.6777 - val_loss: 1.0150 - val_accuracy: 0.6800\n",
            "Epoch 26/30\n",
            "400/400 [==============================] - 8s 21ms/step - loss: 1.0167 - accuracy: 0.6763 - val_loss: 1.1991 - val_accuracy: 0.6375\n",
            "Epoch 27/30\n",
            "400/400 [==============================] - 8s 21ms/step - loss: 1.0025 - accuracy: 0.6818 - val_loss: 1.0621 - val_accuracy: 0.6681\n",
            "Epoch 28/30\n",
            "400/400 [==============================] - 8s 21ms/step - loss: 1.0103 - accuracy: 0.6831 - val_loss: 1.0226 - val_accuracy: 0.6800\n",
            "Epoch 29/30\n",
            "400/400 [==============================] - 8s 21ms/step - loss: 1.0159 - accuracy: 0.6794 - val_loss: 1.0324 - val_accuracy: 0.6750\n",
            "Epoch 30/30\n",
            "400/400 [==============================] - 8s 21ms/step - loss: 1.0166 - accuracy: 0.6821 - val_loss: 1.0388 - val_accuracy: 0.6687\n"
          ]
        }
      ]
    },
    {
      "cell_type": "markdown",
      "source": [
        "#### Model Performance"
      ],
      "metadata": {
        "id": "T01JlsQxEovl"
      }
    },
    {
      "cell_type": "code",
      "source": [
        "plt.plot(history.history['accuracy'])\n",
        "plt.plot(history.history['val_accuracy'])\n",
        "plt.title('model accuracy')\n",
        "plt.ylabel('accuracy')\n",
        "plt.xlabel('epoch')\n",
        "plt.legend(['train', 'valid'], loc='lower right')\n",
        "plt.show()\n",
        "plt.plot(history.history['loss'])\n",
        "plt.plot(history.history['val_loss'])\n",
        "plt.title('model loss')\n",
        "plt.ylabel('loss')\n",
        "plt.xlabel('epoch')\n",
        "plt.legend(['train', 'valid'], loc='upper right')\n",
        "plt.show()"
      ],
      "metadata": {
        "colab": {
          "base_uri": "https://localhost:8080/",
          "height": 573
        },
        "id": "Qi0z-5fq5R8J",
        "outputId": "4ea6bc6a-557e-485d-d0b2-4918f9ac6ec1"
      },
      "execution_count": 31,
      "outputs": [
        {
          "output_type": "display_data",
          "data": {
            "text/plain": [
              "<Figure size 432x288 with 1 Axes>"
            ],
            "image/png": "[encoded data removed]"
          },
          "metadata": {
            "needs_background": "light"
          }
        },
        {
          "output_type": "display_data",
          "data": {
            "text/plain": [
              "<Figure size 432x288 with 1 Axes>"
            ],
            "image/png": "[encoded data removed]"
          },
          "metadata": {
            "needs_background": "light"
          }
        }
      ]
    },
    {
      "cell_type": "code",
      "source": [
        " model.evaluate(val_generator)"
      ],
      "metadata": {
        "colab": {
          "base_uri": "https://localhost:8080/"
        },
        "id": "mvR9IHpgFmBy",
        "outputId": "8cae9424-b84f-4514-9d75-f61692566961"
      },
      "execution_count": 32,
      "outputs": [
        {
          "output_type": "stream",
          "name": "stdout",
          "text": [
            "50/50 [==============================] - 1s 15ms/step - loss: 1.0388 - accuracy: 0.6687\n"
          ]
        },
        {
          "output_type": "execute_result",
          "data": {
            "text/plain": [
              "[1.0388174057006836, 0.668749988079071]"
            ]
          },
          "metadata": {},
          "execution_count": 32
        }
      ]
    },
    {
      "cell_type": "code",
      "source": [
        "# Load the TensorBoard notebook extension on google colab\n",
        "%load_ext tensorboard\n",
        "%tensorboard --logdir logs"
      ],
      "metadata": {
        "id": "7M-1Rt0nEWaE"
      },
      "execution_count": null,
      "outputs": []
    },
    {
      "cell_type": "markdown",
      "source": [
        "### Fine Tuning"
      ],
      "metadata": {
        "id": "c9a4rFu8G4V8"
      }
    },
    {
      "cell_type": "markdown",
      "source": [
        "The steps for fine-tuning are as follows:\n",
        "\n",
        "1. Add our custom network on top of an already-trained base network.\n",
        "2. Freeze the base network.\n",
        "3. Train the part we added.\n",
        "4. Unfreeze some layers in the base network. (Note that you should not unfreeze “batch normalization” layers, which are not relevant here since there are no such layers in VGG16)\n",
        "5. Jointly train both these layers and the part we added."
      ],
      "metadata": {
        "id": "lPE-jmojScmF"
      }
    },
    {
      "cell_type": "code",
      "source": [
        "pre_trained_model.summary()"
      ],
      "metadata": {
        "colab": {
          "base_uri": "https://localhost:8080/"
        },
        "id": "RwutxKwtG2tE",
        "outputId": "5ce936d7-7f92-44f1-ecef-f8bbbe78151e"
      },
      "execution_count": 33,
      "outputs": [
        {
          "output_type": "stream",
          "name": "stdout",
          "text": [
            "Model: \"vgg16\"\n",
            "_________________________________________________________________\n",
            " Layer (type)                Output Shape              Param #   \n",
            "=================================================================\n",
            " input_2 (InputLayer)        [(None, 32, 40, 3)]       0         \n",
            "                                                                 \n",
            " block1_conv1 (Conv2D)       (None, 32, 40, 64)        1792      \n",
            "                                                                 \n",
            " block1_conv2 (Conv2D)       (None, 32, 40, 64)        36928     \n",
            "                                                                 \n",
            " block1_pool (MaxPooling2D)  (None, 16, 20, 64)        0         \n",
            "                                                                 \n",
            " block2_conv1 (Conv2D)       (None, 16, 20, 128)       73856     \n",
            "                                                                 \n",
            " block2_conv2 (Conv2D)       (None, 16, 20, 128)       147584    \n",
            "                                                                 \n",
            " block2_pool (MaxPooling2D)  (None, 8, 10, 128)        0         \n",
            "                                                                 \n",
            " block3_conv1 (Conv2D)       (None, 8, 10, 256)        295168    \n",
            "                                                                 \n",
            " block3_conv2 (Conv2D)       (None, 8, 10, 256)        590080    \n",
            "                                                                 \n",
            " block3_conv3 (Conv2D)       (None, 8, 10, 256)        590080    \n",
            "                                                                 \n",
            " block3_pool (MaxPooling2D)  (None, 4, 5, 256)         0         \n",
            "                                                                 \n",
            " block4_conv1 (Conv2D)       (None, 4, 5, 512)         1180160   \n",
            "                                                                 \n",
            " block4_conv2 (Conv2D)       (None, 4, 5, 512)         2359808   \n",
            "                                                                 \n",
            " block4_conv3 (Conv2D)       (None, 4, 5, 512)         2359808   \n",
            "                                                                 \n",
            " block4_pool (MaxPooling2D)  (None, 2, 2, 512)         0         \n",
            "                                                                 \n",
            " block5_conv1 (Conv2D)       (None, 2, 2, 512)         2359808   \n",
            "                                                                 \n",
            " block5_conv2 (Conv2D)       (None, 2, 2, 512)         2359808   \n",
            "                                                                 \n",
            " block5_conv3 (Conv2D)       (None, 2, 2, 512)         2359808   \n",
            "                                                                 \n",
            " block5_pool (MaxPooling2D)  (None, 1, 1, 512)         0         \n",
            "                                                                 \n",
            "=================================================================\n",
            "Total params: 14,714,688\n",
            "Trainable params: 0\n",
            "Non-trainable params: 14,714,688\n",
            "_________________________________________________________________\n"
          ]
        }
      ]
    },
    {
      "cell_type": "code",
      "source": [
        "# Freeze all layers until the block_5_ layers\n",
        "pre_trained_model.trainable = True\n",
        "for layer in pre_trained_model.layers[:-4]:\n",
        "    layer.trainable = False\n",
        "    \n",
        "for layer in pre_trained_model.layers[0:]:\n",
        "    print('layer name = ' + layer.name + ', shape = ' + repr(layer.output_shape)\n",
        "            + ', trainable = ' + repr(layer.trainable))  "
      ],
      "metadata": {
        "id": "ZmQIl5OhTQHS",
        "colab": {
          "base_uri": "https://localhost:8080/"
        },
        "outputId": "b8a2d699-c931-4408-863c-98c76c6affc5"
      },
      "execution_count": 34,
      "outputs": [
        {
          "output_type": "stream",
          "name": "stdout",
          "text": [
            "layer name = input_2, shape = [(None, 32, 40, 3)], trainable = False\n",
            "layer name = block1_conv1, shape = (None, 32, 40, 64), trainable = False\n",
            "layer name = block1_conv2, shape = (None, 32, 40, 64), trainable = False\n",
            "layer name = block1_pool, shape = (None, 16, 20, 64), trainable = False\n",
            "layer name = block2_conv1, shape = (None, 16, 20, 128), trainable = False\n",
            "layer name = block2_conv2, shape = (None, 16, 20, 128), trainable = False\n",
            "layer name = block2_pool, shape = (None, 8, 10, 128), trainable = False\n",
            "layer name = block3_conv1, shape = (None, 8, 10, 256), trainable = False\n",
            "layer name = block3_conv2, shape = (None, 8, 10, 256), trainable = False\n",
            "layer name = block3_conv3, shape = (None, 8, 10, 256), trainable = False\n",
            "layer name = block3_pool, shape = (None, 4, 5, 256), trainable = False\n",
            "layer name = block4_conv1, shape = (None, 4, 5, 512), trainable = False\n",
            "layer name = block4_conv2, shape = (None, 4, 5, 512), trainable = False\n",
            "layer name = block4_conv3, shape = (None, 4, 5, 512), trainable = False\n",
            "layer name = block4_pool, shape = (None, 2, 2, 512), trainable = False\n",
            "layer name = block5_conv1, shape = (None, 2, 2, 512), trainable = True\n",
            "layer name = block5_conv2, shape = (None, 2, 2, 512), trainable = True\n",
            "layer name = block5_conv3, shape = (None, 2, 2, 512), trainable = True\n",
            "layer name = block5_pool, shape = (None, 1, 1, 512), trainable = True\n"
          ]
        }
      ]
    },
    {
      "cell_type": "code",
      "source": [
        "model.compile(loss=\"categorical_crossentropy\",\n",
        "    optimizer=keras.optimizers.Adam(learning_rate=1e-5),\n",
        "    metrics=[\"accuracy\"])"
      ],
      "metadata": {
        "id": "pt25mzwJTlU3"
      },
      "execution_count": 36,
      "outputs": []
    },
    {
      "cell_type": "code",
      "source": [
        "model.summary()"
      ],
      "metadata": {
        "id": "Km5SgInjXX6B",
        "outputId": "6f1f2c4b-37dd-4bc2-ffc9-569faa3f2208",
        "colab": {
          "base_uri": "https://localhost:8080/"
        }
      },
      "execution_count": 20,
      "outputs": [
        {
          "output_type": "stream",
          "name": "stdout",
          "text": [
            "Model: \"sequential\"\n",
            "_________________________________________________________________\n",
            " Layer (type)                Output Shape              Param #   \n",
            "=================================================================\n",
            " vgg16 (Functional)          (None, 1, 1, 512)         14714688  \n",
            "                                                                 \n",
            " flatten (Flatten)           (None, 512)               0         \n",
            "                                                                 \n",
            " dense (Dense)               (None, 256)               131328    \n",
            "                                                                 \n",
            " batch_normalization (BatchN  (None, 256)              1024      \n",
            " ormalization)                                                   \n",
            "                                                                 \n",
            " dropout (Dropout)           (None, 256)               0         \n",
            "                                                                 \n",
            " dense_1 (Dense)             (None, 12)                3084      \n",
            "                                                                 \n",
            "=================================================================\n",
            "Total params: 14,850,124\n",
            "Trainable params: 7,214,348\n",
            "Non-trainable params: 7,635,776\n",
            "_________________________________________________________________\n"
          ]
        }
      ]
    },
    {
      "cell_type": "code",
      "source": [
        "logdir = os.path.join(\"logs_fine_tuning\", datetime.datetime.now().strftime(\"%Y%m%d-%H%M%S\"))\n",
        "\n",
        "\n",
        "callbacks = [\n",
        "    keras.callbacks.ModelCheckpoint(filepath=\"fine_tuning.keras\", save_best_only=True, monitor=\"val_loss\"),\n",
        "    tf.keras.callbacks.TensorBoard(logdir, histogram_freq=1)\n",
        "]\n",
        "\n",
        "history = model.fit(\n",
        "train_generator,\n",
        "epochs=30,\n",
        "validation_data = val_generator,\n",
        "callbacks = callbacks\n",
        ")"
      ],
      "metadata": {
        "colab": {
          "base_uri": "https://localhost:8080/"
        },
        "id": "A0Mw5k8lToi4",
        "outputId": "28ca88e0-7c44-44c3-87a2-6823d90edeaf"
      },
      "execution_count": 37,
      "outputs": [
        {
          "output_type": "stream",
          "name": "stdout",
          "text": [
            "Epoch 1/30\n",
            "400/400 [==============================] - 10s 23ms/step - loss: 1.0061 - accuracy: 0.6812 - val_loss: 1.0865 - val_accuracy: 0.6431\n",
            "Epoch 2/30\n",
            "400/400 [==============================] - 9s 23ms/step - loss: 0.9213 - accuracy: 0.7045 - val_loss: 1.0054 - val_accuracy: 0.6837\n",
            "Epoch 3/30\n",
            "400/400 [==============================] - 9s 23ms/step - loss: 0.8767 - accuracy: 0.7188 - val_loss: 0.9976 - val_accuracy: 0.7013\n",
            "Epoch 4/30\n",
            "400/400 [==============================] - 9s 23ms/step - loss: 0.8272 - accuracy: 0.7359 - val_loss: 0.8733 - val_accuracy: 0.7219\n",
            "Epoch 5/30\n",
            "400/400 [==============================] - 9s 22ms/step - loss: 0.8072 - accuracy: 0.7411 - val_loss: 0.8997 - val_accuracy: 0.7206\n",
            "Epoch 6/30\n",
            "400/400 [==============================] - 9s 23ms/step - loss: 0.7654 - accuracy: 0.7534 - val_loss: 0.8547 - val_accuracy: 0.7219\n",
            "Epoch 7/30\n",
            "400/400 [==============================] - 9s 22ms/step - loss: 0.7375 - accuracy: 0.7635 - val_loss: 1.0225 - val_accuracy: 0.6963\n",
            "Epoch 8/30\n",
            "400/400 [==============================] - 9s 22ms/step - loss: 0.7136 - accuracy: 0.7697 - val_loss: 0.8893 - val_accuracy: 0.7225\n",
            "Epoch 9/30\n",
            "400/400 [==============================] - 9s 23ms/step - loss: 0.6855 - accuracy: 0.7802 - val_loss: 0.8408 - val_accuracy: 0.7281\n",
            "Epoch 10/30\n",
            "400/400 [==============================] - 9s 23ms/step - loss: 0.6631 - accuracy: 0.7852 - val_loss: 0.8292 - val_accuracy: 0.7337\n",
            "Epoch 11/30\n",
            "400/400 [==============================] - 9s 23ms/step - loss: 0.6402 - accuracy: 0.7956 - val_loss: 0.8188 - val_accuracy: 0.7437\n",
            "Epoch 12/30\n",
            "400/400 [==============================] - 9s 23ms/step - loss: 0.6176 - accuracy: 0.8048 - val_loss: 0.7892 - val_accuracy: 0.7588\n",
            "Epoch 13/30\n",
            "400/400 [==============================] - 9s 22ms/step - loss: 0.5935 - accuracy: 0.8161 - val_loss: 0.8188 - val_accuracy: 0.7450\n",
            "Epoch 14/30\n",
            "400/400 [==============================] - 9s 23ms/step - loss: 0.5834 - accuracy: 0.8191 - val_loss: 0.7723 - val_accuracy: 0.7638\n",
            "Epoch 15/30\n",
            "400/400 [==============================] - 9s 22ms/step - loss: 0.5614 - accuracy: 0.8230 - val_loss: 0.8265 - val_accuracy: 0.7356\n",
            "Epoch 16/30\n",
            "400/400 [==============================] - 10s 25ms/step - loss: 0.5381 - accuracy: 0.8318 - val_loss: 0.8256 - val_accuracy: 0.7594\n",
            "Epoch 17/30\n",
            "400/400 [==============================] - 9s 22ms/step - loss: 0.5139 - accuracy: 0.8410 - val_loss: 0.7975 - val_accuracy: 0.7588\n",
            "Epoch 18/30\n",
            "400/400 [==============================] - 9s 22ms/step - loss: 0.5028 - accuracy: 0.8448 - val_loss: 0.8066 - val_accuracy: 0.7500\n",
            "Epoch 19/30\n",
            "400/400 [==============================] - 9s 22ms/step - loss: 0.4863 - accuracy: 0.8502 - val_loss: 0.8864 - val_accuracy: 0.7356\n",
            "Epoch 20/30\n",
            "400/400 [==============================] - 9s 22ms/step - loss: 0.4693 - accuracy: 0.8538 - val_loss: 0.8636 - val_accuracy: 0.7319\n",
            "Epoch 21/30\n",
            "400/400 [==============================] - 9s 22ms/step - loss: 0.4480 - accuracy: 0.8651 - val_loss: 0.7803 - val_accuracy: 0.7650\n",
            "Epoch 22/30\n",
            "400/400 [==============================] - 9s 22ms/step - loss: 0.4455 - accuracy: 0.8651 - val_loss: 0.7820 - val_accuracy: 0.7588\n",
            "Epoch 23/30\n",
            "400/400 [==============================] - 9s 22ms/step - loss: 0.4251 - accuracy: 0.8705 - val_loss: 0.8131 - val_accuracy: 0.7525\n",
            "Epoch 24/30\n",
            "400/400 [==============================] - 9s 22ms/step - loss: 0.4129 - accuracy: 0.8806 - val_loss: 0.8647 - val_accuracy: 0.7375\n",
            "Epoch 25/30\n",
            "400/400 [==============================] - 9s 22ms/step - loss: 0.3939 - accuracy: 0.8820 - val_loss: 0.7728 - val_accuracy: 0.7581\n",
            "Epoch 26/30\n",
            "400/400 [==============================] - 9s 22ms/step - loss: 0.3762 - accuracy: 0.8914 - val_loss: 0.7982 - val_accuracy: 0.7513\n",
            "Epoch 27/30\n",
            "400/400 [==============================] - 9s 22ms/step - loss: 0.3694 - accuracy: 0.8935 - val_loss: 0.8601 - val_accuracy: 0.7394\n",
            "Epoch 28/30\n",
            "400/400 [==============================] - 9s 22ms/step - loss: 0.3550 - accuracy: 0.8977 - val_loss: 0.8068 - val_accuracy: 0.7462\n",
            "Epoch 29/30\n",
            "400/400 [==============================] - 9s 22ms/step - loss: 0.3474 - accuracy: 0.9007 - val_loss: 0.8451 - val_accuracy: 0.7494\n",
            "Epoch 30/30\n",
            "400/400 [==============================] - 9s 22ms/step - loss: 0.3346 - accuracy: 0.9041 - val_loss: 0.8784 - val_accuracy: 0.7100\n"
          ]
        }
      ]
    },
    {
      "cell_type": "code",
      "source": [
        ""
      ],
      "metadata": {
        "id": "25QFoWnxkadW"
      },
      "execution_count": null,
      "outputs": []
    },
    {
      "cell_type": "markdown",
      "source": [
        "### Model Performance - With Fine Tuning"
      ],
      "metadata": {
        "id": "qNWizcz-kbwK"
      }
    },
    {
      "cell_type": "code",
      "source": [
        "plt.plot(history.history['accuracy'])\n",
        "plt.plot(history.history['val_accuracy'])\n",
        "plt.title('model accuracy')\n",
        "plt.ylabel('accuracy')\n",
        "plt.xlabel('epoch')\n",
        "plt.legend(['train', 'valid'], loc='lower right')\n",
        "plt.show()\n",
        "plt.plot(history.history['loss'])\n",
        "plt.plot(history.history['val_loss'])\n",
        "plt.title('model loss')\n",
        "plt.ylabel('loss')\n",
        "plt.xlabel('epoch')\n",
        "plt.legend(['train', 'valid'], loc='upper right')\n",
        "plt.show()"
      ],
      "metadata": {
        "colab": {
          "base_uri": "https://localhost:8080/",
          "height": 573
        },
        "outputId": "74e4097c-0d3e-4d89-84f0-cbee887c5bc8",
        "id": "qN-asTIJkbwK"
      },
      "execution_count": 38,
      "outputs": [
        {
          "output_type": "display_data",
          "data": {
            "text/plain": [
              "<Figure size 432x288 with 1 Axes>"
            ],
            "image/png": "[encoded data removed]"
          },
          "metadata": {
            "needs_background": "light"
          }
        },
        {
          "output_type": "display_data",
          "data": {
            "text/plain": [
              "<Figure size 432x288 with 1 Axes>"
            ],
            "image/png": "[encoded data removed]"
          },
          "metadata": {
            "needs_background": "light"
          }
        }
      ]
    },
    {
      "cell_type": "code",
      "source": [
        " model.evaluate(val_generator)"
      ],
      "metadata": {
        "colab": {
          "base_uri": "https://localhost:8080/"
        },
        "outputId": "67235aa8-0e58-4149-d78e-0644a76fd141",
        "id": "_rWrGtQNkbwK"
      },
      "execution_count": 39,
      "outputs": [
        {
          "output_type": "stream",
          "name": "stdout",
          "text": [
            "50/50 [==============================] - 1s 13ms/step - loss: 0.8784 - accuracy: 0.7100\n"
          ]
        },
        {
          "output_type": "execute_result",
          "data": {
            "text/plain": [
              "[0.8783882260322571, 0.7099999785423279]"
            ]
          },
          "metadata": {},
          "execution_count": 39
        }
      ]
    },
    {
      "cell_type": "code",
      "source": [
        "dir(train_generator)"
      ],
      "metadata": {
        "id": "7DRcY5g7nn0-"
      },
      "execution_count": null,
      "outputs": []
    },
    {
      "cell_type": "code",
      "source": [
        "train_generator.class_indices"
      ],
      "metadata": {
        "colab": {
          "base_uri": "https://localhost:8080/"
        },
        "id": "Pfxrbc_Pwbr2",
        "outputId": "7dcdaca3-65df-4322-a90a-2010ef71ac4a"
      },
      "execution_count": 75,
      "outputs": [
        {
          "output_type": "execute_result",
          "data": {
            "text/plain": [
              "{'Cell': 0,\n",
              " 'Cell-Multi': 1,\n",
              " 'Cracking': 2,\n",
              " 'Diode': 3,\n",
              " 'Diode-Multi': 4,\n",
              " 'Hot-Spot': 5,\n",
              " 'Hot-Spot-Multi': 6,\n",
              " 'No-Anomaly': 7,\n",
              " 'Offline-Module': 8,\n",
              " 'Shadowing': 9,\n",
              " 'Soiling': 10,\n",
              " 'Vegetation': 11}"
            ]
          },
          "metadata": {},
          "execution_count": 75
        }
      ]
    },
    {
      "cell_type": "code",
      "source": [
        "x = list(train_generator.class_indices.keys())"
      ],
      "metadata": {
        "id": "NAFmfg9lwskU"
      },
      "execution_count": 76,
      "outputs": []
    },
    {
      "cell_type": "code",
      "source": [
        "from sklearn.metrics import confusion_matrix\n",
        "from sklearn.metrics import classification_report\n",
        "import sys\n",
        "\n",
        "num_of_test_samples = 1600\n",
        "\n",
        "Y_pred = model.predict_generator(val_generator, num_of_test_samples // batch_size+1)\n",
        "y_pred = np.argmax(Y_pred, axis=1)\n",
        "print()\n",
        "print('Confusion Matrix')\n",
        "print(confusion_matrix(val_generator.classes, y_pred))\n",
        "\n",
        "print()\n",
        "print('Classification Report')\n",
        "target_names = x\n",
        "print(classification_report(val_generator.classes, y_pred, target_names = target_names))"
      ],
      "metadata": {
        "colab": {
          "base_uri": "https://localhost:8080/"
        },
        "id": "vgbRbBLMmF03",
        "outputId": "f8a20f34-5c2a-4419-ecfc-31db5d2e40ee"
      },
      "execution_count": 78,
      "outputs": [
        {
          "output_type": "stream",
          "name": "stderr",
          "text": [
            "/usr/local/lib/python3.7/dist-packages/ipykernel_launcher.py:7: UserWarning: `Model.predict_generator` is deprecated and will be removed in a future version. Please use `Model.predict`, which supports generators.\n",
            "  import sys\n"
          ]
        },
        {
          "output_type": "stream",
          "name": "stdout",
          "text": [
            "WARNING:tensorflow:Your input ran out of data; interrupting training. Make sure that your dataset or generator can generate at least `steps_per_epoch * epochs` batches (in this case, 51 batches). You may need to use the repeat() function when building your dataset.\n",
            "\n",
            "Confusion Matrix\n",
            "[[ 16   5   3  13   1   1   2  58   2  22   0   9]\n",
            " [ 12   4   3  12   1   1   1  46   6  18   0   9]\n",
            " [ 10   7   2   5   0   1   0  52   5  10   0   6]\n",
            " [  9   9   4   7   0   0   0  60   2  16   0  10]\n",
            " [  0   1   3   2   0   0   0   6   2   0   1   2]\n",
            " [  5   0   2   0   0   0   0   7   0   2   1   3]\n",
            " [  0   0   1   1   0   0   0   6   0   7   0   3]\n",
            " [ 73  44  43  58   3   6  12 341  29  99   7  62]\n",
            " [  1   3   1   4   0   1   1  31   1  12   0   4]\n",
            " [ 12   8   4  13   2   0   0  31   1  13   0   8]\n",
            " [  3   0   4   0   0   0   0   4   0   3   0   1]\n",
            " [ 13   7   5  13   0   1   2  67   4  23   0   7]]\n",
            "\n",
            "Classification Report\n",
            "                precision    recall  f1-score   support\n",
            "\n",
            "          Cell       0.10      0.12      0.11       132\n",
            "    Cell-Multi       0.05      0.04      0.04       113\n",
            "      Cracking       0.03      0.02      0.02        98\n",
            "         Diode       0.05      0.06      0.06       117\n",
            "   Diode-Multi       0.00      0.00      0.00        17\n",
            "      Hot-Spot       0.00      0.00      0.00        20\n",
            "Hot-Spot-Multi       0.00      0.00      0.00        18\n",
            "    No-Anomaly       0.48      0.44      0.46       777\n",
            "Offline-Module       0.02      0.02      0.02        59\n",
            "     Shadowing       0.06      0.14      0.08        92\n",
            "       Soiling       0.00      0.00      0.00        15\n",
            "    Vegetation       0.06      0.05      0.05       142\n",
            "\n",
            "      accuracy                           0.24      1600\n",
            "     macro avg       0.07      0.07      0.07      1600\n",
            "  weighted avg       0.26      0.24      0.25      1600\n",
            "\n"
          ]
        }
      ]
    },
    {
      "cell_type": "code",
      "source": [
        "cm = confusion_matrix(val_generator.classes, y_pred)\n",
        "fig, ax = plt.subplots()\n",
        "im = ax.imshow(cm, interpolation='nearest', cmap=plt.cm.Blues)\n",
        "title = 'Confusion matrix'\n",
        "ax.figure.colorbar(im, ax=ax)\n",
        "ax.set(xticks=np.arange(cm.shape[1]),\n",
        "    yticks=np.arange(cm.shape[0]),\n",
        "    xticklabels=target_names, yticklabels=target_names,\n",
        "    title=title,\n",
        "    ylabel='True label',\n",
        "    xlabel='Predicted label')\n",
        "print(plt.setp(ax.get_xticklabels(), rotation=45, ha=\"right\",\n",
        "             rotation_mode=\"anchor\"))"
      ],
      "metadata": {
        "colab": {
          "base_uri": "https://localhost:8080/",
          "height": 382
        },
        "id": "0bkYGGdI1DAx",
        "outputId": "19f829b9-3039-4f3a-cf64-3e0d0748da83"
      },
      "execution_count": 88,
      "outputs": [
        {
          "output_type": "stream",
          "name": "stdout",
          "text": [
            "[None, None, None, None, None, None, None, None, None, None, None, None, None, None, None, None, None, None, None, None, None, None, None, None]\n"
          ]
        },
        {
          "output_type": "display_data",
          "data": {
            "text/plain": [
              "<Figure size 432x288 with 2 Axes>"
            ],
            "image/png": "[encoded data removed]"
          },
          "metadata": {
            "needs_background": "light"
          }
        }
      ]
    },
    {
      "cell_type": "code",
      "source": [
        "x = list(train_generator.class_indices.keys())\n",
        "y = train_generator.classes\n",
        "plt.hist(y)\n",
        "plt.show()"
      ],
      "metadata": {
        "colab": {
          "base_uri": "https://localhost:8080/",
          "height": 265
        },
        "id": "KPneZboL3G_O",
        "outputId": "ff255818-99f1-4678-9fb6-44c9fb2ced15"
      },
      "execution_count": 116,
      "outputs": [
        {
          "output_type": "display_data",
          "data": {
            "text/plain": [
              "<Figure size 432x288 with 1 Axes>"
            ],
            "image/png": "[encoded data removed]"
          },
          "metadata": {
            "needs_background": "light"
          }
        }
      ]
    }
  ]
}