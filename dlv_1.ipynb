{
  "nbformat": 4,
  "nbformat_minor": 0,
  "metadata": {
    "colab": {
      "name": "dlv_1.ipynb",
      "provenance": [],
      "collapsed_sections": [],
      "toc_visible": true,
      "machine_shape": "hm",
      "authorship_tag": "ABX9TyMLNe3dBtsqBLD4ondWb8k/",
      "include_colab_link": true
    },
    "kernelspec": {
      "name": "python3",
      "display_name": "Python 3"
    },
    "language_info": {
      "name": "python"
    },
    "accelerator": "GPU",
    "gpuClass": "standard"
  },
  "cells": [
    {
      "cell_type": "markdown",
      "metadata": {
        "id": "view-in-github",
        "colab_type": "text"
      },
      "source": [
        "<a href=\"https://colab.research.google.com/github/regiiis/dlv_group_project/blob/main/dlv_1.ipynb\" target=\"_parent\"><img src=\"https://colab.research.google.com/assets/colab-badge.svg\" alt=\"Open In Colab\"/></a>"
      ]
    },
    {
      "cell_type": "markdown",
      "source": [
        "# DLV Group Project"
      ],
      "metadata": {
        "id": "c0Pg8lH3Z2qt"
      }
    },
    {
      "cell_type": "markdown",
      "source": [
        "## Set up"
      ],
      "metadata": {
        "id": "M5NRUJhIhLJR"
      }
    },
    {
      "cell_type": "code",
      "source": [
        "gpu_info = !nvidia-smi\n",
        "gpu_info = '\\n'.join(gpu_info)\n",
        "if gpu_info.find('failed') >= 0:\n",
        "  print('Not connected to a GPU')\n",
        "else:\n",
        "  print(gpu_info)"
      ],
      "metadata": {
        "id": "trYV8QVVgo9M",
        "outputId": "4f48aaee-ac58-44c7-c275-54e05eada602",
        "colab": {
          "base_uri": "https://localhost:8080/"
        }
      },
      "execution_count": 63,
      "outputs": [
        {
          "output_type": "stream",
          "name": "stdout",
          "text": [
            "Sun Jun 26 18:13:28 2022       \n",
            "+-----------------------------------------------------------------------------+\n",
            "| NVIDIA-SMI 460.32.03    Driver Version: 460.32.03    CUDA Version: 11.2     |\n",
            "|-------------------------------+----------------------+----------------------+\n",
            "| GPU  Name        Persistence-M| Bus-Id        Disp.A | Volatile Uncorr. ECC |\n",
            "| Fan  Temp  Perf  Pwr:Usage/Cap|         Memory-Usage | GPU-Util  Compute M. |\n",
            "|                               |                      |               MIG M. |\n",
            "|===============================+======================+======================|\n",
            "|   0  Tesla P100-PCIE...  Off  | 00000000:00:04.0 Off |                    0 |\n",
            "| N/A   34C    P0    28W / 250W |      0MiB / 16280MiB |      0%      Default |\n",
            "|                               |                      |                  N/A |\n",
            "+-------------------------------+----------------------+----------------------+\n",
            "                                                                               \n",
            "+-----------------------------------------------------------------------------+\n",
            "| Processes:                                                                  |\n",
            "|  GPU   GI   CI        PID   Type   Process name                  GPU Memory |\n",
            "|        ID   ID                                                   Usage      |\n",
            "|=============================================================================|\n",
            "|  No running processes found                                                 |\n",
            "+-----------------------------------------------------------------------------+\n"
          ]
        }
      ]
    },
    {
      "cell_type": "code",
      "source": [
        "%pylab inline\n",
        "import matplotlib.pyplot as plt\n",
        "import matplotlib.image as mpimg\n",
        "import numpy as np\n",
        "import pandas as pd\n",
        "\n",
        "# General imports\n",
        "import tensorflow as tf\n",
        "tf.compat.v1.enable_eager_execution(\n",
        "    config=None, device_policy=None, execution_mode=None\n",
        ")\n",
        "import os, datetime\n",
        "\n",
        "# Shortcuts to keras if (however from tensorflow)\n",
        "from tensorflow import keras\n",
        "from tensorflow.keras.preprocessing.image import ImageDataGenerator\n",
        "from tensorflow.keras.models import Sequential\n",
        "from tensorflow.keras.layers import Conv2D, MaxPooling2D\n",
        "from tensorflow.keras.layers import Activation, Dropout, Flatten, Dense\n",
        "from tensorflow.keras.callbacks import TensorBoard \n",
        "from tensorflow.keras import layers\n",
        "from IPython.display import Image\n",
        "\n",
        "from sklearn.metrics import confusion_matrix\n",
        "from sklearn.metrics import classification_report\n",
        "from sklearn.utils.class_weight import compute_class_weight\n",
        "import sys"
      ],
      "metadata": {
        "id": "w1X3Kj1pgaTs",
        "colab": {
          "base_uri": "https://localhost:8080/"
        },
        "outputId": "5dca7f2b-80f4-490d-8023-bf0ed9d2a4a5"
      },
      "execution_count": 64,
      "outputs": [
        {
          "output_type": "stream",
          "name": "stdout",
          "text": [
            "Populating the interactive namespace from numpy and matplotlib\n"
          ]
        },
        {
          "output_type": "stream",
          "name": "stderr",
          "text": [
            "/usr/local/lib/python3.7/dist-packages/IPython/core/magics/pylab.py:161: UserWarning: pylab import has clobbered these variables: ['f']\n",
            "`%matplotlib` prevents importing * from pylab and numpy\n",
            "  \"\\n`%matplotlib` prevents importing * from pylab and numpy\"\n"
          ]
        }
      ]
    },
    {
      "cell_type": "code",
      "source": [
        "from google.colab import drive\n",
        "drive.mount('/content/drive')"
      ],
      "metadata": {
        "id": "WSMPorlhZ74t",
        "colab": {
          "base_uri": "https://localhost:8080/"
        },
        "outputId": "09a25c3c-d051-45fe-a1a6-11530091400d"
      },
      "execution_count": 65,
      "outputs": [
        {
          "output_type": "stream",
          "name": "stdout",
          "text": [
            "Drive already mounted at /content/drive; to attempt to forcibly remount, call drive.mount(\"/content/drive\", force_remount=True).\n"
          ]
        }
      ]
    },
    {
      "cell_type": "code",
      "source": [
        "!unzip \"/content/drive/My Drive/Colab Notebooks/data/2020-02-14_InfraredSolarModules.zip\""
      ],
      "metadata": {
        "id": "dRDtIrj8B3pU",
        "colab": {
          "base_uri": "https://localhost:8080/"
        },
        "outputId": "a66945ef-8146-455f-fee2-2be3f08d8daf"
      },
      "execution_count": 66,
      "outputs": [
        {
          "output_type": "stream",
          "name": "stdout",
          "text": [
            "Archive:  /content/drive/My Drive/Colab Notebooks/data/2020-02-14_InfraredSolarModules.zip\n",
            "replace InfraredSolarModules/module_metadata.json? [y]es, [n]o, [A]ll, [N]one, [r]ename: N\n"
          ]
        }
      ]
    },
    {
      "cell_type": "code",
      "source": [
        "df = pd.read_json(\"/content/InfraredSolarModules/module_metadata.json\",orient=\"index\")\n",
        "df['image_name'] = df['image_filepath'].str[7:]\n",
        "df"
      ],
      "metadata": {
        "colab": {
          "base_uri": "https://localhost:8080/",
          "height": 0
        },
        "id": "y6pI1HadgNe6",
        "outputId": "684a9654-1ac8-4368-b843-45ba9aa66653"
      },
      "execution_count": 67,
      "outputs": [
        {
          "output_type": "execute_result",
          "data": {
            "text/plain": [
              "         image_filepath anomaly_class image_name\n",
              "13357  images/13357.jpg    No-Anomaly  13357.jpg\n",
              "13356  images/13356.jpg    No-Anomaly  13356.jpg\n",
              "19719  images/19719.jpg    No-Anomaly  19719.jpg\n",
              "11542  images/11542.jpg    No-Anomaly  11542.jpg\n",
              "11543  images/11543.jpg    No-Anomaly  11543.jpg\n",
              "...                 ...           ...        ...\n",
              "8488    images/8488.jpg    Vegetation   8488.jpg\n",
              "8489    images/8489.jpg    Vegetation   8489.jpg\n",
              "7464    images/7464.jpg      Cracking   7464.jpg\n",
              "18065  images/18065.jpg    No-Anomaly  18065.jpg\n",
              "13354  images/13354.jpg    No-Anomaly  13354.jpg\n",
              "\n",
              "[20000 rows x 3 columns]"
            ],
            "text/html": [
              "\n",
              "  <div id=\"df-20add70e-0bb1-4708-a301-3cbaeda71c6d\">\n",
              "    <div class=\"colab-df-container\">\n",
              "      <div>\n",
              "<style scoped>\n",
              "    .dataframe tbody tr th:only-of-type {\n",
              "        vertical-align: middle;\n",
              "    }\n",
              "\n",
              "    .dataframe tbody tr th {\n",
              "        vertical-align: top;\n",
              "    }\n",
              "\n",
              "    .dataframe thead th {\n",
              "        text-align: right;\n",
              "    }\n",
              "</style>\n",
              "<table border=\"1\" class=\"dataframe\">\n",
              "  <thead>\n",
              "    <tr style=\"text-align: right;\">\n",
              "      <th></th>\n",
              "      <th>image_filepath</th>\n",
              "      <th>anomaly_class</th>\n",
              "      <th>image_name</th>\n",
              "    </tr>\n",
              "  </thead>\n",
              "  <tbody>\n",
              "    <tr>\n",
              "      <th>13357</th>\n",
              "      <td>images/13357.jpg</td>\n",
              "      <td>No-Anomaly</td>\n",
              "      <td>13357.jpg</td>\n",
              "    </tr>\n",
              "    <tr>\n",
              "      <th>13356</th>\n",
              "      <td>images/13356.jpg</td>\n",
              "      <td>No-Anomaly</td>\n",
              "      <td>13356.jpg</td>\n",
              "    </tr>\n",
              "    <tr>\n",
              "      <th>19719</th>\n",
              "      <td>images/19719.jpg</td>\n",
              "      <td>No-Anomaly</td>\n",
              "      <td>19719.jpg</td>\n",
              "    </tr>\n",
              "    <tr>\n",
              "      <th>11542</th>\n",
              "      <td>images/11542.jpg</td>\n",
              "      <td>No-Anomaly</td>\n",
              "      <td>11542.jpg</td>\n",
              "    </tr>\n",
              "    <tr>\n",
              "      <th>11543</th>\n",
              "      <td>images/11543.jpg</td>\n",
              "      <td>No-Anomaly</td>\n",
              "      <td>11543.jpg</td>\n",
              "    </tr>\n",
              "    <tr>\n",
              "      <th>...</th>\n",
              "      <td>...</td>\n",
              "      <td>...</td>\n",
              "      <td>...</td>\n",
              "    </tr>\n",
              "    <tr>\n",
              "      <th>8488</th>\n",
              "      <td>images/8488.jpg</td>\n",
              "      <td>Vegetation</td>\n",
              "      <td>8488.jpg</td>\n",
              "    </tr>\n",
              "    <tr>\n",
              "      <th>8489</th>\n",
              "      <td>images/8489.jpg</td>\n",
              "      <td>Vegetation</td>\n",
              "      <td>8489.jpg</td>\n",
              "    </tr>\n",
              "    <tr>\n",
              "      <th>7464</th>\n",
              "      <td>images/7464.jpg</td>\n",
              "      <td>Cracking</td>\n",
              "      <td>7464.jpg</td>\n",
              "    </tr>\n",
              "    <tr>\n",
              "      <th>18065</th>\n",
              "      <td>images/18065.jpg</td>\n",
              "      <td>No-Anomaly</td>\n",
              "      <td>18065.jpg</td>\n",
              "    </tr>\n",
              "    <tr>\n",
              "      <th>13354</th>\n",
              "      <td>images/13354.jpg</td>\n",
              "      <td>No-Anomaly</td>\n",
              "      <td>13354.jpg</td>\n",
              "    </tr>\n",
              "  </tbody>\n",
              "</table>\n",
              "<p>20000 rows × 3 columns</p>\n",
              "</div>\n",
              "      <button class=\"colab-df-convert\" onclick=\"convertToInteractive('df-20add70e-0bb1-4708-a301-3cbaeda71c6d')\"\n",
              "              title=\"Convert this dataframe to an interactive table.\"\n",
              "              style=\"display:none;\">\n",
              "        \n",
              "  <svg xmlns=\"http://www.w3.org/2000/svg\" height=\"24px\"viewBox=\"0 0 24 24\"\n",
              "       width=\"24px\">\n",
              "    <path d=\"M0 0h24v24H0V0z\" fill=\"none\"/>\n",
              "    <path d=\"M18.56 5.44l.94 2.06.94-2.06 2.06-.94-2.06-.94-.94-2.06-.94 2.06-2.06.94zm-11 1L8.5 8.5l.94-2.06 2.06-.94-2.06-.94L8.5 2.5l-.94 2.06-2.06.94zm10 10l.94 2.06.94-2.06 2.06-.94-2.06-.94-.94-2.06-.94 2.06-2.06.94z\"/><path d=\"M17.41 7.96l-1.37-1.37c-.4-.4-.92-.59-1.43-.59-.52 0-1.04.2-1.43.59L10.3 9.45l-7.72 7.72c-.78.78-.78 2.05 0 2.83L4 21.41c.39.39.9.59 1.41.59.51 0 1.02-.2 1.41-.59l7.78-7.78 2.81-2.81c.8-.78.8-2.07 0-2.86zM5.41 20L4 18.59l7.72-7.72 1.47 1.35L5.41 20z\"/>\n",
              "  </svg>\n",
              "      </button>\n",
              "      \n",
              "  <style>\n",
              "    .colab-df-container {\n",
              "      display:flex;\n",
              "      flex-wrap:wrap;\n",
              "      gap: 12px;\n",
              "    }\n",
              "\n",
              "    .colab-df-convert {\n",
              "      background-color: #E8F0FE;\n",
              "      border: none;\n",
              "      border-radius: 50%;\n",
              "      cursor: pointer;\n",
              "      display: none;\n",
              "      fill: #1967D2;\n",
              "      height: 32px;\n",
              "      padding: 0 0 0 0;\n",
              "      width: 32px;\n",
              "    }\n",
              "\n",
              "    .colab-df-convert:hover {\n",
              "      background-color: #E2EBFA;\n",
              "      box-shadow: 0px 1px 2px rgba(60, 64, 67, 0.3), 0px 1px 3px 1px rgba(60, 64, 67, 0.15);\n",
              "      fill: #174EA6;\n",
              "    }\n",
              "\n",
              "    [theme=dark] .colab-df-convert {\n",
              "      background-color: #3B4455;\n",
              "      fill: #D2E3FC;\n",
              "    }\n",
              "\n",
              "    [theme=dark] .colab-df-convert:hover {\n",
              "      background-color: #434B5C;\n",
              "      box-shadow: 0px 1px 3px 1px rgba(0, 0, 0, 0.15);\n",
              "      filter: drop-shadow(0px 1px 2px rgba(0, 0, 0, 0.3));\n",
              "      fill: #FFFFFF;\n",
              "    }\n",
              "  </style>\n",
              "\n",
              "      <script>\n",
              "        const buttonEl =\n",
              "          document.querySelector('#df-20add70e-0bb1-4708-a301-3cbaeda71c6d button.colab-df-convert');\n",
              "        buttonEl.style.display =\n",
              "          google.colab.kernel.accessAllowed ? 'block' : 'none';\n",
              "\n",
              "        async function convertToInteractive(key) {\n",
              "          const element = document.querySelector('#df-20add70e-0bb1-4708-a301-3cbaeda71c6d');\n",
              "          const dataTable =\n",
              "            await google.colab.kernel.invokeFunction('convertToInteractive',\n",
              "                                                     [key], {});\n",
              "          if (!dataTable) return;\n",
              "\n",
              "          const docLinkHtml = 'Like what you see? Visit the ' +\n",
              "            '<a target=\"_blank\" href=https://colab.research.google.com/notebooks/data_table.ipynb>data table notebook</a>'\n",
              "            + ' to learn more about interactive tables.';\n",
              "          element.innerHTML = '';\n",
              "          dataTable['output_type'] = 'display_data';\n",
              "          await google.colab.output.renderOutput(dataTable, element);\n",
              "          const docLink = document.createElement('div');\n",
              "          docLink.innerHTML = docLinkHtml;\n",
              "          element.appendChild(docLink);\n",
              "        }\n",
              "      </script>\n",
              "    </div>\n",
              "  </div>\n",
              "  "
            ]
          },
          "metadata": {},
          "execution_count": 67
        }
      ]
    },
    {
      "cell_type": "code",
      "source": [
        "reduced_df = df.sample(frac=0.8,random_state=200)       # random state is a seed value\n",
        "train_df = reduced_df.sample(frac=0.8,random_state=200) # random state is a seed value\n",
        "validation_test_df = reduced_df.drop(train_df.index)\n",
        "validation_df = validation_test_df.sample(frac=0.5,random_state=200)\n",
        "test_df = validation_test_df.drop(validation_df.index)\n",
        "\n",
        "print(train_df.info())\n",
        "print()\n",
        "print(validation_df.info())\n",
        "print()\n",
        "test_df.info()\n",
        "\n",
        "test_df.anomaly_class"
      ],
      "metadata": {
        "id": "7arGPB-M7ATH",
        "outputId": "aa3b2325-96b0-4337-a8bc-fb8718fad4c8",
        "colab": {
          "base_uri": "https://localhost:8080/"
        }
      },
      "execution_count": 68,
      "outputs": [
        {
          "output_type": "stream",
          "name": "stdout",
          "text": [
            "<class 'pandas.core.frame.DataFrame'>\n",
            "Int64Index: 12800 entries, 19208 to 2880\n",
            "Data columns (total 3 columns):\n",
            " #   Column          Non-Null Count  Dtype \n",
            "---  ------          --------------  ----- \n",
            " 0   image_filepath  12800 non-null  object\n",
            " 1   anomaly_class   12800 non-null  object\n",
            " 2   image_name      12800 non-null  object\n",
            "dtypes: object(3)\n",
            "memory usage: 400.0+ KB\n",
            "None\n",
            "\n",
            "<class 'pandas.core.frame.DataFrame'>\n",
            "Int64Index: 1600 entries, 12389 to 2391\n",
            "Data columns (total 3 columns):\n",
            " #   Column          Non-Null Count  Dtype \n",
            "---  ------          --------------  ----- \n",
            " 0   image_filepath  1600 non-null   object\n",
            " 1   anomaly_class   1600 non-null   object\n",
            " 2   image_name      1600 non-null   object\n",
            "dtypes: object(3)\n",
            "memory usage: 50.0+ KB\n",
            "None\n",
            "\n",
            "<class 'pandas.core.frame.DataFrame'>\n",
            "Int64Index: 1600 entries, 2358 to 14124\n",
            "Data columns (total 3 columns):\n",
            " #   Column          Non-Null Count  Dtype \n",
            "---  ------          --------------  ----- \n",
            " 0   image_filepath  1600 non-null   object\n",
            " 1   anomaly_class   1600 non-null   object\n",
            " 2   image_name      1600 non-null   object\n",
            "dtypes: object(3)\n",
            "memory usage: 50.0+ KB\n"
          ]
        },
        {
          "output_type": "execute_result",
          "data": {
            "text/plain": [
              "2358          Diode\n",
              "9560     Vegetation\n",
              "17012    No-Anomaly\n",
              "6147           Cell\n",
              "11880    No-Anomaly\n",
              "            ...    \n",
              "1520          Diode\n",
              "1330          Diode\n",
              "4781     Cell-Multi\n",
              "14401    No-Anomaly\n",
              "14124    No-Anomaly\n",
              "Name: anomaly_class, Length: 1600, dtype: object"
            ]
          },
          "metadata": {},
          "execution_count": 68
        }
      ]
    },
    {
      "cell_type": "code",
      "source": [
        "img1 = mpimg.imread('/content/InfraredSolarModules/images/13356.jpg') #No-Anomaly\n",
        "img2 = mpimg.imread('/content/InfraredSolarModules/images/8488.jpg')  #Vegetation\n",
        "img3 = mpimg.imread('/content/InfraredSolarModules/images/8489.jpg')  #Vegetation\n",
        "img4 = mpimg.imread('/content/InfraredSolarModules/images/7464.jpg')  #Cracking\n",
        "\n",
        "f, axarr = plt.subplots(2,3)\n",
        "axarr[0,0].imshow(img1)\n",
        "axarr[0,1].imshow(img2)\n",
        "axarr[0,2].imshow(img3)\n",
        "axarr[1,1].imshow(img4)"
      ],
      "metadata": {
        "id": "XB3Q6FkRgoaa",
        "colab": {
          "base_uri": "https://localhost:8080/",
          "height": 0
        },
        "outputId": "77378c0d-8319-4fee-d15f-d7cd4d4f1452"
      },
      "execution_count": 69,
      "outputs": [
        {
          "output_type": "execute_result",
          "data": {
            "text/plain": [
              "<matplotlib.image.AxesImage at 0x7f00c94aec10>"
            ]
          },
          "metadata": {},
          "execution_count": 69
        },
        {
          "output_type": "display_data",
          "data": {
            "text/plain": [
              "<Figure size 432x288 with 6 Axes>"
            ],
            "image/png": "[encoded data removed]"
          },
          "metadata": {
            "needs_background": "light"
          }
        }
      ]
    },
    {
      "cell_type": "markdown",
      "source": [
        "## Transfer Learning"
      ],
      "metadata": {
        "id": "QPVeW8Wpytzk"
      }
    },
    {
      "cell_type": "markdown",
      "source": [
        "### **Feature Extraction** - without data augmentation"
      ],
      "metadata": {
        "id": "mRmn93ZxuUBB"
      }
    },
    {
      "cell_type": "code",
      "source": [
        "image_height = 40\n",
        "image_width = 32\n",
        "batch_size = 64\n",
        "\n",
        "datagen_train = ImageDataGenerator(rescale=1./255)\n",
        "datagen_validation = ImageDataGenerator(rescale=1./255)\n",
        "\n",
        "train_generator = datagen_train.flow_from_dataframe(\n",
        "    dataframe = train_df,\n",
        "    directory = \"/content/InfraredSolarModules/images/\",\n",
        "    x_col = \"image_name\",\n",
        "    y_col = \"anomaly_class\",\n",
        "    class_mode = \"categorical\",\n",
        "    target_size = (image_height, image_width),\n",
        "    batch_size = batch_size,\n",
        "    color_mode = \"rgb\"\n",
        ")\n",
        "\n",
        "val_generator = datagen_train.flow_from_dataframe(\n",
        "    dataframe = validation_df,\n",
        "    directory = \"/content/InfraredSolarModules/images/\",\n",
        "    x_col = \"image_name\",\n",
        "    y_col = \"anomaly_class\",\n",
        "    class_mode = \"categorical\",\n",
        "    target_size = (image_height, image_width),\n",
        "    batch_size = batch_size,\n",
        "    color_mode = \"rgb\"\n",
        "     )"
      ],
      "metadata": {
        "colab": {
          "base_uri": "https://localhost:8080/"
        },
        "id": "ww6VVlV1ufms",
        "outputId": "4af1771e-f060-48bf-b67f-320a9814a4a5"
      },
      "execution_count": 91,
      "outputs": [
        {
          "output_type": "stream",
          "name": "stdout",
          "text": [
            "Found 12800 validated image filenames belonging to 12 classes.\n",
            "Found 1600 validated image filenames belonging to 12 classes.\n"
          ]
        }
      ]
    },
    {
      "cell_type": "code",
      "source": [
        "from tensorflow.keras.applications.vgg16 import VGG16\n",
        "\n",
        "pre_trained_model = VGG16(\n",
        "    input_shape=(image_width,image_height,3),\n",
        "    include_top=False,\n",
        "    weights=\"imagenet\"\n",
        ")\n",
        "\n",
        "for layer in pre_trained_model.layers:\n",
        "    layer.trainable=False\n",
        "    \n",
        "pre_trained_model.summary()"
      ],
      "metadata": {
        "colab": {
          "base_uri": "https://localhost:8080/"
        },
        "id": "aVKtUe8XvQPd",
        "outputId": "55f03694-9e2e-42ea-e401-763551b5ddf0"
      },
      "execution_count": 71,
      "outputs": [
        {
          "output_type": "stream",
          "name": "stdout",
          "text": [
            "Downloading data from https://storage.googleapis.com/tensorflow/keras-applications/vgg16/vgg16_weights_tf_dim_ordering_tf_kernels_notop.h5\n",
            "58892288/58889256 [==============================] - 0s 0us/step\n",
            "58900480/58889256 [==============================] - 0s 0us/step\n",
            "Model: \"vgg16\"\n",
            "_________________________________________________________________\n",
            " Layer (type)                Output Shape              Param #   \n",
            "=================================================================\n",
            " input_1 (InputLayer)        [(None, 32, 40, 3)]       0         \n",
            "                                                                 \n",
            " block1_conv1 (Conv2D)       (None, 32, 40, 64)        1792      \n",
            "                                                                 \n",
            " block1_conv2 (Conv2D)       (None, 32, 40, 64)        36928     \n",
            "                                                                 \n",
            " block1_pool (MaxPooling2D)  (None, 16, 20, 64)        0         \n",
            "                                                                 \n",
            " block2_conv1 (Conv2D)       (None, 16, 20, 128)       73856     \n",
            "                                                                 \n",
            " block2_conv2 (Conv2D)       (None, 16, 20, 128)       147584    \n",
            "                                                                 \n",
            " block2_pool (MaxPooling2D)  (None, 8, 10, 128)        0         \n",
            "                                                                 \n",
            " block3_conv1 (Conv2D)       (None, 8, 10, 256)        295168    \n",
            "                                                                 \n",
            " block3_conv2 (Conv2D)       (None, 8, 10, 256)        590080    \n",
            "                                                                 \n",
            " block3_conv3 (Conv2D)       (None, 8, 10, 256)        590080    \n",
            "                                                                 \n",
            " block3_pool (MaxPooling2D)  (None, 4, 5, 256)         0         \n",
            "                                                                 \n",
            " block4_conv1 (Conv2D)       (None, 4, 5, 512)         1180160   \n",
            "                                                                 \n",
            " block4_conv2 (Conv2D)       (None, 4, 5, 512)         2359808   \n",
            "                                                                 \n",
            " block4_conv3 (Conv2D)       (None, 4, 5, 512)         2359808   \n",
            "                                                                 \n",
            " block4_pool (MaxPooling2D)  (None, 2, 2, 512)         0         \n",
            "                                                                 \n",
            " block5_conv1 (Conv2D)       (None, 2, 2, 512)         2359808   \n",
            "                                                                 \n",
            " block5_conv2 (Conv2D)       (None, 2, 2, 512)         2359808   \n",
            "                                                                 \n",
            " block5_conv3 (Conv2D)       (None, 2, 2, 512)         2359808   \n",
            "                                                                 \n",
            " block5_pool (MaxPooling2D)  (None, 1, 1, 512)         0         \n",
            "                                                                 \n",
            "=================================================================\n",
            "Total params: 14,714,688\n",
            "Trainable params: 0\n",
            "Non-trainable params: 14,714,688\n",
            "_________________________________________________________________\n"
          ]
        }
      ]
    },
    {
      "cell_type": "code",
      "source": [
        "import tensorflow as tf\n",
        "from tensorflow.keras.layers import Dropout, Flatten, Dense, BatchNormalization\n",
        "\n",
        "model = tf.keras.models.Sequential([\n",
        "    pre_trained_model,\n",
        "    \n",
        "    Flatten(),    \n",
        "    Dense(256,activation=\"relu\"),\n",
        "    BatchNormalization(),\n",
        "    Dropout(0.5),\n",
        "    Dense(12, activation='softmax')\n",
        "])\n",
        "\n",
        "model.summary()"
      ],
      "metadata": {
        "colab": {
          "base_uri": "https://localhost:8080/"
        },
        "id": "61oBaVzPv6NA",
        "outputId": "6e6e16e5-0910-4d7c-fe7d-18f1fcec50c4"
      },
      "execution_count": 72,
      "outputs": [
        {
          "output_type": "stream",
          "name": "stdout",
          "text": [
            "Model: \"sequential\"\n",
            "_________________________________________________________________\n",
            " Layer (type)                Output Shape              Param #   \n",
            "=================================================================\n",
            " vgg16 (Functional)          (None, 1, 1, 512)         14714688  \n",
            "                                                                 \n",
            " flatten (Flatten)           (None, 512)               0         \n",
            "                                                                 \n",
            " dense (Dense)               (None, 256)               131328    \n",
            "                                                                 \n",
            " batch_normalization (BatchN  (None, 256)              1024      \n",
            " ormalization)                                                   \n",
            "                                                                 \n",
            " dropout (Dropout)           (None, 256)               0         \n",
            "                                                                 \n",
            " dense_1 (Dense)             (None, 12)                3084      \n",
            "                                                                 \n",
            "=================================================================\n",
            "Total params: 14,850,124\n",
            "Trainable params: 134,924\n",
            "Non-trainable params: 14,715,200\n",
            "_________________________________________________________________\n"
          ]
        }
      ]
    },
    {
      "cell_type": "markdown",
      "source": [
        "#### Compute Model"
      ],
      "metadata": {
        "id": "lLHGur-TFgJ6"
      }
    },
    {
      "cell_type": "code",
      "source": [
        "model.compile(loss=\"categorical_crossentropy\",\n",
        "    optimizer=\"adam\",\n",
        "    metrics=[\"accuracy\"])\n",
        "\n",
        "\n",
        "logdir = os.path.join(\"logs_feature_extraction\", datetime.datetime.now().strftime(\"%Y%m%d-%H%M%S\"))\n",
        "\n",
        "\n",
        "callbacks = [\n",
        "    keras.callbacks.ModelCheckpoint(filepath=\"feature_extraction.h5\", save_best_only=True, monitor=\"val_loss\"),\n",
        "    tf.keras.callbacks.TensorBoard(logdir, histogram_freq=1)\n",
        "]\n",
        "\n",
        "history = model.fit(\n",
        "train_generator,\n",
        "epochs=30,\n",
        "validation_data=(val_generator),\n",
        "callbacks=callbacks\n",
        ")"
      ],
      "metadata": {
        "colab": {
          "base_uri": "https://localhost:8080/"
        },
        "id": "0JVHXLsjxBAS",
        "outputId": "026f6acf-a41b-4740-94e5-1a3526c11e29"
      },
      "execution_count": 30,
      "outputs": [
        {
          "output_type": "stream",
          "name": "stdout",
          "text": [
            "Epoch 1/30\n",
            "400/400 [==============================] - 10s 22ms/step - loss: 1.5544 - accuracy: 0.5535 - val_loss: 1.5816 - val_accuracy: 0.5300\n",
            "Epoch 2/30\n",
            "400/400 [==============================] - 8s 21ms/step - loss: 1.2498 - accuracy: 0.6231 - val_loss: 1.4479 - val_accuracy: 0.5800\n",
            "Epoch 3/30\n",
            "400/400 [==============================] - 8s 21ms/step - loss: 1.1902 - accuracy: 0.6338 - val_loss: 1.1404 - val_accuracy: 0.6488\n",
            "Epoch 4/30\n",
            "400/400 [==============================] - 11s 28ms/step - loss: 1.1529 - accuracy: 0.6445 - val_loss: 1.0898 - val_accuracy: 0.6650\n",
            "Epoch 5/30\n",
            "400/400 [==============================] - 9s 22ms/step - loss: 1.1292 - accuracy: 0.6466 - val_loss: 1.1174 - val_accuracy: 0.6381\n",
            "Epoch 6/30\n",
            "400/400 [==============================] - 9s 23ms/step - loss: 1.1147 - accuracy: 0.6516 - val_loss: 1.1413 - val_accuracy: 0.6212\n",
            "Epoch 7/30\n",
            "400/400 [==============================] - 9s 21ms/step - loss: 1.0998 - accuracy: 0.6570 - val_loss: 1.0829 - val_accuracy: 0.6544\n",
            "Epoch 8/30\n",
            "400/400 [==============================] - 9s 21ms/step - loss: 1.0909 - accuracy: 0.6530 - val_loss: 1.0602 - val_accuracy: 0.6612\n",
            "Epoch 9/30\n",
            "400/400 [==============================] - 11s 29ms/step - loss: 1.0838 - accuracy: 0.6618 - val_loss: 1.1665 - val_accuracy: 0.6469\n",
            "Epoch 10/30\n",
            "400/400 [==============================] - 8s 21ms/step - loss: 1.0816 - accuracy: 0.6602 - val_loss: 1.0872 - val_accuracy: 0.6681\n",
            "Epoch 11/30\n",
            "400/400 [==============================] - 10s 24ms/step - loss: 1.0627 - accuracy: 0.6652 - val_loss: 1.0314 - val_accuracy: 0.6712\n",
            "Epoch 12/30\n",
            "400/400 [==============================] - 8s 21ms/step - loss: 1.0647 - accuracy: 0.6645 - val_loss: 1.0931 - val_accuracy: 0.6581\n",
            "Epoch 13/30\n",
            "400/400 [==============================] - 9s 23ms/step - loss: 1.0591 - accuracy: 0.6657 - val_loss: 1.0728 - val_accuracy: 0.6700\n",
            "Epoch 14/30\n",
            "400/400 [==============================] - 8s 21ms/step - loss: 1.0459 - accuracy: 0.6735 - val_loss: 1.0872 - val_accuracy: 0.6587\n",
            "Epoch 15/30\n",
            "400/400 [==============================] - 8s 21ms/step - loss: 1.0466 - accuracy: 0.6675 - val_loss: 1.0778 - val_accuracy: 0.6681\n",
            "Epoch 16/30\n",
            "400/400 [==============================] - 8s 21ms/step - loss: 1.0429 - accuracy: 0.6748 - val_loss: 1.0720 - val_accuracy: 0.6606\n",
            "Epoch 17/30\n",
            "400/400 [==============================] - 8s 21ms/step - loss: 1.0337 - accuracy: 0.6734 - val_loss: 1.0496 - val_accuracy: 0.6744\n",
            "Epoch 18/30\n",
            "400/400 [==============================] - 8s 21ms/step - loss: 1.0244 - accuracy: 0.6764 - val_loss: 1.0648 - val_accuracy: 0.6625\n",
            "Epoch 19/30\n",
            "400/400 [==============================] - 9s 21ms/step - loss: 1.0339 - accuracy: 0.6728 - val_loss: 1.0228 - val_accuracy: 0.6787\n",
            "Epoch 20/30\n",
            "400/400 [==============================] - 8s 21ms/step - loss: 1.0367 - accuracy: 0.6759 - val_loss: 1.0217 - val_accuracy: 0.6719\n",
            "Epoch 21/30\n",
            "400/400 [==============================] - 8s 21ms/step - loss: 1.0267 - accuracy: 0.6741 - val_loss: 1.1110 - val_accuracy: 0.6519\n",
            "Epoch 22/30\n",
            "400/400 [==============================] - 8s 21ms/step - loss: 1.0242 - accuracy: 0.6714 - val_loss: 1.0406 - val_accuracy: 0.6656\n",
            "Epoch 23/30\n",
            "400/400 [==============================] - 8s 21ms/step - loss: 1.0228 - accuracy: 0.6731 - val_loss: 1.0505 - val_accuracy: 0.6637\n",
            "Epoch 24/30\n",
            "400/400 [==============================] - 8s 21ms/step - loss: 1.0182 - accuracy: 0.6770 - val_loss: 1.0758 - val_accuracy: 0.6744\n",
            "Epoch 25/30\n",
            "400/400 [==============================] - 9s 21ms/step - loss: 1.0241 - accuracy: 0.6777 - val_loss: 1.0150 - val_accuracy: 0.6800\n",
            "Epoch 26/30\n",
            "400/400 [==============================] - 8s 21ms/step - loss: 1.0167 - accuracy: 0.6763 - val_loss: 1.1991 - val_accuracy: 0.6375\n",
            "Epoch 27/30\n",
            "400/400 [==============================] - 8s 21ms/step - loss: 1.0025 - accuracy: 0.6818 - val_loss: 1.0621 - val_accuracy: 0.6681\n",
            "Epoch 28/30\n",
            "400/400 [==============================] - 8s 21ms/step - loss: 1.0103 - accuracy: 0.6831 - val_loss: 1.0226 - val_accuracy: 0.6800\n",
            "Epoch 29/30\n",
            "400/400 [==============================] - 8s 21ms/step - loss: 1.0159 - accuracy: 0.6794 - val_loss: 1.0324 - val_accuracy: 0.6750\n",
            "Epoch 30/30\n",
            "400/400 [==============================] - 8s 21ms/step - loss: 1.0166 - accuracy: 0.6821 - val_loss: 1.0388 - val_accuracy: 0.6687\n"
          ]
        }
      ]
    },
    {
      "cell_type": "markdown",
      "source": [
        "#### Model Performance"
      ],
      "metadata": {
        "id": "T01JlsQxEovl"
      }
    },
    {
      "cell_type": "code",
      "source": [
        "plt.plot(history.history['accuracy'])\n",
        "plt.plot(history.history['val_accuracy'])\n",
        "plt.title('model accuracy')\n",
        "plt.ylabel('accuracy')\n",
        "plt.xlabel('epoch')\n",
        "plt.legend(['train', 'valid'], loc='lower right')\n",
        "plt.show()\n",
        "plt.plot(history.history['loss'])\n",
        "plt.plot(history.history['val_loss'])\n",
        "plt.title('model loss')\n",
        "plt.ylabel('loss')\n",
        "plt.xlabel('epoch')\n",
        "plt.legend(['train', 'valid'], loc='upper right')\n",
        "plt.show()"
      ],
      "metadata": {
        "colab": {
          "base_uri": "https://localhost:8080/",
          "height": 0
        },
        "id": "Qi0z-5fq5R8J",
        "outputId": "4ea6bc6a-557e-485d-d0b2-4918f9ac6ec1"
      },
      "execution_count": 31,
      "outputs": [
        {
          "output_type": "display_data",
          "data": {
            "text/plain": [
              "<Figure size 432x288 with 1 Axes>"
            ],
            "image/png": "[encoded data removed]"
          },
          "metadata": {
            "needs_background": "light"
          }
        },
        {
          "output_type": "display_data",
          "data": {
            "text/plain": [
              "<Figure size 432x288 with 1 Axes>"
            ],
            "image/png": "[encoded data removed]"
          },
          "metadata": {
            "needs_background": "light"
          }
        }
      ]
    },
    {
      "cell_type": "code",
      "source": [
        " model.evaluate(val_generator)"
      ],
      "metadata": {
        "colab": {
          "base_uri": "https://localhost:8080/"
        },
        "id": "mvR9IHpgFmBy",
        "outputId": "b897ef42-d0bd-4dba-d6e6-f7e05ba0bac1"
      },
      "execution_count": 121,
      "outputs": [
        {
          "output_type": "stream",
          "name": "stdout",
          "text": [
            "50/50 [==============================] - 1s 13ms/step - loss: 0.8784 - accuracy: 0.7100\n"
          ]
        },
        {
          "output_type": "execute_result",
          "data": {
            "text/plain": [
              "[0.8783880472183228, 0.7099999785423279]"
            ]
          },
          "metadata": {},
          "execution_count": 121
        }
      ]
    },
    {
      "cell_type": "markdown",
      "source": [
        "### Fine Tuning"
      ],
      "metadata": {
        "id": "c9a4rFu8G4V8"
      }
    },
    {
      "cell_type": "markdown",
      "source": [
        "The steps for fine-tuning are as follows:\n",
        "\n",
        "1. Add our custom network on top of an already-trained base network.\n",
        "2. Freeze the base network.\n",
        "3. Train the part we added.\n",
        "4. Unfreeze some layers in the base network. (Note that you should not unfreeze “batch normalization” layers, which are not relevant here since there are no such layers in VGG16)\n",
        "5. Jointly train both these layers and the part we added."
      ],
      "metadata": {
        "id": "lPE-jmojScmF"
      }
    },
    {
      "cell_type": "code",
      "source": [
        "pre_trained_model.summary()"
      ],
      "metadata": {
        "id": "RwutxKwtG2tE"
      },
      "execution_count": null,
      "outputs": []
    },
    {
      "cell_type": "code",
      "source": [
        "# Freeze all layers until the block_5_ layers\n",
        "pre_trained_model.trainable = True\n",
        "for layer in pre_trained_model.layers[:-4]:\n",
        "    layer.trainable = False\n",
        "    \n",
        "for layer in pre_trained_model.layers[0:]:\n",
        "    print('layer name = ' + layer.name + ', shape = ' + repr(layer.output_shape)\n",
        "            + ', trainable = ' + repr(layer.trainable))  "
      ],
      "metadata": {
        "id": "ZmQIl5OhTQHS"
      },
      "execution_count": null,
      "outputs": []
    },
    {
      "cell_type": "code",
      "source": [
        "model.compile(loss=\"categorical_crossentropy\",\n",
        "    optimizer=keras.optimizers.Adam(learning_rate=1e-5),\n",
        "    metrics=[\"accuracy\"])"
      ],
      "metadata": {
        "id": "pt25mzwJTlU3"
      },
      "execution_count": 124,
      "outputs": []
    },
    {
      "cell_type": "code",
      "source": [
        "model.summary()"
      ],
      "metadata": {
        "id": "Km5SgInjXX6B"
      },
      "execution_count": null,
      "outputs": []
    },
    {
      "cell_type": "code",
      "source": [
        "logdir = os.path.join(\"logs_fine_tuning\", datetime.datetime.now().strftime(\"%Y%m%d-%H%M%S\"))\n",
        "\n",
        "\n",
        "callbacks = [\n",
        "    keras.callbacks.ModelCheckpoint(filepath=\"fine_tuning.keras\", save_best_only=True, monitor=\"val_loss\"),\n",
        "    tf.keras.callbacks.TensorBoard(logdir, histogram_freq=1)\n",
        "]\n",
        "\n",
        "history = model.fit(\n",
        "train_generator,\n",
        "epochs=30,\n",
        "validation_data = val_generator,\n",
        "callbacks = callbacks\n",
        ")"
      ],
      "metadata": {
        "id": "A0Mw5k8lToi4"
      },
      "execution_count": null,
      "outputs": []
    },
    {
      "cell_type": "markdown",
      "source": [
        "### Model Performance - With Fine Tuning"
      ],
      "metadata": {
        "id": "qNWizcz-kbwK"
      }
    },
    {
      "cell_type": "code",
      "source": [
        "plt.plot(history.history['accuracy'])\n",
        "plt.plot(history.history['val_accuracy'])\n",
        "plt.title('model accuracy')\n",
        "plt.ylabel('accuracy')\n",
        "plt.xlabel('epoch')\n",
        "plt.legend(['train', 'valid'], loc='lower right')\n",
        "plt.show()\n",
        "plt.plot(history.history['loss'])\n",
        "plt.plot(history.history['val_loss'])\n",
        "plt.title('model loss')\n",
        "plt.ylabel('loss')\n",
        "plt.xlabel('epoch')\n",
        "plt.legend(['train', 'valid'], loc='upper right')\n",
        "plt.show()"
      ],
      "metadata": {
        "colab": {
          "base_uri": "https://localhost:8080/",
          "height": 573
        },
        "outputId": "cdae342c-a890-4a17-c4d6-23c27f7d2343",
        "id": "qN-asTIJkbwK"
      },
      "execution_count": 127,
      "outputs": [
        {
          "output_type": "display_data",
          "data": {
            "text/plain": [
              "<Figure size 432x288 with 1 Axes>"
            ],
            "image/png": "[encoded data removed]"
          },
          "metadata": {
            "needs_background": "light"
          }
        },
        {
          "output_type": "display_data",
          "data": {
            "text/plain": [
              "<Figure size 432x288 with 1 Axes>"
            ],
            "image/png": "[encoded data removed]"
          },
          "metadata": {
            "needs_background": "light"
          }
        }
      ]
    },
    {
      "cell_type": "code",
      "source": [
        " model.evaluate(val_generator)"
      ],
      "metadata": {
        "colab": {
          "base_uri": "https://localhost:8080/"
        },
        "outputId": "fde2c2db-e0d7-432b-ea63-96a4ac353f35",
        "id": "_rWrGtQNkbwK"
      },
      "execution_count": 128,
      "outputs": [
        {
          "output_type": "stream",
          "name": "stdout",
          "text": [
            "50/50 [==============================] - 1s 12ms/step - loss: 0.9118 - accuracy: 0.7350\n"
          ]
        },
        {
          "output_type": "execute_result",
          "data": {
            "text/plain": [
              "[0.911791980266571, 0.7350000143051147]"
            ]
          },
          "metadata": {},
          "execution_count": 128
        }
      ]
    },
    {
      "cell_type": "code",
      "source": [
        "train_generator.class_indices"
      ],
      "metadata": {
        "colab": {
          "base_uri": "https://localhost:8080/"
        },
        "id": "Pfxrbc_Pwbr2",
        "outputId": "29db55ec-1480-472d-9f07-64ddd07ab28f"
      },
      "execution_count": 129,
      "outputs": [
        {
          "output_type": "execute_result",
          "data": {
            "text/plain": [
              "{'Cell': 0,\n",
              " 'Cell-Multi': 1,\n",
              " 'Cracking': 2,\n",
              " 'Diode': 3,\n",
              " 'Diode-Multi': 4,\n",
              " 'Hot-Spot': 5,\n",
              " 'Hot-Spot-Multi': 6,\n",
              " 'No-Anomaly': 7,\n",
              " 'Offline-Module': 8,\n",
              " 'Shadowing': 9,\n",
              " 'Soiling': 10,\n",
              " 'Vegetation': 11}"
            ]
          },
          "metadata": {},
          "execution_count": 129
        }
      ]
    },
    {
      "cell_type": "code",
      "source": [
        "from sklearn.metrics import confusion_matrix\n",
        "from sklearn.metrics import classification_report\n",
        "import sys\n",
        "\n",
        "x = list(train_generator.class_indices.keys())\n",
        "num_of_test_samples = 1600\n",
        "\n",
        "Y_pred = model.predict_generator(val_generator, num_of_test_samples // batch_size+1)\n",
        "y_pred = np.argmax(Y_pred, axis=1)\n",
        "print()\n",
        "print('Confusion Matrix')\n",
        "print(confusion_matrix(val_generator.classes, y_pred))\n",
        "\n",
        "print()\n",
        "print('Classification Report')\n",
        "target_names = x\n",
        "print(classification_report(val_generator.classes, y_pred, target_names = target_names))"
      ],
      "metadata": {
        "colab": {
          "base_uri": "https://localhost:8080/"
        },
        "id": "vgbRbBLMmF03",
        "outputId": "0779fc8d-671c-433a-c3a0-43e4b2f5ed41"
      },
      "execution_count": 130,
      "outputs": [
        {
          "output_type": "stream",
          "name": "stderr",
          "text": [
            "/usr/local/lib/python3.7/dist-packages/ipykernel_launcher.py:8: UserWarning: `Model.predict_generator` is deprecated and will be removed in a future version. Please use `Model.predict`, which supports generators.\n",
            "  \n"
          ]
        },
        {
          "output_type": "stream",
          "name": "stdout",
          "text": [
            "WARNING:tensorflow:Your input ran out of data; interrupting training. Make sure that your dataset or generator can generate at least `steps_per_epoch * epochs` batches (in this case, 51 batches). You may need to use the repeat() function when building your dataset.\n",
            "\n",
            "Confusion Matrix\n",
            "[[ 21   8   5  12   0   1   1  50   7  10   3  14]\n",
            " [  6  14   3  10   0   0   0  59   5   9   0   7]\n",
            " [ 12   6   5   6   0   0   1  44   8   5   0  11]\n",
            " [ 10  10   6   7   3   0   2  54   4   5   3  13]\n",
            " [  2   2   2   0   0   0   1   9   1   0   0   0]\n",
            " [  3   0   0   5   0   0   0   8   2   1   0   1]\n",
            " [  4   1   2   0   0   1   0   7   1   1   0   1]\n",
            " [ 81  53  34  60   5   7   4 356  45  47   8  77]\n",
            " [  6   4   3   1   0   0   0  34   2   2   1   6]\n",
            " [ 10  10   4   6   0   1   1  45   2   5   1   7]\n",
            " [  2   0   1   1   0   0   0   7   0   2   0   2]\n",
            " [ 12  11   8   7   1   1   0  68  10   8   0  16]]\n",
            "\n",
            "Classification Report\n",
            "                precision    recall  f1-score   support\n",
            "\n",
            "          Cell       0.12      0.16      0.14       132\n",
            "    Cell-Multi       0.12      0.12      0.12       113\n",
            "      Cracking       0.07      0.05      0.06        98\n",
            "         Diode       0.06      0.06      0.06       117\n",
            "   Diode-Multi       0.00      0.00      0.00        17\n",
            "      Hot-Spot       0.00      0.00      0.00        20\n",
            "Hot-Spot-Multi       0.00      0.00      0.00        18\n",
            "    No-Anomaly       0.48      0.46      0.47       777\n",
            "Offline-Module       0.02      0.03      0.03        59\n",
            "     Shadowing       0.05      0.05      0.05        92\n",
            "       Soiling       0.00      0.00      0.00        15\n",
            "    Vegetation       0.10      0.11      0.11       142\n",
            "\n",
            "      accuracy                           0.27      1600\n",
            "     macro avg       0.09      0.09      0.09      1600\n",
            "  weighted avg       0.27      0.27      0.27      1600\n",
            "\n"
          ]
        }
      ]
    },
    {
      "cell_type": "code",
      "source": [
        "cm = confusion_matrix(val_generator.classes, y_pred)\n",
        "fig, ax = plt.subplots()\n",
        "im = ax.imshow(cm, interpolation='nearest', cmap=plt.cm.Blues)\n",
        "title = 'Confusion matrix'\n",
        "ax.figure.colorbar(im, ax=ax)\n",
        "ax.set(xticks=np.arange(cm.shape[1]),\n",
        "    yticks=np.arange(cm.shape[0]),\n",
        "    xticklabels=target_names, yticklabels=target_names,\n",
        "    title=title,\n",
        "    ylabel='True label',\n",
        "    xlabel='Predicted label')\n",
        "plt.setp(ax.get_xticklabels(), rotation=45, ha=\"right\",\n",
        "             rotation_mode=\"anchor\")\n",
        "np.set_printoptions(precision=2)\n",
        "plt.show()"
      ],
      "metadata": {
        "colab": {
          "base_uri": "https://localhost:8080/",
          "height": 344
        },
        "id": "0bkYGGdI1DAx",
        "outputId": "9c30902e-25a6-415a-9d99-ef01edbf9f17"
      },
      "execution_count": 131,
      "outputs": [
        {
          "output_type": "display_data",
          "data": {
            "text/plain": [
              "<Figure size 432x288 with 2 Axes>"
            ],
            "image/png": "[encoded data removed]"
          },
          "metadata": {
            "needs_background": "light"
          }
        }
      ]
    },
    {
      "cell_type": "code",
      "source": [
        "x = list(train_generator.class_indices.keys())\n",
        "y = train_generator.classes\n",
        "plt.hist(y, bins = 12)\n",
        "plt.show()\n",
        "y = val_generator.classes\n",
        "plt.hist(y, bins = 12)\n",
        "plt.show()"
      ],
      "metadata": {
        "colab": {
          "base_uri": "https://localhost:8080/",
          "height": 513
        },
        "id": "KPneZboL3G_O",
        "outputId": "5aec156e-2da7-4620-81c8-b9bb5e9570d3"
      },
      "execution_count": 53,
      "outputs": [
        {
          "output_type": "display_data",
          "data": {
            "text/plain": [
              "<Figure size 432x288 with 1 Axes>"
            ],
            "image/png": "[encoded data removed]"
          },
          "metadata": {
            "needs_background": "light"
          }
        },
        {
          "output_type": "display_data",
          "data": {
            "text/plain": [
              "<Figure size 432x288 with 1 Axes>"
            ],
            "image/png": "[encoded data removed]"
          },
          "metadata": {
            "needs_background": "light"
          }
        }
      ]
    },
    {
      "cell_type": "markdown",
      "source": [
        "## Model - With Imbalanced Data Handling"
      ],
      "metadata": {
        "id": "Ah8PsGEIGBQg"
      }
    },
    {
      "cell_type": "code",
      "source": [
        "train_classes = np.unique(train_generator.classes)\n",
        "print(train_classes)\n",
        "train_generator.classes\n",
        "print(train_generator.classes)"
      ],
      "metadata": {
        "colab": {
          "base_uri": "https://localhost:8080/"
        },
        "id": "xaM6-UqmHA7q",
        "outputId": "24bcfe9a-d05d-430e-e0f0-5b06717ec283"
      },
      "execution_count": 81,
      "outputs": [
        {
          "output_type": "stream",
          "name": "stdout",
          "text": [
            "[ 0  1  2  3  4  5  6  7  8  9 10 11]\n",
            "[7, 9, 7, 0, 9, 7, 7, 1, 1, 11, 6, 11, 7, 10, 2, 7, 3, 7, 7, 1, 7, 0, 11, 7, 5, 7, 0, 7, 7, 7, 7, 9, 7, 8, 9, 7, 9, 9, 7, 7, 7, 11, 1, 7, 7, 7, 0, 7, 4, 3, 7, 7, 7, 7, 8, 11, 1, 3, 0, 7, 11, 7, 0, 7, 7, 1, 0, 11, 0, 1, 7, 7, 7, 7, 1, 7, 7, 7, 8, 7, 9, 7, 8, 7, 7, 7, 11, 7, 1, 10, 7, 7, 7, 7, 0, 0, 7, 6, 2, 7, 7, 7, 3, 7, 7, 3, 7, 7, 3, 7, 9, 7, 7, 7, 0, 1, 8, 7, 11, 10, 11, 3, 3, 7, 2, 3, 7, 7, 7, 7, 8, 7, 7, 7, 3, 8, 11, 7, 0, 7, 7, 1, 11, 7, 7, 0, 8, 7, 4, 7, 0, 0, 8, 7, 7, 7, 7, 0, 3, 6, 7, 7, 11, 5, 11, 9, 11, 7, 7, 7, 2, 1, 11, 7, 2, 10, 7, 7, 11, 11, 7, 7, 0, 2, 3, 7, 1, 7, 7, 0, 7, 3, 7, 7, 7, 7, 0, 11, 11, 11, 7, 7, 7, 7, 8, 0, 7, 9, 0, 7, 7, 11, 0, 7, 7, 7, 2, 9, 7, 7, 7, 10, 7, 11, 7, 1, 7, 7, 7, 7, 6, 7, 0, 7, 1, 10, 9, 7, 0, 7, 8, 1, 7, 7, 3, 7, 7, 7, 3, 11, 11, 11, 0, 3, 7, 7, 7, 7, 0, 7, 3, 7, 7, 11, 7, 7, 7, 11, 2, 7, 7, 0, 7, 2, 7, 7, 5, 1, 1, 0, 1, 1, 1, 11, 7, 7, 7, 7, 8, 7, 1, 7, 7, 7, 7, 2, 2, 7, 7, 10, 1, 0, 7, 1, 9, 7, 11, 1, 0, 9, 7, 7, 11, 1, 7, 7, 3, 0, 7, 7, 11, 8, 7, 0, 2, 3, 7, 8, 0, 7, 1, 7, 7, 7, 7, 0, 7, 11, 9, 7, 11, 1, 3, 4, 7, 2, 3, 7, 5, 7, 3, 7, 7, 7, 0, 7, 11, 0, 7, 7, 7, 0, 0, 7, 9, 7, 7, 0, 9, 11, 5, 4, 3, 7, 7, 9, 3, 1, 7, 9, 6, 7, 0, 7, 11, 7, 7, 1, 7, 7, 7, 0, 1, 3, 0, 11, 9, 7, 7, 7, 7, 7, 8, 7, 7, 0, 5, 3, 11, 3, 7, 9, 7, 7, 3, 0, 7, 5, 7, 7, 7, 6, 7, 7, 2, 11, 9, 11, 7, 7, 7, 8, 7, 9, 3, 7, 7, 1, 7, 7, 0, 11, 11, 7, 9, 11, 7, 7, 1, 1, 7, 9, 0, 6, 7, 7, 11, 2, 9, 7, 7, 7, 8, 7, 0, 11, 3, 7, 7, 11, 6, 0, 7, 7, 11, 3, 9, 7, 7, 7, 7, 7, 1, 0, 7, 7, 3, 3, 1, 2, 2, 8, 3, 1, 7, 4, 8, 3, 7, 7, 8, 10, 7, 3, 5, 7, 1, 7, 2, 7, 1, 9, 7, 4, 8, 7, 3, 1, 11, 7, 4, 3, 7, 3, 7, 0, 8, 7, 0, 2, 7, 1, 0, 3, 6, 7, 4, 7, 8, 7, 2, 1, 3, 7, 7, 7, 7, 7, 0, 7, 7, 10, 0, 2, 11, 7, 2, 1, 7, 3, 11, 7, 9, 3, 0, 0, 7, 0, 11, 11, 7, 0, 7, 7, 11, 8, 2, 3, 3, 4, 1, 1, 8, 9, 7, 7, 7, 3, 9, 10, 1, 7, 7, 6, 3, 3, 7, 7, 6, 8, 11, 7, 7, 7, 7, 7, 7, 7, 2, 1, 1, 7, 11, 4, 7, 7, 7, 7, 7, 9, 7, 1, 7, 7, 7, 0, 7, 7, 3, 7, 0, 7, 7, 7, 2, 7, 7, 7, 2, 0, 7, 7, 7, 7, 7, 3, 7, 7, 3, 7, 7, 11, 2, 0, 2, 7, 11, 7, 7, 0, 1, 7, 7, 11, 1, 11, 7, 0, 7, 10, 6, 7, 7, 0, 7, 8, 7, 0, 1, 7, 11, 2, 7, 7, 11, 0, 7, 7, 1, 0, 1, 7, 7, 7, 7, 7, 7, 1, 0, 3, 7, 7, 3, 7, 3, 3, 7, 0, 1, 2, 7, 7, 7, 2, 7, 7, 9, 7, 2, 9, 7, 0, 3, 0, 2, 11, 11, 7, 7, 7, 7, 11, 2, 7, 7, 8, 2, 5, 1, 3, 7, 3, 0, 0, 3, 7, 3, 2, 7, 0, 7, 7, 3, 7, 2, 7, 9, 2, 9, 2, 0, 7, 3, 7, 10, 7, 7, 3, 11, 7, 7, 7, 1, 0, 2, 2, 7, 7, 11, 7, 1, 7, 1, 7, 7, 2, 7, 7, 7, 7, 0, 2, 7, 7, 3, 3, 7, 7, 7, 3, 1, 7, 11, 2, 7, 7, 1, 7, 2, 7, 2, 7, 0, 7, 7, 0, 7, 7, 7, 0, 11, 10, 7, 7, 7, 7, 0, 11, 0, 7, 7, 7, 7, 7, 7, 11, 1, 3, 0, 11, 7, 7, 7, 7, 7, 7, 1, 3, 3, 9, 6, 7, 7, 7, 7, 7, 2, 11, 1, 1, 0, 7, 3, 8, 10, 7, 2, 2, 9, 7, 3, 7, 11, 7, 7, 2, 7, 8, 7, 1, 7, 1, 3, 2, 7, 7, 7, 7, 7, 0, 7, 2, 7, 7, 3, 3, 11, 7, 7, 7, 7, 7, 3, 7, 0, 11, 2, 1, 9, 7, 7, 7, 3, 7, 7, 5, 7, 7, 8, 3, 7, 8, 7, 7, 0, 2, 9, 7, 11, 3, 7, 1, 1, 7, 7, 1, 7, 7, 2, 7, 8, 7, 11, 7, 7, 3, 6, 7, 7, 0, 9, 3, 0, 7, 7, 7, 0, 0, 10, 7, 7, 9, 0, 4, 7, 7, 2, 3, 11, 0, 1, 7, 7, 7, 7, 9, 10, 7, 7, 11, 7, 7, 3, 7, 9, 7, 1, 7, 1, 7, 7, 7, 7, 1, 7, 3, 3, 7, 0, 0, 7, 7, 0, 3, 0, 7, 11, 5, 7, 7, 7, 1, 7, 7, 7, 7, 7, 5, 2, 11, 7, 3, 7, 7, 7, 7, 8, 0, 6, 7, 6, 8, 11, 7, 11, 1, 10, 8, 7, 7, 7, 3, 7, 7, 7, 7, 7, 11, 8, 7, 0, 7, 1, 7, 7, 7, 7, 7, 1, 1, 7, 7, 0, 9, 7, 7, 7, 7, 7, 7, 9, 7, 7, 7, 1, 7, 7, 8, 7, 1, 7, 7, 7, 9, 7, 10, 1, 8, 7, 0, 7, 8, 11, 1, 7, 2, 9, 7, 3, 1, 7, 7, 0, 1, 7, 7, 3, 7, 7, 7, 7, 7, 1, 0, 7, 7, 8, 2, 1, 7, 7, 11, 7, 10, 7, 7, 3, 9, 10, 7, 0, 0, 7, 7, 7, 7, 2, 2, 7, 11, 0, 11, 8, 7, 9, 2, 7, 11, 3, 7, 0, 9, 7, 7, 0, 7, 11, 7, 7, 7, 6, 11, 2, 7, 3, 1, 1, 7, 7, 3, 7, 5, 7, 3, 7, 7, 7, 7, 1, 0, 7, 7, 1, 10, 2, 7, 3, 0, 7, 7, 9, 7, 7, 7, 8, 1, 7, 7, 9, 7, 7, 7, 0, 7, 7, 9, 7, 7, 7, 8, 7, 2, 0, 0, 9, 3, 7, 7, 11, 7, 9, 7, 7, 7, 11, 7, 7, 2, 0, 7, 3, 7, 7, 0, 7, 0, 11, 1, 0, 7, 7, 7, 11, 2, 7, 7, 1, 7, 7, 3, 7, 0, 7, 7, 11, 7, 7, 11, 0, 0, 8, 7, 11, 3, 7, 7, 7, 1, 8, 7, 6, 3, 0, 7, 2, 3, 7, 9, 1, 1, 7, 3, 3, 7, 0, 0, 2, 11, 7, 7, 7, 3, 7, 7, 7, 7, 9, 11, 7, 8, 0, 7, 9, 7, 5, 3, 7, 0, 7, 7, 7, 7, 9, 7, 7, 11, 7, 7, 3, 7, 7, 7, 7, 7, 7, 7, 0, 7, 3, 7, 7, 7, 7, 2, 7, 11, 8, 7, 7, 3, 7, 0, 3, 0, 7, 7, 11, 7, 7, 0, 11, 0, 7, 9, 7, 7, 3, 11, 6, 7, 7, 0, 0, 7, 7, 9, 7, 7, 11, 7, 2, 0, 3, 0, 7, 0, 0, 3, 10, 8, 7, 7, 8, 7, 1, 7, 6, 1, 7, 0, 7, 1, 1, 7, 7, 7, 9, 7, 0, 7, 1, 7, 7, 9, 3, 9, 7, 7, 7, 7, 0, 7, 7, 7, 1, 11, 11, 0, 7, 7, 11, 7, 3, 7, 7, 11, 1, 7, 7, 7, 3, 9, 7, 7, 7, 8, 7, 0, 9, 9, 7, 3, 7, 2, 9, 11, 7, 6, 4, 7, 7, 7, 0, 7, 7, 11, 3, 8, 0, 3, 2, 7, 10, 7, 7, 3, 9, 7, 7, 7, 9, 7, 7, 11, 1, 7, 9, 7, 2, 9, 9, 8, 7, 7, 7, 11, 7, 7, 0, 0, 7, 9, 7, 7, 7, 7, 7, 3, 7, 7, 0, 9, 7, 1, 0, 10, 11, 7, 7, 7, 0, 3, 7, 9, 7, 7, 1, 7, 3, 3, 7, 3, 2, 6, 6, 8, 8, 7, 1, 7, 11, 3, 3, 7, 11, 3, 0, 9, 1, 8, 7, 0, 7, 7, 7, 7, 7, 2, 7, 7, 7, 7, 9, 9, 7, 7, 8, 11, 1, 7, 7, 1, 3, 4, 7, 7, 11, 7, 3, 11, 7, 11, 0, 1, 9, 7, 7, 9, 3, 7, 5, 7, 7, 7, 7, 7, 9, 1, 7, 7, 7, 9, 7, 2, 0, 7, 7, 0, 7, 0, 1, 7, 7, 7, 7, 7, 7, 7, 7, 7, 3, 8, 2, 7, 1, 7, 7, 7, 7, 2, 3, 7, 7, 0, 11, 0, 7, 7, 7, 9, 7, 3, 2, 7, 0, 7, 7, 7, 7, 7, 0, 7, 1, 7, 1, 7, 7, 7, 9, 10, 0, 7, 4, 11, 1, 7, 7, 0, 3, 7, 0, 7, 9, 0, 7, 2, 7, 7, 3, 7, 9, 7, 7, 7, 7, 7, 0, 7, 0, 7, 9, 7, 7, 0, 2, 7, 0, 1, 11, 7, 1, 7, 7, 3, 11, 9, 7, 7, 7, 7, 7, 11, 11, 0, 0, 2, 7, 7, 3, 7, 7, 7, 11, 3, 7, 5, 7, 7, 3, 7, 1, 7, 0, 11, 1, 2, 7, 7, 0, 0, 7, 7, 7, 7, 7, 3, 11, 7, 7, 7, 7, 7, 7, 7, 8, 1, 7, 9, 7, 9, 7, 9, 7, 2, 6, 7, 7, 7, 7, 7, 7, 7, 11, 6, 7, 7, 1, 0, 7, 7, 7, 7, 3, 7, 7, 3, 7, 7, 9, 7, 0, 0, 3, 7, 2, 1, 2, 6, 0, 7, 7, 4, 0, 1, 7, 2, 7, 0, 7, 7, 7, 7, 7, 7, 7, 0, 1, 7, 3, 7, 11, 0, 7, 11, 1, 0, 3, 11, 7, 7, 7, 1, 3, 7, 7, 7, 7, 3, 8, 8, 1, 7, 7, 7, 7, 9, 7, 0, 5, 7, 11, 3, 7, 7, 0, 7, 7, 1, 0, 7, 7, 8, 7, 11, 7, 9, 7, 7, 3, 7, 7, 2, 3, 9, 7, 7, 7, 1, 1, 7, 7, 2, 3, 7, 7, 7, 8, 3, 11, 0, 6, 7, 11, 3, 3, 11, 7, 7, 3, 2, 7, 7, 8, 7, 11, 0, 3, 2, 7, 11, 7, 7, 11, 7, 7, 7, 1, 2, 1, 11, 3, 3, 7, 0, 8, 0, 7, 11, 3, 4, 3, 1, 9, 1, 11, 10, 7, 7, 8, 7, 1, 7, 11, 7, 7, 7, 9, 11, 1, 3, 7, 11, 7, 7, 11, 0, 11, 7, 3, 7, 7, 7, 3, 9, 7, 0, 7, 7, 7, 11, 7, 0, 0, 9, 2, 7, 7, 2, 7, 11, 7, 7, 7, 2, 9, 1, 6, 8, 7, 7, 0, 7, 3, 7, 7, 2, 7, 1, 7, 1, 9, 9, 7, 7, 11, 7, 7, 7, 7, 7, 7, 7, 0, 9, 3, 6, 7, 9, 3, 1, 11, 2, 0, 7, 8, 9, 11, 3, 7, 7, 2, 5, 11, 5, 1, 9, 7, 5, 3, 10, 0, 7, 0, 7, 7, 7, 0, 11, 7, 11, 0, 0, 11, 1, 7, 7, 6, 6, 7, 4, 3, 9, 7, 7, 7, 1, 7, 7, 3, 7, 11, 7, 11, 7, 7, 7, 7, 8, 3, 7, 2, 11, 7, 7, 7, 7, 9, 1, 7, 2, 7, 9, 7, 11, 7, 0, 11, 8, 7, 7, 11, 3, 7, 8, 7, 11, 7, 2, 7, 7, 7, 7, 7, 3, 11, 7, 7, 7, 7, 4, 11, 11, 7, 7, 7, 7, 7, 9, 7, 0, 3, 7, 1, 7, 9, 1, 8, 2, 7, 11, 1, 3, 7, 3, 7, 9, 7, 0, 7, 11, 7, 3, 1, 7, 1, 0, 3, 11, 7, 7, 7, 0, 0, 8, 1, 7, 7, 7, 7, 7, 7, 7, 7, 2, 7, 7, 11, 10, 7, 11, 7, 7, 7, 5, 0, 10, 1, 7, 1, 7, 3, 7, 7, 11, 7, 0, 3, 0, 0, 7, 7, 3, 1, 11, 9, 7, 7, 7, 7, 7, 11, 8, 7, 11, 9, 1, 11, 7, 9, 7, 3, 0, 7, 0, 11, 7, 7, 0, 3, 7, 7, 8, 7, 7, 7, 7, 4, 0, 7, 7, 2, 7, 7, 0, 7, 7, 7, 7, 7, 7, 9, 8, 7, 7, 3, 11, 0, 7, 0, 7, 2, 1, 7, 11, 7, 7, 7, 7, 7, 11, 11, 0, 0, 7, 7, 7, 7, 0, 0, 7, 9, 9, 7, 8, 7, 7, 7, 7, 7, 7, 7, 0, 7, 7, 7, 7, 11, 8, 1, 7, 7, 0, 0, 9, 3, 7, 7, 7, 7, 9, 7, 7, 7, 7, 3, 7, 7, 7, 0, 7, 7, 7, 8, 7, 7, 3, 7, 7, 7, 0, 0, 3, 7, 8, 2, 11, 7, 7, 7, 7, 7, 10, 0, 7, 1, 11, 9, 7, 7, 1, 7, 7, 7, 11, 7, 11, 0, 7, 7, 1, 3, 0, 3, 11, 11, 0, 8, 7, 7, 7, 7, 11, 7, 1, 7, 7, 7, 7, 11, 7, 11, 7, 7, 1, 7, 0, 7, 2, 7, 7, 7, 9, 1, 0, 1, 7, 3, 7, 11, 1, 0, 7, 7, 7, 7, 0, 7, 8, 1, 8, 7, 11, 7, 7, 7, 7, 7, 7, 7, 11, 11, 7, 8, 7, 7, 7, 3, 0, 11, 7, 11, 7, 11, 7, 1, 7, 7, 3, 7, 7, 11, 9, 7, 7, 7, 8, 1, 6, 7, 7, 7, 1, 8, 7, 7, 3, 0, 7, 2, 7, 7, 8, 7, 7, 3, 7, 8, 11, 9, 7, 0, 7, 1, 0, 7, 7, 9, 7, 1, 0, 11, 0, 7, 11, 9, 7, 7, 7, 0, 9, 11, 7, 3, 9, 7, 7, 0, 7, 11, 11, 7, 7, 3, 7, 7, 1, 0, 9, 0, 7, 7, 7, 7, 1, 7, 0, 8, 7, 7, 7, 1, 7, 7, 11, 6, 1, 0, 7, 7, 7, 7, 0, 9, 7, 7, 6, 7, 8, 7, 2, 7, 11, 0, 8, 0, 7, 7, 0, 11, 7, 8, 7, 9, 2, 7, 5, 3, 11, 7, 3, 9, 11, 3, 7, 7, 3, 7, 7, 5, 7, 3, 4, 7, 0, 7, 8, 2, 7, 7, 0, 7, 1, 7, 7, 3, 3, 0, 7, 7, 2, 7, 7, 1, 11, 7, 7, 9, 7, 0, 0, 7, 11, 3, 7, 7, 7, 11, 0, 3, 7, 7, 11, 2, 9, 7, 7, 7, 7, 7, 2, 7, 6, 7, 7, 3, 7, 9, 11, 5, 7, 7, 7, 7, 7, 3, 2, 0, 11, 3, 7, 7, 7, 0, 7, 0, 7, 11, 6, 9, 0, 8, 11, 0, 7, 11, 7, 7, 7, 2, 8, 10, 0, 11, 0, 7, 7, 11, 1, 7, 0, 7, 2, 0, 7, 11, 7, 9, 7, 3, 3, 2, 2, 7, 0, 2, 7, 7, 7, 7, 7, 0, 7, 3, 7, 7, 7, 8, 0, 2, 7, 7, 7, 7, 8, 1, 7, 7, 1, 11, 7, 7, 0, 7, 7, 4, 7, 11, 4, 0, 7, 7, 7, 6, 3, 7, 1, 7, 5, 8, 7, 7, 7, 7, 7, 7, 7, 7, 7, 0, 7, 8, 1, 7, 7, 2, 7, 7, 9, 7, 1, 7, 3, 7, 3, 3, 3, 7, 7, 7, 11, 11, 11, 7, 7, 7, 7, 5, 11, 7, 9, 11, 7, 7, 1, 11, 11, 7, 0, 1, 7, 7, 3, 4, 0, 3, 0, 11, 0, 7, 11, 7, 3, 9, 0, 9, 7, 7, 0, 7, 7, 9, 7, 7, 7, 7, 7, 11, 7, 9, 7, 9, 3, 7, 7, 7, 11, 7, 7, 11, 3, 7, 7, 7, 7, 3, 9, 2, 7, 7, 9, 3, 7, 7, 1, 8, 7, 7, 7, 1, 9, 7, 11, 9, 0, 0, 11, 7, 7, 0, 7, 7, 1, 7, 3, 2, 7, 11, 0, 0, 7, 7, 7, 7, 7, 3, 7, 9, 7, 11, 11, 7, 2, 2, 11, 7, 1, 7, 7, 7, 0, 7, 11, 7, 7, 3, 11, 7, 0, 1, 3, 3, 7, 0, 1, 0, 7, 7, 1, 7, 0, 3, 7, 9, 7, 0, 8, 11, 0, 0, 7, 8, 0, 7, 7, 9, 3, 7, 7, 3, 2, 7, 0, 7, 7, 7, 11, 7, 7, 7, 1, 7, 9, 7, 7, 0, 7, 7, 2, 11, 7, 4, 7, 7, 2, 0, 7, 10, 8, 11, 9, 3, 2, 7, 7, 7, 7, 7, 2, 3, 10, 7, 7, 7, 7, 1, 11, 11, 2, 1, 3, 7, 7, 7, 9, 7, 9, 7, 1, 7, 8, 7, 0, 7, 7, 7, 7, 7, 7, 10, 7, 7, 7, 6, 7, 7, 3, 10, 7, 0, 7, 7, 8, 7, 1, 7, 11, 7, 11, 7, 7, 7, 7, 7, 3, 1, 7, 8, 11, 7, 7, 7, 1, 11, 10, 9, 2, 2, 8, 11, 8, 7, 0, 7, 2, 7, 8, 6, 0, 1, 7, 7, 7, 7, 8, 7, 7, 2, 7, 11, 2, 7, 5, 6, 7, 7, 7, 0, 9, 7, 2, 3, 7, 7, 3, 7, 7, 7, 7, 1, 11, 3, 9, 7, 7, 3, 7, 7, 7, 7, 7, 7, 7, 7, 0, 3, 11, 7, 11, 1, 7, 7, 7, 11, 1, 7, 0, 8, 1, 3, 3, 7, 7, 9, 7, 7, 7, 7, 2, 8, 7, 7, 7, 7, 0, 7, 0, 5, 7, 3, 7, 7, 1, 7, 0, 7, 7, 9, 7, 3, 0, 3, 7, 8, 7, 3, 7, 1, 7, 1, 7, 0, 7, 3, 7, 7, 7, 5, 1, 5, 9, 7, 0, 9, 3, 3, 11, 3, 9, 7, 0, 7, 1, 7, 7, 3, 7, 7, 7, 7, 0, 1, 1, 7, 7, 7, 7, 7, 2, 0, 7, 7, 11, 7, 7, 0, 7, 0, 7, 7, 7, 5, 7, 11, 1, 7, 1, 3, 7, 2, 7, 7, 7, 8, 7, 7, 8, 1, 11, 0, 1, 7, 7, 7, 7, 1, 7, 1, 7, 2, 11, 7, 7, 3, 7, 7, 3, 2, 7, 5, 2, 1, 7, 7, 1, 1, 9, 8, 2, 7, 3, 7, 0, 11, 0, 7, 8, 3, 7, 3, 7, 7, 9, 7, 7, 11, 7, 3, 7, 1, 11, 7, 7, 7, 7, 0, 7, 7, 3, 7, 7, 7, 0, 7, 7, 7, 7, 4, 7, 8, 7, 7, 7, 7, 7, 2, 7, 7, 2, 7, 7, 2, 7, 9, 7, 1, 7, 0, 7, 7, 3, 0, 7, 7, 0, 9, 7, 4, 3, 7, 10, 9, 7, 7, 0, 9, 8, 7, 3, 7, 7, 7, 7, 7, 8, 3, 9, 7, 7, 7, 7, 0, 7, 7, 7, 11, 4, 7, 9, 11, 7, 7, 7, 0, 7, 3, 7, 7, 7, 7, 1, 8, 7, 7, 5, 7, 0, 7, 1, 7, 11, 3, 4, 11, 0, 7, 7, 1, 7, 0, 6, 3, 8, 7, 2, 11, 7, 0, 0, 8, 7, 7, 3, 7, 7, 1, 11, 11, 0, 1, 5, 7, 2, 7, 9, 11, 7, 7, 11, 7, 7, 7, 7, 7, 9, 7, 7, 3, 5, 7, 0, 3, 3, 0, 3, 7, 7, 9, 7, 11, 0, 1, 3, 11, 0, 8, 7, 7, 0, 0, 3, 9, 3, 7, 11, 2, 1, 7, 7, 7, 1, 7, 3, 7, 7, 9, 7, 8, 11, 7, 7, 3, 0, 9, 7, 7, 8, 7, 11, 8, 0, 2, 2, 7, 2, 0, 7, 11, 11, 2, 7, 2, 2, 7, 0, 0, 2, 7, 7, 10, 4, 1, 7, 7, 11, 7, 0, 0, 7, 7, 9, 0, 7, 0, 7, 0, 0, 11, 0, 11, 3, 7, 11, 7, 0, 7, 7, 3, 6, 7, 7, 9, 7, 0, 7, 7, 9, 7, 7, 11, 7, 11, 7, 10, 7, 7, 7, 3, 7, 3, 7, 11, 7, 9, 7, 7, 7, 7, 6, 7, 3, 3, 3, 7, 0, 7, 9, 7, 3, 2, 7, 7, 0, 7, 3, 7, 2, 11, 7, 7, 7, 7, 7, 9, 11, 0, 7, 7, 7, 7, 8, 7, 9, 6, 11, 7, 7, 7, 11, 7, 1, 7, 3, 7, 1, 9, 7, 7, 7, 7, 7, 9, 7, 7, 8, 7, 7, 0, 7, 9, 1, 7, 7, 3, 7, 7, 0, 8, 3, 7, 2, 7, 0, 7, 7, 7, 7, 11, 9, 7, 7, 11, 9, 7, 11, 7, 7, 9, 0, 3, 7, 7, 6, 7, 7, 0, 1, 7, 9, 1, 7, 1, 7, 3, 3, 7, 2, 11, 7, 5, 7, 7, 9, 1, 7, 7, 5, 9, 3, 9, 3, 7, 0, 7, 11, 11, 7, 2, 1, 7, 7, 3, 2, 7, 7, 7, 3, 7, 1, 7, 7, 3, 4, 0, 5, 1, 2, 7, 3, 1, 0, 7, 11, 8, 3, 0, 7, 7, 11, 7, 2, 0, 7, 9, 3, 0, 3, 8, 3, 7, 5, 1, 0, 7, 2, 7, 7, 0, 7, 0, 2, 7, 3, 1, 7, 0, 7, 9, 3, 0, 7, 7, 11, 7, 3, 7, 7, 7, 1, 3, 7, 6, 11, 1, 9, 9, 9, 7, 7, 1, 0, 7, 3, 7, 7, 2, 7, 11, 9, 7, 7, 7, 3, 3, 2, 11, 3, 7, 8, 3, 0, 0, 5, 11, 0, 7, 7, 7, 7, 0, 7, 7, 9, 7, 9, 1, 7, 8, 7, 7, 7, 7, 0, 3, 9, 11, 9, 2, 1, 7, 8, 3, 2, 7, 1, 11, 6, 7, 7, 9, 7, 7, 11, 9, 7, 3, 3, 3, 3, 7, 5, 7, 0, 2, 7, 8, 9, 3, 7, 11, 8, 3, 7, 0, 7, 7, 7, 3, 7, 0, 3, 7, 9, 3, 2, 4, 7, 7, 7, 7, 7, 9, 8, 8, 7, 1, 7, 7, 7, 7, 1, 2, 7, 7, 7, 7, 7, 5, 10, 1, 7, 11, 11, 7, 1, 7, 9, 7, 10, 4, 3, 3, 7, 2, 7, 7, 0, 7, 7, 7, 7, 2, 7, 1, 7, 7, 7, 3, 7, 8, 1, 3, 1, 8, 2, 9, 9, 7, 7, 11, 3, 7, 0, 11, 0, 7, 9, 3, 7, 11, 7, 7, 11, 0, 3, 7, 7, 5, 11, 7, 7, 7, 7, 7, 7, 1, 8, 11, 7, 7, 7, 3, 7, 7, 0, 7, 0, 3, 7, 7, 7, 9, 7, 10, 1, 7, 7, 11, 9, 7, 7, 7, 7, 0, 7, 7, 2, 0, 0, 7, 7, 1, 3, 0, 9, 11, 3, 2, 7, 2, 9, 3, 3, 7, 7, 7, 9, 7, 7, 7, 7, 7, 2, 11, 11, 7, 7, 7, 3, 5, 1, 9, 7, 2, 7, 0, 7, 9, 1, 11, 7, 0, 7, 7, 0, 7, 7, 3, 7, 0, 3, 7, 7, 7, 7, 7, 2, 7, 9, 2, 9, 7, 7, 3, 1, 7, 2, 9, 0, 2, 7, 7, 7, 7, 2, 7, 7, 7, 5, 7, 7, 7, 7, 7, 1, 7, 0, 7, 10, 11, 7, 7, 11, 6, 7, 9, 1, 11, 7, 7, 8, 3, 7, 2, 7, 3, 7, 3, 7, 7, 7, 7, 4, 11, 7, 9, 2, 0, 7, 7, 11, 0, 7, 2, 9, 0, 0, 10, 8, 7, 1, 7, 7, 7, 11, 7, 0, 11, 7, 9, 1, 4, 7, 2, 7, 2, 3, 7, 11, 9, 2, 7, 7, 1, 7, 7, 7, 0, 11, 10, 7, 7, 11, 2, 7, 3, 7, 7, 2, 9, 7, 9, 7, 3, 7, 11, 3, 3, 7, 7, 10, 3, 0, 7, 7, 8, 3, 9, 11, 9, 0, 7, 6, 11, 8, 10, 1, 3, 7, 11, 7, 7, 7, 9, 2, 7, 7, 11, 8, 1, 7, 6, 9, 7, 0, 3, 3, 3, 0, 7, 7, 7, 1, 7, 3, 2, 7, 7, 7, 7, 9, 7, 2, 7, 7, 8, 3, 7, 10, 0, 7, 1, 7, 0, 7, 3, 7, 9, 7, 1, 0, 7, 7, 1, 7, 7, 7, 11, 11, 4, 0, 9, 3, 7, 7, 7, 7, 7, 7, 7, 11, 3, 9, 7, 4, 2, 3, 11, 3, 9, 7, 7, 1, 7, 1, 7, 7, 7, 0, 3, 7, 9, 7, 7, 0, 7, 3, 10, 7, 7, 0, 7, 9, 0, 7, 11, 9, 3, 7, 7, 7, 7, 7, 9, 8, 6, 7, 8, 7, 7, 11, 6, 0, 7, 7, 9, 7, 7, 7, 8, 7, 0, 8, 8, 11, 7, 7, 7, 7, 7, 7, 7, 7, 7, 11, 3, 7, 9, 6, 0, 7, 7, 7, 7, 7, 0, 7, 7, 3, 7, 7, 11, 9, 11, 7, 7, 3, 7, 11, 7, 9, 3, 8, 6, 7, 7, 7, 11, 7, 7, 7, 7, 7, 7, 7, 11, 7, 8, 11, 7, 8, 0, 5, 8, 7, 6, 7, 7, 7, 11, 0, 7, 11, 11, 4, 11, 7, 7, 9, 7, 7, 7, 7, 7, 7, 11, 7, 7, 7, 7, 4, 3, 7, 0, 7, 0, 1, 11, 1, 10, 1, 2, 0, 7, 0, 1, 1, 7, 0, 11, 7, 1, 7, 2, 3, 7, 7, 7, 7, 11, 1, 0, 7, 3, 3, 7, 7, 7, 1, 7, 11, 7, 7, 7, 7, 9, 2, 7, 5, 7, 0, 5, 11, 7, 11, 0, 7, 7, 5, 11, 3, 7, 7, 7, 7, 0, 7, 7, 11, 7, 11, 7, 4, 7, 9, 7, 7, 7, 11, 7, 7, 7, 7, 11, 2, 7, 2, 11, 7, 7, 7, 7, 7, 7, 2, 7, 1, 7, 4, 7, 7, 7, 7, 9, 2, 11, 7, 7, 0, 7, 7, 8, 7, 7, 7, 11, 0, 7, 7, 8, 7, 8, 7, 0, 1, 1, 8, 2, 7, 7, 7, 8, 1, 7, 8, 11, 8, 1, 2, 7, 3, 0, 1, 2, 3, 1, 0, 9, 5, 0, 0, 5, 7, 11, 1, 7, 2, 7, 3, 0, 7, 7, 7, 11, 3, 2, 9, 4, 0, 7, 7, 7, 1, 11, 6, 11, 7, 2, 3, 3, 11, 0, 7, 7, 11, 9, 7, 7, 7, 8, 11, 7, 3, 7, 1, 7, 7, 0, 7, 6, 11, 7, 7, 0, 9, 7, 11, 7, 2, 7, 7, 3, 7, 1, 7, 7, 0, 7, 7, 7, 0, 0, 7, 7, 7, 7, 3, 1, 7, 7, 8, 7, 7, 7, 7, 7, 9, 8, 9, 7, 3, 8, 7, 0, 7, 3, 9, 7, 7, 7, 11, 7, 7, 3, 4, 7, 6, 7, 9, 7, 7, 7, 0, 7, 11, 7, 7, 7, 7, 2, 5, 7, 7, 0, 8, 11, 7, 7, 0, 7, 6, 7, 7, 2, 1, 7, 2, 7, 11, 0, 11, 7, 8, 1, 0, 8, 2, 7, 11, 3, 11, 2, 11, 11, 2, 7, 11, 3, 7, 7, 5, 7, 11, 7, 7, 7, 11, 8, 11, 7, 1, 0, 0, 3, 9, 7, 11, 3, 7, 7, 7, 7, 3, 7, 7, 7, 7, 9, 7, 7, 5, 7, 0, 7, 7, 7, 2, 11, 7, 7, 7, 2, 11, 9, 7, 7, 0, 11, 7, 7, 2, 7, 7, 9, 6, 7, 7, 1, 0, 0, 7, 7, 0, 11, 11, 7, 7, 7, 10, 7, 7, 11, 9, 11, 7, 9, 11, 7, 7, 7, 7, 7, 7, 7, 7, 7, 3, 7, 1, 8, 7, 0, 3, 3, 3, 7, 10, 7, 3, 6, 1, 11, 2, 7, 7, 0, 7, 7, 3, 7, 0, 7, 7, 9, 7, 7, 3, 1, 3, 10, 2, 7, 5, 7, 7, 3, 0, 9, 11, 11, 7, 8, 7, 0, 2, 7, 7, 8, 7, 4, 3, 0, 10, 2, 5, 7, 5, 11, 7, 7, 11, 2, 7, 7, 2, 0, 7, 7, 7, 0, 11, 6, 2, 7, 11, 0, 7, 7, 3, 7, 7, 7, 9, 7, 7, 7, 7, 8, 7, 0, 3, 3, 4, 11, 0, 7, 0, 1, 7, 7, 7, 7, 3, 7, 7, 11, 7, 11, 11, 2, 7, 7, 1, 7, 9, 11, 7, 0, 7, 1, 0, 7, 7, 1, 3, 7, 7, 7, 7, 1, 7, 7, 7, 7, 7, 7, 7, 3, 8, 0, 0, 11, 7, 7, 7, 7, 7, 7, 0, 0, 7, 7, 7, 7, 7, 1, 1, 7, 7, 9, 10, 0, 7, 7, 11, 7, 7, 7, 2, 7, 7, 7, 9, 7, 1, 7, 7, 7, 3, 8, 10, 7, 6, 7, 7, 1, 7, 1, 3, 3, 7, 8, 7, 7, 9, 3, 7, 7, 0, 7, 0, 2, 7, 7, 7, 7, 7, 7, 7, 9, 0, 1, 7, 7, 9, 9, 7, 0, 3, 0, 7, 11, 0, 0, 9, 2, 7, 11, 3, 7, 2, 7, 7, 5, 7, 7, 0, 0, 11, 0, 7, 7, 7, 7, 7, 7, 0, 6, 9, 7, 7, 2, 7, 9, 7, 0, 10, 0, 7, 7, 7, 7, 7, 7, 2, 0, 7, 1, 1, 0, 1, 9, 1, 7, 9, 7, 3, 11, 9, 7, 11, 7, 0, 1, 0, 7, 8, 2, 3, 7, 7, 7, 0, 9, 7, 11, 1, 7, 7, 7, 9, 9, 7, 3, 8, 7, 7, 11, 9, 7, 0, 7, 7, 8, 7, 10, 0, 7, 6, 8, 3, 6, 7, 7, 7, 7, 3, 7, 7, 3, 7, 7, 7, 7, 11, 0, 7, 7, 7, 6, 2, 7, 10, 0, 11, 7, 7, 1, 7, 3, 3, 5, 9, 3, 8, 11, 7, 1, 11, 7, 7, 1, 7, 3, 7, 9, 3, 7, 7, 0, 8, 0, 7, 3, 0, 7, 7, 0, 1, 6, 11, 3, 7, 7, 11, 7, 7, 7, 3, 8, 3, 8, 0, 8, 3, 0, 8, 7, 7, 4, 7, 2, 11, 7, 7, 7, 7, 8, 5, 11, 3, 7, 7, 1, 7, 8, 7, 7, 7, 7, 7, 1, 11, 7, 7, 7, 7, 7, 7, 0, 7, 7, 9, 9, 6, 7, 7, 7, 7, 7, 11, 11, 11, 4, 7, 7, 3, 7, 8, 9, 7, 7, 7, 7, 11, 7, 7, 6, 11, 7, 7, 7, 7, 0, 7, 1, 3, 7, 7, 3, 7, 7, 10, 3, 7, 11, 7, 7, 10, 11, 0, 0, 3, 7, 2, 1, 8, 7, 5, 7, 9, 7, 7, 7, 0, 7, 7, 8, 10, 9, 7, 9, 0, 8, 7, 4, 7, 11, 7, 7, 7, 7, 7, 2, 0, 7, 7, 3, 7, 7, 7, 7, 3, 1, 0, 7, 7, 7, 1, 7, 7, 3, 11, 7, 0, 3, 1, 3, 7, 7, 11, 10, 2, 9, 7, 0, 7, 7, 8, 7, 7, 2, 1, 0, 8, 7, 7, 2, 1, 7, 7, 7, 7, 1, 0, 5, 1, 0, 7, 0, 3, 0, 7, 1, 0, 7, 7, 8, 1, 10, 7, 7, 3, 7, 2, 7, 7, 7, 7, 8, 7, 7, 7, 7, 2, 1, 9, 9, 7, 2, 7, 0, 7, 1, 7, 9, 7, 2, 8, 7, 2, 0, 11, 3, 8, 7, 7, 9, 0, 7, 2, 7, 7, 11, 7, 7, 0, 7, 7, 2, 7, 5, 7, 7, 1, 9, 7, 7, 11, 5, 0, 3, 7, 8, 11, 7, 7, 7, 2, 2, 9, 7, 1, 0, 7, 7, 7, 0, 7, 7, 7, 7, 7, 0, 5, 2, 3, 8, 7, 1, 7, 7, 9, 7, 0, 0, 11, 7, 7, 7, 2, 8, 1, 7, 7, 7, 7, 1, 7, 11, 7, 6, 0, 3, 1, 7, 2, 7, 7, 7, 7, 2, 7, 7, 1, 7, 7, 2, 7, 7, 4, 7, 7, 7, 7, 7, 5, 1, 7, 9, 5, 7, 7, 7, 9, 7, 7, 2, 3, 7, 11, 7, 7, 7, 7, 1, 3, 7, 7, 7, 0, 0, 8, 0, 11, 3, 7, 0, 7, 8, 8, 11, 0, 2, 7, 7, 7, 8, 11, 11, 1, 7, 1, 7, 1, 2, 3, 3, 7, 7, 0, 10, 2, 7, 7, 11, 6, 7, 7, 7, 11, 7, 0, 7, 1, 0, 7, 6, 4, 11, 3, 3, 7, 7, 7, 7, 7, 7, 11, 8, 9, 2, 7, 7, 0, 9, 9, 7, 11, 9, 2, 7, 7, 11, 0, 11, 7, 7, 0, 0, 2, 7, 9, 3, 7, 1, 7, 7, 8, 11, 0, 7, 11, 7, 1, 2, 7, 7, 3, 7, 3, 7, 3, 8, 1, 9, 3, 8, 7, 7, 0, 9, 0, 3, 9, 7, 7, 7, 7, 7, 2, 2, 7, 8, 8, 11, 9, 3, 7, 0, 8, 7, 1, 2, 9, 6, 7, 7, 7, 3, 2, 7, 7, 10, 2, 8, 7, 11, 7, 7, 7, 7, 7, 0, 7, 11, 7, 7, 7, 11, 3, 8, 0, 7, 7, 2, 7, 7, 7, 7, 7, 7, 7, 7, 1, 7, 7, 7, 10, 7, 3, 7, 7, 9, 3, 7, 0, 7, 4, 7, 7, 0, 7, 0, 11, 11, 0, 2, 6, 0, 7, 7, 8, 7, 9, 1, 0, 5, 7, 9, 7, 7, 0, 7, 3, 7, 0, 1, 0, 3, 7, 0, 7, 7, 7, 0, 4, 7, 7, 9, 0, 7, 0, 7, 7, 7, 2, 7, 9, 7, 7, 7, 11, 7, 7, 7, 7, 11, 7, 7, 7, 3, 7, 0, 3, 7, 1, 8, 11, 1, 1, 7, 7, 7, 7, 7, 3, 7, 3, 7, 7, 7, 7, 9, 7, 7, 7, 1, 0, 1, 11, 3, 7, 9, 7, 7, 7, 5, 11, 1, 7, 3, 7, 7, 9, 11, 7, 7, 1, 1, 7, 7, 9, 5, 3, 0, 9, 7, 0, 5, 7, 7, 9, 9, 8, 2, 7, 10, 7, 7, 3, 7, 7, 7, 7, 7, 1, 9, 7, 7, 7, 1, 7, 7, 7, 3, 7, 0, 7, 7, 7, 1, 3, 7, 7, 7, 9, 7, 3, 9, 7, 0, 7, 9, 11, 11, 11, 7, 7, 7, 7, 7, 8, 7, 1, 3, 3, 11, 2, 11, 5, 0, 7, 11, 7, 7, 7, 0, 11, 7, 8, 3, 7, 7, 7, 8, 1, 7, 7, 2, 7, 7, 3, 7, 7, 7, 2, 2, 0, 11, 7, 7, 8, 7, 0, 3, 7, 7, 3, 7, 2, 7, 7, 3, 7, 9, 7, 7, 10, 8, 7, 3, 7, 8, 7, 11, 0, 9, 0, 1, 0, 7, 3, 7, 7, 7, 1, 3, 2, 0, 7, 7, 10, 9, 9, 2, 1, 7, 7, 3, 11, 1, 7, 7, 7, 7, 7, 5, 7, 1, 7, 7, 7, 8, 7, 0, 3, 0, 9, 7, 7, 8, 1, 7, 11, 7, 11, 7, 1, 7, 9, 7, 0, 0, 7, 7, 7, 0, 1, 7, 7, 0, 7, 1, 0, 2, 7, 7, 3, 5, 7, 7, 9, 7, 7, 7, 0, 7, 7, 8, 0, 9, 0, 9, 0, 7, 7, 11, 9, 7, 7, 7, 7, 7, 11, 0, 7, 8, 11, 1, 0, 7, 7, 7, 7, 7, 0, 7, 11, 2, 7, 1, 0, 2, 0, 7, 0, 7, 7, 7, 7, 7, 7, 7, 6, 7, 7, 7, 3, 11, 4, 3, 7, 1, 1, 7, 3, 7, 7, 7, 11, 7, 7, 9, 7, 8, 7, 0, 7, 6, 11, 11, 1, 3, 7, 2, 2, 7, 1, 1, 7, 7, 7, 7, 0, 7, 7, 7, 7, 3, 0, 2, 9, 7, 2, 2, 11, 11, 0, 6, 7, 11, 7, 7, 7, 0, 11, 7, 7, 0, 7, 7, 1, 7, 7, 7, 11, 7, 11, 7, 7, 4, 7, 7, 1, 6, 5, 7, 3, 7, 10, 3, 1, 1, 7, 9, 7, 7, 7, 1, 7, 7, 7, 7, 9, 7, 7, 3, 3, 11, 7, 1, 2, 7, 0, 7, 0, 7, 11, 7, 11, 0, 7, 3, 8, 7, 7, 11, 3, 11, 9, 9, 7, 9, 11, 6, 7, 9, 7, 7, 7, 1, 0, 9, 7, 11, 7, 7, 3, 7, 7, 7, 7, 0, 7, 0, 7, 7, 7, 8, 7, 7, 5, 9, 9, 7, 7, 7, 7, 9, 7, 7, 11, 1, 7, 7, 7, 7, 1, 7, 7, 7, 7, 7, 3, 7, 7, 1, 1, 7, 7, 7, 7, 7, 7, 11, 7, 7, 7, 7, 11, 7, 9, 0, 7, 6, 7, 7, 7, 7, 9, 8, 7, 11, 7, 7, 7, 7, 11, 7, 1, 2, 3, 7, 6, 7, 7, 7, 7, 7, 7, 7, 0, 5, 0, 8, 7, 7, 11, 0, 7, 1, 0, 10, 7, 3, 7, 7, 1, 7, 7, 7, 7, 3, 7, 8, 7, 7, 7, 7, 7, 0, 7, 7, 7, 9, 11, 7, 1, 7, 0, 7, 8, 1, 2, 7, 7, 8, 7, 7, 11, 11, 8, 7, 11, 7, 7, 7, 7, 7, 7, 3, 0, 7, 0, 7, 7, 8, 7, 0, 9, 7, 11, 7, 3, 9, 2, 11, 7, 7, 9, 7, 7, 11, 7, 7, 7, 1, 7, 7, 0, 5, 5, 1, 11, 0, 0, 1, 7, 8, 7, 3, 11, 3, 0, 9, 7, 7, 8, 7, 7, 9, 11, 11, 7, 7, 7, 11, 3, 7, 0, 5, 11, 3, 7, 7, 7, 9, 7, 7, 7, 7, 7, 8, 7, 2, 1, 11, 7, 1, 9, 7, 7, 11, 7, 7, 7, 7, 11, 7, 7, 7, 0, 7, 7, 8, 7, 7, 7, 11, 3, 7, 7, 7, 11, 0, 3, 3, 9, 7, 3, 0, 11, 0, 3, 4, 1, 1, 2, 7, 7, 7, 7, 7, 8, 7, 8, 7, 1, 8, 2, 7, 7, 7, 0, 7, 7, 7, 7, 7, 8, 1, 11, 4, 0, 6, 7, 7, 2, 11, 7, 7, 7, 7, 7, 0, 7, 7, 7, 0, 7, 7, 11, 7, 7, 7, 11, 7, 0, 3, 7, 7, 8, 7, 0, 9, 2, 7, 7, 11, 0, 3, 8, 7, 7, 2, 9, 7, 7, 7, 7, 1, 0, 0, 7, 7, 7, 7, 9, 1, 7, 0, 8, 11, 7, 7, 7, 7, 7, 7, 1, 9, 0, 0, 7, 7, 7, 6, 3, 11, 3, 2, 4, 7, 2, 3, 7, 2, 9, 7, 8, 0, 7, 3, 7, 7, 11, 7, 9, 9, 10, 7, 7, 11, 8, 1, 11, 7, 7, 7, 9, 9, 3, 7, 7, 7, 7, 1, 7, 7, 1, 7, 7, 7, 11, 7, 7, 2, 3, 0, 7, 11, 7, 11, 7, 7, 11, 7, 11, 7, 7, 0, 2, 7, 1, 8, 7, 11, 11, 7, 3, 0, 0, 10, 3, 7, 9, 7, 11, 0, 11, 7, 7, 1, 7, 11, 8, 7, 6, 7, 9, 8, 0, 11, 7, 7, 8, 0, 7, 9, 3, 7, 11, 7, 7, 7, 3, 7, 7, 1, 0, 7, 11, 11, 7, 0, 7, 7, 3, 11, 5, 0, 11, 9, 7, 7, 2, 11, 7, 3, 7, 11, 3, 8, 1, 7, 7, 7, 7, 3, 11, 7, 7, 7, 7, 7, 7, 7, 7, 11, 7, 7, 7, 7, 3, 5, 9, 11, 7, 8, 7, 7, 4, 2, 2, 7, 7, 7, 7, 0, 7, 7, 7, 11, 7, 3, 7, 7, 7, 7, 7, 7, 7, 3, 9, 7, 8, 1, 7, 7, 7, 1, 6, 10, 8, 7, 7, 7, 3, 7, 7, 3, 7, 7, 0, 7, 11, 7, 11, 1, 7, 7, 0, 1, 7, 7, 1, 4, 3, 1, 7, 7, 7, 11, 0, 7, 7, 7, 0, 11, 1, 7, 7, 11, 9, 11, 2, 1, 6, 4, 7, 6, 7, 11, 7, 10, 1, 0, 0, 0, 7, 11, 7, 1, 7, 2, 9, 3, 7, 3, 1, 1, 7, 7, 3, 7, 7, 0, 3, 7, 7, 8, 1, 11, 3, 4, 3, 7, 3, 7, 7, 7, 11, 7, 11, 2, 1, 7, 1, 7, 0, 7, 11, 7, 7, 2, 7, 7, 8, 0, 7, 9, 8, 7, 7, 6, 7, 3, 1, 7, 7, 7, 7, 0, 3, 1, 7, 1, 7, 9, 7, 1, 7, 7, 2, 7, 10, 7, 7, 7, 3, 7, 0, 7, 7, 7, 0, 7, 5, 0, 8, 7, 0, 7, 7, 7, 7, 7, 2, 8, 7, 7, 2, 3, 7, 7, 2, 11, 7, 7, 3, 1, 4, 3, 7, 11, 7, 7, 7, 7, 7, 7, 7, 7, 7, 0, 1, 7, 0, 5, 3, 5, 10, 2, 7, 0, 3, 11, 7, 11, 3, 7, 3, 7, 7, 1, 2, 9, 11, 10, 3, 7, 1, 7, 7, 7, 7, 7, 9, 7, 7, 10, 7, 7, 7, 0, 7, 7, 2, 7, 7, 9, 7, 7, 7, 3, 7, 7, 7, 5, 7, 2, 0, 7, 11, 7, 0, 7, 7, 5, 7, 7, 7, 9, 7, 9, 2, 7, 7, 7, 1, 11, 7, 3, 11, 2, 7, 8, 0, 9, 7, 7, 7, 3, 7, 0, 2, 9, 7, 7, 3, 2, 7, 7, 7, 7, 7, 11, 11, 0, 0, 7, 7, 7, 1, 7, 7, 6, 7, 7, 0, 3, 11, 11, 7, 7, 7, 7, 7, 7, 7, 7, 7, 3, 7, 7, 7, 7, 7, 1, 10, 7, 7, 7, 8, 11, 7, 3, 1, 7, 3, 11, 7, 7, 7, 7, 7, 7, 10, 7, 0, 2, 7, 9, 7, 7, 7, 7, 0, 2, 7, 7, 7, 1, 4, 7, 7, 1, 9, 7, 7, 7, 3, 7, 3, 7, 7, 7, 7, 3, 1, 1, 7, 7, 7, 2, 7, 7, 6, 9, 3, 7, 7, 9, 7, 7, 7, 2, 3, 7, 3, 11, 7, 0, 7, 7, 11, 7, 11, 7, 7, 2, 7, 7, 3, 6, 2, 8, 7, 7, 1, 1, 1, 7, 7, 10, 7, 7, 7, 7, 0, 1, 8, 4, 11, 0, 7, 9, 2, 7, 9, 0, 2, 7, 8, 7, 7, 7, 7, 8, 9, 7, 3, 0, 7, 7, 1, 7, 0, 1, 7, 7, 7, 7, 4, 1, 1, 7, 7, 3, 7, 7, 7, 7, 7, 6, 7, 7, 1, 7, 7, 2, 7, 2, 7, 7, 2, 4, 3, 10, 11, 7, 7, 11, 7, 9, 7, 3, 2, 7, 7, 8, 7, 7, 0, 8, 8, 7, 6, 5, 11, 7, 7, 9, 0, 7, 7, 8, 7, 8, 9, 0, 2, 8, 3, 7, 11, 7, 3, 7, 9, 7, 5, 7, 3, 7, 7, 0, 0, 11, 7, 9, 7, 7, 7, 8, 7, 7, 7, 3, 7, 7, 7, 7, 7, 7, 1, 7, 8, 0, 7, 2, 7, 11, 7, 0, 7, 2, 1, 7, 7, 7, 7, 7, 3, 11, 7, 7, 11, 7, 7, 7, 7, 3, 9, 11, 3, 2, 8, 7, 7, 11, 0, 0, 7, 7, 7, 7, 7, 7, 7, 1, 7, 7, 11, 2, 11, 7, 11, 7, 7, 1, 7, 2, 0, 7, 8, 0, 0, 1, 11, 7, 3, 8, 0, 2, 7, 2, 7, 1, 7, 8, 7, 7, 7, 9, 7, 2, 0, 7, 7, 11, 0, 11, 7, 7, 7, 3, 9, 7, 1, 8, 2, 7, 1, 7, 7, 7, 7, 9, 7, 7, 9, 7, 7, 7, 1, 3, 7, 7, 7, 7, 7, 0, 9, 3, 3, 7, 11, 3, 7, 0, 11, 7, 11, 7, 7, 7, 8, 0, 7, 7, 11, 7, 2, 1, 3, 0, 7, 0, 7, 11, 7, 2, 11, 7, 7, 7, 7, 5, 7, 11, 7, 1, 8, 3, 7, 1, 7, 7, 7, 7, 3, 11, 7, 1, 3, 6, 11, 7, 7, 9, 0, 7, 7, 6, 9, 7, 7, 10, 3, 7, 7, 7, 7, 11, 7, 2, 7, 3, 7, 7, 7, 7, 3, 7, 8, 4, 1, 7, 7, 8, 7, 1, 9, 1, 7, 7, 7, 11, 7, 7, 7, 2, 7, 1, 7, 8, 1, 7, 11, 11, 9, 7, 7, 7, 7, 7, 0, 7, 9, 6, 7, 7, 7, 8, 7, 3, 7, 8, 9, 11, 7, 7, 7, 7, 7, 5, 7, 7, 9, 7, 7, 7, 3, 7, 9, 7, 10, 3, 0, 7, 7, 0, 7, 0, 0, 3, 7, 7, 1, 7, 10, 7, 7, 0, 7, 7, 0, 9, 7, 0, 7, 7, 7, 11, 0, 7, 9, 7, 6, 3, 3, 7, 7, 7, 7, 8, 7, 2, 8, 7, 7, 0, 1, 7, 7, 1, 11, 7, 7, 7, 7, 2, 8, 2, 3, 3, 7, 7, 3, 11, 7, 7, 0, 1, 7, 3, 7, 7, 8, 7, 7, 0, 0, 7, 1, 0, 7, 7, 7, 7, 7, 7, 2, 7, 2, 0, 3, 11, 0, 0, 3, 2, 7, 7, 11, 7, 7, 7, 2, 7, 0, 7, 0, 3, 2, 7, 7, 0, 7, 11, 11, 0, 7, 7, 7, 8, 0, 7, 7, 7, 7, 1, 7, 2, 7, 7, 7, 7, 1, 7, 3, 2, 7, 7, 8, 0, 1, 0, 11, 7, 11, 1, 10, 8, 7, 2, 7, 0, 7, 7, 7, 1, 2, 7, 7, 0, 7, 3, 2, 3, 1, 7, 7, 7, 1, 9, 7, 0, 3, 7, 7, 7, 7, 7, 7, 8, 7, 3, 0, 7, 3, 0, 7, 4, 7, 0, 7, 7, 1, 7, 7, 7, 3, 7, 11, 7, 10, 6, 0, 7, 7, 7, 7, 11, 7, 9, 7, 3, 7, 7, 7, 7, 7, 8, 6, 7, 7, 7, 7, 7, 3, 7, 7, 9, 3, 11, 2, 7, 7, 7, 11, 7, 8, 11, 9, 10, 7, 11, 0, 7, 0, 8, 7, 7, 7, 7, 7, 7, 7, 7, 7, 7, 8, 0, 7, 9, 7, 7, 2, 0, 8, 7, 8, 0, 7, 1, 8, 0, 8, 1, 2, 7, 7, 1, 7, 7, 7, 7, 9, 7, 0, 9, 1, 7, 7, 7, 1, 5, 7, 7, 7, 3, 7, 0, 6, 7, 3, 7, 7, 7, 7, 11, 8, 11, 2, 7, 7, 7, 7, 7, 7, 3, 7, 2, 8, 7, 1, 2, 2, 7, 7, 7, 7, 7, 2, 7, 7, 3, 1, 1, 0, 1, 7, 11, 2, 0, 7, 7, 2, 4, 9, 7, 2, 7, 1, 7, 7, 3, 7, 3, 7, 7, 8, 7, 0, 7, 11, 9, 2, 8, 1, 7, 7, 7, 7, 7, 11, 11, 3, 11, 5, 0, 7, 7, 0, 1, 0, 8, 11, 7, 7, 7, 7, 1, 7, 3, 7, 7, 7, 7, 7, 7, 7, 8, 7, 3, 7, 7, 3, 9, 11, 1, 7, 7, 0, 6, 0, 7, 0, 5, 5, 7, 11, 2, 7, 7, 2, 11, 4, 3, 7, 0, 7, 7, 7, 7, 7, 7, 9, 8, 7, 11, 7, 7, 7, 7, 11, 7, 11, 7, 3, 1, 7, 9, 7, 9, 7, 3, 1, 3, 7, 7, 7, 1, 0, 2, 7, 7, 7, 3, 0, 7, 10, 7, 0, 7, 11, 7, 0, 8, 0, 0, 7, 0, 7, 7, 7, 7, 7, 9, 11, 3, 7, 0, 0, 7, 4, 11, 7, 7, 11, 2, 7, 7, 9, 8, 7, 11, 11, 7, 0, 2, 1, 7, 7, 0, 7, 7, 11, 1, 7, 7, 3, 7, 1, 1, 7, 7, 7, 1, 7, 3, 3, 11, 7, 7, 11, 10, 7, 7, 1, 7, 0, 11, 8, 0, 9, 7, 8, 7, 7, 9, 0, 8, 11, 7, 7, 1, 3, 9, 7, 7, 7, 3, 1, 7, 3, 11, 7, 7, 2, 0, 7, 0, 7, 7, 7, 7, 7, 3, 3, 11, 8, 7, 11, 7, 7, 0, 0, 7, 7, 0, 7, 1, 7, 0, 7, 11, 7, 3, 7, 9, 7, 7, 7, 7, 7, 7, 7, 2, 7, 7, 7, 7, 7, 11, 0, 7, 7, 3, 7, 8, 9, 7, 7, 7, 7, 1, 7, 7, 7, 7, 9, 3, 0, 0, 3, 11, 7, 7, 9, 7, 1, 7, 7, 8, 7, 9, 7, 2, 0, 3, 1, 0, 7, 7, 11, 7, 7, 7, 7, 2, 7, 9, 0, 2, 7, 5, 2, 8, 0, 7, 0, 7, 0, 8, 7, 7, 7, 7, 3, 0, 11, 2, 7, 7, 0, 7, 3, 7, 7, 11, 7, 0, 3, 3, 7, 9, 4, 7, 7, 7, 7, 7, 8, 2, 7, 7, 7, 7, 1, 2, 7, 7, 11, 1, 7, 7, 7, 0, 0, 11, 7, 7, 0, 7, 5, 7, 7, 7, 7, 0, 2, 7, 7, 7, 1, 1, 7, 5, 7, 9, 7, 0, 7, 7, 3, 7, 7, 7, 0, 11, 1, 7, 11, 9, 7, 7, 7, 7, 7, 7, 7, 7, 7, 8, 7, 7, 0, 9, 10, 7, 7, 0, 7, 11, 7, 2, 1, 7, 7, 11, 7, 7, 7, 0, 7, 7, 0, 9, 7, 7, 7, 11, 4, 9, 7, 7, 7, 7, 7, 6, 2, 3, 8, 9, 7, 11, 7, 0, 7, 2, 0, 7, 7, 11, 7, 7, 7, 7, 8, 2, 7, 9, 7, 7, 7, 0, 7, 7, 3, 11, 7, 0, 2, 7, 2, 7, 1, 7, 7, 7, 0, 7, 9, 7, 11, 7, 1, 7, 0, 7, 7, 7, 7, 7, 7, 0, 0, 2, 5, 2, 7, 7, 1, 11, 7, 7, 7, 0, 7, 7, 0, 11, 3, 11, 7, 9, 2, 7, 7, 9, 7, 8, 7, 7, 0, 7, 2, 7, 7, 11, 0, 11, 0, 4, 7, 7, 0, 11, 7, 7, 7, 7, 0, 8, 4, 10, 7, 0, 7, 2, 7, 1, 0, 1, 7, 7, 7, 5, 7, 7, 7, 7, 0, 11, 11, 2, 1, 8, 7, 7, 2, 7, 7, 7, 7, 7, 7, 7, 7, 7, 7, 11, 2, 11, 7, 1, 11, 7, 8, 11, 7, 8, 7, 7, 7, 9, 1, 0, 2, 8, 7, 7, 3, 7, 8, 7, 7, 11, 7, 7, 9, 7, 7, 7, 7, 9, 7, 7, 7, 1, 7, 7, 3, 1, 7, 7, 10, 7, 2, 11, 1, 8, 7, 3, 7, 7, 7, 7, 11, 7, 9, 7, 7, 2, 0, 3, 7, 7, 7, 7, 7, 4, 0, 7, 7, 7, 11, 7, 7, 7, 0, 7, 7, 0, 7, 2, 1, 7, 3, 7, 10, 7, 7, 3, 7, 7, 7, 6, 1, 7, 3, 7, 11, 7, 11, 3, 2, 10, 11, 7, 9, 7, 11, 5, 8, 7, 7, 0, 7, 3, 7, 7, 1, 8, 7, 9, 2, 7, 7, 3, 9, 8, 7, 2, 7, 7, 7, 8, 1, 3, 6, 7, 7, 7, 7, 7, 11, 9, 2, 4, 9, 1, 2, 7, 7, 7, 5, 9, 7, 7, 7, 7, 1, 7, 11, 1, 11, 7, 7, 7, 3, 7, 3, 7, 7, 0, 8, 7, 2, 1, 11, 7, 9, 3, 1, 3, 2, 7, 8, 7, 9, 7, 10, 2, 11, 11, 7, 7, 0, 10, 1, 1, 7, 7, 7, 1, 7, 7, 1, 7, 7, 3, 7, 1, 8, 7, 3, 1, 7, 7, 7, 7, 9, 7, 7, 7, 7, 11, 7, 7, 10, 8, 7, 7, 1, 7, 3, 11, 11, 7, 7, 0, 3, 3, 7, 0, 7, 8, 7, 7, 4, 7, 7, 7, 2, 6, 0, 7, 7, 7, 7, 11, 3, 7, 1, 7, 3, 7, 11, 7, 10, 7, 7, 3, 7, 1, 7, 11, 7, 1, 1, 8, 1, 7, 8, 7, 7, 7, 7, 11, 7, 7, 7, 5, 0, 7, 0, 7, 0, 7, 7, 3, 7, 6, 7, 11, 7, 3, 5, 2, 1, 7, 7, 7, 7, 7, 7, 7, 7, 3, 5, 7, 11, 2, 0, 11, 7, 7, 7, 7, 7, 2, 7, 7, 7, 9, 7, 1, 7, 7, 7, 8, 3, 3, 8, 0, 0, 3, 7, 9, 7, 9, 11, 7, 11, 11, 7, 7, 7, 0, 7, 7, 9, 11, 7, 11, 0, 7, 10, 7, 8, 8, 7, 0, 1, 2, 7, 7, 7, 7, 7, 1, 7, 11, 7, 7, 2, 8, 7, 7, 7, 0, 7, 3, 7, 8, 7, 7, 0, 7, 7, 3, 7, 7, 7, 8, 7, 3, 7, 7, 3, 2, 2, 7, 0, 7, 7, 8, 3, 7, 11, 11, 7, 5, 7, 8, 7, 1, 7, 7, 7, 7, 11, 7, 11, 0, 3, 9, 8, 7, 7, 7, 7, 0, 8, 7, 1, 7, 7, 10, 11, 7, 3, 7, 7, 7, 7, 7, 6, 7, 9, 1, 7, 7, 2, 7, 9, 9, 7, 7, 2, 7, 1, 7, 7, 2, 7, 7, 3, 1, 0, 1, 7, 7, 7, 3, 11, 11, 7, 7, 7, 8, 11, 1, 5, 6, 3, 0, 11, 7, 7, 7, 11, 7, 7, 7, 7, 3, 8, 7, 7, 9, 11, 7, 7, 7, 7, 7, 7, 7, 7, 7, 3, 7, 0, 2, 9, 7, 7, 7, 7, 1, 7, 6, 3, 11, 7, 11, 7, 7, 7, 7, 2, 1, 7, 7, 7, 1, 7, 7, 0, 7, 7, 11, 7, 7, 8, 7, 7, 7, 1, 9, 7, 1, 7, 3, 11, 0, 7, 9, 7, 7, 1, 7, 7, 7, 0, 7, 7, 9, 0, 0, 0, 2, 0, 1, 8, 1, 7, 7, 7, 11, 1, 7, 1, 9, 7, 3, 7, 0, 1, 7, 0, 0, 7, 7, 7, 0, 1, 8, 11, 7, 2, 7, 7, 7, 7, 7, 11, 7, 0, 0, 7, 9, 7, 6, 7, 4, 7, 7, 2, 11, 1, 7, 7, 11, 8, 7, 3, 7, 6, 2, 7, 7, 7, 10, 7, 9, 3, 11, 7, 0, 0, 9, 4, 2, 2, 7, 7, 2, 0, 7, 11, 3, 7, 2, 7, 11, 3, 3, 7, 11, 2, 7, 1, 1, 3, 7, 7, 7, 0, 7, 7, 7, 7, 3, 3, 7, 8, 7, 8, 7, 7, 2, 0, 7, 7, 7, 0, 7, 2, 7, 7, 7, 7, 1, 7, 0, 9, 0, 7, 0, 0, 7, 8, 7, 3, 7, 8, 3, 3, 7, 7, 7, 7, 1, 7, 0, 11, 3, 7, 7, 3, 11, 7, 0, 9, 7, 8, 0, 0, 9, 5, 7, 3, 1, 7, 11, 7, 7, 3, 7, 9, 3, 2, 7, 7, 0, 7, 7, 7, 7, 9, 7, 7, 7, 11, 11, 7, 7, 1, 9, 7, 7, 7, 7, 0, 0, 11, 0, 0, 7, 11, 10, 7, 3, 7, 7, 6, 11, 8, 0, 1, 7, 11, 7, 8, 1, 7, 7, 7, 7, 7, 11, 2, 7, 7, 0, 7, 2, 7, 7, 0, 7, 9, 0, 7, 7, 7, 11, 7, 7, 8, 7, 1, 7, 0, 7, 11, 7, 7, 7, 7, 0, 7, 1, 7, 1, 7, 0, 0, 7, 9, 7, 11, 7, 7, 2, 7, 1, 9, 7, 2, 11, 8, 8, 8, 3, 7, 7, 3, 0, 7, 11, 7, 1, 2, 11, 7, 7, 7, 7, 7, 7, 7, 11, 7, 7, 11, 7, 7, 7, 7, 2, 7, 7, 7, 7, 7, 7, 7, 7, 7, 8, 4, 0, 7, 7, 3, 7, 7, 9, 7, 0, 3, 7, 7, 7, 0, 7, 7, 7, 7, 1, 7, 7, 2, 0, 9, 0, 2, 3, 7, 10, 0, 11, 0, 9, 3, 7, 7, 7, 0, 7, 7, 7, 7, 1, 5, 0, 7, 7, 7, 7, 3, 7, 2, 7, 1, 7, 7, 0, 7, 0, 2, 9, 7, 9, 7, 9, 7, 1, 7, 0, 7, 11, 11, 7, 7, 7, 7, 7, 8, 3, 6, 7, 3, 7, 0, 7, 7, 7, 1, 11, 9, 1, 0, 7, 7, 7, 4, 7, 7, 0, 7, 7, 11, 7, 11, 2, 7, 3, 1, 3, 7, 7, 7, 8, 3, 6, 7, 7, 2, 7, 11, 7, 7, 7, 11, 2, 7, 7, 7, 9, 2, 11, 7, 11, 7, 8, 7, 7, 3, 7, 7, 7, 7, 8, 9, 7, 1, 7, 3, 7, 7, 11, 7, 11, 7, 7, 7, 1, 7, 7, 3, 7, 11, 2, 7, 3, 7, 7, 7, 3, 7, 0, 8, 7, 0, 7, 7, 1, 7, 7, 7, 7, 7, 9, 2, 7, 0, 7, 6, 7, 7, 0, 1, 1, 5, 7, 7, 7, 11, 7, 8, 7, 1, 11, 7, 7, 7, 11, 0, 9, 7, 7, 7, 7, 7, 7, 9, 7, 11, 7, 6, 7, 9, 0, 7, 2, 9, 7, 7, 7, 1, 7, 7, 7, 7, 7, 7, 7, 2, 7, 0, 7, 7, 7, 11, 7, 7, 7, 2, 11, 7, 8, 7, 10, 1, 7, 7, 7, 7, 7, 7, 7, 7, 4, 5, 7, 0, 7, 7, 8, 7, 3, 9, 9, 7, 7, 0, 7, 7, 7, 8, 7, 11, 8, 8, 7, 8, 7, 7, 9, 7, 0, 8, 3, 11, 2, 7, 11, 1, 7, 7, 7, 7, 11, 7, 7, 0, 7, 6, 7, 7, 7, 7, 0, 1, 0, 8, 7, 3, 3, 2, 11, 7, 7, 11, 7, 7, 1, 1, 7, 7, 3, 7, 7, 8, 7, 7, 0, 8, 7, 5, 7, 7, 1, 3, 0, 7, 3, 7, 2, 11, 7, 0, 1, 11, 1, 1, 7, 7, 7, 7, 7, 7, 7, 7, 3, 7, 7, 7, 7, 8, 9, 7, 1, 7, 3, 0, 1, 7, 11, 2, 0, 7, 3, 7, 7, 3, 7, 0, 11, 0, 9, 3, 7, 0, 7, 7, 5, 7, 7, 7, 7, 8, 7, 0, 7, 7, 11, 9, 7, 3, 7, 7, 6, 7, 9, 9, 5, 0, 11, 7, 1, 7, 9, 7, 7, 1, 7, 7, 7, 7, 7, 2, 7, 11, 7, 7, 0, 4, 7, 7, 7, 7, 7, 3, 3, 7, 7, 3, 7, 3, 7, 7, 7, 7, 8, 0, 0, 11, 7, 7, 7, 0, 6, 7, 3, 11, 9, 7, 7, 1, 7, 3, 7, 3, 7, 0, 7, 2, 7, 7, 7, 7, 2, 1, 1, 3, 3, 7, 7, 7, 7, 7, 1, 3, 7, 9, 2, 1, 7, 1, 7, 7, 7, 9, 7, 2, 1, 7, 11, 11, 7, 11, 11, 3, 7, 11, 7, 11, 4, 11, 7, 1, 2, 11, 0, 8, 7, 1, 7, 1, 7, 7, 7, 0, 7, 3, 7, 7, 7, 8, 7, 7, 9, 0, 7, 7, 7, 2, 7, 0, 7, 6, 9, 0, 7, 7, 3, 1, 7, 7, 7, 0, 5, 7, 7, 3, 7, 0, 11, 7, 7, 7, 0, 9, 8, 9, 3, 7, 7, 8, 7, 7, 7, 7, 7, 5, 7, 8, 7, 8, 7, 2, 7, 7, 2, 7, 7, 1, 9, 11, 7, 0, 3, 7, 7, 7, 7, 9, 7, 2, 7, 8, 7, 2, 7, 7, 7, 3, 3, 0, 11, 0, 3, 7, 7, 11, 2, 11, 7, 11, 7, 11, 6, 0, 11, 8, 7, 7, 3, 7, 11, 7, 7, 7, 7, 1, 0, 0, 11, 7, 0, 0, 7, 7, 7, 7, 7, 7, 7, 1, 7, 7, 1, 7, 0, 3, 1, 7, 3, 7, 7, 5, 2, 7, 2, 7, 0, 9, 3, 8, 7, 9, 9, 7, 7, 7, 0, 7, 7, 7, 7, 7, 7, 7, 7, 7, 8, 0, 3, 11, 1, 7, 11, 7, 9, 7, 9, 7, 7, 0, 3, 3, 7, 0, 7, 7, 7, 0, 11, 7, 7, 8, 7, 9, 11, 3, 7, 2, 7, 3, 7, 8, 11, 11, 7, 9, 7, 0, 7, 7, 7, 7, 7, 5, 3, 7, 7, 0, 11, 11, 7, 8, 4, 10, 11, 7, 7, 0, 7, 11, 8, 7, 7, 7, 7, 8, 7, 7, 5, 7, 0, 9, 0, 11, 7, 0, 3, 7, 11, 11, 9, 0, 0, 7, 7, 1, 2, 11, 5, 7, 7, 7, 3, 7, 10, 7, 3, 7, 1, 9, 7, 7, 7, 7, 2, 9, 7, 7, 7, 7, 7, 6, 7, 7, 7, 3, 11, 2, 3, 1, 7, 7, 3, 7, 0, 2, 7, 7, 7, 7, 1, 7, 7, 7, 7, 0, 7, 7, 7, 7, 9, 0, 0, 1, 7, 7, 7, 7, 8, 7, 0, 7, 1, 7, 10, 7, 2, 3, 0, 7, 7, 7, 0, 11, 7, 6, 3, 7, 7, 7, 7, 7, 0, 9, 7, 6, 7, 11, 7, 7, 8, 7, 7, 7, 0, 11, 7, 7, 7, 7, 7, 7, 7, 0, 2, 7, 7, 7, 7, 8, 0, 4, 7, 7, 7, 1, 7, 7, 1, 9, 0, 11, 1, 7, 7, 7, 0, 7, 7, 7, 7, 7, 7, 1, 2, 0, 7, 0, 7, 5, 7, 7, 7, 7, 1, 7, 7, 7, 3, 7, 7, 7, 1, 1, 7, 7, 7, 7, 11, 7, 7, 3, 7, 7, 7, 7, 4, 1, 7, 7, 7, 9, 9, 7, 7, 3, 7, 7, 1, 0, 7, 1, 11, 11, 7, 7, 7, 8, 1, 7, 6, 1, 7, 1, 1, 7, 7, 7, 7, 7, 0, 7, 11, 0, 7, 7, 0, 9, 0, 10, 11, 7, 0, 8, 7, 11, 11, 8, 7, 9, 11, 7, 1, 8, 7, 7, 3, 7, 9, 7, 1, 7, 11, 3, 10, 0, 11, 7, 7, 8, 2, 9, 2, 7, 7, 11, 0, 7, 10, 0, 7, 3, 5, 7, 7, 11, 7, 7, 10, 7, 7, 7, 7, 11, 7, 1, 7, 11, 7, 7, 7, 0, 4, 7, 2, 2, 7, 3, 0, 0, 11, 5, 3, 8, 7, 3, 7, 7, 9, 7, 1, 6, 7, 7, 10, 9, 1, 7, 2, 11, 7, 6, 7, 1, 7, 7, 7, 7, 0, 5, 7, 2, 7, 0, 1, 7, 9, 3, 7, 7, 1, 10, 0, 7, 7, 7, 11, 7, 7, 8, 11, 3, 8, 3, 7, 2, 11, 0, 5, 9, 7, 8, 0, 1, 3, 7, 7, 0, 9, 1, 2, 6, 7, 8, 7, 9, 7, 8, 7, 11, 3, 8, 8, 7, 9, 1, 7, 7, 8, 3, 0, 7, 3, 0, 7, 7, 7, 7, 0, 1, 7, 5, 3, 7, 7, 3, 11, 7, 7, 1, 7, 9, 2, 10, 0, 7, 7, 6, 7, 9, 7, 8, 7, 7, 7, 7, 7, 7, 3, 7, 11, 2, 7, 2, 7, 6, 3, 2, 1, 1, 7, 11, 8, 7, 2, 11, 7, 11, 7, 8, 7, 0, 7, 1, 3, 0, 1, 7, 7, 7, 9, 7, 0, 7, 7, 7, 7, 2, 0, 0, 7, 7, 7, 0, 7, 0, 7, 7, 7, 11, 1, 11, 11, 11, 0, 11, 9, 0, 7, 7, 0, 7, 7, 0, 11, 0, 2, 0, 7, 7, 7, 7, 0, 7, 9, 7, 2, 7, 7, 9, 7, 3, 7, 7, 0, 7, 5, 7, 3, 7, 8, 8, 7, 7, 1, 9, 7, 3, 7, 8, 6, 2, 7, 7, 7, 7, 7, 0, 7, 7, 7, 6, 1, 7, 7, 7, 7, 3, 9, 7, 0, 7, 0, 5, 0, 7, 0, 1, 7, 1, 0, 3, 7, 7, 7, 11, 4, 7, 9, 7, 0, 7, 8, 11, 0, 7, 5, 3, 7, 4, 0, 1, 7, 7, 2, 7, 0, 6, 3, 9, 7, 5, 7, 4, 0, 1, 11, 9, 2, 7, 7, 11, 10, 2, 7, 7, 11, 7, 7, 8, 7, 0, 3, 0, 7, 11, 7, 11, 7, 3, 0, 7, 3, 7, 8, 7, 7, 3, 7, 3, 7, 2, 9, 7, 7, 1, 7, 7, 11, 7, 0, 2, 7, 7, 2, 2, 7, 7, 7, 7, 1, 7, 7, 7, 3, 7, 7, 7, 7, 7, 7, 10, 8, 7, 0, 7, 1, 6, 10, 7, 7, 11, 7, 0, 11, 7, 2, 8, 7, 3, 7, 7, 7, 2, 7, 8, 3, 0, 7, 3, 7, 7, 7, 7, 2, 7, 8, 3, 7, 7, 7, 7, 1, 2, 8, 1, 3, 7, 7, 7, 5, 0, 7, 2, 2, 11, 4, 11, 7, 7, 9, 11, 7, 3, 7, 11, 0, 11, 11, 5, 1, 7, 3, 7, 3, 9, 7, 11, 3, 7, 11, 2, 7, 4, 7, 8, 3, 11, 0, 7, 7, 7, 1, 7, 9, 7, 7, 1, 0, 7, 7, 11, 7, 8, 0, 4, 11, 2, 7, 7, 7, 2, 2, 11, 6, 0, 7, 1, 7, 8, 2, 2, 8, 7, 7, 7, 1, 2, 7, 0, 7, 7, 7, 1, 8, 7, 7, 8, 11, 7, 0, 4, 11, 7, 1, 7, 7, 9, 2, 7, 0, 2, 2, 2, 3, 3, 7, 7, 7, 11, 7, 7, 7, 3, 7, 7, 7, 8, 10, 8, 0, 8, 7, 7, 7, 8, 7, 7, 7, 11, 7, 7, 9, 0, 3, 7, 7, 9, 3, 7, 11, 7, 7, 7, 3, 7, 7, 3, 7, 9, 7, 7, 11, 11, 7, 0, 7, 7, 7, 7, 2, 0, 9, 7, 3, 7, 0, 1, 7, 1, 2, 7, 2, 7, 7, 7, 7, 3, 7, 7, 7, 7, 2, 3, 1, 7, 0, 1, 7, 7, 9, 7, 0, 7, 7, 7, 7, 8, 1, 1, 9, 7, 7, 7, 3, 7, 0, 3, 7, 0, 7, 7, 9, 11, 11, 11, 7, 7, 7, 11, 7, 11, 11, 7, 1, 7, 2, 7, 7, 7, 9, 7, 7, 3, 9, 7, 7, 0, 0, 3, 7, 7, 7, 3, 7, 0, 6, 7, 8, 7, 7, 0, 7, 9, 2, 7, 7, 7, 7, 7, 7, 7, 0, 11, 7, 7, 7, 3, 3, 7, 7, 7, 7, 7, 9, 7, 7, 7, 2, 7, 9, 7, 11, 7, 0, 2, 0, 7, 7, 2, 7, 7, 0, 1, 1, 7, 0, 0, 7, 7, 7, 9, 2, 8, 9, 10, 7, 7, 7, 7, 7, 0, 11, 7, 7, 0, 7, 7, 7, 1, 3, 10, 7, 7, 7, 8, 7, 3, 0, 7, 7, 3, 5, 0, 7, 3, 7, 11, 11, 7, 7, 8, 11, 7, 7, 0, 7, 7, 1, 7, 9, 9, 0, 7, 7, 8, 7, 7, 0, 3, 11, 7, 7, 11, 7, 8, 7, 7, 7, 0, 7, 8, 7, 7, 7, 7, 10, 7, 8, 0, 8, 7, 7, 7, 7, 10, 7, 11, 0, 7, 7, 7, 1, 0, 6, 1, 11, 7, 7, 7, 7, 7, 0, 7, 8, 7, 7, 9, 7, 7, 7, 9, 2, 7, 3, 7, 2, 3, 8, 9, 7, 7, 3, 7, 7, 11, 7, 7, 7, 7, 11, 7, 4, 3, 7, 7, 7, 7, 7, 9, 2, 1, 0, 3, 11, 1, 7, 7, 0, 7, 0, 7, 7, 7, 11, 7, 0, 11, 3, 7, 7, 7, 11, 11, 7, 7, 7, 11, 3, 7, 3, 0, 11, 7, 3, 7, 3, 7, 7, 7, 7, 2, 0, 7, 7, 7, 7, 2, 9, 0, 7, 8, 1, 0, 11, 1, 2, 7, 7, 7, 11, 7, 7, 3, 7, 7, 7, 1, 7, 6, 9, 7, 7, 7, 9, 7, 8, 7, 2, 0, 0, 7, 7, 7, 7, 7, 7, 7, 7, 7, 1, 0, 7, 0, 3, 9, 3, 7, 7, 7, 8, 7, 7, 1, 3, 7, 0, 2, 0, 1, 3, 3, 9, 7, 7, 7, 7, 7, 1, 9, 1, 7, 2, 7, 7, 2, 1, 9, 11, 0, 7, 9, 7, 1, 7, 7, 1, 7, 7, 0, 7, 7, 5, 7, 1, 7, 7, 7, 7, 7, 7, 7, 1, 7, 3, 3, 8, 11, 0, 3, 7, 0, 0, 1, 7, 11, 1, 9, 7, 3, 8, 8, 7, 7, 7, 0, 3, 0, 7, 6, 7, 7, 0, 3, 4, 7, 7, 7, 7, 1, 7, 11, 7, 7, 0, 7, 7, 11, 7, 6, 7, 7, 2, 8, 11, 7, 7, 11, 7, 2, 11, 3, 7, 3, 11, 7, 9, 8, 7, 7, 7, 10, 3, 7, 7, 1, 1, 8, 7, 7, 10, 7, 8, 11, 3, 7, 5, 7, 7, 0, 8, 7, 7, 7, 1, 7, 3, 2, 3, 7, 8, 7, 9, 8, 7, 7, 7, 7, 2, 7, 5, 9, 0, 2, 2, 7, 9, 7, 7, 7, 7, 7, 7, 8, 7, 3, 9, 2, 2, 7, 7, 7, 7, 0, 9, 7, 11, 11, 7, 7, 10, 7, 11, 11, 7, 0, 2, 7, 7, 1, 7, 9, 11, 7, 3, 7, 7, 7, 7, 7, 3, 7, 2, 7, 0, 2, 7, 7, 7, 7, 11, 11, 9, 2, 7, 7, 7, 7, 7, 7, 7, 7, 3, 7, 7, 7, 11, 3, 9, 7, 7, 7, 7, 7, 11, 7, 7, 11, 11, 3, 1, 11, 7, 4, 7, 8, 7, 11, 3, 11, 11, 7, 7, 2, 7, 0, 8, 0, 7, 3, 7, 7, 7, 7, 7, 7, 7, 7, 3, 7, 8, 7, 0, 7, 7, 0, 3, 11, 7, 7, 0, 7, 7, 7, 1, 7, 7, 7, 1, 0, 2, 0, 7, 7, 11, 3, 7, 1, 7, 7, 7, 1, 7, 7, 7, 11, 11, 3, 7, 7, 2, 7, 7, 1, 8, 7, 7, 1, 7, 7, 7, 7, 7, 1, 7, 8, 0, 9, 3, 7, 8, 8, 7, 7, 7, 7, 3, 3, 3, 11, 2, 2, 3, 7, 7, 0, 3, 3, 8, 2, 7, 7, 3, 7, 9, 7, 3, 9, 1, 7, 3, 0, 3, 9, 8, 2, 0, 7, 7, 0, 11, 7, 0, 7, 3, 7, 1, 7, 7, 7, 7, 3, 7, 7, 7, 3, 7, 3, 7, 0, 7, 7, 7, 7, 7, 7, 0, 3, 7, 9, 7, 7, 9, 0, 7, 0, 1, 7, 3, 7, 8, 7, 7, 7, 7, 11, 4, 7, 0, 1, 7, 6, 3, 0, 7, 7, 2, 7, 0, 1, 1, 2, 7, 5, 7, 3, 10, 9, 7, 7, 7, 3, 10, 0, 9, 0, 0, 7, 7, 3, 7, 9, 7, 8, 0, 7, 7, 2, 7, 8, 3, 7, 7, 7, 0, 7, 0, 7, 7, 9, 7, 3, 8, 8, 11, 0, 7, 0, 1, 7, 7, 11, 3, 4, 7, 7, 9, 5, 0, 7, 7, 11, 7, 1, 7, 7, 7, 7, 7, 7, 7, 11, 0, 11, 0, 9, 1, 7, 8, 7, 9, 7, 11, 11, 0, 7, 7, 9, 7, 7, 9, 7, 7, 7, 0, 11, 7, 0, 0, 3, 7, 7, 10, 7, 7, 7, 1, 7, 3, 7, 7, 1, 7, 6, 7, 1, 0, 0, 3, 11, 7, 7, 4, 7, 7, 7, 0, 0, 7, 7, 7, 8, 7, 7, 8, 3, 1, 3, 7, 7, 8, 7, 7, 7, 3, 5, 7, 7, 7, 1, 7, 7, 7, 7, 7, 7, 7, 11, 7, 5, 3, 0, 8, 3, 8, 2, 7, 7, 6, 7, 7, 8, 7, 8, 7, 11, 11, 7, 7, 7, 5, 7, 7, 7, 7, 9, 7, 9, 7, 11, 7, 7, 1, 5, 7, 7, 8, 10, 2, 7, 7, 3, 10, 3, 1, 7, 7, 8, 9, 11, 0, 11, 1, 7, 7, 7, 3, 2, 7, 4, 7, 11, 3, 7, 7, 0, 7, 0, 7, 7, 7, 7, 7, 7, 7, 9, 7, 3, 11, 7, 1, 7, 8, 0, 7, 2, 7, 7, 7, 11, 0, 7, 10, 7, 0, 7, 10, 7, 5, 0, 7, 7, 9, 5, 0, 7, 6, 7, 4, 5, 7, 7, 7, 11, 6, 8, 7, 2, 7, 1, 0, 11, 3, 9, 0, 9, 7, 1, 7, 9, 9, 0, 2, 11, 0, 5, 7, 7, 7, 9, 7, 8, 3, 7, 5, 7, 1, 7, 7, 4, 7, 7, 7, 3, 7, 3, 7, 8, 1, 7, 5, 7, 8, 1, 11, 7, 3, 7, 7, 7, 7, 7, 7, 7, 8, 1, 7, 7, 7, 7, 0, 7, 11, 2, 9, 7, 8, 3, 10, 11, 2, 7, 7, 7, 7, 7, 0, 7, 7, 0, 0, 2, 3, 2, 7, 11, 0, 7, 7, 11, 7, 7, 7, 0, 4, 7, 7, 1, 11, 3, 5, 7, 7, 7, 11, 1, 7, 9, 7, 9, 7, 7, 3, 7, 11, 0, 11, 3, 7, 9, 7, 7, 7, 7, 7, 7, 7, 8, 7, 1, 3, 7, 7, 7, 8, 11, 9, 7, 9, 7, 7, 7, 7, 7, 1, 0, 7, 7, 7, 7, 7, 7, 7, 7, 7, 7, 7, 7, 6, 7, 11, 2, 7, 11, 8, 7, 7, 7, 11, 9, 5, 0, 7, 7, 7, 1, 7, 8, 3, 7, 7, 7, 2, 7, 7, 7, 7, 7, 1, 7, 7, 7, 1, 7, 7, 0, 1, 7, 7, 8, 7, 1, 9, 7, 0, 1, 7, 9, 2, 7, 11, 11, 2, 2, 8, 7, 7, 7, 0, 0, 5, 7, 0, 7, 0, 7, 7, 0, 7, 6, 7, 6, 9, 9, 7, 2, 3, 3, 8, 1, 7, 11, 0, 0, 5, 7, 2, 7, 1, 7, 7, 1, 9, 7, 7, 7, 7, 7, 7, 7, 1, 11, 7, 0, 7, 0, 0, 7, 7, 2, 7, 0, 7, 5, 0, 7, 7, 11, 7, 7, 7, 7, 7, 5, 0, 8, 3, 7, 4, 7, 7, 9, 0, 8, 11, 0, 7, 7, 1, 7, 1, 11, 7, 8, 7, 3, 1, 7, 9, 0, 7, 2, 7, 7, 7, 7, 7, 0, 7, 3, 5, 5, 8, 7, 7, 0, 7, 7, 9, 5, 0, 7, 1, 7, 1, 0, 7, 8, 7, 7, 7, 7, 1, 7, 3, 7, 7, 7, 7, 3, 7, 7, 2, 7, 1, 0, 7, 7, 0, 0, 7, 7, 2, 0, 11, 7, 0, 7, 7, 9, 1, 7, 0, 4, 7, 7, 7, 3, 7, 8, 7, 7, 7, 9, 7, 11, 7, 3, 7, 7, 7, 11, 7, 0, 7, 7, 7, 7, 7, 7, 2, 3, 6, 7, 3, 0, 3, 3, 2, 3, 8, 1, 7, 7, 9, 7, 2, 7, 3, 7, 7, 7, 11, 9, 8, 7, 7, 11, 0, 7, 7, 7, 8, 0, 7, 7, 1, 7, 7, 7, 7, 7, 7, 1, 8, 0, 0, 11, 7, 11, 11, 3, 7, 11, 3, 1, 7, 7, 3, 7, 7, 2, 7, 2, 3, 7, 2, 3, 0, 2, 1, 7, 2, 7, 7, 8, 1, 7, 7, 0, 7, 4, 11, 7, 0, 7, 7, 7, 7, 3, 7, 0, 7, 1, 0, 3, 7, 7, 1, 7, 7, 11, 11, 6, 0, 11, 7, 7, 7, 7, 11, 7, 8, 6, 5, 7, 9, 1, 7, 7, 0, 7, 7, 7, 7, 7, 3, 3, 7, 7, 3, 0, 7, 7, 7, 3, 7, 2, 7, 3, 1, 7, 11, 7, 7, 8, 7, 1, 7, 11, 7, 7, 7, 11, 4, 7, 5, 7, 3, 4, 7, 1, 1, 11, 8, 7, 7, 7, 7, 7, 7, 7, 9, 1, 7, 2, 7, 7, 0, 7, 3, 7, 0, 11, 0, 5, 0, 3, 0, 7, 7, 7, 1, 7, 3, 11, 7, 3, 11, 1, 7, 7, 7, 7, 7, 7, 10, 1, 0, 11, 0, 7, 9, 7, 11, 0, 7, 0, 1, 7, 7, 7, 3, 0, 7, 7, 3, 1, 7, 0, 7, 7, 11, 3, 7, 7, 2, 2, 7, 0, 7, 7, 7, 8, 7, 7, 7, 7, 7, 1, 7, 9]\n"
          ]
        }
      ]
    },
    {
      "cell_type": "code",
      "source": [
        "train_classes = train_generator.classes\n",
        "class_weights = compute_class_weight(\n",
        "                                        class_weight = \"balanced\",\n",
        "                                        classes = np.unique(train_classes),\n",
        "                                        y = train_classes                                                    \n",
        "                                    )\n",
        "class_weights = dict(zip(np.unique(train_classes), class_weights))\n",
        "class_weights"
      ],
      "metadata": {
        "colab": {
          "base_uri": "https://localhost:8080/"
        },
        "id": "Q2Tk5KL1Kfh5",
        "outputId": "db29a94c-7704-46d1-8b24-45378a808cc2"
      },
      "execution_count": 83,
      "outputs": [
        {
          "output_type": "execute_result",
          "data": {
            "text/plain": [
              "{0: 0.8844665561083471,\n",
              " 1: 1.3152486642005754,\n",
              " 2: 1.7660044150110374,\n",
              " 3: 1.0962658444672833,\n",
              " 4: 9.696969696969697,\n",
              " 5: 6.666666666666667,\n",
              " 6: 7.017543859649122,\n",
              " 7: 0.16581170008808746,\n",
              " 8: 2.0087884494664157,\n",
              " 9: 1.6334864726901481,\n",
              " 10: 7.785888077858881,\n",
              " 11: 1.035598705501618}"
            ]
          },
          "metadata": {},
          "execution_count": 83
        }
      ]
    },
    {
      "cell_type": "markdown",
      "source": [
        "### Compute Model"
      ],
      "metadata": {
        "id": "0vE4sQ4_VZV_"
      }
    },
    {
      "cell_type": "code",
      "source": [
        "model = tf.keras.models.Sequential([\n",
        "    pre_trained_model,\n",
        "    \n",
        "    Flatten(),    \n",
        "    Dense(256,activation=\"relu\"),\n",
        "    BatchNormalization(),\n",
        "    Dropout(0.2),\n",
        "    Dense(12, activation='softmax')\n",
        "])\n",
        "\n",
        "model.summary()"
      ],
      "metadata": {
        "id": "f2T-iPoKVIFN",
        "outputId": "f901520b-f315-4638-eab5-bf43fd9f00dd",
        "colab": {
          "base_uri": "https://localhost:8080/"
        }
      },
      "execution_count": 99,
      "outputs": [
        {
          "output_type": "stream",
          "name": "stdout",
          "text": [
            "Model: \"sequential_4\"\n",
            "_________________________________________________________________\n",
            " Layer (type)                Output Shape              Param #   \n",
            "=================================================================\n",
            " vgg16 (Functional)          (None, 1, 1, 512)         14714688  \n",
            "                                                                 \n",
            " flatten_4 (Flatten)         (None, 512)               0         \n",
            "                                                                 \n",
            " dense_8 (Dense)             (None, 256)               131328    \n",
            "                                                                 \n",
            " batch_normalization_4 (Batc  (None, 256)              1024      \n",
            " hNormalization)                                                 \n",
            "                                                                 \n",
            " dropout_4 (Dropout)         (None, 256)               0         \n",
            "                                                                 \n",
            " dense_9 (Dense)             (None, 12)                3084      \n",
            "                                                                 \n",
            "=================================================================\n",
            "Total params: 14,850,124\n",
            "Trainable params: 134,924\n",
            "Non-trainable params: 14,715,200\n",
            "_________________________________________________________________\n"
          ]
        }
      ]
    },
    {
      "cell_type": "code",
      "source": [
        "model.compile(loss = \"categorical_crossentropy\",\n",
        "    optimizer = keras.optimizers.Adam(learning_rate=1e-4),\n",
        "    metrics = [\"accuracy\"])\n",
        "\n",
        "logdir = os.path.join(\"logs_feature_extraction\", datetime.datetime.now().strftime(\"%Y%m%d-%H%M%S\"))\n",
        "\n",
        "\n",
        "callbacks = [\n",
        "    keras.callbacks.ModelCheckpoint(filepath=\"feature_extraction.h5\", save_best_only=True, monitor=\"val_loss\"),\n",
        "    tf.keras.callbacks.TensorBoard(logdir, histogram_freq=1)\n",
        "]\n",
        "\n",
        "history = model.fit(\n",
        "train_generator,\n",
        "epochs = 60,\n",
        "validation_data=(val_generator),\n",
        "class_weight = class_weights,\n",
        "callbacks = callbacks\n",
        ")"
      ],
      "metadata": {
        "colab": {
          "base_uri": "https://localhost:8080/"
        },
        "id": "iEOb_vPZNmbW",
        "outputId": "633d2130-a0af-448d-e9b9-1ef6a83f6fdc"
      },
      "execution_count": 100,
      "outputs": [
        {
          "output_type": "stream",
          "name": "stdout",
          "text": [
            "Epoch 1/60\n",
            "200/200 [==============================] - 6s 26ms/step - loss: 2.5555 - accuracy: 0.1620 - val_loss: 2.2317 - val_accuracy: 0.3569\n",
            "Epoch 2/60\n",
            "200/200 [==============================] - 5s 25ms/step - loss: 2.0758 - accuracy: 0.2505 - val_loss: 2.1125 - val_accuracy: 0.3800\n",
            "Epoch 3/60\n",
            "200/200 [==============================] - 5s 23ms/step - loss: 1.9264 - accuracy: 0.2872 - val_loss: 2.1235 - val_accuracy: 0.2975\n",
            "Epoch 4/60\n",
            "200/200 [==============================] - 5s 24ms/step - loss: 1.8425 - accuracy: 0.3176 - val_loss: 1.8902 - val_accuracy: 0.4087\n",
            "Epoch 5/60\n",
            "200/200 [==============================] - 5s 24ms/step - loss: 1.7814 - accuracy: 0.3291 - val_loss: 1.8501 - val_accuracy: 0.4200\n",
            "Epoch 6/60\n",
            "200/200 [==============================] - 5s 24ms/step - loss: 1.7492 - accuracy: 0.3569 - val_loss: 1.8316 - val_accuracy: 0.3881\n",
            "Epoch 7/60\n",
            "200/200 [==============================] - 5s 23ms/step - loss: 1.7101 - accuracy: 0.3666 - val_loss: 1.8642 - val_accuracy: 0.3756\n",
            "Epoch 8/60\n",
            "200/200 [==============================] - 5s 24ms/step - loss: 1.6652 - accuracy: 0.3754 - val_loss: 1.7928 - val_accuracy: 0.3969\n",
            "Epoch 9/60\n",
            "200/200 [==============================] - 5s 23ms/step - loss: 1.6221 - accuracy: 0.3850 - val_loss: 1.8204 - val_accuracy: 0.3787\n",
            "Epoch 10/60\n",
            "200/200 [==============================] - 5s 24ms/step - loss: 1.5871 - accuracy: 0.3948 - val_loss: 1.5539 - val_accuracy: 0.5069\n",
            "Epoch 11/60\n",
            "200/200 [==============================] - 5s 23ms/step - loss: 1.5586 - accuracy: 0.4018 - val_loss: 1.7255 - val_accuracy: 0.4050\n",
            "Epoch 12/60\n",
            "200/200 [==============================] - 5s 24ms/step - loss: 1.5261 - accuracy: 0.4187 - val_loss: 1.6277 - val_accuracy: 0.4469\n",
            "Epoch 13/60\n",
            "200/200 [==============================] - 5s 24ms/step - loss: 1.5158 - accuracy: 0.4187 - val_loss: 1.5424 - val_accuracy: 0.4950\n",
            "Epoch 14/60\n",
            "200/200 [==============================] - 5s 24ms/step - loss: 1.4945 - accuracy: 0.4278 - val_loss: 1.5202 - val_accuracy: 0.4894\n",
            "Epoch 15/60\n",
            "200/200 [==============================] - 5s 24ms/step - loss: 1.4647 - accuracy: 0.4281 - val_loss: 1.4755 - val_accuracy: 0.5044\n",
            "Epoch 16/60\n",
            "200/200 [==============================] - 5s 24ms/step - loss: 1.4496 - accuracy: 0.4392 - val_loss: 1.4665 - val_accuracy: 0.5131\n",
            "Epoch 17/60\n",
            "200/200 [==============================] - 5s 23ms/step - loss: 1.4394 - accuracy: 0.4436 - val_loss: 1.5543 - val_accuracy: 0.4669\n",
            "Epoch 18/60\n",
            "200/200 [==============================] - 5s 23ms/step - loss: 1.4091 - accuracy: 0.4508 - val_loss: 1.5413 - val_accuracy: 0.4731\n",
            "Epoch 19/60\n",
            "200/200 [==============================] - 5s 26ms/step - loss: 1.3984 - accuracy: 0.4555 - val_loss: 1.4463 - val_accuracy: 0.5213\n",
            "Epoch 20/60\n",
            "200/200 [==============================] - 5s 23ms/step - loss: 1.3849 - accuracy: 0.4616 - val_loss: 1.4685 - val_accuracy: 0.5063\n",
            "Epoch 21/60\n",
            "200/200 [==============================] - 5s 23ms/step - loss: 1.3840 - accuracy: 0.4677 - val_loss: 1.4891 - val_accuracy: 0.4975\n",
            "Epoch 22/60\n",
            "200/200 [==============================] - 5s 23ms/step - loss: 1.3498 - accuracy: 0.4673 - val_loss: 1.5558 - val_accuracy: 0.4631\n",
            "Epoch 23/60\n",
            "200/200 [==============================] - 5s 23ms/step - loss: 1.3486 - accuracy: 0.4716 - val_loss: 1.5311 - val_accuracy: 0.4675\n",
            "Epoch 24/60\n",
            "200/200 [==============================] - 5s 24ms/step - loss: 1.3387 - accuracy: 0.4735 - val_loss: 1.3917 - val_accuracy: 0.5306\n",
            "Epoch 25/60\n",
            "200/200 [==============================] - 5s 23ms/step - loss: 1.3034 - accuracy: 0.4859 - val_loss: 1.5122 - val_accuracy: 0.4825\n",
            "Epoch 26/60\n",
            "200/200 [==============================] - 5s 23ms/step - loss: 1.3016 - accuracy: 0.4780 - val_loss: 1.4173 - val_accuracy: 0.5288\n",
            "Epoch 27/60\n",
            "200/200 [==============================] - 5s 23ms/step - loss: 1.2925 - accuracy: 0.4838 - val_loss: 1.4448 - val_accuracy: 0.4981\n",
            "Epoch 28/60\n",
            "200/200 [==============================] - 5s 23ms/step - loss: 1.2960 - accuracy: 0.4911 - val_loss: 1.4678 - val_accuracy: 0.4837\n",
            "Epoch 29/60\n",
            "200/200 [==============================] - 5s 24ms/step - loss: 1.2635 - accuracy: 0.4884 - val_loss: 1.3842 - val_accuracy: 0.5394\n",
            "Epoch 30/60\n",
            "200/200 [==============================] - 5s 23ms/step - loss: 1.2551 - accuracy: 0.4923 - val_loss: 1.4367 - val_accuracy: 0.5156\n",
            "Epoch 31/60\n",
            "200/200 [==============================] - 5s 24ms/step - loss: 1.2495 - accuracy: 0.4970 - val_loss: 1.3577 - val_accuracy: 0.5394\n",
            "Epoch 32/60\n",
            "200/200 [==============================] - 5s 23ms/step - loss: 1.2315 - accuracy: 0.5006 - val_loss: 1.5471 - val_accuracy: 0.4681\n",
            "Epoch 33/60\n",
            "200/200 [==============================] - 5s 23ms/step - loss: 1.2229 - accuracy: 0.5050 - val_loss: 1.4209 - val_accuracy: 0.5063\n",
            "Epoch 34/60\n",
            "200/200 [==============================] - 5s 23ms/step - loss: 1.2277 - accuracy: 0.5024 - val_loss: 1.4553 - val_accuracy: 0.4806\n",
            "Epoch 35/60\n",
            "200/200 [==============================] - 5s 23ms/step - loss: 1.2154 - accuracy: 0.5034 - val_loss: 1.3948 - val_accuracy: 0.5219\n",
            "Epoch 36/60\n",
            "200/200 [==============================] - 5s 23ms/step - loss: 1.2007 - accuracy: 0.5147 - val_loss: 1.4539 - val_accuracy: 0.5219\n",
            "Epoch 37/60\n",
            "200/200 [==============================] - 5s 23ms/step - loss: 1.1868 - accuracy: 0.5069 - val_loss: 1.4002 - val_accuracy: 0.5344\n",
            "Epoch 38/60\n",
            "200/200 [==============================] - 5s 23ms/step - loss: 1.1939 - accuracy: 0.5135 - val_loss: 1.4227 - val_accuracy: 0.5050\n",
            "Epoch 39/60\n",
            "200/200 [==============================] - 5s 23ms/step - loss: 1.1814 - accuracy: 0.5163 - val_loss: 1.5736 - val_accuracy: 0.4381\n",
            "Epoch 40/60\n",
            "200/200 [==============================] - 5s 24ms/step - loss: 1.1752 - accuracy: 0.5116 - val_loss: 1.3565 - val_accuracy: 0.5356\n",
            "Epoch 41/60\n",
            "200/200 [==============================] - 5s 24ms/step - loss: 1.1572 - accuracy: 0.5233 - val_loss: 1.3473 - val_accuracy: 0.5419\n",
            "Epoch 42/60\n",
            "200/200 [==============================] - 5s 23ms/step - loss: 1.1570 - accuracy: 0.5213 - val_loss: 1.3633 - val_accuracy: 0.5300\n",
            "Epoch 43/60\n",
            "200/200 [==============================] - 5s 24ms/step - loss: 1.1438 - accuracy: 0.5245 - val_loss: 1.4012 - val_accuracy: 0.5163\n",
            "Epoch 44/60\n",
            "200/200 [==============================] - 5s 23ms/step - loss: 1.1377 - accuracy: 0.5269 - val_loss: 1.4890 - val_accuracy: 0.5000\n",
            "Epoch 45/60\n",
            "200/200 [==============================] - 5s 23ms/step - loss: 1.1300 - accuracy: 0.5322 - val_loss: 1.4209 - val_accuracy: 0.5119\n",
            "Epoch 46/60\n",
            "200/200 [==============================] - 5s 23ms/step - loss: 1.1188 - accuracy: 0.5334 - val_loss: 1.3992 - val_accuracy: 0.5194\n",
            "Epoch 47/60\n",
            "200/200 [==============================] - 5s 23ms/step - loss: 1.1148 - accuracy: 0.5252 - val_loss: 1.3919 - val_accuracy: 0.5312\n",
            "Epoch 48/60\n",
            "200/200 [==============================] - 5s 23ms/step - loss: 1.1120 - accuracy: 0.5263 - val_loss: 1.4548 - val_accuracy: 0.4994\n",
            "Epoch 49/60\n",
            "200/200 [==============================] - 5s 24ms/step - loss: 1.1022 - accuracy: 0.5385 - val_loss: 1.3262 - val_accuracy: 0.5562\n",
            "Epoch 50/60\n",
            "200/200 [==============================] - 5s 23ms/step - loss: 1.1044 - accuracy: 0.5383 - val_loss: 1.5012 - val_accuracy: 0.4844\n",
            "Epoch 51/60\n",
            "200/200 [==============================] - 5s 23ms/step - loss: 1.0873 - accuracy: 0.5377 - val_loss: 1.3989 - val_accuracy: 0.5219\n",
            "Epoch 52/60\n",
            "200/200 [==============================] - 5s 24ms/step - loss: 1.0726 - accuracy: 0.5358 - val_loss: 1.2384 - val_accuracy: 0.6069\n",
            "Epoch 53/60\n",
            "200/200 [==============================] - 5s 23ms/step - loss: 1.0791 - accuracy: 0.5381 - val_loss: 1.3587 - val_accuracy: 0.5456\n",
            "Epoch 54/60\n",
            "200/200 [==============================] - 5s 23ms/step - loss: 1.0603 - accuracy: 0.5410 - val_loss: 1.4308 - val_accuracy: 0.5144\n",
            "Epoch 55/60\n",
            "200/200 [==============================] - 5s 23ms/step - loss: 1.0703 - accuracy: 0.5436 - val_loss: 1.3191 - val_accuracy: 0.5688\n",
            "Epoch 56/60\n",
            "200/200 [==============================] - 5s 23ms/step - loss: 1.0548 - accuracy: 0.5517 - val_loss: 1.5571 - val_accuracy: 0.4550\n",
            "Epoch 57/60\n",
            "200/200 [==============================] - 5s 23ms/step - loss: 1.0557 - accuracy: 0.5437 - val_loss: 1.5161 - val_accuracy: 0.4712\n",
            "Epoch 58/60\n",
            "200/200 [==============================] - 5s 23ms/step - loss: 1.0420 - accuracy: 0.5517 - val_loss: 1.3724 - val_accuracy: 0.5425\n",
            "Epoch 59/60\n",
            "200/200 [==============================] - 5s 23ms/step - loss: 1.0357 - accuracy: 0.5523 - val_loss: 1.5047 - val_accuracy: 0.4737\n",
            "Epoch 60/60\n",
            "200/200 [==============================] - 5s 23ms/step - loss: 1.0366 - accuracy: 0.5461 - val_loss: 1.4963 - val_accuracy: 0.4863\n"
          ]
        }
      ]
    },
    {
      "cell_type": "code",
      "source": [
        ""
      ],
      "metadata": {
        "id": "d01G7-YRQjx3"
      },
      "execution_count": null,
      "outputs": []
    },
    {
      "cell_type": "markdown",
      "source": [
        "### Model Performance - With Weights Compensation"
      ],
      "metadata": {
        "id": "sH-J0aamQkXx"
      }
    },
    {
      "cell_type": "code",
      "source": [
        "plt.plot(history.history['accuracy'])\n",
        "plt.plot(history.history['val_accuracy'])\n",
        "plt.title('model accuracy')\n",
        "plt.ylabel('accuracy')\n",
        "plt.xlabel('epoch')\n",
        "plt.legend(['train', 'valid'], loc='lower right')\n",
        "plt.show()\n",
        "plt.plot(history.history['loss'])\n",
        "plt.plot(history.history['val_loss'])\n",
        "plt.title('model loss')\n",
        "plt.ylabel('loss')\n",
        "plt.xlabel('epoch')\n",
        "plt.legend(['train', 'valid'], loc='upper right')\n",
        "plt.show()"
      ],
      "metadata": {
        "colab": {
          "base_uri": "https://localhost:8080/",
          "height": 573
        },
        "outputId": "5728907c-cfd8-453c-c5ed-acb3f7e86bd7",
        "id": "8SZqKmM4QkXx"
      },
      "execution_count": 101,
      "outputs": [
        {
          "output_type": "display_data",
          "data": {
            "text/plain": [
              "<Figure size 432x288 with 1 Axes>"
            ],
            "image/png": "[encoded data removed]"
          },
          "metadata": {
            "needs_background": "light"
          }
        },
        {
          "output_type": "display_data",
          "data": {
            "text/plain": [
              "<Figure size 432x288 with 1 Axes>"
            ],
            "image/png": "[encoded data removed]"
          },
          "metadata": {
            "needs_background": "light"
          }
        }
      ]
    },
    {
      "cell_type": "code",
      "source": [
        " model.evaluate(val_generator)"
      ],
      "metadata": {
        "colab": {
          "base_uri": "https://localhost:8080/"
        },
        "outputId": "a1d60690-783e-41bd-997d-a6f5575662e5",
        "id": "9dFtaLg5QkXx"
      },
      "execution_count": 102,
      "outputs": [
        {
          "output_type": "stream",
          "name": "stdout",
          "text": [
            "25/25 [==============================] - 0s 15ms/step - loss: 1.4963 - accuracy: 0.4863\n"
          ]
        },
        {
          "output_type": "execute_result",
          "data": {
            "text/plain": [
              "[1.4963395595550537, 0.48625001311302185]"
            ]
          },
          "metadata": {},
          "execution_count": 102
        }
      ]
    },
    {
      "cell_type": "code",
      "source": [
        "x = list(train_generator.class_indices.keys())\n",
        "num_of_test_samples = 1600\n",
        "\n",
        "Y_pred = model.predict_generator(val_generator, num_of_test_samples // batch_size+1)\n",
        "y_pred = np.argmax(Y_pred, axis=1)\n",
        "print()\n",
        "print('Confusion Matrix')\n",
        "print(confusion_matrix(val_generator.classes, y_pred))\n",
        "\n",
        "print()\n",
        "print('Classification Report')\n",
        "target_names = x\n",
        "print(classification_report(val_generator.classes, y_pred, target_names = target_names))"
      ],
      "metadata": {
        "colab": {
          "base_uri": "https://localhost:8080/"
        },
        "outputId": "b567b24c-f1e9-45f9-ae70-5656b27ad72d",
        "id": "aJVn2A40QkXx"
      },
      "execution_count": 103,
      "outputs": [
        {
          "output_type": "stream",
          "name": "stderr",
          "text": [
            "/usr/local/lib/python3.7/dist-packages/ipykernel_launcher.py:4: UserWarning: `Model.predict_generator` is deprecated and will be removed in a future version. Please use `Model.predict`, which supports generators.\n",
            "  after removing the cwd from sys.path.\n"
          ]
        },
        {
          "output_type": "stream",
          "name": "stdout",
          "text": [
            "WARNING:tensorflow:Your input ran out of data; interrupting training. Make sure that your dataset or generator can generate at least `steps_per_epoch * epochs` batches (in this case, 26 batches). You may need to use the repeat() function when building your dataset.\n",
            "\n",
            "Confusion Matrix\n",
            "[[ 18   4   8  15   6   7   5  35  11  10   5   8]\n",
            " [ 13   1   8   7   4   7   6  35  12  11   3   6]\n",
            " [  8   5   6   4   4  12   2  25  14   9   0   9]\n",
            " [  9   4   6  12   6  11   4  33  10  11   2   9]\n",
            " [  1   1   0   3   1   1   3   2   2   2   0   1]\n",
            " [  3   2   1   2   0   2   2   4   2   2   0   0]\n",
            " [  2   0   2   3   1   0   1   3   4   0   1   1]\n",
            " [ 85  42  33  87  35  72  35 172  71  64  20  61]\n",
            " [ 10   2   3   3   1   7   0  14   4   4   2   9]\n",
            " [  8   2   8   5   5  11   4  22  11   4   1  11]\n",
            " [  4   1   1   0   0   1   1   1   2   4   0   0]\n",
            " [ 20   8  10   6   9  18   4  27  11  14   3  12]]\n",
            "\n",
            "Classification Report\n",
            "                precision    recall  f1-score   support\n",
            "\n",
            "          Cell       0.10      0.14      0.12       132\n",
            "    Cell-Multi       0.01      0.01      0.01       113\n",
            "      Cracking       0.07      0.06      0.07        98\n",
            "         Diode       0.08      0.10      0.09       117\n",
            "   Diode-Multi       0.01      0.06      0.02        17\n",
            "      Hot-Spot       0.01      0.10      0.02        20\n",
            "Hot-Spot-Multi       0.01      0.06      0.02        18\n",
            "    No-Anomaly       0.46      0.22      0.30       777\n",
            "Offline-Module       0.03      0.07      0.04        59\n",
            "     Shadowing       0.03      0.04      0.04        92\n",
            "       Soiling       0.00      0.00      0.00        15\n",
            "    Vegetation       0.09      0.08      0.09       142\n",
            "\n",
            "      accuracy                           0.15      1600\n",
            "     macro avg       0.08      0.08      0.07      1600\n",
            "  weighted avg       0.25      0.15      0.18      1600\n",
            "\n"
          ]
        }
      ]
    },
    {
      "cell_type": "code",
      "source": [
        "cm = confusion_matrix(val_generator.classes, y_pred)\n",
        "fig, ax = plt.subplots()\n",
        "im = ax.imshow(cm, interpolation='nearest', cmap=plt.cm.Blues)\n",
        "title = 'Confusion matrix'\n",
        "ax.figure.colorbar(im, ax=ax)\n",
        "ax.set(xticks=np.arange(cm.shape[1]),\n",
        "    yticks=np.arange(cm.shape[0]),\n",
        "    xticklabels=target_names, yticklabels=target_names,\n",
        "    title=title,\n",
        "    ylabel='True label',\n",
        "    xlabel='Predicted label')\n",
        "plt.setp(ax.get_xticklabels(), rotation=45, ha=\"right\",\n",
        "             rotation_mode=\"anchor\")\n",
        "np.set_printoptions(precision=2)\n",
        "plt.show()"
      ],
      "metadata": {
        "colab": {
          "base_uri": "https://localhost:8080/",
          "height": 344
        },
        "outputId": "efd5a8ee-aa44-4080-c36f-499751eb59e1",
        "id": "5cGCHJYyQkXx"
      },
      "execution_count": 104,
      "outputs": [
        {
          "output_type": "display_data",
          "data": {
            "text/plain": [
              "<Figure size 432x288 with 2 Axes>"
            ],
            "image/png": "[encoded data removed]"
          },
          "metadata": {
            "needs_background": "light"
          }
        }
      ]
    }
  ]
}