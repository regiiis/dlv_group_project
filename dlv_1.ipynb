{
  "nbformat": 4,
  "nbformat_minor": 0,
  "metadata": {
    "colab": {
      "name": "dlv_1.ipynb",
      "provenance": [],
      "collapsed_sections": [],
      "toc_visible": true,
      "machine_shape": "hm",
      "authorship_tag": "ABX9TyMqFzVMDjAV7xAe7nN2Kaa0",
      "include_colab_link": true
    },
    "kernelspec": {
      "name": "python3",
      "display_name": "Python 3"
    },
    "language_info": {
      "name": "python"
    },
    "accelerator": "GPU",
    "gpuClass": "standard"
  },
  "cells": [
    {
      "cell_type": "markdown",
      "metadata": {
        "id": "view-in-github",
        "colab_type": "text"
      },
      "source": [
        "<a href=\"https://colab.research.google.com/github/regiiis/dlv_group_project/blob/main/dlv_1.ipynb\" target=\"_parent\"><img src=\"https://colab.research.google.com/assets/colab-badge.svg\" alt=\"Open In Colab\"/></a>"
      ]
    },
    {
      "cell_type": "markdown",
      "source": [
        "# DLV Group Project"
      ],
      "metadata": {
        "id": "c0Pg8lH3Z2qt"
      }
    },
    {
      "cell_type": "markdown",
      "source": [
        "## Set up"
      ],
      "metadata": {
        "id": "M5NRUJhIhLJR"
      }
    },
    {
      "cell_type": "code",
      "source": [
        "gpu_info = !nvidia-smi\n",
        "gpu_info = '\\n'.join(gpu_info)\n",
        "if gpu_info.find('failed') >= 0:\n",
        "  print('Not connected to a GPU')\n",
        "else:\n",
        "  print(gpu_info)"
      ],
      "metadata": {
        "id": "trYV8QVVgo9M",
        "outputId": "4f48aaee-ac58-44c7-c275-54e05eada602",
        "colab": {
          "base_uri": "https://localhost:8080/"
        }
      },
      "execution_count": 63,
      "outputs": [
        {
          "output_type": "stream",
          "name": "stdout",
          "text": [
            "Sun Jun 26 18:13:28 2022       \n",
            "+-----------------------------------------------------------------------------+\n",
            "| NVIDIA-SMI 460.32.03    Driver Version: 460.32.03    CUDA Version: 11.2     |\n",
            "|-------------------------------+----------------------+----------------------+\n",
            "| GPU  Name        Persistence-M| Bus-Id        Disp.A | Volatile Uncorr. ECC |\n",
            "| Fan  Temp  Perf  Pwr:Usage/Cap|         Memory-Usage | GPU-Util  Compute M. |\n",
            "|                               |                      |               MIG M. |\n",
            "|===============================+======================+======================|\n",
            "|   0  Tesla P100-PCIE...  Off  | 00000000:00:04.0 Off |                    0 |\n",
            "| N/A   34C    P0    28W / 250W |      0MiB / 16280MiB |      0%      Default |\n",
            "|                               |                      |                  N/A |\n",
            "+-------------------------------+----------------------+----------------------+\n",
            "                                                                               \n",
            "+-----------------------------------------------------------------------------+\n",
            "| Processes:                                                                  |\n",
            "|  GPU   GI   CI        PID   Type   Process name                  GPU Memory |\n",
            "|        ID   ID                                                   Usage      |\n",
            "|=============================================================================|\n",
            "|  No running processes found                                                 |\n",
            "+-----------------------------------------------------------------------------+\n"
          ]
        }
      ]
    },
    {
      "cell_type": "code",
      "source": [
        "%pylab inline\n",
        "import matplotlib.pyplot as plt\n",
        "import matplotlib.image as mpimg\n",
        "import numpy as np\n",
        "import pandas as pd\n",
        "import os, datetime\n",
        "\n",
        "# General imports\n",
        "import tensorflow as tf\n",
        "tf.compat.v1.enable_eager_execution(\n",
        "    config=None, device_policy=None, execution_mode=None\n",
        ")\n",
        "\n",
        "# Shortcuts to keras if (however from tensorflow)\n",
        "from tensorflow import keras\n",
        "from tensorflow.keras.applications.vgg16 import VGG16\n",
        "from tensorflow.keras.preprocessing.image import ImageDataGenerator\n",
        "from tensorflow.keras.models import Sequential\n",
        "from tensorflow.keras.layers import Conv2D, MaxPooling2D\n",
        "from tensorflow.keras.layers import Activation, Dropout, Flatten, Dense, BatchNormalization\n",
        "from tensorflow.keras.callbacks import TensorBoard \n",
        "from tensorflow.keras import layers\n",
        "from IPython.display import Image\n",
        "\n",
        "from sklearn.metrics import confusion_matrix\n",
        "from sklearn.metrics import classification_report\n",
        "from sklearn.utils.class_weight import compute_class_weight\n",
        "import sys\n"
      ],
      "metadata": {
        "id": "w1X3Kj1pgaTs",
        "colab": {
          "base_uri": "https://localhost:8080/"
        },
        "outputId": "5dca7f2b-80f4-490d-8023-bf0ed9d2a4a5"
      },
      "execution_count": 64,
      "outputs": [
        {
          "output_type": "stream",
          "name": "stdout",
          "text": [
            "Populating the interactive namespace from numpy and matplotlib\n"
          ]
        },
        {
          "output_type": "stream",
          "name": "stderr",
          "text": [
            "/usr/local/lib/python3.7/dist-packages/IPython/core/magics/pylab.py:161: UserWarning: pylab import has clobbered these variables: ['f']\n",
            "`%matplotlib` prevents importing * from pylab and numpy\n",
            "  \"\\n`%matplotlib` prevents importing * from pylab and numpy\"\n"
          ]
        }
      ]
    },
    {
      "cell_type": "code",
      "source": [
        "from google.colab import drive\n",
        "drive.mount('/content/drive')"
      ],
      "metadata": {
        "id": "WSMPorlhZ74t",
        "colab": {
          "base_uri": "https://localhost:8080/"
        },
        "outputId": "09a25c3c-d051-45fe-a1a6-11530091400d"
      },
      "execution_count": 65,
      "outputs": [
        {
          "output_type": "stream",
          "name": "stdout",
          "text": [
            "Drive already mounted at /content/drive; to attempt to forcibly remount, call drive.mount(\"/content/drive\", force_remount=True).\n"
          ]
        }
      ]
    },
    {
      "cell_type": "code",
      "source": [
        "!unzip \"/content/drive/My Drive/Colab Notebooks/data/2020-02-14_InfraredSolarModules.zip\""
      ],
      "metadata": {
        "id": "dRDtIrj8B3pU",
        "colab": {
          "base_uri": "https://localhost:8080/"
        },
        "outputId": "a66945ef-8146-455f-fee2-2be3f08d8daf"
      },
      "execution_count": 66,
      "outputs": [
        {
          "output_type": "stream",
          "name": "stdout",
          "text": [
            "Archive:  /content/drive/My Drive/Colab Notebooks/data/2020-02-14_InfraredSolarModules.zip\n",
            "replace InfraredSolarModules/module_metadata.json? [y]es, [n]o, [A]ll, [N]one, [r]ename: N\n"
          ]
        }
      ]
    },
    {
      "cell_type": "code",
      "source": [
        "df = pd.read_json(\"/content/InfraredSolarModules/module_metadata.json\",orient=\"index\")\n",
        "df['image_name'] = df['image_filepath'].str[7:]\n",
        "df"
      ],
      "metadata": {
        "colab": {
          "base_uri": "https://localhost:8080/",
          "height": 424
        },
        "id": "y6pI1HadgNe6",
        "outputId": "684a9654-1ac8-4368-b843-45ba9aa66653"
      },
      "execution_count": 67,
      "outputs": [
        {
          "output_type": "execute_result",
          "data": {
            "text/plain": [
              "         image_filepath anomaly_class image_name\n",
              "13357  images/13357.jpg    No-Anomaly  13357.jpg\n",
              "13356  images/13356.jpg    No-Anomaly  13356.jpg\n",
              "19719  images/19719.jpg    No-Anomaly  19719.jpg\n",
              "11542  images/11542.jpg    No-Anomaly  11542.jpg\n",
              "11543  images/11543.jpg    No-Anomaly  11543.jpg\n",
              "...                 ...           ...        ...\n",
              "8488    images/8488.jpg    Vegetation   8488.jpg\n",
              "8489    images/8489.jpg    Vegetation   8489.jpg\n",
              "7464    images/7464.jpg      Cracking   7464.jpg\n",
              "18065  images/18065.jpg    No-Anomaly  18065.jpg\n",
              "13354  images/13354.jpg    No-Anomaly  13354.jpg\n",
              "\n",
              "[20000 rows x 3 columns]"
            ],
            "text/html": [
              "\n",
              "  <div id=\"df-20add70e-0bb1-4708-a301-3cbaeda71c6d\">\n",
              "    <div class=\"colab-df-container\">\n",
              "      <div>\n",
              "<style scoped>\n",
              "    .dataframe tbody tr th:only-of-type {\n",
              "        vertical-align: middle;\n",
              "    }\n",
              "\n",
              "    .dataframe tbody tr th {\n",
              "        vertical-align: top;\n",
              "    }\n",
              "\n",
              "    .dataframe thead th {\n",
              "        text-align: right;\n",
              "    }\n",
              "</style>\n",
              "<table border=\"1\" class=\"dataframe\">\n",
              "  <thead>\n",
              "    <tr style=\"text-align: right;\">\n",
              "      <th></th>\n",
              "      <th>image_filepath</th>\n",
              "      <th>anomaly_class</th>\n",
              "      <th>image_name</th>\n",
              "    </tr>\n",
              "  </thead>\n",
              "  <tbody>\n",
              "    <tr>\n",
              "      <th>13357</th>\n",
              "      <td>images/13357.jpg</td>\n",
              "      <td>No-Anomaly</td>\n",
              "      <td>13357.jpg</td>\n",
              "    </tr>\n",
              "    <tr>\n",
              "      <th>13356</th>\n",
              "      <td>images/13356.jpg</td>\n",
              "      <td>No-Anomaly</td>\n",
              "      <td>13356.jpg</td>\n",
              "    </tr>\n",
              "    <tr>\n",
              "      <th>19719</th>\n",
              "      <td>images/19719.jpg</td>\n",
              "      <td>No-Anomaly</td>\n",
              "      <td>19719.jpg</td>\n",
              "    </tr>\n",
              "    <tr>\n",
              "      <th>11542</th>\n",
              "      <td>images/11542.jpg</td>\n",
              "      <td>No-Anomaly</td>\n",
              "      <td>11542.jpg</td>\n",
              "    </tr>\n",
              "    <tr>\n",
              "      <th>11543</th>\n",
              "      <td>images/11543.jpg</td>\n",
              "      <td>No-Anomaly</td>\n",
              "      <td>11543.jpg</td>\n",
              "    </tr>\n",
              "    <tr>\n",
              "      <th>...</th>\n",
              "      <td>...</td>\n",
              "      <td>...</td>\n",
              "      <td>...</td>\n",
              "    </tr>\n",
              "    <tr>\n",
              "      <th>8488</th>\n",
              "      <td>images/8488.jpg</td>\n",
              "      <td>Vegetation</td>\n",
              "      <td>8488.jpg</td>\n",
              "    </tr>\n",
              "    <tr>\n",
              "      <th>8489</th>\n",
              "      <td>images/8489.jpg</td>\n",
              "      <td>Vegetation</td>\n",
              "      <td>8489.jpg</td>\n",
              "    </tr>\n",
              "    <tr>\n",
              "      <th>7464</th>\n",
              "      <td>images/7464.jpg</td>\n",
              "      <td>Cracking</td>\n",
              "      <td>7464.jpg</td>\n",
              "    </tr>\n",
              "    <tr>\n",
              "      <th>18065</th>\n",
              "      <td>images/18065.jpg</td>\n",
              "      <td>No-Anomaly</td>\n",
              "      <td>18065.jpg</td>\n",
              "    </tr>\n",
              "    <tr>\n",
              "      <th>13354</th>\n",
              "      <td>images/13354.jpg</td>\n",
              "      <td>No-Anomaly</td>\n",
              "      <td>13354.jpg</td>\n",
              "    </tr>\n",
              "  </tbody>\n",
              "</table>\n",
              "<p>20000 rows × 3 columns</p>\n",
              "</div>\n",
              "      <button class=\"colab-df-convert\" onclick=\"convertToInteractive('df-20add70e-0bb1-4708-a301-3cbaeda71c6d')\"\n",
              "              title=\"Convert this dataframe to an interactive table.\"\n",
              "              style=\"display:none;\">\n",
              "        \n",
              "  <svg xmlns=\"http://www.w3.org/2000/svg\" height=\"24px\"viewBox=\"0 0 24 24\"\n",
              "       width=\"24px\">\n",
              "    <path d=\"M0 0h24v24H0V0z\" fill=\"none\"/>\n",
              "    <path d=\"M18.56 5.44l.94 2.06.94-2.06 2.06-.94-2.06-.94-.94-2.06-.94 2.06-2.06.94zm-11 1L8.5 8.5l.94-2.06 2.06-.94-2.06-.94L8.5 2.5l-.94 2.06-2.06.94zm10 10l.94 2.06.94-2.06 2.06-.94-2.06-.94-.94-2.06-.94 2.06-2.06.94z\"/><path d=\"M17.41 7.96l-1.37-1.37c-.4-.4-.92-.59-1.43-.59-.52 0-1.04.2-1.43.59L10.3 9.45l-7.72 7.72c-.78.78-.78 2.05 0 2.83L4 21.41c.39.39.9.59 1.41.59.51 0 1.02-.2 1.41-.59l7.78-7.78 2.81-2.81c.8-.78.8-2.07 0-2.86zM5.41 20L4 18.59l7.72-7.72 1.47 1.35L5.41 20z\"/>\n",
              "  </svg>\n",
              "      </button>\n",
              "      \n",
              "  <style>\n",
              "    .colab-df-container {\n",
              "      display:flex;\n",
              "      flex-wrap:wrap;\n",
              "      gap: 12px;\n",
              "    }\n",
              "\n",
              "    .colab-df-convert {\n",
              "      background-color: #E8F0FE;\n",
              "      border: none;\n",
              "      border-radius: 50%;\n",
              "      cursor: pointer;\n",
              "      display: none;\n",
              "      fill: #1967D2;\n",
              "      height: 32px;\n",
              "      padding: 0 0 0 0;\n",
              "      width: 32px;\n",
              "    }\n",
              "\n",
              "    .colab-df-convert:hover {\n",
              "      background-color: #E2EBFA;\n",
              "      box-shadow: 0px 1px 2px rgba(60, 64, 67, 0.3), 0px 1px 3px 1px rgba(60, 64, 67, 0.15);\n",
              "      fill: #174EA6;\n",
              "    }\n",
              "\n",
              "    [theme=dark] .colab-df-convert {\n",
              "      background-color: #3B4455;\n",
              "      fill: #D2E3FC;\n",
              "    }\n",
              "\n",
              "    [theme=dark] .colab-df-convert:hover {\n",
              "      background-color: #434B5C;\n",
              "      box-shadow: 0px 1px 3px 1px rgba(0, 0, 0, 0.15);\n",
              "      filter: drop-shadow(0px 1px 2px rgba(0, 0, 0, 0.3));\n",
              "      fill: #FFFFFF;\n",
              "    }\n",
              "  </style>\n",
              "\n",
              "      <script>\n",
              "        const buttonEl =\n",
              "          document.querySelector('#df-20add70e-0bb1-4708-a301-3cbaeda71c6d button.colab-df-convert');\n",
              "        buttonEl.style.display =\n",
              "          google.colab.kernel.accessAllowed ? 'block' : 'none';\n",
              "\n",
              "        async function convertToInteractive(key) {\n",
              "          const element = document.querySelector('#df-20add70e-0bb1-4708-a301-3cbaeda71c6d');\n",
              "          const dataTable =\n",
              "            await google.colab.kernel.invokeFunction('convertToInteractive',\n",
              "                                                     [key], {});\n",
              "          if (!dataTable) return;\n",
              "\n",
              "          const docLinkHtml = 'Like what you see? Visit the ' +\n",
              "            '<a target=\"_blank\" href=https://colab.research.google.com/notebooks/data_table.ipynb>data table notebook</a>'\n",
              "            + ' to learn more about interactive tables.';\n",
              "          element.innerHTML = '';\n",
              "          dataTable['output_type'] = 'display_data';\n",
              "          await google.colab.output.renderOutput(dataTable, element);\n",
              "          const docLink = document.createElement('div');\n",
              "          docLink.innerHTML = docLinkHtml;\n",
              "          element.appendChild(docLink);\n",
              "        }\n",
              "      </script>\n",
              "    </div>\n",
              "  </div>\n",
              "  "
            ]
          },
          "metadata": {},
          "execution_count": 67
        }
      ]
    },
    {
      "cell_type": "code",
      "source": [
        "reduced_df = df.sample(frac=0.8,random_state=200)       # random state is a seed value\n",
        "train_df = reduced_df.sample(frac=0.8,random_state=200) # random state is a seed value\n",
        "validation_test_df = reduced_df.drop(train_df.index)\n",
        "validation_df = validation_test_df.sample(frac=0.5,random_state=200)\n",
        "test_df = validation_test_df.drop(validation_df.index)\n",
        "\n",
        "print(train_df.info())\n",
        "print()\n",
        "print(validation_df.info())\n",
        "print()\n",
        "test_df.info()\n",
        "\n",
        "test_df.anomaly_class"
      ],
      "metadata": {
        "id": "7arGPB-M7ATH",
        "outputId": "aa3b2325-96b0-4337-a8bc-fb8718fad4c8",
        "colab": {
          "base_uri": "https://localhost:8080/"
        }
      },
      "execution_count": 68,
      "outputs": [
        {
          "output_type": "stream",
          "name": "stdout",
          "text": [
            "<class 'pandas.core.frame.DataFrame'>\n",
            "Int64Index: 12800 entries, 19208 to 2880\n",
            "Data columns (total 3 columns):\n",
            " #   Column          Non-Null Count  Dtype \n",
            "---  ------          --------------  ----- \n",
            " 0   image_filepath  12800 non-null  object\n",
            " 1   anomaly_class   12800 non-null  object\n",
            " 2   image_name      12800 non-null  object\n",
            "dtypes: object(3)\n",
            "memory usage: 400.0+ KB\n",
            "None\n",
            "\n",
            "<class 'pandas.core.frame.DataFrame'>\n",
            "Int64Index: 1600 entries, 12389 to 2391\n",
            "Data columns (total 3 columns):\n",
            " #   Column          Non-Null Count  Dtype \n",
            "---  ------          --------------  ----- \n",
            " 0   image_filepath  1600 non-null   object\n",
            " 1   anomaly_class   1600 non-null   object\n",
            " 2   image_name      1600 non-null   object\n",
            "dtypes: object(3)\n",
            "memory usage: 50.0+ KB\n",
            "None\n",
            "\n",
            "<class 'pandas.core.frame.DataFrame'>\n",
            "Int64Index: 1600 entries, 2358 to 14124\n",
            "Data columns (total 3 columns):\n",
            " #   Column          Non-Null Count  Dtype \n",
            "---  ------          --------------  ----- \n",
            " 0   image_filepath  1600 non-null   object\n",
            " 1   anomaly_class   1600 non-null   object\n",
            " 2   image_name      1600 non-null   object\n",
            "dtypes: object(3)\n",
            "memory usage: 50.0+ KB\n"
          ]
        },
        {
          "output_type": "execute_result",
          "data": {
            "text/plain": [
              "2358          Diode\n",
              "9560     Vegetation\n",
              "17012    No-Anomaly\n",
              "6147           Cell\n",
              "11880    No-Anomaly\n",
              "            ...    \n",
              "1520          Diode\n",
              "1330          Diode\n",
              "4781     Cell-Multi\n",
              "14401    No-Anomaly\n",
              "14124    No-Anomaly\n",
              "Name: anomaly_class, Length: 1600, dtype: object"
            ]
          },
          "metadata": {},
          "execution_count": 68
        }
      ]
    },
    {
      "cell_type": "code",
      "source": [
        "img1 = mpimg.imread('/content/InfraredSolarModules/images/13356.jpg') #No-Anomaly\n",
        "img2 = mpimg.imread('/content/InfraredSolarModules/images/8488.jpg')  #Vegetation\n",
        "img3 = mpimg.imread('/content/InfraredSolarModules/images/8489.jpg')  #Vegetation\n",
        "img4 = mpimg.imread('/content/InfraredSolarModules/images/7464.jpg')  #Cracking\n",
        "\n",
        "f, axarr = plt.subplots(2,3)\n",
        "axarr[0,0].imshow(img1)\n",
        "axarr[0,1].imshow(img2)\n",
        "axarr[0,2].imshow(img3)\n",
        "axarr[1,1].imshow(img4)"
      ],
      "metadata": {
        "id": "XB3Q6FkRgoaa",
        "colab": {
          "base_uri": "https://localhost:8080/",
          "height": 285
        },
        "outputId": "77378c0d-8319-4fee-d15f-d7cd4d4f1452"
      },
      "execution_count": 69,
      "outputs": [
        {
          "output_type": "execute_result",
          "data": {
            "text/plain": [
              "<matplotlib.image.AxesImage at 0x7f00c94aec10>"
            ]
          },
          "metadata": {},
          "execution_count": 69
        },
        {
          "output_type": "display_data",
          "data": {
            "text/plain": [
              "<Figure size 432x288 with 6 Axes>"
            ],
            "image/png": "[encoded data removed]"
          },
          "metadata": {
            "needs_background": "light"
          }
        }
      ]
    },
    {
      "cell_type": "markdown",
      "source": [
        "## Model - With Transfer Learning"
      ],
      "metadata": {
        "id": "QPVeW8Wpytzk"
      }
    },
    {
      "cell_type": "markdown",
      "source": [
        "### **Feature Extraction** - without data augmentation"
      ],
      "metadata": {
        "id": "mRmn93ZxuUBB"
      }
    },
    {
      "cell_type": "code",
      "source": [
        "image_height = 40\n",
        "image_width = 32\n",
        "batch_size = 64\n",
        "\n",
        "datagen_train = ImageDataGenerator(rescale=1./255)\n",
        "datagen_validation = ImageDataGenerator(rescale=1./255)\n",
        "\n",
        "train_generator = datagen_train.flow_from_dataframe(\n",
        "    dataframe = train_df,\n",
        "    directory = \"/content/InfraredSolarModules/images/\",\n",
        "    x_col = \"image_name\",\n",
        "    y_col = \"anomaly_class\",\n",
        "    class_mode = \"categorical\",\n",
        "    target_size = (image_height, image_width),\n",
        "    batch_size = batch_size,\n",
        "    color_mode = \"rgb\"\n",
        ")\n",
        "\n",
        "val_generator = datagen_train.flow_from_dataframe(\n",
        "    dataframe = validation_df,\n",
        "    directory = \"/content/InfraredSolarModules/images/\",\n",
        "    x_col = \"image_name\",\n",
        "    y_col = \"anomaly_class\",\n",
        "    class_mode = \"categorical\",\n",
        "    target_size = (image_height, image_width),\n",
        "    batch_size = batch_size,\n",
        "    color_mode = \"rgb\"\n",
        "     )"
      ],
      "metadata": {
        "colab": {
          "base_uri": "https://localhost:8080/"
        },
        "id": "ww6VVlV1ufms",
        "outputId": "4af1771e-f060-48bf-b67f-320a9814a4a5"
      },
      "execution_count": 91,
      "outputs": [
        {
          "output_type": "stream",
          "name": "stdout",
          "text": [
            "Found 12800 validated image filenames belonging to 12 classes.\n",
            "Found 1600 validated image filenames belonging to 12 classes.\n"
          ]
        }
      ]
    },
    {
      "cell_type": "code",
      "source": [
        "pre_trained_model = VGG16(\n",
        "    input_shape=(image_width,image_height,3),\n",
        "    include_top=False,\n",
        "    weights=\"imagenet\"\n",
        ")\n",
        "\n",
        "for layer in pre_trained_model.layers:\n",
        "    layer.trainable=False\n",
        "    \n",
        "pre_trained_model.summary()"
      ],
      "metadata": {
        "colab": {
          "base_uri": "https://localhost:8080/"
        },
        "id": "aVKtUe8XvQPd",
        "outputId": "55f03694-9e2e-42ea-e401-763551b5ddf0"
      },
      "execution_count": 71,
      "outputs": [
        {
          "output_type": "stream",
          "name": "stdout",
          "text": [
            "Downloading data from https://storage.googleapis.com/tensorflow/keras-applications/vgg16/vgg16_weights_tf_dim_ordering_tf_kernels_notop.h5\n",
            "58892288/58889256 [==============================] - 0s 0us/step\n",
            "58900480/58889256 [==============================] - 0s 0us/step\n",
            "Model: \"vgg16\"\n",
            "_________________________________________________________________\n",
            " Layer (type)                Output Shape              Param #   \n",
            "=================================================================\n",
            " input_1 (InputLayer)        [(None, 32, 40, 3)]       0         \n",
            "                                                                 \n",
            " block1_conv1 (Conv2D)       (None, 32, 40, 64)        1792      \n",
            "                                                                 \n",
            " block1_conv2 (Conv2D)       (None, 32, 40, 64)        36928     \n",
            "                                                                 \n",
            " block1_pool (MaxPooling2D)  (None, 16, 20, 64)        0         \n",
            "                                                                 \n",
            " block2_conv1 (Conv2D)       (None, 16, 20, 128)       73856     \n",
            "                                                                 \n",
            " block2_conv2 (Conv2D)       (None, 16, 20, 128)       147584    \n",
            "                                                                 \n",
            " block2_pool (MaxPooling2D)  (None, 8, 10, 128)        0         \n",
            "                                                                 \n",
            " block3_conv1 (Conv2D)       (None, 8, 10, 256)        295168    \n",
            "                                                                 \n",
            " block3_conv2 (Conv2D)       (None, 8, 10, 256)        590080    \n",
            "                                                                 \n",
            " block3_conv3 (Conv2D)       (None, 8, 10, 256)        590080    \n",
            "                                                                 \n",
            " block3_pool (MaxPooling2D)  (None, 4, 5, 256)         0         \n",
            "                                                                 \n",
            " block4_conv1 (Conv2D)       (None, 4, 5, 512)         1180160   \n",
            "                                                                 \n",
            " block4_conv2 (Conv2D)       (None, 4, 5, 512)         2359808   \n",
            "                                                                 \n",
            " block4_conv3 (Conv2D)       (None, 4, 5, 512)         2359808   \n",
            "                                                                 \n",
            " block4_pool (MaxPooling2D)  (None, 2, 2, 512)         0         \n",
            "                                                                 \n",
            " block5_conv1 (Conv2D)       (None, 2, 2, 512)         2359808   \n",
            "                                                                 \n",
            " block5_conv2 (Conv2D)       (None, 2, 2, 512)         2359808   \n",
            "                                                                 \n",
            " block5_conv3 (Conv2D)       (None, 2, 2, 512)         2359808   \n",
            "                                                                 \n",
            " block5_pool (MaxPooling2D)  (None, 1, 1, 512)         0         \n",
            "                                                                 \n",
            "=================================================================\n",
            "Total params: 14,714,688\n",
            "Trainable params: 0\n",
            "Non-trainable params: 14,714,688\n",
            "_________________________________________________________________\n"
          ]
        }
      ]
    },
    {
      "cell_type": "code",
      "source": [
        "model = tf.keras.models.Sequential([\n",
        "    pre_trained_model,\n",
        "    \n",
        "    Flatten(),    \n",
        "    Dense(256,activation=\"relu\"),\n",
        "    BatchNormalization(),\n",
        "    Dropout(0.5),\n",
        "    Dense(12, activation='softmax')\n",
        "])\n",
        "\n",
        "model.summary()"
      ],
      "metadata": {
        "colab": {
          "base_uri": "https://localhost:8080/"
        },
        "id": "61oBaVzPv6NA",
        "outputId": "6e6e16e5-0910-4d7c-fe7d-18f1fcec50c4"
      },
      "execution_count": 72,
      "outputs": [
        {
          "output_type": "stream",
          "name": "stdout",
          "text": [
            "Model: \"sequential\"\n",
            "_________________________________________________________________\n",
            " Layer (type)                Output Shape              Param #   \n",
            "=================================================================\n",
            " vgg16 (Functional)          (None, 1, 1, 512)         14714688  \n",
            "                                                                 \n",
            " flatten (Flatten)           (None, 512)               0         \n",
            "                                                                 \n",
            " dense (Dense)               (None, 256)               131328    \n",
            "                                                                 \n",
            " batch_normalization (BatchN  (None, 256)              1024      \n",
            " ormalization)                                                   \n",
            "                                                                 \n",
            " dropout (Dropout)           (None, 256)               0         \n",
            "                                                                 \n",
            " dense_1 (Dense)             (None, 12)                3084      \n",
            "                                                                 \n",
            "=================================================================\n",
            "Total params: 14,850,124\n",
            "Trainable params: 134,924\n",
            "Non-trainable params: 14,715,200\n",
            "_________________________________________________________________\n"
          ]
        }
      ]
    },
    {
      "cell_type": "markdown",
      "source": [
        "#### Compute Model"
      ],
      "metadata": {
        "id": "lLHGur-TFgJ6"
      }
    },
    {
      "cell_type": "code",
      "source": [
        "model.compile(loss=\"categorical_crossentropy\",\n",
        "    optimizer=\"adam\",\n",
        "    metrics=[\"accuracy\"])\n",
        "\n",
        "\n",
        "logdir = os.path.join(\"logs_feature_extraction\", datetime.datetime.now().strftime(\"%Y%m%d-%H%M%S\"))\n",
        "\n",
        "\n",
        "callbacks = [\n",
        "    keras.callbacks.ModelCheckpoint(filepath=\"feature_extraction.h5\", save_best_only=True, monitor=\"val_loss\"),\n",
        "    tf.keras.callbacks.TensorBoard(logdir, histogram_freq=1)\n",
        "]\n",
        "\n",
        "history = model.fit(\n",
        "train_generator,\n",
        "epochs=30,\n",
        "validation_data=(val_generator),\n",
        "callbacks=callbacks\n",
        ")"
      ],
      "metadata": {
        "colab": {
          "base_uri": "https://localhost:8080/"
        },
        "id": "0JVHXLsjxBAS",
        "outputId": "026f6acf-a41b-4740-94e5-1a3526c11e29"
      },
      "execution_count": 30,
      "outputs": [
        {
          "output_type": "stream",
          "name": "stdout",
          "text": [
            "Epoch 1/30\n",
            "400/400 [==============================] - 10s 22ms/step - loss: 1.5544 - accuracy: 0.5535 - val_loss: 1.5816 - val_accuracy: 0.5300\n",
            "Epoch 2/30\n",
            "400/400 [==============================] - 8s 21ms/step - loss: 1.2498 - accuracy: 0.6231 - val_loss: 1.4479 - val_accuracy: 0.5800\n",
            "Epoch 3/30\n",
            "400/400 [==============================] - 8s 21ms/step - loss: 1.1902 - accuracy: 0.6338 - val_loss: 1.1404 - val_accuracy: 0.6488\n",
            "Epoch 4/30\n",
            "400/400 [==============================] - 11s 28ms/step - loss: 1.1529 - accuracy: 0.6445 - val_loss: 1.0898 - val_accuracy: 0.6650\n",
            "Epoch 5/30\n",
            "400/400 [==============================] - 9s 22ms/step - loss: 1.1292 - accuracy: 0.6466 - val_loss: 1.1174 - val_accuracy: 0.6381\n",
            "Epoch 6/30\n",
            "400/400 [==============================] - 9s 23ms/step - loss: 1.1147 - accuracy: 0.6516 - val_loss: 1.1413 - val_accuracy: 0.6212\n",
            "Epoch 7/30\n",
            "400/400 [==============================] - 9s 21ms/step - loss: 1.0998 - accuracy: 0.6570 - val_loss: 1.0829 - val_accuracy: 0.6544\n",
            "Epoch 8/30\n",
            "400/400 [==============================] - 9s 21ms/step - loss: 1.0909 - accuracy: 0.6530 - val_loss: 1.0602 - val_accuracy: 0.6612\n",
            "Epoch 9/30\n",
            "400/400 [==============================] - 11s 29ms/step - loss: 1.0838 - accuracy: 0.6618 - val_loss: 1.1665 - val_accuracy: 0.6469\n",
            "Epoch 10/30\n",
            "400/400 [==============================] - 8s 21ms/step - loss: 1.0816 - accuracy: 0.6602 - val_loss: 1.0872 - val_accuracy: 0.6681\n",
            "Epoch 11/30\n",
            "400/400 [==============================] - 10s 24ms/step - loss: 1.0627 - accuracy: 0.6652 - val_loss: 1.0314 - val_accuracy: 0.6712\n",
            "Epoch 12/30\n",
            "400/400 [==============================] - 8s 21ms/step - loss: 1.0647 - accuracy: 0.6645 - val_loss: 1.0931 - val_accuracy: 0.6581\n",
            "Epoch 13/30\n",
            "400/400 [==============================] - 9s 23ms/step - loss: 1.0591 - accuracy: 0.6657 - val_loss: 1.0728 - val_accuracy: 0.6700\n",
            "Epoch 14/30\n",
            "400/400 [==============================] - 8s 21ms/step - loss: 1.0459 - accuracy: 0.6735 - val_loss: 1.0872 - val_accuracy: 0.6587\n",
            "Epoch 15/30\n",
            "400/400 [==============================] - 8s 21ms/step - loss: 1.0466 - accuracy: 0.6675 - val_loss: 1.0778 - val_accuracy: 0.6681\n",
            "Epoch 16/30\n",
            "400/400 [==============================] - 8s 21ms/step - loss: 1.0429 - accuracy: 0.6748 - val_loss: 1.0720 - val_accuracy: 0.6606\n",
            "Epoch 17/30\n",
            "400/400 [==============================] - 8s 21ms/step - loss: 1.0337 - accuracy: 0.6734 - val_loss: 1.0496 - val_accuracy: 0.6744\n",
            "Epoch 18/30\n",
            "400/400 [==============================] - 8s 21ms/step - loss: 1.0244 - accuracy: 0.6764 - val_loss: 1.0648 - val_accuracy: 0.6625\n",
            "Epoch 19/30\n",
            "400/400 [==============================] - 9s 21ms/step - loss: 1.0339 - accuracy: 0.6728 - val_loss: 1.0228 - val_accuracy: 0.6787\n",
            "Epoch 20/30\n",
            "400/400 [==============================] - 8s 21ms/step - loss: 1.0367 - accuracy: 0.6759 - val_loss: 1.0217 - val_accuracy: 0.6719\n",
            "Epoch 21/30\n",
            "400/400 [==============================] - 8s 21ms/step - loss: 1.0267 - accuracy: 0.6741 - val_loss: 1.1110 - val_accuracy: 0.6519\n",
            "Epoch 22/30\n",
            "400/400 [==============================] - 8s 21ms/step - loss: 1.0242 - accuracy: 0.6714 - val_loss: 1.0406 - val_accuracy: 0.6656\n",
            "Epoch 23/30\n",
            "400/400 [==============================] - 8s 21ms/step - loss: 1.0228 - accuracy: 0.6731 - val_loss: 1.0505 - val_accuracy: 0.6637\n",
            "Epoch 24/30\n",
            "400/400 [==============================] - 8s 21ms/step - loss: 1.0182 - accuracy: 0.6770 - val_loss: 1.0758 - val_accuracy: 0.6744\n",
            "Epoch 25/30\n",
            "400/400 [==============================] - 9s 21ms/step - loss: 1.0241 - accuracy: 0.6777 - val_loss: 1.0150 - val_accuracy: 0.6800\n",
            "Epoch 26/30\n",
            "400/400 [==============================] - 8s 21ms/step - loss: 1.0167 - accuracy: 0.6763 - val_loss: 1.1991 - val_accuracy: 0.6375\n",
            "Epoch 27/30\n",
            "400/400 [==============================] - 8s 21ms/step - loss: 1.0025 - accuracy: 0.6818 - val_loss: 1.0621 - val_accuracy: 0.6681\n",
            "Epoch 28/30\n",
            "400/400 [==============================] - 8s 21ms/step - loss: 1.0103 - accuracy: 0.6831 - val_loss: 1.0226 - val_accuracy: 0.6800\n",
            "Epoch 29/30\n",
            "400/400 [==============================] - 8s 21ms/step - loss: 1.0159 - accuracy: 0.6794 - val_loss: 1.0324 - val_accuracy: 0.6750\n",
            "Epoch 30/30\n",
            "400/400 [==============================] - 8s 21ms/step - loss: 1.0166 - accuracy: 0.6821 - val_loss: 1.0388 - val_accuracy: 0.6687\n"
          ]
        }
      ]
    },
    {
      "cell_type": "markdown",
      "source": [
        "#### Model Performance"
      ],
      "metadata": {
        "id": "T01JlsQxEovl"
      }
    },
    {
      "cell_type": "code",
      "source": [
        "plt.plot(history.history['accuracy'])\n",
        "plt.plot(history.history['val_accuracy'])\n",
        "plt.title('model accuracy')\n",
        "plt.ylabel('accuracy')\n",
        "plt.xlabel('epoch')\n",
        "plt.legend(['train', 'valid'], loc='lower right')\n",
        "plt.show()\n",
        "plt.plot(history.history['loss'])\n",
        "plt.plot(history.history['val_loss'])\n",
        "plt.title('model loss')\n",
        "plt.ylabel('loss')\n",
        "plt.xlabel('epoch')\n",
        "plt.legend(['train', 'valid'], loc='upper right')\n",
        "plt.show()"
      ],
      "metadata": {
        "colab": {
          "base_uri": "https://localhost:8080/",
          "height": 573
        },
        "id": "Qi0z-5fq5R8J",
        "outputId": "4ea6bc6a-557e-485d-d0b2-4918f9ac6ec1"
      },
      "execution_count": 31,
      "outputs": [
        {
          "output_type": "display_data",
          "data": {
            "text/plain": [
              "<Figure size 432x288 with 1 Axes>"
            ],
            "image/png": "[encoded data removed]"
          },
          "metadata": {
            "needs_background": "light"
          }
        },
        {
          "output_type": "display_data",
          "data": {
            "text/plain": [
              "<Figure size 432x288 with 1 Axes>"
            ],
            "image/png": "[encoded data removed]"
          },
          "metadata": {
            "needs_background": "light"
          }
        }
      ]
    },
    {
      "cell_type": "code",
      "source": [
        " model.evaluate(val_generator)"
      ],
      "metadata": {
        "colab": {
          "base_uri": "https://localhost:8080/"
        },
        "id": "mvR9IHpgFmBy",
        "outputId": "b897ef42-d0bd-4dba-d6e6-f7e05ba0bac1"
      },
      "execution_count": 121,
      "outputs": [
        {
          "output_type": "stream",
          "name": "stdout",
          "text": [
            "50/50 [==============================] - 1s 13ms/step - loss: 0.8784 - accuracy: 0.7100\n"
          ]
        },
        {
          "output_type": "execute_result",
          "data": {
            "text/plain": [
              "[0.8783880472183228, 0.7099999785423279]"
            ]
          },
          "metadata": {},
          "execution_count": 121
        }
      ]
    },
    {
      "cell_type": "markdown",
      "source": [
        "### Addition: Fine Tuning"
      ],
      "metadata": {
        "id": "c9a4rFu8G4V8"
      }
    },
    {
      "cell_type": "markdown",
      "source": [
        "The steps for fine-tuning are as follows:\n",
        "\n",
        "1. Add our custom network on top of an already-trained base network.\n",
        "2. Freeze the base network.\n",
        "3. Train the part we added.\n",
        "4. Unfreeze some layers in the base network. (Note that you should not unfreeze “batch normalization” layers, which are not relevant here since there are no such layers in VGG16)\n",
        "5. Jointly train both these layers and the part we added."
      ],
      "metadata": {
        "id": "lPE-jmojScmF"
      }
    },
    {
      "cell_type": "code",
      "source": [
        "pre_trained_model.summary()"
      ],
      "metadata": {
        "id": "RwutxKwtG2tE"
      },
      "execution_count": null,
      "outputs": []
    },
    {
      "cell_type": "code",
      "source": [
        "# Freeze all layers until the block_5_ layers\n",
        "pre_trained_model.trainable = True\n",
        "for layer in pre_trained_model.layers[:-4]:\n",
        "    layer.trainable = False\n",
        "    \n",
        "for layer in pre_trained_model.layers[0:]:\n",
        "    print('layer name = ' + layer.name + ', shape = ' + repr(layer.output_shape)\n",
        "            + ', trainable = ' + repr(layer.trainable))  "
      ],
      "metadata": {
        "id": "ZmQIl5OhTQHS"
      },
      "execution_count": null,
      "outputs": []
    },
    {
      "cell_type": "markdown",
      "source": [
        "#### Compute Fine Tuning"
      ],
      "metadata": {
        "id": "PvD67pf8elok"
      }
    },
    {
      "cell_type": "code",
      "source": [
        "model.compile(loss=\"categorical_crossentropy\",\n",
        "    optimizer=keras.optimizers.Adam(learning_rate=1e-5),\n",
        "    metrics=[\"accuracy\"])"
      ],
      "metadata": {
        "id": "pt25mzwJTlU3"
      },
      "execution_count": 124,
      "outputs": []
    },
    {
      "cell_type": "code",
      "source": [
        "model.summary()"
      ],
      "metadata": {
        "id": "Km5SgInjXX6B"
      },
      "execution_count": null,
      "outputs": []
    },
    {
      "cell_type": "code",
      "source": [
        "logdir = os.path.join(\"logs_fine_tuning\", datetime.datetime.now().strftime(\"%Y%m%d-%H%M%S\"))\n",
        "\n",
        "\n",
        "callbacks = [\n",
        "    keras.callbacks.ModelCheckpoint(filepath=\"fine_tuning.keras\", save_best_only=True, monitor=\"val_loss\"),\n",
        "    tf.keras.callbacks.TensorBoard(logdir, histogram_freq=1)\n",
        "]\n",
        "\n",
        "history = model.fit(\n",
        "train_generator,\n",
        "epochs=30,\n",
        "validation_data = val_generator,\n",
        "callbacks = callbacks\n",
        ")"
      ],
      "metadata": {
        "id": "A0Mw5k8lToi4"
      },
      "execution_count": null,
      "outputs": []
    },
    {
      "cell_type": "markdown",
      "source": [
        "#### Model Performance - With Fine Tuning"
      ],
      "metadata": {
        "id": "qNWizcz-kbwK"
      }
    },
    {
      "cell_type": "code",
      "source": [
        "plt.plot(history.history['accuracy'])\n",
        "plt.plot(history.history['val_accuracy'])\n",
        "plt.title('model accuracy')\n",
        "plt.ylabel('accuracy')\n",
        "plt.xlabel('epoch')\n",
        "plt.legend(['train', 'valid'], loc='lower right')\n",
        "plt.show()\n",
        "plt.plot(history.history['loss'])\n",
        "plt.plot(history.history['val_loss'])\n",
        "plt.title('model loss')\n",
        "plt.ylabel('loss')\n",
        "plt.xlabel('epoch')\n",
        "plt.legend(['train', 'valid'], loc='upper right')\n",
        "plt.show()"
      ],
      "metadata": {
        "colab": {
          "base_uri": "https://localhost:8080/",
          "height": 573
        },
        "outputId": "cdae342c-a890-4a17-c4d6-23c27f7d2343",
        "id": "qN-asTIJkbwK"
      },
      "execution_count": 127,
      "outputs": [
        {
          "output_type": "display_data",
          "data": {
            "text/plain": [
              "<Figure size 432x288 with 1 Axes>"
            ],
            "image/png": "[encoded data removed]"
          },
          "metadata": {
            "needs_background": "light"
          }
        },
        {
          "output_type": "display_data",
          "data": {
            "text/plain": [
              "<Figure size 432x288 with 1 Axes>"
            ],
            "image/png": "[encoded data removed]"
          },
          "metadata": {
            "needs_background": "light"
          }
        }
      ]
    },
    {
      "cell_type": "code",
      "source": [
        " model.evaluate(val_generator)"
      ],
      "metadata": {
        "colab": {
          "base_uri": "https://localhost:8080/"
        },
        "outputId": "fde2c2db-e0d7-432b-ea63-96a4ac353f35",
        "id": "_rWrGtQNkbwK"
      },
      "execution_count": 128,
      "outputs": [
        {
          "output_type": "stream",
          "name": "stdout",
          "text": [
            "50/50 [==============================] - 1s 12ms/step - loss: 0.9118 - accuracy: 0.7350\n"
          ]
        },
        {
          "output_type": "execute_result",
          "data": {
            "text/plain": [
              "[0.911791980266571, 0.7350000143051147]"
            ]
          },
          "metadata": {},
          "execution_count": 128
        }
      ]
    },
    {
      "cell_type": "code",
      "source": [
        "train_generator.class_indices"
      ],
      "metadata": {
        "colab": {
          "base_uri": "https://localhost:8080/"
        },
        "id": "Pfxrbc_Pwbr2",
        "outputId": "29db55ec-1480-472d-9f07-64ddd07ab28f"
      },
      "execution_count": 129,
      "outputs": [
        {
          "output_type": "execute_result",
          "data": {
            "text/plain": [
              "{'Cell': 0,\n",
              " 'Cell-Multi': 1,\n",
              " 'Cracking': 2,\n",
              " 'Diode': 3,\n",
              " 'Diode-Multi': 4,\n",
              " 'Hot-Spot': 5,\n",
              " 'Hot-Spot-Multi': 6,\n",
              " 'No-Anomaly': 7,\n",
              " 'Offline-Module': 8,\n",
              " 'Shadowing': 9,\n",
              " 'Soiling': 10,\n",
              " 'Vegetation': 11}"
            ]
          },
          "metadata": {},
          "execution_count": 129
        }
      ]
    },
    {
      "cell_type": "code",
      "source": [
        "x = list(train_generator.class_indices.keys())\n",
        "num_of_test_samples = 1600\n",
        "\n",
        "Y_pred = model.predict_generator(val_generator, num_of_test_samples // batch_size+1)\n",
        "y_pred = np.argmax(Y_pred, axis=1)\n",
        "print()\n",
        "print('Confusion Matrix')\n",
        "print(confusion_matrix(val_generator.classes, y_pred))\n",
        "\n",
        "print()\n",
        "print('Classification Report')\n",
        "target_names = x\n",
        "print(classification_report(val_generator.classes, y_pred, target_names = target_names))"
      ],
      "metadata": {
        "colab": {
          "base_uri": "https://localhost:8080/"
        },
        "id": "vgbRbBLMmF03",
        "outputId": "0779fc8d-671c-433a-c3a0-43e4b2f5ed41"
      },
      "execution_count": 130,
      "outputs": [
        {
          "output_type": "stream",
          "name": "stderr",
          "text": [
            "/usr/local/lib/python3.7/dist-packages/ipykernel_launcher.py:8: UserWarning: `Model.predict_generator` is deprecated and will be removed in a future version. Please use `Model.predict`, which supports generators.\n",
            "  \n"
          ]
        },
        {
          "output_type": "stream",
          "name": "stdout",
          "text": [
            "WARNING:tensorflow:Your input ran out of data; interrupting training. Make sure that your dataset or generator can generate at least `steps_per_epoch * epochs` batches (in this case, 51 batches). You may need to use the repeat() function when building your dataset.\n",
            "\n",
            "Confusion Matrix\n",
            "[[ 21   8   5  12   0   1   1  50   7  10   3  14]\n",
            " [  6  14   3  10   0   0   0  59   5   9   0   7]\n",
            " [ 12   6   5   6   0   0   1  44   8   5   0  11]\n",
            " [ 10  10   6   7   3   0   2  54   4   5   3  13]\n",
            " [  2   2   2   0   0   0   1   9   1   0   0   0]\n",
            " [  3   0   0   5   0   0   0   8   2   1   0   1]\n",
            " [  4   1   2   0   0   1   0   7   1   1   0   1]\n",
            " [ 81  53  34  60   5   7   4 356  45  47   8  77]\n",
            " [  6   4   3   1   0   0   0  34   2   2   1   6]\n",
            " [ 10  10   4   6   0   1   1  45   2   5   1   7]\n",
            " [  2   0   1   1   0   0   0   7   0   2   0   2]\n",
            " [ 12  11   8   7   1   1   0  68  10   8   0  16]]\n",
            "\n",
            "Classification Report\n",
            "                precision    recall  f1-score   support\n",
            "\n",
            "          Cell       0.12      0.16      0.14       132\n",
            "    Cell-Multi       0.12      0.12      0.12       113\n",
            "      Cracking       0.07      0.05      0.06        98\n",
            "         Diode       0.06      0.06      0.06       117\n",
            "   Diode-Multi       0.00      0.00      0.00        17\n",
            "      Hot-Spot       0.00      0.00      0.00        20\n",
            "Hot-Spot-Multi       0.00      0.00      0.00        18\n",
            "    No-Anomaly       0.48      0.46      0.47       777\n",
            "Offline-Module       0.02      0.03      0.03        59\n",
            "     Shadowing       0.05      0.05      0.05        92\n",
            "       Soiling       0.00      0.00      0.00        15\n",
            "    Vegetation       0.10      0.11      0.11       142\n",
            "\n",
            "      accuracy                           0.27      1600\n",
            "     macro avg       0.09      0.09      0.09      1600\n",
            "  weighted avg       0.27      0.27      0.27      1600\n",
            "\n"
          ]
        }
      ]
    },
    {
      "cell_type": "code",
      "source": [
        "cm = confusion_matrix(val_generator.classes, y_pred)\n",
        "fig, ax = plt.subplots()\n",
        "im = ax.imshow(cm, interpolation='nearest', cmap=plt.cm.Blues)\n",
        "title = 'Confusion matrix'\n",
        "ax.figure.colorbar(im, ax=ax)\n",
        "ax.set(xticks=np.arange(cm.shape[1]),\n",
        "    yticks=np.arange(cm.shape[0]),\n",
        "    xticklabels=target_names, yticklabels=target_names,\n",
        "    title=title,\n",
        "    ylabel='True label',\n",
        "    xlabel='Predicted label')\n",
        "plt.setp(ax.get_xticklabels(), rotation=45, ha=\"right\",\n",
        "             rotation_mode=\"anchor\")\n",
        "np.set_printoptions(precision=2)\n",
        "plt.show()"
      ],
      "metadata": {
        "colab": {
          "base_uri": "https://localhost:8080/",
          "height": 344
        },
        "id": "0bkYGGdI1DAx",
        "outputId": "9c30902e-25a6-415a-9d99-ef01edbf9f17"
      },
      "execution_count": 131,
      "outputs": [
        {
          "output_type": "display_data",
          "data": {
            "text/plain": [
              "<Figure size 432x288 with 2 Axes>"
            ],
            "image/png": "[encoded data removed]"
          },
          "metadata": {
            "needs_background": "light"
          }
        }
      ]
    },
    {
      "cell_type": "code",
      "source": [
        "x = list(train_generator.class_indices.keys())\n",
        "y = train_generator.classes\n",
        "plt.hist(y, bins = 12)\n",
        "plt.show()\n",
        "y = val_generator.classes\n",
        "plt.hist(y, bins = 12)\n",
        "plt.show()"
      ],
      "metadata": {
        "colab": {
          "base_uri": "https://localhost:8080/",
          "height": 513
        },
        "id": "KPneZboL3G_O",
        "outputId": "5aec156e-2da7-4620-81c8-b9bb5e9570d3"
      },
      "execution_count": 53,
      "outputs": [
        {
          "output_type": "display_data",
          "data": {
            "text/plain": [
              "<Figure size 432x288 with 1 Axes>"
            ],
            "image/png": "[encoded data removed]"
          },
          "metadata": {
            "needs_background": "light"
          }
        },
        {
          "output_type": "display_data",
          "data": {
            "text/plain": [
              "<Figure size 432x288 with 1 Axes>"
            ],
            "image/png": "[encoded data removed]"
          },
          "metadata": {
            "needs_background": "light"
          }
        }
      ]
    },
    {
      "cell_type": "markdown",
      "source": [
        "## Model - With Imbalanced Data Handling"
      ],
      "metadata": {
        "id": "Ah8PsGEIGBQg"
      }
    },
    {
      "cell_type": "markdown",
      "source": [
        "### Compute Weights"
      ],
      "metadata": {
        "id": "EHzNVhCZfwCd"
      }
    },
    {
      "cell_type": "code",
      "source": [
        "train_classes = np.unique(train_generator.classes)\n",
        "print(train_classes)\n",
        "train_generator.classes\n",
        "print(train_generator.classes)"
      ],
      "metadata": {
        "colab": {
          "base_uri": "https://localhost:8080/"
        },
        "id": "xaM6-UqmHA7q",
        "outputId": "f5e07809-dd41-47e8-a9b0-0826043017b6"
      },
      "execution_count": 117,
      "outputs": [
        {
          "output_type": "stream",
          "name": "stdout",
          "text": [
            "[ 0  1  2  3  4  5  6  7  8  9 10 11]\n",
            "[7, 9, 7, 0, 9, 7, 7, 1, 1, 11, 6, 11, 7, 10, 2, 7, 3, 7, 7, 1, 7, 0, 11, 7, 5, 7, 0, 7, 7, 7, 7, 9, 7, 8, 9, 7, 9, 9, 7, 7, 7, 11, 1, 7, 7, 7, 0, 7, 4, 3, 7, 7, 7, 7, 8, 11, 1, 3, 0, 7, 11, 7, 0, 7, 7, 1, 0, 11, 0, 1, 7, 7, 7, 7, 1, 7, 7, 7, 8, 7, 9, 7, 8, 7, 7, 7, 11, 7, 1, 10, 7, 7, 7, 7, 0, 0, 7, 6, 2, 7, 7, 7, 3, 7, 7, 3, 7, 7, 3, 7, 9, 7, 7, 7, 0, 1, 8, 7, 11, 10, 11, 3, 3, 7, 2, 3, 7, 7, 7, 7, 8, 7, 7, 7, 3, 8, 11, 7, 0, 7, 7, 1, 11, 7, 7, 0, 8, 7, 4, 7, 0, 0, 8, 7, 7, 7, 7, 0, 3, 6, 7, 7, 11, 5, 11, 9, 11, 7, 7, 7, 2, 1, 11, 7, 2, 10, 7, 7, 11, 11, 7, 7, 0, 2, 3, 7, 1, 7, 7, 0, 7, 3, 7, 7, 7, 7, 0, 11, 11, 11, 7, 7, 7, 7, 8, 0, 7, 9, 0, 7, 7, 11, 0, 7, 7, 7, 2, 9, 7, 7, 7, 10, 7, 11, 7, 1, 7, 7, 7, 7, 6, 7, 0, 7, 1, 10, 9, 7, 0, 7, 8, 1, 7, 7, 3, 7, 7, 7, 3, 11, 11, 11, 0, 3, 7, 7, 7, 7, 0, 7, 3, 7, 7, 11, 7, 7, 7, 11, 2, 7, 7, 0, 7, 2, 7, 7, 5, 1, 1, 0, 1, 1, 1, 11, 7, 7, 7, 7, 8, 7, 1, 7, 7, 7, 7, 2, 2, 7, 7, 10, 1, 0, 7, 1, 9, 7, 11, 1, 0, 9, 7, 7, 11, 1, 7, 7, 3, 0, 7, 7, 11, 8, 7, 0, 2, 3, 7, 8, 0, 7, 1, 7, 7, 7, 7, 0, 7, 11, 9, 7, 11, 1, 3, 4, 7, 2, 3, 7, 5, 7, 3, 7, 7, 7, 0, 7, 11, 0, 7, 7, 7, 0, 0, 7, 9, 7, 7, 0, 9, 11, 5, 4, 3, 7, 7, 9, 3, 1, 7, 9, 6, 7, 0, 7, 11, 7, 7, 1, 7, 7, 7, 0, 1, 3, 0, 11, 9, 7, 7, 7, 7, 7, 8, 7, 7, 0, 5, 3, 11, 3, 7, 9, 7, 7, 3, 0, 7, 5, 7, 7, 7, 6, 7, 7, 2, 11, 9, 11, 7, 7, 7, 8, 7, 9, 3, 7, 7, 1, 7, 7, 0, 11, 11, 7, 9, 11, 7, 7, 1, 1, 7, 9, 0, 6, 7, 7, 11, 2, 9, 7, 7, 7, 8, 7, 0, 11, 3, 7, 7, 11, 6, 0, 7, 7, 11, 3, 9, 7, 7, 7, 7, 7, 1, 0, 7, 7, 3, 3, 1, 2, 2, 8, 3, 1, 7, 4, 8, 3, 7, 7, 8, 10, 7, 3, 5, 7, 1, 7, 2, 7, 1, 9, 7, 4, 8, 7, 3, 1, 11, 7, 4, 3, 7, 3, 7, 0, 8, 7, 0, 2, 7, 1, 0, 3, 6, 7, 4, 7, 8, 7, 2, 1, 3, 7, 7, 7, 7, 7, 0, 7, 7, 10, 0, 2, 11, 7, 2, 1, 7, 3, 11, 7, 9, 3, 0, 0, 7, 0, 11, 11, 7, 0, 7, 7, 11, 8, 2, 3, 3, 4, 1, 1, 8, 9, 7, 7, 7, 3, 9, 10, 1, 7, 7, 6, 3, 3, 7, 7, 6, 8, 11, 7, 7, 7, 7, 7, 7, 7, 2, 1, 1, 7, 11, 4, 7, 7, 7, 7, 7, 9, 7, 1, 7, 7, 7, 0, 7, 7, 3, 7, 0, 7, 7, 7, 2, 7, 7, 7, 2, 0, 7, 7, 7, 7, 7, 3, 7, 7, 3, 7, 7, 11, 2, 0, 2, 7, 11, 7, 7, 0, 1, 7, 7, 11, 1, 11, 7, 0, 7, 10, 6, 7, 7, 0, 7, 8, 7, 0, 1, 7, 11, 2, 7, 7, 11, 0, 7, 7, 1, 0, 1, 7, 7, 7, 7, 7, 7, 1, 0, 3, 7, 7, 3, 7, 3, 3, 7, 0, 1, 2, 7, 7, 7, 2, 7, 7, 9, 7, 2, 9, 7, 0, 3, 0, 2, 11, 11, 7, 7, 7, 7, 11, 2, 7, 7, 8, 2, 5, 1, 3, 7, 3, 0, 0, 3, 7, 3, 2, 7, 0, 7, 7, 3, 7, 2, 7, 9, 2, 9, 2, 0, 7, 3, 7, 10, 7, 7, 3, 11, 7, 7, 7, 1, 0, 2, 2, 7, 7, 11, 7, 1, 7, 1, 7, 7, 2, 7, 7, 7, 7, 0, 2, 7, 7, 3, 3, 7, 7, 7, 3, 1, 7, 11, 2, 7, 7, 1, 7, 2, 7, 2, 7, 0, 7, 7, 0, 7, 7, 7, 0, 11, 10, 7, 7, 7, 7, 0, 11, 0, 7, 7, 7, 7, 7, 7, 11, 1, 3, 0, 11, 7, 7, 7, 7, 7, 7, 1, 3, 3, 9, 6, 7, 7, 7, 7, 7, 2, 11, 1, 1, 0, 7, 3, 8, 10, 7, 2, 2, 9, 7, 3, 7, 11, 7, 7, 2, 7, 8, 7, 1, 7, 1, 3, 2, 7, 7, 7, 7, 7, 0, 7, 2, 7, 7, 3, 3, 11, 7, 7, 7, 7, 7, 3, 7, 0, 11, 2, 1, 9, 7, 7, 7, 3, 7, 7, 5, 7, 7, 8, 3, 7, 8, 7, 7, 0, 2, 9, 7, 11, 3, 7, 1, 1, 7, 7, 1, 7, 7, 2, 7, 8, 7, 11, 7, 7, 3, 6, 7, 7, 0, 9, 3, 0, 7, 7, 7, 0, 0, 10, 7, 7, 9, 0, 4, 7, 7, 2, 3, 11, 0, 1, 7, 7, 7, 7, 9, 10, 7, 7, 11, 7, 7, 3, 7, 9, 7, 1, 7, 1, 7, 7, 7, 7, 1, 7, 3, 3, 7, 0, 0, 7, 7, 0, 3, 0, 7, 11, 5, 7, 7, 7, 1, 7, 7, 7, 7, 7, 5, 2, 11, 7, 3, 7, 7, 7, 7, 8, 0, 6, 7, 6, 8, 11, 7, 11, 1, 10, 8, 7, 7, 7, 3, 7, 7, 7, 7, 7, 11, 8, 7, 0, 7, 1, 7, 7, 7, 7, 7, 1, 1, 7, 7, 0, 9, 7, 7, 7, 7, 7, 7, 9, 7, 7, 7, 1, 7, 7, 8, 7, 1, 7, 7, 7, 9, 7, 10, 1, 8, 7, 0, 7, 8, 11, 1, 7, 2, 9, 7, 3, 1, 7, 7, 0, 1, 7, 7, 3, 7, 7, 7, 7, 7, 1, 0, 7, 7, 8, 2, 1, 7, 7, 11, 7, 10, 7, 7, 3, 9, 10, 7, 0, 0, 7, 7, 7, 7, 2, 2, 7, 11, 0, 11, 8, 7, 9, 2, 7, 11, 3, 7, 0, 9, 7, 7, 0, 7, 11, 7, 7, 7, 6, 11, 2, 7, 3, 1, 1, 7, 7, 3, 7, 5, 7, 3, 7, 7, 7, 7, 1, 0, 7, 7, 1, 10, 2, 7, 3, 0, 7, 7, 9, 7, 7, 7, 8, 1, 7, 7, 9, 7, 7, 7, 0, 7, 7, 9, 7, 7, 7, 8, 7, 2, 0, 0, 9, 3, 7, 7, 11, 7, 9, 7, 7, 7, 11, 7, 7, 2, 0, 7, 3, 7, 7, 0, 7, 0, 11, 1, 0, 7, 7, 7, 11, 2, 7, 7, 1, 7, 7, 3, 7, 0, 7, 7, 11, 7, 7, 11, 0, 0, 8, 7, 11, 3, 7, 7, 7, 1, 8, 7, 6, 3, 0, 7, 2, 3, 7, 9, 1, 1, 7, 3, 3, 7, 0, 0, 2, 11, 7, 7, 7, 3, 7, 7, 7, 7, 9, 11, 7, 8, 0, 7, 9, 7, 5, 3, 7, 0, 7, 7, 7, 7, 9, 7, 7, 11, 7, 7, 3, 7, 7, 7, 7, 7, 7, 7, 0, 7, 3, 7, 7, 7, 7, 2, 7, 11, 8, 7, 7, 3, 7, 0, 3, 0, 7, 7, 11, 7, 7, 0, 11, 0, 7, 9, 7, 7, 3, 11, 6, 7, 7, 0, 0, 7, 7, 9, 7, 7, 11, 7, 2, 0, 3, 0, 7, 0, 0, 3, 10, 8, 7, 7, 8, 7, 1, 7, 6, 1, 7, 0, 7, 1, 1, 7, 7, 7, 9, 7, 0, 7, 1, 7, 7, 9, 3, 9, 7, 7, 7, 7, 0, 7, 7, 7, 1, 11, 11, 0, 7, 7, 11, 7, 3, 7, 7, 11, 1, 7, 7, 7, 3, 9, 7, 7, 7, 8, 7, 0, 9, 9, 7, 3, 7, 2, 9, 11, 7, 6, 4, 7, 7, 7, 0, 7, 7, 11, 3, 8, 0, 3, 2, 7, 10, 7, 7, 3, 9, 7, 7, 7, 9, 7, 7, 11, 1, 7, 9, 7, 2, 9, 9, 8, 7, 7, 7, 11, 7, 7, 0, 0, 7, 9, 7, 7, 7, 7, 7, 3, 7, 7, 0, 9, 7, 1, 0, 10, 11, 7, 7, 7, 0, 3, 7, 9, 7, 7, 1, 7, 3, 3, 7, 3, 2, 6, 6, 8, 8, 7, 1, 7, 11, 3, 3, 7, 11, 3, 0, 9, 1, 8, 7, 0, 7, 7, 7, 7, 7, 2, 7, 7, 7, 7, 9, 9, 7, 7, 8, 11, 1, 7, 7, 1, 3, 4, 7, 7, 11, 7, 3, 11, 7, 11, 0, 1, 9, 7, 7, 9, 3, 7, 5, 7, 7, 7, 7, 7, 9, 1, 7, 7, 7, 9, 7, 2, 0, 7, 7, 0, 7, 0, 1, 7, 7, 7, 7, 7, 7, 7, 7, 7, 3, 8, 2, 7, 1, 7, 7, 7, 7, 2, 3, 7, 7, 0, 11, 0, 7, 7, 7, 9, 7, 3, 2, 7, 0, 7, 7, 7, 7, 7, 0, 7, 1, 7, 1, 7, 7, 7, 9, 10, 0, 7, 4, 11, 1, 7, 7, 0, 3, 7, 0, 7, 9, 0, 7, 2, 7, 7, 3, 7, 9, 7, 7, 7, 7, 7, 0, 7, 0, 7, 9, 7, 7, 0, 2, 7, 0, 1, 11, 7, 1, 7, 7, 3, 11, 9, 7, 7, 7, 7, 7, 11, 11, 0, 0, 2, 7, 7, 3, 7, 7, 7, 11, 3, 7, 5, 7, 7, 3, 7, 1, 7, 0, 11, 1, 2, 7, 7, 0, 0, 7, 7, 7, 7, 7, 3, 11, 7, 7, 7, 7, 7, 7, 7, 8, 1, 7, 9, 7, 9, 7, 9, 7, 2, 6, 7, 7, 7, 7, 7, 7, 7, 11, 6, 7, 7, 1, 0, 7, 7, 7, 7, 3, 7, 7, 3, 7, 7, 9, 7, 0, 0, 3, 7, 2, 1, 2, 6, 0, 7, 7, 4, 0, 1, 7, 2, 7, 0, 7, 7, 7, 7, 7, 7, 7, 0, 1, 7, 3, 7, 11, 0, 7, 11, 1, 0, 3, 11, 7, 7, 7, 1, 3, 7, 7, 7, 7, 3, 8, 8, 1, 7, 7, 7, 7, 9, 7, 0, 5, 7, 11, 3, 7, 7, 0, 7, 7, 1, 0, 7, 7, 8, 7, 11, 7, 9, 7, 7, 3, 7, 7, 2, 3, 9, 7, 7, 7, 1, 1, 7, 7, 2, 3, 7, 7, 7, 8, 3, 11, 0, 6, 7, 11, 3, 3, 11, 7, 7, 3, 2, 7, 7, 8, 7, 11, 0, 3, 2, 7, 11, 7, 7, 11, 7, 7, 7, 1, 2, 1, 11, 3, 3, 7, 0, 8, 0, 7, 11, 3, 4, 3, 1, 9, 1, 11, 10, 7, 7, 8, 7, 1, 7, 11, 7, 7, 7, 9, 11, 1, 3, 7, 11, 7, 7, 11, 0, 11, 7, 3, 7, 7, 7, 3, 9, 7, 0, 7, 7, 7, 11, 7, 0, 0, 9, 2, 7, 7, 2, 7, 11, 7, 7, 7, 2, 9, 1, 6, 8, 7, 7, 0, 7, 3, 7, 7, 2, 7, 1, 7, 1, 9, 9, 7, 7, 11, 7, 7, 7, 7, 7, 7, 7, 0, 9, 3, 6, 7, 9, 3, 1, 11, 2, 0, 7, 8, 9, 11, 3, 7, 7, 2, 5, 11, 5, 1, 9, 7, 5, 3, 10, 0, 7, 0, 7, 7, 7, 0, 11, 7, 11, 0, 0, 11, 1, 7, 7, 6, 6, 7, 4, 3, 9, 7, 7, 7, 1, 7, 7, 3, 7, 11, 7, 11, 7, 7, 7, 7, 8, 3, 7, 2, 11, 7, 7, 7, 7, 9, 1, 7, 2, 7, 9, 7, 11, 7, 0, 11, 8, 7, 7, 11, 3, 7, 8, 7, 11, 7, 2, 7, 7, 7, 7, 7, 3, 11, 7, 7, 7, 7, 4, 11, 11, 7, 7, 7, 7, 7, 9, 7, 0, 3, 7, 1, 7, 9, 1, 8, 2, 7, 11, 1, 3, 7, 3, 7, 9, 7, 0, 7, 11, 7, 3, 1, 7, 1, 0, 3, 11, 7, 7, 7, 0, 0, 8, 1, 7, 7, 7, 7, 7, 7, 7, 7, 2, 7, 7, 11, 10, 7, 11, 7, 7, 7, 5, 0, 10, 1, 7, 1, 7, 3, 7, 7, 11, 7, 0, 3, 0, 0, 7, 7, 3, 1, 11, 9, 7, 7, 7, 7, 7, 11, 8, 7, 11, 9, 1, 11, 7, 9, 7, 3, 0, 7, 0, 11, 7, 7, 0, 3, 7, 7, 8, 7, 7, 7, 7, 4, 0, 7, 7, 2, 7, 7, 0, 7, 7, 7, 7, 7, 7, 9, 8, 7, 7, 3, 11, 0, 7, 0, 7, 2, 1, 7, 11, 7, 7, 7, 7, 7, 11, 11, 0, 0, 7, 7, 7, 7, 0, 0, 7, 9, 9, 7, 8, 7, 7, 7, 7, 7, 7, 7, 0, 7, 7, 7, 7, 11, 8, 1, 7, 7, 0, 0, 9, 3, 7, 7, 7, 7, 9, 7, 7, 7, 7, 3, 7, 7, 7, 0, 7, 7, 7, 8, 7, 7, 3, 7, 7, 7, 0, 0, 3, 7, 8, 2, 11, 7, 7, 7, 7, 7, 10, 0, 7, 1, 11, 9, 7, 7, 1, 7, 7, 7, 11, 7, 11, 0, 7, 7, 1, 3, 0, 3, 11, 11, 0, 8, 7, 7, 7, 7, 11, 7, 1, 7, 7, 7, 7, 11, 7, 11, 7, 7, 1, 7, 0, 7, 2, 7, 7, 7, 9, 1, 0, 1, 7, 3, 7, 11, 1, 0, 7, 7, 7, 7, 0, 7, 8, 1, 8, 7, 11, 7, 7, 7, 7, 7, 7, 7, 11, 11, 7, 8, 7, 7, 7, 3, 0, 11, 7, 11, 7, 11, 7, 1, 7, 7, 3, 7, 7, 11, 9, 7, 7, 7, 8, 1, 6, 7, 7, 7, 1, 8, 7, 7, 3, 0, 7, 2, 7, 7, 8, 7, 7, 3, 7, 8, 11, 9, 7, 0, 7, 1, 0, 7, 7, 9, 7, 1, 0, 11, 0, 7, 11, 9, 7, 7, 7, 0, 9, 11, 7, 3, 9, 7, 7, 0, 7, 11, 11, 7, 7, 3, 7, 7, 1, 0, 9, 0, 7, 7, 7, 7, 1, 7, 0, 8, 7, 7, 7, 1, 7, 7, 11, 6, 1, 0, 7, 7, 7, 7, 0, 9, 7, 7, 6, 7, 8, 7, 2, 7, 11, 0, 8, 0, 7, 7, 0, 11, 7, 8, 7, 9, 2, 7, 5, 3, 11, 7, 3, 9, 11, 3, 7, 7, 3, 7, 7, 5, 7, 3, 4, 7, 0, 7, 8, 2, 7, 7, 0, 7, 1, 7, 7, 3, 3, 0, 7, 7, 2, 7, 7, 1, 11, 7, 7, 9, 7, 0, 0, 7, 11, 3, 7, 7, 7, 11, 0, 3, 7, 7, 11, 2, 9, 7, 7, 7, 7, 7, 2, 7, 6, 7, 7, 3, 7, 9, 11, 5, 7, 7, 7, 7, 7, 3, 2, 0, 11, 3, 7, 7, 7, 0, 7, 0, 7, 11, 6, 9, 0, 8, 11, 0, 7, 11, 7, 7, 7, 2, 8, 10, 0, 11, 0, 7, 7, 11, 1, 7, 0, 7, 2, 0, 7, 11, 7, 9, 7, 3, 3, 2, 2, 7, 0, 2, 7, 7, 7, 7, 7, 0, 7, 3, 7, 7, 7, 8, 0, 2, 7, 7, 7, 7, 8, 1, 7, 7, 1, 11, 7, 7, 0, 7, 7, 4, 7, 11, 4, 0, 7, 7, 7, 6, 3, 7, 1, 7, 5, 8, 7, 7, 7, 7, 7, 7, 7, 7, 7, 0, 7, 8, 1, 7, 7, 2, 7, 7, 9, 7, 1, 7, 3, 7, 3, 3, 3, 7, 7, 7, 11, 11, 11, 7, 7, 7, 7, 5, 11, 7, 9, 11, 7, 7, 1, 11, 11, 7, 0, 1, 7, 7, 3, 4, 0, 3, 0, 11, 0, 7, 11, 7, 3, 9, 0, 9, 7, 7, 0, 7, 7, 9, 7, 7, 7, 7, 7, 11, 7, 9, 7, 9, 3, 7, 7, 7, 11, 7, 7, 11, 3, 7, 7, 7, 7, 3, 9, 2, 7, 7, 9, 3, 7, 7, 1, 8, 7, 7, 7, 1, 9, 7, 11, 9, 0, 0, 11, 7, 7, 0, 7, 7, 1, 7, 3, 2, 7, 11, 0, 0, 7, 7, 7, 7, 7, 3, 7, 9, 7, 11, 11, 7, 2, 2, 11, 7, 1, 7, 7, 7, 0, 7, 11, 7, 7, 3, 11, 7, 0, 1, 3, 3, 7, 0, 1, 0, 7, 7, 1, 7, 0, 3, 7, 9, 7, 0, 8, 11, 0, 0, 7, 8, 0, 7, 7, 9, 3, 7, 7, 3, 2, 7, 0, 7, 7, 7, 11, 7, 7, 7, 1, 7, 9, 7, 7, 0, 7, 7, 2, 11, 7, 4, 7, 7, 2, 0, 7, 10, 8, 11, 9, 3, 2, 7, 7, 7, 7, 7, 2, 3, 10, 7, 7, 7, 7, 1, 11, 11, 2, 1, 3, 7, 7, 7, 9, 7, 9, 7, 1, 7, 8, 7, 0, 7, 7, 7, 7, 7, 7, 10, 7, 7, 7, 6, 7, 7, 3, 10, 7, 0, 7, 7, 8, 7, 1, 7, 11, 7, 11, 7, 7, 7, 7, 7, 3, 1, 7, 8, 11, 7, 7, 7, 1, 11, 10, 9, 2, 2, 8, 11, 8, 7, 0, 7, 2, 7, 8, 6, 0, 1, 7, 7, 7, 7, 8, 7, 7, 2, 7, 11, 2, 7, 5, 6, 7, 7, 7, 0, 9, 7, 2, 3, 7, 7, 3, 7, 7, 7, 7, 1, 11, 3, 9, 7, 7, 3, 7, 7, 7, 7, 7, 7, 7, 7, 0, 3, 11, 7, 11, 1, 7, 7, 7, 11, 1, 7, 0, 8, 1, 3, 3, 7, 7, 9, 7, 7, 7, 7, 2, 8, 7, 7, 7, 7, 0, 7, 0, 5, 7, 3, 7, 7, 1, 7, 0, 7, 7, 9, 7, 3, 0, 3, 7, 8, 7, 3, 7, 1, 7, 1, 7, 0, 7, 3, 7, 7, 7, 5, 1, 5, 9, 7, 0, 9, 3, 3, 11, 3, 9, 7, 0, 7, 1, 7, 7, 3, 7, 7, 7, 7, 0, 1, 1, 7, 7, 7, 7, 7, 2, 0, 7, 7, 11, 7, 7, 0, 7, 0, 7, 7, 7, 5, 7, 11, 1, 7, 1, 3, 7, 2, 7, 7, 7, 8, 7, 7, 8, 1, 11, 0, 1, 7, 7, 7, 7, 1, 7, 1, 7, 2, 11, 7, 7, 3, 7, 7, 3, 2, 7, 5, 2, 1, 7, 7, 1, 1, 9, 8, 2, 7, 3, 7, 0, 11, 0, 7, 8, 3, 7, 3, 7, 7, 9, 7, 7, 11, 7, 3, 7, 1, 11, 7, 7, 7, 7, 0, 7, 7, 3, 7, 7, 7, 0, 7, 7, 7, 7, 4, 7, 8, 7, 7, 7, 7, 7, 2, 7, 7, 2, 7, 7, 2, 7, 9, 7, 1, 7, 0, 7, 7, 3, 0, 7, 7, 0, 9, 7, 4, 3, 7, 10, 9, 7, 7, 0, 9, 8, 7, 3, 7, 7, 7, 7, 7, 8, 3, 9, 7, 7, 7, 7, 0, 7, 7, 7, 11, 4, 7, 9, 11, 7, 7, 7, 0, 7, 3, 7, 7, 7, 7, 1, 8, 7, 7, 5, 7, 0, 7, 1, 7, 11, 3, 4, 11, 0, 7, 7, 1, 7, 0, 6, 3, 8, 7, 2, 11, 7, 0, 0, 8, 7, 7, 3, 7, 7, 1, 11, 11, 0, 1, 5, 7, 2, 7, 9, 11, 7, 7, 11, 7, 7, 7, 7, 7, 9, 7, 7, 3, 5, 7, 0, 3, 3, 0, 3, 7, 7, 9, 7, 11, 0, 1, 3, 11, 0, 8, 7, 7, 0, 0, 3, 9, 3, 7, 11, 2, 1, 7, 7, 7, 1, 7, 3, 7, 7, 9, 7, 8, 11, 7, 7, 3, 0, 9, 7, 7, 8, 7, 11, 8, 0, 2, 2, 7, 2, 0, 7, 11, 11, 2, 7, 2, 2, 7, 0, 0, 2, 7, 7, 10, 4, 1, 7, 7, 11, 7, 0, 0, 7, 7, 9, 0, 7, 0, 7, 0, 0, 11, 0, 11, 3, 7, 11, 7, 0, 7, 7, 3, 6, 7, 7, 9, 7, 0, 7, 7, 9, 7, 7, 11, 7, 11, 7, 10, 7, 7, 7, 3, 7, 3, 7, 11, 7, 9, 7, 7, 7, 7, 6, 7, 3, 3, 3, 7, 0, 7, 9, 7, 3, 2, 7, 7, 0, 7, 3, 7, 2, 11, 7, 7, 7, 7, 7, 9, 11, 0, 7, 7, 7, 7, 8, 7, 9, 6, 11, 7, 7, 7, 11, 7, 1, 7, 3, 7, 1, 9, 7, 7, 7, 7, 7, 9, 7, 7, 8, 7, 7, 0, 7, 9, 1, 7, 7, 3, 7, 7, 0, 8, 3, 7, 2, 7, 0, 7, 7, 7, 7, 11, 9, 7, 7, 11, 9, 7, 11, 7, 7, 9, 0, 3, 7, 7, 6, 7, 7, 0, 1, 7, 9, 1, 7, 1, 7, 3, 3, 7, 2, 11, 7, 5, 7, 7, 9, 1, 7, 7, 5, 9, 3, 9, 3, 7, 0, 7, 11, 11, 7, 2, 1, 7, 7, 3, 2, 7, 7, 7, 3, 7, 1, 7, 7, 3, 4, 0, 5, 1, 2, 7, 3, 1, 0, 7, 11, 8, 3, 0, 7, 7, 11, 7, 2, 0, 7, 9, 3, 0, 3, 8, 3, 7, 5, 1, 0, 7, 2, 7, 7, 0, 7, 0, 2, 7, 3, 1, 7, 0, 7, 9, 3, 0, 7, 7, 11, 7, 3, 7, 7, 7, 1, 3, 7, 6, 11, 1, 9, 9, 9, 7, 7, 1, 0, 7, 3, 7, 7, 2, 7, 11, 9, 7, 7, 7, 3, 3, 2, 11, 3, 7, 8, 3, 0, 0, 5, 11, 0, 7, 7, 7, 7, 0, 7, 7, 9, 7, 9, 1, 7, 8, 7, 7, 7, 7, 0, 3, 9, 11, 9, 2, 1, 7, 8, 3, 2, 7, 1, 11, 6, 7, 7, 9, 7, 7, 11, 9, 7, 3, 3, 3, 3, 7, 5, 7, 0, 2, 7, 8, 9, 3, 7, 11, 8, 3, 7, 0, 7, 7, 7, 3, 7, 0, 3, 7, 9, 3, 2, 4, 7, 7, 7, 7, 7, 9, 8, 8, 7, 1, 7, 7, 7, 7, 1, 2, 7, 7, 7, 7, 7, 5, 10, 1, 7, 11, 11, 7, 1, 7, 9, 7, 10, 4, 3, 3, 7, 2, 7, 7, 0, 7, 7, 7, 7, 2, 7, 1, 7, 7, 7, 3, 7, 8, 1, 3, 1, 8, 2, 9, 9, 7, 7, 11, 3, 7, 0, 11, 0, 7, 9, 3, 7, 11, 7, 7, 11, 0, 3, 7, 7, 5, 11, 7, 7, 7, 7, 7, 7, 1, 8, 11, 7, 7, 7, 3, 7, 7, 0, 7, 0, 3, 7, 7, 7, 9, 7, 10, 1, 7, 7, 11, 9, 7, 7, 7, 7, 0, 7, 7, 2, 0, 0, 7, 7, 1, 3, 0, 9, 11, 3, 2, 7, 2, 9, 3, 3, 7, 7, 7, 9, 7, 7, 7, 7, 7, 2, 11, 11, 7, 7, 7, 3, 5, 1, 9, 7, 2, 7, 0, 7, 9, 1, 11, 7, 0, 7, 7, 0, 7, 7, 3, 7, 0, 3, 7, 7, 7, 7, 7, 2, 7, 9, 2, 9, 7, 7, 3, 1, 7, 2, 9, 0, 2, 7, 7, 7, 7, 2, 7, 7, 7, 5, 7, 7, 7, 7, 7, 1, 7, 0, 7, 10, 11, 7, 7, 11, 6, 7, 9, 1, 11, 7, 7, 8, 3, 7, 2, 7, 3, 7, 3, 7, 7, 7, 7, 4, 11, 7, 9, 2, 0, 7, 7, 11, 0, 7, 2, 9, 0, 0, 10, 8, 7, 1, 7, 7, 7, 11, 7, 0, 11, 7, 9, 1, 4, 7, 2, 7, 2, 3, 7, 11, 9, 2, 7, 7, 1, 7, 7, 7, 0, 11, 10, 7, 7, 11, 2, 7, 3, 7, 7, 2, 9, 7, 9, 7, 3, 7, 11, 3, 3, 7, 7, 10, 3, 0, 7, 7, 8, 3, 9, 11, 9, 0, 7, 6, 11, 8, 10, 1, 3, 7, 11, 7, 7, 7, 9, 2, 7, 7, 11, 8, 1, 7, 6, 9, 7, 0, 3, 3, 3, 0, 7, 7, 7, 1, 7, 3, 2, 7, 7, 7, 7, 9, 7, 2, 7, 7, 8, 3, 7, 10, 0, 7, 1, 7, 0, 7, 3, 7, 9, 7, 1, 0, 7, 7, 1, 7, 7, 7, 11, 11, 4, 0, 9, 3, 7, 7, 7, 7, 7, 7, 7, 11, 3, 9, 7, 4, 2, 3, 11, 3, 9, 7, 7, 1, 7, 1, 7, 7, 7, 0, 3, 7, 9, 7, 7, 0, 7, 3, 10, 7, 7, 0, 7, 9, 0, 7, 11, 9, 3, 7, 7, 7, 7, 7, 9, 8, 6, 7, 8, 7, 7, 11, 6, 0, 7, 7, 9, 7, 7, 7, 8, 7, 0, 8, 8, 11, 7, 7, 7, 7, 7, 7, 7, 7, 7, 11, 3, 7, 9, 6, 0, 7, 7, 7, 7, 7, 0, 7, 7, 3, 7, 7, 11, 9, 11, 7, 7, 3, 7, 11, 7, 9, 3, 8, 6, 7, 7, 7, 11, 7, 7, 7, 7, 7, 7, 7, 11, 7, 8, 11, 7, 8, 0, 5, 8, 7, 6, 7, 7, 7, 11, 0, 7, 11, 11, 4, 11, 7, 7, 9, 7, 7, 7, 7, 7, 7, 11, 7, 7, 7, 7, 4, 3, 7, 0, 7, 0, 1, 11, 1, 10, 1, 2, 0, 7, 0, 1, 1, 7, 0, 11, 7, 1, 7, 2, 3, 7, 7, 7, 7, 11, 1, 0, 7, 3, 3, 7, 7, 7, 1, 7, 11, 7, 7, 7, 7, 9, 2, 7, 5, 7, 0, 5, 11, 7, 11, 0, 7, 7, 5, 11, 3, 7, 7, 7, 7, 0, 7, 7, 11, 7, 11, 7, 4, 7, 9, 7, 7, 7, 11, 7, 7, 7, 7, 11, 2, 7, 2, 11, 7, 7, 7, 7, 7, 7, 2, 7, 1, 7, 4, 7, 7, 7, 7, 9, 2, 11, 7, 7, 0, 7, 7, 8, 7, 7, 7, 11, 0, 7, 7, 8, 7, 8, 7, 0, 1, 1, 8, 2, 7, 7, 7, 8, 1, 7, 8, 11, 8, 1, 2, 7, 3, 0, 1, 2, 3, 1, 0, 9, 5, 0, 0, 5, 7, 11, 1, 7, 2, 7, 3, 0, 7, 7, 7, 11, 3, 2, 9, 4, 0, 7, 7, 7, 1, 11, 6, 11, 7, 2, 3, 3, 11, 0, 7, 7, 11, 9, 7, 7, 7, 8, 11, 7, 3, 7, 1, 7, 7, 0, 7, 6, 11, 7, 7, 0, 9, 7, 11, 7, 2, 7, 7, 3, 7, 1, 7, 7, 0, 7, 7, 7, 0, 0, 7, 7, 7, 7, 3, 1, 7, 7, 8, 7, 7, 7, 7, 7, 9, 8, 9, 7, 3, 8, 7, 0, 7, 3, 9, 7, 7, 7, 11, 7, 7, 3, 4, 7, 6, 7, 9, 7, 7, 7, 0, 7, 11, 7, 7, 7, 7, 2, 5, 7, 7, 0, 8, 11, 7, 7, 0, 7, 6, 7, 7, 2, 1, 7, 2, 7, 11, 0, 11, 7, 8, 1, 0, 8, 2, 7, 11, 3, 11, 2, 11, 11, 2, 7, 11, 3, 7, 7, 5, 7, 11, 7, 7, 7, 11, 8, 11, 7, 1, 0, 0, 3, 9, 7, 11, 3, 7, 7, 7, 7, 3, 7, 7, 7, 7, 9, 7, 7, 5, 7, 0, 7, 7, 7, 2, 11, 7, 7, 7, 2, 11, 9, 7, 7, 0, 11, 7, 7, 2, 7, 7, 9, 6, 7, 7, 1, 0, 0, 7, 7, 0, 11, 11, 7, 7, 7, 10, 7, 7, 11, 9, 11, 7, 9, 11, 7, 7, 7, 7, 7, 7, 7, 7, 7, 3, 7, 1, 8, 7, 0, 3, 3, 3, 7, 10, 7, 3, 6, 1, 11, 2, 7, 7, 0, 7, 7, 3, 7, 0, 7, 7, 9, 7, 7, 3, 1, 3, 10, 2, 7, 5, 7, 7, 3, 0, 9, 11, 11, 7, 8, 7, 0, 2, 7, 7, 8, 7, 4, 3, 0, 10, 2, 5, 7, 5, 11, 7, 7, 11, 2, 7, 7, 2, 0, 7, 7, 7, 0, 11, 6, 2, 7, 11, 0, 7, 7, 3, 7, 7, 7, 9, 7, 7, 7, 7, 8, 7, 0, 3, 3, 4, 11, 0, 7, 0, 1, 7, 7, 7, 7, 3, 7, 7, 11, 7, 11, 11, 2, 7, 7, 1, 7, 9, 11, 7, 0, 7, 1, 0, 7, 7, 1, 3, 7, 7, 7, 7, 1, 7, 7, 7, 7, 7, 7, 7, 3, 8, 0, 0, 11, 7, 7, 7, 7, 7, 7, 0, 0, 7, 7, 7, 7, 7, 1, 1, 7, 7, 9, 10, 0, 7, 7, 11, 7, 7, 7, 2, 7, 7, 7, 9, 7, 1, 7, 7, 7, 3, 8, 10, 7, 6, 7, 7, 1, 7, 1, 3, 3, 7, 8, 7, 7, 9, 3, 7, 7, 0, 7, 0, 2, 7, 7, 7, 7, 7, 7, 7, 9, 0, 1, 7, 7, 9, 9, 7, 0, 3, 0, 7, 11, 0, 0, 9, 2, 7, 11, 3, 7, 2, 7, 7, 5, 7, 7, 0, 0, 11, 0, 7, 7, 7, 7, 7, 7, 0, 6, 9, 7, 7, 2, 7, 9, 7, 0, 10, 0, 7, 7, 7, 7, 7, 7, 2, 0, 7, 1, 1, 0, 1, 9, 1, 7, 9, 7, 3, 11, 9, 7, 11, 7, 0, 1, 0, 7, 8, 2, 3, 7, 7, 7, 0, 9, 7, 11, 1, 7, 7, 7, 9, 9, 7, 3, 8, 7, 7, 11, 9, 7, 0, 7, 7, 8, 7, 10, 0, 7, 6, 8, 3, 6, 7, 7, 7, 7, 3, 7, 7, 3, 7, 7, 7, 7, 11, 0, 7, 7, 7, 6, 2, 7, 10, 0, 11, 7, 7, 1, 7, 3, 3, 5, 9, 3, 8, 11, 7, 1, 11, 7, 7, 1, 7, 3, 7, 9, 3, 7, 7, 0, 8, 0, 7, 3, 0, 7, 7, 0, 1, 6, 11, 3, 7, 7, 11, 7, 7, 7, 3, 8, 3, 8, 0, 8, 3, 0, 8, 7, 7, 4, 7, 2, 11, 7, 7, 7, 7, 8, 5, 11, 3, 7, 7, 1, 7, 8, 7, 7, 7, 7, 7, 1, 11, 7, 7, 7, 7, 7, 7, 0, 7, 7, 9, 9, 6, 7, 7, 7, 7, 7, 11, 11, 11, 4, 7, 7, 3, 7, 8, 9, 7, 7, 7, 7, 11, 7, 7, 6, 11, 7, 7, 7, 7, 0, 7, 1, 3, 7, 7, 3, 7, 7, 10, 3, 7, 11, 7, 7, 10, 11, 0, 0, 3, 7, 2, 1, 8, 7, 5, 7, 9, 7, 7, 7, 0, 7, 7, 8, 10, 9, 7, 9, 0, 8, 7, 4, 7, 11, 7, 7, 7, 7, 7, 2, 0, 7, 7, 3, 7, 7, 7, 7, 3, 1, 0, 7, 7, 7, 1, 7, 7, 3, 11, 7, 0, 3, 1, 3, 7, 7, 11, 10, 2, 9, 7, 0, 7, 7, 8, 7, 7, 2, 1, 0, 8, 7, 7, 2, 1, 7, 7, 7, 7, 1, 0, 5, 1, 0, 7, 0, 3, 0, 7, 1, 0, 7, 7, 8, 1, 10, 7, 7, 3, 7, 2, 7, 7, 7, 7, 8, 7, 7, 7, 7, 2, 1, 9, 9, 7, 2, 7, 0, 7, 1, 7, 9, 7, 2, 8, 7, 2, 0, 11, 3, 8, 7, 7, 9, 0, 7, 2, 7, 7, 11, 7, 7, 0, 7, 7, 2, 7, 5, 7, 7, 1, 9, 7, 7, 11, 5, 0, 3, 7, 8, 11, 7, 7, 7, 2, 2, 9, 7, 1, 0, 7, 7, 7, 0, 7, 7, 7, 7, 7, 0, 5, 2, 3, 8, 7, 1, 7, 7, 9, 7, 0, 0, 11, 7, 7, 7, 2, 8, 1, 7, 7, 7, 7, 1, 7, 11, 7, 6, 0, 3, 1, 7, 2, 7, 7, 7, 7, 2, 7, 7, 1, 7, 7, 2, 7, 7, 4, 7, 7, 7, 7, 7, 5, 1, 7, 9, 5, 7, 7, 7, 9, 7, 7, 2, 3, 7, 11, 7, 7, 7, 7, 1, 3, 7, 7, 7, 0, 0, 8, 0, 11, 3, 7, 0, 7, 8, 8, 11, 0, 2, 7, 7, 7, 8, 11, 11, 1, 7, 1, 7, 1, 2, 3, 3, 7, 7, 0, 10, 2, 7, 7, 11, 6, 7, 7, 7, 11, 7, 0, 7, 1, 0, 7, 6, 4, 11, 3, 3, 7, 7, 7, 7, 7, 7, 11, 8, 9, 2, 7, 7, 0, 9, 9, 7, 11, 9, 2, 7, 7, 11, 0, 11, 7, 7, 0, 0, 2, 7, 9, 3, 7, 1, 7, 7, 8, 11, 0, 7, 11, 7, 1, 2, 7, 7, 3, 7, 3, 7, 3, 8, 1, 9, 3, 8, 7, 7, 0, 9, 0, 3, 9, 7, 7, 7, 7, 7, 2, 2, 7, 8, 8, 11, 9, 3, 7, 0, 8, 7, 1, 2, 9, 6, 7, 7, 7, 3, 2, 7, 7, 10, 2, 8, 7, 11, 7, 7, 7, 7, 7, 0, 7, 11, 7, 7, 7, 11, 3, 8, 0, 7, 7, 2, 7, 7, 7, 7, 7, 7, 7, 7, 1, 7, 7, 7, 10, 7, 3, 7, 7, 9, 3, 7, 0, 7, 4, 7, 7, 0, 7, 0, 11, 11, 0, 2, 6, 0, 7, 7, 8, 7, 9, 1, 0, 5, 7, 9, 7, 7, 0, 7, 3, 7, 0, 1, 0, 3, 7, 0, 7, 7, 7, 0, 4, 7, 7, 9, 0, 7, 0, 7, 7, 7, 2, 7, 9, 7, 7, 7, 11, 7, 7, 7, 7, 11, 7, 7, 7, 3, 7, 0, 3, 7, 1, 8, 11, 1, 1, 7, 7, 7, 7, 7, 3, 7, 3, 7, 7, 7, 7, 9, 7, 7, 7, 1, 0, 1, 11, 3, 7, 9, 7, 7, 7, 5, 11, 1, 7, 3, 7, 7, 9, 11, 7, 7, 1, 1, 7, 7, 9, 5, 3, 0, 9, 7, 0, 5, 7, 7, 9, 9, 8, 2, 7, 10, 7, 7, 3, 7, 7, 7, 7, 7, 1, 9, 7, 7, 7, 1, 7, 7, 7, 3, 7, 0, 7, 7, 7, 1, 3, 7, 7, 7, 9, 7, 3, 9, 7, 0, 7, 9, 11, 11, 11, 7, 7, 7, 7, 7, 8, 7, 1, 3, 3, 11, 2, 11, 5, 0, 7, 11, 7, 7, 7, 0, 11, 7, 8, 3, 7, 7, 7, 8, 1, 7, 7, 2, 7, 7, 3, 7, 7, 7, 2, 2, 0, 11, 7, 7, 8, 7, 0, 3, 7, 7, 3, 7, 2, 7, 7, 3, 7, 9, 7, 7, 10, 8, 7, 3, 7, 8, 7, 11, 0, 9, 0, 1, 0, 7, 3, 7, 7, 7, 1, 3, 2, 0, 7, 7, 10, 9, 9, 2, 1, 7, 7, 3, 11, 1, 7, 7, 7, 7, 7, 5, 7, 1, 7, 7, 7, 8, 7, 0, 3, 0, 9, 7, 7, 8, 1, 7, 11, 7, 11, 7, 1, 7, 9, 7, 0, 0, 7, 7, 7, 0, 1, 7, 7, 0, 7, 1, 0, 2, 7, 7, 3, 5, 7, 7, 9, 7, 7, 7, 0, 7, 7, 8, 0, 9, 0, 9, 0, 7, 7, 11, 9, 7, 7, 7, 7, 7, 11, 0, 7, 8, 11, 1, 0, 7, 7, 7, 7, 7, 0, 7, 11, 2, 7, 1, 0, 2, 0, 7, 0, 7, 7, 7, 7, 7, 7, 7, 6, 7, 7, 7, 3, 11, 4, 3, 7, 1, 1, 7, 3, 7, 7, 7, 11, 7, 7, 9, 7, 8, 7, 0, 7, 6, 11, 11, 1, 3, 7, 2, 2, 7, 1, 1, 7, 7, 7, 7, 0, 7, 7, 7, 7, 3, 0, 2, 9, 7, 2, 2, 11, 11, 0, 6, 7, 11, 7, 7, 7, 0, 11, 7, 7, 0, 7, 7, 1, 7, 7, 7, 11, 7, 11, 7, 7, 4, 7, 7, 1, 6, 5, 7, 3, 7, 10, 3, 1, 1, 7, 9, 7, 7, 7, 1, 7, 7, 7, 7, 9, 7, 7, 3, 3, 11, 7, 1, 2, 7, 0, 7, 0, 7, 11, 7, 11, 0, 7, 3, 8, 7, 7, 11, 3, 11, 9, 9, 7, 9, 11, 6, 7, 9, 7, 7, 7, 1, 0, 9, 7, 11, 7, 7, 3, 7, 7, 7, 7, 0, 7, 0, 7, 7, 7, 8, 7, 7, 5, 9, 9, 7, 7, 7, 7, 9, 7, 7, 11, 1, 7, 7, 7, 7, 1, 7, 7, 7, 7, 7, 3, 7, 7, 1, 1, 7, 7, 7, 7, 7, 7, 11, 7, 7, 7, 7, 11, 7, 9, 0, 7, 6, 7, 7, 7, 7, 9, 8, 7, 11, 7, 7, 7, 7, 11, 7, 1, 2, 3, 7, 6, 7, 7, 7, 7, 7, 7, 7, 0, 5, 0, 8, 7, 7, 11, 0, 7, 1, 0, 10, 7, 3, 7, 7, 1, 7, 7, 7, 7, 3, 7, 8, 7, 7, 7, 7, 7, 0, 7, 7, 7, 9, 11, 7, 1, 7, 0, 7, 8, 1, 2, 7, 7, 8, 7, 7, 11, 11, 8, 7, 11, 7, 7, 7, 7, 7, 7, 3, 0, 7, 0, 7, 7, 8, 7, 0, 9, 7, 11, 7, 3, 9, 2, 11, 7, 7, 9, 7, 7, 11, 7, 7, 7, 1, 7, 7, 0, 5, 5, 1, 11, 0, 0, 1, 7, 8, 7, 3, 11, 3, 0, 9, 7, 7, 8, 7, 7, 9, 11, 11, 7, 7, 7, 11, 3, 7, 0, 5, 11, 3, 7, 7, 7, 9, 7, 7, 7, 7, 7, 8, 7, 2, 1, 11, 7, 1, 9, 7, 7, 11, 7, 7, 7, 7, 11, 7, 7, 7, 0, 7, 7, 8, 7, 7, 7, 11, 3, 7, 7, 7, 11, 0, 3, 3, 9, 7, 3, 0, 11, 0, 3, 4, 1, 1, 2, 7, 7, 7, 7, 7, 8, 7, 8, 7, 1, 8, 2, 7, 7, 7, 0, 7, 7, 7, 7, 7, 8, 1, 11, 4, 0, 6, 7, 7, 2, 11, 7, 7, 7, 7, 7, 0, 7, 7, 7, 0, 7, 7, 11, 7, 7, 7, 11, 7, 0, 3, 7, 7, 8, 7, 0, 9, 2, 7, 7, 11, 0, 3, 8, 7, 7, 2, 9, 7, 7, 7, 7, 1, 0, 0, 7, 7, 7, 7, 9, 1, 7, 0, 8, 11, 7, 7, 7, 7, 7, 7, 1, 9, 0, 0, 7, 7, 7, 6, 3, 11, 3, 2, 4, 7, 2, 3, 7, 2, 9, 7, 8, 0, 7, 3, 7, 7, 11, 7, 9, 9, 10, 7, 7, 11, 8, 1, 11, 7, 7, 7, 9, 9, 3, 7, 7, 7, 7, 1, 7, 7, 1, 7, 7, 7, 11, 7, 7, 2, 3, 0, 7, 11, 7, 11, 7, 7, 11, 7, 11, 7, 7, 0, 2, 7, 1, 8, 7, 11, 11, 7, 3, 0, 0, 10, 3, 7, 9, 7, 11, 0, 11, 7, 7, 1, 7, 11, 8, 7, 6, 7, 9, 8, 0, 11, 7, 7, 8, 0, 7, 9, 3, 7, 11, 7, 7, 7, 3, 7, 7, 1, 0, 7, 11, 11, 7, 0, 7, 7, 3, 11, 5, 0, 11, 9, 7, 7, 2, 11, 7, 3, 7, 11, 3, 8, 1, 7, 7, 7, 7, 3, 11, 7, 7, 7, 7, 7, 7, 7, 7, 11, 7, 7, 7, 7, 3, 5, 9, 11, 7, 8, 7, 7, 4, 2, 2, 7, 7, 7, 7, 0, 7, 7, 7, 11, 7, 3, 7, 7, 7, 7, 7, 7, 7, 3, 9, 7, 8, 1, 7, 7, 7, 1, 6, 10, 8, 7, 7, 7, 3, 7, 7, 3, 7, 7, 0, 7, 11, 7, 11, 1, 7, 7, 0, 1, 7, 7, 1, 4, 3, 1, 7, 7, 7, 11, 0, 7, 7, 7, 0, 11, 1, 7, 7, 11, 9, 11, 2, 1, 6, 4, 7, 6, 7, 11, 7, 10, 1, 0, 0, 0, 7, 11, 7, 1, 7, 2, 9, 3, 7, 3, 1, 1, 7, 7, 3, 7, 7, 0, 3, 7, 7, 8, 1, 11, 3, 4, 3, 7, 3, 7, 7, 7, 11, 7, 11, 2, 1, 7, 1, 7, 0, 7, 11, 7, 7, 2, 7, 7, 8, 0, 7, 9, 8, 7, 7, 6, 7, 3, 1, 7, 7, 7, 7, 0, 3, 1, 7, 1, 7, 9, 7, 1, 7, 7, 2, 7, 10, 7, 7, 7, 3, 7, 0, 7, 7, 7, 0, 7, 5, 0, 8, 7, 0, 7, 7, 7, 7, 7, 2, 8, 7, 7, 2, 3, 7, 7, 2, 11, 7, 7, 3, 1, 4, 3, 7, 11, 7, 7, 7, 7, 7, 7, 7, 7, 7, 0, 1, 7, 0, 5, 3, 5, 10, 2, 7, 0, 3, 11, 7, 11, 3, 7, 3, 7, 7, 1, 2, 9, 11, 10, 3, 7, 1, 7, 7, 7, 7, 7, 9, 7, 7, 10, 7, 7, 7, 0, 7, 7, 2, 7, 7, 9, 7, 7, 7, 3, 7, 7, 7, 5, 7, 2, 0, 7, 11, 7, 0, 7, 7, 5, 7, 7, 7, 9, 7, 9, 2, 7, 7, 7, 1, 11, 7, 3, 11, 2, 7, 8, 0, 9, 7, 7, 7, 3, 7, 0, 2, 9, 7, 7, 3, 2, 7, 7, 7, 7, 7, 11, 11, 0, 0, 7, 7, 7, 1, 7, 7, 6, 7, 7, 0, 3, 11, 11, 7, 7, 7, 7, 7, 7, 7, 7, 7, 3, 7, 7, 7, 7, 7, 1, 10, 7, 7, 7, 8, 11, 7, 3, 1, 7, 3, 11, 7, 7, 7, 7, 7, 7, 10, 7, 0, 2, 7, 9, 7, 7, 7, 7, 0, 2, 7, 7, 7, 1, 4, 7, 7, 1, 9, 7, 7, 7, 3, 7, 3, 7, 7, 7, 7, 3, 1, 1, 7, 7, 7, 2, 7, 7, 6, 9, 3, 7, 7, 9, 7, 7, 7, 2, 3, 7, 3, 11, 7, 0, 7, 7, 11, 7, 11, 7, 7, 2, 7, 7, 3, 6, 2, 8, 7, 7, 1, 1, 1, 7, 7, 10, 7, 7, 7, 7, 0, 1, 8, 4, 11, 0, 7, 9, 2, 7, 9, 0, 2, 7, 8, 7, 7, 7, 7, 8, 9, 7, 3, 0, 7, 7, 1, 7, 0, 1, 7, 7, 7, 7, 4, 1, 1, 7, 7, 3, 7, 7, 7, 7, 7, 6, 7, 7, 1, 7, 7, 2, 7, 2, 7, 7, 2, 4, 3, 10, 11, 7, 7, 11, 7, 9, 7, 3, 2, 7, 7, 8, 7, 7, 0, 8, 8, 7, 6, 5, 11, 7, 7, 9, 0, 7, 7, 8, 7, 8, 9, 0, 2, 8, 3, 7, 11, 7, 3, 7, 9, 7, 5, 7, 3, 7, 7, 0, 0, 11, 7, 9, 7, 7, 7, 8, 7, 7, 7, 3, 7, 7, 7, 7, 7, 7, 1, 7, 8, 0, 7, 2, 7, 11, 7, 0, 7, 2, 1, 7, 7, 7, 7, 7, 3, 11, 7, 7, 11, 7, 7, 7, 7, 3, 9, 11, 3, 2, 8, 7, 7, 11, 0, 0, 7, 7, 7, 7, 7, 7, 7, 1, 7, 7, 11, 2, 11, 7, 11, 7, 7, 1, 7, 2, 0, 7, 8, 0, 0, 1, 11, 7, 3, 8, 0, 2, 7, 2, 7, 1, 7, 8, 7, 7, 7, 9, 7, 2, 0, 7, 7, 11, 0, 11, 7, 7, 7, 3, 9, 7, 1, 8, 2, 7, 1, 7, 7, 7, 7, 9, 7, 7, 9, 7, 7, 7, 1, 3, 7, 7, 7, 7, 7, 0, 9, 3, 3, 7, 11, 3, 7, 0, 11, 7, 11, 7, 7, 7, 8, 0, 7, 7, 11, 7, 2, 1, 3, 0, 7, 0, 7, 11, 7, 2, 11, 7, 7, 7, 7, 5, 7, 11, 7, 1, 8, 3, 7, 1, 7, 7, 7, 7, 3, 11, 7, 1, 3, 6, 11, 7, 7, 9, 0, 7, 7, 6, 9, 7, 7, 10, 3, 7, 7, 7, 7, 11, 7, 2, 7, 3, 7, 7, 7, 7, 3, 7, 8, 4, 1, 7, 7, 8, 7, 1, 9, 1, 7, 7, 7, 11, 7, 7, 7, 2, 7, 1, 7, 8, 1, 7, 11, 11, 9, 7, 7, 7, 7, 7, 0, 7, 9, 6, 7, 7, 7, 8, 7, 3, 7, 8, 9, 11, 7, 7, 7, 7, 7, 5, 7, 7, 9, 7, 7, 7, 3, 7, 9, 7, 10, 3, 0, 7, 7, 0, 7, 0, 0, 3, 7, 7, 1, 7, 10, 7, 7, 0, 7, 7, 0, 9, 7, 0, 7, 7, 7, 11, 0, 7, 9, 7, 6, 3, 3, 7, 7, 7, 7, 8, 7, 2, 8, 7, 7, 0, 1, 7, 7, 1, 11, 7, 7, 7, 7, 2, 8, 2, 3, 3, 7, 7, 3, 11, 7, 7, 0, 1, 7, 3, 7, 7, 8, 7, 7, 0, 0, 7, 1, 0, 7, 7, 7, 7, 7, 7, 2, 7, 2, 0, 3, 11, 0, 0, 3, 2, 7, 7, 11, 7, 7, 7, 2, 7, 0, 7, 0, 3, 2, 7, 7, 0, 7, 11, 11, 0, 7, 7, 7, 8, 0, 7, 7, 7, 7, 1, 7, 2, 7, 7, 7, 7, 1, 7, 3, 2, 7, 7, 8, 0, 1, 0, 11, 7, 11, 1, 10, 8, 7, 2, 7, 0, 7, 7, 7, 1, 2, 7, 7, 0, 7, 3, 2, 3, 1, 7, 7, 7, 1, 9, 7, 0, 3, 7, 7, 7, 7, 7, 7, 8, 7, 3, 0, 7, 3, 0, 7, 4, 7, 0, 7, 7, 1, 7, 7, 7, 3, 7, 11, 7, 10, 6, 0, 7, 7, 7, 7, 11, 7, 9, 7, 3, 7, 7, 7, 7, 7, 8, 6, 7, 7, 7, 7, 7, 3, 7, 7, 9, 3, 11, 2, 7, 7, 7, 11, 7, 8, 11, 9, 10, 7, 11, 0, 7, 0, 8, 7, 7, 7, 7, 7, 7, 7, 7, 7, 7, 8, 0, 7, 9, 7, 7, 2, 0, 8, 7, 8, 0, 7, 1, 8, 0, 8, 1, 2, 7, 7, 1, 7, 7, 7, 7, 9, 7, 0, 9, 1, 7, 7, 7, 1, 5, 7, 7, 7, 3, 7, 0, 6, 7, 3, 7, 7, 7, 7, 11, 8, 11, 2, 7, 7, 7, 7, 7, 7, 3, 7, 2, 8, 7, 1, 2, 2, 7, 7, 7, 7, 7, 2, 7, 7, 3, 1, 1, 0, 1, 7, 11, 2, 0, 7, 7, 2, 4, 9, 7, 2, 7, 1, 7, 7, 3, 7, 3, 7, 7, 8, 7, 0, 7, 11, 9, 2, 8, 1, 7, 7, 7, 7, 7, 11, 11, 3, 11, 5, 0, 7, 7, 0, 1, 0, 8, 11, 7, 7, 7, 7, 1, 7, 3, 7, 7, 7, 7, 7, 7, 7, 8, 7, 3, 7, 7, 3, 9, 11, 1, 7, 7, 0, 6, 0, 7, 0, 5, 5, 7, 11, 2, 7, 7, 2, 11, 4, 3, 7, 0, 7, 7, 7, 7, 7, 7, 9, 8, 7, 11, 7, 7, 7, 7, 11, 7, 11, 7, 3, 1, 7, 9, 7, 9, 7, 3, 1, 3, 7, 7, 7, 1, 0, 2, 7, 7, 7, 3, 0, 7, 10, 7, 0, 7, 11, 7, 0, 8, 0, 0, 7, 0, 7, 7, 7, 7, 7, 9, 11, 3, 7, 0, 0, 7, 4, 11, 7, 7, 11, 2, 7, 7, 9, 8, 7, 11, 11, 7, 0, 2, 1, 7, 7, 0, 7, 7, 11, 1, 7, 7, 3, 7, 1, 1, 7, 7, 7, 1, 7, 3, 3, 11, 7, 7, 11, 10, 7, 7, 1, 7, 0, 11, 8, 0, 9, 7, 8, 7, 7, 9, 0, 8, 11, 7, 7, 1, 3, 9, 7, 7, 7, 3, 1, 7, 3, 11, 7, 7, 2, 0, 7, 0, 7, 7, 7, 7, 7, 3, 3, 11, 8, 7, 11, 7, 7, 0, 0, 7, 7, 0, 7, 1, 7, 0, 7, 11, 7, 3, 7, 9, 7, 7, 7, 7, 7, 7, 7, 2, 7, 7, 7, 7, 7, 11, 0, 7, 7, 3, 7, 8, 9, 7, 7, 7, 7, 1, 7, 7, 7, 7, 9, 3, 0, 0, 3, 11, 7, 7, 9, 7, 1, 7, 7, 8, 7, 9, 7, 2, 0, 3, 1, 0, 7, 7, 11, 7, 7, 7, 7, 2, 7, 9, 0, 2, 7, 5, 2, 8, 0, 7, 0, 7, 0, 8, 7, 7, 7, 7, 3, 0, 11, 2, 7, 7, 0, 7, 3, 7, 7, 11, 7, 0, 3, 3, 7, 9, 4, 7, 7, 7, 7, 7, 8, 2, 7, 7, 7, 7, 1, 2, 7, 7, 11, 1, 7, 7, 7, 0, 0, 11, 7, 7, 0, 7, 5, 7, 7, 7, 7, 0, 2, 7, 7, 7, 1, 1, 7, 5, 7, 9, 7, 0, 7, 7, 3, 7, 7, 7, 0, 11, 1, 7, 11, 9, 7, 7, 7, 7, 7, 7, 7, 7, 7, 8, 7, 7, 0, 9, 10, 7, 7, 0, 7, 11, 7, 2, 1, 7, 7, 11, 7, 7, 7, 0, 7, 7, 0, 9, 7, 7, 7, 11, 4, 9, 7, 7, 7, 7, 7, 6, 2, 3, 8, 9, 7, 11, 7, 0, 7, 2, 0, 7, 7, 11, 7, 7, 7, 7, 8, 2, 7, 9, 7, 7, 7, 0, 7, 7, 3, 11, 7, 0, 2, 7, 2, 7, 1, 7, 7, 7, 0, 7, 9, 7, 11, 7, 1, 7, 0, 7, 7, 7, 7, 7, 7, 0, 0, 2, 5, 2, 7, 7, 1, 11, 7, 7, 7, 0, 7, 7, 0, 11, 3, 11, 7, 9, 2, 7, 7, 9, 7, 8, 7, 7, 0, 7, 2, 7, 7, 11, 0, 11, 0, 4, 7, 7, 0, 11, 7, 7, 7, 7, 0, 8, 4, 10, 7, 0, 7, 2, 7, 1, 0, 1, 7, 7, 7, 5, 7, 7, 7, 7, 0, 11, 11, 2, 1, 8, 7, 7, 2, 7, 7, 7, 7, 7, 7, 7, 7, 7, 7, 11, 2, 11, 7, 1, 11, 7, 8, 11, 7, 8, 7, 7, 7, 9, 1, 0, 2, 8, 7, 7, 3, 7, 8, 7, 7, 11, 7, 7, 9, 7, 7, 7, 7, 9, 7, 7, 7, 1, 7, 7, 3, 1, 7, 7, 10, 7, 2, 11, 1, 8, 7, 3, 7, 7, 7, 7, 11, 7, 9, 7, 7, 2, 0, 3, 7, 7, 7, 7, 7, 4, 0, 7, 7, 7, 11, 7, 7, 7, 0, 7, 7, 0, 7, 2, 1, 7, 3, 7, 10, 7, 7, 3, 7, 7, 7, 6, 1, 7, 3, 7, 11, 7, 11, 3, 2, 10, 11, 7, 9, 7, 11, 5, 8, 7, 7, 0, 7, 3, 7, 7, 1, 8, 7, 9, 2, 7, 7, 3, 9, 8, 7, 2, 7, 7, 7, 8, 1, 3, 6, 7, 7, 7, 7, 7, 11, 9, 2, 4, 9, 1, 2, 7, 7, 7, 5, 9, 7, 7, 7, 7, 1, 7, 11, 1, 11, 7, 7, 7, 3, 7, 3, 7, 7, 0, 8, 7, 2, 1, 11, 7, 9, 3, 1, 3, 2, 7, 8, 7, 9, 7, 10, 2, 11, 11, 7, 7, 0, 10, 1, 1, 7, 7, 7, 1, 7, 7, 1, 7, 7, 3, 7, 1, 8, 7, 3, 1, 7, 7, 7, 7, 9, 7, 7, 7, 7, 11, 7, 7, 10, 8, 7, 7, 1, 7, 3, 11, 11, 7, 7, 0, 3, 3, 7, 0, 7, 8, 7, 7, 4, 7, 7, 7, 2, 6, 0, 7, 7, 7, 7, 11, 3, 7, 1, 7, 3, 7, 11, 7, 10, 7, 7, 3, 7, 1, 7, 11, 7, 1, 1, 8, 1, 7, 8, 7, 7, 7, 7, 11, 7, 7, 7, 5, 0, 7, 0, 7, 0, 7, 7, 3, 7, 6, 7, 11, 7, 3, 5, 2, 1, 7, 7, 7, 7, 7, 7, 7, 7, 3, 5, 7, 11, 2, 0, 11, 7, 7, 7, 7, 7, 2, 7, 7, 7, 9, 7, 1, 7, 7, 7, 8, 3, 3, 8, 0, 0, 3, 7, 9, 7, 9, 11, 7, 11, 11, 7, 7, 7, 0, 7, 7, 9, 11, 7, 11, 0, 7, 10, 7, 8, 8, 7, 0, 1, 2, 7, 7, 7, 7, 7, 1, 7, 11, 7, 7, 2, 8, 7, 7, 7, 0, 7, 3, 7, 8, 7, 7, 0, 7, 7, 3, 7, 7, 7, 8, 7, 3, 7, 7, 3, 2, 2, 7, 0, 7, 7, 8, 3, 7, 11, 11, 7, 5, 7, 8, 7, 1, 7, 7, 7, 7, 11, 7, 11, 0, 3, 9, 8, 7, 7, 7, 7, 0, 8, 7, 1, 7, 7, 10, 11, 7, 3, 7, 7, 7, 7, 7, 6, 7, 9, 1, 7, 7, 2, 7, 9, 9, 7, 7, 2, 7, 1, 7, 7, 2, 7, 7, 3, 1, 0, 1, 7, 7, 7, 3, 11, 11, 7, 7, 7, 8, 11, 1, 5, 6, 3, 0, 11, 7, 7, 7, 11, 7, 7, 7, 7, 3, 8, 7, 7, 9, 11, 7, 7, 7, 7, 7, 7, 7, 7, 7, 3, 7, 0, 2, 9, 7, 7, 7, 7, 1, 7, 6, 3, 11, 7, 11, 7, 7, 7, 7, 2, 1, 7, 7, 7, 1, 7, 7, 0, 7, 7, 11, 7, 7, 8, 7, 7, 7, 1, 9, 7, 1, 7, 3, 11, 0, 7, 9, 7, 7, 1, 7, 7, 7, 0, 7, 7, 9, 0, 0, 0, 2, 0, 1, 8, 1, 7, 7, 7, 11, 1, 7, 1, 9, 7, 3, 7, 0, 1, 7, 0, 0, 7, 7, 7, 0, 1, 8, 11, 7, 2, 7, 7, 7, 7, 7, 11, 7, 0, 0, 7, 9, 7, 6, 7, 4, 7, 7, 2, 11, 1, 7, 7, 11, 8, 7, 3, 7, 6, 2, 7, 7, 7, 10, 7, 9, 3, 11, 7, 0, 0, 9, 4, 2, 2, 7, 7, 2, 0, 7, 11, 3, 7, 2, 7, 11, 3, 3, 7, 11, 2, 7, 1, 1, 3, 7, 7, 7, 0, 7, 7, 7, 7, 3, 3, 7, 8, 7, 8, 7, 7, 2, 0, 7, 7, 7, 0, 7, 2, 7, 7, 7, 7, 1, 7, 0, 9, 0, 7, 0, 0, 7, 8, 7, 3, 7, 8, 3, 3, 7, 7, 7, 7, 1, 7, 0, 11, 3, 7, 7, 3, 11, 7, 0, 9, 7, 8, 0, 0, 9, 5, 7, 3, 1, 7, 11, 7, 7, 3, 7, 9, 3, 2, 7, 7, 0, 7, 7, 7, 7, 9, 7, 7, 7, 11, 11, 7, 7, 1, 9, 7, 7, 7, 7, 0, 0, 11, 0, 0, 7, 11, 10, 7, 3, 7, 7, 6, 11, 8, 0, 1, 7, 11, 7, 8, 1, 7, 7, 7, 7, 7, 11, 2, 7, 7, 0, 7, 2, 7, 7, 0, 7, 9, 0, 7, 7, 7, 11, 7, 7, 8, 7, 1, 7, 0, 7, 11, 7, 7, 7, 7, 0, 7, 1, 7, 1, 7, 0, 0, 7, 9, 7, 11, 7, 7, 2, 7, 1, 9, 7, 2, 11, 8, 8, 8, 3, 7, 7, 3, 0, 7, 11, 7, 1, 2, 11, 7, 7, 7, 7, 7, 7, 7, 11, 7, 7, 11, 7, 7, 7, 7, 2, 7, 7, 7, 7, 7, 7, 7, 7, 7, 8, 4, 0, 7, 7, 3, 7, 7, 9, 7, 0, 3, 7, 7, 7, 0, 7, 7, 7, 7, 1, 7, 7, 2, 0, 9, 0, 2, 3, 7, 10, 0, 11, 0, 9, 3, 7, 7, 7, 0, 7, 7, 7, 7, 1, 5, 0, 7, 7, 7, 7, 3, 7, 2, 7, 1, 7, 7, 0, 7, 0, 2, 9, 7, 9, 7, 9, 7, 1, 7, 0, 7, 11, 11, 7, 7, 7, 7, 7, 8, 3, 6, 7, 3, 7, 0, 7, 7, 7, 1, 11, 9, 1, 0, 7, 7, 7, 4, 7, 7, 0, 7, 7, 11, 7, 11, 2, 7, 3, 1, 3, 7, 7, 7, 8, 3, 6, 7, 7, 2, 7, 11, 7, 7, 7, 11, 2, 7, 7, 7, 9, 2, 11, 7, 11, 7, 8, 7, 7, 3, 7, 7, 7, 7, 8, 9, 7, 1, 7, 3, 7, 7, 11, 7, 11, 7, 7, 7, 1, 7, 7, 3, 7, 11, 2, 7, 3, 7, 7, 7, 3, 7, 0, 8, 7, 0, 7, 7, 1, 7, 7, 7, 7, 7, 9, 2, 7, 0, 7, 6, 7, 7, 0, 1, 1, 5, 7, 7, 7, 11, 7, 8, 7, 1, 11, 7, 7, 7, 11, 0, 9, 7, 7, 7, 7, 7, 7, 9, 7, 11, 7, 6, 7, 9, 0, 7, 2, 9, 7, 7, 7, 1, 7, 7, 7, 7, 7, 7, 7, 2, 7, 0, 7, 7, 7, 11, 7, 7, 7, 2, 11, 7, 8, 7, 10, 1, 7, 7, 7, 7, 7, 7, 7, 7, 4, 5, 7, 0, 7, 7, 8, 7, 3, 9, 9, 7, 7, 0, 7, 7, 7, 8, 7, 11, 8, 8, 7, 8, 7, 7, 9, 7, 0, 8, 3, 11, 2, 7, 11, 1, 7, 7, 7, 7, 11, 7, 7, 0, 7, 6, 7, 7, 7, 7, 0, 1, 0, 8, 7, 3, 3, 2, 11, 7, 7, 11, 7, 7, 1, 1, 7, 7, 3, 7, 7, 8, 7, 7, 0, 8, 7, 5, 7, 7, 1, 3, 0, 7, 3, 7, 2, 11, 7, 0, 1, 11, 1, 1, 7, 7, 7, 7, 7, 7, 7, 7, 3, 7, 7, 7, 7, 8, 9, 7, 1, 7, 3, 0, 1, 7, 11, 2, 0, 7, 3, 7, 7, 3, 7, 0, 11, 0, 9, 3, 7, 0, 7, 7, 5, 7, 7, 7, 7, 8, 7, 0, 7, 7, 11, 9, 7, 3, 7, 7, 6, 7, 9, 9, 5, 0, 11, 7, 1, 7, 9, 7, 7, 1, 7, 7, 7, 7, 7, 2, 7, 11, 7, 7, 0, 4, 7, 7, 7, 7, 7, 3, 3, 7, 7, 3, 7, 3, 7, 7, 7, 7, 8, 0, 0, 11, 7, 7, 7, 0, 6, 7, 3, 11, 9, 7, 7, 1, 7, 3, 7, 3, 7, 0, 7, 2, 7, 7, 7, 7, 2, 1, 1, 3, 3, 7, 7, 7, 7, 7, 1, 3, 7, 9, 2, 1, 7, 1, 7, 7, 7, 9, 7, 2, 1, 7, 11, 11, 7, 11, 11, 3, 7, 11, 7, 11, 4, 11, 7, 1, 2, 11, 0, 8, 7, 1, 7, 1, 7, 7, 7, 0, 7, 3, 7, 7, 7, 8, 7, 7, 9, 0, 7, 7, 7, 2, 7, 0, 7, 6, 9, 0, 7, 7, 3, 1, 7, 7, 7, 0, 5, 7, 7, 3, 7, 0, 11, 7, 7, 7, 0, 9, 8, 9, 3, 7, 7, 8, 7, 7, 7, 7, 7, 5, 7, 8, 7, 8, 7, 2, 7, 7, 2, 7, 7, 1, 9, 11, 7, 0, 3, 7, 7, 7, 7, 9, 7, 2, 7, 8, 7, 2, 7, 7, 7, 3, 3, 0, 11, 0, 3, 7, 7, 11, 2, 11, 7, 11, 7, 11, 6, 0, 11, 8, 7, 7, 3, 7, 11, 7, 7, 7, 7, 1, 0, 0, 11, 7, 0, 0, 7, 7, 7, 7, 7, 7, 7, 1, 7, 7, 1, 7, 0, 3, 1, 7, 3, 7, 7, 5, 2, 7, 2, 7, 0, 9, 3, 8, 7, 9, 9, 7, 7, 7, 0, 7, 7, 7, 7, 7, 7, 7, 7, 7, 8, 0, 3, 11, 1, 7, 11, 7, 9, 7, 9, 7, 7, 0, 3, 3, 7, 0, 7, 7, 7, 0, 11, 7, 7, 8, 7, 9, 11, 3, 7, 2, 7, 3, 7, 8, 11, 11, 7, 9, 7, 0, 7, 7, 7, 7, 7, 5, 3, 7, 7, 0, 11, 11, 7, 8, 4, 10, 11, 7, 7, 0, 7, 11, 8, 7, 7, 7, 7, 8, 7, 7, 5, 7, 0, 9, 0, 11, 7, 0, 3, 7, 11, 11, 9, 0, 0, 7, 7, 1, 2, 11, 5, 7, 7, 7, 3, 7, 10, 7, 3, 7, 1, 9, 7, 7, 7, 7, 2, 9, 7, 7, 7, 7, 7, 6, 7, 7, 7, 3, 11, 2, 3, 1, 7, 7, 3, 7, 0, 2, 7, 7, 7, 7, 1, 7, 7, 7, 7, 0, 7, 7, 7, 7, 9, 0, 0, 1, 7, 7, 7, 7, 8, 7, 0, 7, 1, 7, 10, 7, 2, 3, 0, 7, 7, 7, 0, 11, 7, 6, 3, 7, 7, 7, 7, 7, 0, 9, 7, 6, 7, 11, 7, 7, 8, 7, 7, 7, 0, 11, 7, 7, 7, 7, 7, 7, 7, 0, 2, 7, 7, 7, 7, 8, 0, 4, 7, 7, 7, 1, 7, 7, 1, 9, 0, 11, 1, 7, 7, 7, 0, 7, 7, 7, 7, 7, 7, 1, 2, 0, 7, 0, 7, 5, 7, 7, 7, 7, 1, 7, 7, 7, 3, 7, 7, 7, 1, 1, 7, 7, 7, 7, 11, 7, 7, 3, 7, 7, 7, 7, 4, 1, 7, 7, 7, 9, 9, 7, 7, 3, 7, 7, 1, 0, 7, 1, 11, 11, 7, 7, 7, 8, 1, 7, 6, 1, 7, 1, 1, 7, 7, 7, 7, 7, 0, 7, 11, 0, 7, 7, 0, 9, 0, 10, 11, 7, 0, 8, 7, 11, 11, 8, 7, 9, 11, 7, 1, 8, 7, 7, 3, 7, 9, 7, 1, 7, 11, 3, 10, 0, 11, 7, 7, 8, 2, 9, 2, 7, 7, 11, 0, 7, 10, 0, 7, 3, 5, 7, 7, 11, 7, 7, 10, 7, 7, 7, 7, 11, 7, 1, 7, 11, 7, 7, 7, 0, 4, 7, 2, 2, 7, 3, 0, 0, 11, 5, 3, 8, 7, 3, 7, 7, 9, 7, 1, 6, 7, 7, 10, 9, 1, 7, 2, 11, 7, 6, 7, 1, 7, 7, 7, 7, 0, 5, 7, 2, 7, 0, 1, 7, 9, 3, 7, 7, 1, 10, 0, 7, 7, 7, 11, 7, 7, 8, 11, 3, 8, 3, 7, 2, 11, 0, 5, 9, 7, 8, 0, 1, 3, 7, 7, 0, 9, 1, 2, 6, 7, 8, 7, 9, 7, 8, 7, 11, 3, 8, 8, 7, 9, 1, 7, 7, 8, 3, 0, 7, 3, 0, 7, 7, 7, 7, 0, 1, 7, 5, 3, 7, 7, 3, 11, 7, 7, 1, 7, 9, 2, 10, 0, 7, 7, 6, 7, 9, 7, 8, 7, 7, 7, 7, 7, 7, 3, 7, 11, 2, 7, 2, 7, 6, 3, 2, 1, 1, 7, 11, 8, 7, 2, 11, 7, 11, 7, 8, 7, 0, 7, 1, 3, 0, 1, 7, 7, 7, 9, 7, 0, 7, 7, 7, 7, 2, 0, 0, 7, 7, 7, 0, 7, 0, 7, 7, 7, 11, 1, 11, 11, 11, 0, 11, 9, 0, 7, 7, 0, 7, 7, 0, 11, 0, 2, 0, 7, 7, 7, 7, 0, 7, 9, 7, 2, 7, 7, 9, 7, 3, 7, 7, 0, 7, 5, 7, 3, 7, 8, 8, 7, 7, 1, 9, 7, 3, 7, 8, 6, 2, 7, 7, 7, 7, 7, 0, 7, 7, 7, 6, 1, 7, 7, 7, 7, 3, 9, 7, 0, 7, 0, 5, 0, 7, 0, 1, 7, 1, 0, 3, 7, 7, 7, 11, 4, 7, 9, 7, 0, 7, 8, 11, 0, 7, 5, 3, 7, 4, 0, 1, 7, 7, 2, 7, 0, 6, 3, 9, 7, 5, 7, 4, 0, 1, 11, 9, 2, 7, 7, 11, 10, 2, 7, 7, 11, 7, 7, 8, 7, 0, 3, 0, 7, 11, 7, 11, 7, 3, 0, 7, 3, 7, 8, 7, 7, 3, 7, 3, 7, 2, 9, 7, 7, 1, 7, 7, 11, 7, 0, 2, 7, 7, 2, 2, 7, 7, 7, 7, 1, 7, 7, 7, 3, 7, 7, 7, 7, 7, 7, 10, 8, 7, 0, 7, 1, 6, 10, 7, 7, 11, 7, 0, 11, 7, 2, 8, 7, 3, 7, 7, 7, 2, 7, 8, 3, 0, 7, 3, 7, 7, 7, 7, 2, 7, 8, 3, 7, 7, 7, 7, 1, 2, 8, 1, 3, 7, 7, 7, 5, 0, 7, 2, 2, 11, 4, 11, 7, 7, 9, 11, 7, 3, 7, 11, 0, 11, 11, 5, 1, 7, 3, 7, 3, 9, 7, 11, 3, 7, 11, 2, 7, 4, 7, 8, 3, 11, 0, 7, 7, 7, 1, 7, 9, 7, 7, 1, 0, 7, 7, 11, 7, 8, 0, 4, 11, 2, 7, 7, 7, 2, 2, 11, 6, 0, 7, 1, 7, 8, 2, 2, 8, 7, 7, 7, 1, 2, 7, 0, 7, 7, 7, 1, 8, 7, 7, 8, 11, 7, 0, 4, 11, 7, 1, 7, 7, 9, 2, 7, 0, 2, 2, 2, 3, 3, 7, 7, 7, 11, 7, 7, 7, 3, 7, 7, 7, 8, 10, 8, 0, 8, 7, 7, 7, 8, 7, 7, 7, 11, 7, 7, 9, 0, 3, 7, 7, 9, 3, 7, 11, 7, 7, 7, 3, 7, 7, 3, 7, 9, 7, 7, 11, 11, 7, 0, 7, 7, 7, 7, 2, 0, 9, 7, 3, 7, 0, 1, 7, 1, 2, 7, 2, 7, 7, 7, 7, 3, 7, 7, 7, 7, 2, 3, 1, 7, 0, 1, 7, 7, 9, 7, 0, 7, 7, 7, 7, 8, 1, 1, 9, 7, 7, 7, 3, 7, 0, 3, 7, 0, 7, 7, 9, 11, 11, 11, 7, 7, 7, 11, 7, 11, 11, 7, 1, 7, 2, 7, 7, 7, 9, 7, 7, 3, 9, 7, 7, 0, 0, 3, 7, 7, 7, 3, 7, 0, 6, 7, 8, 7, 7, 0, 7, 9, 2, 7, 7, 7, 7, 7, 7, 7, 0, 11, 7, 7, 7, 3, 3, 7, 7, 7, 7, 7, 9, 7, 7, 7, 2, 7, 9, 7, 11, 7, 0, 2, 0, 7, 7, 2, 7, 7, 0, 1, 1, 7, 0, 0, 7, 7, 7, 9, 2, 8, 9, 10, 7, 7, 7, 7, 7, 0, 11, 7, 7, 0, 7, 7, 7, 1, 3, 10, 7, 7, 7, 8, 7, 3, 0, 7, 7, 3, 5, 0, 7, 3, 7, 11, 11, 7, 7, 8, 11, 7, 7, 0, 7, 7, 1, 7, 9, 9, 0, 7, 7, 8, 7, 7, 0, 3, 11, 7, 7, 11, 7, 8, 7, 7, 7, 0, 7, 8, 7, 7, 7, 7, 10, 7, 8, 0, 8, 7, 7, 7, 7, 10, 7, 11, 0, 7, 7, 7, 1, 0, 6, 1, 11, 7, 7, 7, 7, 7, 0, 7, 8, 7, 7, 9, 7, 7, 7, 9, 2, 7, 3, 7, 2, 3, 8, 9, 7, 7, 3, 7, 7, 11, 7, 7, 7, 7, 11, 7, 4, 3, 7, 7, 7, 7, 7, 9, 2, 1, 0, 3, 11, 1, 7, 7, 0, 7, 0, 7, 7, 7, 11, 7, 0, 11, 3, 7, 7, 7, 11, 11, 7, 7, 7, 11, 3, 7, 3, 0, 11, 7, 3, 7, 3, 7, 7, 7, 7, 2, 0, 7, 7, 7, 7, 2, 9, 0, 7, 8, 1, 0, 11, 1, 2, 7, 7, 7, 11, 7, 7, 3, 7, 7, 7, 1, 7, 6, 9, 7, 7, 7, 9, 7, 8, 7, 2, 0, 0, 7, 7, 7, 7, 7, 7, 7, 7, 7, 1, 0, 7, 0, 3, 9, 3, 7, 7, 7, 8, 7, 7, 1, 3, 7, 0, 2, 0, 1, 3, 3, 9, 7, 7, 7, 7, 7, 1, 9, 1, 7, 2, 7, 7, 2, 1, 9, 11, 0, 7, 9, 7, 1, 7, 7, 1, 7, 7, 0, 7, 7, 5, 7, 1, 7, 7, 7, 7, 7, 7, 7, 1, 7, 3, 3, 8, 11, 0, 3, 7, 0, 0, 1, 7, 11, 1, 9, 7, 3, 8, 8, 7, 7, 7, 0, 3, 0, 7, 6, 7, 7, 0, 3, 4, 7, 7, 7, 7, 1, 7, 11, 7, 7, 0, 7, 7, 11, 7, 6, 7, 7, 2, 8, 11, 7, 7, 11, 7, 2, 11, 3, 7, 3, 11, 7, 9, 8, 7, 7, 7, 10, 3, 7, 7, 1, 1, 8, 7, 7, 10, 7, 8, 11, 3, 7, 5, 7, 7, 0, 8, 7, 7, 7, 1, 7, 3, 2, 3, 7, 8, 7, 9, 8, 7, 7, 7, 7, 2, 7, 5, 9, 0, 2, 2, 7, 9, 7, 7, 7, 7, 7, 7, 8, 7, 3, 9, 2, 2, 7, 7, 7, 7, 0, 9, 7, 11, 11, 7, 7, 10, 7, 11, 11, 7, 0, 2, 7, 7, 1, 7, 9, 11, 7, 3, 7, 7, 7, 7, 7, 3, 7, 2, 7, 0, 2, 7, 7, 7, 7, 11, 11, 9, 2, 7, 7, 7, 7, 7, 7, 7, 7, 3, 7, 7, 7, 11, 3, 9, 7, 7, 7, 7, 7, 11, 7, 7, 11, 11, 3, 1, 11, 7, 4, 7, 8, 7, 11, 3, 11, 11, 7, 7, 2, 7, 0, 8, 0, 7, 3, 7, 7, 7, 7, 7, 7, 7, 7, 3, 7, 8, 7, 0, 7, 7, 0, 3, 11, 7, 7, 0, 7, 7, 7, 1, 7, 7, 7, 1, 0, 2, 0, 7, 7, 11, 3, 7, 1, 7, 7, 7, 1, 7, 7, 7, 11, 11, 3, 7, 7, 2, 7, 7, 1, 8, 7, 7, 1, 7, 7, 7, 7, 7, 1, 7, 8, 0, 9, 3, 7, 8, 8, 7, 7, 7, 7, 3, 3, 3, 11, 2, 2, 3, 7, 7, 0, 3, 3, 8, 2, 7, 7, 3, 7, 9, 7, 3, 9, 1, 7, 3, 0, 3, 9, 8, 2, 0, 7, 7, 0, 11, 7, 0, 7, 3, 7, 1, 7, 7, 7, 7, 3, 7, 7, 7, 3, 7, 3, 7, 0, 7, 7, 7, 7, 7, 7, 0, 3, 7, 9, 7, 7, 9, 0, 7, 0, 1, 7, 3, 7, 8, 7, 7, 7, 7, 11, 4, 7, 0, 1, 7, 6, 3, 0, 7, 7, 2, 7, 0, 1, 1, 2, 7, 5, 7, 3, 10, 9, 7, 7, 7, 3, 10, 0, 9, 0, 0, 7, 7, 3, 7, 9, 7, 8, 0, 7, 7, 2, 7, 8, 3, 7, 7, 7, 0, 7, 0, 7, 7, 9, 7, 3, 8, 8, 11, 0, 7, 0, 1, 7, 7, 11, 3, 4, 7, 7, 9, 5, 0, 7, 7, 11, 7, 1, 7, 7, 7, 7, 7, 7, 7, 11, 0, 11, 0, 9, 1, 7, 8, 7, 9, 7, 11, 11, 0, 7, 7, 9, 7, 7, 9, 7, 7, 7, 0, 11, 7, 0, 0, 3, 7, 7, 10, 7, 7, 7, 1, 7, 3, 7, 7, 1, 7, 6, 7, 1, 0, 0, 3, 11, 7, 7, 4, 7, 7, 7, 0, 0, 7, 7, 7, 8, 7, 7, 8, 3, 1, 3, 7, 7, 8, 7, 7, 7, 3, 5, 7, 7, 7, 1, 7, 7, 7, 7, 7, 7, 7, 11, 7, 5, 3, 0, 8, 3, 8, 2, 7, 7, 6, 7, 7, 8, 7, 8, 7, 11, 11, 7, 7, 7, 5, 7, 7, 7, 7, 9, 7, 9, 7, 11, 7, 7, 1, 5, 7, 7, 8, 10, 2, 7, 7, 3, 10, 3, 1, 7, 7, 8, 9, 11, 0, 11, 1, 7, 7, 7, 3, 2, 7, 4, 7, 11, 3, 7, 7, 0, 7, 0, 7, 7, 7, 7, 7, 7, 7, 9, 7, 3, 11, 7, 1, 7, 8, 0, 7, 2, 7, 7, 7, 11, 0, 7, 10, 7, 0, 7, 10, 7, 5, 0, 7, 7, 9, 5, 0, 7, 6, 7, 4, 5, 7, 7, 7, 11, 6, 8, 7, 2, 7, 1, 0, 11, 3, 9, 0, 9, 7, 1, 7, 9, 9, 0, 2, 11, 0, 5, 7, 7, 7, 9, 7, 8, 3, 7, 5, 7, 1, 7, 7, 4, 7, 7, 7, 3, 7, 3, 7, 8, 1, 7, 5, 7, 8, 1, 11, 7, 3, 7, 7, 7, 7, 7, 7, 7, 8, 1, 7, 7, 7, 7, 0, 7, 11, 2, 9, 7, 8, 3, 10, 11, 2, 7, 7, 7, 7, 7, 0, 7, 7, 0, 0, 2, 3, 2, 7, 11, 0, 7, 7, 11, 7, 7, 7, 0, 4, 7, 7, 1, 11, 3, 5, 7, 7, 7, 11, 1, 7, 9, 7, 9, 7, 7, 3, 7, 11, 0, 11, 3, 7, 9, 7, 7, 7, 7, 7, 7, 7, 8, 7, 1, 3, 7, 7, 7, 8, 11, 9, 7, 9, 7, 7, 7, 7, 7, 1, 0, 7, 7, 7, 7, 7, 7, 7, 7, 7, 7, 7, 7, 6, 7, 11, 2, 7, 11, 8, 7, 7, 7, 11, 9, 5, 0, 7, 7, 7, 1, 7, 8, 3, 7, 7, 7, 2, 7, 7, 7, 7, 7, 1, 7, 7, 7, 1, 7, 7, 0, 1, 7, 7, 8, 7, 1, 9, 7, 0, 1, 7, 9, 2, 7, 11, 11, 2, 2, 8, 7, 7, 7, 0, 0, 5, 7, 0, 7, 0, 7, 7, 0, 7, 6, 7, 6, 9, 9, 7, 2, 3, 3, 8, 1, 7, 11, 0, 0, 5, 7, 2, 7, 1, 7, 7, 1, 9, 7, 7, 7, 7, 7, 7, 7, 1, 11, 7, 0, 7, 0, 0, 7, 7, 2, 7, 0, 7, 5, 0, 7, 7, 11, 7, 7, 7, 7, 7, 5, 0, 8, 3, 7, 4, 7, 7, 9, 0, 8, 11, 0, 7, 7, 1, 7, 1, 11, 7, 8, 7, 3, 1, 7, 9, 0, 7, 2, 7, 7, 7, 7, 7, 0, 7, 3, 5, 5, 8, 7, 7, 0, 7, 7, 9, 5, 0, 7, 1, 7, 1, 0, 7, 8, 7, 7, 7, 7, 1, 7, 3, 7, 7, 7, 7, 3, 7, 7, 2, 7, 1, 0, 7, 7, 0, 0, 7, 7, 2, 0, 11, 7, 0, 7, 7, 9, 1, 7, 0, 4, 7, 7, 7, 3, 7, 8, 7, 7, 7, 9, 7, 11, 7, 3, 7, 7, 7, 11, 7, 0, 7, 7, 7, 7, 7, 7, 2, 3, 6, 7, 3, 0, 3, 3, 2, 3, 8, 1, 7, 7, 9, 7, 2, 7, 3, 7, 7, 7, 11, 9, 8, 7, 7, 11, 0, 7, 7, 7, 8, 0, 7, 7, 1, 7, 7, 7, 7, 7, 7, 1, 8, 0, 0, 11, 7, 11, 11, 3, 7, 11, 3, 1, 7, 7, 3, 7, 7, 2, 7, 2, 3, 7, 2, 3, 0, 2, 1, 7, 2, 7, 7, 8, 1, 7, 7, 0, 7, 4, 11, 7, 0, 7, 7, 7, 7, 3, 7, 0, 7, 1, 0, 3, 7, 7, 1, 7, 7, 11, 11, 6, 0, 11, 7, 7, 7, 7, 11, 7, 8, 6, 5, 7, 9, 1, 7, 7, 0, 7, 7, 7, 7, 7, 3, 3, 7, 7, 3, 0, 7, 7, 7, 3, 7, 2, 7, 3, 1, 7, 11, 7, 7, 8, 7, 1, 7, 11, 7, 7, 7, 11, 4, 7, 5, 7, 3, 4, 7, 1, 1, 11, 8, 7, 7, 7, 7, 7, 7, 7, 9, 1, 7, 2, 7, 7, 0, 7, 3, 7, 0, 11, 0, 5, 0, 3, 0, 7, 7, 7, 1, 7, 3, 11, 7, 3, 11, 1, 7, 7, 7, 7, 7, 7, 10, 1, 0, 11, 0, 7, 9, 7, 11, 0, 7, 0, 1, 7, 7, 7, 3, 0, 7, 7, 3, 1, 7, 0, 7, 7, 11, 3, 7, 7, 2, 2, 7, 0, 7, 7, 7, 8, 7, 7, 7, 7, 7, 1, 7, 9]\n"
          ]
        }
      ]
    },
    {
      "cell_type": "code",
      "source": [
        "train_classes = train_generator.classes\n",
        "class_weights = compute_class_weight(\n",
        "                                        class_weight = \"balanced\",\n",
        "                                        classes = np.unique(train_classes),\n",
        "                                        y = train_classes                                                    \n",
        "                                    )\n",
        "class_weights = dict(zip(np.unique(train_classes), class_weights))\n",
        "class_weights"
      ],
      "metadata": {
        "colab": {
          "base_uri": "https://localhost:8080/"
        },
        "id": "Q2Tk5KL1Kfh5",
        "outputId": "b4c23df8-7fc3-40b8-ddcf-c3a6e10b7894"
      },
      "execution_count": 118,
      "outputs": [
        {
          "output_type": "execute_result",
          "data": {
            "text/plain": [
              "{0: 0.8844665561083471,\n",
              " 1: 1.3152486642005754,\n",
              " 2: 1.7660044150110374,\n",
              " 3: 1.0962658444672833,\n",
              " 4: 9.696969696969697,\n",
              " 5: 6.666666666666667,\n",
              " 6: 7.017543859649122,\n",
              " 7: 0.16581170008808746,\n",
              " 8: 2.0087884494664157,\n",
              " 9: 1.6334864726901481,\n",
              " 10: 7.785888077858881,\n",
              " 11: 1.035598705501618}"
            ]
          },
          "metadata": {},
          "execution_count": 118
        }
      ]
    },
    {
      "cell_type": "markdown",
      "source": [
        "### Compute Model - Weight Compensated"
      ],
      "metadata": {
        "id": "0vE4sQ4_VZV_"
      }
    },
    {
      "cell_type": "code",
      "source": [
        "model = tf.keras.models.Sequential([\n",
        "    pre_trained_model,\n",
        "    \n",
        "    Flatten(),    \n",
        "    Dense(256,activation=\"relu\"),\n",
        "    BatchNormalization(),\n",
        "    Dropout(0.35),\n",
        "    Dense(12, activation='softmax')\n",
        "])\n",
        "\n",
        "model.summary()"
      ],
      "metadata": {
        "colab": {
          "base_uri": "https://localhost:8080/"
        },
        "id": "f2T-iPoKVIFN",
        "outputId": "f5b8f532-5e3e-4693-9583-8586080f0fcc"
      },
      "execution_count": 119,
      "outputs": [
        {
          "output_type": "stream",
          "name": "stdout",
          "text": [
            "Model: \"sequential_5\"\n",
            "_________________________________________________________________\n",
            " Layer (type)                Output Shape              Param #   \n",
            "=================================================================\n",
            " vgg16 (Functional)          (None, 1, 1, 512)         14714688  \n",
            "                                                                 \n",
            " flatten_5 (Flatten)         (None, 512)               0         \n",
            "                                                                 \n",
            " dense_10 (Dense)            (None, 256)               131328    \n",
            "                                                                 \n",
            " batch_normalization_5 (Batc  (None, 256)              1024      \n",
            " hNormalization)                                                 \n",
            "                                                                 \n",
            " dropout_5 (Dropout)         (None, 256)               0         \n",
            "                                                                 \n",
            " dense_11 (Dense)            (None, 12)                3084      \n",
            "                                                                 \n",
            "=================================================================\n",
            "Total params: 14,850,124\n",
            "Trainable params: 7,214,348\n",
            "Non-trainable params: 7,635,776\n",
            "_________________________________________________________________\n"
          ]
        }
      ]
    },
    {
      "cell_type": "code",
      "source": [
        "model.compile(loss = \"categorical_crossentropy\",\n",
        "    optimizer = keras.optimizers.Adam(learning_rate=1e-4),\n",
        "    metrics = [\"accuracy\"])\n",
        "\n",
        "logdir = os.path.join(\"logs_feature_extraction\", datetime.datetime.now().strftime(\"%Y%m%d-%H%M%S\"))\n",
        "\n",
        "\n",
        "callbacks = [\n",
        "    keras.callbacks.ModelCheckpoint(filepath=\"feature_extraction.h5\", save_best_only=True, monitor=\"val_loss\"),\n",
        "    tf.keras.callbacks.TensorBoard(logdir, histogram_freq=1)\n",
        "]\n",
        "\n",
        "history = model.fit(\n",
        "train_generator,\n",
        "epochs = 60,\n",
        "validation_data=(val_generator),\n",
        "class_weight = class_weights,\n",
        "callbacks = callbacks\n",
        ")"
      ],
      "metadata": {
        "colab": {
          "base_uri": "https://localhost:8080/"
        },
        "id": "iEOb_vPZNmbW",
        "outputId": "feec7227-e685-452f-95fc-4ddf07d8a0af"
      },
      "execution_count": 120,
      "outputs": [
        {
          "output_type": "stream",
          "name": "stdout",
          "text": [
            "Epoch 1/60\n",
            "200/200 [==============================] - 6s 26ms/step - loss: 2.0078 - accuracy: 0.3062 - val_loss: 3.0496 - val_accuracy: 0.0838\n",
            "Epoch 2/60\n",
            "200/200 [==============================] - 5s 24ms/step - loss: 1.6367 - accuracy: 0.4015 - val_loss: 3.3428 - val_accuracy: 0.1075\n",
            "Epoch 3/60\n",
            "200/200 [==============================] - 5s 23ms/step - loss: 1.4615 - accuracy: 0.4608 - val_loss: 5.9710 - val_accuracy: 0.1213\n",
            "Epoch 4/60\n",
            "200/200 [==============================] - 5s 25ms/step - loss: 1.3652 - accuracy: 0.4791 - val_loss: 1.7401 - val_accuracy: 0.4781\n",
            "Epoch 5/60\n",
            "200/200 [==============================] - 5s 23ms/step - loss: 1.2498 - accuracy: 0.5233 - val_loss: 2.2166 - val_accuracy: 0.3131\n",
            "Epoch 6/60\n",
            "200/200 [==============================] - 5s 23ms/step - loss: 1.1761 - accuracy: 0.5468 - val_loss: 1.8749 - val_accuracy: 0.3812\n",
            "Epoch 7/60\n",
            "200/200 [==============================] - 5s 25ms/step - loss: 1.0948 - accuracy: 0.5561 - val_loss: 1.6603 - val_accuracy: 0.4969\n",
            "Epoch 8/60\n",
            "200/200 [==============================] - 5s 23ms/step - loss: 1.0455 - accuracy: 0.5761 - val_loss: 2.6958 - val_accuracy: 0.2619\n",
            "Epoch 9/60\n",
            "200/200 [==============================] - 5s 23ms/step - loss: 0.9932 - accuracy: 0.5908 - val_loss: 2.4971 - val_accuracy: 0.2950\n",
            "Epoch 10/60\n",
            "200/200 [==============================] - 5s 24ms/step - loss: 0.9222 - accuracy: 0.6095 - val_loss: 2.1814 - val_accuracy: 0.3619\n",
            "Epoch 11/60\n",
            "200/200 [==============================] - 5s 24ms/step - loss: 0.8751 - accuracy: 0.6244 - val_loss: 1.9372 - val_accuracy: 0.4156\n",
            "Epoch 12/60\n",
            "200/200 [==============================] - 5s 24ms/step - loss: 0.8348 - accuracy: 0.6272 - val_loss: 2.1650 - val_accuracy: 0.3537\n",
            "Epoch 13/60\n",
            "200/200 [==============================] - 5s 24ms/step - loss: 0.7887 - accuracy: 0.6438 - val_loss: 1.9809 - val_accuracy: 0.4250\n",
            "Epoch 14/60\n",
            "200/200 [==============================] - 5s 25ms/step - loss: 0.7404 - accuracy: 0.6538 - val_loss: 1.6189 - val_accuracy: 0.5213\n",
            "Epoch 15/60\n",
            "200/200 [==============================] - 5s 24ms/step - loss: 0.7004 - accuracy: 0.6633 - val_loss: 2.6765 - val_accuracy: 0.3169\n",
            "Epoch 16/60\n",
            "200/200 [==============================] - 5s 24ms/step - loss: 0.6539 - accuracy: 0.6804 - val_loss: 1.8761 - val_accuracy: 0.4450\n",
            "Epoch 17/60\n",
            "200/200 [==============================] - 5s 24ms/step - loss: 0.6082 - accuracy: 0.6938 - val_loss: 2.3793 - val_accuracy: 0.3819\n",
            "Epoch 18/60\n",
            "200/200 [==============================] - 5s 27ms/step - loss: 0.5757 - accuracy: 0.7054 - val_loss: 1.3907 - val_accuracy: 0.5944\n",
            "Epoch 19/60\n",
            "200/200 [==============================] - 5s 25ms/step - loss: 0.5891 - accuracy: 0.7056 - val_loss: 1.2553 - val_accuracy: 0.6631\n",
            "Epoch 20/60\n",
            "200/200 [==============================] - 5s 24ms/step - loss: 0.5337 - accuracy: 0.7202 - val_loss: 1.5787 - val_accuracy: 0.5394\n",
            "Epoch 21/60\n",
            "200/200 [==============================] - 5s 23ms/step - loss: 0.5212 - accuracy: 0.7115 - val_loss: 1.6654 - val_accuracy: 0.5219\n",
            "Epoch 22/60\n",
            "200/200 [==============================] - 5s 24ms/step - loss: 0.4798 - accuracy: 0.7342 - val_loss: 1.4073 - val_accuracy: 0.5831\n",
            "Epoch 23/60\n",
            "200/200 [==============================] - 5s 23ms/step - loss: 0.4906 - accuracy: 0.7354 - val_loss: 1.5639 - val_accuracy: 0.5350\n",
            "Epoch 24/60\n",
            "200/200 [==============================] - 5s 23ms/step - loss: 0.4757 - accuracy: 0.7401 - val_loss: 1.9228 - val_accuracy: 0.4600\n",
            "Epoch 25/60\n",
            "200/200 [==============================] - 5s 23ms/step - loss: 0.4297 - accuracy: 0.7532 - val_loss: 1.6766 - val_accuracy: 0.5106\n",
            "Epoch 26/60\n",
            "200/200 [==============================] - 5s 23ms/step - loss: 0.4137 - accuracy: 0.7542 - val_loss: 1.5658 - val_accuracy: 0.5550\n",
            "Epoch 27/60\n",
            "200/200 [==============================] - 5s 23ms/step - loss: 0.3914 - accuracy: 0.7720 - val_loss: 1.5590 - val_accuracy: 0.5475\n",
            "Epoch 28/60\n",
            "200/200 [==============================] - 5s 23ms/step - loss: 0.3684 - accuracy: 0.7781 - val_loss: 1.8284 - val_accuracy: 0.4725\n",
            "Epoch 29/60\n",
            "200/200 [==============================] - 5s 23ms/step - loss: 0.3651 - accuracy: 0.7870 - val_loss: 2.1017 - val_accuracy: 0.4425\n",
            "Epoch 30/60\n",
            "200/200 [==============================] - 5s 26ms/step - loss: 0.3665 - accuracy: 0.7854 - val_loss: 1.1312 - val_accuracy: 0.6994\n",
            "Epoch 31/60\n",
            "200/200 [==============================] - 5s 24ms/step - loss: 0.3680 - accuracy: 0.7963 - val_loss: 1.6587 - val_accuracy: 0.6087\n",
            "Epoch 32/60\n",
            "200/200 [==============================] - 5s 24ms/step - loss: 0.3245 - accuracy: 0.8010 - val_loss: 1.7339 - val_accuracy: 0.5337\n",
            "Epoch 33/60\n",
            "200/200 [==============================] - 5s 23ms/step - loss: 0.2761 - accuracy: 0.8185 - val_loss: 2.3617 - val_accuracy: 0.4331\n",
            "Epoch 34/60\n",
            "200/200 [==============================] - 5s 23ms/step - loss: 0.3107 - accuracy: 0.8065 - val_loss: 1.3037 - val_accuracy: 0.6644\n",
            "Epoch 35/60\n",
            "200/200 [==============================] - 5s 23ms/step - loss: 0.2638 - accuracy: 0.8273 - val_loss: 1.5825 - val_accuracy: 0.5675\n",
            "Epoch 36/60\n",
            "200/200 [==============================] - 5s 23ms/step - loss: 0.2753 - accuracy: 0.8224 - val_loss: 1.7933 - val_accuracy: 0.5681\n",
            "Epoch 37/60\n",
            "200/200 [==============================] - 5s 23ms/step - loss: 0.2913 - accuracy: 0.8180 - val_loss: 1.9967 - val_accuracy: 0.4688\n",
            "Epoch 38/60\n",
            "200/200 [==============================] - 5s 24ms/step - loss: 0.2672 - accuracy: 0.8262 - val_loss: 1.1329 - val_accuracy: 0.6969\n",
            "Epoch 39/60\n",
            "200/200 [==============================] - 5s 23ms/step - loss: 0.2110 - accuracy: 0.8486 - val_loss: 1.1396 - val_accuracy: 0.7400\n",
            "Epoch 40/60\n",
            "200/200 [==============================] - 5s 23ms/step - loss: 0.2121 - accuracy: 0.8533 - val_loss: 1.9104 - val_accuracy: 0.5038\n",
            "Epoch 41/60\n",
            "200/200 [==============================] - 5s 24ms/step - loss: 0.2561 - accuracy: 0.8364 - val_loss: 1.1715 - val_accuracy: 0.7206\n",
            "Epoch 42/60\n",
            "200/200 [==============================] - 5s 23ms/step - loss: 0.2115 - accuracy: 0.8612 - val_loss: 1.3040 - val_accuracy: 0.7163\n",
            "Epoch 43/60\n",
            "200/200 [==============================] - 5s 23ms/step - loss: 0.1964 - accuracy: 0.8593 - val_loss: 1.2203 - val_accuracy: 0.6963\n",
            "Epoch 44/60\n",
            "200/200 [==============================] - 5s 24ms/step - loss: 0.2046 - accuracy: 0.8662 - val_loss: 2.1254 - val_accuracy: 0.4688\n",
            "Epoch 45/60\n",
            "200/200 [==============================] - 5s 23ms/step - loss: 0.1919 - accuracy: 0.8682 - val_loss: 1.3393 - val_accuracy: 0.6656\n",
            "Epoch 46/60\n",
            "200/200 [==============================] - 5s 23ms/step - loss: 0.1696 - accuracy: 0.8757 - val_loss: 1.2931 - val_accuracy: 0.7256\n",
            "Epoch 47/60\n",
            "200/200 [==============================] - 5s 23ms/step - loss: 0.1707 - accuracy: 0.8732 - val_loss: 1.2164 - val_accuracy: 0.7188\n",
            "Epoch 48/60\n",
            "200/200 [==============================] - 5s 24ms/step - loss: 0.1447 - accuracy: 0.8905 - val_loss: 1.7181 - val_accuracy: 0.5806\n",
            "Epoch 49/60\n",
            "200/200 [==============================] - 5s 24ms/step - loss: 0.3042 - accuracy: 0.8438 - val_loss: 1.5775 - val_accuracy: 0.6131\n",
            "Epoch 50/60\n",
            "200/200 [==============================] - 5s 23ms/step - loss: 0.2780 - accuracy: 0.8415 - val_loss: 2.1467 - val_accuracy: 0.4881\n",
            "Epoch 51/60\n",
            "200/200 [==============================] - 5s 24ms/step - loss: 0.2180 - accuracy: 0.8605 - val_loss: 1.2490 - val_accuracy: 0.6925\n",
            "Epoch 52/60\n",
            "200/200 [==============================] - 5s 23ms/step - loss: 0.1408 - accuracy: 0.8966 - val_loss: 1.3806 - val_accuracy: 0.6694\n",
            "Epoch 53/60\n",
            "200/200 [==============================] - 5s 23ms/step - loss: 0.1306 - accuracy: 0.8965 - val_loss: 1.1973 - val_accuracy: 0.7425\n",
            "Epoch 54/60\n",
            "200/200 [==============================] - 5s 24ms/step - loss: 0.1158 - accuracy: 0.9116 - val_loss: 1.2829 - val_accuracy: 0.7106\n",
            "Epoch 55/60\n",
            "200/200 [==============================] - 5s 23ms/step - loss: 0.1330 - accuracy: 0.9040 - val_loss: 1.4398 - val_accuracy: 0.6725\n",
            "Epoch 56/60\n",
            "200/200 [==============================] - 5s 23ms/step - loss: 0.1145 - accuracy: 0.9086 - val_loss: 1.2192 - val_accuracy: 0.7581\n",
            "Epoch 57/60\n",
            "200/200 [==============================] - 5s 24ms/step - loss: 0.0993 - accuracy: 0.9177 - val_loss: 1.3514 - val_accuracy: 0.7206\n",
            "Epoch 58/60\n",
            "200/200 [==============================] - 5s 25ms/step - loss: 0.1089 - accuracy: 0.9149 - val_loss: 1.4058 - val_accuracy: 0.6956\n",
            "Epoch 59/60\n",
            "200/200 [==============================] - 5s 23ms/step - loss: 0.1050 - accuracy: 0.9155 - val_loss: 1.8767 - val_accuracy: 0.5763\n",
            "Epoch 60/60\n",
            "200/200 [==============================] - 5s 23ms/step - loss: 0.1955 - accuracy: 0.8805 - val_loss: 1.3635 - val_accuracy: 0.7156\n"
          ]
        }
      ]
    },
    {
      "cell_type": "markdown",
      "source": [
        "#### Model Performance - Weight Compensated"
      ],
      "metadata": {
        "id": "sH-J0aamQkXx"
      }
    },
    {
      "cell_type": "code",
      "source": [
        "plt.plot(history.history['accuracy'])\n",
        "plt.plot(history.history['val_accuracy'])\n",
        "plt.title('model accuracy')\n",
        "plt.ylabel('accuracy')\n",
        "plt.xlabel('epoch')\n",
        "plt.legend(['train', 'valid'], loc='lower right')\n",
        "plt.show()\n",
        "plt.plot(history.history['loss'])\n",
        "plt.plot(history.history['val_loss'])\n",
        "plt.title('model loss')\n",
        "plt.ylabel('loss')\n",
        "plt.xlabel('epoch')\n",
        "plt.legend(['train', 'valid'], loc='upper right')\n",
        "plt.show()"
      ],
      "metadata": {
        "colab": {
          "base_uri": "https://localhost:8080/",
          "height": 573
        },
        "outputId": "24ad64b6-a09b-496a-c8c3-879a6f31dcb9",
        "id": "8SZqKmM4QkXx"
      },
      "execution_count": 121,
      "outputs": [
        {
          "output_type": "display_data",
          "data": {
            "text/plain": [
              "<Figure size 432x288 with 1 Axes>"
            ],
            "image/png": "[encoded data removed]"
          },
          "metadata": {
            "needs_background": "light"
          }
        },
        {
          "output_type": "display_data",
          "data": {
            "text/plain": [
              "<Figure size 432x288 with 1 Axes>"
            ],
            "image/png": "[encoded data removed]"
          },
          "metadata": {
            "needs_background": "light"
          }
        }
      ]
    },
    {
      "cell_type": "code",
      "source": [
        " model.evaluate(val_generator)"
      ],
      "metadata": {
        "colab": {
          "base_uri": "https://localhost:8080/"
        },
        "outputId": "95e699db-4863-4b3a-eb97-354c714fe038",
        "id": "9dFtaLg5QkXx"
      },
      "execution_count": 122,
      "outputs": [
        {
          "output_type": "stream",
          "name": "stdout",
          "text": [
            "25/25 [==============================] - 0s 14ms/step - loss: 1.3635 - accuracy: 0.7156\n"
          ]
        },
        {
          "output_type": "execute_result",
          "data": {
            "text/plain": [
              "[1.36347234249115, 0.715624988079071]"
            ]
          },
          "metadata": {},
          "execution_count": 122
        }
      ]
    },
    {
      "cell_type": "code",
      "source": [
        "x = list(train_generator.class_indices.keys())\n",
        "num_of_test_samples = 1600\n",
        "\n",
        "Y_pred = model.predict_generator(val_generator, num_of_test_samples // batch_size+1)\n",
        "y_pred = np.argmax(Y_pred, axis=1)\n",
        "print()\n",
        "print('Confusion Matrix')\n",
        "print(confusion_matrix(val_generator.classes, y_pred))\n",
        "\n",
        "print()\n",
        "print('Classification Report')\n",
        "target_names = x\n",
        "print(classification_report(val_generator.classes, y_pred, target_names = target_names))"
      ],
      "metadata": {
        "colab": {
          "base_uri": "https://localhost:8080/"
        },
        "outputId": "a0d8f2eb-df1d-46a6-e3ea-abe8f84fe7c3",
        "id": "aJVn2A40QkXx"
      },
      "execution_count": 123,
      "outputs": [
        {
          "output_type": "stream",
          "name": "stderr",
          "text": [
            "/usr/local/lib/python3.7/dist-packages/ipykernel_launcher.py:4: UserWarning: `Model.predict_generator` is deprecated and will be removed in a future version. Please use `Model.predict`, which supports generators.\n",
            "  after removing the cwd from sys.path.\n"
          ]
        },
        {
          "output_type": "stream",
          "name": "stdout",
          "text": [
            "WARNING:tensorflow:Your input ran out of data; interrupting training. Make sure that your dataset or generator can generate at least `steps_per_epoch * epochs` batches (in this case, 26 batches). You may need to use the repeat() function when building your dataset.\n",
            "\n",
            "Confusion Matrix\n",
            "[[ 15   5   7  10   1   3   3  51   8  17   1  11]\n",
            " [  8   5   7   8   1   3   1  57   2  15   1   5]\n",
            " [ 12   6   5   6   0   3   0  45   6   8   0   7]\n",
            " [  7   4  13  10   2   2   1  36   3  17   2  20]\n",
            " [  1   0   1   1   0   0   0  10   0   4   0   0]\n",
            " [  4   0   1   1   0   0   1   8   0   3   0   2]\n",
            " [  1   1   1   1   0   0   0   9   1   2   0   2]\n",
            " [ 71  40  58  62   7  11   9 343  25  80  11  60]\n",
            " [  4   0   8   3   1   0   1  30   1   6   1   4]\n",
            " [  8   5  11  10   1   0   0  40   3   7   1   6]\n",
            " [  2   1   2   1   0   0   0   3   1   2   0   3]\n",
            " [  7  11  15  15   0   0   5  62   5  13   1   8]]\n",
            "\n",
            "Classification Report\n",
            "                precision    recall  f1-score   support\n",
            "\n",
            "          Cell       0.11      0.11      0.11       132\n",
            "    Cell-Multi       0.06      0.04      0.05       113\n",
            "      Cracking       0.04      0.05      0.04        98\n",
            "         Diode       0.08      0.09      0.08       117\n",
            "   Diode-Multi       0.00      0.00      0.00        17\n",
            "      Hot-Spot       0.00      0.00      0.00        20\n",
            "Hot-Spot-Multi       0.00      0.00      0.00        18\n",
            "    No-Anomaly       0.49      0.44      0.47       777\n",
            "Offline-Module       0.02      0.02      0.02        59\n",
            "     Shadowing       0.04      0.08      0.05        92\n",
            "       Soiling       0.00      0.00      0.00        15\n",
            "    Vegetation       0.06      0.06      0.06       142\n",
            "\n",
            "      accuracy                           0.25      1600\n",
            "     macro avg       0.08      0.07      0.07      1600\n",
            "  weighted avg       0.27      0.25      0.26      1600\n",
            "\n"
          ]
        }
      ]
    },
    {
      "cell_type": "code",
      "source": [
        "cm = confusion_matrix(val_generator.classes, y_pred)\n",
        "fig, ax = plt.subplots()\n",
        "im = ax.imshow(cm, interpolation='nearest', cmap=plt.cm.Blues)\n",
        "title = 'Confusion matrix'\n",
        "ax.figure.colorbar(im, ax=ax)\n",
        "ax.set(xticks=np.arange(cm.shape[1]),\n",
        "    yticks=np.arange(cm.shape[0]),\n",
        "    xticklabels=target_names, yticklabels=target_names,\n",
        "    title=title,\n",
        "    ylabel='True label',\n",
        "    xlabel='Predicted label')\n",
        "plt.setp(ax.get_xticklabels(), rotation=45, ha=\"right\",\n",
        "             rotation_mode=\"anchor\")\n",
        "np.set_printoptions(precision=2)\n",
        "plt.show()"
      ],
      "metadata": {
        "colab": {
          "base_uri": "https://localhost:8080/",
          "height": 344
        },
        "outputId": "177b02fe-9d61-4bb4-a92b-920d19be43c3",
        "id": "5cGCHJYyQkXx"
      },
      "execution_count": 124,
      "outputs": [
        {
          "output_type": "display_data",
          "data": {
            "text/plain": [
              "<Figure size 432x288 with 2 Axes>"
            ],
            "image/png": "[encoded data removed]"
          },
          "metadata": {
            "needs_background": "light"
          }
        }
      ]
    },
    {
      "cell_type": "markdown",
      "source": [
        "### Fine Tuning - Weight Compensated"
      ],
      "metadata": {
        "id": "UBVE56_dbogs"
      }
    },
    {
      "cell_type": "code",
      "source": [
        "# Freeze all layers until the block_5_ layers\n",
        "pre_trained_model.trainable = True\n",
        "for layer in pre_trained_model.layers[:-4]:\n",
        "    layer.trainable = False\n",
        "    \n",
        "for layer in pre_trained_model.layers[0:]:\n",
        "    print('layer name = ' + layer.name + ', shape = ' + repr(layer.output_shape)\n",
        "            + ', trainable = ' + repr(layer.trainable))  "
      ],
      "metadata": {
        "colab": {
          "base_uri": "https://localhost:8080/"
        },
        "id": "Sswuomlcbogy",
        "outputId": "f506eb28-9054-4b79-dc09-2faf211737cb"
      },
      "execution_count": 125,
      "outputs": [
        {
          "output_type": "stream",
          "name": "stdout",
          "text": [
            "layer name = input_1, shape = [(None, 32, 40, 3)], trainable = False\n",
            "layer name = block1_conv1, shape = (None, 32, 40, 64), trainable = False\n",
            "layer name = block1_conv2, shape = (None, 32, 40, 64), trainable = False\n",
            "layer name = block1_pool, shape = (None, 16, 20, 64), trainable = False\n",
            "layer name = block2_conv1, shape = (None, 16, 20, 128), trainable = False\n",
            "layer name = block2_conv2, shape = (None, 16, 20, 128), trainable = False\n",
            "layer name = block2_pool, shape = (None, 8, 10, 128), trainable = False\n",
            "layer name = block3_conv1, shape = (None, 8, 10, 256), trainable = False\n",
            "layer name = block3_conv2, shape = (None, 8, 10, 256), trainable = False\n",
            "layer name = block3_conv3, shape = (None, 8, 10, 256), trainable = False\n",
            "layer name = block3_pool, shape = (None, 4, 5, 256), trainable = False\n",
            "layer name = block4_conv1, shape = (None, 4, 5, 512), trainable = False\n",
            "layer name = block4_conv2, shape = (None, 4, 5, 512), trainable = False\n",
            "layer name = block4_conv3, shape = (None, 4, 5, 512), trainable = False\n",
            "layer name = block4_pool, shape = (None, 2, 2, 512), trainable = False\n",
            "layer name = block5_conv1, shape = (None, 2, 2, 512), trainable = True\n",
            "layer name = block5_conv2, shape = (None, 2, 2, 512), trainable = True\n",
            "layer name = block5_conv3, shape = (None, 2, 2, 512), trainable = True\n",
            "layer name = block5_pool, shape = (None, 1, 1, 512), trainable = True\n"
          ]
        }
      ]
    },
    {
      "cell_type": "code",
      "source": [
        "model.compile(loss = \"categorical_crossentropy\",\n",
        "    optimizer = keras.optimizers.Adam(learning_rate=1e-5),\n",
        "    metrics = [\"accuracy\"])"
      ],
      "metadata": {
        "id": "Zu56WPOPbogy"
      },
      "execution_count": 126,
      "outputs": []
    },
    {
      "cell_type": "code",
      "source": [
        "model.summary()"
      ],
      "metadata": {
        "colab": {
          "base_uri": "https://localhost:8080/"
        },
        "id": "3DYq1PE9bogy",
        "outputId": "ba21918d-0c9f-4c5a-aacc-ca3ba6d58351"
      },
      "execution_count": 127,
      "outputs": [
        {
          "output_type": "stream",
          "name": "stdout",
          "text": [
            "Model: \"sequential_5\"\n",
            "_________________________________________________________________\n",
            " Layer (type)                Output Shape              Param #   \n",
            "=================================================================\n",
            " vgg16 (Functional)          (None, 1, 1, 512)         14714688  \n",
            "                                                                 \n",
            " flatten_5 (Flatten)         (None, 512)               0         \n",
            "                                                                 \n",
            " dense_10 (Dense)            (None, 256)               131328    \n",
            "                                                                 \n",
            " batch_normalization_5 (Batc  (None, 256)              1024      \n",
            " hNormalization)                                                 \n",
            "                                                                 \n",
            " dropout_5 (Dropout)         (None, 256)               0         \n",
            "                                                                 \n",
            " dense_11 (Dense)            (None, 12)                3084      \n",
            "                                                                 \n",
            "=================================================================\n",
            "Total params: 14,850,124\n",
            "Trainable params: 7,214,348\n",
            "Non-trainable params: 7,635,776\n",
            "_________________________________________________________________\n"
          ]
        }
      ]
    },
    {
      "cell_type": "code",
      "source": [
        "logdir = os.path.join(\"logs_fine_tuning\", datetime.datetime.now().strftime(\"%Y%m%d-%H%M%S\"))\n",
        "\n",
        "\n",
        "callbacks = [\n",
        "    keras.callbacks.ModelCheckpoint(filepath=\"fine_tuning.keras\", save_best_only=True, monitor=\"val_loss\"),\n",
        "    tf.keras.callbacks.TensorBoard(logdir, histogram_freq=1)\n",
        "]\n",
        "\n",
        "history = model.fit(\n",
        "train_generator,\n",
        "epochs=60,\n",
        "validation_data = val_generator,\n",
        "class_weight = class_weights,\n",
        "callbacks = callbacks\n",
        ")"
      ],
      "metadata": {
        "colab": {
          "base_uri": "https://localhost:8080/"
        },
        "id": "d-MyYIrrbogy",
        "outputId": "32a6be75-2b30-42a3-fa54-74a78337e619"
      },
      "execution_count": 128,
      "outputs": [
        {
          "output_type": "stream",
          "name": "stdout",
          "text": [
            "Epoch 1/60\n",
            "200/200 [==============================] - 6s 26ms/step - loss: 0.0709 - accuracy: 0.9391 - val_loss: 1.1811 - val_accuracy: 0.7319\n",
            "Epoch 2/60\n",
            "200/200 [==============================] - 5s 24ms/step - loss: 0.0469 - accuracy: 0.9595 - val_loss: 1.1580 - val_accuracy: 0.7569\n",
            "Epoch 3/60\n",
            "200/200 [==============================] - 5s 24ms/step - loss: 0.0400 - accuracy: 0.9652 - val_loss: 1.2175 - val_accuracy: 0.7381\n",
            "Epoch 4/60\n",
            "200/200 [==============================] - 5s 23ms/step - loss: 0.0349 - accuracy: 0.9690 - val_loss: 1.1705 - val_accuracy: 0.7600\n",
            "Epoch 5/60\n",
            "200/200 [==============================] - 5s 23ms/step - loss: 0.0339 - accuracy: 0.9713 - val_loss: 1.1791 - val_accuracy: 0.7525\n",
            "Epoch 6/60\n",
            "200/200 [==============================] - 5s 26ms/step - loss: 0.0319 - accuracy: 0.9734 - val_loss: 1.1823 - val_accuracy: 0.7594\n",
            "Epoch 7/60\n",
            "200/200 [==============================] - 5s 26ms/step - loss: 0.0286 - accuracy: 0.9759 - val_loss: 1.1878 - val_accuracy: 0.7588\n",
            "Epoch 8/60\n",
            "200/200 [==============================] - 5s 23ms/step - loss: 0.0266 - accuracy: 0.9762 - val_loss: 1.1807 - val_accuracy: 0.7656\n",
            "Epoch 9/60\n",
            "200/200 [==============================] - 5s 24ms/step - loss: 0.0245 - accuracy: 0.9784 - val_loss: 1.2040 - val_accuracy: 0.7563\n",
            "Epoch 10/60\n",
            "200/200 [==============================] - 5s 23ms/step - loss: 0.0218 - accuracy: 0.9800 - val_loss: 1.1913 - val_accuracy: 0.7581\n",
            "Epoch 11/60\n",
            "200/200 [==============================] - 5s 23ms/step - loss: 0.0219 - accuracy: 0.9813 - val_loss: 1.2189 - val_accuracy: 0.7606\n",
            "Epoch 12/60\n",
            "200/200 [==============================] - 5s 26ms/step - loss: 0.0190 - accuracy: 0.9831 - val_loss: 1.2065 - val_accuracy: 0.7663\n",
            "Epoch 13/60\n",
            "200/200 [==============================] - 5s 27ms/step - loss: 0.0198 - accuracy: 0.9830 - val_loss: 1.1939 - val_accuracy: 0.7613\n",
            "Epoch 14/60\n",
            "200/200 [==============================] - 5s 23ms/step - loss: 0.0174 - accuracy: 0.9875 - val_loss: 1.2519 - val_accuracy: 0.7506\n",
            "Epoch 15/60\n",
            "200/200 [==============================] - 5s 24ms/step - loss: 0.0178 - accuracy: 0.9855 - val_loss: 1.2236 - val_accuracy: 0.7588\n",
            "Epoch 16/60\n",
            "200/200 [==============================] - 5s 24ms/step - loss: 0.0170 - accuracy: 0.9835 - val_loss: 1.2132 - val_accuracy: 0.7625\n",
            "Epoch 17/60\n",
            "200/200 [==============================] - 5s 24ms/step - loss: 0.0155 - accuracy: 0.9873 - val_loss: 1.2178 - val_accuracy: 0.7581\n",
            "Epoch 18/60\n",
            "200/200 [==============================] - 5s 24ms/step - loss: 0.0139 - accuracy: 0.9880 - val_loss: 1.2088 - val_accuracy: 0.7631\n",
            "Epoch 19/60\n",
            "200/200 [==============================] - 5s 23ms/step - loss: 0.0142 - accuracy: 0.9898 - val_loss: 1.2076 - val_accuracy: 0.7644\n",
            "Epoch 20/60\n",
            "200/200 [==============================] - 5s 24ms/step - loss: 0.0146 - accuracy: 0.9876 - val_loss: 1.2386 - val_accuracy: 0.7594\n",
            "Epoch 21/60\n",
            "200/200 [==============================] - 6s 29ms/step - loss: 0.0127 - accuracy: 0.9905 - val_loss: 1.2527 - val_accuracy: 0.7600\n",
            "Epoch 22/60\n",
            "200/200 [==============================] - 5s 24ms/step - loss: 0.0123 - accuracy: 0.9908 - val_loss: 1.2161 - val_accuracy: 0.7650\n",
            "Epoch 23/60\n",
            "200/200 [==============================] - 5s 24ms/step - loss: 0.0130 - accuracy: 0.9910 - val_loss: 1.2737 - val_accuracy: 0.7469\n",
            "Epoch 24/60\n",
            "200/200 [==============================] - 5s 23ms/step - loss: 0.0113 - accuracy: 0.9909 - val_loss: 1.2261 - val_accuracy: 0.7644\n",
            "Epoch 25/60\n",
            "200/200 [==============================] - 5s 27ms/step - loss: 0.0104 - accuracy: 0.9921 - val_loss: 1.2484 - val_accuracy: 0.7656\n",
            "Epoch 26/60\n",
            "200/200 [==============================] - 6s 29ms/step - loss: 0.0097 - accuracy: 0.9916 - val_loss: 1.2232 - val_accuracy: 0.7625\n",
            "Epoch 27/60\n",
            "200/200 [==============================] - 6s 28ms/step - loss: 0.0084 - accuracy: 0.9948 - val_loss: 1.2437 - val_accuracy: 0.7656\n",
            "Epoch 28/60\n",
            "200/200 [==============================] - 5s 23ms/step - loss: 0.0097 - accuracy: 0.9930 - val_loss: 1.2530 - val_accuracy: 0.7625\n",
            "Epoch 29/60\n",
            "200/200 [==============================] - 5s 24ms/step - loss: 0.0079 - accuracy: 0.9945 - val_loss: 1.2635 - val_accuracy: 0.7450\n",
            "Epoch 30/60\n",
            "200/200 [==============================] - 5s 24ms/step - loss: 0.0080 - accuracy: 0.9945 - val_loss: 1.2619 - val_accuracy: 0.7569\n",
            "Epoch 31/60\n",
            "200/200 [==============================] - 5s 23ms/step - loss: 0.0078 - accuracy: 0.9946 - val_loss: 1.2651 - val_accuracy: 0.7588\n",
            "Epoch 32/60\n",
            "200/200 [==============================] - 5s 23ms/step - loss: 0.0082 - accuracy: 0.9941 - val_loss: 1.2717 - val_accuracy: 0.7625\n",
            "Epoch 33/60\n",
            "200/200 [==============================] - 5s 24ms/step - loss: 0.0083 - accuracy: 0.9948 - val_loss: 1.2645 - val_accuracy: 0.7569\n",
            "Epoch 34/60\n",
            "200/200 [==============================] - 5s 23ms/step - loss: 0.0068 - accuracy: 0.9955 - val_loss: 1.2641 - val_accuracy: 0.7663\n",
            "Epoch 35/60\n",
            "200/200 [==============================] - 5s 24ms/step - loss: 0.0063 - accuracy: 0.9971 - val_loss: 1.2717 - val_accuracy: 0.7588\n",
            "Epoch 36/60\n",
            "200/200 [==============================] - 5s 26ms/step - loss: 0.0064 - accuracy: 0.9948 - val_loss: 1.3066 - val_accuracy: 0.7650\n",
            "Epoch 37/60\n",
            "200/200 [==============================] - 5s 24ms/step - loss: 0.0063 - accuracy: 0.9970 - val_loss: 1.2742 - val_accuracy: 0.7625\n",
            "Epoch 38/60\n",
            "200/200 [==============================] - 5s 23ms/step - loss: 0.0058 - accuracy: 0.9965 - val_loss: 1.2808 - val_accuracy: 0.7650\n",
            "Epoch 39/60\n",
            "200/200 [==============================] - 5s 23ms/step - loss: 0.0071 - accuracy: 0.9954 - val_loss: 1.2957 - val_accuracy: 0.7550\n",
            "Epoch 40/60\n",
            "200/200 [==============================] - 5s 23ms/step - loss: 0.0060 - accuracy: 0.9963 - val_loss: 1.2723 - val_accuracy: 0.7563\n",
            "Epoch 41/60\n",
            "200/200 [==============================] - 5s 23ms/step - loss: 0.0054 - accuracy: 0.9964 - val_loss: 1.2830 - val_accuracy: 0.7575\n",
            "Epoch 42/60\n",
            "200/200 [==============================] - 5s 23ms/step - loss: 0.0052 - accuracy: 0.9973 - val_loss: 1.3137 - val_accuracy: 0.7494\n",
            "Epoch 43/60\n",
            "200/200 [==============================] - 5s 23ms/step - loss: 0.0065 - accuracy: 0.9948 - val_loss: 1.2990 - val_accuracy: 0.7644\n",
            "Epoch 44/60\n",
            "200/200 [==============================] - 5s 23ms/step - loss: 0.0045 - accuracy: 0.9981 - val_loss: 1.2998 - val_accuracy: 0.7531\n",
            "Epoch 45/60\n",
            "200/200 [==============================] - 5s 23ms/step - loss: 0.0047 - accuracy: 0.9971 - val_loss: 1.3169 - val_accuracy: 0.7631\n",
            "Epoch 46/60\n",
            "200/200 [==============================] - 5s 25ms/step - loss: 0.0048 - accuracy: 0.9977 - val_loss: 1.3056 - val_accuracy: 0.7625\n",
            "Epoch 47/60\n",
            "200/200 [==============================] - 5s 26ms/step - loss: 0.0037 - accuracy: 0.9987 - val_loss: 1.3236 - val_accuracy: 0.7644\n",
            "Epoch 48/60\n",
            "200/200 [==============================] - 5s 23ms/step - loss: 0.0047 - accuracy: 0.9981 - val_loss: 1.3229 - val_accuracy: 0.7581\n",
            "Epoch 49/60\n",
            "200/200 [==============================] - 5s 23ms/step - loss: 0.0050 - accuracy: 0.9973 - val_loss: 1.3292 - val_accuracy: 0.7525\n",
            "Epoch 50/60\n",
            "200/200 [==============================] - 5s 23ms/step - loss: 0.0083 - accuracy: 0.9946 - val_loss: 1.3342 - val_accuracy: 0.7431\n",
            "Epoch 51/60\n",
            "200/200 [==============================] - 5s 23ms/step - loss: 0.0055 - accuracy: 0.9970 - val_loss: 1.2934 - val_accuracy: 0.7506\n",
            "Epoch 52/60\n",
            "200/200 [==============================] - 5s 23ms/step - loss: 0.0045 - accuracy: 0.9980 - val_loss: 1.3227 - val_accuracy: 0.7588\n",
            "Epoch 53/60\n",
            "200/200 [==============================] - 5s 24ms/step - loss: 0.0042 - accuracy: 0.9986 - val_loss: 1.3146 - val_accuracy: 0.7625\n",
            "Epoch 54/60\n",
            "200/200 [==============================] - 5s 24ms/step - loss: 0.0033 - accuracy: 0.9987 - val_loss: 1.3035 - val_accuracy: 0.7575\n",
            "Epoch 55/60\n",
            "200/200 [==============================] - 5s 23ms/step - loss: 0.0047 - accuracy: 0.9962 - val_loss: 1.3710 - val_accuracy: 0.7644\n",
            "Epoch 56/60\n",
            "200/200 [==============================] - 5s 23ms/step - loss: 0.0042 - accuracy: 0.9981 - val_loss: 1.3168 - val_accuracy: 0.7638\n",
            "Epoch 57/60\n",
            "200/200 [==============================] - 5s 23ms/step - loss: 0.0034 - accuracy: 0.9987 - val_loss: 1.3341 - val_accuracy: 0.7631\n",
            "Epoch 58/60\n",
            "200/200 [==============================] - 5s 25ms/step - loss: 0.0040 - accuracy: 0.9987 - val_loss: 1.3148 - val_accuracy: 0.7575\n",
            "Epoch 59/60\n",
            "200/200 [==============================] - 5s 23ms/step - loss: 0.0029 - accuracy: 0.9991 - val_loss: 1.3108 - val_accuracy: 0.7581\n",
            "Epoch 60/60\n",
            "200/200 [==============================] - 5s 24ms/step - loss: 0.0037 - accuracy: 0.9977 - val_loss: 1.3560 - val_accuracy: 0.7625\n"
          ]
        }
      ]
    },
    {
      "cell_type": "markdown",
      "source": [
        "#### Model Performance - With Fine Tuning"
      ],
      "metadata": {
        "id": "hMGhgt5ogKkW"
      }
    },
    {
      "cell_type": "code",
      "source": [
        "plt.plot(history.history['accuracy'])\n",
        "plt.plot(history.history['val_accuracy'])\n",
        "plt.title('model accuracy')\n",
        "plt.ylabel('accuracy')\n",
        "plt.xlabel('epoch')\n",
        "plt.legend(['train', 'valid'], loc='lower right')\n",
        "plt.show()\n",
        "plt.plot(history.history['loss'])\n",
        "plt.plot(history.history['val_loss'])\n",
        "plt.title('model loss')\n",
        "plt.ylabel('loss')\n",
        "plt.xlabel('epoch')\n",
        "plt.legend(['train', 'valid'], loc='upper right')\n",
        "plt.show()"
      ],
      "metadata": {
        "colab": {
          "base_uri": "https://localhost:8080/",
          "height": 573
        },
        "outputId": "734e4123-6231-4216-aabb-3fa6bbf67d48",
        "id": "Lt5ZLOBqgKkW"
      },
      "execution_count": 129,
      "outputs": [
        {
          "output_type": "display_data",
          "data": {
            "text/plain": [
              "<Figure size 432x288 with 1 Axes>"
            ],
            "image/png": "[encoded data removed]"
          },
          "metadata": {
            "needs_background": "light"
          }
        },
        {
          "output_type": "display_data",
          "data": {
            "text/plain": [
              "<Figure size 432x288 with 1 Axes>"
            ],
            "image/png": "[encoded data removed]"
          },
          "metadata": {
            "needs_background": "light"
          }
        }
      ]
    },
    {
      "cell_type": "code",
      "source": [
        " model.evaluate(val_generator)"
      ],
      "metadata": {
        "colab": {
          "base_uri": "https://localhost:8080/"
        },
        "outputId": "4579cda6-0637-4edb-c295-002b75844d76",
        "id": "SdDS5L5KgKkX"
      },
      "execution_count": 130,
      "outputs": [
        {
          "output_type": "stream",
          "name": "stdout",
          "text": [
            "25/25 [==============================] - 0s 15ms/step - loss: 1.3560 - accuracy: 0.7625\n"
          ]
        },
        {
          "output_type": "execute_result",
          "data": {
            "text/plain": [
              "[1.3560256958007812, 0.762499988079071]"
            ]
          },
          "metadata": {},
          "execution_count": 130
        }
      ]
    },
    {
      "cell_type": "code",
      "source": [
        "x = list(train_generator.class_indices.keys())\n",
        "num_of_test_samples = 1600\n",
        "\n",
        "Y_pred = model.predict_generator(val_generator, num_of_test_samples // batch_size+1)\n",
        "y_pred = np.argmax(Y_pred, axis=1)\n",
        "print()\n",
        "print('Confusion Matrix')\n",
        "print(confusion_matrix(val_generator.classes, y_pred))\n",
        "\n",
        "print()\n",
        "print('Classification Report')\n",
        "target_names = x\n",
        "print(classification_report(val_generator.classes, y_pred, target_names = target_names))"
      ],
      "metadata": {
        "colab": {
          "base_uri": "https://localhost:8080/"
        },
        "outputId": "4726eb6a-d695-4091-de46-1f1561d6380e",
        "id": "ADiJ611cgKkX"
      },
      "execution_count": 131,
      "outputs": [
        {
          "output_type": "stream",
          "name": "stderr",
          "text": [
            "/usr/local/lib/python3.7/dist-packages/ipykernel_launcher.py:4: UserWarning: `Model.predict_generator` is deprecated and will be removed in a future version. Please use `Model.predict`, which supports generators.\n",
            "  after removing the cwd from sys.path.\n"
          ]
        },
        {
          "output_type": "stream",
          "name": "stdout",
          "text": [
            "WARNING:tensorflow:Your input ran out of data; interrupting training. Make sure that your dataset or generator can generate at least `steps_per_epoch * epochs` batches (in this case, 26 batches). You may need to use the repeat() function when building your dataset.\n",
            "\n",
            "Confusion Matrix\n",
            "[[ 12   9   9   8   1   1   3  73   2   5   2   7]\n",
            " [  4  12   3  10   0   0   3  61   3   3   0  14]\n",
            " [ 10   6   4   8   0   1   0  60   1   1   1   6]\n",
            " [ 15   9   9   9   0   3   3  58   1   3   1   6]\n",
            " [  2   3   1   0   0   0   1   6   1   1   1   1]\n",
            " [  2   1   1   1   0   0   0  13   1   0   0   1]\n",
            " [  5   0   3   3   0   0   0   7   0   0   0   0]\n",
            " [ 84  49  35  59   9   1   7 405  27  33  12  56]\n",
            " [  5   3   5   3   1   1   0  34   1   2   0   4]\n",
            " [  7   9   3  11   0   2   1  44   3   2   0  10]\n",
            " [  0   0   1   3   0   0   0   6   1   1   1   2]\n",
            " [ 12   6  10   9   0   0   0  78   2   8   2  15]]\n",
            "\n",
            "Classification Report\n",
            "                precision    recall  f1-score   support\n",
            "\n",
            "          Cell       0.08      0.09      0.08       132\n",
            "    Cell-Multi       0.11      0.11      0.11       113\n",
            "      Cracking       0.05      0.04      0.04        98\n",
            "         Diode       0.07      0.08      0.07       117\n",
            "   Diode-Multi       0.00      0.00      0.00        17\n",
            "      Hot-Spot       0.00      0.00      0.00        20\n",
            "Hot-Spot-Multi       0.00      0.00      0.00        18\n",
            "    No-Anomaly       0.48      0.52      0.50       777\n",
            "Offline-Module       0.02      0.02      0.02        59\n",
            "     Shadowing       0.03      0.02      0.03        92\n",
            "       Soiling       0.05      0.07      0.06        15\n",
            "    Vegetation       0.12      0.11      0.11       142\n",
            "\n",
            "      accuracy                           0.29      1600\n",
            "     macro avg       0.08      0.09      0.09      1600\n",
            "  weighted avg       0.27      0.29      0.28      1600\n",
            "\n"
          ]
        }
      ]
    },
    {
      "cell_type": "code",
      "source": [
        "cm = confusion_matrix(val_generator.classes, y_pred)\n",
        "fig, ax = plt.subplots()\n",
        "im = ax.imshow(cm, interpolation='nearest', cmap=plt.cm.Blues)\n",
        "title = 'Confusion matrix'\n",
        "ax.figure.colorbar(im, ax=ax)\n",
        "ax.set(xticks=np.arange(cm.shape[1]),\n",
        "    yticks=np.arange(cm.shape[0]),\n",
        "    xticklabels=target_names, yticklabels=target_names,\n",
        "    title=title,\n",
        "    ylabel='True label',\n",
        "    xlabel='Predicted label')\n",
        "plt.setp(ax.get_xticklabels(), rotation=45, ha=\"right\",\n",
        "             rotation_mode=\"anchor\")\n",
        "np.set_printoptions(precision=2)\n",
        "plt.show()"
      ],
      "metadata": {
        "colab": {
          "base_uri": "https://localhost:8080/",
          "height": 344
        },
        "outputId": "b5d0b88c-e082-4ef3-9666-d1baaa2fa1ce",
        "id": "qa8hhzGrgKkX"
      },
      "execution_count": 132,
      "outputs": [
        {
          "output_type": "display_data",
          "data": {
            "text/plain": [
              "<Figure size 432x288 with 2 Axes>"
            ],
            "image/png": "[encoded data removed]"
          },
          "metadata": {
            "needs_background": "light"
          }
        }
      ]
    },
    {
      "cell_type": "markdown",
      "source": [
        "## Transfer Learning - With Augmentation"
      ],
      "metadata": {
        "id": "DmubkRjeimql"
      }
    },
    {
      "cell_type": "markdown",
      "source": [
        "### Compute Model"
      ],
      "metadata": {
        "id": "mBwRs76tuEGs"
      }
    },
    {
      "cell_type": "code",
      "source": [
        "image_height = 40\n",
        "image_width = 32\n",
        "batch_size = 32\n",
        "\n",
        "train_datagen = ImageDataGenerator(\n",
        "        rescale=1./255,\n",
        "        shear_range=0.01,\n",
        "        zoom_range=0.005,\n",
        "        rotation_range=0.1,\n",
        "        horizontal_flip=False)\n",
        "\n",
        "validation_datagen = ImageDataGenerator(rescale=1./255)\n",
        "\n",
        "\n",
        "train_generator = datagen_train.flow_from_dataframe(\n",
        "    dataframe = train_df,\n",
        "    directory = \"/content/InfraredSolarModules/images/\",\n",
        "    x_col = \"image_name\",\n",
        "    y_col = \"anomaly_class\",\n",
        "    class_mode = \"categorical\",\n",
        "    target_size = (image_height, image_width),\n",
        "    batch_size = batch_size,\n",
        "    color_mode = \"rgb\"\n",
        ")\n",
        "\n",
        "validation_generator = datagen_train.flow_from_dataframe(\n",
        "    dataframe = validation_df,\n",
        "    directory = \"/content/InfraredSolarModules/images/\",\n",
        "    x_col = \"image_name\",\n",
        "    y_col = \"anomaly_class\",\n",
        "    class_mode = \"categorical\",\n",
        "    target_size = (image_height, image_width),\n",
        "    batch_size = batch_size,\n",
        "    color_mode = \"rgb\"\n",
        "     )"
      ],
      "metadata": {
        "colab": {
          "base_uri": "https://localhost:8080/"
        },
        "id": "g4Ayv3CWi-Ml",
        "outputId": "058ae891-36f6-45b3-c98a-f2d2d165b3dc"
      },
      "execution_count": 178,
      "outputs": [
        {
          "output_type": "stream",
          "name": "stdout",
          "text": [
            "Found 12800 validated image filenames belonging to 12 classes.\n",
            "Found 1600 validated image filenames belonging to 12 classes.\n"
          ]
        }
      ]
    },
    {
      "cell_type": "code",
      "source": [
        "pre_trained_model = VGG16(\n",
        "    input_shape=(image_width,image_height,3),\n",
        "    include_top=False,\n",
        "    weights=\"imagenet\"\n",
        ")\n",
        "\n",
        "for layer in pre_trained_model.layers:\n",
        "    layer.trainable=False"
      ],
      "metadata": {
        "id": "wvmzL95pitp3"
      },
      "execution_count": 179,
      "outputs": []
    },
    {
      "cell_type": "code",
      "source": [
        "model_aug = tf.keras.models.Sequential([\n",
        "    pre_trained_model,\n",
        "    \n",
        "    Flatten(),    \n",
        "    Dense(256,activation=\"relu\"),\n",
        "    BatchNormalization(),\n",
        "    Dropout(0.5),\n",
        "    Dense(12, activation='softmax')\n",
        "])"
      ],
      "metadata": {
        "id": "wVu69dZplg9c"
      },
      "execution_count": 180,
      "outputs": []
    },
    {
      "cell_type": "code",
      "source": [
        "model_aug.compile(loss = \"categorical_crossentropy\",\n",
        "    optimizer = keras.optimizers.Adam(learning_rate = 4e-4),\n",
        "    metrics = [\"accuracy\"])\n",
        "\n",
        "logdir = os.path.join(\"logs_feature_extraction_with_augmentation\", datetime.datetime.now().strftime(\"%Y%m%d-%H%M%S\"))\n",
        "\n",
        "callbacks = [\n",
        "    keras.callbacks.ModelCheckpoint(filepath=\"feature_extraction_with_augmentation.h5\", save_best_only=True, monitor=\"val_loss\"),\n",
        "    tf.keras.callbacks.TensorBoard(logdir, histogram_freq=1)\n",
        "]\n",
        "\n",
        "history = model_aug.fit(\n",
        "    train_generator,\n",
        "    epochs = 40,\n",
        "    validation_data = validation_generator,\n",
        "    class_weight = class_weights,\n",
        "    callbacks = callbacks)"
      ],
      "metadata": {
        "colab": {
          "base_uri": "https://localhost:8080/"
        },
        "id": "mQLXo7tmkttw",
        "outputId": "183ac535-5890-4a6b-e634-368ef38786cd"
      },
      "execution_count": 181,
      "outputs": [
        {
          "output_type": "stream",
          "name": "stdout",
          "text": [
            "Epoch 1/50\n",
            "400/400 [==============================] - 7s 15ms/step - loss: 1.7674 - accuracy: 0.5034 - val_loss: 1.4206 - val_accuracy: 0.5550\n",
            "Epoch 2/50\n",
            "400/400 [==============================] - 6s 14ms/step - loss: 1.3454 - accuracy: 0.5983 - val_loss: 1.1940 - val_accuracy: 0.6269\n",
            "Epoch 3/50\n",
            "400/400 [==============================] - 6s 16ms/step - loss: 1.2543 - accuracy: 0.6184 - val_loss: 1.2060 - val_accuracy: 0.6169\n",
            "Epoch 4/50\n",
            "400/400 [==============================] - 6s 15ms/step - loss: 1.2002 - accuracy: 0.6300 - val_loss: 1.1019 - val_accuracy: 0.6562\n",
            "Epoch 5/50\n",
            "400/400 [==============================] - 5s 13ms/step - loss: 1.1611 - accuracy: 0.6388 - val_loss: 1.1138 - val_accuracy: 0.6450\n",
            "Epoch 6/50\n",
            "400/400 [==============================] - 6s 14ms/step - loss: 1.1425 - accuracy: 0.6456 - val_loss: 1.0465 - val_accuracy: 0.6606\n",
            "Epoch 7/50\n",
            "400/400 [==============================] - 5s 13ms/step - loss: 1.1239 - accuracy: 0.6522 - val_loss: 1.0515 - val_accuracy: 0.6669\n",
            "Epoch 8/50\n",
            "400/400 [==============================] - 6s 14ms/step - loss: 1.1019 - accuracy: 0.6574 - val_loss: 1.0431 - val_accuracy: 0.6694\n",
            "Epoch 9/50\n",
            "400/400 [==============================] - 5s 13ms/step - loss: 1.0899 - accuracy: 0.6576 - val_loss: 1.0498 - val_accuracy: 0.6581\n",
            "Epoch 10/50\n",
            "400/400 [==============================] - 5s 13ms/step - loss: 1.0828 - accuracy: 0.6630 - val_loss: 1.0644 - val_accuracy: 0.6587\n",
            "Epoch 11/50\n",
            "400/400 [==============================] - 6s 14ms/step - loss: 1.0742 - accuracy: 0.6632 - val_loss: 1.1308 - val_accuracy: 0.6575\n",
            "Epoch 12/50\n",
            "400/400 [==============================] - 5s 14ms/step - loss: 1.0682 - accuracy: 0.6645 - val_loss: 1.0777 - val_accuracy: 0.6569\n",
            "Epoch 13/50\n",
            "400/400 [==============================] - 6s 14ms/step - loss: 1.0729 - accuracy: 0.6610 - val_loss: 1.0160 - val_accuracy: 0.6731\n",
            "Epoch 14/50\n",
            "400/400 [==============================] - 5s 14ms/step - loss: 1.0581 - accuracy: 0.6678 - val_loss: 1.0414 - val_accuracy: 0.6769\n",
            "Epoch 15/50\n",
            "400/400 [==============================] - 6s 14ms/step - loss: 1.0508 - accuracy: 0.6674 - val_loss: 1.0106 - val_accuracy: 0.6888\n",
            "Epoch 16/50\n",
            "400/400 [==============================] - 6s 14ms/step - loss: 1.0452 - accuracy: 0.6728 - val_loss: 1.0099 - val_accuracy: 0.6819\n",
            "Epoch 17/50\n",
            "400/400 [==============================] - 5s 14ms/step - loss: 1.0412 - accuracy: 0.6716 - val_loss: 1.0144 - val_accuracy: 0.6806\n",
            "Epoch 18/50\n",
            "400/400 [==============================] - 5s 13ms/step - loss: 1.0355 - accuracy: 0.6745 - val_loss: 1.0104 - val_accuracy: 0.6800\n",
            "Epoch 19/50\n",
            "400/400 [==============================] - 5s 13ms/step - loss: 1.0371 - accuracy: 0.6738 - val_loss: 1.1868 - val_accuracy: 0.6419\n",
            "Epoch 20/50\n",
            "400/400 [==============================] - 5s 13ms/step - loss: 1.0319 - accuracy: 0.6752 - val_loss: 1.0753 - val_accuracy: 0.6725\n",
            "Epoch 21/50\n",
            "400/400 [==============================] - 5s 14ms/step - loss: 1.0240 - accuracy: 0.6778 - val_loss: 1.0108 - val_accuracy: 0.6869\n",
            "Epoch 22/50\n",
            "400/400 [==============================] - 6s 14ms/step - loss: 1.0222 - accuracy: 0.6780 - val_loss: 1.0123 - val_accuracy: 0.6812\n",
            "Epoch 23/50\n",
            "400/400 [==============================] - 5s 13ms/step - loss: 1.0168 - accuracy: 0.6788 - val_loss: 1.0110 - val_accuracy: 0.6744\n",
            "Epoch 24/50\n",
            "400/400 [==============================] - 5s 13ms/step - loss: 1.0223 - accuracy: 0.6799 - val_loss: 1.0943 - val_accuracy: 0.6494\n",
            "Epoch 25/50\n",
            "400/400 [==============================] - 5s 13ms/step - loss: 1.0098 - accuracy: 0.6789 - val_loss: 1.0104 - val_accuracy: 0.6800\n",
            "Epoch 26/50\n",
            "400/400 [==============================] - 5s 13ms/step - loss: 1.0126 - accuracy: 0.6809 - val_loss: 1.0401 - val_accuracy: 0.6637\n",
            "Epoch 27/50\n",
            "400/400 [==============================] - 5s 13ms/step - loss: 1.0140 - accuracy: 0.6809 - val_loss: 1.0274 - val_accuracy: 0.6844\n",
            "Epoch 28/50\n",
            "400/400 [==============================] - 5s 14ms/step - loss: 1.0050 - accuracy: 0.6839 - val_loss: 1.0249 - val_accuracy: 0.6775\n",
            "Epoch 29/50\n",
            "400/400 [==============================] - 5s 13ms/step - loss: 1.0018 - accuracy: 0.6835 - val_loss: 1.0260 - val_accuracy: 0.6794\n",
            "Epoch 30/50\n",
            "400/400 [==============================] - 5s 13ms/step - loss: 1.0047 - accuracy: 0.6782 - val_loss: 1.0338 - val_accuracy: 0.6750\n",
            "Epoch 31/50\n",
            "400/400 [==============================] - 6s 14ms/step - loss: 1.0058 - accuracy: 0.6826 - val_loss: 1.0004 - val_accuracy: 0.6819\n",
            "Epoch 32/50\n",
            "400/400 [==============================] - 5s 14ms/step - loss: 1.0006 - accuracy: 0.6802 - val_loss: 1.0126 - val_accuracy: 0.6756\n",
            "Epoch 33/50\n",
            "400/400 [==============================] - 5s 13ms/step - loss: 0.9998 - accuracy: 0.6838 - val_loss: 1.0211 - val_accuracy: 0.6762\n",
            "Epoch 34/50\n",
            "400/400 [==============================] - 5s 13ms/step - loss: 1.0042 - accuracy: 0.6782 - val_loss: 1.0117 - val_accuracy: 0.6781\n",
            "Epoch 35/50\n",
            "400/400 [==============================] - 6s 14ms/step - loss: 0.9886 - accuracy: 0.6859 - val_loss: 1.0151 - val_accuracy: 0.6862\n",
            "Epoch 36/50\n",
            "400/400 [==============================] - 5s 13ms/step - loss: 0.9929 - accuracy: 0.6846 - val_loss: 1.0166 - val_accuracy: 0.6762\n",
            "Epoch 37/50\n",
            "400/400 [==============================] - 5s 14ms/step - loss: 0.9936 - accuracy: 0.6864 - val_loss: 1.0472 - val_accuracy: 0.6750\n",
            "Epoch 38/50\n",
            "400/400 [==============================] - 5s 13ms/step - loss: 0.9921 - accuracy: 0.6845 - val_loss: 1.0151 - val_accuracy: 0.6750\n",
            "Epoch 39/50\n",
            "400/400 [==============================] - 5s 13ms/step - loss: 0.9894 - accuracy: 0.6897 - val_loss: 1.0164 - val_accuracy: 0.6825\n",
            "Epoch 40/50\n",
            "400/400 [==============================] - 5s 13ms/step - loss: 0.9856 - accuracy: 0.6902 - val_loss: 1.0345 - val_accuracy: 0.6806\n",
            "Epoch 41/50\n",
            "400/400 [==============================] - 6s 14ms/step - loss: 0.9866 - accuracy: 0.6875 - val_loss: 1.0204 - val_accuracy: 0.6831\n",
            "Epoch 42/50\n",
            "400/400 [==============================] - 5s 13ms/step - loss: 0.9892 - accuracy: 0.6862 - val_loss: 1.0668 - val_accuracy: 0.6712\n",
            "Epoch 43/50\n",
            "400/400 [==============================] - 5s 13ms/step - loss: 0.9845 - accuracy: 0.6910 - val_loss: 1.0264 - val_accuracy: 0.6750\n",
            "Epoch 44/50\n",
            "400/400 [==============================] - 6s 14ms/step - loss: 0.9743 - accuracy: 0.6920 - val_loss: 0.9967 - val_accuracy: 0.6844\n",
            "Epoch 45/50\n",
            "400/400 [==============================] - 5s 13ms/step - loss: 0.9884 - accuracy: 0.6859 - val_loss: 1.0240 - val_accuracy: 0.6794\n",
            "Epoch 46/50\n",
            "400/400 [==============================] - 5s 13ms/step - loss: 0.9815 - accuracy: 0.6898 - val_loss: 1.0239 - val_accuracy: 0.6669\n",
            "Epoch 47/50\n",
            "400/400 [==============================] - 5s 14ms/step - loss: 0.9739 - accuracy: 0.6943 - val_loss: 1.1070 - val_accuracy: 0.6600\n",
            "Epoch 48/50\n",
            "400/400 [==============================] - 5s 13ms/step - loss: 0.9725 - accuracy: 0.6944 - val_loss: 1.0397 - val_accuracy: 0.6694\n",
            "Epoch 49/50\n",
            "400/400 [==============================] - 5s 14ms/step - loss: 0.9802 - accuracy: 0.6863 - val_loss: 1.0453 - val_accuracy: 0.6700\n",
            "Epoch 50/50\n",
            "400/400 [==============================] - 5s 14ms/step - loss: 0.9752 - accuracy: 0.6921 - val_loss: 1.0041 - val_accuracy: 0.6812\n"
          ]
        }
      ]
    },
    {
      "cell_type": "markdown",
      "source": [
        "### Model Performance - With Augmentation"
      ],
      "metadata": {
        "id": "r_s7BN3MtcGG"
      }
    },
    {
      "cell_type": "code",
      "source": [
        "plt.plot(history.history['accuracy'])\n",
        "plt.plot(history.history['val_accuracy'])\n",
        "plt.title('model accuracy')\n",
        "plt.ylabel('accuracy')\n",
        "plt.xlabel('epoch')\n",
        "plt.legend(['train', 'valid'], loc='lower right')\n",
        "plt.show()\n",
        "plt.plot(history.history['loss'])\n",
        "plt.plot(history.history['val_loss'])\n",
        "plt.title('model loss')\n",
        "plt.ylabel('loss')\n",
        "plt.xlabel('epoch')\n",
        "plt.legend(['train', 'valid'], loc='upper right')\n",
        "plt.show()"
      ],
      "metadata": {
        "colab": {
          "base_uri": "https://localhost:8080/",
          "height": 573
        },
        "outputId": "fb11a1eb-33cb-460d-95f7-0d2851733d75",
        "id": "c2TeN3witcGL"
      },
      "execution_count": 182,
      "outputs": [
        {
          "output_type": "display_data",
          "data": {
            "text/plain": [
              "<Figure size 432x288 with 1 Axes>"
            ],
            "image/png": "[encoded data removed]"
          },
          "metadata": {
            "needs_background": "light"
          }
        },
        {
          "output_type": "display_data",
          "data": {
            "text/plain": [
              "<Figure size 432x288 with 1 Axes>"
            ],
            "image/png": "[encoded data removed]"
          },
          "metadata": {
            "needs_background": "light"
          }
        }
      ]
    },
    {
      "cell_type": "code",
      "source": [
        " model_aug.evaluate(val_generator)"
      ],
      "metadata": {
        "colab": {
          "base_uri": "https://localhost:8080/"
        },
        "outputId": "a47facc6-b9d0-4ad4-f9b2-e1f949a58ea3",
        "id": "Cm7cC2KytcGL"
      },
      "execution_count": 183,
      "outputs": [
        {
          "output_type": "stream",
          "name": "stdout",
          "text": [
            "25/25 [==============================] - 0s 15ms/step - loss: 1.0041 - accuracy: 0.6812\n"
          ]
        },
        {
          "output_type": "execute_result",
          "data": {
            "text/plain": [
              "[1.0040621757507324, 0.6812499761581421]"
            ]
          },
          "metadata": {},
          "execution_count": 183
        }
      ]
    },
    {
      "cell_type": "code",
      "source": [
        "x = list(train_generator.class_indices.keys())\n",
        "num_of_test_samples = 1600\n",
        "\n",
        "Y_pred = model.predict_generator(val_generator, num_of_test_samples // batch_size+1)\n",
        "y_pred = np.argmax(Y_pred, axis=1)\n",
        "print()\n",
        "print('Confusion Matrix')\n",
        "print(confusion_matrix(val_generator.classes, y_pred))\n",
        "\n",
        "print()\n",
        "print('Classification Report')\n",
        "target_names = x\n",
        "print(classification_report(val_generator.classes, y_pred, target_names = target_names))"
      ],
      "metadata": {
        "colab": {
          "base_uri": "https://localhost:8080/"
        },
        "outputId": "df2cb25d-b1b9-481b-8a12-06bb199428a0",
        "id": "OVF0-ogxtcGL"
      },
      "execution_count": 184,
      "outputs": [
        {
          "output_type": "stream",
          "name": "stderr",
          "text": [
            "/usr/local/lib/python3.7/dist-packages/ipykernel_launcher.py:4: UserWarning: `Model.predict_generator` is deprecated and will be removed in a future version. Please use `Model.predict`, which supports generators.\n",
            "  after removing the cwd from sys.path.\n"
          ]
        },
        {
          "output_type": "stream",
          "name": "stdout",
          "text": [
            "WARNING:tensorflow:Your input ran out of data; interrupting training. Make sure that your dataset or generator can generate at least `steps_per_epoch * epochs` batches (in this case, 51 batches). You may need to use the repeat() function when building your dataset.\n",
            "\n",
            "Confusion Matrix\n",
            "[[  0  65   0  67   0   0   0   0   0   0   0   0]\n",
            " [  0  63   0  50   0   0   0   0   0   0   0   0]\n",
            " [  0  47   0  51   0   0   0   0   0   0   0   0]\n",
            " [  0  54   0  63   0   0   0   0   0   0   0   0]\n",
            " [  0   5   0  12   0   0   0   0   0   0   0   0]\n",
            " [  0  11   0   9   0   0   0   0   0   0   0   0]\n",
            " [  0   9   0   9   0   0   0   0   0   0   0   0]\n",
            " [  0 430   0 347   0   0   0   0   0   0   0   0]\n",
            " [  0  30   0  29   0   0   0   0   0   0   0   0]\n",
            " [  0  36   0  56   0   0   0   0   0   0   0   0]\n",
            " [  0   8   0   7   0   0   0   0   0   0   0   0]\n",
            " [  0  72   0  70   0   0   0   0   0   0   0   0]]\n",
            "\n",
            "Classification Report\n",
            "                precision    recall  f1-score   support\n",
            "\n",
            "          Cell       0.00      0.00      0.00       132\n",
            "    Cell-Multi       0.08      0.56      0.13       113\n",
            "      Cracking       0.00      0.00      0.00        98\n",
            "         Diode       0.08      0.54      0.14       117\n",
            "   Diode-Multi       0.00      0.00      0.00        17\n",
            "      Hot-Spot       0.00      0.00      0.00        20\n",
            "Hot-Spot-Multi       0.00      0.00      0.00        18\n",
            "    No-Anomaly       0.00      0.00      0.00       777\n",
            "Offline-Module       0.00      0.00      0.00        59\n",
            "     Shadowing       0.00      0.00      0.00        92\n",
            "       Soiling       0.00      0.00      0.00        15\n",
            "    Vegetation       0.00      0.00      0.00       142\n",
            "\n",
            "      accuracy                           0.08      1600\n",
            "     macro avg       0.01      0.09      0.02      1600\n",
            "  weighted avg       0.01      0.08      0.02      1600\n",
            "\n"
          ]
        },
        {
          "output_type": "stream",
          "name": "stderr",
          "text": [
            "/usr/local/lib/python3.7/dist-packages/sklearn/metrics/_classification.py:1318: UndefinedMetricWarning: Precision and F-score are ill-defined and being set to 0.0 in labels with no predicted samples. Use `zero_division` parameter to control this behavior.\n",
            "  _warn_prf(average, modifier, msg_start, len(result))\n",
            "/usr/local/lib/python3.7/dist-packages/sklearn/metrics/_classification.py:1318: UndefinedMetricWarning: Precision and F-score are ill-defined and being set to 0.0 in labels with no predicted samples. Use `zero_division` parameter to control this behavior.\n",
            "  _warn_prf(average, modifier, msg_start, len(result))\n",
            "/usr/local/lib/python3.7/dist-packages/sklearn/metrics/_classification.py:1318: UndefinedMetricWarning: Precision and F-score are ill-defined and being set to 0.0 in labels with no predicted samples. Use `zero_division` parameter to control this behavior.\n",
            "  _warn_prf(average, modifier, msg_start, len(result))\n"
          ]
        }
      ]
    },
    {
      "cell_type": "code",
      "source": [
        "cm = confusion_matrix(val_generator.classes, y_pred)\n",
        "fig, ax = plt.subplots()\n",
        "im = ax.imshow(cm, interpolation='nearest', cmap=plt.cm.Blues)\n",
        "title = 'Confusion matrix'\n",
        "ax.figure.colorbar(im, ax=ax)\n",
        "ax.set(xticks=np.arange(cm.shape[1]),\n",
        "    yticks=np.arange(cm.shape[0]),\n",
        "    xticklabels=target_names, yticklabels=target_names,\n",
        "    title=title,\n",
        "    ylabel='True label',\n",
        "    xlabel='Predicted label')\n",
        "plt.setp(ax.get_xticklabels(), rotation=45, ha=\"right\",\n",
        "             rotation_mode=\"anchor\")\n",
        "np.set_printoptions(precision=2)\n",
        "plt.show()"
      ],
      "metadata": {
        "colab": {
          "base_uri": "https://localhost:8080/",
          "height": 344
        },
        "outputId": "8903e512-1519-4cb9-8281-7b652be2837b",
        "id": "GtkEy3YgtcGL"
      },
      "execution_count": 185,
      "outputs": [
        {
          "output_type": "display_data",
          "data": {
            "text/plain": [
              "<Figure size 432x288 with 2 Axes>"
            ],
            "image/png": "[encoded data removed]"
          },
          "metadata": {
            "needs_background": "light"
          }
        }
      ]
    },
    {
      "cell_type": "code",
      "source": [
        ""
      ],
      "metadata": {
        "id": "KSOd4rmbulfY"
      },
      "execution_count": 185,
      "outputs": []
    },
    {
      "cell_type": "markdown",
      "source": [
        "### Addition: Fine Tuning"
      ],
      "metadata": {
        "id": "UZXCHR66umW9"
      }
    },
    {
      "cell_type": "code",
      "source": [
        "# Freeze all layers until the block_5_ layers\n",
        "pre_trained_model.trainable = True\n",
        "for layer in pre_trained_model.layers[:-4]:\n",
        "    layer.trainable = False\n",
        "    \n",
        "for layer in pre_trained_model.layers[0:]:\n",
        "    print('layer name = ' + layer.name + ', shape = ' + repr(layer.output_shape)\n",
        "            + ', trainable = ' + repr(layer.trainable))  "
      ],
      "metadata": {
        "colab": {
          "base_uri": "https://localhost:8080/"
        },
        "id": "p1dX1v1ZumXB",
        "outputId": "0040b96b-d3bb-459a-9053-5af0468bee81"
      },
      "execution_count": 186,
      "outputs": [
        {
          "output_type": "stream",
          "name": "stdout",
          "text": [
            "layer name = input_5, shape = [(None, 32, 40, 3)], trainable = False\n",
            "layer name = block1_conv1, shape = (None, 32, 40, 64), trainable = False\n",
            "layer name = block1_conv2, shape = (None, 32, 40, 64), trainable = False\n",
            "layer name = block1_pool, shape = (None, 16, 20, 64), trainable = False\n",
            "layer name = block2_conv1, shape = (None, 16, 20, 128), trainable = False\n",
            "layer name = block2_conv2, shape = (None, 16, 20, 128), trainable = False\n",
            "layer name = block2_pool, shape = (None, 8, 10, 128), trainable = False\n",
            "layer name = block3_conv1, shape = (None, 8, 10, 256), trainable = False\n",
            "layer name = block3_conv2, shape = (None, 8, 10, 256), trainable = False\n",
            "layer name = block3_conv3, shape = (None, 8, 10, 256), trainable = False\n",
            "layer name = block3_pool, shape = (None, 4, 5, 256), trainable = False\n",
            "layer name = block4_conv1, shape = (None, 4, 5, 512), trainable = False\n",
            "layer name = block4_conv2, shape = (None, 4, 5, 512), trainable = False\n",
            "layer name = block4_conv3, shape = (None, 4, 5, 512), trainable = False\n",
            "layer name = block4_pool, shape = (None, 2, 2, 512), trainable = False\n",
            "layer name = block5_conv1, shape = (None, 2, 2, 512), trainable = True\n",
            "layer name = block5_conv2, shape = (None, 2, 2, 512), trainable = True\n",
            "layer name = block5_conv3, shape = (None, 2, 2, 512), trainable = True\n",
            "layer name = block5_pool, shape = (None, 1, 1, 512), trainable = True\n"
          ]
        }
      ]
    },
    {
      "cell_type": "markdown",
      "source": [
        "#### Compute Fine Tuning"
      ],
      "metadata": {
        "id": "mRVrVD8PumXB"
      }
    },
    {
      "cell_type": "code",
      "source": [
        "model_aug.compile(loss=\"categorical_crossentropy\",\n",
        "    optimizer=keras.optimizers.Adam(learning_rate=1e-5),\n",
        "    metrics=[\"accuracy\"])"
      ],
      "metadata": {
        "id": "z4lOIu3numXB"
      },
      "execution_count": 187,
      "outputs": []
    },
    {
      "cell_type": "code",
      "source": [
        "logdir = os.path.join(\"logs_fine_tuning\", datetime.datetime.now().strftime(\"%Y%m%d-%H%M%S\"))\n",
        "\n",
        "\n",
        "callbacks = [\n",
        "    keras.callbacks.ModelCheckpoint(filepath=\"fine_tuning.keras\", save_best_only=True, monitor=\"val_loss\"),\n",
        "    tf.keras.callbacks.TensorBoard(logdir, histogram_freq=1)\n",
        "]\n",
        "\n",
        "history = model_aug.fit(\n",
        "train_generator,\n",
        "epochs=30,\n",
        "validation_data = val_generator,\n",
        "class_weight = class_weights,\n",
        "callbacks = callbacks\n",
        ")"
      ],
      "metadata": {
        "colab": {
          "base_uri": "https://localhost:8080/"
        },
        "id": "5CiqCSMtumXB",
        "outputId": "46c89a6e-b34f-4d8d-9d9c-55d3e2451719"
      },
      "execution_count": 188,
      "outputs": [
        {
          "output_type": "stream",
          "name": "stdout",
          "text": [
            "Epoch 1/30\n",
            "400/400 [==============================] - 8s 17ms/step - loss: 1.0040 - accuracy: 0.6862 - val_loss: 1.0069 - val_accuracy: 0.6913\n",
            "Epoch 2/30\n",
            "400/400 [==============================] - 7s 16ms/step - loss: 0.9189 - accuracy: 0.7089 - val_loss: 0.9581 - val_accuracy: 0.6956\n",
            "Epoch 3/30\n",
            "400/400 [==============================] - 7s 16ms/step - loss: 0.8615 - accuracy: 0.7241 - val_loss: 0.9490 - val_accuracy: 0.6981\n",
            "Epoch 4/30\n",
            "400/400 [==============================] - 7s 16ms/step - loss: 0.8353 - accuracy: 0.7314 - val_loss: 0.8944 - val_accuracy: 0.7125\n",
            "Epoch 5/30\n",
            "400/400 [==============================] - 6s 16ms/step - loss: 0.7942 - accuracy: 0.7419 - val_loss: 0.9881 - val_accuracy: 0.7031\n",
            "Epoch 6/30\n",
            "400/400 [==============================] - 7s 16ms/step - loss: 0.7649 - accuracy: 0.7520 - val_loss: 0.8563 - val_accuracy: 0.7181\n",
            "Epoch 7/30\n",
            "400/400 [==============================] - 6s 16ms/step - loss: 0.7343 - accuracy: 0.7648 - val_loss: 0.8745 - val_accuracy: 0.7194\n",
            "Epoch 8/30\n",
            "400/400 [==============================] - 7s 16ms/step - loss: 0.7060 - accuracy: 0.7743 - val_loss: 0.8363 - val_accuracy: 0.7375\n",
            "Epoch 9/30\n",
            "400/400 [==============================] - 6s 16ms/step - loss: 0.6883 - accuracy: 0.7765 - val_loss: 0.9065 - val_accuracy: 0.7131\n",
            "Epoch 10/30\n",
            "400/400 [==============================] - 7s 17ms/step - loss: 0.6601 - accuracy: 0.7886 - val_loss: 0.8346 - val_accuracy: 0.7331\n",
            "Epoch 11/30\n",
            "400/400 [==============================] - 7s 17ms/step - loss: 0.6440 - accuracy: 0.7926 - val_loss: 0.8345 - val_accuracy: 0.7400\n",
            "Epoch 12/30\n",
            "400/400 [==============================] - 7s 16ms/step - loss: 0.6202 - accuracy: 0.8018 - val_loss: 0.8257 - val_accuracy: 0.7456\n",
            "Epoch 13/30\n",
            "400/400 [==============================] - 6s 16ms/step - loss: 0.6065 - accuracy: 0.8048 - val_loss: 0.8420 - val_accuracy: 0.7369\n",
            "Epoch 14/30\n",
            "400/400 [==============================] - 6s 16ms/step - loss: 0.5813 - accuracy: 0.8184 - val_loss: 0.8590 - val_accuracy: 0.7462\n",
            "Epoch 15/30\n",
            "400/400 [==============================] - 6s 16ms/step - loss: 0.5651 - accuracy: 0.8234 - val_loss: 1.0683 - val_accuracy: 0.6719\n",
            "Epoch 16/30\n",
            "400/400 [==============================] - 6s 16ms/step - loss: 0.5453 - accuracy: 0.8280 - val_loss: 0.8834 - val_accuracy: 0.7269\n",
            "Epoch 17/30\n",
            "400/400 [==============================] - 6s 16ms/step - loss: 0.5286 - accuracy: 0.8329 - val_loss: 0.8359 - val_accuracy: 0.7462\n",
            "Epoch 18/30\n",
            "400/400 [==============================] - 7s 16ms/step - loss: 0.5192 - accuracy: 0.8343 - val_loss: 0.8214 - val_accuracy: 0.7563\n",
            "Epoch 19/30\n",
            "400/400 [==============================] - 7s 16ms/step - loss: 0.4942 - accuracy: 0.8443 - val_loss: 0.7781 - val_accuracy: 0.7513\n",
            "Epoch 20/30\n",
            "400/400 [==============================] - 6s 16ms/step - loss: 0.4773 - accuracy: 0.8518 - val_loss: 0.8004 - val_accuracy: 0.7544\n",
            "Epoch 21/30\n",
            "400/400 [==============================] - 6s 16ms/step - loss: 0.4675 - accuracy: 0.8539 - val_loss: 0.9122 - val_accuracy: 0.7113\n",
            "Epoch 22/30\n",
            "400/400 [==============================] - 6s 16ms/step - loss: 0.4515 - accuracy: 0.8591 - val_loss: 0.7951 - val_accuracy: 0.7569\n",
            "Epoch 23/30\n",
            "400/400 [==============================] - 6s 16ms/step - loss: 0.4354 - accuracy: 0.8652 - val_loss: 0.7925 - val_accuracy: 0.7606\n",
            "Epoch 24/30\n",
            "400/400 [==============================] - 6s 16ms/step - loss: 0.4258 - accuracy: 0.8694 - val_loss: 0.8008 - val_accuracy: 0.7531\n",
            "Epoch 25/30\n",
            "400/400 [==============================] - 6s 16ms/step - loss: 0.4092 - accuracy: 0.8753 - val_loss: 0.7867 - val_accuracy: 0.7644\n",
            "Epoch 26/30\n",
            "400/400 [==============================] - 6s 16ms/step - loss: 0.3991 - accuracy: 0.8798 - val_loss: 0.7931 - val_accuracy: 0.7538\n",
            "Epoch 27/30\n",
            "400/400 [==============================] - 6s 16ms/step - loss: 0.3807 - accuracy: 0.8864 - val_loss: 0.7994 - val_accuracy: 0.7550\n",
            "Epoch 28/30\n",
            "400/400 [==============================] - 6s 16ms/step - loss: 0.3698 - accuracy: 0.8891 - val_loss: 0.9380 - val_accuracy: 0.7300\n",
            "Epoch 29/30\n",
            "400/400 [==============================] - 6s 16ms/step - loss: 0.3573 - accuracy: 0.8974 - val_loss: 0.8701 - val_accuracy: 0.7513\n",
            "Epoch 30/30\n",
            "400/400 [==============================] - 6s 16ms/step - loss: 0.3547 - accuracy: 0.8950 - val_loss: 0.8143 - val_accuracy: 0.7538\n"
          ]
        }
      ]
    },
    {
      "cell_type": "markdown",
      "source": [
        "#### Model Performance - With Fine Tuning"
      ],
      "metadata": {
        "id": "1DD3CFUfumXC"
      }
    },
    {
      "cell_type": "code",
      "source": [
        "plt.plot(history.history['accuracy'])\n",
        "plt.plot(history.history['val_accuracy'])\n",
        "plt.title('model accuracy')\n",
        "plt.ylabel('accuracy')\n",
        "plt.xlabel('epoch')\n",
        "plt.legend(['train', 'valid'], loc='lower right')\n",
        "plt.show()\n",
        "plt.plot(history.history['loss'])\n",
        "plt.plot(history.history['val_loss'])\n",
        "plt.title('model loss')\n",
        "plt.ylabel('loss')\n",
        "plt.xlabel('epoch')\n",
        "plt.legend(['train', 'valid'], loc='upper right')\n",
        "plt.show()"
      ],
      "metadata": {
        "colab": {
          "base_uri": "https://localhost:8080/",
          "height": 573
        },
        "outputId": "a8ed39af-69b4-40be-e3ca-38267ab8955a",
        "id": "ePijMmEDumXC"
      },
      "execution_count": 189,
      "outputs": [
        {
          "output_type": "display_data",
          "data": {
            "text/plain": [
              "<Figure size 432x288 with 1 Axes>"
            ],
            "image/png": "[encoded data removed]"
          },
          "metadata": {
            "needs_background": "light"
          }
        },
        {
          "output_type": "display_data",
          "data": {
            "text/plain": [
              "<Figure size 432x288 with 1 Axes>"
            ],
            "image/png": "[encoded data removed]"
          },
          "metadata": {
            "needs_background": "light"
          }
        }
      ]
    },
    {
      "cell_type": "code",
      "source": [
        " model_aug.evaluate(val_generator)"
      ],
      "metadata": {
        "colab": {
          "base_uri": "https://localhost:8080/"
        },
        "outputId": "646fe2f1-5498-4283-d6b8-5ba7b36e543d",
        "id": "MKlSvTPdumXC"
      },
      "execution_count": 190,
      "outputs": [
        {
          "output_type": "stream",
          "name": "stdout",
          "text": [
            "25/25 [==============================] - 0s 15ms/step - loss: 0.8143 - accuracy: 0.7538\n"
          ]
        },
        {
          "output_type": "execute_result",
          "data": {
            "text/plain": [
              "[0.8142724633216858, 0.7537500262260437]"
            ]
          },
          "metadata": {},
          "execution_count": 190
        }
      ]
    },
    {
      "cell_type": "code",
      "source": [
        "x = list(train_generator.class_indices.keys())\n",
        "num_of_test_samples = 1600\n",
        "\n",
        "Y_pred = model.predict_generator(val_generator, num_of_test_samples // batch_size+1)\n",
        "y_pred = np.argmax(Y_pred, axis=1)\n",
        "print()\n",
        "print('Confusion Matrix')\n",
        "print(confusion_matrix(val_generator.classes, y_pred))\n",
        "\n",
        "print()\n",
        "print('Classification Report')\n",
        "target_names = x\n",
        "print(classification_report(val_generator.classes, y_pred, target_names = target_names))"
      ],
      "metadata": {
        "colab": {
          "base_uri": "https://localhost:8080/"
        },
        "outputId": "07f039e4-8441-4c59-e0d9-4f3cf550e055",
        "id": "4FPY3dDAumXC"
      },
      "execution_count": 191,
      "outputs": [
        {
          "output_type": "stream",
          "name": "stderr",
          "text": [
            "/usr/local/lib/python3.7/dist-packages/ipykernel_launcher.py:4: UserWarning: `Model.predict_generator` is deprecated and will be removed in a future version. Please use `Model.predict`, which supports generators.\n",
            "  after removing the cwd from sys.path.\n"
          ]
        },
        {
          "output_type": "stream",
          "name": "stdout",
          "text": [
            "WARNING:tensorflow:Your input ran out of data; interrupting training. Make sure that your dataset or generator can generate at least `steps_per_epoch * epochs` batches (in this case, 51 batches). You may need to use the repeat() function when building your dataset.\n",
            "\n",
            "Confusion Matrix\n",
            "[[  0  66   0  66   0   0   0   0   0   0   0   0]\n",
            " [  0  66   0  47   0   0   0   0   0   0   0   0]\n",
            " [  0  57   0  41   0   0   0   0   0   0   0   0]\n",
            " [  0  61   0  56   0   0   0   0   0   0   0   0]\n",
            " [  0  12   0   5   0   0   0   0   0   0   0   0]\n",
            " [  0  11   0   9   0   0   0   0   0   0   0   0]\n",
            " [  0   9   0   9   0   0   0   0   0   0   0   0]\n",
            " [  0 384   0 393   0   0   0   0   0   0   0   0]\n",
            " [  0  28   0  31   0   0   0   0   0   0   0   0]\n",
            " [  0  43   0  49   0   0   0   0   0   0   0   0]\n",
            " [  0   9   0   6   0   0   0   0   0   0   0   0]\n",
            " [  0  84   0  58   0   0   0   0   0   0   0   0]]\n",
            "\n",
            "Classification Report\n",
            "                precision    recall  f1-score   support\n",
            "\n",
            "          Cell       0.00      0.00      0.00       132\n",
            "    Cell-Multi       0.08      0.58      0.14       113\n",
            "      Cracking       0.00      0.00      0.00        98\n",
            "         Diode       0.07      0.48      0.13       117\n",
            "   Diode-Multi       0.00      0.00      0.00        17\n",
            "      Hot-Spot       0.00      0.00      0.00        20\n",
            "Hot-Spot-Multi       0.00      0.00      0.00        18\n",
            "    No-Anomaly       0.00      0.00      0.00       777\n",
            "Offline-Module       0.00      0.00      0.00        59\n",
            "     Shadowing       0.00      0.00      0.00        92\n",
            "       Soiling       0.00      0.00      0.00        15\n",
            "    Vegetation       0.00      0.00      0.00       142\n",
            "\n",
            "      accuracy                           0.08      1600\n",
            "     macro avg       0.01      0.09      0.02      1600\n",
            "  weighted avg       0.01      0.08      0.02      1600\n",
            "\n"
          ]
        },
        {
          "output_type": "stream",
          "name": "stderr",
          "text": [
            "/usr/local/lib/python3.7/dist-packages/sklearn/metrics/_classification.py:1318: UndefinedMetricWarning: Precision and F-score are ill-defined and being set to 0.0 in labels with no predicted samples. Use `zero_division` parameter to control this behavior.\n",
            "  _warn_prf(average, modifier, msg_start, len(result))\n",
            "/usr/local/lib/python3.7/dist-packages/sklearn/metrics/_classification.py:1318: UndefinedMetricWarning: Precision and F-score are ill-defined and being set to 0.0 in labels with no predicted samples. Use `zero_division` parameter to control this behavior.\n",
            "  _warn_prf(average, modifier, msg_start, len(result))\n",
            "/usr/local/lib/python3.7/dist-packages/sklearn/metrics/_classification.py:1318: UndefinedMetricWarning: Precision and F-score are ill-defined and being set to 0.0 in labels with no predicted samples. Use `zero_division` parameter to control this behavior.\n",
            "  _warn_prf(average, modifier, msg_start, len(result))\n"
          ]
        }
      ]
    },
    {
      "cell_type": "code",
      "source": [
        "cm = confusion_matrix(val_generator.classes, y_pred)\n",
        "fig, ax = plt.subplots()\n",
        "im = ax.imshow(cm, interpolation='nearest', cmap=plt.cm.Blues)\n",
        "title = 'Confusion matrix'\n",
        "ax.figure.colorbar(im, ax=ax)\n",
        "ax.set(xticks=np.arange(cm.shape[1]),\n",
        "    yticks=np.arange(cm.shape[0]),\n",
        "    xticklabels=target_names, yticklabels=target_names,\n",
        "    title=title,\n",
        "    ylabel='True label',\n",
        "    xlabel='Predicted label')\n",
        "plt.setp(ax.get_xticklabels(), rotation=45, ha=\"right\",\n",
        "             rotation_mode=\"anchor\")\n",
        "np.set_printoptions(precision=2)\n",
        "plt.show()"
      ],
      "metadata": {
        "colab": {
          "base_uri": "https://localhost:8080/",
          "height": 344
        },
        "outputId": "cd90b208-e3d3-4e0f-f949-7d7fde1d08fb",
        "id": "BXigCdOoumXC"
      },
      "execution_count": 192,
      "outputs": [
        {
          "output_type": "display_data",
          "data": {
            "text/plain": [
              "<Figure size 432x288 with 2 Axes>"
            ],
            "image/png": "[encoded data removed]"
          },
          "metadata": {
            "needs_background": "light"
          }
        }
      ]
    }
  ]
}