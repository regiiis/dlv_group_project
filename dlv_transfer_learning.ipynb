{
  "nbformat": 4,
  "nbformat_minor": 0,
  "metadata": {
    "colab": {
      "name": "dlv_1.ipynb",
      "provenance": [],
      "collapsed_sections": [],
      "machine_shape": "hm",
      "toc_visible": true,
      "authorship_tag": "ABX9TyPkZCloU3MNDM+zbTOr3ZDJ",
      "include_colab_link": true
    },
    "kernelspec": {
      "name": "python3",
      "display_name": "Python 3"
    },
    "language_info": {
      "name": "python"
    },
    "accelerator": "GPU",
    "gpuClass": "standard"
  },
  "cells": [
    {
      "cell_type": "markdown",
      "metadata": {
        "id": "view-in-github",
        "colab_type": "text"
      },
      "source": [
        "<a href=\"https://colab.research.google.com/github/regiiis/dlv_group_project/blob/main/dlv_transfer_learning.ipynb\" target=\"_parent\"><img src=\"https://colab.research.google.com/assets/colab-badge.svg\" alt=\"Open In Colab\"/></a>"
      ]
    },
    {
      "cell_type": "markdown",
      "source": [
        "# DLV Group Project"
      ],
      "metadata": {
        "id": "c0Pg8lH3Z2qt"
      }
    },
    {
      "cell_type": "markdown",
      "source": [
        "## Set up"
      ],
      "metadata": {
        "id": "M5NRUJhIhLJR"
      }
    },
    {
      "cell_type": "code",
      "source": [
        "gpu_info = !nvidia-smi\n",
        "gpu_info = '\\n'.join(gpu_info)\n",
        "if gpu_info.find('failed') >= 0:\n",
        "  print('Not connected to a GPU')\n",
        "else:\n",
        "  print(gpu_info)"
      ],
      "metadata": {
        "id": "trYV8QVVgo9M",
        "outputId": "b49b7940-e57b-42c4-f97e-c87b9dae59a3",
        "colab": {
          "base_uri": "https://localhost:8080/"
        }
      },
      "execution_count": 1,
      "outputs": [
        {
          "output_type": "stream",
          "name": "stdout",
          "text": [
            "Thu Jun 30 10:19:10 2022       \n",
            "+-----------------------------------------------------------------------------+\n",
            "| NVIDIA-SMI 460.32.03    Driver Version: 460.32.03    CUDA Version: 11.2     |\n",
            "|-------------------------------+----------------------+----------------------+\n",
            "| GPU  Name        Persistence-M| Bus-Id        Disp.A | Volatile Uncorr. ECC |\n",
            "| Fan  Temp  Perf  Pwr:Usage/Cap|         Memory-Usage | GPU-Util  Compute M. |\n",
            "|                               |                      |               MIG M. |\n",
            "|===============================+======================+======================|\n",
            "|   0  Tesla P100-PCIE...  Off  | 00000000:00:04.0 Off |                    0 |\n",
            "| N/A   34C    P0    26W / 250W |      0MiB / 16280MiB |      0%      Default |\n",
            "|                               |                      |                  N/A |\n",
            "+-------------------------------+----------------------+----------------------+\n",
            "                                                                               \n",
            "+-----------------------------------------------------------------------------+\n",
            "| Processes:                                                                  |\n",
            "|  GPU   GI   CI        PID   Type   Process name                  GPU Memory |\n",
            "|        ID   ID                                                   Usage      |\n",
            "|=============================================================================|\n",
            "|  No running processes found                                                 |\n",
            "+-----------------------------------------------------------------------------+\n"
          ]
        }
      ]
    },
    {
      "cell_type": "code",
      "source": [
        "%pylab inline\n",
        "import matplotlib.pyplot as plt\n",
        "import matplotlib.image as mpimg\n",
        "import numpy as np\n",
        "from numpy import asarray\n",
        "from numpy import savetxt\n",
        "import pandas as pd\n",
        "import os, datetime\n",
        "import math\n",
        "import sys\n",
        "from PIL import Image\n",
        "\n",
        "# General imports\n",
        "import tensorflow as tf\n",
        "tf.compat.v1.enable_eager_execution(\n",
        "    config=None, device_policy=None, execution_mode=None)\n",
        "\n",
        "# Shortcuts to keras if (however from tensorflow)\n",
        "from tensorflow import keras\n",
        "from tensorflow.keras.applications.vgg16 import VGG16\n",
        "from tensorflow.keras.preprocessing.image import ImageDataGenerator\n",
        "from tensorflow.keras.models import Sequential\n",
        "from tensorflow.keras.layers import Conv2D, MaxPooling2D\n",
        "from tensorflow.keras.layers import Activation, Dropout, Flatten, Dense, BatchNormalization\n",
        "from tensorflow.keras.callbacks import TensorBoard \n",
        "from tensorflow.keras import layers\n",
        "from tensorflow.keras.utils import to_categorical\n",
        "\n",
        "from IPython.display import Image\n",
        "\n",
        "from sklearn.metrics import confusion_matrix\n",
        "from sklearn.metrics import classification_report\n",
        "from sklearn.utils.class_weight import compute_class_weight\n"
      ],
      "metadata": {
        "id": "w1X3Kj1pgaTs",
        "colab": {
          "base_uri": "https://localhost:8080/"
        },
        "outputId": "76297484-ff89-4b51-e2ba-a3b5cb5d9264"
      },
      "execution_count": 2,
      "outputs": [
        {
          "output_type": "stream",
          "name": "stdout",
          "text": [
            "Populating the interactive namespace from numpy and matplotlib\n"
          ]
        }
      ]
    },
    {
      "cell_type": "code",
      "source": [
        "from google.colab import drive\n",
        "drive.mount('/content/drive')"
      ],
      "metadata": {
        "id": "WSMPorlhZ74t",
        "colab": {
          "base_uri": "https://localhost:8080/"
        },
        "outputId": "d414fb70-6fed-4d0b-87ad-71fa1ff9d7d5"
      },
      "execution_count": 3,
      "outputs": [
        {
          "output_type": "stream",
          "name": "stdout",
          "text": [
            "Mounted at /content/drive\n"
          ]
        }
      ]
    },
    {
      "cell_type": "code",
      "source": [
        "!unzip \"/content/drive/My Drive/Colab Notebooks/data/2020-02-14_InfraredSolarModules.zip\""
      ],
      "metadata": {
        "id": "dRDtIrj8B3pU"
      },
      "execution_count": null,
      "outputs": []
    },
    {
      "cell_type": "code",
      "source": [
        "df = pd.read_json(\"/content/InfraredSolarModules/module_metadata.json\",orient=\"index\")\n",
        "df['image_name'] = df['image_filepath'].str[7:]\n",
        "df"
      ],
      "metadata": {
        "id": "y6pI1HadgNe6",
        "outputId": "debad773-784d-4e8d-9dae-64dfb3fda1e1",
        "colab": {
          "base_uri": "https://localhost:8080/",
          "height": 424
        }
      },
      "execution_count": 5,
      "outputs": [
        {
          "output_type": "execute_result",
          "data": {
            "text/plain": [
              "         image_filepath anomaly_class image_name\n",
              "13357  images/13357.jpg    No-Anomaly  13357.jpg\n",
              "13356  images/13356.jpg    No-Anomaly  13356.jpg\n",
              "19719  images/19719.jpg    No-Anomaly  19719.jpg\n",
              "11542  images/11542.jpg    No-Anomaly  11542.jpg\n",
              "11543  images/11543.jpg    No-Anomaly  11543.jpg\n",
              "...                 ...           ...        ...\n",
              "8488    images/8488.jpg    Vegetation   8488.jpg\n",
              "8489    images/8489.jpg    Vegetation   8489.jpg\n",
              "7464    images/7464.jpg      Cracking   7464.jpg\n",
              "18065  images/18065.jpg    No-Anomaly  18065.jpg\n",
              "13354  images/13354.jpg    No-Anomaly  13354.jpg\n",
              "\n",
              "[20000 rows x 3 columns]"
            ],
            "text/html": [
              "\n",
              "  <div id=\"df-6cbd84e8-00af-45a5-a50c-51f4378ee48c\">\n",
              "    <div class=\"colab-df-container\">\n",
              "      <div>\n",
              "<style scoped>\n",
              "    .dataframe tbody tr th:only-of-type {\n",
              "        vertical-align: middle;\n",
              "    }\n",
              "\n",
              "    .dataframe tbody tr th {\n",
              "        vertical-align: top;\n",
              "    }\n",
              "\n",
              "    .dataframe thead th {\n",
              "        text-align: right;\n",
              "    }\n",
              "</style>\n",
              "<table border=\"1\" class=\"dataframe\">\n",
              "  <thead>\n",
              "    <tr style=\"text-align: right;\">\n",
              "      <th></th>\n",
              "      <th>image_filepath</th>\n",
              "      <th>anomaly_class</th>\n",
              "      <th>image_name</th>\n",
              "    </tr>\n",
              "  </thead>\n",
              "  <tbody>\n",
              "    <tr>\n",
              "      <th>13357</th>\n",
              "      <td>images/13357.jpg</td>\n",
              "      <td>No-Anomaly</td>\n",
              "      <td>13357.jpg</td>\n",
              "    </tr>\n",
              "    <tr>\n",
              "      <th>13356</th>\n",
              "      <td>images/13356.jpg</td>\n",
              "      <td>No-Anomaly</td>\n",
              "      <td>13356.jpg</td>\n",
              "    </tr>\n",
              "    <tr>\n",
              "      <th>19719</th>\n",
              "      <td>images/19719.jpg</td>\n",
              "      <td>No-Anomaly</td>\n",
              "      <td>19719.jpg</td>\n",
              "    </tr>\n",
              "    <tr>\n",
              "      <th>11542</th>\n",
              "      <td>images/11542.jpg</td>\n",
              "      <td>No-Anomaly</td>\n",
              "      <td>11542.jpg</td>\n",
              "    </tr>\n",
              "    <tr>\n",
              "      <th>11543</th>\n",
              "      <td>images/11543.jpg</td>\n",
              "      <td>No-Anomaly</td>\n",
              "      <td>11543.jpg</td>\n",
              "    </tr>\n",
              "    <tr>\n",
              "      <th>...</th>\n",
              "      <td>...</td>\n",
              "      <td>...</td>\n",
              "      <td>...</td>\n",
              "    </tr>\n",
              "    <tr>\n",
              "      <th>8488</th>\n",
              "      <td>images/8488.jpg</td>\n",
              "      <td>Vegetation</td>\n",
              "      <td>8488.jpg</td>\n",
              "    </tr>\n",
              "    <tr>\n",
              "      <th>8489</th>\n",
              "      <td>images/8489.jpg</td>\n",
              "      <td>Vegetation</td>\n",
              "      <td>8489.jpg</td>\n",
              "    </tr>\n",
              "    <tr>\n",
              "      <th>7464</th>\n",
              "      <td>images/7464.jpg</td>\n",
              "      <td>Cracking</td>\n",
              "      <td>7464.jpg</td>\n",
              "    </tr>\n",
              "    <tr>\n",
              "      <th>18065</th>\n",
              "      <td>images/18065.jpg</td>\n",
              "      <td>No-Anomaly</td>\n",
              "      <td>18065.jpg</td>\n",
              "    </tr>\n",
              "    <tr>\n",
              "      <th>13354</th>\n",
              "      <td>images/13354.jpg</td>\n",
              "      <td>No-Anomaly</td>\n",
              "      <td>13354.jpg</td>\n",
              "    </tr>\n",
              "  </tbody>\n",
              "</table>\n",
              "<p>20000 rows × 3 columns</p>\n",
              "</div>\n",
              "      <button class=\"colab-df-convert\" onclick=\"convertToInteractive('df-6cbd84e8-00af-45a5-a50c-51f4378ee48c')\"\n",
              "              title=\"Convert this dataframe to an interactive table.\"\n",
              "              style=\"display:none;\">\n",
              "        \n",
              "  <svg xmlns=\"http://www.w3.org/2000/svg\" height=\"24px\"viewBox=\"0 0 24 24\"\n",
              "       width=\"24px\">\n",
              "    <path d=\"M0 0h24v24H0V0z\" fill=\"none\"/>\n",
              "    <path d=\"M18.56 5.44l.94 2.06.94-2.06 2.06-.94-2.06-.94-.94-2.06-.94 2.06-2.06.94zm-11 1L8.5 8.5l.94-2.06 2.06-.94-2.06-.94L8.5 2.5l-.94 2.06-2.06.94zm10 10l.94 2.06.94-2.06 2.06-.94-2.06-.94-.94-2.06-.94 2.06-2.06.94z\"/><path d=\"M17.41 7.96l-1.37-1.37c-.4-.4-.92-.59-1.43-.59-.52 0-1.04.2-1.43.59L10.3 9.45l-7.72 7.72c-.78.78-.78 2.05 0 2.83L4 21.41c.39.39.9.59 1.41.59.51 0 1.02-.2 1.41-.59l7.78-7.78 2.81-2.81c.8-.78.8-2.07 0-2.86zM5.41 20L4 18.59l7.72-7.72 1.47 1.35L5.41 20z\"/>\n",
              "  </svg>\n",
              "      </button>\n",
              "      \n",
              "  <style>\n",
              "    .colab-df-container {\n",
              "      display:flex;\n",
              "      flex-wrap:wrap;\n",
              "      gap: 12px;\n",
              "    }\n",
              "\n",
              "    .colab-df-convert {\n",
              "      background-color: #E8F0FE;\n",
              "      border: none;\n",
              "      border-radius: 50%;\n",
              "      cursor: pointer;\n",
              "      display: none;\n",
              "      fill: #1967D2;\n",
              "      height: 32px;\n",
              "      padding: 0 0 0 0;\n",
              "      width: 32px;\n",
              "    }\n",
              "\n",
              "    .colab-df-convert:hover {\n",
              "      background-color: #E2EBFA;\n",
              "      box-shadow: 0px 1px 2px rgba(60, 64, 67, 0.3), 0px 1px 3px 1px rgba(60, 64, 67, 0.15);\n",
              "      fill: #174EA6;\n",
              "    }\n",
              "\n",
              "    [theme=dark] .colab-df-convert {\n",
              "      background-color: #3B4455;\n",
              "      fill: #D2E3FC;\n",
              "    }\n",
              "\n",
              "    [theme=dark] .colab-df-convert:hover {\n",
              "      background-color: #434B5C;\n",
              "      box-shadow: 0px 1px 3px 1px rgba(0, 0, 0, 0.15);\n",
              "      filter: drop-shadow(0px 1px 2px rgba(0, 0, 0, 0.3));\n",
              "      fill: #FFFFFF;\n",
              "    }\n",
              "  </style>\n",
              "\n",
              "      <script>\n",
              "        const buttonEl =\n",
              "          document.querySelector('#df-6cbd84e8-00af-45a5-a50c-51f4378ee48c button.colab-df-convert');\n",
              "        buttonEl.style.display =\n",
              "          google.colab.kernel.accessAllowed ? 'block' : 'none';\n",
              "\n",
              "        async function convertToInteractive(key) {\n",
              "          const element = document.querySelector('#df-6cbd84e8-00af-45a5-a50c-51f4378ee48c');\n",
              "          const dataTable =\n",
              "            await google.colab.kernel.invokeFunction('convertToInteractive',\n",
              "                                                     [key], {});\n",
              "          if (!dataTable) return;\n",
              "\n",
              "          const docLinkHtml = 'Like what you see? Visit the ' +\n",
              "            '<a target=\"_blank\" href=https://colab.research.google.com/notebooks/data_table.ipynb>data table notebook</a>'\n",
              "            + ' to learn more about interactive tables.';\n",
              "          element.innerHTML = '';\n",
              "          dataTable['output_type'] = 'display_data';\n",
              "          await google.colab.output.renderOutput(dataTable, element);\n",
              "          const docLink = document.createElement('div');\n",
              "          docLink.innerHTML = docLinkHtml;\n",
              "          element.appendChild(docLink);\n",
              "        }\n",
              "      </script>\n",
              "    </div>\n",
              "  </div>\n",
              "  "
            ]
          },
          "metadata": {},
          "execution_count": 5
        }
      ]
    },
    {
      "cell_type": "code",
      "source": [
        "reduced_df = df.sample(frac=0.8,random_state=200)       # random state is a seed value\n",
        "train_df = reduced_df.sample(frac=0.8,random_state=200) # random state is a seed value\n",
        "validation_test_df = reduced_df.drop(train_df.index)\n",
        "validation_df = validation_test_df.sample(frac=0.5,random_state=200)\n",
        "test_df = validation_test_df.drop(validation_df.index)\n",
        "\n",
        "print(train_df.info())\n",
        "print()\n",
        "print(validation_df.info())\n",
        "print()\n",
        "test_df.info()\n",
        "\n",
        "test_df.anomaly_class"
      ],
      "metadata": {
        "id": "7arGPB-M7ATH",
        "outputId": "bf5de262-d974-479b-f97a-f320e281bb72",
        "colab": {
          "base_uri": "https://localhost:8080/"
        }
      },
      "execution_count": 6,
      "outputs": [
        {
          "output_type": "stream",
          "name": "stdout",
          "text": [
            "<class 'pandas.core.frame.DataFrame'>\n",
            "Int64Index: 12800 entries, 19208 to 2880\n",
            "Data columns (total 3 columns):\n",
            " #   Column          Non-Null Count  Dtype \n",
            "---  ------          --------------  ----- \n",
            " 0   image_filepath  12800 non-null  object\n",
            " 1   anomaly_class   12800 non-null  object\n",
            " 2   image_name      12800 non-null  object\n",
            "dtypes: object(3)\n",
            "memory usage: 400.0+ KB\n",
            "None\n",
            "\n",
            "<class 'pandas.core.frame.DataFrame'>\n",
            "Int64Index: 1600 entries, 12389 to 2391\n",
            "Data columns (total 3 columns):\n",
            " #   Column          Non-Null Count  Dtype \n",
            "---  ------          --------------  ----- \n",
            " 0   image_filepath  1600 non-null   object\n",
            " 1   anomaly_class   1600 non-null   object\n",
            " 2   image_name      1600 non-null   object\n",
            "dtypes: object(3)\n",
            "memory usage: 50.0+ KB\n",
            "None\n",
            "\n",
            "<class 'pandas.core.frame.DataFrame'>\n",
            "Int64Index: 1600 entries, 2358 to 14124\n",
            "Data columns (total 3 columns):\n",
            " #   Column          Non-Null Count  Dtype \n",
            "---  ------          --------------  ----- \n",
            " 0   image_filepath  1600 non-null   object\n",
            " 1   anomaly_class   1600 non-null   object\n",
            " 2   image_name      1600 non-null   object\n",
            "dtypes: object(3)\n",
            "memory usage: 50.0+ KB\n"
          ]
        },
        {
          "output_type": "execute_result",
          "data": {
            "text/plain": [
              "2358          Diode\n",
              "9560     Vegetation\n",
              "17012    No-Anomaly\n",
              "6147           Cell\n",
              "11880    No-Anomaly\n",
              "            ...    \n",
              "1520          Diode\n",
              "1330          Diode\n",
              "4781     Cell-Multi\n",
              "14401    No-Anomaly\n",
              "14124    No-Anomaly\n",
              "Name: anomaly_class, Length: 1600, dtype: object"
            ]
          },
          "metadata": {},
          "execution_count": 6
        }
      ]
    },
    {
      "cell_type": "code",
      "source": [
        "img1 = mpimg.imread('/content/InfraredSolarModules/images/13356.jpg') #No-Anomaly\n",
        "img12 = mpimg.imread('/content/InfraredSolarModules/images/11880.jpg') #No-Anomaly\n",
        "img13 = mpimg.imread('/content/InfraredSolarModules/images/13356.jpg') #No-Anomaly\n",
        "img2 = mpimg.imread('/content/InfraredSolarModules/images/8488.jpg')  #Vegetation\n",
        "img3 = mpimg.imread('/content/InfraredSolarModules/images/8489.jpg')  #Vegetation\n",
        "img4 = mpimg.imread('/content/InfraredSolarModules/images/7464.jpg')  #Cracking\n",
        "\n",
        "f, axarr = plt.subplots(2,3)\n",
        "axarr[0,0].imshow(img1)\n",
        "axarr[0,1].imshow(img12)\n",
        "axarr[0,2].imshow(img13)\n",
        "axarr[1,0].imshow(img2)\n",
        "axarr[1,1].imshow(img3)\n",
        "axarr[1,2].imshow(img4)"
      ],
      "metadata": {
        "id": "XB3Q6FkRgoaa",
        "colab": {
          "base_uri": "https://localhost:8080/",
          "height": 285
        },
        "outputId": "1dbecc4d-06c0-4c6c-8e9c-7b89885c548e"
      },
      "execution_count": 7,
      "outputs": [
        {
          "output_type": "execute_result",
          "data": {
            "text/plain": [
              "<matplotlib.image.AxesImage at 0x7f2c11023990>"
            ]
          },
          "metadata": {},
          "execution_count": 7
        },
        {
          "output_type": "display_data",
          "data": {
            "text/plain": [
              "<Figure size 432x288 with 6 Axes>"
            ],
            "image/png": "[encoded data removed]"
          },
          "metadata": {
            "needs_background": "light"
          }
        }
      ]
    },
    {
      "cell_type": "markdown",
      "source": [
        "## **Feature Extraction** - Load Base Model"
      ],
      "metadata": {
        "id": "mRmn93ZxuUBB"
      }
    },
    {
      "cell_type": "code",
      "source": [
        "image_height = 40\n",
        "image_width = 32\n",
        "batch_size = 64\n",
        "\n",
        "datagen_train = ImageDataGenerator(rescale=1./255)\n",
        "datagen_validation = ImageDataGenerator(rescale=1./255)\n",
        "\n",
        "train_generator = datagen_train.flow_from_dataframe(\n",
        "    dataframe = train_df,\n",
        "    directory = \"/content/InfraredSolarModules/images/\",\n",
        "    x_col = \"image_name\",\n",
        "    y_col = \"anomaly_class\",\n",
        "    class_mode = \"categorical\",\n",
        "    target_size = (image_height, image_width),\n",
        "    batch_size = batch_size,\n",
        "    color_mode = \"rgb\"\n",
        ")\n",
        "\n",
        "val_generator = datagen_train.flow_from_dataframe(\n",
        "    dataframe = validation_df,\n",
        "    directory = \"/content/InfraredSolarModules/images/\",\n",
        "    x_col = \"image_name\",\n",
        "    y_col = \"anomaly_class\",\n",
        "    class_mode = \"categorical\",\n",
        "    target_size = (image_height, image_width),\n",
        "    batch_size = batch_size,\n",
        "    color_mode = \"rgb\"\n",
        "     )"
      ],
      "metadata": {
        "colab": {
          "base_uri": "https://localhost:8080/"
        },
        "id": "ww6VVlV1ufms",
        "outputId": "3a760e85-5767-4e37-8e9f-4670cc1c3176"
      },
      "execution_count": 8,
      "outputs": [
        {
          "output_type": "stream",
          "name": "stdout",
          "text": [
            "Found 12800 validated image filenames belonging to 12 classes.\n",
            "Found 1600 validated image filenames belonging to 12 classes.\n"
          ]
        }
      ]
    },
    {
      "cell_type": "code",
      "source": [
        "base_model = VGG16(\n",
        "    input_shape=(image_width,image_height,3),\n",
        "    include_top=False,\n",
        "    weights=\"imagenet\"\n",
        ")\n",
        "\n",
        "for layer in base_model.layers:\n",
        "    layer.trainable=False\n",
        "    \n",
        "base_model.summary()"
      ],
      "metadata": {
        "colab": {
          "base_uri": "https://localhost:8080/"
        },
        "id": "aVKtUe8XvQPd",
        "outputId": "ea465d7d-9ead-45c5-d29c-93b96f31b434"
      },
      "execution_count": 29,
      "outputs": [
        {
          "output_type": "stream",
          "name": "stdout",
          "text": [
            "Model: \"vgg16\"\n",
            "_________________________________________________________________\n",
            " Layer (type)                Output Shape              Param #   \n",
            "=================================================================\n",
            " input_5 (InputLayer)        [(None, 32, 40, 3)]       0         \n",
            "                                                                 \n",
            " block1_conv1 (Conv2D)       (None, 32, 40, 64)        1792      \n",
            "                                                                 \n",
            " block1_conv2 (Conv2D)       (None, 32, 40, 64)        36928     \n",
            "                                                                 \n",
            " block1_pool (MaxPooling2D)  (None, 16, 20, 64)        0         \n",
            "                                                                 \n",
            " block2_conv1 (Conv2D)       (None, 16, 20, 128)       73856     \n",
            "                                                                 \n",
            " block2_conv2 (Conv2D)       (None, 16, 20, 128)       147584    \n",
            "                                                                 \n",
            " block2_pool (MaxPooling2D)  (None, 8, 10, 128)        0         \n",
            "                                                                 \n",
            " block3_conv1 (Conv2D)       (None, 8, 10, 256)        295168    \n",
            "                                                                 \n",
            " block3_conv2 (Conv2D)       (None, 8, 10, 256)        590080    \n",
            "                                                                 \n",
            " block3_conv3 (Conv2D)       (None, 8, 10, 256)        590080    \n",
            "                                                                 \n",
            " block3_pool (MaxPooling2D)  (None, 4, 5, 256)         0         \n",
            "                                                                 \n",
            " block4_conv1 (Conv2D)       (None, 4, 5, 512)         1180160   \n",
            "                                                                 \n",
            " block4_conv2 (Conv2D)       (None, 4, 5, 512)         2359808   \n",
            "                                                                 \n",
            " block4_conv3 (Conv2D)       (None, 4, 5, 512)         2359808   \n",
            "                                                                 \n",
            " block4_pool (MaxPooling2D)  (None, 2, 2, 512)         0         \n",
            "                                                                 \n",
            " block5_conv1 (Conv2D)       (None, 2, 2, 512)         2359808   \n",
            "                                                                 \n",
            " block5_conv2 (Conv2D)       (None, 2, 2, 512)         2359808   \n",
            "                                                                 \n",
            " block5_conv3 (Conv2D)       (None, 2, 2, 512)         2359808   \n",
            "                                                                 \n",
            " block5_pool (MaxPooling2D)  (None, 1, 1, 512)         0         \n",
            "                                                                 \n",
            "=================================================================\n",
            "Total params: 14,714,688\n",
            "Trainable params: 0\n",
            "Non-trainable params: 14,714,688\n",
            "_________________________________________________________________\n"
          ]
        }
      ]
    },
    {
      "cell_type": "markdown",
      "source": [
        "## Model_1 - Without Data Augmentation"
      ],
      "metadata": {
        "id": "QPVeW8Wpytzk"
      }
    },
    {
      "cell_type": "code",
      "source": [
        "base_model_1 = base_model\n",
        "\n",
        "model_1 = tf.keras.models.Sequential([\n",
        "    base_mode_1,\n",
        "    \n",
        "    Flatten(),    \n",
        "    Dense(256,activation=\"relu\"),\n",
        "    BatchNormalization(),\n",
        "    Dropout(0.5),\n",
        "    Dense(12, activation='softmax')\n",
        "])\n",
        "\n",
        "model_1.summary()"
      ],
      "metadata": {
        "colab": {
          "base_uri": "https://localhost:8080/"
        },
        "id": "61oBaVzPv6NA",
        "outputId": "fcd76b23-7722-465d-99c0-29c9ebf9a50a"
      },
      "execution_count": 10,
      "outputs": [
        {
          "output_type": "stream",
          "name": "stdout",
          "text": [
            "Model: \"sequential\"\n",
            "_________________________________________________________________\n",
            " Layer (type)                Output Shape              Param #   \n",
            "=================================================================\n",
            " vgg16 (Functional)          (None, 1, 1, 512)         14714688  \n",
            "                                                                 \n",
            " flatten (Flatten)           (None, 512)               0         \n",
            "                                                                 \n",
            " dense (Dense)               (None, 256)               131328    \n",
            "                                                                 \n",
            " batch_normalization (BatchN  (None, 256)              1024      \n",
            " ormalization)                                                   \n",
            "                                                                 \n",
            " dropout (Dropout)           (None, 256)               0         \n",
            "                                                                 \n",
            " dense_1 (Dense)             (None, 12)                3084      \n",
            "                                                                 \n",
            "=================================================================\n",
            "Total params: 14,850,124\n",
            "Trainable params: 134,924\n",
            "Non-trainable params: 14,715,200\n",
            "_________________________________________________________________\n"
          ]
        }
      ]
    },
    {
      "cell_type": "markdown",
      "source": [
        "#### Compute Model"
      ],
      "metadata": {
        "id": "lLHGur-TFgJ6"
      }
    },
    {
      "cell_type": "code",
      "source": [
        "model_1.compile(loss=\"categorical_crossentropy\",\n",
        "    optimizer=\"adam\",\n",
        "    metrics=[\"accuracy\"])\n",
        "\n",
        "\n",
        "logdir = os.path.join(\"logs_feature_extraction\", datetime.datetime.now().strftime(\"%Y%m%d-%H%M%S\"))\n",
        "\n",
        "\n",
        "callbacks = [\n",
        "    keras.callbacks.ModelCheckpoint(filepath=\"feature_extraction.h5\", save_best_only=True, monitor=\"val_loss\"),\n",
        "    tf.keras.callbacks.TensorBoard(logdir, histogram_freq=1)\n",
        "]\n",
        "\n",
        "history = model_1.fit(\n",
        "train_generator,\n",
        "epochs=30,\n",
        "validation_data=(val_generator),\n",
        "callbacks=callbacks\n",
        ")"
      ],
      "metadata": {
        "colab": {
          "base_uri": "https://localhost:8080/"
        },
        "id": "0JVHXLsjxBAS",
        "outputId": "2ba97a8d-7d09-443c-b188-f85caaf6a3f7"
      },
      "execution_count": 11,
      "outputs": [
        {
          "output_type": "stream",
          "name": "stdout",
          "text": [
            "Epoch 1/30\n",
            "200/200 [==============================] - 17s 27ms/step - loss: 1.6199 - accuracy: 0.5383 - val_loss: 1.5362 - val_accuracy: 0.5069\n",
            "Epoch 2/30\n",
            "200/200 [==============================] - 6s 29ms/step - loss: 1.2777 - accuracy: 0.6177 - val_loss: 1.2619 - val_accuracy: 0.5969\n",
            "Epoch 3/30\n",
            "200/200 [==============================] - 5s 27ms/step - loss: 1.1993 - accuracy: 0.6303 - val_loss: 1.1931 - val_accuracy: 0.6250\n",
            "Epoch 4/30\n",
            "200/200 [==============================] - 5s 27ms/step - loss: 1.1544 - accuracy: 0.6484 - val_loss: 1.1063 - val_accuracy: 0.6544\n",
            "Epoch 5/30\n",
            "200/200 [==============================] - 5s 27ms/step - loss: 1.1245 - accuracy: 0.6488 - val_loss: 1.0871 - val_accuracy: 0.6656\n",
            "Epoch 6/30\n",
            "200/200 [==============================] - 5s 26ms/step - loss: 1.1046 - accuracy: 0.6519 - val_loss: 1.1503 - val_accuracy: 0.6388\n",
            "Epoch 7/30\n",
            "200/200 [==============================] - 5s 26ms/step - loss: 1.0932 - accuracy: 0.6576 - val_loss: 1.1841 - val_accuracy: 0.6419\n",
            "Epoch 8/30\n",
            "200/200 [==============================] - 5s 27ms/step - loss: 1.0830 - accuracy: 0.6616 - val_loss: 1.0458 - val_accuracy: 0.6687\n",
            "Epoch 9/30\n",
            "200/200 [==============================] - 5s 27ms/step - loss: 1.0710 - accuracy: 0.6655 - val_loss: 1.0375 - val_accuracy: 0.6706\n",
            "Epoch 10/30\n",
            "200/200 [==============================] - 5s 26ms/step - loss: 1.0677 - accuracy: 0.6632 - val_loss: 1.2684 - val_accuracy: 0.6219\n",
            "Epoch 11/30\n",
            "200/200 [==============================] - 6s 31ms/step - loss: 1.0585 - accuracy: 0.6681 - val_loss: 1.1067 - val_accuracy: 0.6587\n",
            "Epoch 12/30\n",
            "200/200 [==============================] - 6s 32ms/step - loss: 1.0524 - accuracy: 0.6689 - val_loss: 1.1171 - val_accuracy: 0.6562\n",
            "Epoch 13/30\n",
            "200/200 [==============================] - 5s 26ms/step - loss: 1.0552 - accuracy: 0.6662 - val_loss: 1.1791 - val_accuracy: 0.6306\n",
            "Epoch 14/30\n",
            "200/200 [==============================] - 6s 28ms/step - loss: 1.0467 - accuracy: 0.6731 - val_loss: 1.1698 - val_accuracy: 0.6463\n",
            "Epoch 15/30\n",
            "200/200 [==============================] - 6s 31ms/step - loss: 1.0321 - accuracy: 0.6745 - val_loss: 1.0681 - val_accuracy: 0.6687\n",
            "Epoch 16/30\n",
            "200/200 [==============================] - 7s 35ms/step - loss: 1.0319 - accuracy: 0.6755 - val_loss: 1.0638 - val_accuracy: 0.6756\n",
            "Epoch 17/30\n",
            "200/200 [==============================] - 6s 28ms/step - loss: 1.0276 - accuracy: 0.6777 - val_loss: 1.0935 - val_accuracy: 0.6575\n",
            "Epoch 18/30\n",
            "200/200 [==============================] - 6s 28ms/step - loss: 1.0322 - accuracy: 0.6765 - val_loss: 1.0394 - val_accuracy: 0.6800\n",
            "Epoch 19/30\n",
            "200/200 [==============================] - 5s 27ms/step - loss: 1.0202 - accuracy: 0.6771 - val_loss: 1.0198 - val_accuracy: 0.6744\n",
            "Epoch 20/30\n",
            "200/200 [==============================] - 6s 28ms/step - loss: 1.0201 - accuracy: 0.6770 - val_loss: 1.0032 - val_accuracy: 0.6819\n",
            "Epoch 21/30\n",
            "200/200 [==============================] - 6s 28ms/step - loss: 1.0209 - accuracy: 0.6785 - val_loss: 1.1142 - val_accuracy: 0.6494\n",
            "Epoch 22/30\n",
            "200/200 [==============================] - 6s 28ms/step - loss: 1.0094 - accuracy: 0.6777 - val_loss: 1.0643 - val_accuracy: 0.6637\n",
            "Epoch 23/30\n",
            "200/200 [==============================] - 5s 26ms/step - loss: 1.0128 - accuracy: 0.6788 - val_loss: 1.0617 - val_accuracy: 0.6700\n",
            "Epoch 24/30\n",
            "200/200 [==============================] - 6s 30ms/step - loss: 1.0137 - accuracy: 0.6787 - val_loss: 1.0932 - val_accuracy: 0.6625\n",
            "Epoch 25/30\n",
            "200/200 [==============================] - 5s 26ms/step - loss: 1.0089 - accuracy: 0.6815 - val_loss: 1.0576 - val_accuracy: 0.6700\n",
            "Epoch 26/30\n",
            "200/200 [==============================] - 5s 26ms/step - loss: 1.0096 - accuracy: 0.6800 - val_loss: 1.0214 - val_accuracy: 0.6775\n",
            "Epoch 27/30\n",
            "200/200 [==============================] - 5s 26ms/step - loss: 1.0043 - accuracy: 0.6848 - val_loss: 1.0737 - val_accuracy: 0.6644\n",
            "Epoch 28/30\n",
            "200/200 [==============================] - 6s 30ms/step - loss: 1.0010 - accuracy: 0.6822 - val_loss: 1.0683 - val_accuracy: 0.6662\n",
            "Epoch 29/30\n",
            "200/200 [==============================] - 5s 26ms/step - loss: 0.9986 - accuracy: 0.6836 - val_loss: 1.1408 - val_accuracy: 0.6444\n",
            "Epoch 30/30\n",
            "200/200 [==============================] - 6s 30ms/step - loss: 0.9981 - accuracy: 0.6834 - val_loss: 1.0685 - val_accuracy: 0.6694\n"
          ]
        }
      ]
    },
    {
      "cell_type": "markdown",
      "source": [
        "#### Model Performance"
      ],
      "metadata": {
        "id": "T01JlsQxEovl"
      }
    },
    {
      "cell_type": "code",
      "source": [
        "plt.plot(history.history['accuracy'])\n",
        "plt.plot(history.history['val_accuracy'])\n",
        "plt.title('model accuracy')\n",
        "plt.ylabel('accuracy')\n",
        "plt.xlabel('epoch')\n",
        "plt.legend(['train', 'valid'], loc='lower right')\n",
        "plt.show()\n",
        "plt.plot(history.history['loss'])\n",
        "plt.plot(history.history['val_loss'])\n",
        "plt.title('model loss')\n",
        "plt.ylabel('loss')\n",
        "plt.xlabel('epoch')\n",
        "plt.legend(['train', 'valid'], loc='upper right')\n",
        "plt.show()"
      ],
      "metadata": {
        "colab": {
          "base_uri": "https://localhost:8080/",
          "height": 573
        },
        "id": "Qi0z-5fq5R8J",
        "outputId": "c21aeda8-1edc-4040-d4bc-296b5464a505"
      },
      "execution_count": 12,
      "outputs": [
        {
          "output_type": "display_data",
          "data": {
            "text/plain": [
              "<Figure size 432x288 with 1 Axes>"
            ],
            "image/png": "[encoded data removed]"
          },
          "metadata": {
            "needs_background": "light"
          }
        },
        {
          "output_type": "display_data",
          "data": {
            "text/plain": [
              "<Figure size 432x288 with 1 Axes>"
            ],
            "image/png": "[encoded data removed]"
          },
          "metadata": {
            "needs_background": "light"
          }
        }
      ]
    },
    {
      "cell_type": "code",
      "source": [
        " model_1.evaluate(val_generator)"
      ],
      "metadata": {
        "colab": {
          "base_uri": "https://localhost:8080/"
        },
        "id": "mvR9IHpgFmBy",
        "outputId": "3111ca34-0803-4011-f753-39a6875b6e20"
      },
      "execution_count": 13,
      "outputs": [
        {
          "output_type": "stream",
          "name": "stdout",
          "text": [
            "25/25 [==============================] - 0s 18ms/step - loss: 1.0685 - accuracy: 0.6694\n"
          ]
        },
        {
          "output_type": "execute_result",
          "data": {
            "text/plain": [
              "[1.0684747695922852, 0.6693750023841858]"
            ]
          },
          "metadata": {},
          "execution_count": 13
        }
      ]
    },
    {
      "cell_type": "markdown",
      "source": [
        "### Addition: Fine Tuning"
      ],
      "metadata": {
        "id": "c9a4rFu8G4V8"
      }
    },
    {
      "cell_type": "markdown",
      "source": [
        "The steps for fine-tuning are as follows:\n",
        "\n",
        "1. Add our custom network on top of an already-trained base network.\n",
        "2. Freeze the base network.\n",
        "3. Train the part we added.\n",
        "4. Unfreeze some layers in the base network. (Note that you should not unfreeze “batch normalization” layers, which are not relevant here since there are no such layers in VGG16)\n",
        "5. Jointly train both these layers and the part we added."
      ],
      "metadata": {
        "id": "lPE-jmojScmF"
      }
    },
    {
      "cell_type": "code",
      "source": [
        "base_model_1.summary()"
      ],
      "metadata": {
        "id": "RwutxKwtG2tE",
        "outputId": "c5fefdc7-bf29-4e8c-8434-c507fe0bdd09",
        "colab": {
          "base_uri": "https://localhost:8080/"
        }
      },
      "execution_count": 14,
      "outputs": [
        {
          "output_type": "stream",
          "name": "stdout",
          "text": [
            "Model: \"vgg16\"\n",
            "_________________________________________________________________\n",
            " Layer (type)                Output Shape              Param #   \n",
            "=================================================================\n",
            " input_1 (InputLayer)        [(None, 32, 40, 3)]       0         \n",
            "                                                                 \n",
            " block1_conv1 (Conv2D)       (None, 32, 40, 64)        1792      \n",
            "                                                                 \n",
            " block1_conv2 (Conv2D)       (None, 32, 40, 64)        36928     \n",
            "                                                                 \n",
            " block1_pool (MaxPooling2D)  (None, 16, 20, 64)        0         \n",
            "                                                                 \n",
            " block2_conv1 (Conv2D)       (None, 16, 20, 128)       73856     \n",
            "                                                                 \n",
            " block2_conv2 (Conv2D)       (None, 16, 20, 128)       147584    \n",
            "                                                                 \n",
            " block2_pool (MaxPooling2D)  (None, 8, 10, 128)        0         \n",
            "                                                                 \n",
            " block3_conv1 (Conv2D)       (None, 8, 10, 256)        295168    \n",
            "                                                                 \n",
            " block3_conv2 (Conv2D)       (None, 8, 10, 256)        590080    \n",
            "                                                                 \n",
            " block3_conv3 (Conv2D)       (None, 8, 10, 256)        590080    \n",
            "                                                                 \n",
            " block3_pool (MaxPooling2D)  (None, 4, 5, 256)         0         \n",
            "                                                                 \n",
            " block4_conv1 (Conv2D)       (None, 4, 5, 512)         1180160   \n",
            "                                                                 \n",
            " block4_conv2 (Conv2D)       (None, 4, 5, 512)         2359808   \n",
            "                                                                 \n",
            " block4_conv3 (Conv2D)       (None, 4, 5, 512)         2359808   \n",
            "                                                                 \n",
            " block4_pool (MaxPooling2D)  (None, 2, 2, 512)         0         \n",
            "                                                                 \n",
            " block5_conv1 (Conv2D)       (None, 2, 2, 512)         2359808   \n",
            "                                                                 \n",
            " block5_conv2 (Conv2D)       (None, 2, 2, 512)         2359808   \n",
            "                                                                 \n",
            " block5_conv3 (Conv2D)       (None, 2, 2, 512)         2359808   \n",
            "                                                                 \n",
            " block5_pool (MaxPooling2D)  (None, 1, 1, 512)         0         \n",
            "                                                                 \n",
            "=================================================================\n",
            "Total params: 14,714,688\n",
            "Trainable params: 0\n",
            "Non-trainable params: 14,714,688\n",
            "_________________________________________________________________\n"
          ]
        }
      ]
    },
    {
      "cell_type": "code",
      "source": [
        "# Freeze all layers until the block_5_ layers\n",
        "\n",
        "base_model_1.trainable = True\n",
        "for layer in base_model_1.layers[:-4]:\n",
        "    layer.trainable = False\n",
        "    \n",
        "for layer in base_model_1.layers[0:]:\n",
        "    print('layer name = ' + layer.name + ', shape = ' + repr(layer.output_shape)\n",
        "            + ', trainable = ' + repr(layer.trainable))  "
      ],
      "metadata": {
        "id": "ZmQIl5OhTQHS",
        "outputId": "f8c9362b-86eb-4915-8dca-08d4957a86bb",
        "colab": {
          "base_uri": "https://localhost:8080/"
        }
      },
      "execution_count": 15,
      "outputs": [
        {
          "output_type": "stream",
          "name": "stdout",
          "text": [
            "layer name = input_1, shape = [(None, 32, 40, 3)], trainable = False\n",
            "layer name = block1_conv1, shape = (None, 32, 40, 64), trainable = False\n",
            "layer name = block1_conv2, shape = (None, 32, 40, 64), trainable = False\n",
            "layer name = block1_pool, shape = (None, 16, 20, 64), trainable = False\n",
            "layer name = block2_conv1, shape = (None, 16, 20, 128), trainable = False\n",
            "layer name = block2_conv2, shape = (None, 16, 20, 128), trainable = False\n",
            "layer name = block2_pool, shape = (None, 8, 10, 128), trainable = False\n",
            "layer name = block3_conv1, shape = (None, 8, 10, 256), trainable = False\n",
            "layer name = block3_conv2, shape = (None, 8, 10, 256), trainable = False\n",
            "layer name = block3_conv3, shape = (None, 8, 10, 256), trainable = False\n",
            "layer name = block3_pool, shape = (None, 4, 5, 256), trainable = False\n",
            "layer name = block4_conv1, shape = (None, 4, 5, 512), trainable = False\n",
            "layer name = block4_conv2, shape = (None, 4, 5, 512), trainable = False\n",
            "layer name = block4_conv3, shape = (None, 4, 5, 512), trainable = False\n",
            "layer name = block4_pool, shape = (None, 2, 2, 512), trainable = False\n",
            "layer name = block5_conv1, shape = (None, 2, 2, 512), trainable = True\n",
            "layer name = block5_conv2, shape = (None, 2, 2, 512), trainable = True\n",
            "layer name = block5_conv3, shape = (None, 2, 2, 512), trainable = True\n",
            "layer name = block5_pool, shape = (None, 1, 1, 512), trainable = True\n"
          ]
        }
      ]
    },
    {
      "cell_type": "markdown",
      "source": [
        "#### Compute Fine Tuning"
      ],
      "metadata": {
        "id": "PvD67pf8elok"
      }
    },
    {
      "cell_type": "code",
      "source": [
        "model_1.compile(loss=\"categorical_crossentropy\",\n",
        "    optimizer=keras.optimizers.Adam(learning_rate=1e-5),\n",
        "    metrics=[\"accuracy\"])"
      ],
      "metadata": {
        "id": "pt25mzwJTlU3"
      },
      "execution_count": 16,
      "outputs": []
    },
    {
      "cell_type": "code",
      "source": [
        "model_1.summary()"
      ],
      "metadata": {
        "id": "Km5SgInjXX6B",
        "outputId": "3a181d01-c564-4ddf-d7df-0dd0bf24be22",
        "colab": {
          "base_uri": "https://localhost:8080/"
        }
      },
      "execution_count": 17,
      "outputs": [
        {
          "output_type": "stream",
          "name": "stdout",
          "text": [
            "Model: \"sequential\"\n",
            "_________________________________________________________________\n",
            " Layer (type)                Output Shape              Param #   \n",
            "=================================================================\n",
            " vgg16 (Functional)          (None, 1, 1, 512)         14714688  \n",
            "                                                                 \n",
            " flatten (Flatten)           (None, 512)               0         \n",
            "                                                                 \n",
            " dense (Dense)               (None, 256)               131328    \n",
            "                                                                 \n",
            " batch_normalization (BatchN  (None, 256)              1024      \n",
            " ormalization)                                                   \n",
            "                                                                 \n",
            " dropout (Dropout)           (None, 256)               0         \n",
            "                                                                 \n",
            " dense_1 (Dense)             (None, 12)                3084      \n",
            "                                                                 \n",
            "=================================================================\n",
            "Total params: 14,850,124\n",
            "Trainable params: 7,214,348\n",
            "Non-trainable params: 7,635,776\n",
            "_________________________________________________________________\n"
          ]
        }
      ]
    },
    {
      "cell_type": "code",
      "source": [
        "logdir = os.path.join(\"logs_fine_tuning\", datetime.datetime.now().strftime(\"%Y%m%d-%H%M%S\"))\n",
        "\n",
        "\n",
        "callbacks = [\n",
        "    keras.callbacks.ModelCheckpoint(filepath=\"fine_tuning.keras\", save_best_only=True, monitor=\"val_loss\"),\n",
        "    tf.keras.callbacks.TensorBoard(logdir, histogram_freq=1)\n",
        "]\n",
        "\n",
        "history = model_1.fit(\n",
        "train_generator,\n",
        "epochs=30,\n",
        "validation_data = val_generator,\n",
        "callbacks = callbacks\n",
        ")"
      ],
      "metadata": {
        "id": "A0Mw5k8lToi4",
        "outputId": "121b9bf5-a733-44df-f45f-3e78ff5b39e6",
        "colab": {
          "base_uri": "https://localhost:8080/"
        }
      },
      "execution_count": 18,
      "outputs": [
        {
          "output_type": "stream",
          "name": "stdout",
          "text": [
            "Epoch 1/30\n",
            "200/200 [==============================] - 7s 29ms/step - loss: 0.9860 - accuracy: 0.6849 - val_loss: 0.9701 - val_accuracy: 0.6888\n",
            "Epoch 2/30\n",
            "200/200 [==============================] - 6s 28ms/step - loss: 0.9012 - accuracy: 0.7131 - val_loss: 0.9392 - val_accuracy: 0.6913\n",
            "Epoch 3/30\n",
            "200/200 [==============================] - 5s 26ms/step - loss: 0.8528 - accuracy: 0.7253 - val_loss: 0.9851 - val_accuracy: 0.6994\n",
            "Epoch 4/30\n",
            "200/200 [==============================] - 6s 28ms/step - loss: 0.8233 - accuracy: 0.7349 - val_loss: 0.8873 - val_accuracy: 0.7150\n",
            "Epoch 5/30\n",
            "200/200 [==============================] - 5s 26ms/step - loss: 0.7830 - accuracy: 0.7473 - val_loss: 0.9911 - val_accuracy: 0.6931\n",
            "Epoch 6/30\n",
            "200/200 [==============================] - 6s 29ms/step - loss: 0.7693 - accuracy: 0.7539 - val_loss: 0.8409 - val_accuracy: 0.7319\n",
            "Epoch 7/30\n",
            "200/200 [==============================] - 5s 27ms/step - loss: 0.7279 - accuracy: 0.7655 - val_loss: 0.8428 - val_accuracy: 0.7350\n",
            "Epoch 8/30\n",
            "200/200 [==============================] - 5s 27ms/step - loss: 0.7069 - accuracy: 0.7723 - val_loss: 0.8527 - val_accuracy: 0.7281\n",
            "Epoch 9/30\n",
            "200/200 [==============================] - 6s 28ms/step - loss: 0.6927 - accuracy: 0.7786 - val_loss: 0.8561 - val_accuracy: 0.7287\n",
            "Epoch 10/30\n",
            "200/200 [==============================] - 6s 28ms/step - loss: 0.6653 - accuracy: 0.7884 - val_loss: 0.8214 - val_accuracy: 0.7431\n",
            "Epoch 11/30\n",
            "200/200 [==============================] - 5s 27ms/step - loss: 0.6418 - accuracy: 0.7951 - val_loss: 0.8323 - val_accuracy: 0.7394\n",
            "Epoch 12/30\n",
            "200/200 [==============================] - 5s 27ms/step - loss: 0.6290 - accuracy: 0.7988 - val_loss: 0.8352 - val_accuracy: 0.7387\n",
            "Epoch 13/30\n",
            "200/200 [==============================] - 5s 26ms/step - loss: 0.6060 - accuracy: 0.8061 - val_loss: 0.8341 - val_accuracy: 0.7469\n",
            "Epoch 14/30\n",
            "200/200 [==============================] - 5s 26ms/step - loss: 0.5942 - accuracy: 0.8130 - val_loss: 0.8380 - val_accuracy: 0.7312\n",
            "Epoch 15/30\n",
            "200/200 [==============================] - 6s 28ms/step - loss: 0.5808 - accuracy: 0.8163 - val_loss: 0.8061 - val_accuracy: 0.7550\n",
            "Epoch 16/30\n",
            "200/200 [==============================] - 6s 28ms/step - loss: 0.5569 - accuracy: 0.8238 - val_loss: 0.8647 - val_accuracy: 0.7331\n",
            "Epoch 17/30\n",
            "200/200 [==============================] - 6s 28ms/step - loss: 0.5494 - accuracy: 0.8270 - val_loss: 0.8227 - val_accuracy: 0.7538\n",
            "Epoch 18/30\n",
            "200/200 [==============================] - 5s 27ms/step - loss: 0.5265 - accuracy: 0.8370 - val_loss: 0.8272 - val_accuracy: 0.7375\n",
            "Epoch 19/30\n",
            "200/200 [==============================] - 6s 28ms/step - loss: 0.5214 - accuracy: 0.8385 - val_loss: 0.8045 - val_accuracy: 0.7475\n",
            "Epoch 20/30\n",
            "200/200 [==============================] - 5s 27ms/step - loss: 0.5018 - accuracy: 0.8442 - val_loss: 0.8217 - val_accuracy: 0.7500\n",
            "Epoch 21/30\n",
            "200/200 [==============================] - 5s 27ms/step - loss: 0.4855 - accuracy: 0.8522 - val_loss: 0.8193 - val_accuracy: 0.7513\n",
            "Epoch 22/30\n",
            "200/200 [==============================] - 6s 28ms/step - loss: 0.4776 - accuracy: 0.8548 - val_loss: 0.7709 - val_accuracy: 0.7681\n",
            "Epoch 23/30\n",
            "200/200 [==============================] - 5s 27ms/step - loss: 0.4601 - accuracy: 0.8593 - val_loss: 0.8055 - val_accuracy: 0.7456\n",
            "Epoch 24/30\n",
            "200/200 [==============================] - 5s 27ms/step - loss: 0.4396 - accuracy: 0.8677 - val_loss: 0.7880 - val_accuracy: 0.7538\n",
            "Epoch 25/30\n",
            "200/200 [==============================] - 5s 27ms/step - loss: 0.4327 - accuracy: 0.8706 - val_loss: 0.8143 - val_accuracy: 0.7544\n",
            "Epoch 26/30\n",
            "200/200 [==============================] - 5s 27ms/step - loss: 0.4266 - accuracy: 0.8727 - val_loss: 0.8083 - val_accuracy: 0.7544\n",
            "Epoch 27/30\n",
            "200/200 [==============================] - 5s 26ms/step - loss: 0.4092 - accuracy: 0.8780 - val_loss: 0.9187 - val_accuracy: 0.7200\n",
            "Epoch 28/30\n",
            "200/200 [==============================] - 6s 28ms/step - loss: 0.4009 - accuracy: 0.8825 - val_loss: 0.8007 - val_accuracy: 0.7550\n",
            "Epoch 29/30\n",
            "200/200 [==============================] - 5s 27ms/step - loss: 0.3892 - accuracy: 0.8891 - val_loss: 0.7776 - val_accuracy: 0.7650\n",
            "Epoch 30/30\n",
            "200/200 [==============================] - 5s 27ms/step - loss: 0.3750 - accuracy: 0.8937 - val_loss: 0.7933 - val_accuracy: 0.7563\n"
          ]
        }
      ]
    },
    {
      "cell_type": "markdown",
      "source": [
        "#### Model Performance - With Fine Tuning"
      ],
      "metadata": {
        "id": "qNWizcz-kbwK"
      }
    },
    {
      "cell_type": "code",
      "source": [
        "plt.plot(history.history['accuracy'])\n",
        "plt.plot(history.history['val_accuracy'])\n",
        "plt.title('model accuracy')\n",
        "plt.ylabel('accuracy')\n",
        "plt.xlabel('epoch')\n",
        "plt.legend(['train', 'valid'], loc='lower right')\n",
        "plt.show()\n",
        "plt.plot(history.history['loss'])\n",
        "plt.plot(history.history['val_loss'])\n",
        "plt.title('model loss')\n",
        "plt.ylabel('loss')\n",
        "plt.xlabel('epoch')\n",
        "plt.legend(['train', 'valid'], loc='upper right')\n",
        "plt.show()"
      ],
      "metadata": {
        "colab": {
          "base_uri": "https://localhost:8080/",
          "height": 573
        },
        "outputId": "6562dedb-b632-4d53-ef37-f3818148b448",
        "id": "qN-asTIJkbwK"
      },
      "execution_count": 19,
      "outputs": [
        {
          "output_type": "display_data",
          "data": {
            "text/plain": [
              "<Figure size 432x288 with 1 Axes>"
            ],
            "image/png": "[encoded data removed]"
          },
          "metadata": {
            "needs_background": "light"
          }
        },
        {
          "output_type": "display_data",
          "data": {
            "text/plain": [
              "<Figure size 432x288 with 1 Axes>"
            ],
            "image/png": "[encoded data removed]"
          },
          "metadata": {
            "needs_background": "light"
          }
        }
      ]
    },
    {
      "cell_type": "code",
      "source": [
        " model_1.evaluate(val_generator)"
      ],
      "metadata": {
        "colab": {
          "base_uri": "https://localhost:8080/"
        },
        "outputId": "758a7e8d-9e0c-4235-d68c-6ddd58de5e10",
        "id": "_rWrGtQNkbwK"
      },
      "execution_count": 20,
      "outputs": [
        {
          "output_type": "stream",
          "name": "stdout",
          "text": [
            "25/25 [==============================] - 0s 17ms/step - loss: 0.7933 - accuracy: 0.7563\n"
          ]
        },
        {
          "output_type": "execute_result",
          "data": {
            "text/plain": [
              "[0.7933217883110046, 0.7562500238418579]"
            ]
          },
          "metadata": {},
          "execution_count": 20
        }
      ]
    },
    {
      "cell_type": "code",
      "source": [
        "train_generator.class_indices"
      ],
      "metadata": {
        "colab": {
          "base_uri": "https://localhost:8080/"
        },
        "id": "Pfxrbc_Pwbr2",
        "outputId": "b24c476b-f8e9-4f49-bc5d-82e16132c43c"
      },
      "execution_count": 21,
      "outputs": [
        {
          "output_type": "execute_result",
          "data": {
            "text/plain": [
              "{'Cell': 0,\n",
              " 'Cell-Multi': 1,\n",
              " 'Cracking': 2,\n",
              " 'Diode': 3,\n",
              " 'Diode-Multi': 4,\n",
              " 'Hot-Spot': 5,\n",
              " 'Hot-Spot-Multi': 6,\n",
              " 'No-Anomaly': 7,\n",
              " 'Offline-Module': 8,\n",
              " 'Shadowing': 9,\n",
              " 'Soiling': 10,\n",
              " 'Vegetation': 11}"
            ]
          },
          "metadata": {},
          "execution_count": 21
        }
      ]
    },
    {
      "cell_type": "code",
      "source": [
        "x = list(train_generator.class_indices.keys())\n",
        "num_of_test_samples = 1600\n",
        "\n",
        "Y_pred = model_1.predict_generator(val_generator, num_of_test_samples // batch_size+1)\n",
        "y_pred = np.argmax(Y_pred, axis=1)\n",
        "print()\n",
        "print('Confusion Matrix')\n",
        "print(confusion_matrix(val_generator.classes, y_pred))\n",
        "\n",
        "print()\n",
        "print('Classification Report')\n",
        "target_names = x\n",
        "print(classification_report(val_generator.classes, y_pred, target_names = target_names))"
      ],
      "metadata": {
        "colab": {
          "base_uri": "https://localhost:8080/"
        },
        "id": "vgbRbBLMmF03",
        "outputId": "423f5a82-27aa-4985-90b6-4ff970da0077"
      },
      "execution_count": 22,
      "outputs": [
        {
          "output_type": "stream",
          "name": "stderr",
          "text": [
            "/usr/local/lib/python3.7/dist-packages/ipykernel_launcher.py:4: UserWarning: `Model.predict_generator` is deprecated and will be removed in a future version. Please use `Model.predict`, which supports generators.\n",
            "  after removing the cwd from sys.path.\n"
          ]
        },
        {
          "output_type": "stream",
          "name": "stdout",
          "text": [
            "WARNING:tensorflow:Your input ran out of data; interrupting training. Make sure that your dataset or generator can generate at least `steps_per_epoch * epochs` batches (in this case, 26 batches). You may need to use the repeat() function when building your dataset.\n",
            "\n",
            "Confusion Matrix\n",
            "[[ 13   5  12   7   3   0   4  73   2   4   0   9]\n",
            " [ 11   4   5   2   0   0   1  78   0   5   0   7]\n",
            " [ 11   2   2   9   1   1   1  58   1   6   0   6]\n",
            " [ 12   4   7  13   0   0   0  66   4   4   0   7]\n",
            " [  1   0   2   1   0   0   0  10   0   0   0   3]\n",
            " [  2   0   0   1   0   0   0  10   2   2   0   3]\n",
            " [  1   1   2   1   0   0   0  10   0   0   0   3]\n",
            " [ 74  25  39  50   5   3   8 461  22  23   3  64]\n",
            " [  6   4   2   6   0   0   0  34   0   2   1   4]\n",
            " [ 11   8   5   4   0   1   2  47   0   4   1   9]\n",
            " [  1   1   0   5   0   0   0   7   0   1   0   0]\n",
            " [ 16   5   6   7   2   0   0  84   5   3   1  13]]\n",
            "\n",
            "Classification Report\n",
            "                precision    recall  f1-score   support\n",
            "\n",
            "          Cell       0.08      0.10      0.09       132\n",
            "    Cell-Multi       0.07      0.04      0.05       113\n",
            "      Cracking       0.02      0.02      0.02        98\n",
            "         Diode       0.12      0.11      0.12       117\n",
            "   Diode-Multi       0.00      0.00      0.00        17\n",
            "      Hot-Spot       0.00      0.00      0.00        20\n",
            "Hot-Spot-Multi       0.00      0.00      0.00        18\n",
            "    No-Anomaly       0.49      0.59      0.54       777\n",
            "Offline-Module       0.00      0.00      0.00        59\n",
            "     Shadowing       0.07      0.04      0.05        92\n",
            "       Soiling       0.00      0.00      0.00        15\n",
            "    Vegetation       0.10      0.09      0.10       142\n",
            "\n",
            "      accuracy                           0.32      1600\n",
            "     macro avg       0.08      0.08      0.08      1600\n",
            "  weighted avg       0.27      0.32      0.29      1600\n",
            "\n"
          ]
        }
      ]
    },
    {
      "cell_type": "code",
      "source": [
        "cm = confusion_matrix(val_generator.classes, y_pred)\n",
        "fig, ax = plt.subplots()\n",
        "im = ax.imshow(cm, interpolation='nearest', cmap=plt.cm.Blues)\n",
        "title = 'Confusion matrix'\n",
        "ax.figure.colorbar(im, ax=ax)\n",
        "ax.set(xticks=np.arange(cm.shape[1]),\n",
        "    yticks=np.arange(cm.shape[0]),\n",
        "    xticklabels=target_names, yticklabels=target_names,\n",
        "    title=title,\n",
        "    ylabel='True label',\n",
        "    xlabel='Predicted label')\n",
        "plt.setp(ax.get_xticklabels(), rotation=45, ha=\"right\",\n",
        "             rotation_mode=\"anchor\")\n",
        "np.set_printoptions(precision=2)\n",
        "plt.show()"
      ],
      "metadata": {
        "colab": {
          "base_uri": "https://localhost:8080/",
          "height": 344
        },
        "id": "0bkYGGdI1DAx",
        "outputId": "53dbc3c0-ea9e-48ba-a61f-dd55475f23b1"
      },
      "execution_count": 23,
      "outputs": [
        {
          "output_type": "display_data",
          "data": {
            "text/plain": [
              "<Figure size 432x288 with 2 Axes>"
            ],
            "image/png": "[encoded data removed]"
          },
          "metadata": {
            "needs_background": "light"
          }
        }
      ]
    },
    {
      "cell_type": "code",
      "source": [
        "x = list(train_generator.class_indices.keys())\n",
        "y = train_generator.classes\n",
        "plt.hist(y, bins = 12)\n",
        "plt.show()\n",
        "y = val_generator.classes\n",
        "plt.hist(y, bins = 12)\n",
        "plt.show()"
      ],
      "metadata": {
        "colab": {
          "base_uri": "https://localhost:8080/",
          "height": 513
        },
        "id": "KPneZboL3G_O",
        "outputId": "85ac4afa-aa4d-4aab-ab0e-487d12b84e3b"
      },
      "execution_count": 24,
      "outputs": [
        {
          "output_type": "display_data",
          "data": {
            "text/plain": [
              "<Figure size 432x288 with 1 Axes>"
            ],
            "image/png": "[encoded data removed]"
          },
          "metadata": {
            "needs_background": "light"
          }
        },
        {
          "output_type": "display_data",
          "data": {
            "text/plain": [
              "<Figure size 432x288 with 1 Axes>"
            ],
            "image/png": "[encoded data removed]"
          },
          "metadata": {
            "needs_background": "light"
          }
        }
      ]
    },
    {
      "cell_type": "markdown",
      "source": [
        "## Model_2 - With Imbalanced Data Handling"
      ],
      "metadata": {
        "id": "Ah8PsGEIGBQg"
      }
    },
    {
      "cell_type": "markdown",
      "source": [
        "### Compute Weights"
      ],
      "metadata": {
        "id": "EHzNVhCZfwCd"
      }
    },
    {
      "cell_type": "code",
      "source": [
        "train_classes = np.unique(train_generator.classes)\n",
        "print(train_classes)\n",
        "train_generator.classes\n",
        "print(train_generator.classes)\n",
        "\n",
        "train_classes = train_generator.classes\n",
        "class_weights = compute_class_weight(\n",
        "                                        class_weight = \"balanced\",\n",
        "                                        classes = np.unique(train_classes),\n",
        "                                        y = train_classes                                                    \n",
        "                                    )\n",
        "class_weights = dict(zip(np.unique(train_classes), class_weights))\n",
        "class_weights"
      ],
      "metadata": {
        "colab": {
          "base_uri": "https://localhost:8080/"
        },
        "id": "Q2Tk5KL1Kfh5",
        "outputId": "92c0ae46-9d7f-4685-ac03-6de01713fd4b"
      },
      "execution_count": 25,
      "outputs": [
        {
          "output_type": "stream",
          "name": "stdout",
          "text": [
            "[ 0  1  2  3  4  5  6  7  8  9 10 11]\n",
            "[7, 9, 7, 0, 9, 7, 7, 1, 1, 11, 6, 11, 7, 10, 2, 7, 3, 7, 7, 1, 7, 0, 11, 7, 5, 7, 0, 7, 7, 7, 7, 9, 7, 8, 9, 7, 9, 9, 7, 7, 7, 11, 1, 7, 7, 7, 0, 7, 4, 3, 7, 7, 7, 7, 8, 11, 1, 3, 0, 7, 11, 7, 0, 7, 7, 1, 0, 11, 0, 1, 7, 7, 7, 7, 1, 7, 7, 7, 8, 7, 9, 7, 8, 7, 7, 7, 11, 7, 1, 10, 7, 7, 7, 7, 0, 0, 7, 6, 2, 7, 7, 7, 3, 7, 7, 3, 7, 7, 3, 7, 9, 7, 7, 7, 0, 1, 8, 7, 11, 10, 11, 3, 3, 7, 2, 3, 7, 7, 7, 7, 8, 7, 7, 7, 3, 8, 11, 7, 0, 7, 7, 1, 11, 7, 7, 0, 8, 7, 4, 7, 0, 0, 8, 7, 7, 7, 7, 0, 3, 6, 7, 7, 11, 5, 11, 9, 11, 7, 7, 7, 2, 1, 11, 7, 2, 10, 7, 7, 11, 11, 7, 7, 0, 2, 3, 7, 1, 7, 7, 0, 7, 3, 7, 7, 7, 7, 0, 11, 11, 11, 7, 7, 7, 7, 8, 0, 7, 9, 0, 7, 7, 11, 0, 7, 7, 7, 2, 9, 7, 7, 7, 10, 7, 11, 7, 1, 7, 7, 7, 7, 6, 7, 0, 7, 1, 10, 9, 7, 0, 7, 8, 1, 7, 7, 3, 7, 7, 7, 3, 11, 11, 11, 0, 3, 7, 7, 7, 7, 0, 7, 3, 7, 7, 11, 7, 7, 7, 11, 2, 7, 7, 0, 7, 2, 7, 7, 5, 1, 1, 0, 1, 1, 1, 11, 7, 7, 7, 7, 8, 7, 1, 7, 7, 7, 7, 2, 2, 7, 7, 10, 1, 0, 7, 1, 9, 7, 11, 1, 0, 9, 7, 7, 11, 1, 7, 7, 3, 0, 7, 7, 11, 8, 7, 0, 2, 3, 7, 8, 0, 7, 1, 7, 7, 7, 7, 0, 7, 11, 9, 7, 11, 1, 3, 4, 7, 2, 3, 7, 5, 7, 3, 7, 7, 7, 0, 7, 11, 0, 7, 7, 7, 0, 0, 7, 9, 7, 7, 0, 9, 11, 5, 4, 3, 7, 7, 9, 3, 1, 7, 9, 6, 7, 0, 7, 11, 7, 7, 1, 7, 7, 7, 0, 1, 3, 0, 11, 9, 7, 7, 7, 7, 7, 8, 7, 7, 0, 5, 3, 11, 3, 7, 9, 7, 7, 3, 0, 7, 5, 7, 7, 7, 6, 7, 7, 2, 11, 9, 11, 7, 7, 7, 8, 7, 9, 3, 7, 7, 1, 7, 7, 0, 11, 11, 7, 9, 11, 7, 7, 1, 1, 7, 9, 0, 6, 7, 7, 11, 2, 9, 7, 7, 7, 8, 7, 0, 11, 3, 7, 7, 11, 6, 0, 7, 7, 11, 3, 9, 7, 7, 7, 7, 7, 1, 0, 7, 7, 3, 3, 1, 2, 2, 8, 3, 1, 7, 4, 8, 3, 7, 7, 8, 10, 7, 3, 5, 7, 1, 7, 2, 7, 1, 9, 7, 4, 8, 7, 3, 1, 11, 7, 4, 3, 7, 3, 7, 0, 8, 7, 0, 2, 7, 1, 0, 3, 6, 7, 4, 7, 8, 7, 2, 1, 3, 7, 7, 7, 7, 7, 0, 7, 7, 10, 0, 2, 11, 7, 2, 1, 7, 3, 11, 7, 9, 3, 0, 0, 7, 0, 11, 11, 7, 0, 7, 7, 11, 8, 2, 3, 3, 4, 1, 1, 8, 9, 7, 7, 7, 3, 9, 10, 1, 7, 7, 6, 3, 3, 7, 7, 6, 8, 11, 7, 7, 7, 7, 7, 7, 7, 2, 1, 1, 7, 11, 4, 7, 7, 7, 7, 7, 9, 7, 1, 7, 7, 7, 0, 7, 7, 3, 7, 0, 7, 7, 7, 2, 7, 7, 7, 2, 0, 7, 7, 7, 7, 7, 3, 7, 7, 3, 7, 7, 11, 2, 0, 2, 7, 11, 7, 7, 0, 1, 7, 7, 11, 1, 11, 7, 0, 7, 10, 6, 7, 7, 0, 7, 8, 7, 0, 1, 7, 11, 2, 7, 7, 11, 0, 7, 7, 1, 0, 1, 7, 7, 7, 7, 7, 7, 1, 0, 3, 7, 7, 3, 7, 3, 3, 7, 0, 1, 2, 7, 7, 7, 2, 7, 7, 9, 7, 2, 9, 7, 0, 3, 0, 2, 11, 11, 7, 7, 7, 7, 11, 2, 7, 7, 8, 2, 5, 1, 3, 7, 3, 0, 0, 3, 7, 3, 2, 7, 0, 7, 7, 3, 7, 2, 7, 9, 2, 9, 2, 0, 7, 3, 7, 10, 7, 7, 3, 11, 7, 7, 7, 1, 0, 2, 2, 7, 7, 11, 7, 1, 7, 1, 7, 7, 2, 7, 7, 7, 7, 0, 2, 7, 7, 3, 3, 7, 7, 7, 3, 1, 7, 11, 2, 7, 7, 1, 7, 2, 7, 2, 7, 0, 7, 7, 0, 7, 7, 7, 0, 11, 10, 7, 7, 7, 7, 0, 11, 0, 7, 7, 7, 7, 7, 7, 11, 1, 3, 0, 11, 7, 7, 7, 7, 7, 7, 1, 3, 3, 9, 6, 7, 7, 7, 7, 7, 2, 11, 1, 1, 0, 7, 3, 8, 10, 7, 2, 2, 9, 7, 3, 7, 11, 7, 7, 2, 7, 8, 7, 1, 7, 1, 3, 2, 7, 7, 7, 7, 7, 0, 7, 2, 7, 7, 3, 3, 11, 7, 7, 7, 7, 7, 3, 7, 0, 11, 2, 1, 9, 7, 7, 7, 3, 7, 7, 5, 7, 7, 8, 3, 7, 8, 7, 7, 0, 2, 9, 7, 11, 3, 7, 1, 1, 7, 7, 1, 7, 7, 2, 7, 8, 7, 11, 7, 7, 3, 6, 7, 7, 0, 9, 3, 0, 7, 7, 7, 0, 0, 10, 7, 7, 9, 0, 4, 7, 7, 2, 3, 11, 0, 1, 7, 7, 7, 7, 9, 10, 7, 7, 11, 7, 7, 3, 7, 9, 7, 1, 7, 1, 7, 7, 7, 7, 1, 7, 3, 3, 7, 0, 0, 7, 7, 0, 3, 0, 7, 11, 5, 7, 7, 7, 1, 7, 7, 7, 7, 7, 5, 2, 11, 7, 3, 7, 7, 7, 7, 8, 0, 6, 7, 6, 8, 11, 7, 11, 1, 10, 8, 7, 7, 7, 3, 7, 7, 7, 7, 7, 11, 8, 7, 0, 7, 1, 7, 7, 7, 7, 7, 1, 1, 7, 7, 0, 9, 7, 7, 7, 7, 7, 7, 9, 7, 7, 7, 1, 7, 7, 8, 7, 1, 7, 7, 7, 9, 7, 10, 1, 8, 7, 0, 7, 8, 11, 1, 7, 2, 9, 7, 3, 1, 7, 7, 0, 1, 7, 7, 3, 7, 7, 7, 7, 7, 1, 0, 7, 7, 8, 2, 1, 7, 7, 11, 7, 10, 7, 7, 3, 9, 10, 7, 0, 0, 7, 7, 7, 7, 2, 2, 7, 11, 0, 11, 8, 7, 9, 2, 7, 11, 3, 7, 0, 9, 7, 7, 0, 7, 11, 7, 7, 7, 6, 11, 2, 7, 3, 1, 1, 7, 7, 3, 7, 5, 7, 3, 7, 7, 7, 7, 1, 0, 7, 7, 1, 10, 2, 7, 3, 0, 7, 7, 9, 7, 7, 7, 8, 1, 7, 7, 9, 7, 7, 7, 0, 7, 7, 9, 7, 7, 7, 8, 7, 2, 0, 0, 9, 3, 7, 7, 11, 7, 9, 7, 7, 7, 11, 7, 7, 2, 0, 7, 3, 7, 7, 0, 7, 0, 11, 1, 0, 7, 7, 7, 11, 2, 7, 7, 1, 7, 7, 3, 7, 0, 7, 7, 11, 7, 7, 11, 0, 0, 8, 7, 11, 3, 7, 7, 7, 1, 8, 7, 6, 3, 0, 7, 2, 3, 7, 9, 1, 1, 7, 3, 3, 7, 0, 0, 2, 11, 7, 7, 7, 3, 7, 7, 7, 7, 9, 11, 7, 8, 0, 7, 9, 7, 5, 3, 7, 0, 7, 7, 7, 7, 9, 7, 7, 11, 7, 7, 3, 7, 7, 7, 7, 7, 7, 7, 0, 7, 3, 7, 7, 7, 7, 2, 7, 11, 8, 7, 7, 3, 7, 0, 3, 0, 7, 7, 11, 7, 7, 0, 11, 0, 7, 9, 7, 7, 3, 11, 6, 7, 7, 0, 0, 7, 7, 9, 7, 7, 11, 7, 2, 0, 3, 0, 7, 0, 0, 3, 10, 8, 7, 7, 8, 7, 1, 7, 6, 1, 7, 0, 7, 1, 1, 7, 7, 7, 9, 7, 0, 7, 1, 7, 7, 9, 3, 9, 7, 7, 7, 7, 0, 7, 7, 7, 1, 11, 11, 0, 7, 7, 11, 7, 3, 7, 7, 11, 1, 7, 7, 7, 3, 9, 7, 7, 7, 8, 7, 0, 9, 9, 7, 3, 7, 2, 9, 11, 7, 6, 4, 7, 7, 7, 0, 7, 7, 11, 3, 8, 0, 3, 2, 7, 10, 7, 7, 3, 9, 7, 7, 7, 9, 7, 7, 11, 1, 7, 9, 7, 2, 9, 9, 8, 7, 7, 7, 11, 7, 7, 0, 0, 7, 9, 7, 7, 7, 7, 7, 3, 7, 7, 0, 9, 7, 1, 0, 10, 11, 7, 7, 7, 0, 3, 7, 9, 7, 7, 1, 7, 3, 3, 7, 3, 2, 6, 6, 8, 8, 7, 1, 7, 11, 3, 3, 7, 11, 3, 0, 9, 1, 8, 7, 0, 7, 7, 7, 7, 7, 2, 7, 7, 7, 7, 9, 9, 7, 7, 8, 11, 1, 7, 7, 1, 3, 4, 7, 7, 11, 7, 3, 11, 7, 11, 0, 1, 9, 7, 7, 9, 3, 7, 5, 7, 7, 7, 7, 7, 9, 1, 7, 7, 7, 9, 7, 2, 0, 7, 7, 0, 7, 0, 1, 7, 7, 7, 7, 7, 7, 7, 7, 7, 3, 8, 2, 7, 1, 7, 7, 7, 7, 2, 3, 7, 7, 0, 11, 0, 7, 7, 7, 9, 7, 3, 2, 7, 0, 7, 7, 7, 7, 7, 0, 7, 1, 7, 1, 7, 7, 7, 9, 10, 0, 7, 4, 11, 1, 7, 7, 0, 3, 7, 0, 7, 9, 0, 7, 2, 7, 7, 3, 7, 9, 7, 7, 7, 7, 7, 0, 7, 0, 7, 9, 7, 7, 0, 2, 7, 0, 1, 11, 7, 1, 7, 7, 3, 11, 9, 7, 7, 7, 7, 7, 11, 11, 0, 0, 2, 7, 7, 3, 7, 7, 7, 11, 3, 7, 5, 7, 7, 3, 7, 1, 7, 0, 11, 1, 2, 7, 7, 0, 0, 7, 7, 7, 7, 7, 3, 11, 7, 7, 7, 7, 7, 7, 7, 8, 1, 7, 9, 7, 9, 7, 9, 7, 2, 6, 7, 7, 7, 7, 7, 7, 7, 11, 6, 7, 7, 1, 0, 7, 7, 7, 7, 3, 7, 7, 3, 7, 7, 9, 7, 0, 0, 3, 7, 2, 1, 2, 6, 0, 7, 7, 4, 0, 1, 7, 2, 7, 0, 7, 7, 7, 7, 7, 7, 7, 0, 1, 7, 3, 7, 11, 0, 7, 11, 1, 0, 3, 11, 7, 7, 7, 1, 3, 7, 7, 7, 7, 3, 8, 8, 1, 7, 7, 7, 7, 9, 7, 0, 5, 7, 11, 3, 7, 7, 0, 7, 7, 1, 0, 7, 7, 8, 7, 11, 7, 9, 7, 7, 3, 7, 7, 2, 3, 9, 7, 7, 7, 1, 1, 7, 7, 2, 3, 7, 7, 7, 8, 3, 11, 0, 6, 7, 11, 3, 3, 11, 7, 7, 3, 2, 7, 7, 8, 7, 11, 0, 3, 2, 7, 11, 7, 7, 11, 7, 7, 7, 1, 2, 1, 11, 3, 3, 7, 0, 8, 0, 7, 11, 3, 4, 3, 1, 9, 1, 11, 10, 7, 7, 8, 7, 1, 7, 11, 7, 7, 7, 9, 11, 1, 3, 7, 11, 7, 7, 11, 0, 11, 7, 3, 7, 7, 7, 3, 9, 7, 0, 7, 7, 7, 11, 7, 0, 0, 9, 2, 7, 7, 2, 7, 11, 7, 7, 7, 2, 9, 1, 6, 8, 7, 7, 0, 7, 3, 7, 7, 2, 7, 1, 7, 1, 9, 9, 7, 7, 11, 7, 7, 7, 7, 7, 7, 7, 0, 9, 3, 6, 7, 9, 3, 1, 11, 2, 0, 7, 8, 9, 11, 3, 7, 7, 2, 5, 11, 5, 1, 9, 7, 5, 3, 10, 0, 7, 0, 7, 7, 7, 0, 11, 7, 11, 0, 0, 11, 1, 7, 7, 6, 6, 7, 4, 3, 9, 7, 7, 7, 1, 7, 7, 3, 7, 11, 7, 11, 7, 7, 7, 7, 8, 3, 7, 2, 11, 7, 7, 7, 7, 9, 1, 7, 2, 7, 9, 7, 11, 7, 0, 11, 8, 7, 7, 11, 3, 7, 8, 7, 11, 7, 2, 7, 7, 7, 7, 7, 3, 11, 7, 7, 7, 7, 4, 11, 11, 7, 7, 7, 7, 7, 9, 7, 0, 3, 7, 1, 7, 9, 1, 8, 2, 7, 11, 1, 3, 7, 3, 7, 9, 7, 0, 7, 11, 7, 3, 1, 7, 1, 0, 3, 11, 7, 7, 7, 0, 0, 8, 1, 7, 7, 7, 7, 7, 7, 7, 7, 2, 7, 7, 11, 10, 7, 11, 7, 7, 7, 5, 0, 10, 1, 7, 1, 7, 3, 7, 7, 11, 7, 0, 3, 0, 0, 7, 7, 3, 1, 11, 9, 7, 7, 7, 7, 7, 11, 8, 7, 11, 9, 1, 11, 7, 9, 7, 3, 0, 7, 0, 11, 7, 7, 0, 3, 7, 7, 8, 7, 7, 7, 7, 4, 0, 7, 7, 2, 7, 7, 0, 7, 7, 7, 7, 7, 7, 9, 8, 7, 7, 3, 11, 0, 7, 0, 7, 2, 1, 7, 11, 7, 7, 7, 7, 7, 11, 11, 0, 0, 7, 7, 7, 7, 0, 0, 7, 9, 9, 7, 8, 7, 7, 7, 7, 7, 7, 7, 0, 7, 7, 7, 7, 11, 8, 1, 7, 7, 0, 0, 9, 3, 7, 7, 7, 7, 9, 7, 7, 7, 7, 3, 7, 7, 7, 0, 7, 7, 7, 8, 7, 7, 3, 7, 7, 7, 0, 0, 3, 7, 8, 2, 11, 7, 7, 7, 7, 7, 10, 0, 7, 1, 11, 9, 7, 7, 1, 7, 7, 7, 11, 7, 11, 0, 7, 7, 1, 3, 0, 3, 11, 11, 0, 8, 7, 7, 7, 7, 11, 7, 1, 7, 7, 7, 7, 11, 7, 11, 7, 7, 1, 7, 0, 7, 2, 7, 7, 7, 9, 1, 0, 1, 7, 3, 7, 11, 1, 0, 7, 7, 7, 7, 0, 7, 8, 1, 8, 7, 11, 7, 7, 7, 7, 7, 7, 7, 11, 11, 7, 8, 7, 7, 7, 3, 0, 11, 7, 11, 7, 11, 7, 1, 7, 7, 3, 7, 7, 11, 9, 7, 7, 7, 8, 1, 6, 7, 7, 7, 1, 8, 7, 7, 3, 0, 7, 2, 7, 7, 8, 7, 7, 3, 7, 8, 11, 9, 7, 0, 7, 1, 0, 7, 7, 9, 7, 1, 0, 11, 0, 7, 11, 9, 7, 7, 7, 0, 9, 11, 7, 3, 9, 7, 7, 0, 7, 11, 11, 7, 7, 3, 7, 7, 1, 0, 9, 0, 7, 7, 7, 7, 1, 7, 0, 8, 7, 7, 7, 1, 7, 7, 11, 6, 1, 0, 7, 7, 7, 7, 0, 9, 7, 7, 6, 7, 8, 7, 2, 7, 11, 0, 8, 0, 7, 7, 0, 11, 7, 8, 7, 9, 2, 7, 5, 3, 11, 7, 3, 9, 11, 3, 7, 7, 3, 7, 7, 5, 7, 3, 4, 7, 0, 7, 8, 2, 7, 7, 0, 7, 1, 7, 7, 3, 3, 0, 7, 7, 2, 7, 7, 1, 11, 7, 7, 9, 7, 0, 0, 7, 11, 3, 7, 7, 7, 11, 0, 3, 7, 7, 11, 2, 9, 7, 7, 7, 7, 7, 2, 7, 6, 7, 7, 3, 7, 9, 11, 5, 7, 7, 7, 7, 7, 3, 2, 0, 11, 3, 7, 7, 7, 0, 7, 0, 7, 11, 6, 9, 0, 8, 11, 0, 7, 11, 7, 7, 7, 2, 8, 10, 0, 11, 0, 7, 7, 11, 1, 7, 0, 7, 2, 0, 7, 11, 7, 9, 7, 3, 3, 2, 2, 7, 0, 2, 7, 7, 7, 7, 7, 0, 7, 3, 7, 7, 7, 8, 0, 2, 7, 7, 7, 7, 8, 1, 7, 7, 1, 11, 7, 7, 0, 7, 7, 4, 7, 11, 4, 0, 7, 7, 7, 6, 3, 7, 1, 7, 5, 8, 7, 7, 7, 7, 7, 7, 7, 7, 7, 0, 7, 8, 1, 7, 7, 2, 7, 7, 9, 7, 1, 7, 3, 7, 3, 3, 3, 7, 7, 7, 11, 11, 11, 7, 7, 7, 7, 5, 11, 7, 9, 11, 7, 7, 1, 11, 11, 7, 0, 1, 7, 7, 3, 4, 0, 3, 0, 11, 0, 7, 11, 7, 3, 9, 0, 9, 7, 7, 0, 7, 7, 9, 7, 7, 7, 7, 7, 11, 7, 9, 7, 9, 3, 7, 7, 7, 11, 7, 7, 11, 3, 7, 7, 7, 7, 3, 9, 2, 7, 7, 9, 3, 7, 7, 1, 8, 7, 7, 7, 1, 9, 7, 11, 9, 0, 0, 11, 7, 7, 0, 7, 7, 1, 7, 3, 2, 7, 11, 0, 0, 7, 7, 7, 7, 7, 3, 7, 9, 7, 11, 11, 7, 2, 2, 11, 7, 1, 7, 7, 7, 0, 7, 11, 7, 7, 3, 11, 7, 0, 1, 3, 3, 7, 0, 1, 0, 7, 7, 1, 7, 0, 3, 7, 9, 7, 0, 8, 11, 0, 0, 7, 8, 0, 7, 7, 9, 3, 7, 7, 3, 2, 7, 0, 7, 7, 7, 11, 7, 7, 7, 1, 7, 9, 7, 7, 0, 7, 7, 2, 11, 7, 4, 7, 7, 2, 0, 7, 10, 8, 11, 9, 3, 2, 7, 7, 7, 7, 7, 2, 3, 10, 7, 7, 7, 7, 1, 11, 11, 2, 1, 3, 7, 7, 7, 9, 7, 9, 7, 1, 7, 8, 7, 0, 7, 7, 7, 7, 7, 7, 10, 7, 7, 7, 6, 7, 7, 3, 10, 7, 0, 7, 7, 8, 7, 1, 7, 11, 7, 11, 7, 7, 7, 7, 7, 3, 1, 7, 8, 11, 7, 7, 7, 1, 11, 10, 9, 2, 2, 8, 11, 8, 7, 0, 7, 2, 7, 8, 6, 0, 1, 7, 7, 7, 7, 8, 7, 7, 2, 7, 11, 2, 7, 5, 6, 7, 7, 7, 0, 9, 7, 2, 3, 7, 7, 3, 7, 7, 7, 7, 1, 11, 3, 9, 7, 7, 3, 7, 7, 7, 7, 7, 7, 7, 7, 0, 3, 11, 7, 11, 1, 7, 7, 7, 11, 1, 7, 0, 8, 1, 3, 3, 7, 7, 9, 7, 7, 7, 7, 2, 8, 7, 7, 7, 7, 0, 7, 0, 5, 7, 3, 7, 7, 1, 7, 0, 7, 7, 9, 7, 3, 0, 3, 7, 8, 7, 3, 7, 1, 7, 1, 7, 0, 7, 3, 7, 7, 7, 5, 1, 5, 9, 7, 0, 9, 3, 3, 11, 3, 9, 7, 0, 7, 1, 7, 7, 3, 7, 7, 7, 7, 0, 1, 1, 7, 7, 7, 7, 7, 2, 0, 7, 7, 11, 7, 7, 0, 7, 0, 7, 7, 7, 5, 7, 11, 1, 7, 1, 3, 7, 2, 7, 7, 7, 8, 7, 7, 8, 1, 11, 0, 1, 7, 7, 7, 7, 1, 7, 1, 7, 2, 11, 7, 7, 3, 7, 7, 3, 2, 7, 5, 2, 1, 7, 7, 1, 1, 9, 8, 2, 7, 3, 7, 0, 11, 0, 7, 8, 3, 7, 3, 7, 7, 9, 7, 7, 11, 7, 3, 7, 1, 11, 7, 7, 7, 7, 0, 7, 7, 3, 7, 7, 7, 0, 7, 7, 7, 7, 4, 7, 8, 7, 7, 7, 7, 7, 2, 7, 7, 2, 7, 7, 2, 7, 9, 7, 1, 7, 0, 7, 7, 3, 0, 7, 7, 0, 9, 7, 4, 3, 7, 10, 9, 7, 7, 0, 9, 8, 7, 3, 7, 7, 7, 7, 7, 8, 3, 9, 7, 7, 7, 7, 0, 7, 7, 7, 11, 4, 7, 9, 11, 7, 7, 7, 0, 7, 3, 7, 7, 7, 7, 1, 8, 7, 7, 5, 7, 0, 7, 1, 7, 11, 3, 4, 11, 0, 7, 7, 1, 7, 0, 6, 3, 8, 7, 2, 11, 7, 0, 0, 8, 7, 7, 3, 7, 7, 1, 11, 11, 0, 1, 5, 7, 2, 7, 9, 11, 7, 7, 11, 7, 7, 7, 7, 7, 9, 7, 7, 3, 5, 7, 0, 3, 3, 0, 3, 7, 7, 9, 7, 11, 0, 1, 3, 11, 0, 8, 7, 7, 0, 0, 3, 9, 3, 7, 11, 2, 1, 7, 7, 7, 1, 7, 3, 7, 7, 9, 7, 8, 11, 7, 7, 3, 0, 9, 7, 7, 8, 7, 11, 8, 0, 2, 2, 7, 2, 0, 7, 11, 11, 2, 7, 2, 2, 7, 0, 0, 2, 7, 7, 10, 4, 1, 7, 7, 11, 7, 0, 0, 7, 7, 9, 0, 7, 0, 7, 0, 0, 11, 0, 11, 3, 7, 11, 7, 0, 7, 7, 3, 6, 7, 7, 9, 7, 0, 7, 7, 9, 7, 7, 11, 7, 11, 7, 10, 7, 7, 7, 3, 7, 3, 7, 11, 7, 9, 7, 7, 7, 7, 6, 7, 3, 3, 3, 7, 0, 7, 9, 7, 3, 2, 7, 7, 0, 7, 3, 7, 2, 11, 7, 7, 7, 7, 7, 9, 11, 0, 7, 7, 7, 7, 8, 7, 9, 6, 11, 7, 7, 7, 11, 7, 1, 7, 3, 7, 1, 9, 7, 7, 7, 7, 7, 9, 7, 7, 8, 7, 7, 0, 7, 9, 1, 7, 7, 3, 7, 7, 0, 8, 3, 7, 2, 7, 0, 7, 7, 7, 7, 11, 9, 7, 7, 11, 9, 7, 11, 7, 7, 9, 0, 3, 7, 7, 6, 7, 7, 0, 1, 7, 9, 1, 7, 1, 7, 3, 3, 7, 2, 11, 7, 5, 7, 7, 9, 1, 7, 7, 5, 9, 3, 9, 3, 7, 0, 7, 11, 11, 7, 2, 1, 7, 7, 3, 2, 7, 7, 7, 3, 7, 1, 7, 7, 3, 4, 0, 5, 1, 2, 7, 3, 1, 0, 7, 11, 8, 3, 0, 7, 7, 11, 7, 2, 0, 7, 9, 3, 0, 3, 8, 3, 7, 5, 1, 0, 7, 2, 7, 7, 0, 7, 0, 2, 7, 3, 1, 7, 0, 7, 9, 3, 0, 7, 7, 11, 7, 3, 7, 7, 7, 1, 3, 7, 6, 11, 1, 9, 9, 9, 7, 7, 1, 0, 7, 3, 7, 7, 2, 7, 11, 9, 7, 7, 7, 3, 3, 2, 11, 3, 7, 8, 3, 0, 0, 5, 11, 0, 7, 7, 7, 7, 0, 7, 7, 9, 7, 9, 1, 7, 8, 7, 7, 7, 7, 0, 3, 9, 11, 9, 2, 1, 7, 8, 3, 2, 7, 1, 11, 6, 7, 7, 9, 7, 7, 11, 9, 7, 3, 3, 3, 3, 7, 5, 7, 0, 2, 7, 8, 9, 3, 7, 11, 8, 3, 7, 0, 7, 7, 7, 3, 7, 0, 3, 7, 9, 3, 2, 4, 7, 7, 7, 7, 7, 9, 8, 8, 7, 1, 7, 7, 7, 7, 1, 2, 7, 7, 7, 7, 7, 5, 10, 1, 7, 11, 11, 7, 1, 7, 9, 7, 10, 4, 3, 3, 7, 2, 7, 7, 0, 7, 7, 7, 7, 2, 7, 1, 7, 7, 7, 3, 7, 8, 1, 3, 1, 8, 2, 9, 9, 7, 7, 11, 3, 7, 0, 11, 0, 7, 9, 3, 7, 11, 7, 7, 11, 0, 3, 7, 7, 5, 11, 7, 7, 7, 7, 7, 7, 1, 8, 11, 7, 7, 7, 3, 7, 7, 0, 7, 0, 3, 7, 7, 7, 9, 7, 10, 1, 7, 7, 11, 9, 7, 7, 7, 7, 0, 7, 7, 2, 0, 0, 7, 7, 1, 3, 0, 9, 11, 3, 2, 7, 2, 9, 3, 3, 7, 7, 7, 9, 7, 7, 7, 7, 7, 2, 11, 11, 7, 7, 7, 3, 5, 1, 9, 7, 2, 7, 0, 7, 9, 1, 11, 7, 0, 7, 7, 0, 7, 7, 3, 7, 0, 3, 7, 7, 7, 7, 7, 2, 7, 9, 2, 9, 7, 7, 3, 1, 7, 2, 9, 0, 2, 7, 7, 7, 7, 2, 7, 7, 7, 5, 7, 7, 7, 7, 7, 1, 7, 0, 7, 10, 11, 7, 7, 11, 6, 7, 9, 1, 11, 7, 7, 8, 3, 7, 2, 7, 3, 7, 3, 7, 7, 7, 7, 4, 11, 7, 9, 2, 0, 7, 7, 11, 0, 7, 2, 9, 0, 0, 10, 8, 7, 1, 7, 7, 7, 11, 7, 0, 11, 7, 9, 1, 4, 7, 2, 7, 2, 3, 7, 11, 9, 2, 7, 7, 1, 7, 7, 7, 0, 11, 10, 7, 7, 11, 2, 7, 3, 7, 7, 2, 9, 7, 9, 7, 3, 7, 11, 3, 3, 7, 7, 10, 3, 0, 7, 7, 8, 3, 9, 11, 9, 0, 7, 6, 11, 8, 10, 1, 3, 7, 11, 7, 7, 7, 9, 2, 7, 7, 11, 8, 1, 7, 6, 9, 7, 0, 3, 3, 3, 0, 7, 7, 7, 1, 7, 3, 2, 7, 7, 7, 7, 9, 7, 2, 7, 7, 8, 3, 7, 10, 0, 7, 1, 7, 0, 7, 3, 7, 9, 7, 1, 0, 7, 7, 1, 7, 7, 7, 11, 11, 4, 0, 9, 3, 7, 7, 7, 7, 7, 7, 7, 11, 3, 9, 7, 4, 2, 3, 11, 3, 9, 7, 7, 1, 7, 1, 7, 7, 7, 0, 3, 7, 9, 7, 7, 0, 7, 3, 10, 7, 7, 0, 7, 9, 0, 7, 11, 9, 3, 7, 7, 7, 7, 7, 9, 8, 6, 7, 8, 7, 7, 11, 6, 0, 7, 7, 9, 7, 7, 7, 8, 7, 0, 8, 8, 11, 7, 7, 7, 7, 7, 7, 7, 7, 7, 11, 3, 7, 9, 6, 0, 7, 7, 7, 7, 7, 0, 7, 7, 3, 7, 7, 11, 9, 11, 7, 7, 3, 7, 11, 7, 9, 3, 8, 6, 7, 7, 7, 11, 7, 7, 7, 7, 7, 7, 7, 11, 7, 8, 11, 7, 8, 0, 5, 8, 7, 6, 7, 7, 7, 11, 0, 7, 11, 11, 4, 11, 7, 7, 9, 7, 7, 7, 7, 7, 7, 11, 7, 7, 7, 7, 4, 3, 7, 0, 7, 0, 1, 11, 1, 10, 1, 2, 0, 7, 0, 1, 1, 7, 0, 11, 7, 1, 7, 2, 3, 7, 7, 7, 7, 11, 1, 0, 7, 3, 3, 7, 7, 7, 1, 7, 11, 7, 7, 7, 7, 9, 2, 7, 5, 7, 0, 5, 11, 7, 11, 0, 7, 7, 5, 11, 3, 7, 7, 7, 7, 0, 7, 7, 11, 7, 11, 7, 4, 7, 9, 7, 7, 7, 11, 7, 7, 7, 7, 11, 2, 7, 2, 11, 7, 7, 7, 7, 7, 7, 2, 7, 1, 7, 4, 7, 7, 7, 7, 9, 2, 11, 7, 7, 0, 7, 7, 8, 7, 7, 7, 11, 0, 7, 7, 8, 7, 8, 7, 0, 1, 1, 8, 2, 7, 7, 7, 8, 1, 7, 8, 11, 8, 1, 2, 7, 3, 0, 1, 2, 3, 1, 0, 9, 5, 0, 0, 5, 7, 11, 1, 7, 2, 7, 3, 0, 7, 7, 7, 11, 3, 2, 9, 4, 0, 7, 7, 7, 1, 11, 6, 11, 7, 2, 3, 3, 11, 0, 7, 7, 11, 9, 7, 7, 7, 8, 11, 7, 3, 7, 1, 7, 7, 0, 7, 6, 11, 7, 7, 0, 9, 7, 11, 7, 2, 7, 7, 3, 7, 1, 7, 7, 0, 7, 7, 7, 0, 0, 7, 7, 7, 7, 3, 1, 7, 7, 8, 7, 7, 7, 7, 7, 9, 8, 9, 7, 3, 8, 7, 0, 7, 3, 9, 7, 7, 7, 11, 7, 7, 3, 4, 7, 6, 7, 9, 7, 7, 7, 0, 7, 11, 7, 7, 7, 7, 2, 5, 7, 7, 0, 8, 11, 7, 7, 0, 7, 6, 7, 7, 2, 1, 7, 2, 7, 11, 0, 11, 7, 8, 1, 0, 8, 2, 7, 11, 3, 11, 2, 11, 11, 2, 7, 11, 3, 7, 7, 5, 7, 11, 7, 7, 7, 11, 8, 11, 7, 1, 0, 0, 3, 9, 7, 11, 3, 7, 7, 7, 7, 3, 7, 7, 7, 7, 9, 7, 7, 5, 7, 0, 7, 7, 7, 2, 11, 7, 7, 7, 2, 11, 9, 7, 7, 0, 11, 7, 7, 2, 7, 7, 9, 6, 7, 7, 1, 0, 0, 7, 7, 0, 11, 11, 7, 7, 7, 10, 7, 7, 11, 9, 11, 7, 9, 11, 7, 7, 7, 7, 7, 7, 7, 7, 7, 3, 7, 1, 8, 7, 0, 3, 3, 3, 7, 10, 7, 3, 6, 1, 11, 2, 7, 7, 0, 7, 7, 3, 7, 0, 7, 7, 9, 7, 7, 3, 1, 3, 10, 2, 7, 5, 7, 7, 3, 0, 9, 11, 11, 7, 8, 7, 0, 2, 7, 7, 8, 7, 4, 3, 0, 10, 2, 5, 7, 5, 11, 7, 7, 11, 2, 7, 7, 2, 0, 7, 7, 7, 0, 11, 6, 2, 7, 11, 0, 7, 7, 3, 7, 7, 7, 9, 7, 7, 7, 7, 8, 7, 0, 3, 3, 4, 11, 0, 7, 0, 1, 7, 7, 7, 7, 3, 7, 7, 11, 7, 11, 11, 2, 7, 7, 1, 7, 9, 11, 7, 0, 7, 1, 0, 7, 7, 1, 3, 7, 7, 7, 7, 1, 7, 7, 7, 7, 7, 7, 7, 3, 8, 0, 0, 11, 7, 7, 7, 7, 7, 7, 0, 0, 7, 7, 7, 7, 7, 1, 1, 7, 7, 9, 10, 0, 7, 7, 11, 7, 7, 7, 2, 7, 7, 7, 9, 7, 1, 7, 7, 7, 3, 8, 10, 7, 6, 7, 7, 1, 7, 1, 3, 3, 7, 8, 7, 7, 9, 3, 7, 7, 0, 7, 0, 2, 7, 7, 7, 7, 7, 7, 7, 9, 0, 1, 7, 7, 9, 9, 7, 0, 3, 0, 7, 11, 0, 0, 9, 2, 7, 11, 3, 7, 2, 7, 7, 5, 7, 7, 0, 0, 11, 0, 7, 7, 7, 7, 7, 7, 0, 6, 9, 7, 7, 2, 7, 9, 7, 0, 10, 0, 7, 7, 7, 7, 7, 7, 2, 0, 7, 1, 1, 0, 1, 9, 1, 7, 9, 7, 3, 11, 9, 7, 11, 7, 0, 1, 0, 7, 8, 2, 3, 7, 7, 7, 0, 9, 7, 11, 1, 7, 7, 7, 9, 9, 7, 3, 8, 7, 7, 11, 9, 7, 0, 7, 7, 8, 7, 10, 0, 7, 6, 8, 3, 6, 7, 7, 7, 7, 3, 7, 7, 3, 7, 7, 7, 7, 11, 0, 7, 7, 7, 6, 2, 7, 10, 0, 11, 7, 7, 1, 7, 3, 3, 5, 9, 3, 8, 11, 7, 1, 11, 7, 7, 1, 7, 3, 7, 9, 3, 7, 7, 0, 8, 0, 7, 3, 0, 7, 7, 0, 1, 6, 11, 3, 7, 7, 11, 7, 7, 7, 3, 8, 3, 8, 0, 8, 3, 0, 8, 7, 7, 4, 7, 2, 11, 7, 7, 7, 7, 8, 5, 11, 3, 7, 7, 1, 7, 8, 7, 7, 7, 7, 7, 1, 11, 7, 7, 7, 7, 7, 7, 0, 7, 7, 9, 9, 6, 7, 7, 7, 7, 7, 11, 11, 11, 4, 7, 7, 3, 7, 8, 9, 7, 7, 7, 7, 11, 7, 7, 6, 11, 7, 7, 7, 7, 0, 7, 1, 3, 7, 7, 3, 7, 7, 10, 3, 7, 11, 7, 7, 10, 11, 0, 0, 3, 7, 2, 1, 8, 7, 5, 7, 9, 7, 7, 7, 0, 7, 7, 8, 10, 9, 7, 9, 0, 8, 7, 4, 7, 11, 7, 7, 7, 7, 7, 2, 0, 7, 7, 3, 7, 7, 7, 7, 3, 1, 0, 7, 7, 7, 1, 7, 7, 3, 11, 7, 0, 3, 1, 3, 7, 7, 11, 10, 2, 9, 7, 0, 7, 7, 8, 7, 7, 2, 1, 0, 8, 7, 7, 2, 1, 7, 7, 7, 7, 1, 0, 5, 1, 0, 7, 0, 3, 0, 7, 1, 0, 7, 7, 8, 1, 10, 7, 7, 3, 7, 2, 7, 7, 7, 7, 8, 7, 7, 7, 7, 2, 1, 9, 9, 7, 2, 7, 0, 7, 1, 7, 9, 7, 2, 8, 7, 2, 0, 11, 3, 8, 7, 7, 9, 0, 7, 2, 7, 7, 11, 7, 7, 0, 7, 7, 2, 7, 5, 7, 7, 1, 9, 7, 7, 11, 5, 0, 3, 7, 8, 11, 7, 7, 7, 2, 2, 9, 7, 1, 0, 7, 7, 7, 0, 7, 7, 7, 7, 7, 0, 5, 2, 3, 8, 7, 1, 7, 7, 9, 7, 0, 0, 11, 7, 7, 7, 2, 8, 1, 7, 7, 7, 7, 1, 7, 11, 7, 6, 0, 3, 1, 7, 2, 7, 7, 7, 7, 2, 7, 7, 1, 7, 7, 2, 7, 7, 4, 7, 7, 7, 7, 7, 5, 1, 7, 9, 5, 7, 7, 7, 9, 7, 7, 2, 3, 7, 11, 7, 7, 7, 7, 1, 3, 7, 7, 7, 0, 0, 8, 0, 11, 3, 7, 0, 7, 8, 8, 11, 0, 2, 7, 7, 7, 8, 11, 11, 1, 7, 1, 7, 1, 2, 3, 3, 7, 7, 0, 10, 2, 7, 7, 11, 6, 7, 7, 7, 11, 7, 0, 7, 1, 0, 7, 6, 4, 11, 3, 3, 7, 7, 7, 7, 7, 7, 11, 8, 9, 2, 7, 7, 0, 9, 9, 7, 11, 9, 2, 7, 7, 11, 0, 11, 7, 7, 0, 0, 2, 7, 9, 3, 7, 1, 7, 7, 8, 11, 0, 7, 11, 7, 1, 2, 7, 7, 3, 7, 3, 7, 3, 8, 1, 9, 3, 8, 7, 7, 0, 9, 0, 3, 9, 7, 7, 7, 7, 7, 2, 2, 7, 8, 8, 11, 9, 3, 7, 0, 8, 7, 1, 2, 9, 6, 7, 7, 7, 3, 2, 7, 7, 10, 2, 8, 7, 11, 7, 7, 7, 7, 7, 0, 7, 11, 7, 7, 7, 11, 3, 8, 0, 7, 7, 2, 7, 7, 7, 7, 7, 7, 7, 7, 1, 7, 7, 7, 10, 7, 3, 7, 7, 9, 3, 7, 0, 7, 4, 7, 7, 0, 7, 0, 11, 11, 0, 2, 6, 0, 7, 7, 8, 7, 9, 1, 0, 5, 7, 9, 7, 7, 0, 7, 3, 7, 0, 1, 0, 3, 7, 0, 7, 7, 7, 0, 4, 7, 7, 9, 0, 7, 0, 7, 7, 7, 2, 7, 9, 7, 7, 7, 11, 7, 7, 7, 7, 11, 7, 7, 7, 3, 7, 0, 3, 7, 1, 8, 11, 1, 1, 7, 7, 7, 7, 7, 3, 7, 3, 7, 7, 7, 7, 9, 7, 7, 7, 1, 0, 1, 11, 3, 7, 9, 7, 7, 7, 5, 11, 1, 7, 3, 7, 7, 9, 11, 7, 7, 1, 1, 7, 7, 9, 5, 3, 0, 9, 7, 0, 5, 7, 7, 9, 9, 8, 2, 7, 10, 7, 7, 3, 7, 7, 7, 7, 7, 1, 9, 7, 7, 7, 1, 7, 7, 7, 3, 7, 0, 7, 7, 7, 1, 3, 7, 7, 7, 9, 7, 3, 9, 7, 0, 7, 9, 11, 11, 11, 7, 7, 7, 7, 7, 8, 7, 1, 3, 3, 11, 2, 11, 5, 0, 7, 11, 7, 7, 7, 0, 11, 7, 8, 3, 7, 7, 7, 8, 1, 7, 7, 2, 7, 7, 3, 7, 7, 7, 2, 2, 0, 11, 7, 7, 8, 7, 0, 3, 7, 7, 3, 7, 2, 7, 7, 3, 7, 9, 7, 7, 10, 8, 7, 3, 7, 8, 7, 11, 0, 9, 0, 1, 0, 7, 3, 7, 7, 7, 1, 3, 2, 0, 7, 7, 10, 9, 9, 2, 1, 7, 7, 3, 11, 1, 7, 7, 7, 7, 7, 5, 7, 1, 7, 7, 7, 8, 7, 0, 3, 0, 9, 7, 7, 8, 1, 7, 11, 7, 11, 7, 1, 7, 9, 7, 0, 0, 7, 7, 7, 0, 1, 7, 7, 0, 7, 1, 0, 2, 7, 7, 3, 5, 7, 7, 9, 7, 7, 7, 0, 7, 7, 8, 0, 9, 0, 9, 0, 7, 7, 11, 9, 7, 7, 7, 7, 7, 11, 0, 7, 8, 11, 1, 0, 7, 7, 7, 7, 7, 0, 7, 11, 2, 7, 1, 0, 2, 0, 7, 0, 7, 7, 7, 7, 7, 7, 7, 6, 7, 7, 7, 3, 11, 4, 3, 7, 1, 1, 7, 3, 7, 7, 7, 11, 7, 7, 9, 7, 8, 7, 0, 7, 6, 11, 11, 1, 3, 7, 2, 2, 7, 1, 1, 7, 7, 7, 7, 0, 7, 7, 7, 7, 3, 0, 2, 9, 7, 2, 2, 11, 11, 0, 6, 7, 11, 7, 7, 7, 0, 11, 7, 7, 0, 7, 7, 1, 7, 7, 7, 11, 7, 11, 7, 7, 4, 7, 7, 1, 6, 5, 7, 3, 7, 10, 3, 1, 1, 7, 9, 7, 7, 7, 1, 7, 7, 7, 7, 9, 7, 7, 3, 3, 11, 7, 1, 2, 7, 0, 7, 0, 7, 11, 7, 11, 0, 7, 3, 8, 7, 7, 11, 3, 11, 9, 9, 7, 9, 11, 6, 7, 9, 7, 7, 7, 1, 0, 9, 7, 11, 7, 7, 3, 7, 7, 7, 7, 0, 7, 0, 7, 7, 7, 8, 7, 7, 5, 9, 9, 7, 7, 7, 7, 9, 7, 7, 11, 1, 7, 7, 7, 7, 1, 7, 7, 7, 7, 7, 3, 7, 7, 1, 1, 7, 7, 7, 7, 7, 7, 11, 7, 7, 7, 7, 11, 7, 9, 0, 7, 6, 7, 7, 7, 7, 9, 8, 7, 11, 7, 7, 7, 7, 11, 7, 1, 2, 3, 7, 6, 7, 7, 7, 7, 7, 7, 7, 0, 5, 0, 8, 7, 7, 11, 0, 7, 1, 0, 10, 7, 3, 7, 7, 1, 7, 7, 7, 7, 3, 7, 8, 7, 7, 7, 7, 7, 0, 7, 7, 7, 9, 11, 7, 1, 7, 0, 7, 8, 1, 2, 7, 7, 8, 7, 7, 11, 11, 8, 7, 11, 7, 7, 7, 7, 7, 7, 3, 0, 7, 0, 7, 7, 8, 7, 0, 9, 7, 11, 7, 3, 9, 2, 11, 7, 7, 9, 7, 7, 11, 7, 7, 7, 1, 7, 7, 0, 5, 5, 1, 11, 0, 0, 1, 7, 8, 7, 3, 11, 3, 0, 9, 7, 7, 8, 7, 7, 9, 11, 11, 7, 7, 7, 11, 3, 7, 0, 5, 11, 3, 7, 7, 7, 9, 7, 7, 7, 7, 7, 8, 7, 2, 1, 11, 7, 1, 9, 7, 7, 11, 7, 7, 7, 7, 11, 7, 7, 7, 0, 7, 7, 8, 7, 7, 7, 11, 3, 7, 7, 7, 11, 0, 3, 3, 9, 7, 3, 0, 11, 0, 3, 4, 1, 1, 2, 7, 7, 7, 7, 7, 8, 7, 8, 7, 1, 8, 2, 7, 7, 7, 0, 7, 7, 7, 7, 7, 8, 1, 11, 4, 0, 6, 7, 7, 2, 11, 7, 7, 7, 7, 7, 0, 7, 7, 7, 0, 7, 7, 11, 7, 7, 7, 11, 7, 0, 3, 7, 7, 8, 7, 0, 9, 2, 7, 7, 11, 0, 3, 8, 7, 7, 2, 9, 7, 7, 7, 7, 1, 0, 0, 7, 7, 7, 7, 9, 1, 7, 0, 8, 11, 7, 7, 7, 7, 7, 7, 1, 9, 0, 0, 7, 7, 7, 6, 3, 11, 3, 2, 4, 7, 2, 3, 7, 2, 9, 7, 8, 0, 7, 3, 7, 7, 11, 7, 9, 9, 10, 7, 7, 11, 8, 1, 11, 7, 7, 7, 9, 9, 3, 7, 7, 7, 7, 1, 7, 7, 1, 7, 7, 7, 11, 7, 7, 2, 3, 0, 7, 11, 7, 11, 7, 7, 11, 7, 11, 7, 7, 0, 2, 7, 1, 8, 7, 11, 11, 7, 3, 0, 0, 10, 3, 7, 9, 7, 11, 0, 11, 7, 7, 1, 7, 11, 8, 7, 6, 7, 9, 8, 0, 11, 7, 7, 8, 0, 7, 9, 3, 7, 11, 7, 7, 7, 3, 7, 7, 1, 0, 7, 11, 11, 7, 0, 7, 7, 3, 11, 5, 0, 11, 9, 7, 7, 2, 11, 7, 3, 7, 11, 3, 8, 1, 7, 7, 7, 7, 3, 11, 7, 7, 7, 7, 7, 7, 7, 7, 11, 7, 7, 7, 7, 3, 5, 9, 11, 7, 8, 7, 7, 4, 2, 2, 7, 7, 7, 7, 0, 7, 7, 7, 11, 7, 3, 7, 7, 7, 7, 7, 7, 7, 3, 9, 7, 8, 1, 7, 7, 7, 1, 6, 10, 8, 7, 7, 7, 3, 7, 7, 3, 7, 7, 0, 7, 11, 7, 11, 1, 7, 7, 0, 1, 7, 7, 1, 4, 3, 1, 7, 7, 7, 11, 0, 7, 7, 7, 0, 11, 1, 7, 7, 11, 9, 11, 2, 1, 6, 4, 7, 6, 7, 11, 7, 10, 1, 0, 0, 0, 7, 11, 7, 1, 7, 2, 9, 3, 7, 3, 1, 1, 7, 7, 3, 7, 7, 0, 3, 7, 7, 8, 1, 11, 3, 4, 3, 7, 3, 7, 7, 7, 11, 7, 11, 2, 1, 7, 1, 7, 0, 7, 11, 7, 7, 2, 7, 7, 8, 0, 7, 9, 8, 7, 7, 6, 7, 3, 1, 7, 7, 7, 7, 0, 3, 1, 7, 1, 7, 9, 7, 1, 7, 7, 2, 7, 10, 7, 7, 7, 3, 7, 0, 7, 7, 7, 0, 7, 5, 0, 8, 7, 0, 7, 7, 7, 7, 7, 2, 8, 7, 7, 2, 3, 7, 7, 2, 11, 7, 7, 3, 1, 4, 3, 7, 11, 7, 7, 7, 7, 7, 7, 7, 7, 7, 0, 1, 7, 0, 5, 3, 5, 10, 2, 7, 0, 3, 11, 7, 11, 3, 7, 3, 7, 7, 1, 2, 9, 11, 10, 3, 7, 1, 7, 7, 7, 7, 7, 9, 7, 7, 10, 7, 7, 7, 0, 7, 7, 2, 7, 7, 9, 7, 7, 7, 3, 7, 7, 7, 5, 7, 2, 0, 7, 11, 7, 0, 7, 7, 5, 7, 7, 7, 9, 7, 9, 2, 7, 7, 7, 1, 11, 7, 3, 11, 2, 7, 8, 0, 9, 7, 7, 7, 3, 7, 0, 2, 9, 7, 7, 3, 2, 7, 7, 7, 7, 7, 11, 11, 0, 0, 7, 7, 7, 1, 7, 7, 6, 7, 7, 0, 3, 11, 11, 7, 7, 7, 7, 7, 7, 7, 7, 7, 3, 7, 7, 7, 7, 7, 1, 10, 7, 7, 7, 8, 11, 7, 3, 1, 7, 3, 11, 7, 7, 7, 7, 7, 7, 10, 7, 0, 2, 7, 9, 7, 7, 7, 7, 0, 2, 7, 7, 7, 1, 4, 7, 7, 1, 9, 7, 7, 7, 3, 7, 3, 7, 7, 7, 7, 3, 1, 1, 7, 7, 7, 2, 7, 7, 6, 9, 3, 7, 7, 9, 7, 7, 7, 2, 3, 7, 3, 11, 7, 0, 7, 7, 11, 7, 11, 7, 7, 2, 7, 7, 3, 6, 2, 8, 7, 7, 1, 1, 1, 7, 7, 10, 7, 7, 7, 7, 0, 1, 8, 4, 11, 0, 7, 9, 2, 7, 9, 0, 2, 7, 8, 7, 7, 7, 7, 8, 9, 7, 3, 0, 7, 7, 1, 7, 0, 1, 7, 7, 7, 7, 4, 1, 1, 7, 7, 3, 7, 7, 7, 7, 7, 6, 7, 7, 1, 7, 7, 2, 7, 2, 7, 7, 2, 4, 3, 10, 11, 7, 7, 11, 7, 9, 7, 3, 2, 7, 7, 8, 7, 7, 0, 8, 8, 7, 6, 5, 11, 7, 7, 9, 0, 7, 7, 8, 7, 8, 9, 0, 2, 8, 3, 7, 11, 7, 3, 7, 9, 7, 5, 7, 3, 7, 7, 0, 0, 11, 7, 9, 7, 7, 7, 8, 7, 7, 7, 3, 7, 7, 7, 7, 7, 7, 1, 7, 8, 0, 7, 2, 7, 11, 7, 0, 7, 2, 1, 7, 7, 7, 7, 7, 3, 11, 7, 7, 11, 7, 7, 7, 7, 3, 9, 11, 3, 2, 8, 7, 7, 11, 0, 0, 7, 7, 7, 7, 7, 7, 7, 1, 7, 7, 11, 2, 11, 7, 11, 7, 7, 1, 7, 2, 0, 7, 8, 0, 0, 1, 11, 7, 3, 8, 0, 2, 7, 2, 7, 1, 7, 8, 7, 7, 7, 9, 7, 2, 0, 7, 7, 11, 0, 11, 7, 7, 7, 3, 9, 7, 1, 8, 2, 7, 1, 7, 7, 7, 7, 9, 7, 7, 9, 7, 7, 7, 1, 3, 7, 7, 7, 7, 7, 0, 9, 3, 3, 7, 11, 3, 7, 0, 11, 7, 11, 7, 7, 7, 8, 0, 7, 7, 11, 7, 2, 1, 3, 0, 7, 0, 7, 11, 7, 2, 11, 7, 7, 7, 7, 5, 7, 11, 7, 1, 8, 3, 7, 1, 7, 7, 7, 7, 3, 11, 7, 1, 3, 6, 11, 7, 7, 9, 0, 7, 7, 6, 9, 7, 7, 10, 3, 7, 7, 7, 7, 11, 7, 2, 7, 3, 7, 7, 7, 7, 3, 7, 8, 4, 1, 7, 7, 8, 7, 1, 9, 1, 7, 7, 7, 11, 7, 7, 7, 2, 7, 1, 7, 8, 1, 7, 11, 11, 9, 7, 7, 7, 7, 7, 0, 7, 9, 6, 7, 7, 7, 8, 7, 3, 7, 8, 9, 11, 7, 7, 7, 7, 7, 5, 7, 7, 9, 7, 7, 7, 3, 7, 9, 7, 10, 3, 0, 7, 7, 0, 7, 0, 0, 3, 7, 7, 1, 7, 10, 7, 7, 0, 7, 7, 0, 9, 7, 0, 7, 7, 7, 11, 0, 7, 9, 7, 6, 3, 3, 7, 7, 7, 7, 8, 7, 2, 8, 7, 7, 0, 1, 7, 7, 1, 11, 7, 7, 7, 7, 2, 8, 2, 3, 3, 7, 7, 3, 11, 7, 7, 0, 1, 7, 3, 7, 7, 8, 7, 7, 0, 0, 7, 1, 0, 7, 7, 7, 7, 7, 7, 2, 7, 2, 0, 3, 11, 0, 0, 3, 2, 7, 7, 11, 7, 7, 7, 2, 7, 0, 7, 0, 3, 2, 7, 7, 0, 7, 11, 11, 0, 7, 7, 7, 8, 0, 7, 7, 7, 7, 1, 7, 2, 7, 7, 7, 7, 1, 7, 3, 2, 7, 7, 8, 0, 1, 0, 11, 7, 11, 1, 10, 8, 7, 2, 7, 0, 7, 7, 7, 1, 2, 7, 7, 0, 7, 3, 2, 3, 1, 7, 7, 7, 1, 9, 7, 0, 3, 7, 7, 7, 7, 7, 7, 8, 7, 3, 0, 7, 3, 0, 7, 4, 7, 0, 7, 7, 1, 7, 7, 7, 3, 7, 11, 7, 10, 6, 0, 7, 7, 7, 7, 11, 7, 9, 7, 3, 7, 7, 7, 7, 7, 8, 6, 7, 7, 7, 7, 7, 3, 7, 7, 9, 3, 11, 2, 7, 7, 7, 11, 7, 8, 11, 9, 10, 7, 11, 0, 7, 0, 8, 7, 7, 7, 7, 7, 7, 7, 7, 7, 7, 8, 0, 7, 9, 7, 7, 2, 0, 8, 7, 8, 0, 7, 1, 8, 0, 8, 1, 2, 7, 7, 1, 7, 7, 7, 7, 9, 7, 0, 9, 1, 7, 7, 7, 1, 5, 7, 7, 7, 3, 7, 0, 6, 7, 3, 7, 7, 7, 7, 11, 8, 11, 2, 7, 7, 7, 7, 7, 7, 3, 7, 2, 8, 7, 1, 2, 2, 7, 7, 7, 7, 7, 2, 7, 7, 3, 1, 1, 0, 1, 7, 11, 2, 0, 7, 7, 2, 4, 9, 7, 2, 7, 1, 7, 7, 3, 7, 3, 7, 7, 8, 7, 0, 7, 11, 9, 2, 8, 1, 7, 7, 7, 7, 7, 11, 11, 3, 11, 5, 0, 7, 7, 0, 1, 0, 8, 11, 7, 7, 7, 7, 1, 7, 3, 7, 7, 7, 7, 7, 7, 7, 8, 7, 3, 7, 7, 3, 9, 11, 1, 7, 7, 0, 6, 0, 7, 0, 5, 5, 7, 11, 2, 7, 7, 2, 11, 4, 3, 7, 0, 7, 7, 7, 7, 7, 7, 9, 8, 7, 11, 7, 7, 7, 7, 11, 7, 11, 7, 3, 1, 7, 9, 7, 9, 7, 3, 1, 3, 7, 7, 7, 1, 0, 2, 7, 7, 7, 3, 0, 7, 10, 7, 0, 7, 11, 7, 0, 8, 0, 0, 7, 0, 7, 7, 7, 7, 7, 9, 11, 3, 7, 0, 0, 7, 4, 11, 7, 7, 11, 2, 7, 7, 9, 8, 7, 11, 11, 7, 0, 2, 1, 7, 7, 0, 7, 7, 11, 1, 7, 7, 3, 7, 1, 1, 7, 7, 7, 1, 7, 3, 3, 11, 7, 7, 11, 10, 7, 7, 1, 7, 0, 11, 8, 0, 9, 7, 8, 7, 7, 9, 0, 8, 11, 7, 7, 1, 3, 9, 7, 7, 7, 3, 1, 7, 3, 11, 7, 7, 2, 0, 7, 0, 7, 7, 7, 7, 7, 3, 3, 11, 8, 7, 11, 7, 7, 0, 0, 7, 7, 0, 7, 1, 7, 0, 7, 11, 7, 3, 7, 9, 7, 7, 7, 7, 7, 7, 7, 2, 7, 7, 7, 7, 7, 11, 0, 7, 7, 3, 7, 8, 9, 7, 7, 7, 7, 1, 7, 7, 7, 7, 9, 3, 0, 0, 3, 11, 7, 7, 9, 7, 1, 7, 7, 8, 7, 9, 7, 2, 0, 3, 1, 0, 7, 7, 11, 7, 7, 7, 7, 2, 7, 9, 0, 2, 7, 5, 2, 8, 0, 7, 0, 7, 0, 8, 7, 7, 7, 7, 3, 0, 11, 2, 7, 7, 0, 7, 3, 7, 7, 11, 7, 0, 3, 3, 7, 9, 4, 7, 7, 7, 7, 7, 8, 2, 7, 7, 7, 7, 1, 2, 7, 7, 11, 1, 7, 7, 7, 0, 0, 11, 7, 7, 0, 7, 5, 7, 7, 7, 7, 0, 2, 7, 7, 7, 1, 1, 7, 5, 7, 9, 7, 0, 7, 7, 3, 7, 7, 7, 0, 11, 1, 7, 11, 9, 7, 7, 7, 7, 7, 7, 7, 7, 7, 8, 7, 7, 0, 9, 10, 7, 7, 0, 7, 11, 7, 2, 1, 7, 7, 11, 7, 7, 7, 0, 7, 7, 0, 9, 7, 7, 7, 11, 4, 9, 7, 7, 7, 7, 7, 6, 2, 3, 8, 9, 7, 11, 7, 0, 7, 2, 0, 7, 7, 11, 7, 7, 7, 7, 8, 2, 7, 9, 7, 7, 7, 0, 7, 7, 3, 11, 7, 0, 2, 7, 2, 7, 1, 7, 7, 7, 0, 7, 9, 7, 11, 7, 1, 7, 0, 7, 7, 7, 7, 7, 7, 0, 0, 2, 5, 2, 7, 7, 1, 11, 7, 7, 7, 0, 7, 7, 0, 11, 3, 11, 7, 9, 2, 7, 7, 9, 7, 8, 7, 7, 0, 7, 2, 7, 7, 11, 0, 11, 0, 4, 7, 7, 0, 11, 7, 7, 7, 7, 0, 8, 4, 10, 7, 0, 7, 2, 7, 1, 0, 1, 7, 7, 7, 5, 7, 7, 7, 7, 0, 11, 11, 2, 1, 8, 7, 7, 2, 7, 7, 7, 7, 7, 7, 7, 7, 7, 7, 11, 2, 11, 7, 1, 11, 7, 8, 11, 7, 8, 7, 7, 7, 9, 1, 0, 2, 8, 7, 7, 3, 7, 8, 7, 7, 11, 7, 7, 9, 7, 7, 7, 7, 9, 7, 7, 7, 1, 7, 7, 3, 1, 7, 7, 10, 7, 2, 11, 1, 8, 7, 3, 7, 7, 7, 7, 11, 7, 9, 7, 7, 2, 0, 3, 7, 7, 7, 7, 7, 4, 0, 7, 7, 7, 11, 7, 7, 7, 0, 7, 7, 0, 7, 2, 1, 7, 3, 7, 10, 7, 7, 3, 7, 7, 7, 6, 1, 7, 3, 7, 11, 7, 11, 3, 2, 10, 11, 7, 9, 7, 11, 5, 8, 7, 7, 0, 7, 3, 7, 7, 1, 8, 7, 9, 2, 7, 7, 3, 9, 8, 7, 2, 7, 7, 7, 8, 1, 3, 6, 7, 7, 7, 7, 7, 11, 9, 2, 4, 9, 1, 2, 7, 7, 7, 5, 9, 7, 7, 7, 7, 1, 7, 11, 1, 11, 7, 7, 7, 3, 7, 3, 7, 7, 0, 8, 7, 2, 1, 11, 7, 9, 3, 1, 3, 2, 7, 8, 7, 9, 7, 10, 2, 11, 11, 7, 7, 0, 10, 1, 1, 7, 7, 7, 1, 7, 7, 1, 7, 7, 3, 7, 1, 8, 7, 3, 1, 7, 7, 7, 7, 9, 7, 7, 7, 7, 11, 7, 7, 10, 8, 7, 7, 1, 7, 3, 11, 11, 7, 7, 0, 3, 3, 7, 0, 7, 8, 7, 7, 4, 7, 7, 7, 2, 6, 0, 7, 7, 7, 7, 11, 3, 7, 1, 7, 3, 7, 11, 7, 10, 7, 7, 3, 7, 1, 7, 11, 7, 1, 1, 8, 1, 7, 8, 7, 7, 7, 7, 11, 7, 7, 7, 5, 0, 7, 0, 7, 0, 7, 7, 3, 7, 6, 7, 11, 7, 3, 5, 2, 1, 7, 7, 7, 7, 7, 7, 7, 7, 3, 5, 7, 11, 2, 0, 11, 7, 7, 7, 7, 7, 2, 7, 7, 7, 9, 7, 1, 7, 7, 7, 8, 3, 3, 8, 0, 0, 3, 7, 9, 7, 9, 11, 7, 11, 11, 7, 7, 7, 0, 7, 7, 9, 11, 7, 11, 0, 7, 10, 7, 8, 8, 7, 0, 1, 2, 7, 7, 7, 7, 7, 1, 7, 11, 7, 7, 2, 8, 7, 7, 7, 0, 7, 3, 7, 8, 7, 7, 0, 7, 7, 3, 7, 7, 7, 8, 7, 3, 7, 7, 3, 2, 2, 7, 0, 7, 7, 8, 3, 7, 11, 11, 7, 5, 7, 8, 7, 1, 7, 7, 7, 7, 11, 7, 11, 0, 3, 9, 8, 7, 7, 7, 7, 0, 8, 7, 1, 7, 7, 10, 11, 7, 3, 7, 7, 7, 7, 7, 6, 7, 9, 1, 7, 7, 2, 7, 9, 9, 7, 7, 2, 7, 1, 7, 7, 2, 7, 7, 3, 1, 0, 1, 7, 7, 7, 3, 11, 11, 7, 7, 7, 8, 11, 1, 5, 6, 3, 0, 11, 7, 7, 7, 11, 7, 7, 7, 7, 3, 8, 7, 7, 9, 11, 7, 7, 7, 7, 7, 7, 7, 7, 7, 3, 7, 0, 2, 9, 7, 7, 7, 7, 1, 7, 6, 3, 11, 7, 11, 7, 7, 7, 7, 2, 1, 7, 7, 7, 1, 7, 7, 0, 7, 7, 11, 7, 7, 8, 7, 7, 7, 1, 9, 7, 1, 7, 3, 11, 0, 7, 9, 7, 7, 1, 7, 7, 7, 0, 7, 7, 9, 0, 0, 0, 2, 0, 1, 8, 1, 7, 7, 7, 11, 1, 7, 1, 9, 7, 3, 7, 0, 1, 7, 0, 0, 7, 7, 7, 0, 1, 8, 11, 7, 2, 7, 7, 7, 7, 7, 11, 7, 0, 0, 7, 9, 7, 6, 7, 4, 7, 7, 2, 11, 1, 7, 7, 11, 8, 7, 3, 7, 6, 2, 7, 7, 7, 10, 7, 9, 3, 11, 7, 0, 0, 9, 4, 2, 2, 7, 7, 2, 0, 7, 11, 3, 7, 2, 7, 11, 3, 3, 7, 11, 2, 7, 1, 1, 3, 7, 7, 7, 0, 7, 7, 7, 7, 3, 3, 7, 8, 7, 8, 7, 7, 2, 0, 7, 7, 7, 0, 7, 2, 7, 7, 7, 7, 1, 7, 0, 9, 0, 7, 0, 0, 7, 8, 7, 3, 7, 8, 3, 3, 7, 7, 7, 7, 1, 7, 0, 11, 3, 7, 7, 3, 11, 7, 0, 9, 7, 8, 0, 0, 9, 5, 7, 3, 1, 7, 11, 7, 7, 3, 7, 9, 3, 2, 7, 7, 0, 7, 7, 7, 7, 9, 7, 7, 7, 11, 11, 7, 7, 1, 9, 7, 7, 7, 7, 0, 0, 11, 0, 0, 7, 11, 10, 7, 3, 7, 7, 6, 11, 8, 0, 1, 7, 11, 7, 8, 1, 7, 7, 7, 7, 7, 11, 2, 7, 7, 0, 7, 2, 7, 7, 0, 7, 9, 0, 7, 7, 7, 11, 7, 7, 8, 7, 1, 7, 0, 7, 11, 7, 7, 7, 7, 0, 7, 1, 7, 1, 7, 0, 0, 7, 9, 7, 11, 7, 7, 2, 7, 1, 9, 7, 2, 11, 8, 8, 8, 3, 7, 7, 3, 0, 7, 11, 7, 1, 2, 11, 7, 7, 7, 7, 7, 7, 7, 11, 7, 7, 11, 7, 7, 7, 7, 2, 7, 7, 7, 7, 7, 7, 7, 7, 7, 8, 4, 0, 7, 7, 3, 7, 7, 9, 7, 0, 3, 7, 7, 7, 0, 7, 7, 7, 7, 1, 7, 7, 2, 0, 9, 0, 2, 3, 7, 10, 0, 11, 0, 9, 3, 7, 7, 7, 0, 7, 7, 7, 7, 1, 5, 0, 7, 7, 7, 7, 3, 7, 2, 7, 1, 7, 7, 0, 7, 0, 2, 9, 7, 9, 7, 9, 7, 1, 7, 0, 7, 11, 11, 7, 7, 7, 7, 7, 8, 3, 6, 7, 3, 7, 0, 7, 7, 7, 1, 11, 9, 1, 0, 7, 7, 7, 4, 7, 7, 0, 7, 7, 11, 7, 11, 2, 7, 3, 1, 3, 7, 7, 7, 8, 3, 6, 7, 7, 2, 7, 11, 7, 7, 7, 11, 2, 7, 7, 7, 9, 2, 11, 7, 11, 7, 8, 7, 7, 3, 7, 7, 7, 7, 8, 9, 7, 1, 7, 3, 7, 7, 11, 7, 11, 7, 7, 7, 1, 7, 7, 3, 7, 11, 2, 7, 3, 7, 7, 7, 3, 7, 0, 8, 7, 0, 7, 7, 1, 7, 7, 7, 7, 7, 9, 2, 7, 0, 7, 6, 7, 7, 0, 1, 1, 5, 7, 7, 7, 11, 7, 8, 7, 1, 11, 7, 7, 7, 11, 0, 9, 7, 7, 7, 7, 7, 7, 9, 7, 11, 7, 6, 7, 9, 0, 7, 2, 9, 7, 7, 7, 1, 7, 7, 7, 7, 7, 7, 7, 2, 7, 0, 7, 7, 7, 11, 7, 7, 7, 2, 11, 7, 8, 7, 10, 1, 7, 7, 7, 7, 7, 7, 7, 7, 4, 5, 7, 0, 7, 7, 8, 7, 3, 9, 9, 7, 7, 0, 7, 7, 7, 8, 7, 11, 8, 8, 7, 8, 7, 7, 9, 7, 0, 8, 3, 11, 2, 7, 11, 1, 7, 7, 7, 7, 11, 7, 7, 0, 7, 6, 7, 7, 7, 7, 0, 1, 0, 8, 7, 3, 3, 2, 11, 7, 7, 11, 7, 7, 1, 1, 7, 7, 3, 7, 7, 8, 7, 7, 0, 8, 7, 5, 7, 7, 1, 3, 0, 7, 3, 7, 2, 11, 7, 0, 1, 11, 1, 1, 7, 7, 7, 7, 7, 7, 7, 7, 3, 7, 7, 7, 7, 8, 9, 7, 1, 7, 3, 0, 1, 7, 11, 2, 0, 7, 3, 7, 7, 3, 7, 0, 11, 0, 9, 3, 7, 0, 7, 7, 5, 7, 7, 7, 7, 8, 7, 0, 7, 7, 11, 9, 7, 3, 7, 7, 6, 7, 9, 9, 5, 0, 11, 7, 1, 7, 9, 7, 7, 1, 7, 7, 7, 7, 7, 2, 7, 11, 7, 7, 0, 4, 7, 7, 7, 7, 7, 3, 3, 7, 7, 3, 7, 3, 7, 7, 7, 7, 8, 0, 0, 11, 7, 7, 7, 0, 6, 7, 3, 11, 9, 7, 7, 1, 7, 3, 7, 3, 7, 0, 7, 2, 7, 7, 7, 7, 2, 1, 1, 3, 3, 7, 7, 7, 7, 7, 1, 3, 7, 9, 2, 1, 7, 1, 7, 7, 7, 9, 7, 2, 1, 7, 11, 11, 7, 11, 11, 3, 7, 11, 7, 11, 4, 11, 7, 1, 2, 11, 0, 8, 7, 1, 7, 1, 7, 7, 7, 0, 7, 3, 7, 7, 7, 8, 7, 7, 9, 0, 7, 7, 7, 2, 7, 0, 7, 6, 9, 0, 7, 7, 3, 1, 7, 7, 7, 0, 5, 7, 7, 3, 7, 0, 11, 7, 7, 7, 0, 9, 8, 9, 3, 7, 7, 8, 7, 7, 7, 7, 7, 5, 7, 8, 7, 8, 7, 2, 7, 7, 2, 7, 7, 1, 9, 11, 7, 0, 3, 7, 7, 7, 7, 9, 7, 2, 7, 8, 7, 2, 7, 7, 7, 3, 3, 0, 11, 0, 3, 7, 7, 11, 2, 11, 7, 11, 7, 11, 6, 0, 11, 8, 7, 7, 3, 7, 11, 7, 7, 7, 7, 1, 0, 0, 11, 7, 0, 0, 7, 7, 7, 7, 7, 7, 7, 1, 7, 7, 1, 7, 0, 3, 1, 7, 3, 7, 7, 5, 2, 7, 2, 7, 0, 9, 3, 8, 7, 9, 9, 7, 7, 7, 0, 7, 7, 7, 7, 7, 7, 7, 7, 7, 8, 0, 3, 11, 1, 7, 11, 7, 9, 7, 9, 7, 7, 0, 3, 3, 7, 0, 7, 7, 7, 0, 11, 7, 7, 8, 7, 9, 11, 3, 7, 2, 7, 3, 7, 8, 11, 11, 7, 9, 7, 0, 7, 7, 7, 7, 7, 5, 3, 7, 7, 0, 11, 11, 7, 8, 4, 10, 11, 7, 7, 0, 7, 11, 8, 7, 7, 7, 7, 8, 7, 7, 5, 7, 0, 9, 0, 11, 7, 0, 3, 7, 11, 11, 9, 0, 0, 7, 7, 1, 2, 11, 5, 7, 7, 7, 3, 7, 10, 7, 3, 7, 1, 9, 7, 7, 7, 7, 2, 9, 7, 7, 7, 7, 7, 6, 7, 7, 7, 3, 11, 2, 3, 1, 7, 7, 3, 7, 0, 2, 7, 7, 7, 7, 1, 7, 7, 7, 7, 0, 7, 7, 7, 7, 9, 0, 0, 1, 7, 7, 7, 7, 8, 7, 0, 7, 1, 7, 10, 7, 2, 3, 0, 7, 7, 7, 0, 11, 7, 6, 3, 7, 7, 7, 7, 7, 0, 9, 7, 6, 7, 11, 7, 7, 8, 7, 7, 7, 0, 11, 7, 7, 7, 7, 7, 7, 7, 0, 2, 7, 7, 7, 7, 8, 0, 4, 7, 7, 7, 1, 7, 7, 1, 9, 0, 11, 1, 7, 7, 7, 0, 7, 7, 7, 7, 7, 7, 1, 2, 0, 7, 0, 7, 5, 7, 7, 7, 7, 1, 7, 7, 7, 3, 7, 7, 7, 1, 1, 7, 7, 7, 7, 11, 7, 7, 3, 7, 7, 7, 7, 4, 1, 7, 7, 7, 9, 9, 7, 7, 3, 7, 7, 1, 0, 7, 1, 11, 11, 7, 7, 7, 8, 1, 7, 6, 1, 7, 1, 1, 7, 7, 7, 7, 7, 0, 7, 11, 0, 7, 7, 0, 9, 0, 10, 11, 7, 0, 8, 7, 11, 11, 8, 7, 9, 11, 7, 1, 8, 7, 7, 3, 7, 9, 7, 1, 7, 11, 3, 10, 0, 11, 7, 7, 8, 2, 9, 2, 7, 7, 11, 0, 7, 10, 0, 7, 3, 5, 7, 7, 11, 7, 7, 10, 7, 7, 7, 7, 11, 7, 1, 7, 11, 7, 7, 7, 0, 4, 7, 2, 2, 7, 3, 0, 0, 11, 5, 3, 8, 7, 3, 7, 7, 9, 7, 1, 6, 7, 7, 10, 9, 1, 7, 2, 11, 7, 6, 7, 1, 7, 7, 7, 7, 0, 5, 7, 2, 7, 0, 1, 7, 9, 3, 7, 7, 1, 10, 0, 7, 7, 7, 11, 7, 7, 8, 11, 3, 8, 3, 7, 2, 11, 0, 5, 9, 7, 8, 0, 1, 3, 7, 7, 0, 9, 1, 2, 6, 7, 8, 7, 9, 7, 8, 7, 11, 3, 8, 8, 7, 9, 1, 7, 7, 8, 3, 0, 7, 3, 0, 7, 7, 7, 7, 0, 1, 7, 5, 3, 7, 7, 3, 11, 7, 7, 1, 7, 9, 2, 10, 0, 7, 7, 6, 7, 9, 7, 8, 7, 7, 7, 7, 7, 7, 3, 7, 11, 2, 7, 2, 7, 6, 3, 2, 1, 1, 7, 11, 8, 7, 2, 11, 7, 11, 7, 8, 7, 0, 7, 1, 3, 0, 1, 7, 7, 7, 9, 7, 0, 7, 7, 7, 7, 2, 0, 0, 7, 7, 7, 0, 7, 0, 7, 7, 7, 11, 1, 11, 11, 11, 0, 11, 9, 0, 7, 7, 0, 7, 7, 0, 11, 0, 2, 0, 7, 7, 7, 7, 0, 7, 9, 7, 2, 7, 7, 9, 7, 3, 7, 7, 0, 7, 5, 7, 3, 7, 8, 8, 7, 7, 1, 9, 7, 3, 7, 8, 6, 2, 7, 7, 7, 7, 7, 0, 7, 7, 7, 6, 1, 7, 7, 7, 7, 3, 9, 7, 0, 7, 0, 5, 0, 7, 0, 1, 7, 1, 0, 3, 7, 7, 7, 11, 4, 7, 9, 7, 0, 7, 8, 11, 0, 7, 5, 3, 7, 4, 0, 1, 7, 7, 2, 7, 0, 6, 3, 9, 7, 5, 7, 4, 0, 1, 11, 9, 2, 7, 7, 11, 10, 2, 7, 7, 11, 7, 7, 8, 7, 0, 3, 0, 7, 11, 7, 11, 7, 3, 0, 7, 3, 7, 8, 7, 7, 3, 7, 3, 7, 2, 9, 7, 7, 1, 7, 7, 11, 7, 0, 2, 7, 7, 2, 2, 7, 7, 7, 7, 1, 7, 7, 7, 3, 7, 7, 7, 7, 7, 7, 10, 8, 7, 0, 7, 1, 6, 10, 7, 7, 11, 7, 0, 11, 7, 2, 8, 7, 3, 7, 7, 7, 2, 7, 8, 3, 0, 7, 3, 7, 7, 7, 7, 2, 7, 8, 3, 7, 7, 7, 7, 1, 2, 8, 1, 3, 7, 7, 7, 5, 0, 7, 2, 2, 11, 4, 11, 7, 7, 9, 11, 7, 3, 7, 11, 0, 11, 11, 5, 1, 7, 3, 7, 3, 9, 7, 11, 3, 7, 11, 2, 7, 4, 7, 8, 3, 11, 0, 7, 7, 7, 1, 7, 9, 7, 7, 1, 0, 7, 7, 11, 7, 8, 0, 4, 11, 2, 7, 7, 7, 2, 2, 11, 6, 0, 7, 1, 7, 8, 2, 2, 8, 7, 7, 7, 1, 2, 7, 0, 7, 7, 7, 1, 8, 7, 7, 8, 11, 7, 0, 4, 11, 7, 1, 7, 7, 9, 2, 7, 0, 2, 2, 2, 3, 3, 7, 7, 7, 11, 7, 7, 7, 3, 7, 7, 7, 8, 10, 8, 0, 8, 7, 7, 7, 8, 7, 7, 7, 11, 7, 7, 9, 0, 3, 7, 7, 9, 3, 7, 11, 7, 7, 7, 3, 7, 7, 3, 7, 9, 7, 7, 11, 11, 7, 0, 7, 7, 7, 7, 2, 0, 9, 7, 3, 7, 0, 1, 7, 1, 2, 7, 2, 7, 7, 7, 7, 3, 7, 7, 7, 7, 2, 3, 1, 7, 0, 1, 7, 7, 9, 7, 0, 7, 7, 7, 7, 8, 1, 1, 9, 7, 7, 7, 3, 7, 0, 3, 7, 0, 7, 7, 9, 11, 11, 11, 7, 7, 7, 11, 7, 11, 11, 7, 1, 7, 2, 7, 7, 7, 9, 7, 7, 3, 9, 7, 7, 0, 0, 3, 7, 7, 7, 3, 7, 0, 6, 7, 8, 7, 7, 0, 7, 9, 2, 7, 7, 7, 7, 7, 7, 7, 0, 11, 7, 7, 7, 3, 3, 7, 7, 7, 7, 7, 9, 7, 7, 7, 2, 7, 9, 7, 11, 7, 0, 2, 0, 7, 7, 2, 7, 7, 0, 1, 1, 7, 0, 0, 7, 7, 7, 9, 2, 8, 9, 10, 7, 7, 7, 7, 7, 0, 11, 7, 7, 0, 7, 7, 7, 1, 3, 10, 7, 7, 7, 8, 7, 3, 0, 7, 7, 3, 5, 0, 7, 3, 7, 11, 11, 7, 7, 8, 11, 7, 7, 0, 7, 7, 1, 7, 9, 9, 0, 7, 7, 8, 7, 7, 0, 3, 11, 7, 7, 11, 7, 8, 7, 7, 7, 0, 7, 8, 7, 7, 7, 7, 10, 7, 8, 0, 8, 7, 7, 7, 7, 10, 7, 11, 0, 7, 7, 7, 1, 0, 6, 1, 11, 7, 7, 7, 7, 7, 0, 7, 8, 7, 7, 9, 7, 7, 7, 9, 2, 7, 3, 7, 2, 3, 8, 9, 7, 7, 3, 7, 7, 11, 7, 7, 7, 7, 11, 7, 4, 3, 7, 7, 7, 7, 7, 9, 2, 1, 0, 3, 11, 1, 7, 7, 0, 7, 0, 7, 7, 7, 11, 7, 0, 11, 3, 7, 7, 7, 11, 11, 7, 7, 7, 11, 3, 7, 3, 0, 11, 7, 3, 7, 3, 7, 7, 7, 7, 2, 0, 7, 7, 7, 7, 2, 9, 0, 7, 8, 1, 0, 11, 1, 2, 7, 7, 7, 11, 7, 7, 3, 7, 7, 7, 1, 7, 6, 9, 7, 7, 7, 9, 7, 8, 7, 2, 0, 0, 7, 7, 7, 7, 7, 7, 7, 7, 7, 1, 0, 7, 0, 3, 9, 3, 7, 7, 7, 8, 7, 7, 1, 3, 7, 0, 2, 0, 1, 3, 3, 9, 7, 7, 7, 7, 7, 1, 9, 1, 7, 2, 7, 7, 2, 1, 9, 11, 0, 7, 9, 7, 1, 7, 7, 1, 7, 7, 0, 7, 7, 5, 7, 1, 7, 7, 7, 7, 7, 7, 7, 1, 7, 3, 3, 8, 11, 0, 3, 7, 0, 0, 1, 7, 11, 1, 9, 7, 3, 8, 8, 7, 7, 7, 0, 3, 0, 7, 6, 7, 7, 0, 3, 4, 7, 7, 7, 7, 1, 7, 11, 7, 7, 0, 7, 7, 11, 7, 6, 7, 7, 2, 8, 11, 7, 7, 11, 7, 2, 11, 3, 7, 3, 11, 7, 9, 8, 7, 7, 7, 10, 3, 7, 7, 1, 1, 8, 7, 7, 10, 7, 8, 11, 3, 7, 5, 7, 7, 0, 8, 7, 7, 7, 1, 7, 3, 2, 3, 7, 8, 7, 9, 8, 7, 7, 7, 7, 2, 7, 5, 9, 0, 2, 2, 7, 9, 7, 7, 7, 7, 7, 7, 8, 7, 3, 9, 2, 2, 7, 7, 7, 7, 0, 9, 7, 11, 11, 7, 7, 10, 7, 11, 11, 7, 0, 2, 7, 7, 1, 7, 9, 11, 7, 3, 7, 7, 7, 7, 7, 3, 7, 2, 7, 0, 2, 7, 7, 7, 7, 11, 11, 9, 2, 7, 7, 7, 7, 7, 7, 7, 7, 3, 7, 7, 7, 11, 3, 9, 7, 7, 7, 7, 7, 11, 7, 7, 11, 11, 3, 1, 11, 7, 4, 7, 8, 7, 11, 3, 11, 11, 7, 7, 2, 7, 0, 8, 0, 7, 3, 7, 7, 7, 7, 7, 7, 7, 7, 3, 7, 8, 7, 0, 7, 7, 0, 3, 11, 7, 7, 0, 7, 7, 7, 1, 7, 7, 7, 1, 0, 2, 0, 7, 7, 11, 3, 7, 1, 7, 7, 7, 1, 7, 7, 7, 11, 11, 3, 7, 7, 2, 7, 7, 1, 8, 7, 7, 1, 7, 7, 7, 7, 7, 1, 7, 8, 0, 9, 3, 7, 8, 8, 7, 7, 7, 7, 3, 3, 3, 11, 2, 2, 3, 7, 7, 0, 3, 3, 8, 2, 7, 7, 3, 7, 9, 7, 3, 9, 1, 7, 3, 0, 3, 9, 8, 2, 0, 7, 7, 0, 11, 7, 0, 7, 3, 7, 1, 7, 7, 7, 7, 3, 7, 7, 7, 3, 7, 3, 7, 0, 7, 7, 7, 7, 7, 7, 0, 3, 7, 9, 7, 7, 9, 0, 7, 0, 1, 7, 3, 7, 8, 7, 7, 7, 7, 11, 4, 7, 0, 1, 7, 6, 3, 0, 7, 7, 2, 7, 0, 1, 1, 2, 7, 5, 7, 3, 10, 9, 7, 7, 7, 3, 10, 0, 9, 0, 0, 7, 7, 3, 7, 9, 7, 8, 0, 7, 7, 2, 7, 8, 3, 7, 7, 7, 0, 7, 0, 7, 7, 9, 7, 3, 8, 8, 11, 0, 7, 0, 1, 7, 7, 11, 3, 4, 7, 7, 9, 5, 0, 7, 7, 11, 7, 1, 7, 7, 7, 7, 7, 7, 7, 11, 0, 11, 0, 9, 1, 7, 8, 7, 9, 7, 11, 11, 0, 7, 7, 9, 7, 7, 9, 7, 7, 7, 0, 11, 7, 0, 0, 3, 7, 7, 10, 7, 7, 7, 1, 7, 3, 7, 7, 1, 7, 6, 7, 1, 0, 0, 3, 11, 7, 7, 4, 7, 7, 7, 0, 0, 7, 7, 7, 8, 7, 7, 8, 3, 1, 3, 7, 7, 8, 7, 7, 7, 3, 5, 7, 7, 7, 1, 7, 7, 7, 7, 7, 7, 7, 11, 7, 5, 3, 0, 8, 3, 8, 2, 7, 7, 6, 7, 7, 8, 7, 8, 7, 11, 11, 7, 7, 7, 5, 7, 7, 7, 7, 9, 7, 9, 7, 11, 7, 7, 1, 5, 7, 7, 8, 10, 2, 7, 7, 3, 10, 3, 1, 7, 7, 8, 9, 11, 0, 11, 1, 7, 7, 7, 3, 2, 7, 4, 7, 11, 3, 7, 7, 0, 7, 0, 7, 7, 7, 7, 7, 7, 7, 9, 7, 3, 11, 7, 1, 7, 8, 0, 7, 2, 7, 7, 7, 11, 0, 7, 10, 7, 0, 7, 10, 7, 5, 0, 7, 7, 9, 5, 0, 7, 6, 7, 4, 5, 7, 7, 7, 11, 6, 8, 7, 2, 7, 1, 0, 11, 3, 9, 0, 9, 7, 1, 7, 9, 9, 0, 2, 11, 0, 5, 7, 7, 7, 9, 7, 8, 3, 7, 5, 7, 1, 7, 7, 4, 7, 7, 7, 3, 7, 3, 7, 8, 1, 7, 5, 7, 8, 1, 11, 7, 3, 7, 7, 7, 7, 7, 7, 7, 8, 1, 7, 7, 7, 7, 0, 7, 11, 2, 9, 7, 8, 3, 10, 11, 2, 7, 7, 7, 7, 7, 0, 7, 7, 0, 0, 2, 3, 2, 7, 11, 0, 7, 7, 11, 7, 7, 7, 0, 4, 7, 7, 1, 11, 3, 5, 7, 7, 7, 11, 1, 7, 9, 7, 9, 7, 7, 3, 7, 11, 0, 11, 3, 7, 9, 7, 7, 7, 7, 7, 7, 7, 8, 7, 1, 3, 7, 7, 7, 8, 11, 9, 7, 9, 7, 7, 7, 7, 7, 1, 0, 7, 7, 7, 7, 7, 7, 7, 7, 7, 7, 7, 7, 6, 7, 11, 2, 7, 11, 8, 7, 7, 7, 11, 9, 5, 0, 7, 7, 7, 1, 7, 8, 3, 7, 7, 7, 2, 7, 7, 7, 7, 7, 1, 7, 7, 7, 1, 7, 7, 0, 1, 7, 7, 8, 7, 1, 9, 7, 0, 1, 7, 9, 2, 7, 11, 11, 2, 2, 8, 7, 7, 7, 0, 0, 5, 7, 0, 7, 0, 7, 7, 0, 7, 6, 7, 6, 9, 9, 7, 2, 3, 3, 8, 1, 7, 11, 0, 0, 5, 7, 2, 7, 1, 7, 7, 1, 9, 7, 7, 7, 7, 7, 7, 7, 1, 11, 7, 0, 7, 0, 0, 7, 7, 2, 7, 0, 7, 5, 0, 7, 7, 11, 7, 7, 7, 7, 7, 5, 0, 8, 3, 7, 4, 7, 7, 9, 0, 8, 11, 0, 7, 7, 1, 7, 1, 11, 7, 8, 7, 3, 1, 7, 9, 0, 7, 2, 7, 7, 7, 7, 7, 0, 7, 3, 5, 5, 8, 7, 7, 0, 7, 7, 9, 5, 0, 7, 1, 7, 1, 0, 7, 8, 7, 7, 7, 7, 1, 7, 3, 7, 7, 7, 7, 3, 7, 7, 2, 7, 1, 0, 7, 7, 0, 0, 7, 7, 2, 0, 11, 7, 0, 7, 7, 9, 1, 7, 0, 4, 7, 7, 7, 3, 7, 8, 7, 7, 7, 9, 7, 11, 7, 3, 7, 7, 7, 11, 7, 0, 7, 7, 7, 7, 7, 7, 2, 3, 6, 7, 3, 0, 3, 3, 2, 3, 8, 1, 7, 7, 9, 7, 2, 7, 3, 7, 7, 7, 11, 9, 8, 7, 7, 11, 0, 7, 7, 7, 8, 0, 7, 7, 1, 7, 7, 7, 7, 7, 7, 1, 8, 0, 0, 11, 7, 11, 11, 3, 7, 11, 3, 1, 7, 7, 3, 7, 7, 2, 7, 2, 3, 7, 2, 3, 0, 2, 1, 7, 2, 7, 7, 8, 1, 7, 7, 0, 7, 4, 11, 7, 0, 7, 7, 7, 7, 3, 7, 0, 7, 1, 0, 3, 7, 7, 1, 7, 7, 11, 11, 6, 0, 11, 7, 7, 7, 7, 11, 7, 8, 6, 5, 7, 9, 1, 7, 7, 0, 7, 7, 7, 7, 7, 3, 3, 7, 7, 3, 0, 7, 7, 7, 3, 7, 2, 7, 3, 1, 7, 11, 7, 7, 8, 7, 1, 7, 11, 7, 7, 7, 11, 4, 7, 5, 7, 3, 4, 7, 1, 1, 11, 8, 7, 7, 7, 7, 7, 7, 7, 9, 1, 7, 2, 7, 7, 0, 7, 3, 7, 0, 11, 0, 5, 0, 3, 0, 7, 7, 7, 1, 7, 3, 11, 7, 3, 11, 1, 7, 7, 7, 7, 7, 7, 10, 1, 0, 11, 0, 7, 9, 7, 11, 0, 7, 0, 1, 7, 7, 7, 3, 0, 7, 7, 3, 1, 7, 0, 7, 7, 11, 3, 7, 7, 2, 2, 7, 0, 7, 7, 7, 8, 7, 7, 7, 7, 7, 1, 7, 9]\n"
          ]
        },
        {
          "output_type": "execute_result",
          "data": {
            "text/plain": [
              "{0: 0.8844665561083471,\n",
              " 1: 1.3152486642005754,\n",
              " 2: 1.7660044150110374,\n",
              " 3: 1.0962658444672833,\n",
              " 4: 9.696969696969697,\n",
              " 5: 6.666666666666667,\n",
              " 6: 7.017543859649122,\n",
              " 7: 0.16581170008808746,\n",
              " 8: 2.0087884494664157,\n",
              " 9: 1.6334864726901481,\n",
              " 10: 7.785888077858881,\n",
              " 11: 1.035598705501618}"
            ]
          },
          "metadata": {},
          "execution_count": 25
        }
      ]
    },
    {
      "cell_type": "markdown",
      "source": [
        "### Compute Model - Weight Compensated"
      ],
      "metadata": {
        "id": "0vE4sQ4_VZV_"
      }
    },
    {
      "cell_type": "code",
      "source": [
        "base_model_2 = base_model\n",
        "\n",
        "model_2 = tf.keras.models.Sequential([\n",
        "    base_model_2,\n",
        "    \n",
        "    Flatten(),    \n",
        "    Dense(256,activation=\"relu\"),\n",
        "    BatchNormalization(),\n",
        "    Dropout(0.35),\n",
        "    Dense(12, activation='softmax')\n",
        "])\n",
        "\n",
        "model_2.summary()"
      ],
      "metadata": {
        "colab": {
          "base_uri": "https://localhost:8080/"
        },
        "id": "f2T-iPoKVIFN",
        "outputId": "58189937-efb3-4f34-cb16-a9c9cad5080f"
      },
      "execution_count": 32,
      "outputs": [
        {
          "output_type": "stream",
          "name": "stdout",
          "text": [
            "Model: \"sequential_2\"\n",
            "_________________________________________________________________\n",
            " Layer (type)                Output Shape              Param #   \n",
            "=================================================================\n",
            " vgg16 (Functional)          (None, 1, 1, 512)         14714688  \n",
            "                                                                 \n",
            " flatten_2 (Flatten)         (None, 512)               0         \n",
            "                                                                 \n",
            " dense_4 (Dense)             (None, 256)               131328    \n",
            "                                                                 \n",
            " batch_normalization_2 (Batc  (None, 256)              1024      \n",
            " hNormalization)                                                 \n",
            "                                                                 \n",
            " dropout_2 (Dropout)         (None, 256)               0         \n",
            "                                                                 \n",
            " dense_5 (Dense)             (None, 12)                3084      \n",
            "                                                                 \n",
            "=================================================================\n",
            "Total params: 14,850,124\n",
            "Trainable params: 134,924\n",
            "Non-trainable params: 14,715,200\n",
            "_________________________________________________________________\n"
          ]
        }
      ]
    },
    {
      "cell_type": "code",
      "source": [
        "model_2.compile(loss = \"categorical_crossentropy\",\n",
        "    optimizer = keras.optimizers.Adam(learning_rate=1e-4),\n",
        "    metrics = [\"accuracy\"])\n",
        "\n",
        "logdir = os.path.join(\"logs_feature_extraction\", datetime.datetime.now().strftime(\"%Y%m%d-%H%M%S\"))\n",
        "\n",
        "\n",
        "callbacks = [\n",
        "    keras.callbacks.ModelCheckpoint(filepath=\"feature_extraction.h5\", save_best_only=True, monitor=\"val_loss\"),\n",
        "    tf.keras.callbacks.TensorBoard(logdir, histogram_freq=1)\n",
        "]\n",
        "\n",
        "history = model_2.fit(\n",
        "train_generator,\n",
        "epochs = 60,\n",
        "validation_data=(val_generator),\n",
        "class_weight = class_weights,\n",
        "callbacks = callbacks\n",
        ")"
      ],
      "metadata": {
        "colab": {
          "base_uri": "https://localhost:8080/"
        },
        "id": "iEOb_vPZNmbW",
        "outputId": "77cc3346-9195-4784-cc17-62b94764e111"
      },
      "execution_count": 33,
      "outputs": [
        {
          "output_type": "stream",
          "name": "stdout",
          "text": [
            "Epoch 1/60\n",
            "200/200 [==============================] - 6s 26ms/step - loss: 2.4653 - accuracy: 0.1334 - val_loss: 2.2519 - val_accuracy: 0.2262\n",
            "Epoch 2/60\n",
            "200/200 [==============================] - 6s 32ms/step - loss: 2.1528 - accuracy: 0.2095 - val_loss: 2.0591 - val_accuracy: 0.3569\n",
            "Epoch 3/60\n",
            "200/200 [==============================] - 6s 30ms/step - loss: 2.0064 - accuracy: 0.2623 - val_loss: 2.0296 - val_accuracy: 0.2875\n",
            "Epoch 4/60\n",
            "200/200 [==============================] - 6s 29ms/step - loss: 1.9362 - accuracy: 0.2932 - val_loss: 1.8696 - val_accuracy: 0.3556\n",
            "Epoch 5/60\n",
            "200/200 [==============================] - 6s 28ms/step - loss: 1.8656 - accuracy: 0.3159 - val_loss: 1.7851 - val_accuracy: 0.4338\n",
            "Epoch 6/60\n",
            "200/200 [==============================] - 5s 26ms/step - loss: 1.7943 - accuracy: 0.3345 - val_loss: 1.7900 - val_accuracy: 0.4169\n",
            "Epoch 7/60\n",
            "200/200 [==============================] - 5s 26ms/step - loss: 1.7782 - accuracy: 0.3403 - val_loss: 1.6778 - val_accuracy: 0.4856\n",
            "Epoch 8/60\n",
            "200/200 [==============================] - 5s 26ms/step - loss: 1.7376 - accuracy: 0.3633 - val_loss: 1.8004 - val_accuracy: 0.3638\n",
            "Epoch 9/60\n",
            "200/200 [==============================] - 7s 34ms/step - loss: 1.6984 - accuracy: 0.3759 - val_loss: 1.6424 - val_accuracy: 0.4750\n",
            "Epoch 10/60\n",
            "200/200 [==============================] - 7s 35ms/step - loss: 1.6626 - accuracy: 0.3747 - val_loss: 1.6077 - val_accuracy: 0.4900\n",
            "Epoch 11/60\n",
            "200/200 [==============================] - 7s 36ms/step - loss: 1.6484 - accuracy: 0.3864 - val_loss: 1.6540 - val_accuracy: 0.4481\n",
            "Epoch 12/60\n",
            "200/200 [==============================] - 5s 27ms/step - loss: 1.6255 - accuracy: 0.3959 - val_loss: 1.6449 - val_accuracy: 0.4481\n",
            "Epoch 13/60\n",
            "200/200 [==============================] - 6s 28ms/step - loss: 1.6014 - accuracy: 0.3983 - val_loss: 1.6347 - val_accuracy: 0.4569\n",
            "Epoch 14/60\n",
            "200/200 [==============================] - 6s 30ms/step - loss: 1.5734 - accuracy: 0.3941 - val_loss: 1.6156 - val_accuracy: 0.4681\n",
            "Epoch 15/60\n",
            "200/200 [==============================] - 6s 32ms/step - loss: 1.5586 - accuracy: 0.4098 - val_loss: 1.5598 - val_accuracy: 0.4806\n",
            "Epoch 16/60\n",
            "200/200 [==============================] - 5s 26ms/step - loss: 1.5455 - accuracy: 0.4080 - val_loss: 1.6903 - val_accuracy: 0.4006\n",
            "Epoch 17/60\n",
            "200/200 [==============================] - 5s 27ms/step - loss: 1.5239 - accuracy: 0.4102 - val_loss: 1.4950 - val_accuracy: 0.5088\n",
            "Epoch 18/60\n",
            "200/200 [==============================] - 5s 27ms/step - loss: 1.4959 - accuracy: 0.4222 - val_loss: 1.4527 - val_accuracy: 0.5325\n",
            "Epoch 19/60\n",
            "200/200 [==============================] - 7s 33ms/step - loss: 1.4837 - accuracy: 0.4271 - val_loss: 1.5681 - val_accuracy: 0.4531\n",
            "Epoch 20/60\n",
            "200/200 [==============================] - 6s 31ms/step - loss: 1.4836 - accuracy: 0.4204 - val_loss: 1.5167 - val_accuracy: 0.4969\n",
            "Epoch 21/60\n",
            "200/200 [==============================] - 5s 27ms/step - loss: 1.4645 - accuracy: 0.4341 - val_loss: 1.5132 - val_accuracy: 0.5025\n",
            "Epoch 22/60\n",
            "200/200 [==============================] - 5s 27ms/step - loss: 1.4485 - accuracy: 0.4415 - val_loss: 1.4505 - val_accuracy: 0.5344\n",
            "Epoch 23/60\n",
            "200/200 [==============================] - 5s 27ms/step - loss: 1.4422 - accuracy: 0.4421 - val_loss: 1.4727 - val_accuracy: 0.5088\n",
            "Epoch 24/60\n",
            "200/200 [==============================] - 5s 26ms/step - loss: 1.4141 - accuracy: 0.4521 - val_loss: 1.4697 - val_accuracy: 0.5175\n",
            "Epoch 25/60\n",
            "200/200 [==============================] - 5s 27ms/step - loss: 1.4113 - accuracy: 0.4489 - val_loss: 1.5755 - val_accuracy: 0.4625\n",
            "Epoch 26/60\n",
            "200/200 [==============================] - 5s 27ms/step - loss: 1.3891 - accuracy: 0.4491 - val_loss: 1.4717 - val_accuracy: 0.5125\n",
            "Epoch 27/60\n",
            "200/200 [==============================] - 5s 26ms/step - loss: 1.3876 - accuracy: 0.4545 - val_loss: 1.4984 - val_accuracy: 0.5025\n",
            "Epoch 28/60\n",
            "200/200 [==============================] - 5s 27ms/step - loss: 1.3867 - accuracy: 0.4566 - val_loss: 1.4753 - val_accuracy: 0.5000\n",
            "Epoch 29/60\n",
            "200/200 [==============================] - 5s 26ms/step - loss: 1.3623 - accuracy: 0.4529 - val_loss: 1.4582 - val_accuracy: 0.5113\n",
            "Epoch 30/60\n",
            "200/200 [==============================] - 5s 26ms/step - loss: 1.3496 - accuracy: 0.4696 - val_loss: 1.5465 - val_accuracy: 0.4656\n",
            "Epoch 31/60\n",
            "200/200 [==============================] - 5s 27ms/step - loss: 1.3407 - accuracy: 0.4586 - val_loss: 1.3446 - val_accuracy: 0.5619\n",
            "Epoch 32/60\n",
            "200/200 [==============================] - 5s 26ms/step - loss: 1.3193 - accuracy: 0.4745 - val_loss: 1.5212 - val_accuracy: 0.4812\n",
            "Epoch 33/60\n",
            "200/200 [==============================] - 5s 27ms/step - loss: 1.3100 - accuracy: 0.4759 - val_loss: 1.5398 - val_accuracy: 0.4569\n",
            "Epoch 34/60\n",
            "200/200 [==============================] - 5s 27ms/step - loss: 1.3271 - accuracy: 0.4691 - val_loss: 1.4705 - val_accuracy: 0.4956\n",
            "Epoch 35/60\n",
            "200/200 [==============================] - 5s 26ms/step - loss: 1.3138 - accuracy: 0.4784 - val_loss: 1.4497 - val_accuracy: 0.5000\n",
            "Epoch 36/60\n",
            "200/200 [==============================] - 6s 28ms/step - loss: 1.2982 - accuracy: 0.4830 - val_loss: 1.4908 - val_accuracy: 0.4744\n",
            "Epoch 37/60\n",
            "200/200 [==============================] - 5s 26ms/step - loss: 1.2983 - accuracy: 0.4783 - val_loss: 1.4241 - val_accuracy: 0.5269\n",
            "Epoch 38/60\n",
            "200/200 [==============================] - 5s 26ms/step - loss: 1.2703 - accuracy: 0.4884 - val_loss: 1.3678 - val_accuracy: 0.5594\n",
            "Epoch 39/60\n",
            "200/200 [==============================] - 5s 26ms/step - loss: 1.2926 - accuracy: 0.4848 - val_loss: 1.4554 - val_accuracy: 0.5206\n",
            "Epoch 40/60\n",
            "200/200 [==============================] - 5s 27ms/step - loss: 1.2813 - accuracy: 0.4805 - val_loss: 1.2949 - val_accuracy: 0.5694\n",
            "Epoch 41/60\n",
            "200/200 [==============================] - 5s 26ms/step - loss: 1.2650 - accuracy: 0.4960 - val_loss: 1.5469 - val_accuracy: 0.4506\n",
            "Epoch 42/60\n",
            "200/200 [==============================] - 5s 26ms/step - loss: 1.2589 - accuracy: 0.4859 - val_loss: 1.4193 - val_accuracy: 0.5225\n",
            "Epoch 43/60\n",
            "200/200 [==============================] - 5s 26ms/step - loss: 1.2538 - accuracy: 0.4848 - val_loss: 1.3712 - val_accuracy: 0.5444\n",
            "Epoch 44/60\n",
            "200/200 [==============================] - 5s 27ms/step - loss: 1.2404 - accuracy: 0.4986 - val_loss: 1.5029 - val_accuracy: 0.4719\n",
            "Epoch 45/60\n",
            "200/200 [==============================] - 5s 26ms/step - loss: 1.2497 - accuracy: 0.4947 - val_loss: 1.3249 - val_accuracy: 0.5487\n",
            "Epoch 46/60\n",
            "200/200 [==============================] - 5s 26ms/step - loss: 1.2296 - accuracy: 0.4975 - val_loss: 1.4013 - val_accuracy: 0.5369\n",
            "Epoch 47/60\n",
            "200/200 [==============================] - 5s 26ms/step - loss: 1.2200 - accuracy: 0.5027 - val_loss: 1.5349 - val_accuracy: 0.4719\n",
            "Epoch 48/60\n",
            "200/200 [==============================] - 5s 27ms/step - loss: 1.2249 - accuracy: 0.4955 - val_loss: 1.3706 - val_accuracy: 0.5381\n",
            "Epoch 49/60\n",
            "200/200 [==============================] - 5s 27ms/step - loss: 1.2113 - accuracy: 0.5050 - val_loss: 1.3731 - val_accuracy: 0.5387\n",
            "Epoch 50/60\n",
            "200/200 [==============================] - 5s 26ms/step - loss: 1.2092 - accuracy: 0.4987 - val_loss: 1.4866 - val_accuracy: 0.4800\n",
            "Epoch 51/60\n",
            "200/200 [==============================] - 5s 26ms/step - loss: 1.2150 - accuracy: 0.5007 - val_loss: 1.4207 - val_accuracy: 0.5244\n",
            "Epoch 52/60\n",
            "200/200 [==============================] - 5s 26ms/step - loss: 1.1964 - accuracy: 0.5073 - val_loss: 1.5484 - val_accuracy: 0.4650\n",
            "Epoch 53/60\n",
            "200/200 [==============================] - 5s 26ms/step - loss: 1.1803 - accuracy: 0.5068 - val_loss: 1.4100 - val_accuracy: 0.5019\n",
            "Epoch 54/60\n",
            "200/200 [==============================] - 5s 26ms/step - loss: 1.1885 - accuracy: 0.5102 - val_loss: 1.3728 - val_accuracy: 0.5400\n",
            "Epoch 55/60\n",
            "200/200 [==============================] - 5s 26ms/step - loss: 1.1817 - accuracy: 0.5113 - val_loss: 1.4760 - val_accuracy: 0.4787\n",
            "Epoch 56/60\n",
            "200/200 [==============================] - 5s 26ms/step - loss: 1.1712 - accuracy: 0.5103 - val_loss: 1.3960 - val_accuracy: 0.5088\n",
            "Epoch 57/60\n",
            "200/200 [==============================] - 5s 27ms/step - loss: 1.1609 - accuracy: 0.5095 - val_loss: 1.3412 - val_accuracy: 0.5519\n",
            "Epoch 58/60\n",
            "200/200 [==============================] - 5s 26ms/step - loss: 1.1610 - accuracy: 0.5155 - val_loss: 1.4576 - val_accuracy: 0.4981\n",
            "Epoch 59/60\n",
            "200/200 [==============================] - 5s 26ms/step - loss: 1.1612 - accuracy: 0.5133 - val_loss: 1.4302 - val_accuracy: 0.4869\n",
            "Epoch 60/60\n",
            "200/200 [==============================] - 5s 26ms/step - loss: 1.1576 - accuracy: 0.5174 - val_loss: 1.4036 - val_accuracy: 0.5206\n"
          ]
        }
      ]
    },
    {
      "cell_type": "markdown",
      "source": [
        "#### Model Performance - Weight Compensated"
      ],
      "metadata": {
        "id": "sH-J0aamQkXx"
      }
    },
    {
      "cell_type": "code",
      "source": [
        "plt.plot(history.history['accuracy'])\n",
        "plt.plot(history.history['val_accuracy'])\n",
        "plt.title('model accuracy')\n",
        "plt.ylabel('accuracy')\n",
        "plt.xlabel('epoch')\n",
        "plt.legend(['train', 'valid'], loc='lower right')\n",
        "plt.show()\n",
        "plt.plot(history.history['loss'])\n",
        "plt.plot(history.history['val_loss'])\n",
        "plt.title('model loss')\n",
        "plt.ylabel('loss')\n",
        "plt.xlabel('epoch')\n",
        "plt.legend(['train', 'valid'], loc='upper right')\n",
        "plt.show()"
      ],
      "metadata": {
        "colab": {
          "base_uri": "https://localhost:8080/",
          "height": 573
        },
        "outputId": "4d284035-d101-4ea2-972b-613759819b34",
        "id": "8SZqKmM4QkXx"
      },
      "execution_count": 34,
      "outputs": [
        {
          "output_type": "display_data",
          "data": {
            "text/plain": [
              "<Figure size 432x288 with 1 Axes>"
            ],
            "image/png": "[encoded data removed]"
          },
          "metadata": {
            "needs_background": "light"
          }
        },
        {
          "output_type": "display_data",
          "data": {
            "text/plain": [
              "<Figure size 432x288 with 1 Axes>"
            ],
            "image/png": "[encoded data removed]"
          },
          "metadata": {
            "needs_background": "light"
          }
        }
      ]
    },
    {
      "cell_type": "code",
      "source": [
        " model_2.evaluate(val_generator)"
      ],
      "metadata": {
        "colab": {
          "base_uri": "https://localhost:8080/"
        },
        "outputId": "394f09bb-71e5-4b68-be60-52021a7958fd",
        "id": "9dFtaLg5QkXx"
      },
      "execution_count": 35,
      "outputs": [
        {
          "output_type": "stream",
          "name": "stdout",
          "text": [
            "25/25 [==============================] - 0s 17ms/step - loss: 1.4036 - accuracy: 0.5206\n"
          ]
        },
        {
          "output_type": "execute_result",
          "data": {
            "text/plain": [
              "[1.403630256652832, 0.5206249952316284]"
            ]
          },
          "metadata": {},
          "execution_count": 35
        }
      ]
    },
    {
      "cell_type": "code",
      "source": [
        "x = list(train_generator.class_indices.keys())\n",
        "num_of_test_samples = 1600\n",
        "\n",
        "Y_pred = model_2.predict_generator(val_generator, num_of_test_samples // batch_size+1)\n",
        "y_pred = np.argmax(Y_pred, axis=1)\n",
        "print()\n",
        "print('Confusion Matrix')\n",
        "print(confusion_matrix(val_generator.classes, y_pred))\n",
        "\n",
        "print()\n",
        "print('Classification Report')\n",
        "target_names = x\n",
        "print(classification_report(val_generator.classes, y_pred, target_names = target_names))"
      ],
      "metadata": {
        "colab": {
          "base_uri": "https://localhost:8080/"
        },
        "outputId": "d05f4d6b-65da-485a-929c-8938a11442d7",
        "id": "aJVn2A40QkXx"
      },
      "execution_count": 36,
      "outputs": [
        {
          "output_type": "stream",
          "name": "stderr",
          "text": [
            "/usr/local/lib/python3.7/dist-packages/ipykernel_launcher.py:4: UserWarning: `Model.predict_generator` is deprecated and will be removed in a future version. Please use `Model.predict`, which supports generators.\n",
            "  after removing the cwd from sys.path.\n"
          ]
        },
        {
          "output_type": "stream",
          "name": "stdout",
          "text": [
            "WARNING:tensorflow:Your input ran out of data; interrupting training. Make sure that your dataset or generator can generate at least `steps_per_epoch * epochs` batches (in this case, 26 batches). You may need to use the repeat() function when building your dataset.\n",
            "\n",
            "Confusion Matrix\n",
            "[[  7  15   8   7   5   7   1  42  16  10   5   9]\n",
            " [ 14   2   6   7   2   8   5  38   7  13   4   7]\n",
            " [  9   3   9  10   2   9   4  33   5   7   3   4]\n",
            " [ 13   4  10   8   4   9   5  29  11  11   5   8]\n",
            " [  0   1   1   1   1   2   1   4   2   3   0   1]\n",
            " [  2   0   1   2   2   1   1   7   2   1   1   0]\n",
            " [  4   0   4   3   0   0   1   2   2   1   0   1]\n",
            " [ 84  48  40  60  31  32  30 229  74  76  30  43]\n",
            " [ 10   2   7   3   1   4   3  12   5   2   6   4]\n",
            " [  8   2   9   8   3   4   5  24   1  15   5   8]\n",
            " [  2   1   1   1   0   1   1   5   0   2   1   0]\n",
            " [ 17   6   6  12   6   0  11  39  14  15   7   9]]\n",
            "\n",
            "Classification Report\n",
            "                precision    recall  f1-score   support\n",
            "\n",
            "          Cell       0.04      0.05      0.05       132\n",
            "    Cell-Multi       0.02      0.02      0.02       113\n",
            "      Cracking       0.09      0.09      0.09        98\n",
            "         Diode       0.07      0.07      0.07       117\n",
            "   Diode-Multi       0.02      0.06      0.03        17\n",
            "      Hot-Spot       0.01      0.05      0.02        20\n",
            "Hot-Spot-Multi       0.01      0.06      0.02        18\n",
            "    No-Anomaly       0.49      0.29      0.37       777\n",
            "Offline-Module       0.04      0.08      0.05        59\n",
            "     Shadowing       0.10      0.16      0.12        92\n",
            "       Soiling       0.01      0.07      0.02        15\n",
            "    Vegetation       0.10      0.06      0.08       142\n",
            "\n",
            "      accuracy                           0.18      1600\n",
            "     macro avg       0.08      0.09      0.08      1600\n",
            "  weighted avg       0.27      0.18      0.21      1600\n",
            "\n"
          ]
        }
      ]
    },
    {
      "cell_type": "code",
      "source": [
        "cm = confusion_matrix(val_generator.classes, y_pred)\n",
        "fig, ax = plt.subplots()\n",
        "im = ax.imshow(cm, interpolation='nearest', cmap=plt.cm.Blues)\n",
        "title = 'Confusion matrix'\n",
        "ax.figure.colorbar(im, ax=ax)\n",
        "ax.set(xticks=np.arange(cm.shape[1]),\n",
        "    yticks=np.arange(cm.shape[0]),\n",
        "    xticklabels=target_names, yticklabels=target_names,\n",
        "    title=title,\n",
        "    ylabel='True label',\n",
        "    xlabel='Predicted label')\n",
        "plt.setp(ax.get_xticklabels(), rotation=45, ha=\"right\",\n",
        "             rotation_mode=\"anchor\")\n",
        "np.set_printoptions(precision=2)\n",
        "plt.show()"
      ],
      "metadata": {
        "colab": {
          "base_uri": "https://localhost:8080/",
          "height": 344
        },
        "outputId": "71560e5c-d215-4051-fdde-ec4f51755914",
        "id": "5cGCHJYyQkXx"
      },
      "execution_count": 37,
      "outputs": [
        {
          "output_type": "display_data",
          "data": {
            "text/plain": [
              "<Figure size 432x288 with 2 Axes>"
            ],
            "image/png": "[encoded data removed]"
          },
          "metadata": {
            "needs_background": "light"
          }
        }
      ]
    },
    {
      "cell_type": "markdown",
      "source": [
        "### Layer Visualization"
      ],
      "metadata": {
        "id": "Fs_lQ6D__zH4"
      }
    },
    {
      "cell_type": "markdown",
      "source": [
        "#### Intermediate Layers"
      ],
      "metadata": {
        "id": "NE6oJmkyB04h"
      }
    },
    {
      "cell_type": "code",
      "source": [
        "img_path = '/content/InfraredSolarModules/images/1.jpg'\n",
        "\n",
        "def get_img_array(img_path, target_size):\n",
        "    # Open the image file and resize it.\n",
        "    img = keras.utils.load_img(img_path, target_size=target_size)\n",
        "    # Turn the image into a float32 NumPy array of shape (150, 150, 3)\n",
        "    array = keras.utils.img_to_array(img)\n",
        "    # Add a dimension to transform the array into\n",
        "    # a “batch” of a single sample. Its shape is now\n",
        "    # (1, 150, 150, 3)\n",
        "    array = np.expand_dims(array, axis=0)\n",
        "    return array\n",
        "\n",
        "\n",
        "img_tensor = get_img_array(img_path, target_size=(32, 40))\n",
        "\n",
        "\n",
        "print(img_tensor.shape)"
      ],
      "metadata": {
        "id": "DjJg7LR4CiZa",
        "outputId": "db47abcf-4f00-40ae-b896-191ea02e3957",
        "colab": {
          "base_uri": "https://localhost:8080/"
        }
      },
      "execution_count": null,
      "outputs": [
        {
          "output_type": "stream",
          "name": "stdout",
          "text": [
            "(1, 32, 40, 3)\n"
          ]
        }
      ]
    },
    {
      "cell_type": "code",
      "source": [
        "import matplotlib.pyplot as plt\n",
        "plt.axis(\"off\")\n",
        "plt.imshow(img_tensor[0].astype(\"uint8\"))\n",
        "plt.show()"
      ],
      "metadata": {
        "id": "yA7SWWoTB5OB",
        "outputId": "e382b5bc-6214-47e4-c537-c8035ddca99e",
        "colab": {
          "base_uri": "https://localhost:8080/",
          "height": 248
        }
      },
      "execution_count": null,
      "outputs": [
        {
          "output_type": "display_data",
          "data": {
            "text/plain": [
              "<Figure size 432x288 with 1 Axes>"
            ],
            "image/png": "[encoded data removed]"
          },
          "metadata": {
            "needs_background": "light"
          }
        }
      ]
    },
    {
      "cell_type": "code",
      "source": [
        "layer_outputs = []\n",
        "layer_names = []\n",
        "for layer in model.layers:\n",
        "    # Extract the outputs of all Conv2D and MaxPooling2D layers and put them in a list.\n",
        "    if isinstance(layer, (layers.Conv2D, layers.MaxPooling2D)):\n",
        "        layer_outputs.append(layer.output)\n",
        "        # Save the layer names for later\n",
        "        layer_names.append(layer.name)\n",
        "# Create a model that will return these outputs, given the model input.        \n",
        "activation_model = keras.Model(inputs=model.input, outputs=layer_outputs)"
      ],
      "metadata": {
        "id": "ZGM1HUf1CEOL"
      },
      "execution_count": null,
      "outputs": []
    },
    {
      "cell_type": "code",
      "source": [
        "# Return a list of nine NumPy arrays: one array per layer activation.\n",
        "activations = activation_model.predict(img_tensor)"
      ],
      "metadata": {
        "id": "NqUy6L1ECETc"
      },
      "execution_count": null,
      "outputs": []
    },
    {
      "cell_type": "code",
      "source": [
        "first_layer_activation = activations[0]\n",
        "print(first_layer_activation.shape)"
      ],
      "metadata": {
        "id": "_gd4S2_JDqh5",
        "outputId": "77e32d0d-f857-47bd-dd4b-532915e32ce4",
        "colab": {
          "base_uri": "https://localhost:8080/",
          "height": 184
        }
      },
      "execution_count": null,
      "outputs": [
        {
          "output_type": "error",
          "ename": "IndexError",
          "evalue": "ignored",
          "traceback": [
            "\u001b[0;31m---------------------------------------------------------------------------\u001b[0m",
            "\u001b[0;31mIndexError\u001b[0m                                Traceback (most recent call last)",
            "\u001b[0;32m<ipython-input-47-ff8d3e5bce90>\u001b[0m in \u001b[0;36m<module>\u001b[0;34m()\u001b[0m\n\u001b[0;32m----> 1\u001b[0;31m \u001b[0mfirst_layer_activation\u001b[0m \u001b[0;34m=\u001b[0m \u001b[0mactivations\u001b[0m\u001b[0;34m[\u001b[0m\u001b[0;36m0\u001b[0m\u001b[0;34m]\u001b[0m\u001b[0;34m\u001b[0m\u001b[0;34m\u001b[0m\u001b[0m\n\u001b[0m\u001b[1;32m      2\u001b[0m \u001b[0mprint\u001b[0m\u001b[0;34m(\u001b[0m\u001b[0mfirst_layer_activation\u001b[0m\u001b[0;34m.\u001b[0m\u001b[0mshape\u001b[0m\u001b[0;34m)\u001b[0m\u001b[0;34m\u001b[0m\u001b[0;34m\u001b[0m\u001b[0m\n",
            "\u001b[0;31mIndexError\u001b[0m: list index out of range"
          ]
        }
      ]
    },
    {
      "cell_type": "code",
      "source": [
        "plt.matshow(first_layer_activation[0, :, :, 5], cmap=\"viridis\")"
      ],
      "metadata": {
        "id": "6A3ePYXCESQ_",
        "outputId": "00f9cbb9-6b5b-4c1a-994a-90eb5c8d951e",
        "colab": {
          "base_uri": "https://localhost:8080/",
          "height": 166
        }
      },
      "execution_count": null,
      "outputs": [
        {
          "output_type": "error",
          "ename": "NameError",
          "evalue": "ignored",
          "traceback": [
            "\u001b[0;31m---------------------------------------------------------------------------\u001b[0m",
            "\u001b[0;31mNameError\u001b[0m                                 Traceback (most recent call last)",
            "\u001b[0;32m<ipython-input-48-a83a4caa1b7f>\u001b[0m in \u001b[0;36m<module>\u001b[0;34m()\u001b[0m\n\u001b[0;32m----> 1\u001b[0;31m \u001b[0mplt\u001b[0m\u001b[0;34m.\u001b[0m\u001b[0mmatshow\u001b[0m\u001b[0;34m(\u001b[0m\u001b[0mfirst_layer_activation\u001b[0m\u001b[0;34m[\u001b[0m\u001b[0;36m0\u001b[0m\u001b[0;34m,\u001b[0m \u001b[0;34m:\u001b[0m\u001b[0;34m,\u001b[0m \u001b[0;34m:\u001b[0m\u001b[0;34m,\u001b[0m \u001b[0;36m5\u001b[0m\u001b[0;34m]\u001b[0m\u001b[0;34m,\u001b[0m \u001b[0mcmap\u001b[0m\u001b[0;34m=\u001b[0m\u001b[0;34m\"viridis\"\u001b[0m\u001b[0;34m)\u001b[0m\u001b[0;34m\u001b[0m\u001b[0;34m\u001b[0m\u001b[0m\n\u001b[0m",
            "\u001b[0;31mNameError\u001b[0m: name 'first_layer_activation' is not defined"
          ]
        }
      ]
    },
    {
      "cell_type": "code",
      "source": [
        "images_per_row = 16\n",
        "# Iterate over the activations (and the names of the corresponding layers)\n",
        "for layer_name, layer_activation in zip(layer_names, activations):\n",
        "    # The layer activation has shape (1, size, size, n_features)\n",
        "    n_features = layer_activation.shape[-1]\n",
        "    size = layer_activation.shape[1]\n",
        "    n_cols = n_features // images_per_row\n",
        "    # Prepare an empty grid for displaying all the channels in this activation.\n",
        "    display_grid = np.zeros(((size + 1) * n_cols - 1, images_per_row * (size + 1) - 1))\n",
        "    for col in range(n_cols):\n",
        "        for row in range(images_per_row):\n",
        "            channel_index = col * images_per_row + row\n",
        "            # This is a single channel (or feature)\n",
        "            channel_image = layer_activation[0, :, :, channel_index].copy()\n",
        "            # Normalize channel values within the [0, 255] range. Allzero\n",
        "            # channels are kept at zero.\n",
        "            if channel_image.sum() != 0:\n",
        "                channel_image -= channel_image.mean()\n",
        "                channel_image /= channel_image.std()\n",
        "                channel_image *= 64\n",
        "                channel_image += 128\n",
        "            channel_image = np.clip(channel_image, 0, 255).astype(\"uint8\")\n",
        "            # Place the channel matrix in the empty grid we prepared.\n",
        "            display_grid[col * (size + 1): (col + 1) * size + col, row * (size + 1) : (row + 1) * size + row] = channel_image\n",
        "\n",
        "    # Display the grid for the layer.\n",
        "    scale = 1. / size\n",
        "    plt.figure(figsize=(scale * display_grid.shape[1],scale * display_grid.shape[0]))\n",
        "    plt.title(layer_name)\n",
        "    plt.grid(False)\n",
        "    plt.axis(\"off\")\n",
        "    plt.imshow(display_grid, aspect=\"auto\", cmap=\"viridis\")"
      ],
      "metadata": {
        "id": "CGALe_2CEWU3"
      },
      "execution_count": null,
      "outputs": []
    },
    {
      "cell_type": "markdown",
      "source": [
        "#### Convnet Filters"
      ],
      "metadata": {
        "id": "uzI0AhV6Bx88"
      }
    },
    {
      "cell_type": "code",
      "source": [
        "# summarize filter shapes\n",
        "for layer in model.layers:\n",
        "    # check for convolutional layer\n",
        "    if 'conv' not in layer.name:\n",
        "        continue\n",
        "    # get filter weights\n",
        "    filters, biases = layer.get_weights()\n",
        "    print(layer.name, filters.shape)"
      ],
      "metadata": {
        "id": "PGNsU2GQ_15L"
      },
      "execution_count": null,
      "outputs": []
    },
    {
      "cell_type": "code",
      "source": [
        "# retrieve weights from the first hidden layer\n",
        "filters, biases = model.layers[0].get_weights()\n",
        "print(filters.shape, biases.shape, filters.dtype)"
      ],
      "metadata": {
        "id": "vBq5F9TB_8pZ",
        "outputId": "ab3a19a5-9a5f-453b-cc47-3afc658df5aa",
        "colab": {
          "base_uri": "https://localhost:8080/",
          "height": 201
        }
      },
      "execution_count": null,
      "outputs": [
        {
          "output_type": "error",
          "ename": "ValueError",
          "evalue": "ignored",
          "traceback": [
            "\u001b[0;31m---------------------------------------------------------------------------\u001b[0m",
            "\u001b[0;31mValueError\u001b[0m                                Traceback (most recent call last)",
            "\u001b[0;32m<ipython-input-50-18464c316cdd>\u001b[0m in \u001b[0;36m<module>\u001b[0;34m()\u001b[0m\n\u001b[1;32m      1\u001b[0m \u001b[0;31m# retrieve weights from the first hidden layer\u001b[0m\u001b[0;34m\u001b[0m\u001b[0;34m\u001b[0m\u001b[0;34m\u001b[0m\u001b[0m\n\u001b[0;32m----> 2\u001b[0;31m \u001b[0mfilters\u001b[0m\u001b[0;34m,\u001b[0m \u001b[0mbiases\u001b[0m \u001b[0;34m=\u001b[0m \u001b[0mmodel\u001b[0m\u001b[0;34m.\u001b[0m\u001b[0mlayers\u001b[0m\u001b[0;34m[\u001b[0m\u001b[0;36m0\u001b[0m\u001b[0;34m]\u001b[0m\u001b[0;34m.\u001b[0m\u001b[0mget_weights\u001b[0m\u001b[0;34m(\u001b[0m\u001b[0;34m)\u001b[0m\u001b[0;34m\u001b[0m\u001b[0;34m\u001b[0m\u001b[0m\n\u001b[0m\u001b[1;32m      3\u001b[0m \u001b[0mprint\u001b[0m\u001b[0;34m(\u001b[0m\u001b[0mfilters\u001b[0m\u001b[0;34m.\u001b[0m\u001b[0mshape\u001b[0m\u001b[0;34m,\u001b[0m \u001b[0mbiases\u001b[0m\u001b[0;34m.\u001b[0m\u001b[0mshape\u001b[0m\u001b[0;34m,\u001b[0m \u001b[0mfilters\u001b[0m\u001b[0;34m.\u001b[0m\u001b[0mdtype\u001b[0m\u001b[0;34m)\u001b[0m\u001b[0;34m\u001b[0m\u001b[0;34m\u001b[0m\u001b[0m\n",
            "\u001b[0;31mValueError\u001b[0m: too many values to unpack (expected 2)"
          ]
        }
      ]
    },
    {
      "cell_type": "code",
      "source": [
        "# normalize filter values to 0-1 so we can visualize them\n",
        "f_min, f_max = filters.min(), filters.max()\n",
        "filters = (filters - f_min) / (f_max - f_min)"
      ],
      "metadata": {
        "id": "hlerz6uHAKyS",
        "outputId": "0b271d8c-9039-4013-d460-b9c4d3b4ffdd",
        "colab": {
          "base_uri": "https://localhost:8080/",
          "height": 201
        }
      },
      "execution_count": null,
      "outputs": [
        {
          "output_type": "error",
          "ename": "NameError",
          "evalue": "ignored",
          "traceback": [
            "\u001b[0;31m---------------------------------------------------------------------------\u001b[0m",
            "\u001b[0;31mNameError\u001b[0m                                 Traceback (most recent call last)",
            "\u001b[0;32m<ipython-input-21-933f945c56f7>\u001b[0m in \u001b[0;36m<module>\u001b[0;34m()\u001b[0m\n\u001b[1;32m      1\u001b[0m \u001b[0;31m# normalize filter values to 0-1 so we can visualize them\u001b[0m\u001b[0;34m\u001b[0m\u001b[0;34m\u001b[0m\u001b[0;34m\u001b[0m\u001b[0m\n\u001b[0;32m----> 2\u001b[0;31m \u001b[0mf_min\u001b[0m\u001b[0;34m,\u001b[0m \u001b[0mf_max\u001b[0m \u001b[0;34m=\u001b[0m \u001b[0mfilters\u001b[0m\u001b[0;34m.\u001b[0m\u001b[0mmin\u001b[0m\u001b[0;34m(\u001b[0m\u001b[0;34m)\u001b[0m\u001b[0;34m,\u001b[0m \u001b[0mfilters\u001b[0m\u001b[0;34m.\u001b[0m\u001b[0mmax\u001b[0m\u001b[0;34m(\u001b[0m\u001b[0;34m)\u001b[0m\u001b[0;34m\u001b[0m\u001b[0;34m\u001b[0m\u001b[0m\n\u001b[0m\u001b[1;32m      3\u001b[0m \u001b[0mfilters\u001b[0m \u001b[0;34m=\u001b[0m \u001b[0;34m(\u001b[0m\u001b[0mfilters\u001b[0m \u001b[0;34m-\u001b[0m \u001b[0mf_min\u001b[0m\u001b[0;34m)\u001b[0m \u001b[0;34m/\u001b[0m \u001b[0;34m(\u001b[0m\u001b[0mf_max\u001b[0m \u001b[0;34m-\u001b[0m \u001b[0mf_min\u001b[0m\u001b[0;34m)\u001b[0m\u001b[0;34m\u001b[0m\u001b[0;34m\u001b[0m\u001b[0m\n",
            "\u001b[0;31mNameError\u001b[0m: name 'filters' is not defined"
          ]
        }
      ]
    },
    {
      "cell_type": "code",
      "source": [
        "# plot all 32 filters\n",
        "n_filters = 32\n",
        "for i in range(n_filters):\n",
        "    # get the filter\n",
        "    f = filters[:, :, :, i]\n",
        "    ax = plt.subplot(8, 4 , i+1)\n",
        "    ax.set_xticks([])\n",
        "    ax.set_yticks([])\n",
        "    plt.imshow(f)\n",
        "# show the figure\n",
        "plt.show()"
      ],
      "metadata": {
        "id": "iGvvp8FMAMdJ"
      },
      "execution_count": null,
      "outputs": []
    },
    {
      "cell_type": "code",
      "source": [
        "# plot first few filters\n",
        "n_filters, ix = 6, 1\n",
        "for i in range(n_filters):\n",
        "    # get the filter\n",
        "    f = filters[:, :, :, i]\n",
        "    # plot each channel separately\n",
        "    for j in range(3):\n",
        "        # specify subplot and turn of axis\n",
        "        ax = plt.subplot(n_filters, 3, ix)\n",
        "        ax.set_xticks([])\n",
        "        ax.set_yticks([])\n",
        "        # plot filter channel in grayscale\n",
        "        plt.imshow(f[:, :, j], cmap='gray')\n",
        "        ix += 1\n",
        "# show the figure\n",
        "plt.show()"
      ],
      "metadata": {
        "id": "hoODheflAO5Q"
      },
      "execution_count": null,
      "outputs": []
    },
    {
      "cell_type": "markdown",
      "source": [
        "### Fine Tuning - Weight Compensated"
      ],
      "metadata": {
        "id": "UBVE56_dbogs"
      }
    },
    {
      "cell_type": "code",
      "source": [
        "# Freeze all layers until the block_5_ layers\n",
        "base_model_2.trainable = True\n",
        "for layer in base_model_2.layers[:-4]:\n",
        "    layer.trainable = False\n",
        "    \n",
        "for layer in base_model_2.layers[0:]:\n",
        "    print('layer name = ' + layer.name + ', shape = ' + repr(layer.output_shape)\n",
        "            + ', trainable = ' + repr(layer.trainable))  "
      ],
      "metadata": {
        "colab": {
          "base_uri": "https://localhost:8080/"
        },
        "id": "Sswuomlcbogy",
        "outputId": "7378868e-9949-4341-e492-931ed885da13"
      },
      "execution_count": 38,
      "outputs": [
        {
          "output_type": "stream",
          "name": "stdout",
          "text": [
            "layer name = input_5, shape = [(None, 32, 40, 3)], trainable = False\n",
            "layer name = block1_conv1, shape = (None, 32, 40, 64), trainable = False\n",
            "layer name = block1_conv2, shape = (None, 32, 40, 64), trainable = False\n",
            "layer name = block1_pool, shape = (None, 16, 20, 64), trainable = False\n",
            "layer name = block2_conv1, shape = (None, 16, 20, 128), trainable = False\n",
            "layer name = block2_conv2, shape = (None, 16, 20, 128), trainable = False\n",
            "layer name = block2_pool, shape = (None, 8, 10, 128), trainable = False\n",
            "layer name = block3_conv1, shape = (None, 8, 10, 256), trainable = False\n",
            "layer name = block3_conv2, shape = (None, 8, 10, 256), trainable = False\n",
            "layer name = block3_conv3, shape = (None, 8, 10, 256), trainable = False\n",
            "layer name = block3_pool, shape = (None, 4, 5, 256), trainable = False\n",
            "layer name = block4_conv1, shape = (None, 4, 5, 512), trainable = False\n",
            "layer name = block4_conv2, shape = (None, 4, 5, 512), trainable = False\n",
            "layer name = block4_conv3, shape = (None, 4, 5, 512), trainable = False\n",
            "layer name = block4_pool, shape = (None, 2, 2, 512), trainable = False\n",
            "layer name = block5_conv1, shape = (None, 2, 2, 512), trainable = True\n",
            "layer name = block5_conv2, shape = (None, 2, 2, 512), trainable = True\n",
            "layer name = block5_conv3, shape = (None, 2, 2, 512), trainable = True\n",
            "layer name = block5_pool, shape = (None, 1, 1, 512), trainable = True\n"
          ]
        }
      ]
    },
    {
      "cell_type": "code",
      "source": [
        "model_2.compile(loss = \"categorical_crossentropy\",\n",
        "    optimizer = keras.optimizers.Adam(learning_rate=1e-5),\n",
        "    metrics = [\"accuracy\"])"
      ],
      "metadata": {
        "id": "Zu56WPOPbogy"
      },
      "execution_count": 39,
      "outputs": []
    },
    {
      "cell_type": "code",
      "source": [
        "model_2.summary()"
      ],
      "metadata": {
        "colab": {
          "base_uri": "https://localhost:8080/"
        },
        "id": "3DYq1PE9bogy",
        "outputId": "8cb59939-1fb2-405c-fe80-16ab9c2e905e"
      },
      "execution_count": 40,
      "outputs": [
        {
          "output_type": "stream",
          "name": "stdout",
          "text": [
            "Model: \"sequential_2\"\n",
            "_________________________________________________________________\n",
            " Layer (type)                Output Shape              Param #   \n",
            "=================================================================\n",
            " vgg16 (Functional)          (None, 1, 1, 512)         14714688  \n",
            "                                                                 \n",
            " flatten_2 (Flatten)         (None, 512)               0         \n",
            "                                                                 \n",
            " dense_4 (Dense)             (None, 256)               131328    \n",
            "                                                                 \n",
            " batch_normalization_2 (Batc  (None, 256)              1024      \n",
            " hNormalization)                                                 \n",
            "                                                                 \n",
            " dropout_2 (Dropout)         (None, 256)               0         \n",
            "                                                                 \n",
            " dense_5 (Dense)             (None, 12)                3084      \n",
            "                                                                 \n",
            "=================================================================\n",
            "Total params: 14,850,124\n",
            "Trainable params: 7,214,348\n",
            "Non-trainable params: 7,635,776\n",
            "_________________________________________________________________\n"
          ]
        }
      ]
    },
    {
      "cell_type": "code",
      "source": [
        "logdir = os.path.join(\"logs_fine_tuning\", datetime.datetime.now().strftime(\"%Y%m%d-%H%M%S\"))\n",
        "\n",
        "\n",
        "callbacks = [\n",
        "    keras.callbacks.ModelCheckpoint(filepath=\"fine_tuning.keras\", save_best_only=True, monitor=\"val_loss\"),\n",
        "    tf.keras.callbacks.TensorBoard(logdir, histogram_freq=1)\n",
        "]\n",
        "\n",
        "history = model_2.fit(\n",
        "train_generator,\n",
        "epochs=60,\n",
        "validation_data = val_generator,\n",
        "class_weight = class_weights,\n",
        "callbacks = callbacks\n",
        ")"
      ],
      "metadata": {
        "colab": {
          "base_uri": "https://localhost:8080/"
        },
        "id": "d-MyYIrrbogy",
        "outputId": "cce84c4c-d7da-4e4a-dbe1-1fc30c55cd90"
      },
      "execution_count": 41,
      "outputs": [
        {
          "output_type": "stream",
          "name": "stdout",
          "text": [
            "Epoch 1/60\n",
            "200/200 [==============================] - 6s 28ms/step - loss: 1.2559 - accuracy: 0.4936 - val_loss: 1.6133 - val_accuracy: 0.4162\n",
            "Epoch 2/60\n",
            "200/200 [==============================] - 6s 28ms/step - loss: 1.1409 - accuracy: 0.5208 - val_loss: 1.5165 - val_accuracy: 0.4956\n",
            "Epoch 3/60\n",
            "200/200 [==============================] - 6s 28ms/step - loss: 1.0770 - accuracy: 0.5386 - val_loss: 1.2515 - val_accuracy: 0.5888\n",
            "Epoch 4/60\n",
            "200/200 [==============================] - 5s 27ms/step - loss: 1.0194 - accuracy: 0.5595 - val_loss: 1.4718 - val_accuracy: 0.5138\n",
            "Epoch 5/60\n",
            "200/200 [==============================] - 6s 30ms/step - loss: 0.9993 - accuracy: 0.5566 - val_loss: 1.2190 - val_accuracy: 0.5944\n",
            "Epoch 6/60\n",
            "200/200 [==============================] - 5s 27ms/step - loss: 0.9612 - accuracy: 0.5744 - val_loss: 1.2756 - val_accuracy: 0.5838\n",
            "Epoch 7/60\n",
            "200/200 [==============================] - 5s 26ms/step - loss: 0.9192 - accuracy: 0.5816 - val_loss: 1.2441 - val_accuracy: 0.5962\n",
            "Epoch 8/60\n",
            "200/200 [==============================] - 5s 25ms/step - loss: 0.8765 - accuracy: 0.5938 - val_loss: 1.2326 - val_accuracy: 0.5906\n",
            "Epoch 9/60\n",
            "200/200 [==============================] - 5s 27ms/step - loss: 0.8512 - accuracy: 0.6016 - val_loss: 1.0943 - val_accuracy: 0.6544\n",
            "Epoch 10/60\n",
            "200/200 [==============================] - 5s 27ms/step - loss: 0.8243 - accuracy: 0.6133 - val_loss: 1.0968 - val_accuracy: 0.6400\n",
            "Epoch 11/60\n",
            "200/200 [==============================] - 5s 27ms/step - loss: 0.7944 - accuracy: 0.6189 - val_loss: 1.5691 - val_accuracy: 0.4631\n",
            "Epoch 12/60\n",
            "200/200 [==============================] - 5s 27ms/step - loss: 0.7774 - accuracy: 0.6234 - val_loss: 1.3786 - val_accuracy: 0.5025\n",
            "Epoch 13/60\n",
            "200/200 [==============================] - 5s 27ms/step - loss: 0.7385 - accuracy: 0.6429 - val_loss: 1.2887 - val_accuracy: 0.5581\n",
            "Epoch 14/60\n",
            "200/200 [==============================] - 5s 26ms/step - loss: 0.7099 - accuracy: 0.6519 - val_loss: 1.1979 - val_accuracy: 0.6081\n",
            "Epoch 15/60\n",
            "200/200 [==============================] - 5s 27ms/step - loss: 0.6959 - accuracy: 0.6515 - val_loss: 1.2211 - val_accuracy: 0.5838\n",
            "Epoch 16/60\n",
            "200/200 [==============================] - 5s 26ms/step - loss: 0.7003 - accuracy: 0.6511 - val_loss: 1.2241 - val_accuracy: 0.6062\n",
            "Epoch 17/60\n",
            "200/200 [==============================] - 5s 27ms/step - loss: 0.6649 - accuracy: 0.6642 - val_loss: 1.1669 - val_accuracy: 0.6219\n",
            "Epoch 18/60\n",
            "200/200 [==============================] - 5s 27ms/step - loss: 0.6505 - accuracy: 0.6747 - val_loss: 1.1445 - val_accuracy: 0.6119\n",
            "Epoch 19/60\n",
            "200/200 [==============================] - 6s 28ms/step - loss: 0.6195 - accuracy: 0.6871 - val_loss: 1.0320 - val_accuracy: 0.6587\n",
            "Epoch 20/60\n",
            "200/200 [==============================] - 5s 27ms/step - loss: 0.6050 - accuracy: 0.6864 - val_loss: 1.0806 - val_accuracy: 0.6631\n",
            "Epoch 21/60\n",
            "200/200 [==============================] - 5s 27ms/step - loss: 0.5858 - accuracy: 0.6967 - val_loss: 1.1647 - val_accuracy: 0.6175\n",
            "Epoch 22/60\n",
            "200/200 [==============================] - 5s 27ms/step - loss: 0.5652 - accuracy: 0.6935 - val_loss: 1.1513 - val_accuracy: 0.6288\n",
            "Epoch 23/60\n",
            "200/200 [==============================] - 5s 27ms/step - loss: 0.5496 - accuracy: 0.7082 - val_loss: 1.0392 - val_accuracy: 0.6687\n",
            "Epoch 24/60\n",
            "200/200 [==============================] - 5s 27ms/step - loss: 0.5410 - accuracy: 0.7098 - val_loss: 1.0989 - val_accuracy: 0.6438\n",
            "Epoch 25/60\n",
            "200/200 [==============================] - 5s 27ms/step - loss: 0.5201 - accuracy: 0.7195 - val_loss: 1.1236 - val_accuracy: 0.6400\n",
            "Epoch 26/60\n",
            "200/200 [==============================] - 6s 28ms/step - loss: 0.5038 - accuracy: 0.7259 - val_loss: 0.9933 - val_accuracy: 0.6906\n",
            "Epoch 27/60\n",
            "200/200 [==============================] - 5s 27ms/step - loss: 0.4912 - accuracy: 0.7303 - val_loss: 1.0807 - val_accuracy: 0.6644\n",
            "Epoch 28/60\n",
            "200/200 [==============================] - 5s 27ms/step - loss: 0.4745 - accuracy: 0.7402 - val_loss: 1.0175 - val_accuracy: 0.6837\n",
            "Epoch 29/60\n",
            "200/200 [==============================] - 6s 28ms/step - loss: 0.4682 - accuracy: 0.7409 - val_loss: 0.9933 - val_accuracy: 0.6888\n",
            "Epoch 30/60\n",
            "200/200 [==============================] - 5s 27ms/step - loss: 0.4478 - accuracy: 0.7501 - val_loss: 1.1583 - val_accuracy: 0.6344\n",
            "Epoch 31/60\n",
            "200/200 [==============================] - 5s 27ms/step - loss: 0.4316 - accuracy: 0.7576 - val_loss: 1.1306 - val_accuracy: 0.6488\n",
            "Epoch 32/60\n",
            "200/200 [==============================] - 5s 26ms/step - loss: 0.4304 - accuracy: 0.7603 - val_loss: 1.1600 - val_accuracy: 0.6250\n",
            "Epoch 33/60\n",
            "200/200 [==============================] - 5s 27ms/step - loss: 0.4204 - accuracy: 0.7660 - val_loss: 1.0692 - val_accuracy: 0.6644\n",
            "Epoch 34/60\n",
            "200/200 [==============================] - 5s 26ms/step - loss: 0.4045 - accuracy: 0.7737 - val_loss: 1.0495 - val_accuracy: 0.6731\n",
            "Epoch 35/60\n",
            "200/200 [==============================] - 6s 28ms/step - loss: 0.3962 - accuracy: 0.7728 - val_loss: 0.8891 - val_accuracy: 0.7306\n",
            "Epoch 36/60\n",
            "200/200 [==============================] - 5s 27ms/step - loss: 0.3801 - accuracy: 0.7805 - val_loss: 1.1440 - val_accuracy: 0.6281\n",
            "Epoch 37/60\n",
            "200/200 [==============================] - 5s 26ms/step - loss: 0.3681 - accuracy: 0.7891 - val_loss: 0.9829 - val_accuracy: 0.6963\n",
            "Epoch 38/60\n",
            "200/200 [==============================] - 5s 27ms/step - loss: 0.3528 - accuracy: 0.8016 - val_loss: 0.9457 - val_accuracy: 0.7081\n",
            "Epoch 39/60\n",
            "200/200 [==============================] - 5s 26ms/step - loss: 0.3560 - accuracy: 0.7964 - val_loss: 1.1574 - val_accuracy: 0.6319\n",
            "Epoch 40/60\n",
            "200/200 [==============================] - 5s 26ms/step - loss: 0.3444 - accuracy: 0.8020 - val_loss: 1.0082 - val_accuracy: 0.6737\n",
            "Epoch 41/60\n",
            "200/200 [==============================] - 5s 27ms/step - loss: 0.3218 - accuracy: 0.8105 - val_loss: 1.3267 - val_accuracy: 0.5544\n",
            "Epoch 42/60\n",
            "200/200 [==============================] - 5s 26ms/step - loss: 0.3278 - accuracy: 0.8130 - val_loss: 1.0537 - val_accuracy: 0.6687\n",
            "Epoch 43/60\n",
            "200/200 [==============================] - 5s 27ms/step - loss: 0.3097 - accuracy: 0.8195 - val_loss: 0.8949 - val_accuracy: 0.7200\n",
            "Epoch 44/60\n",
            "200/200 [==============================] - 5s 27ms/step - loss: 0.2984 - accuracy: 0.8248 - val_loss: 0.9362 - val_accuracy: 0.7237\n",
            "Epoch 45/60\n",
            "200/200 [==============================] - 8s 40ms/step - loss: 0.2972 - accuracy: 0.8270 - val_loss: 1.0045 - val_accuracy: 0.7050\n",
            "Epoch 46/60\n",
            "200/200 [==============================] - 6s 28ms/step - loss: 0.2896 - accuracy: 0.8261 - val_loss: 1.1741 - val_accuracy: 0.6306\n",
            "Epoch 47/60\n",
            "200/200 [==============================] - 7s 33ms/step - loss: 0.2752 - accuracy: 0.8337 - val_loss: 1.0664 - val_accuracy: 0.6681\n",
            "Epoch 48/60\n",
            "200/200 [==============================] - 6s 30ms/step - loss: 0.2664 - accuracy: 0.8402 - val_loss: 1.0449 - val_accuracy: 0.6775\n",
            "Epoch 49/60\n",
            "200/200 [==============================] - 6s 32ms/step - loss: 0.2609 - accuracy: 0.8445 - val_loss: 0.8763 - val_accuracy: 0.7381\n",
            "Epoch 50/60\n",
            "200/200 [==============================] - 5s 27ms/step - loss: 0.2469 - accuracy: 0.8580 - val_loss: 0.9645 - val_accuracy: 0.7050\n",
            "Epoch 51/60\n",
            "200/200 [==============================] - 7s 34ms/step - loss: 0.2453 - accuracy: 0.8573 - val_loss: 1.2316 - val_accuracy: 0.5919\n",
            "Epoch 52/60\n",
            "200/200 [==============================] - 5s 27ms/step - loss: 0.2359 - accuracy: 0.8609 - val_loss: 1.0870 - val_accuracy: 0.6538\n",
            "Epoch 53/60\n",
            "200/200 [==============================] - 6s 30ms/step - loss: 0.2249 - accuracy: 0.8648 - val_loss: 1.0043 - val_accuracy: 0.6956\n",
            "Epoch 54/60\n",
            "200/200 [==============================] - 7s 33ms/step - loss: 0.2252 - accuracy: 0.8641 - val_loss: 0.9915 - val_accuracy: 0.6938\n",
            "Epoch 55/60\n",
            "200/200 [==============================] - 7s 34ms/step - loss: 0.2123 - accuracy: 0.8728 - val_loss: 0.9300 - val_accuracy: 0.7188\n",
            "Epoch 56/60\n",
            "200/200 [==============================] - 6s 28ms/step - loss: 0.2075 - accuracy: 0.8781 - val_loss: 0.8896 - val_accuracy: 0.7344\n",
            "Epoch 57/60\n",
            "200/200 [==============================] - 5s 26ms/step - loss: 0.2004 - accuracy: 0.8796 - val_loss: 0.9840 - val_accuracy: 0.6994\n",
            "Epoch 58/60\n",
            "200/200 [==============================] - 5s 27ms/step - loss: 0.1938 - accuracy: 0.8841 - val_loss: 1.0792 - val_accuracy: 0.6719\n",
            "Epoch 59/60\n",
            "200/200 [==============================] - 5s 26ms/step - loss: 0.1982 - accuracy: 0.8811 - val_loss: 0.9145 - val_accuracy: 0.7275\n",
            "Epoch 60/60\n",
            "200/200 [==============================] - 5s 26ms/step - loss: 0.1892 - accuracy: 0.8815 - val_loss: 0.9732 - val_accuracy: 0.7163\n"
          ]
        }
      ]
    },
    {
      "cell_type": "markdown",
      "source": [
        "#### Model Performance - With Fine Tuning"
      ],
      "metadata": {
        "id": "hMGhgt5ogKkW"
      }
    },
    {
      "cell_type": "code",
      "source": [
        "plt.plot(history.history['accuracy'])\n",
        "plt.plot(history.history['val_accuracy'])\n",
        "plt.title('model accuracy')\n",
        "plt.ylabel('accuracy')\n",
        "plt.xlabel('epoch')\n",
        "plt.legend(['train', 'valid'], loc='lower right')\n",
        "plt.show()\n",
        "plt.plot(history.history['loss'])\n",
        "plt.plot(history.history['val_loss'])\n",
        "plt.title('model loss')\n",
        "plt.ylabel('loss')\n",
        "plt.xlabel('epoch')\n",
        "plt.legend(['train', 'valid'], loc='upper right')\n",
        "plt.show()"
      ],
      "metadata": {
        "colab": {
          "base_uri": "https://localhost:8080/",
          "height": 573
        },
        "outputId": "4fb3fc2e-ffbc-487e-b70d-6a53ef00bfe3",
        "id": "Lt5ZLOBqgKkW"
      },
      "execution_count": 42,
      "outputs": [
        {
          "output_type": "display_data",
          "data": {
            "text/plain": [
              "<Figure size 432x288 with 1 Axes>"
            ],
            "image/png": "[encoded data removed]"
          },
          "metadata": {
            "needs_background": "light"
          }
        },
        {
          "output_type": "display_data",
          "data": {
            "text/plain": [
              "<Figure size 432x288 with 1 Axes>"
            ],
            "image/png": "[encoded data removed]"
          },
          "metadata": {
            "needs_background": "light"
          }
        }
      ]
    },
    {
      "cell_type": "code",
      "source": [
        " model_2.evaluate(val_generator)"
      ],
      "metadata": {
        "colab": {
          "base_uri": "https://localhost:8080/"
        },
        "outputId": "cd48b527-a44d-4db0-cc0f-e012d59430d4",
        "id": "SdDS5L5KgKkX"
      },
      "execution_count": 43,
      "outputs": [
        {
          "output_type": "stream",
          "name": "stdout",
          "text": [
            "25/25 [==============================] - 0s 17ms/step - loss: 0.9732 - accuracy: 0.7163\n"
          ]
        },
        {
          "output_type": "execute_result",
          "data": {
            "text/plain": [
              "[0.9732373952865601, 0.7162500023841858]"
            ]
          },
          "metadata": {},
          "execution_count": 43
        }
      ]
    },
    {
      "cell_type": "code",
      "source": [
        "x = list(train_generator.class_indices.keys())\n",
        "num_of_test_samples = 1600\n",
        "\n",
        "Y_pred = model_2.predict_generator(val_generator, num_of_test_samples // batch_size+1)\n",
        "y_pred = np.argmax(Y_pred, axis=1)\n",
        "print()\n",
        "print('Confusion Matrix')\n",
        "print(confusion_matrix(val_generator.classes, y_pred))\n",
        "\n",
        "print()\n",
        "print('Classification Report')\n",
        "target_names = x\n",
        "print(classification_report(val_generator.classes, y_pred, target_names = target_names))"
      ],
      "metadata": {
        "colab": {
          "base_uri": "https://localhost:8080/"
        },
        "outputId": "ede229a2-cbd6-4572-c17b-cc2fdafd4c56",
        "id": "ADiJ611cgKkX"
      },
      "execution_count": 44,
      "outputs": [
        {
          "output_type": "stream",
          "name": "stderr",
          "text": [
            "/usr/local/lib/python3.7/dist-packages/ipykernel_launcher.py:4: UserWarning: `Model.predict_generator` is deprecated and will be removed in a future version. Please use `Model.predict`, which supports generators.\n",
            "  after removing the cwd from sys.path.\n"
          ]
        },
        {
          "output_type": "stream",
          "name": "stdout",
          "text": [
            "WARNING:tensorflow:Your input ran out of data; interrupting training. Make sure that your dataset or generator can generate at least `steps_per_epoch * epochs` batches (in this case, 26 batches). You may need to use the repeat() function when building your dataset.\n",
            "\n",
            "Confusion Matrix\n",
            "[[  7   5   5  13   3   1   1  56  14  10   4  13]\n",
            " [ 10   4   6   6   3   2   2  45   7  16   2  10]\n",
            " [  6   5   6   4   1   3   2  45   8   6   2  10]\n",
            " [  9  11   8   5   0   1   1  51   4  15   1  11]\n",
            " [  2   0   1   2   0   0   0   5   1   1   1   4]\n",
            " [  0   0   2   5   0   1   0   6   2   2   1   1]\n",
            " [  3   1   0   0   1   1   0   6   1   3   1   1]\n",
            " [ 57  37  41  67   8  11  12 332  40  68  11  93]\n",
            " [  3   5   3   7   1   1   0  22   7   3   0   7]\n",
            " [  6   4   4   9   1   0   3  43   7   5   1   9]\n",
            " [  3   1   1   4   0   0   0   2   1   1   0   2]\n",
            " [ 11   9   9  15   1   3   4  52   8  12   0  18]]\n",
            "\n",
            "Classification Report\n",
            "                precision    recall  f1-score   support\n",
            "\n",
            "          Cell       0.06      0.05      0.06       132\n",
            "    Cell-Multi       0.05      0.04      0.04       113\n",
            "      Cracking       0.07      0.06      0.07        98\n",
            "         Diode       0.04      0.04      0.04       117\n",
            "   Diode-Multi       0.00      0.00      0.00        17\n",
            "      Hot-Spot       0.04      0.05      0.05        20\n",
            "Hot-Spot-Multi       0.00      0.00      0.00        18\n",
            "    No-Anomaly       0.50      0.43      0.46       777\n",
            "Offline-Module       0.07      0.12      0.09        59\n",
            "     Shadowing       0.04      0.05      0.04        92\n",
            "       Soiling       0.00      0.00      0.00        15\n",
            "    Vegetation       0.10      0.13      0.11       142\n",
            "\n",
            "      accuracy                           0.24      1600\n",
            "     macro avg       0.08      0.08      0.08      1600\n",
            "  weighted avg       0.27      0.24      0.25      1600\n",
            "\n"
          ]
        }
      ]
    },
    {
      "cell_type": "code",
      "source": [
        "cm = confusion_matrix(val_generator.classes, y_pred)\n",
        "fig, ax = plt.subplots()\n",
        "im = ax.imshow(cm, interpolation='nearest', cmap=plt.cm.Blues)\n",
        "title = 'Confusion matrix'\n",
        "ax.figure.colorbar(im, ax=ax)\n",
        "ax.set(xticks=np.arange(cm.shape[1]),\n",
        "    yticks=np.arange(cm.shape[0]),\n",
        "    xticklabels=target_names, yticklabels=target_names,\n",
        "    title=title,\n",
        "    ylabel='True label',\n",
        "    xlabel='Predicted label')\n",
        "plt.setp(ax.get_xticklabels(), rotation=45, ha=\"right\",\n",
        "             rotation_mode=\"anchor\")\n",
        "np.set_printoptions(precision=2)\n",
        "plt.show()"
      ],
      "metadata": {
        "colab": {
          "base_uri": "https://localhost:8080/",
          "height": 344
        },
        "outputId": "5c9269bd-230a-4866-833b-4f355c5c7bfb",
        "id": "qa8hhzGrgKkX"
      },
      "execution_count": 45,
      "outputs": [
        {
          "output_type": "display_data",
          "data": {
            "text/plain": [
              "<Figure size 432x288 with 2 Axes>"
            ],
            "image/png": "[encoded data removed]"
          },
          "metadata": {
            "needs_background": "light"
          }
        }
      ]
    },
    {
      "cell_type": "markdown",
      "source": [
        "## Model_3 - With Augmentation"
      ],
      "metadata": {
        "id": "DmubkRjeimql"
      }
    },
    {
      "cell_type": "markdown",
      "source": [
        "### Compute Model"
      ],
      "metadata": {
        "id": "mBwRs76tuEGs"
      }
    },
    {
      "cell_type": "code",
      "source": [
        "image_height = 40\n",
        "image_width = 32\n",
        "batch_size = 32\n",
        "\n",
        "train_datagen_3 = ImageDataGenerator(\n",
        "        rescale=1./255,\n",
        "        shear_range=0.01,\n",
        "        zoom_range=0.005,)\n",
        "\n",
        "validation_datagen_3 = ImageDataGenerator(rescale=1./255)\n",
        "\n",
        "\n",
        "train_generator_3 = train_datagen_3.flow_from_dataframe(\n",
        "    dataframe = train_df,\n",
        "    directory = \"/content/InfraredSolarModules/images/\",\n",
        "    x_col = \"image_name\",\n",
        "    y_col = \"anomaly_class\",\n",
        "    class_mode = \"categorical\",\n",
        "    target_size = (image_height, image_width),\n",
        "    batch_size = batch_size,\n",
        "    color_mode = \"rgb\"\n",
        ")\n",
        "\n",
        "validation_generator_3 = validation_datagen_3.flow_from_dataframe(\n",
        "    dataframe = validation_df,\n",
        "    directory = \"/content/InfraredSolarModules/images/\",\n",
        "    x_col = \"image_name\",\n",
        "    y_col = \"anomaly_class\",\n",
        "    class_mode = \"categorical\",\n",
        "    target_size = (image_height, image_width),\n",
        "    batch_size = batch_size,\n",
        "    color_mode = \"rgb\"\n",
        "     )"
      ],
      "metadata": {
        "colab": {
          "base_uri": "https://localhost:8080/"
        },
        "id": "g4Ayv3CWi-Ml",
        "outputId": "f555cfa3-6e61-453e-c544-c0fe6678d3ec"
      },
      "execution_count": null,
      "outputs": [
        {
          "output_type": "stream",
          "name": "stdout",
          "text": [
            "Found 12800 validated image filenames belonging to 12 classes.\n",
            "Found 1600 validated image filenames belonging to 12 classes.\n"
          ]
        }
      ]
    },
    {
      "cell_type": "code",
      "source": [
        "train_classes_3 = np.unique(train_generator_3.classes)\n",
        "train_generator_3.classes\n",
        "\n",
        "train_classes_3 = train_generator_3.classes\n",
        "class_weights_3 = compute_class_weight(\n",
        "                                        class_weight = \"balanced\",\n",
        "                                        classes = np.unique(train_classes_3),\n",
        "                                        y = train_classes_3                                                    \n",
        "                                    )\n",
        "class_weights_3 = dict(zip(np.unique(train_classes), class_weights_3))\n",
        "class_weights_3"
      ],
      "metadata": {
        "colab": {
          "base_uri": "https://localhost:8080/"
        },
        "id": "KcaoBRf16eIW",
        "outputId": "9551dc2d-dc7f-4cc6-fba2-44ab8bd19b97"
      },
      "execution_count": null,
      "outputs": [
        {
          "output_type": "execute_result",
          "data": {
            "text/plain": [
              "{0: 0.8844665561083471,\n",
              " 1: 1.3152486642005754,\n",
              " 2: 1.7660044150110374,\n",
              " 3: 1.0962658444672833,\n",
              " 4: 9.696969696969697,\n",
              " 5: 6.666666666666667,\n",
              " 6: 7.017543859649122,\n",
              " 7: 0.16581170008808746,\n",
              " 8: 2.0087884494664157,\n",
              " 9: 1.6334864726901481,\n",
              " 10: 7.785888077858881,\n",
              " 11: 1.035598705501618}"
            ]
          },
          "metadata": {},
          "execution_count": 42
        }
      ]
    },
    {
      "cell_type": "code",
      "source": [
        "base_model_3 = base_model\n",
        "\n",
        "base_model_3 = VGG16(\n",
        "    input_shape=(image_width,image_height,3),\n",
        "    include_top=False,\n",
        "    weights=\"imagenet\"\n",
        ")\n",
        "\n",
        "for layer in base_model_3.layers:\n",
        "    layer.trainable=False"
      ],
      "metadata": {
        "id": "wvmzL95pitp3"
      },
      "execution_count": null,
      "outputs": []
    },
    {
      "cell_type": "code",
      "source": [
        "model_3 = tf.keras.models.Sequential([\n",
        "    base_model_3,\n",
        "    \n",
        "    Flatten(),    \n",
        "    Dense(256,activation=\"relu\"),\n",
        "    BatchNormalization(),\n",
        "    Dropout(0.5),\n",
        "    Dense(12, activation='softmax')\n",
        "])"
      ],
      "metadata": {
        "id": "wVu69dZplg9c"
      },
      "execution_count": null,
      "outputs": []
    },
    {
      "cell_type": "code",
      "source": [
        "model_3.compile(loss = \"categorical_crossentropy\",\n",
        "    optimizer = keras.optimizers.Adam(learning_rate = 1e-4),\n",
        "    metrics = [\"accuracy\"])\n",
        "\n",
        "logdir = os.path.join(\"logs_feature_extraction_with_augmentation\", datetime.datetime.now().strftime(\"%Y%m%d-%H%M%S\"))\n",
        "\n",
        "callbacks = [\n",
        "    keras.callbacks.ModelCheckpoint(filepath=\"feature_extraction_with_augmentation.h5\", save_best_only=True, monitor=\"val_loss\"),\n",
        "    tf.keras.callbacks.TensorBoard(logdir, histogram_freq=1)\n",
        "]\n",
        "\n",
        "history = model_3.fit(\n",
        "    train_generator_3,\n",
        "    epochs = 120,\n",
        "    validation_data = validation_generator_3,\n",
        "    class_weight = class_weights,\n",
        "    callbacks = callbacks)"
      ],
      "metadata": {
        "colab": {
          "base_uri": "https://localhost:8080/"
        },
        "id": "mQLXo7tmkttw",
        "outputId": "3bb5e460-1cae-4cdc-b0dd-d0fb68e23f6b"
      },
      "execution_count": null,
      "outputs": [
        {
          "output_type": "stream",
          "name": "stdout",
          "text": [
            "Epoch 1/80\n",
            "400/400 [==============================] - 12s 29ms/step - loss: 2.4345 - accuracy: 0.1886 - val_loss: 1.9580 - val_accuracy: 0.3650\n",
            "Epoch 2/80\n",
            "400/400 [==============================] - 11s 28ms/step - loss: 2.0931 - accuracy: 0.2587 - val_loss: 2.0611 - val_accuracy: 0.2306\n",
            "Epoch 3/80\n",
            "400/400 [==============================] - 11s 28ms/step - loss: 1.9399 - accuracy: 0.3139 - val_loss: 1.9314 - val_accuracy: 0.3487\n",
            "Epoch 4/80\n",
            "400/400 [==============================] - 11s 28ms/step - loss: 1.8416 - accuracy: 0.3334 - val_loss: 1.7955 - val_accuracy: 0.3931\n",
            "Epoch 5/80\n",
            "400/400 [==============================] - 11s 27ms/step - loss: 1.7930 - accuracy: 0.3541 - val_loss: 1.5769 - val_accuracy: 0.5075\n",
            "Epoch 6/80\n",
            "400/400 [==============================] - 11s 27ms/step - loss: 1.7244 - accuracy: 0.3619 - val_loss: 1.8200 - val_accuracy: 0.3200\n",
            "Epoch 7/80\n",
            "400/400 [==============================] - 11s 27ms/step - loss: 1.6611 - accuracy: 0.3697 - val_loss: 1.5839 - val_accuracy: 0.4837\n",
            "Epoch 8/80\n",
            "400/400 [==============================] - 11s 27ms/step - loss: 1.6204 - accuracy: 0.3919 - val_loss: 1.8649 - val_accuracy: 0.3244\n",
            "Epoch 9/80\n",
            "400/400 [==============================] - 11s 28ms/step - loss: 1.5961 - accuracy: 0.3993 - val_loss: 1.6989 - val_accuracy: 0.4250\n",
            "Epoch 10/80\n",
            "400/400 [==============================] - 11s 28ms/step - loss: 1.5597 - accuracy: 0.4005 - val_loss: 1.4913 - val_accuracy: 0.5031\n",
            "Epoch 11/80\n",
            "400/400 [==============================] - 11s 27ms/step - loss: 1.5363 - accuracy: 0.4186 - val_loss: 1.6525 - val_accuracy: 0.4450\n",
            "Epoch 12/80\n",
            "400/400 [==============================] - 11s 28ms/step - loss: 1.5201 - accuracy: 0.4162 - val_loss: 1.6928 - val_accuracy: 0.3831\n",
            "Epoch 13/80\n",
            "400/400 [==============================] - 11s 28ms/step - loss: 1.5110 - accuracy: 0.4114 - val_loss: 1.4588 - val_accuracy: 0.5044\n",
            "Epoch 14/80\n",
            "400/400 [==============================] - 11s 28ms/step - loss: 1.4893 - accuracy: 0.4241 - val_loss: 1.6268 - val_accuracy: 0.4281\n",
            "Epoch 15/80\n",
            "400/400 [==============================] - 11s 28ms/step - loss: 1.4659 - accuracy: 0.4340 - val_loss: 1.6825 - val_accuracy: 0.4112\n",
            "Epoch 16/80\n",
            "400/400 [==============================] - 11s 28ms/step - loss: 1.4715 - accuracy: 0.4410 - val_loss: 1.6344 - val_accuracy: 0.4281\n",
            "Epoch 17/80\n",
            "400/400 [==============================] - 11s 28ms/step - loss: 1.4380 - accuracy: 0.4358 - val_loss: 1.6590 - val_accuracy: 0.4219\n",
            "Epoch 18/80\n",
            "400/400 [==============================] - 11s 28ms/step - loss: 1.4462 - accuracy: 0.4483 - val_loss: 1.5551 - val_accuracy: 0.4631\n",
            "Epoch 19/80\n",
            "400/400 [==============================] - 11s 28ms/step - loss: 1.4334 - accuracy: 0.4501 - val_loss: 1.3821 - val_accuracy: 0.5606\n",
            "Epoch 20/80\n",
            "400/400 [==============================] - 11s 28ms/step - loss: 1.4170 - accuracy: 0.4464 - val_loss: 1.5953 - val_accuracy: 0.4425\n",
            "Epoch 21/80\n",
            "400/400 [==============================] - 11s 28ms/step - loss: 1.4159 - accuracy: 0.4553 - val_loss: 1.5679 - val_accuracy: 0.4412\n",
            "Epoch 22/80\n",
            "400/400 [==============================] - 12s 29ms/step - loss: 1.4170 - accuracy: 0.4558 - val_loss: 1.5795 - val_accuracy: 0.4619\n",
            "Epoch 23/80\n",
            "400/400 [==============================] - 11s 28ms/step - loss: 1.3992 - accuracy: 0.4487 - val_loss: 1.6402 - val_accuracy: 0.4219\n",
            "Epoch 24/80\n",
            "400/400 [==============================] - 11s 28ms/step - loss: 1.4014 - accuracy: 0.4472 - val_loss: 1.5370 - val_accuracy: 0.4956\n",
            "Epoch 25/80\n",
            "400/400 [==============================] - 11s 28ms/step - loss: 1.3959 - accuracy: 0.4530 - val_loss: 1.3823 - val_accuracy: 0.5481\n",
            "Epoch 26/80\n",
            "400/400 [==============================] - 11s 29ms/step - loss: 1.3869 - accuracy: 0.4491 - val_loss: 1.3700 - val_accuracy: 0.5431\n",
            "Epoch 27/80\n",
            "400/400 [==============================] - 11s 28ms/step - loss: 1.3750 - accuracy: 0.4602 - val_loss: 1.6586 - val_accuracy: 0.4044\n",
            "Epoch 28/80\n",
            "400/400 [==============================] - 11s 28ms/step - loss: 1.3577 - accuracy: 0.4609 - val_loss: 1.3707 - val_accuracy: 0.5425\n",
            "Epoch 29/80\n",
            "400/400 [==============================] - 11s 28ms/step - loss: 1.3523 - accuracy: 0.4657 - val_loss: 1.6396 - val_accuracy: 0.4044\n",
            "Epoch 30/80\n",
            "400/400 [==============================] - 11s 28ms/step - loss: 1.3512 - accuracy: 0.4751 - val_loss: 1.6479 - val_accuracy: 0.4187\n",
            "Epoch 31/80\n",
            "400/400 [==============================] - 11s 28ms/step - loss: 1.3532 - accuracy: 0.4734 - val_loss: 1.5783 - val_accuracy: 0.4519\n",
            "Epoch 32/80\n",
            "400/400 [==============================] - 11s 28ms/step - loss: 1.3227 - accuracy: 0.4746 - val_loss: 1.6501 - val_accuracy: 0.4200\n",
            "Epoch 33/80\n",
            "400/400 [==============================] - 11s 28ms/step - loss: 1.3244 - accuracy: 0.4812 - val_loss: 1.3729 - val_accuracy: 0.5612\n",
            "Epoch 34/80\n",
            "400/400 [==============================] - 11s 28ms/step - loss: 1.3233 - accuracy: 0.4760 - val_loss: 1.4146 - val_accuracy: 0.5081\n",
            "Epoch 35/80\n",
            "400/400 [==============================] - 11s 28ms/step - loss: 1.3235 - accuracy: 0.4801 - val_loss: 1.7235 - val_accuracy: 0.3706\n",
            "Epoch 36/80\n",
            "400/400 [==============================] - 11s 28ms/step - loss: 1.3116 - accuracy: 0.4782 - val_loss: 1.8123 - val_accuracy: 0.3744\n",
            "Epoch 37/80\n",
            "400/400 [==============================] - 11s 29ms/step - loss: 1.3039 - accuracy: 0.4836 - val_loss: 1.4290 - val_accuracy: 0.5131\n",
            "Epoch 38/80\n",
            "400/400 [==============================] - 11s 28ms/step - loss: 1.3091 - accuracy: 0.4803 - val_loss: 1.5681 - val_accuracy: 0.4613\n",
            "Epoch 39/80\n",
            "400/400 [==============================] - 11s 28ms/step - loss: 1.3033 - accuracy: 0.4835 - val_loss: 1.4601 - val_accuracy: 0.5050\n",
            "Epoch 40/80\n",
            "400/400 [==============================] - 11s 28ms/step - loss: 1.2991 - accuracy: 0.4812 - val_loss: 1.4860 - val_accuracy: 0.4769\n",
            "Epoch 41/80\n",
            "400/400 [==============================] - 11s 28ms/step - loss: 1.2925 - accuracy: 0.4830 - val_loss: 1.5430 - val_accuracy: 0.4844\n",
            "Epoch 42/80\n",
            "400/400 [==============================] - 11s 28ms/step - loss: 1.3014 - accuracy: 0.4841 - val_loss: 1.5891 - val_accuracy: 0.4406\n",
            "Epoch 43/80\n",
            "400/400 [==============================] - 11s 28ms/step - loss: 1.2970 - accuracy: 0.4783 - val_loss: 1.6140 - val_accuracy: 0.4381\n",
            "Epoch 44/80\n",
            "400/400 [==============================] - 11s 28ms/step - loss: 1.2756 - accuracy: 0.4710 - val_loss: 1.4701 - val_accuracy: 0.5006\n",
            "Epoch 45/80\n",
            "400/400 [==============================] - 11s 28ms/step - loss: 1.2720 - accuracy: 0.4855 - val_loss: 1.4737 - val_accuracy: 0.4975\n",
            "Epoch 46/80\n",
            "400/400 [==============================] - 11s 28ms/step - loss: 1.2751 - accuracy: 0.4838 - val_loss: 1.4985 - val_accuracy: 0.4881\n",
            "Epoch 47/80\n",
            "400/400 [==============================] - 11s 28ms/step - loss: 1.2741 - accuracy: 0.4815 - val_loss: 1.3237 - val_accuracy: 0.5638\n",
            "Epoch 48/80\n",
            "400/400 [==============================] - 11s 28ms/step - loss: 1.2654 - accuracy: 0.4878 - val_loss: 1.6515 - val_accuracy: 0.4350\n",
            "Epoch 49/80\n",
            "400/400 [==============================] - 12s 29ms/step - loss: 1.2804 - accuracy: 0.4833 - val_loss: 1.4866 - val_accuracy: 0.4837\n",
            "Epoch 50/80\n",
            "400/400 [==============================] - 11s 28ms/step - loss: 1.2758 - accuracy: 0.4840 - val_loss: 1.2722 - val_accuracy: 0.5800\n",
            "Epoch 51/80\n",
            "400/400 [==============================] - 11s 28ms/step - loss: 1.2649 - accuracy: 0.4827 - val_loss: 1.5893 - val_accuracy: 0.4325\n",
            "Epoch 52/80\n",
            "400/400 [==============================] - 11s 28ms/step - loss: 1.2682 - accuracy: 0.4931 - val_loss: 1.5994 - val_accuracy: 0.4281\n",
            "Epoch 53/80\n",
            "400/400 [==============================] - 11s 29ms/step - loss: 1.2447 - accuracy: 0.4905 - val_loss: 1.3869 - val_accuracy: 0.5594\n",
            "Epoch 54/80\n",
            "400/400 [==============================] - 11s 28ms/step - loss: 1.2668 - accuracy: 0.4849 - val_loss: 1.4571 - val_accuracy: 0.5031\n",
            "Epoch 55/80\n",
            "400/400 [==============================] - 11s 28ms/step - loss: 1.2574 - accuracy: 0.4984 - val_loss: 1.5247 - val_accuracy: 0.4712\n",
            "Epoch 56/80\n",
            "400/400 [==============================] - 11s 28ms/step - loss: 1.2585 - accuracy: 0.4865 - val_loss: 1.3828 - val_accuracy: 0.5269\n",
            "Epoch 57/80\n",
            "400/400 [==============================] - 11s 28ms/step - loss: 1.2590 - accuracy: 0.4905 - val_loss: 1.5120 - val_accuracy: 0.4631\n",
            "Epoch 58/80\n",
            "400/400 [==============================] - 11s 28ms/step - loss: 1.2589 - accuracy: 0.4872 - val_loss: 1.6720 - val_accuracy: 0.4056\n",
            "Epoch 59/80\n",
            "400/400 [==============================] - 11s 28ms/step - loss: 1.2418 - accuracy: 0.4922 - val_loss: 1.4267 - val_accuracy: 0.5331\n",
            "Epoch 60/80\n",
            "400/400 [==============================] - 11s 29ms/step - loss: 1.2540 - accuracy: 0.4937 - val_loss: 1.5574 - val_accuracy: 0.4725\n",
            "Epoch 61/80\n",
            "400/400 [==============================] - 11s 28ms/step - loss: 1.2410 - accuracy: 0.4912 - val_loss: 1.5644 - val_accuracy: 0.4613\n",
            "Epoch 62/80\n",
            "400/400 [==============================] - 11s 28ms/step - loss: 1.2351 - accuracy: 0.4979 - val_loss: 1.5709 - val_accuracy: 0.4656\n",
            "Epoch 63/80\n",
            "400/400 [==============================] - 12s 30ms/step - loss: 1.2309 - accuracy: 0.4963 - val_loss: 1.6698 - val_accuracy: 0.3831\n",
            "Epoch 64/80\n",
            "400/400 [==============================] - 11s 28ms/step - loss: 1.2495 - accuracy: 0.4923 - val_loss: 1.4649 - val_accuracy: 0.5000\n",
            "Epoch 65/80\n",
            "400/400 [==============================] - 11s 28ms/step - loss: 1.2252 - accuracy: 0.4996 - val_loss: 1.4713 - val_accuracy: 0.4875\n",
            "Epoch 66/80\n",
            "400/400 [==============================] - 11s 28ms/step - loss: 1.2375 - accuracy: 0.4921 - val_loss: 1.4737 - val_accuracy: 0.5106\n",
            "Epoch 67/80\n",
            "400/400 [==============================] - 12s 29ms/step - loss: 1.2274 - accuracy: 0.4977 - val_loss: 1.3688 - val_accuracy: 0.5312\n",
            "Epoch 68/80\n",
            "400/400 [==============================] - 11s 27ms/step - loss: 1.2172 - accuracy: 0.4966 - val_loss: 1.5885 - val_accuracy: 0.4525\n",
            "Epoch 69/80\n",
            "400/400 [==============================] - 11s 27ms/step - loss: 1.2172 - accuracy: 0.4970 - val_loss: 1.3358 - val_accuracy: 0.5344\n",
            "Epoch 70/80\n",
            "400/400 [==============================] - 11s 27ms/step - loss: 1.2233 - accuracy: 0.4923 - val_loss: 1.6811 - val_accuracy: 0.4212\n",
            "Epoch 71/80\n",
            "400/400 [==============================] - 11s 27ms/step - loss: 1.2108 - accuracy: 0.4980 - val_loss: 1.3835 - val_accuracy: 0.5394\n",
            "Epoch 72/80\n",
            "400/400 [==============================] - 11s 27ms/step - loss: 1.2277 - accuracy: 0.4978 - val_loss: 1.4306 - val_accuracy: 0.5356\n",
            "Epoch 73/80\n",
            "400/400 [==============================] - 11s 27ms/step - loss: 1.2044 - accuracy: 0.4968 - val_loss: 1.5219 - val_accuracy: 0.4950\n",
            "Epoch 74/80\n",
            "400/400 [==============================] - 11s 27ms/step - loss: 1.2098 - accuracy: 0.5016 - val_loss: 1.6179 - val_accuracy: 0.4500\n",
            "Epoch 75/80\n",
            "400/400 [==============================] - 11s 28ms/step - loss: 1.2103 - accuracy: 0.4977 - val_loss: 1.4633 - val_accuracy: 0.5025\n",
            "Epoch 76/80\n",
            "400/400 [==============================] - 11s 27ms/step - loss: 1.2054 - accuracy: 0.5055 - val_loss: 1.4455 - val_accuracy: 0.4994\n",
            "Epoch 77/80\n",
            "400/400 [==============================] - 11s 28ms/step - loss: 1.2132 - accuracy: 0.5048 - val_loss: 1.3921 - val_accuracy: 0.5050\n",
            "Epoch 78/80\n",
            "400/400 [==============================] - 11s 27ms/step - loss: 1.2196 - accuracy: 0.4925 - val_loss: 1.4821 - val_accuracy: 0.4925\n",
            "Epoch 79/80\n",
            "400/400 [==============================] - 11s 28ms/step - loss: 1.1941 - accuracy: 0.5096 - val_loss: 1.5019 - val_accuracy: 0.4894\n",
            "Epoch 80/80\n",
            "400/400 [==============================] - 11s 28ms/step - loss: 1.1901 - accuracy: 0.5060 - val_loss: 1.5739 - val_accuracy: 0.4581\n"
          ]
        }
      ]
    },
    {
      "cell_type": "markdown",
      "source": [
        "### Model Performance - With Augmentation"
      ],
      "metadata": {
        "id": "r_s7BN3MtcGG"
      }
    },
    {
      "cell_type": "code",
      "source": [
        "plt.plot(history.history['accuracy'])\n",
        "plt.plot(history.history['val_accuracy'])\n",
        "plt.title('model accuracy')\n",
        "plt.ylabel('accuracy')\n",
        "plt.xlabel('epoch')\n",
        "plt.legend(['train', 'valid'], loc='lower right')\n",
        "plt.show()\n",
        "plt.plot(history.history['loss'])\n",
        "plt.plot(history.history['val_loss'])\n",
        "plt.title('model loss')\n",
        "plt.ylabel('loss')\n",
        "plt.xlabel('epoch')\n",
        "plt.legend(['train', 'valid'], loc='upper right')\n",
        "plt.show()"
      ],
      "metadata": {
        "colab": {
          "base_uri": "https://localhost:8080/",
          "height": 573
        },
        "outputId": "eec2f708-22e2-496c-f906-11c1e6f48a58",
        "id": "c2TeN3witcGL"
      },
      "execution_count": null,
      "outputs": [
        {
          "output_type": "display_data",
          "data": {
            "text/plain": [
              "<Figure size 432x288 with 1 Axes>"
            ],
            "image/png": "[encoded data removed]"
          },
          "metadata": {
            "needs_background": "light"
          }
        },
        {
          "output_type": "display_data",
          "data": {
            "text/plain": [
              "<Figure size 432x288 with 1 Axes>"
            ],
            "image/png": "[encoded data removed]"
          },
          "metadata": {
            "needs_background": "light"
          }
        }
      ]
    },
    {
      "cell_type": "code",
      "source": [
        "model_3.evaluate(validation_generator_3)"
      ],
      "metadata": {
        "colab": {
          "base_uri": "https://localhost:8080/"
        },
        "outputId": "50ded28d-8026-469c-af2d-9ef52ceb5737",
        "id": "Cm7cC2KytcGL"
      },
      "execution_count": null,
      "outputs": [
        {
          "output_type": "stream",
          "name": "stdout",
          "text": [
            "50/50 [==============================] - 1s 11ms/step - loss: 1.5739 - accuracy: 0.4581\n"
          ]
        },
        {
          "output_type": "execute_result",
          "data": {
            "text/plain": [
              "[1.5738835334777832, 0.4581249952316284]"
            ]
          },
          "metadata": {},
          "execution_count": 47
        }
      ]
    },
    {
      "cell_type": "code",
      "source": [
        "x = list(train_generator_3.class_indices.keys())\n",
        "num_of_test_samples = 1600\n",
        "\n",
        "Y_pred = model_3.predict_generator(validation_generator_3, num_of_test_samples // batch_size+1)\n",
        "y_pred = np.argmax(Y_pred, axis=1)\n",
        "print()\n",
        "print('Confusion Matrix')\n",
        "print(confusion_matrix(validation_generator_3.classes, y_pred))\n",
        "\n",
        "print()\n",
        "print('Classification Report')\n",
        "target_names = x\n",
        "print(classification_report(validation_generator_3.classes, y_pred, target_names = target_names))"
      ],
      "metadata": {
        "colab": {
          "base_uri": "https://localhost:8080/"
        },
        "outputId": "167692a3-6d3d-46ec-edec-611d51a0dcaa",
        "id": "OVF0-ogxtcGL"
      },
      "execution_count": null,
      "outputs": [
        {
          "output_type": "stream",
          "name": "stderr",
          "text": [
            "/usr/local/lib/python3.7/dist-packages/ipykernel_launcher.py:4: UserWarning: `Model.predict_generator` is deprecated and will be removed in a future version. Please use `Model.predict`, which supports generators.\n",
            "  after removing the cwd from sys.path.\n"
          ]
        },
        {
          "output_type": "stream",
          "name": "stdout",
          "text": [
            "WARNING:tensorflow:Your input ran out of data; interrupting training. Make sure that your dataset or generator can generate at least `steps_per_epoch * epochs` batches (in this case, 51 batches). You may need to use the repeat() function when building your dataset.\n",
            "\n",
            "Confusion Matrix\n",
            "[[  7   8   6  18   4  14   4  25  11  16  10   9]\n",
            " [  4   6   5  14   5  13   7  24   8  12   4  11]\n",
            " [  4   5   6  15   4  10   3  21   4  13   5   8]\n",
            " [  2   7   4  10   2  14   9  31  12  10   6  10]\n",
            " [  0   2   1   1   1   2   0   6   2   2   0   0]\n",
            " [  1   0   3   2   0   1   0   4   1   3   3   2]\n",
            " [  0   1   0   2   1   3   0   5   1   5   0   0]\n",
            " [ 29  54  38  81  19 100  27 191  62  91  40  45]\n",
            " [  3   4   1   7   1   9   2  13   4   8   6   1]\n",
            " [  3   2   4  11   1  11   3  24  10  11   7   5]\n",
            " [  1   0   0   0   1   2   0   6   1   2   0   2]\n",
            " [  8   9  11  12   7  22   6  20  16  11  12   8]]\n",
            "\n",
            "Classification Report\n",
            "                precision    recall  f1-score   support\n",
            "\n",
            "          Cell       0.11      0.05      0.07       132\n",
            "    Cell-Multi       0.06      0.05      0.06       113\n",
            "      Cracking       0.08      0.06      0.07        98\n",
            "         Diode       0.06      0.09      0.07       117\n",
            "   Diode-Multi       0.02      0.06      0.03        17\n",
            "      Hot-Spot       0.00      0.05      0.01        20\n",
            "Hot-Spot-Multi       0.00      0.00      0.00        18\n",
            "    No-Anomaly       0.52      0.25      0.33       777\n",
            "Offline-Module       0.03      0.07      0.04        59\n",
            "     Shadowing       0.06      0.12      0.08        92\n",
            "       Soiling       0.00      0.00      0.00        15\n",
            "    Vegetation       0.08      0.06      0.07       142\n",
            "\n",
            "      accuracy                           0.15      1600\n",
            "     macro avg       0.09      0.07      0.07      1600\n",
            "  weighted avg       0.29      0.15      0.19      1600\n",
            "\n"
          ]
        }
      ]
    },
    {
      "cell_type": "code",
      "source": [
        "cm = confusion_matrix(validation_generator_3.classes, y_pred)\n",
        "fig, ax = plt.subplots()\n",
        "im = ax.imshow(cm, interpolation='nearest', cmap=plt.cm.Blues)\n",
        "title = 'Confusion matrix'\n",
        "ax.figure.colorbar(im, ax=ax)\n",
        "ax.set(xticks=np.arange(cm.shape[1]),\n",
        "    yticks=np.arange(cm.shape[0]),\n",
        "    xticklabels=target_names, yticklabels=target_names,\n",
        "    title=title,\n",
        "    ylabel='True label',\n",
        "    xlabel='Predicted label')\n",
        "plt.setp(ax.get_xticklabels(), rotation=45, ha=\"right\",\n",
        "             rotation_mode=\"anchor\")\n",
        "np.set_printoptions(precision=2)\n",
        "plt.show()"
      ],
      "metadata": {
        "colab": {
          "base_uri": "https://localhost:8080/",
          "height": 344
        },
        "outputId": "0cbbf3ad-ffe4-473a-b2a0-78c0afde20cd",
        "id": "GtkEy3YgtcGL"
      },
      "execution_count": null,
      "outputs": [
        {
          "output_type": "display_data",
          "data": {
            "text/plain": [
              "<Figure size 432x288 with 2 Axes>"
            ],
            "image/png": "[encoded data removed]"
          },
          "metadata": {
            "needs_background": "light"
          }
        }
      ]
    },
    {
      "cell_type": "markdown",
      "source": [
        "### Addition: Fine Tuning"
      ],
      "metadata": {
        "id": "UZXCHR66umW9"
      }
    },
    {
      "cell_type": "code",
      "source": [
        "# Freeze all layers until the block_5_ layers\n",
        "base_model_3.trainable = True\n",
        "for layer in base_model_3.layers[:-4]:\n",
        "    layer.trainable = False\n",
        "    \n",
        "for layer in base_model_3.layers[0:]:\n",
        "    print('layer name = ' + layer.name + ', shape = ' + repr(layer.output_shape)\n",
        "            + ', trainable = ' + repr(layer.trainable))  "
      ],
      "metadata": {
        "colab": {
          "base_uri": "https://localhost:8080/"
        },
        "id": "p1dX1v1ZumXB",
        "outputId": "b3c86464-e68b-4cbe-99b1-de8b3dec4064"
      },
      "execution_count": null,
      "outputs": [
        {
          "output_type": "stream",
          "name": "stdout",
          "text": [
            "layer name = input_3, shape = [(None, 32, 40, 3)], trainable = False\n",
            "layer name = block1_conv1, shape = (None, 32, 40, 64), trainable = False\n",
            "layer name = block1_conv2, shape = (None, 32, 40, 64), trainable = False\n",
            "layer name = block1_pool, shape = (None, 16, 20, 64), trainable = False\n",
            "layer name = block2_conv1, shape = (None, 16, 20, 128), trainable = False\n",
            "layer name = block2_conv2, shape = (None, 16, 20, 128), trainable = False\n",
            "layer name = block2_pool, shape = (None, 8, 10, 128), trainable = False\n",
            "layer name = block3_conv1, shape = (None, 8, 10, 256), trainable = False\n",
            "layer name = block3_conv2, shape = (None, 8, 10, 256), trainable = False\n",
            "layer name = block3_conv3, shape = (None, 8, 10, 256), trainable = False\n",
            "layer name = block3_pool, shape = (None, 4, 5, 256), trainable = False\n",
            "layer name = block4_conv1, shape = (None, 4, 5, 512), trainable = False\n",
            "layer name = block4_conv2, shape = (None, 4, 5, 512), trainable = False\n",
            "layer name = block4_conv3, shape = (None, 4, 5, 512), trainable = False\n",
            "layer name = block4_pool, shape = (None, 2, 2, 512), trainable = False\n",
            "layer name = block5_conv1, shape = (None, 2, 2, 512), trainable = True\n",
            "layer name = block5_conv2, shape = (None, 2, 2, 512), trainable = True\n",
            "layer name = block5_conv3, shape = (None, 2, 2, 512), trainable = True\n",
            "layer name = block5_pool, shape = (None, 1, 1, 512), trainable = True\n"
          ]
        }
      ]
    },
    {
      "cell_type": "markdown",
      "source": [
        "#### Compute Fine Tuning"
      ],
      "metadata": {
        "id": "mRVrVD8PumXB"
      }
    },
    {
      "cell_type": "code",
      "source": [
        "model_3.compile(loss=\"categorical_crossentropy\",\n",
        "    optimizer=keras.optimizers.Adam(learning_rate=1e-5),\n",
        "    metrics=[\"accuracy\"])"
      ],
      "metadata": {
        "id": "z4lOIu3numXB"
      },
      "execution_count": null,
      "outputs": []
    },
    {
      "cell_type": "code",
      "source": [
        "logdir = os.path.join(\"logs_fine_tuning\", datetime.datetime.now().strftime(\"%Y%m%d-%H%M%S\"))\n",
        "\n",
        "\n",
        "callbacks = [\n",
        "    keras.callbacks.ModelCheckpoint(filepath=\"fine_tuning.keras\", save_best_only=True, monitor=\"val_loss\"),\n",
        "    tf.keras.callbacks.TensorBoard(logdir, histogram_freq=1)\n",
        "]\n",
        "\n",
        "history = model_3.fit(\n",
        "train_generator_3,\n",
        "epochs=50,\n",
        "validation_data = validation_generator_3,\n",
        "class_weight = class_weights,\n",
        "callbacks = callbacks\n",
        ")"
      ],
      "metadata": {
        "colab": {
          "base_uri": "https://localhost:8080/"
        },
        "id": "5CiqCSMtumXB",
        "outputId": "f06bbf6d-280a-4955-ae3a-53be9fa8f5aa"
      },
      "execution_count": null,
      "outputs": [
        {
          "output_type": "stream",
          "name": "stdout",
          "text": [
            "Epoch 1/25\n",
            "400/400 [==============================] - 13s 30ms/step - loss: 1.4406 - accuracy: 0.4490 - val_loss: 1.8710 - val_accuracy: 0.3862\n",
            "Epoch 2/25\n",
            "400/400 [==============================] - 12s 29ms/step - loss: 1.3180 - accuracy: 0.4842 - val_loss: 1.4235 - val_accuracy: 0.5369\n",
            "Epoch 3/25\n",
            "400/400 [==============================] - 11s 28ms/step - loss: 1.2076 - accuracy: 0.5050 - val_loss: 1.7768 - val_accuracy: 0.3844\n",
            "Epoch 4/25\n",
            "400/400 [==============================] - 11s 28ms/step - loss: 1.1143 - accuracy: 0.5080 - val_loss: 1.5671 - val_accuracy: 0.4600\n",
            "Epoch 5/25\n",
            "400/400 [==============================] - 11s 28ms/step - loss: 1.1076 - accuracy: 0.5214 - val_loss: 1.5226 - val_accuracy: 0.5013\n",
            "Epoch 6/25\n",
            "400/400 [==============================] - 11s 28ms/step - loss: 1.0414 - accuracy: 0.5437 - val_loss: 1.6919 - val_accuracy: 0.4294\n",
            "Epoch 7/25\n",
            "400/400 [==============================] - 11s 28ms/step - loss: 1.0048 - accuracy: 0.5434 - val_loss: 1.5121 - val_accuracy: 0.4906\n",
            "Epoch 8/25\n",
            "400/400 [==============================] - 11s 28ms/step - loss: 0.9621 - accuracy: 0.5537 - val_loss: 1.7211 - val_accuracy: 0.4313\n",
            "Epoch 9/25\n",
            "400/400 [==============================] - 11s 29ms/step - loss: 0.9031 - accuracy: 0.5774 - val_loss: 1.0648 - val_accuracy: 0.6694\n",
            "Epoch 10/25\n",
            "400/400 [==============================] - 11s 28ms/step - loss: 0.8839 - accuracy: 0.5789 - val_loss: 1.3339 - val_accuracy: 0.5756\n",
            "Epoch 11/25\n",
            "400/400 [==============================] - 11s 28ms/step - loss: 0.8502 - accuracy: 0.5908 - val_loss: 1.7337 - val_accuracy: 0.4050\n",
            "Epoch 12/25\n",
            "400/400 [==============================] - 11s 27ms/step - loss: 0.8132 - accuracy: 0.5945 - val_loss: 1.3589 - val_accuracy: 0.5531\n",
            "Epoch 13/25\n",
            "400/400 [==============================] - 11s 27ms/step - loss: 0.7888 - accuracy: 0.6072 - val_loss: 1.2327 - val_accuracy: 0.5788\n",
            "Epoch 14/25\n",
            "400/400 [==============================] - 11s 27ms/step - loss: 0.7516 - accuracy: 0.6227 - val_loss: 1.3513 - val_accuracy: 0.5494\n",
            "Epoch 15/25\n",
            "400/400 [==============================] - 11s 27ms/step - loss: 0.7719 - accuracy: 0.6170 - val_loss: 1.5309 - val_accuracy: 0.4913\n",
            "Epoch 16/25\n",
            "400/400 [==============================] - 11s 28ms/step - loss: 0.7060 - accuracy: 0.6401 - val_loss: 1.3353 - val_accuracy: 0.5625\n",
            "Epoch 17/25\n",
            "400/400 [==============================] - 13s 32ms/step - loss: 0.6809 - accuracy: 0.6464 - val_loss: 1.6334 - val_accuracy: 0.4694\n",
            "Epoch 18/25\n",
            "400/400 [==============================] - 11s 27ms/step - loss: 0.6760 - accuracy: 0.6501 - val_loss: 1.1425 - val_accuracy: 0.6363\n",
            "Epoch 19/25\n",
            "400/400 [==============================] - 11s 27ms/step - loss: 0.6377 - accuracy: 0.6621 - val_loss: 1.4765 - val_accuracy: 0.5306\n",
            "Epoch 20/25\n",
            "400/400 [==============================] - 11s 27ms/step - loss: 0.6279 - accuracy: 0.6690 - val_loss: 1.2658 - val_accuracy: 0.5794\n",
            "Epoch 21/25\n",
            "400/400 [==============================] - 11s 27ms/step - loss: 0.6211 - accuracy: 0.6709 - val_loss: 1.1734 - val_accuracy: 0.6225\n",
            "Epoch 22/25\n",
            "400/400 [==============================] - 11s 27ms/step - loss: 0.5978 - accuracy: 0.6752 - val_loss: 1.4447 - val_accuracy: 0.5231\n",
            "Epoch 23/25\n",
            "400/400 [==============================] - 12s 29ms/step - loss: 0.5682 - accuracy: 0.6855 - val_loss: 1.0166 - val_accuracy: 0.6825\n",
            "Epoch 24/25\n",
            "400/400 [==============================] - 11s 27ms/step - loss: 0.5724 - accuracy: 0.6849 - val_loss: 1.2303 - val_accuracy: 0.6156\n",
            "Epoch 25/25\n",
            "400/400 [==============================] - 12s 30ms/step - loss: 0.5272 - accuracy: 0.7001 - val_loss: 1.2310 - val_accuracy: 0.6169\n"
          ]
        }
      ]
    },
    {
      "cell_type": "markdown",
      "source": [
        "#### Model Performance - With Fine Tuning"
      ],
      "metadata": {
        "id": "1DD3CFUfumXC"
      }
    },
    {
      "cell_type": "code",
      "source": [
        "plt.plot(history.history['accuracy'])\n",
        "plt.plot(history.history['val_accuracy'])\n",
        "plt.title('model accuracy')\n",
        "plt.ylabel('accuracy')\n",
        "plt.xlabel('epoch')\n",
        "plt.legend(['train', 'valid'], loc='lower right')\n",
        "plt.show()\n",
        "plt.plot(history.history['loss'])\n",
        "plt.plot(history.history['val_loss'])\n",
        "plt.title('model loss')\n",
        "plt.ylabel('loss')\n",
        "plt.xlabel('epoch')\n",
        "plt.legend(['train', 'valid'], loc='upper right')\n",
        "plt.show()"
      ],
      "metadata": {
        "colab": {
          "base_uri": "https://localhost:8080/",
          "height": 573
        },
        "outputId": "c8aeca09-e8a3-4f1a-c51b-95ac32c5b079",
        "id": "ePijMmEDumXC"
      },
      "execution_count": null,
      "outputs": [
        {
          "output_type": "display_data",
          "data": {
            "text/plain": [
              "<Figure size 432x288 with 1 Axes>"
            ],
            "image/png": "[encoded data removed]"
          },
          "metadata": {
            "needs_background": "light"
          }
        },
        {
          "output_type": "display_data",
          "data": {
            "text/plain": [
              "<Figure size 432x288 with 1 Axes>"
            ],
            "image/png": "[encoded data removed]"
          },
          "metadata": {
            "needs_background": "light"
          }
        }
      ]
    },
    {
      "cell_type": "code",
      "source": [
        " model_3.evaluate(validation_generator_3)"
      ],
      "metadata": {
        "colab": {
          "base_uri": "https://localhost:8080/"
        },
        "outputId": "0c487382-3af6-4a5e-acb4-939a0e2e915d",
        "id": "MKlSvTPdumXC"
      },
      "execution_count": null,
      "outputs": [
        {
          "output_type": "stream",
          "name": "stdout",
          "text": [
            "50/50 [==============================] - 1s 10ms/step - loss: 1.2310 - accuracy: 0.6169\n"
          ]
        },
        {
          "output_type": "execute_result",
          "data": {
            "text/plain": [
              "[1.230952262878418, 0.6168749928474426]"
            ]
          },
          "metadata": {},
          "execution_count": 54
        }
      ]
    },
    {
      "cell_type": "code",
      "source": [
        "x = list(train_generator_3.class_indices.keys())\n",
        "num_of_test_samples = 1600\n",
        "\n",
        "Y_pred = model_3.predict_generator(validation_generator_3, num_of_test_samples // batch_size+1)\n",
        "y_pred = np.argmax(Y_pred, axis=1)\n",
        "print()\n",
        "print('Confusion Matrix')\n",
        "print(confusion_matrix(validation_generator_3.classes, y_pred))\n",
        "\n",
        "print()\n",
        "print('Classification Report')\n",
        "target_names = x\n",
        "print(classification_report(validation_generator_3.classes, y_pred, target_names = target_names))"
      ],
      "metadata": {
        "colab": {
          "base_uri": "https://localhost:8080/"
        },
        "outputId": "4f542912-5fdf-471b-a0ab-ebbbb1c85eab",
        "id": "4FPY3dDAumXC"
      },
      "execution_count": null,
      "outputs": [
        {
          "output_type": "stream",
          "name": "stderr",
          "text": [
            "/usr/local/lib/python3.7/dist-packages/ipykernel_launcher.py:4: UserWarning: `Model.predict_generator` is deprecated and will be removed in a future version. Please use `Model.predict`, which supports generators.\n",
            "  after removing the cwd from sys.path.\n"
          ]
        },
        {
          "output_type": "stream",
          "name": "stdout",
          "text": [
            "WARNING:tensorflow:Your input ran out of data; interrupting training. Make sure that your dataset or generator can generate at least `steps_per_epoch * epochs` batches (in this case, 51 batches). You may need to use the repeat() function when building your dataset.\n",
            "\n",
            "Confusion Matrix\n",
            "[[ 16   7   8   9   4  10   2  37  10  10   5  14]\n",
            " [ 13   5   9  17   5   6   1  27   6  16   0   8]\n",
            " [  9   5   5   8   4   1   1  31   5  16   4   9]\n",
            " [ 15   7   8   7   4  10   4  32   8  11   3   8]\n",
            " [  4   2   2   1   1   0   0   4   1   1   1   0]\n",
            " [  1   2   1   2   0   0   1   7   2   4   0   0]\n",
            " [  2   2   1   1   1   0   0   6   2   0   1   2]\n",
            " [ 76  38  53  56  15  34  20 255  48  99  14  69]\n",
            " [  5   2   6   4   1   4   0  21   4   6   1   5]\n",
            " [  9   4   6   4   0   4   5  32   7  13   1   7]\n",
            " [  1   1   1   2   0   0   1   6   0   2   0   1]\n",
            " [ 22   3   9  16   3   6   6  39  10  11   6  11]]\n",
            "\n",
            "Classification Report\n",
            "                precision    recall  f1-score   support\n",
            "\n",
            "          Cell       0.09      0.12      0.10       132\n",
            "    Cell-Multi       0.06      0.04      0.05       113\n",
            "      Cracking       0.05      0.05      0.05        98\n",
            "         Diode       0.06      0.06      0.06       117\n",
            "   Diode-Multi       0.03      0.06      0.04        17\n",
            "      Hot-Spot       0.00      0.00      0.00        20\n",
            "Hot-Spot-Multi       0.00      0.00      0.00        18\n",
            "    No-Anomaly       0.51      0.33      0.40       777\n",
            "Offline-Module       0.04      0.07      0.05        59\n",
            "     Shadowing       0.07      0.14      0.09        92\n",
            "       Soiling       0.00      0.00      0.00        15\n",
            "    Vegetation       0.08      0.08      0.08       142\n",
            "\n",
            "      accuracy                           0.20      1600\n",
            "     macro avg       0.08      0.08      0.08      1600\n",
            "  weighted avg       0.28      0.20      0.23      1600\n",
            "\n"
          ]
        }
      ]
    },
    {
      "cell_type": "code",
      "source": [
        "cm = confusion_matrix(validation_generator_3.classes, y_pred)\n",
        "fig, ax = plt.subplots()\n",
        "im = ax.imshow(cm, interpolation='nearest', cmap=plt.cm.Blues)\n",
        "title = 'Confusion matrix'\n",
        "ax.figure.colorbar(im, ax=ax)\n",
        "ax.set(xticks=np.arange(cm.shape[1]),\n",
        "    yticks=np.arange(cm.shape[0]),\n",
        "    xticklabels=target_names, yticklabels=target_names,\n",
        "    title=title,\n",
        "    ylabel='True label',\n",
        "    xlabel='Predicted label')\n",
        "plt.setp(ax.get_xticklabels(), rotation=45, ha=\"right\",\n",
        "             rotation_mode=\"anchor\")\n",
        "np.set_printoptions(precision=2)\n",
        "plt.show()"
      ],
      "metadata": {
        "colab": {
          "base_uri": "https://localhost:8080/",
          "height": 344
        },
        "outputId": "3fc691a4-4355-413c-ba98-e90e3d233afb",
        "id": "BXigCdOoumXC"
      },
      "execution_count": null,
      "outputs": [
        {
          "output_type": "display_data",
          "data": {
            "text/plain": [
              "<Figure size 432x288 with 2 Axes>"
            ],
            "image/png": "[encoded data removed]"
          },
          "metadata": {
            "needs_background": "light"
          }
        }
      ]
    }
  ]
}