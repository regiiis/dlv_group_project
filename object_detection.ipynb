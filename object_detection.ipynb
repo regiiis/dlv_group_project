{
  "nbformat": 4,
  "nbformat_minor": 0,
  "metadata": {
    "colab": {
      "name": "object_detection.ipynb",
      "provenance": [],
      "authorship_tag": "ABX9TyOTdX9/AC8eWgLGWpW4LB4s",
      "include_colab_link": true
    },
    "kernelspec": {
      "name": "python3",
      "display_name": "Python 3"
    },
    "language_info": {
      "name": "python"
    }
  },
  "cells": [
    {
      "cell_type": "markdown",
      "metadata": {
        "id": "view-in-github",
        "colab_type": "text"
      },
      "source": [
        "<a href=\"https://colab.research.google.com/github/regiiis/dlv_group_project/blob/main/object_detection.ipynb\" target=\"_parent\"><img src=\"https://colab.research.google.com/assets/colab-badge.svg\" alt=\"Open In Colab\"/></a>"
      ]
    },
    {
      "cell_type": "markdown",
      "source": [
        "# DLV Group Project - **Semantic Segmentation**"
      ],
      "metadata": {
        "id": "EPVuJ39E_F6y"
      }
    },
    {
      "cell_type": "markdown",
      "source": [
        "## Set up"
      ],
      "metadata": {
        "id": "Gt8xFiBH_Eg5"
      }
    },
    {
      "cell_type": "code",
      "source": [
        "gpu_info = !nvidia-smi\n",
        "gpu_info = '\\n'.join(gpu_info)\n",
        "if gpu_info.find('failed') >= 0:\n",
        "  print('Not connected to a GPU')\n",
        "else:\n",
        "  print(gpu_info)"
      ],
      "metadata": {
        "colab": {
          "base_uri": "https://localhost:8080/"
        },
        "id": "YDHWPqxZ-pmQ",
        "outputId": "e909b2ff-4ed7-43ef-f3db-f1571016ca96"
      },
      "execution_count": 1,
      "outputs": [
        {
          "output_type": "stream",
          "name": "stdout",
          "text": [
            "Not connected to a GPU\n"
          ]
        }
      ]
    },
    {
      "cell_type": "code",
      "source": [
        "%pylab inline\n",
        "import matplotlib.pyplot as plt\n",
        "import matplotlib.image as mpimg\n",
        "import numpy as np\n",
        "import pandas as pd\n",
        "import os, datetime\n",
        "import sys\n",
        "import math\n",
        "import random\n",
        "\n",
        "# General imports\n",
        "import tensorflow as tf\n",
        "tf.compat.v1.enable_eager_execution(\n",
        "    config=None, device_policy=None, execution_mode=None\n",
        ")\n",
        "\n",
        "# Shortcuts to keras if (however from tensorflow)\n",
        "from tensorflow import keras\n",
        "from tensorflow.keras.applications.vgg16 import VGG16\n",
        "from tensorflow.keras.preprocessing.image import ImageDataGenerator\n",
        "from tensorflow.keras.models import Sequential\n",
        "from tensorflow.keras.layers import Conv2D, MaxPooling2D\n",
        "from tensorflow.keras.layers import Activation, Dropout, Flatten, Dense, BatchNormalization\n",
        "from tensorflow.keras.callbacks import TensorBoard \n",
        "from tensorflow.keras import layers\n",
        "from IPython.display import Image\n",
        "from tensorflow.keras.utils import load_img, img_to_array\n",
        "from tensorflow.keras.utils import array_to_img\n",
        "\n",
        "from sklearn.metrics import confusion_matrix\n",
        "from sklearn.metrics import classification_report\n",
        "from sklearn.utils.class_weight import compute_class_weight\n",
        "\n",
        "from PIL import Image\n",
        "from PIL import Image as im\n",
        "from numpy import asarray\n",
        "from numpy import savetxt\n",
        "from numpy import genfromtxt\n",
        "from skimage.transform import resize"
      ],
      "metadata": {
        "colab": {
          "base_uri": "https://localhost:8080/"
        },
        "id": "B5-est-O-zN-",
        "outputId": "5972cde5-91f4-4fb4-e35f-77d2e3cc8010"
      },
      "execution_count": 5,
      "outputs": [
        {
          "output_type": "stream",
          "name": "stdout",
          "text": [
            "Populating the interactive namespace from numpy and matplotlib\n"
          ]
        },
        {
          "output_type": "stream",
          "name": "stderr",
          "text": [
            "/usr/local/lib/python3.7/dist-packages/IPython/core/magics/pylab.py:161: UserWarning: pylab import has clobbered these variables: ['random', 'resize']\n",
            "`%matplotlib` prevents importing * from pylab and numpy\n",
            "  \"\\n`%matplotlib` prevents importing * from pylab and numpy\"\n"
          ]
        }
      ]
    },
    {
      "cell_type": "code",
      "source": [
        "from google.colab import drive\n",
        "drive.mount('/content/drive')"
      ],
      "metadata": {
        "colab": {
          "base_uri": "https://localhost:8080/"
        },
        "id": "DTJF-_R--06v",
        "outputId": "b0e80c9e-f2c6-4544-8e46-c7765f86ac5c"
      },
      "execution_count": 6,
      "outputs": [
        {
          "output_type": "stream",
          "name": "stdout",
          "text": [
            "Mounted at /content/drive\n"
          ]
        }
      ]
    },
    {
      "cell_type": "code",
      "source": [
        "!unzip \"/content/drive/My Drive/Colab Notebooks/data/2020-02-14_InfraredSolarModules.zip\""
      ],
      "metadata": {
        "id": "BIxzOskO-22V"
      },
      "execution_count": null,
      "outputs": []
    },
    {
      "cell_type": "code",
      "source": [
        "df = pd.read_json(\"/content/InfraredSolarModules/module_metadata.json\",orient=\"index\")\n",
        "df['image_name'] = df['image_filepath'].str[7:]\n",
        "df = df.sort_index()\n",
        "df"
      ],
      "metadata": {
        "colab": {
          "base_uri": "https://localhost:8080/",
          "height": 424
        },
        "id": "lRKTvR36-4nX",
        "outputId": "94aba940-b742-42c0-d219-563a78186667"
      },
      "execution_count": 54,
      "outputs": [
        {
          "output_type": "execute_result",
          "data": {
            "text/plain": [
              "         image_filepath   anomaly_class image_name\n",
              "0          images/0.jpg  Offline-Module      0.jpg\n",
              "1          images/1.jpg  Offline-Module      1.jpg\n",
              "2          images/2.jpg  Offline-Module      2.jpg\n",
              "3          images/3.jpg  Offline-Module      3.jpg\n",
              "4          images/4.jpg  Offline-Module      4.jpg\n",
              "...                 ...             ...        ...\n",
              "19995  images/19995.jpg      No-Anomaly  19995.jpg\n",
              "19996  images/19996.jpg      No-Anomaly  19996.jpg\n",
              "19997  images/19997.jpg      No-Anomaly  19997.jpg\n",
              "19998  images/19998.jpg      No-Anomaly  19998.jpg\n",
              "19999  images/19999.jpg      No-Anomaly  19999.jpg\n",
              "\n",
              "[20000 rows x 3 columns]"
            ],
            "text/html": [
              "\n",
              "  <div id=\"df-7859b05b-f794-4888-a9d9-31c69c43a45a\">\n",
              "    <div class=\"colab-df-container\">\n",
              "      <div>\n",
              "<style scoped>\n",
              "    .dataframe tbody tr th:only-of-type {\n",
              "        vertical-align: middle;\n",
              "    }\n",
              "\n",
              "    .dataframe tbody tr th {\n",
              "        vertical-align: top;\n",
              "    }\n",
              "\n",
              "    .dataframe thead th {\n",
              "        text-align: right;\n",
              "    }\n",
              "</style>\n",
              "<table border=\"1\" class=\"dataframe\">\n",
              "  <thead>\n",
              "    <tr style=\"text-align: right;\">\n",
              "      <th></th>\n",
              "      <th>image_filepath</th>\n",
              "      <th>anomaly_class</th>\n",
              "      <th>image_name</th>\n",
              "    </tr>\n",
              "  </thead>\n",
              "  <tbody>\n",
              "    <tr>\n",
              "      <th>0</th>\n",
              "      <td>images/0.jpg</td>\n",
              "      <td>Offline-Module</td>\n",
              "      <td>0.jpg</td>\n",
              "    </tr>\n",
              "    <tr>\n",
              "      <th>1</th>\n",
              "      <td>images/1.jpg</td>\n",
              "      <td>Offline-Module</td>\n",
              "      <td>1.jpg</td>\n",
              "    </tr>\n",
              "    <tr>\n",
              "      <th>2</th>\n",
              "      <td>images/2.jpg</td>\n",
              "      <td>Offline-Module</td>\n",
              "      <td>2.jpg</td>\n",
              "    </tr>\n",
              "    <tr>\n",
              "      <th>3</th>\n",
              "      <td>images/3.jpg</td>\n",
              "      <td>Offline-Module</td>\n",
              "      <td>3.jpg</td>\n",
              "    </tr>\n",
              "    <tr>\n",
              "      <th>4</th>\n",
              "      <td>images/4.jpg</td>\n",
              "      <td>Offline-Module</td>\n",
              "      <td>4.jpg</td>\n",
              "    </tr>\n",
              "    <tr>\n",
              "      <th>...</th>\n",
              "      <td>...</td>\n",
              "      <td>...</td>\n",
              "      <td>...</td>\n",
              "    </tr>\n",
              "    <tr>\n",
              "      <th>19995</th>\n",
              "      <td>images/19995.jpg</td>\n",
              "      <td>No-Anomaly</td>\n",
              "      <td>19995.jpg</td>\n",
              "    </tr>\n",
              "    <tr>\n",
              "      <th>19996</th>\n",
              "      <td>images/19996.jpg</td>\n",
              "      <td>No-Anomaly</td>\n",
              "      <td>19996.jpg</td>\n",
              "    </tr>\n",
              "    <tr>\n",
              "      <th>19997</th>\n",
              "      <td>images/19997.jpg</td>\n",
              "      <td>No-Anomaly</td>\n",
              "      <td>19997.jpg</td>\n",
              "    </tr>\n",
              "    <tr>\n",
              "      <th>19998</th>\n",
              "      <td>images/19998.jpg</td>\n",
              "      <td>No-Anomaly</td>\n",
              "      <td>19998.jpg</td>\n",
              "    </tr>\n",
              "    <tr>\n",
              "      <th>19999</th>\n",
              "      <td>images/19999.jpg</td>\n",
              "      <td>No-Anomaly</td>\n",
              "      <td>19999.jpg</td>\n",
              "    </tr>\n",
              "  </tbody>\n",
              "</table>\n",
              "<p>20000 rows × 3 columns</p>\n",
              "</div>\n",
              "      <button class=\"colab-df-convert\" onclick=\"convertToInteractive('df-7859b05b-f794-4888-a9d9-31c69c43a45a')\"\n",
              "              title=\"Convert this dataframe to an interactive table.\"\n",
              "              style=\"display:none;\">\n",
              "        \n",
              "  <svg xmlns=\"http://www.w3.org/2000/svg\" height=\"24px\"viewBox=\"0 0 24 24\"\n",
              "       width=\"24px\">\n",
              "    <path d=\"M0 0h24v24H0V0z\" fill=\"none\"/>\n",
              "    <path d=\"M18.56 5.44l.94 2.06.94-2.06 2.06-.94-2.06-.94-.94-2.06-.94 2.06-2.06.94zm-11 1L8.5 8.5l.94-2.06 2.06-.94-2.06-.94L8.5 2.5l-.94 2.06-2.06.94zm10 10l.94 2.06.94-2.06 2.06-.94-2.06-.94-.94-2.06-.94 2.06-2.06.94z\"/><path d=\"M17.41 7.96l-1.37-1.37c-.4-.4-.92-.59-1.43-.59-.52 0-1.04.2-1.43.59L10.3 9.45l-7.72 7.72c-.78.78-.78 2.05 0 2.83L4 21.41c.39.39.9.59 1.41.59.51 0 1.02-.2 1.41-.59l7.78-7.78 2.81-2.81c.8-.78.8-2.07 0-2.86zM5.41 20L4 18.59l7.72-7.72 1.47 1.35L5.41 20z\"/>\n",
              "  </svg>\n",
              "      </button>\n",
              "      \n",
              "  <style>\n",
              "    .colab-df-container {\n",
              "      display:flex;\n",
              "      flex-wrap:wrap;\n",
              "      gap: 12px;\n",
              "    }\n",
              "\n",
              "    .colab-df-convert {\n",
              "      background-color: #E8F0FE;\n",
              "      border: none;\n",
              "      border-radius: 50%;\n",
              "      cursor: pointer;\n",
              "      display: none;\n",
              "      fill: #1967D2;\n",
              "      height: 32px;\n",
              "      padding: 0 0 0 0;\n",
              "      width: 32px;\n",
              "    }\n",
              "\n",
              "    .colab-df-convert:hover {\n",
              "      background-color: #E2EBFA;\n",
              "      box-shadow: 0px 1px 2px rgba(60, 64, 67, 0.3), 0px 1px 3px 1px rgba(60, 64, 67, 0.15);\n",
              "      fill: #174EA6;\n",
              "    }\n",
              "\n",
              "    [theme=dark] .colab-df-convert {\n",
              "      background-color: #3B4455;\n",
              "      fill: #D2E3FC;\n",
              "    }\n",
              "\n",
              "    [theme=dark] .colab-df-convert:hover {\n",
              "      background-color: #434B5C;\n",
              "      box-shadow: 0px 1px 3px 1px rgba(0, 0, 0, 0.15);\n",
              "      filter: drop-shadow(0px 1px 2px rgba(0, 0, 0, 0.3));\n",
              "      fill: #FFFFFF;\n",
              "    }\n",
              "  </style>\n",
              "\n",
              "      <script>\n",
              "        const buttonEl =\n",
              "          document.querySelector('#df-7859b05b-f794-4888-a9d9-31c69c43a45a button.colab-df-convert');\n",
              "        buttonEl.style.display =\n",
              "          google.colab.kernel.accessAllowed ? 'block' : 'none';\n",
              "\n",
              "        async function convertToInteractive(key) {\n",
              "          const element = document.querySelector('#df-7859b05b-f794-4888-a9d9-31c69c43a45a');\n",
              "          const dataTable =\n",
              "            await google.colab.kernel.invokeFunction('convertToInteractive',\n",
              "                                                     [key], {});\n",
              "          if (!dataTable) return;\n",
              "\n",
              "          const docLinkHtml = 'Like what you see? Visit the ' +\n",
              "            '<a target=\"_blank\" href=https://colab.research.google.com/notebooks/data_table.ipynb>data table notebook</a>'\n",
              "            + ' to learn more about interactive tables.';\n",
              "          element.innerHTML = '';\n",
              "          dataTable['output_type'] = 'display_data';\n",
              "          await google.colab.output.renderOutput(dataTable, element);\n",
              "          const docLink = document.createElement('div');\n",
              "          docLink.innerHTML = docLinkHtml;\n",
              "          element.appendChild(docLink);\n",
              "        }\n",
              "      </script>\n",
              "    </div>\n",
              "  </div>\n",
              "  "
            ]
          },
          "metadata": {},
          "execution_count": 54
        }
      ]
    },
    {
      "cell_type": "code",
      "source": [
        "def image_binarizer(image, treshold1, treshold2, print, save):\n",
        "  dir_path = '/content/binary_images/'\n",
        "  path = \"/content/InfraredSolarModules/images/\" + str(image) + \".jpg\"\n",
        "  imagee = mpimg.imread(path)\n",
        "  img = np.array(imagee)\n",
        "\n",
        "  t1 = float(treshold1)\n",
        "  t2 = float(treshold2)\n",
        "  arr = img\n",
        "  max_num, min_num, i , n = 0, 0, 0, 0\n",
        "\n",
        "  flat_list = [x for xs in arr for x in xs]    # Normalising the image\n",
        "  max_num = max(flat_list)\n",
        "  min_num = min(flat_list)\n",
        "  normdividend = max_num - min_num\n",
        "  a2 = np.array([[(k - min_num) / normdividend for k in j] for j in img])\n",
        "\n",
        "  for list in a2:\n",
        "    for number in list:\n",
        "      if (float(number) < t2):\n",
        "        arr[i][n] = 0\n",
        "      else:\n",
        "        arr[i][n] = 2\n",
        "      n = n + 1\n",
        "    i = i + 1\n",
        "    n = 0\n",
        "\n",
        "  i = 0\n",
        "  for list in a2:\n",
        "    for number in list:\n",
        "      if ((float(number) < t2) & (float(number) > t1)):\n",
        "        arr[i][n] = 1\n",
        "      n = n + 1\n",
        "    i = i + 1\n",
        "    n = 0\n",
        "\n",
        "  if (save == 1):\n",
        "    isExist = os.path.exists(dir_path)\n",
        "    if not isExist:\n",
        "      os.makedirs(dir_path)\n",
        "    data = asarray(arr)\n",
        "    savetxt(dir_path + str(image) + '.csv', data, delimiter=',')\n",
        "\n",
        "  if (print == 1):\n",
        "    fig = plt.figure()\n",
        "    rows, columns = 1 , 2\n",
        "    fig.add_subplot(rows, columns, 1)\n",
        "    plt.axis(\"off\")\n",
        "    plt.imshow(imagee)\n",
        "    fig.add_subplot(rows, columns, 2)\n",
        "    plt.axis(\"off\")\n",
        "    plt.imshow(arr)"
      ],
      "metadata": {
        "id": "ZPkRHjHC-psl"
      },
      "execution_count": 10,
      "outputs": []
    },
    {
      "cell_type": "markdown",
      "source": [
        "## Create Binary Image Data set"
      ],
      "metadata": {
        "id": "9dsTE0ze_Obw"
      }
    },
    {
      "cell_type": "code",
      "source": [
        "for i in range(0, 20000):\n",
        "  image_binarizer(i, 0.8, 0.92, 0, 1)\n",
        "\n",
        "for i in range(100, 110):\n",
        "  image_binarizer(i, 0.8, 0.92, 1, 0)"
      ],
      "metadata": {
        "colab": {
          "base_uri": "https://localhost:8080/",
          "height": 1000
        },
        "id": "dt9lIxlN-pu5",
        "outputId": "d6754b0c-7dfa-478b-8f82-f23c4bd18e50"
      },
      "execution_count": 59,
      "outputs": [
        {
          "output_type": "display_data",
          "data": {
            "text/plain": [
              "<Figure size 432x288 with 2 Axes>"
            ],
            "image/png": "[encoded data removed]"
          },
          "metadata": {
            "needs_background": "light"
          }
        },
        {
          "output_type": "display_data",
          "data": {
            "text/plain": [
              "<Figure size 432x288 with 2 Axes>"
            ],
            "image/png": "[encoded data removed]"
          },
          "metadata": {
            "needs_background": "light"
          }
        },
        {
          "output_type": "display_data",
          "data": {
            "text/plain": [
              "<Figure size 432x288 with 2 Axes>"
            ],
            "image/png": "[encoded data removed]"
          },
          "metadata": {
            "needs_background": "light"
          }
        },
        {
          "output_type": "display_data",
          "data": {
            "text/plain": [
              "<Figure size 432x288 with 2 Axes>"
            ],
            "image/png": "[encoded data removed]"
          },
          "metadata": {
            "needs_background": "light"
          }
        },
        {
          "output_type": "display_data",
          "data": {
            "text/plain": [
              "<Figure size 432x288 with 2 Axes>"
            ],
            "image/png": "[encoded data removed]"
          },
          "metadata": {
            "needs_background": "light"
          }
        },
        {
          "output_type": "display_data",
          "data": {
            "text/plain": [
              "<Figure size 432x288 with 2 Axes>"
            ],
            "image/png": "[encoded data removed]"
          },
          "metadata": {
            "needs_background": "light"
          }
        },
        {
          "output_type": "display_data",
          "data": {
            "text/plain": [
              "<Figure size 432x288 with 2 Axes>"
            ],
            "image/png": "[encoded data removed]"
          },
          "metadata": {
            "needs_background": "light"
          }
        },
        {
          "output_type": "display_data",
          "data": {
            "text/plain": [
              "<Figure size 432x288 with 2 Axes>"
            ],
            "image/png": "[encoded data removed]"
          },
          "metadata": {
            "needs_background": "light"
          }
        },
        {
          "output_type": "display_data",
          "data": {
            "text/plain": [
              "<Figure size 432x288 with 2 Axes>"
            ],
            "image/png": "[encoded data removed]"
          },
          "metadata": {
            "needs_background": "light"
          }
        },
        {
          "output_type": "display_data",
          "data": {
            "text/plain": [
              "<Figure size 432x288 with 2 Axes>"
            ],
            "image/png": "[encoded data removed]"
          },
          "metadata": {
            "needs_background": "light"
          }
        }
      ]
    },
    {
      "cell_type": "code",
      "execution_count": 60,
      "metadata": {
        "colab": {
          "base_uri": "https://localhost:8080/",
          "height": 479
        },
        "id": "1TQMhtws-b_x",
        "outputId": "390b9608-d482-4a8f-911c-4f3225546e46"
      },
      "outputs": [
        {
          "output_type": "display_data",
          "data": {
            "text/plain": [
              "<Figure size 432x288 with 1 Axes>"
            ],
            "image/png": "[encoded data removed]"
          },
          "metadata": {
            "needs_background": "light"
          }
        },
        {
          "output_type": "display_data",
          "data": {
            "text/plain": [
              "<Figure size 432x288 with 2 Axes>"
            ],
            "image/png": "[encoded data removed]"
          },
          "metadata": {
            "needs_background": "light"
          }
        }
      ],
      "source": [
        "csv_im = pd.read_csv('/content/binary_images/0.csv', sep = ',', header=None)\n",
        "plt.axis(\"off\")\n",
        "plt.imshow(csv_im)\n",
        "\n",
        "image_binarizer(0, 0.8, 0.92, 1, 0)"
      ]
    },
    {
      "cell_type": "markdown",
      "source": [
        "## Prepare Data Set"
      ],
      "metadata": {
        "id": "a7XPDMoo5MjG"
      }
    },
    {
      "cell_type": "code",
      "source": [
        "input_dir = \"/content/InfraredSolarModules/images/\"\n",
        "target_dir = \"/content/binary_images/\"\n",
        "\n",
        "input_img_paths = sorted([os.path.join(input_dir, fname)\n",
        "    for fname in os.listdir(input_dir)\n",
        "    if fname.endswith(\".jpg\")])\n",
        "    \n",
        "target_paths = sorted([os.path.join(target_dir, fname)\n",
        "    for fname in os.listdir(target_dir)\n",
        "    if fname.endswith(\".csv\") and not fname.startswith(\".\")])"
      ],
      "metadata": {
        "id": "D42RVEX05W0X"
      },
      "execution_count": 86,
      "outputs": []
    },
    {
      "cell_type": "code",
      "source": [
        "fig = plt.figure()\n",
        "rows, columns = 1 , 2\n",
        "fig.add_subplot(rows, columns, 1)\n",
        "plt.axis(\"off\")\n",
        "plt.imshow(load_img(input_img_paths[1]))\n",
        "fig.add_subplot(rows, columns, 2)\n",
        "plt.axis(\"off\")\n",
        "plt.imshow(pd.read_csv((target_paths[1]), sep = ',', header=None))"
      ],
      "metadata": {
        "colab": {
          "base_uri": "https://localhost:8080/",
          "height": 265
        },
        "id": "veFL20Lc5gE2",
        "outputId": "a803d26c-831e-4b72-f850-e7fa5ed7f254"
      },
      "execution_count": 87,
      "outputs": [
        {
          "output_type": "execute_result",
          "data": {
            "text/plain": [
              "<matplotlib.image.AxesImage at 0x7f7682fc3a10>"
            ]
          },
          "metadata": {},
          "execution_count": 87
        },
        {
          "output_type": "display_data",
          "data": {
            "text/plain": [
              "<Figure size 432x288 with 2 Axes>"
            ],
            "image/png": "[encoded data removed]"
          },
          "metadata": {
            "needs_background": "light"
          }
        }
      ]
    },
    {
      "cell_type": "markdown",
      "source": [
        "### Load data into NumPy Array"
      ],
      "metadata": {
        "id": "fKi8MnkP5mce"
      }
    },
    {
      "cell_type": "code",
      "source": [
        "img_size = (40, 24)\n",
        "num_imgs = len(input_img_paths) # Total number of samples in the data\n",
        "\n",
        "# Shuffle the file paths (they were originally sorted by breed)\n",
        "random.Random(1337).shuffle(input_img_paths)\n",
        "random.Random(1337).shuffle(target_paths)\n",
        "\n",
        "def path_to_input_image(path):\n",
        "    return img_to_array(load_img(path, target_size=img_size, color_mode=\"grayscale\"))\n",
        "\n",
        "def path_to_target(path):\n",
        "    img = pd.read_csv((target_paths[1]), sep = ',', header=None)\n",
        "    img = img.astype(\"uint8\")\n",
        "    return img"
      ],
      "metadata": {
        "id": "FK_C28VvjoKq"
      },
      "execution_count": 88,
      "outputs": []
    },
    {
      "cell_type": "code",
      "source": [
        "# Load all images in the input_imgs float32 array and their masks in the\n",
        "# targets uint8 array (same order). The inputs have three channels (RBG values)\n",
        "# and the targets have a single channel (which contains integer labels)\n",
        "input_imgs = np.zeros((num_imgs,) + img_size + (1,), dtype=\"float32\")\n",
        "targets = np.zeros((num_imgs,) + img_size, dtype=\"uint8\")\n",
        "\n",
        "for i in range((num_imgs-1)):\n",
        "    input_imgs[i] = path_to_input_image(input_img_paths[i])\n",
        "    targets[i] = path_to_target(target_paths[i])"
      ],
      "metadata": {
        "id": "vtMIi3eZjrgk"
      },
      "execution_count": 89,
      "outputs": []
    },
    {
      "cell_type": "code",
      "source": [
        "# Reserve 1000 samples for validation\n",
        "#num_val_samples = 10000\n",
        "\n",
        "# Split the data into a training and a validation set\n",
        "train_input_imgs = input_imgs[0:5000]\n",
        "train_targets = targets[0:5000]\n",
        "\n",
        "val_input_imgs = input_imgs[5000:5501]\n",
        "val_targets = targets[5000:5501]"
      ],
      "metadata": {
        "id": "jFqExwEh5tve"
      },
      "execution_count": 90,
      "outputs": []
    },
    {
      "cell_type": "markdown",
      "source": [
        "## Build Model"
      ],
      "metadata": {
        "id": "gyGuS26UJmDe"
      }
    },
    {
      "cell_type": "code",
      "source": [
        "def get_model(img_size, num_classes):\n",
        "    inputs = keras.Input(shape = img_size + (1,))\n",
        "    \n",
        "    # Don’t forget to rescale input images to the [0-1] range\n",
        "    x = layers.Rescaling(1./255)(inputs)\n",
        "    ### [First half of the network: downsampling inputs] ###\n",
        "\n",
        "    # Entry block\n",
        "    x = layers.Conv2D(32, 1, strides=2, padding=\"same\")(inputs)\n",
        "    x = layers.BatchNormalization()(x)\n",
        "    x = layers.Activation(\"relu\")(x)\n",
        "\n",
        "    previous_block_activation = x  # Set aside residual\n",
        "\n",
        "    # Blocks 1, 2, 3 are identical apart from the feature depth.\n",
        "    for filters in [32]:\n",
        "        x = layers.Activation(\"relu\")(x)\n",
        "        x = layers.SeparableConv2D(filters, 3, padding=\"same\")(x)\n",
        "        x = layers.BatchNormalization()(x)\n",
        "\n",
        "        x = layers.Activation(\"relu\")(x)\n",
        "        x = layers.SeparableConv2D(filters, 3, padding=\"same\")(x)\n",
        "        x = layers.BatchNormalization()(x)\n",
        "\n",
        "        x = layers.MaxPooling2D(3, strides=2, padding=\"same\")(x)\n",
        "\n",
        "        # Project residual\n",
        "        residual = layers.Conv2D(filters, 3, strides=2, padding=\"same\")(previous_block_activation)\n",
        "        x = layers.add([x, residual])  # Add back residual\n",
        "        previous_block_activation = x  # Set aside next residual\n",
        "\n",
        "    ### [Second half of the network: upsampling inputs] ###\n",
        "    for filters in [258, 128]:\n",
        "        x = layers.Activation(\"relu\")(x)\n",
        "        x = layers.Conv2DTranspose(filters, 3, padding=\"same\")(x)\n",
        "        x = layers.BatchNormalization()(x)\n",
        "\n",
        "        x = layers.Activation(\"relu\")(x)\n",
        "        x = layers.Conv2DTranspose(filters, 3, padding=\"same\")(x)\n",
        "        x = layers.BatchNormalization()(x)\n",
        "\n",
        "        x = layers.UpSampling2D(2)(x)\n",
        "\n",
        "        # Project residual\n",
        "        residual = layers.UpSampling2D(2)(previous_block_activation)\n",
        "        residual = layers.Conv2D(filters, 3, padding=\"same\")(residual)\n",
        "        x = layers.add([x, residual])  # Add back residual\n",
        "        previous_block_activation = x  # Set aside next residual\n",
        "\n",
        "    # We end the model with a per-pixel three-way\n",
        "    # softmax to classify each output pixel into one of our three categories\n",
        "    outputs = layers.Conv2D(num_classes, 3, activation=\"softmax\", padding=\"same\")(x)\n",
        "\n",
        "    # Define the model\n",
        "    model = keras.Model(inputs, outputs)\n",
        "    return model\n",
        "\n",
        "\n",
        "# Free up RAM in case the model definition cells were run multiple times\n",
        "keras.backend.clear_session()\n",
        "\n",
        "# Build model\n",
        "model = get_model(img_size, num_classes=3)\n",
        "model.summary()"
      ],
      "metadata": {
        "colab": {
          "base_uri": "https://localhost:8080/"
        },
        "id": "Caa6SjwI5w7S",
        "outputId": "e7260c9a-66ce-4291-dbe0-63cd4ca05368"
      },
      "execution_count": 114,
      "outputs": [
        {
          "output_type": "stream",
          "name": "stdout",
          "text": [
            "Model: \"model\"\n",
            "__________________________________________________________________________________________________\n",
            " Layer (type)                   Output Shape         Param #     Connected to                     \n",
            "==================================================================================================\n",
            " input_1 (InputLayer)           [(None, 40, 24, 1)]  0           []                               \n",
            "                                                                                                  \n",
            " conv2d (Conv2D)                (None, 20, 12, 32)   64          ['input_1[0][0]']                \n",
            "                                                                                                  \n",
            " batch_normalization (BatchNorm  (None, 20, 12, 32)  128         ['conv2d[0][0]']                 \n",
            " alization)                                                                                       \n",
            "                                                                                                  \n",
            " activation (Activation)        (None, 20, 12, 32)   0           ['batch_normalization[0][0]']    \n",
            "                                                                                                  \n",
            " activation_1 (Activation)      (None, 20, 12, 32)   0           ['activation[0][0]']             \n",
            "                                                                                                  \n",
            " separable_conv2d (SeparableCon  (None, 20, 12, 32)  1344        ['activation_1[0][0]']           \n",
            " v2D)                                                                                             \n",
            "                                                                                                  \n",
            " batch_normalization_1 (BatchNo  (None, 20, 12, 32)  128         ['separable_conv2d[0][0]']       \n",
            " rmalization)                                                                                     \n",
            "                                                                                                  \n",
            " activation_2 (Activation)      (None, 20, 12, 32)   0           ['batch_normalization_1[0][0]']  \n",
            "                                                                                                  \n",
            " separable_conv2d_1 (SeparableC  (None, 20, 12, 32)  1344        ['activation_2[0][0]']           \n",
            " onv2D)                                                                                           \n",
            "                                                                                                  \n",
            " batch_normalization_2 (BatchNo  (None, 20, 12, 32)  128         ['separable_conv2d_1[0][0]']     \n",
            " rmalization)                                                                                     \n",
            "                                                                                                  \n",
            " max_pooling2d (MaxPooling2D)   (None, 10, 6, 32)    0           ['batch_normalization_2[0][0]']  \n",
            "                                                                                                  \n",
            " conv2d_1 (Conv2D)              (None, 10, 6, 32)    9248        ['activation[0][0]']             \n",
            "                                                                                                  \n",
            " add (Add)                      (None, 10, 6, 32)    0           ['max_pooling2d[0][0]',          \n",
            "                                                                  'conv2d_1[0][0]']               \n",
            "                                                                                                  \n",
            " activation_3 (Activation)      (None, 10, 6, 32)    0           ['add[0][0]']                    \n",
            "                                                                                                  \n",
            " conv2d_transpose (Conv2DTransp  (None, 10, 6, 258)  74562       ['activation_3[0][0]']           \n",
            " ose)                                                                                             \n",
            "                                                                                                  \n",
            " batch_normalization_3 (BatchNo  (None, 10, 6, 258)  1032        ['conv2d_transpose[0][0]']       \n",
            " rmalization)                                                                                     \n",
            "                                                                                                  \n",
            " activation_4 (Activation)      (None, 10, 6, 258)   0           ['batch_normalization_3[0][0]']  \n",
            "                                                                                                  \n",
            " conv2d_transpose_1 (Conv2DTran  (None, 10, 6, 258)  599334      ['activation_4[0][0]']           \n",
            " spose)                                                                                           \n",
            "                                                                                                  \n",
            " batch_normalization_4 (BatchNo  (None, 10, 6, 258)  1032        ['conv2d_transpose_1[0][0]']     \n",
            " rmalization)                                                                                     \n",
            "                                                                                                  \n",
            " up_sampling2d_1 (UpSampling2D)  (None, 20, 12, 32)  0           ['add[0][0]']                    \n",
            "                                                                                                  \n",
            " up_sampling2d (UpSampling2D)   (None, 20, 12, 258)  0           ['batch_normalization_4[0][0]']  \n",
            "                                                                                                  \n",
            " conv2d_2 (Conv2D)              (None, 20, 12, 258)  74562       ['up_sampling2d_1[0][0]']        \n",
            "                                                                                                  \n",
            " add_1 (Add)                    (None, 20, 12, 258)  0           ['up_sampling2d[0][0]',          \n",
            "                                                                  'conv2d_2[0][0]']               \n",
            "                                                                                                  \n",
            " activation_5 (Activation)      (None, 20, 12, 258)  0           ['add_1[0][0]']                  \n",
            "                                                                                                  \n",
            " conv2d_transpose_2 (Conv2DTran  (None, 20, 12, 128)  297344     ['activation_5[0][0]']           \n",
            " spose)                                                                                           \n",
            "                                                                                                  \n",
            " batch_normalization_5 (BatchNo  (None, 20, 12, 128)  512        ['conv2d_transpose_2[0][0]']     \n",
            " rmalization)                                                                                     \n",
            "                                                                                                  \n",
            " activation_6 (Activation)      (None, 20, 12, 128)  0           ['batch_normalization_5[0][0]']  \n",
            "                                                                                                  \n",
            " conv2d_transpose_3 (Conv2DTran  (None, 20, 12, 128)  147584     ['activation_6[0][0]']           \n",
            " spose)                                                                                           \n",
            "                                                                                                  \n",
            " batch_normalization_6 (BatchNo  (None, 20, 12, 128)  512        ['conv2d_transpose_3[0][0]']     \n",
            " rmalization)                                                                                     \n",
            "                                                                                                  \n",
            " up_sampling2d_3 (UpSampling2D)  (None, 40, 24, 258)  0          ['add_1[0][0]']                  \n",
            "                                                                                                  \n",
            " up_sampling2d_2 (UpSampling2D)  (None, 40, 24, 128)  0          ['batch_normalization_6[0][0]']  \n",
            "                                                                                                  \n",
            " conv2d_3 (Conv2D)              (None, 40, 24, 128)  297344      ['up_sampling2d_3[0][0]']        \n",
            "                                                                                                  \n",
            " add_2 (Add)                    (None, 40, 24, 128)  0           ['up_sampling2d_2[0][0]',        \n",
            "                                                                  'conv2d_3[0][0]']               \n",
            "                                                                                                  \n",
            " conv2d_4 (Conv2D)              (None, 40, 24, 3)    3459        ['add_2[0][0]']                  \n",
            "                                                                                                  \n",
            "==================================================================================================\n",
            "Total params: 1,509,661\n",
            "Trainable params: 1,507,925\n",
            "Non-trainable params: 1,736\n",
            "__________________________________________________________________________________________________\n"
          ]
        }
      ]
    },
    {
      "cell_type": "markdown",
      "source": [
        "## Train Model"
      ],
      "metadata": {
        "id": "83bfVqww53nk"
      }
    },
    {
      "cell_type": "code",
      "source": [
        "import os, datetime\n",
        "import tensorflow as tf\n",
        "\n",
        "model.compile(optimizer=\"rmsprop\", loss=\"sparse_categorical_crossentropy\",\n",
        "    metrics=[\"accuracy\"])\n",
        "\n",
        "logdir = os.path.join(\"logs\", datetime.datetime.now().strftime(\"%Y%m%d-%H%M%S\"))\n",
        "callbacks = [\n",
        "    keras.callbacks.ModelCheckpoint(filepath=\"unet_segmentation.keras\", save_best_only=True, monitor=\"val_loss\"),\n",
        "    tf.keras.callbacks.TensorBoard(logdir, histogram_freq=1)\n",
        "] \n",
        "\n",
        "history = model.fit(train_input_imgs, train_targets,\n",
        "    epochs=2,\n",
        "    callbacks=callbacks,\n",
        "    batch_size=32,\n",
        "    validation_data=(val_input_imgs, val_targets))"
      ],
      "metadata": {
        "colab": {
          "base_uri": "https://localhost:8080/"
        },
        "id": "V8EJj7ZU55fV",
        "outputId": "e9ebb245-358c-4d54-d6ee-456d5dc00938"
      },
      "execution_count": null,
      "outputs": [
        {
          "output_type": "stream",
          "name": "stdout",
          "text": [
            "Epoch 1/2\n",
            "157/157 [==============================] - 347s 2s/step - loss: 0.3591 - accuracy: 0.9567 - val_loss: 0.1593 - val_accuracy: 0.9490\n",
            "Epoch 2/2\n",
            "  6/157 [>.............................] - ETA: 5:18 - loss: 0.0011 - accuracy: 0.9999"
          ]
        }
      ]
    },
    {
      "cell_type": "markdown",
      "source": [
        "## Model Evaluation"
      ],
      "metadata": {
        "id": "Wxmus0-U59Nn"
      }
    },
    {
      "cell_type": "markdown",
      "source": [
        "### Training and Validation Loss"
      ],
      "metadata": {
        "id": "7m7CXB4O6AYe"
      }
    },
    {
      "cell_type": "code",
      "source": [
        "plt.plot(history.history['accuracy'])\n",
        "plt.plot(history.history['val_accuracy'])\n",
        "plt.title('model accuracy')\n",
        "plt.ylabel('accuracy')\n",
        "plt.xlabel('epoch')\n",
        "plt.legend(['train', 'valid'], loc='lower right')\n",
        "plt.show()\n",
        "plt.plot(history.history['loss'])\n",
        "plt.plot(history.history['val_loss'])\n",
        "plt.title('model loss')\n",
        "plt.ylabel('loss')\n",
        "plt.xlabel('epoch')\n",
        "plt.legend(['train', 'valid'], loc='upper right')\n",
        "plt.show()"
      ],
      "metadata": {
        "id": "ksO3lrHS6Ffp",
        "outputId": "47712837-a878-4191-981a-5508a60819f1",
        "colab": {
          "base_uri": "https://localhost:8080/",
          "height": 573
        }
      },
      "execution_count": 104,
      "outputs": [
        {
          "output_type": "display_data",
          "data": {
            "text/plain": [
              "<Figure size 432x288 with 1 Axes>"
            ],
            "image/png": "[encoded data removed]"
          },
          "metadata": {
            "needs_background": "light"
          }
        },
        {
          "output_type": "display_data",
          "data": {
            "text/plain": [
              "<Figure size 432x288 with 1 Axes>"
            ],
            "image/png": "[encoded data removed]"
          },
          "metadata": {
            "needs_background": "light"
          }
        }
      ]
    },
    {
      "cell_type": "markdown",
      "source": [
        "### Compute Prediction"
      ],
      "metadata": {
        "id": "3KOjunR16Ly6"
      }
    },
    {
      "cell_type": "code",
      "source": [
        "from tensorflow.keras.utils import array_to_img\n",
        "model = keras.models.load_model(\"unet_segmentation.keras\")\n",
        "i = 23\n",
        "test_image = val_input_imgs[i]\n",
        "plt.axis(\"off\")\n",
        "plt.imshow(array_to_img(test_image))\n",
        "mask = model.predict(np.expand_dims(test_image, 0))[0]\n",
        "\n",
        "# Utility to display a model’s prediction\n",
        "def display_mask(pred):\n",
        "    mask = np.argmax(pred, axis=-1)\n",
        "    mask *= 127\n",
        "    plt.axis(\"off\")\n",
        "    plt.imshow(mask)\n",
        "    \n",
        "display_mask(mask)"
      ],
      "metadata": {
        "id": "ecBZfCxS6LXt",
        "outputId": "874b3326-b0c0-4686-8956-a26ab722700b",
        "colab": {
          "base_uri": "https://localhost:8080/",
          "height": 248
        }
      },
      "execution_count": 112,
      "outputs": [
        {
          "output_type": "display_data",
          "data": {
            "text/plain": [
              "<Figure size 432x288 with 1 Axes>"
            ],
            "image/png": "[encoded data removed]"
          },
          "metadata": {
            "needs_background": "light"
          }
        }
      ]
    },
    {
      "cell_type": "code",
      "source": [
        "\n",
        "fig = plt.figure()\n",
        "rows, columns = 1 , 2\n",
        "fig.add_subplot(rows, columns, 1)\n",
        "plt.imshow(array_to_img(test_image))\n",
        "plt.axis(\"off\")\n",
        "\n",
        "fig.add_subplot(rows, columns, 2)\n",
        "plt.axis(\"off\")\n",
        "plt.imshow(array_to_img(test_image))\n",
        "display_mask(mask)\n",
        "\n",
        "#print(\"Real Data\")\n",
        "#image_binarizer(2, 0.8, 0.92, 1, 0)"
      ],
      "metadata": {
        "id": "bGeK-cHJt9pF",
        "outputId": "ccc93bd4-6de3-4478-e1b2-0eaadec8cb58",
        "colab": {
          "base_uri": "https://localhost:8080/",
          "height": 248
        }
      },
      "execution_count": 113,
      "outputs": [
        {
          "output_type": "display_data",
          "data": {
            "text/plain": [
              "<Figure size 432x288 with 2 Axes>"
            ],
            "image/png": "[encoded data removed]"
          },
          "metadata": {
            "needs_background": "light"
          }
        }
      ]
    }
  ]
}