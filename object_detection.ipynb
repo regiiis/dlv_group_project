{
  "nbformat": 4,
  "nbformat_minor": 0,
  "metadata": {
    "colab": {
      "name": "object_detection.ipynb",
      "provenance": [],
      "toc_visible": true,
      "authorship_tag": "ABX9TyPtictc4o39ds9LzOnYOyb6",
      "include_colab_link": true
    },
    "kernelspec": {
      "name": "python3",
      "display_name": "Python 3"
    },
    "language_info": {
      "name": "python"
    }
  },
  "cells": [
    {
      "cell_type": "markdown",
      "metadata": {
        "id": "view-in-github",
        "colab_type": "text"
      },
      "source": [
        "<a href=\"https://colab.research.google.com/github/regiiis/dlv_group_project/blob/main/object_detection.ipynb\" target=\"_parent\"><img src=\"https://colab.research.google.com/assets/colab-badge.svg\" alt=\"Open In Colab\"/></a>"
      ]
    },
    {
      "cell_type": "markdown",
      "source": [
        "# DLV Group Project - **Object Detection**"
      ],
      "metadata": {
        "id": "EPVuJ39E_F6y"
      }
    },
    {
      "cell_type": "markdown",
      "source": [
        "## Set up"
      ],
      "metadata": {
        "id": "Gt8xFiBH_Eg5"
      }
    },
    {
      "cell_type": "code",
      "source": [
        "gpu_info = !nvidia-smi\n",
        "gpu_info = '\\n'.join(gpu_info)\n",
        "if gpu_info.find('failed') >= 0:\n",
        "  print('Not connected to a GPU')\n",
        "else:\n",
        "  print(gpu_info)"
      ],
      "metadata": {
        "colab": {
          "base_uri": "https://localhost:8080/"
        },
        "id": "YDHWPqxZ-pmQ",
        "outputId": "efbf2e45-328c-4f4e-88af-5c72cf45ccf7"
      },
      "execution_count": 2,
      "outputs": [
        {
          "output_type": "stream",
          "name": "stdout",
          "text": [
            "Not connected to a GPU\n"
          ]
        }
      ]
    },
    {
      "cell_type": "code",
      "source": [
        "%pylab inline\n",
        "import matplotlib.pyplot as plt\n",
        "import matplotlib.image as mpimg\n",
        "import numpy as np\n",
        "import pandas as pd\n",
        "import os, datetime\n",
        "\n",
        "# General imports\n",
        "import tensorflow as tf\n",
        "tf.compat.v1.enable_eager_execution(\n",
        "    config=None, device_policy=None, execution_mode=None\n",
        ")\n",
        "\n",
        "# Shortcuts to keras if (however from tensorflow)\n",
        "from tensorflow import keras\n",
        "from tensorflow.keras.applications.vgg16 import VGG16\n",
        "from tensorflow.keras.preprocessing.image import ImageDataGenerator\n",
        "from tensorflow.keras.models import Sequential\n",
        "from tensorflow.keras.layers import Conv2D, MaxPooling2D\n",
        "from tensorflow.keras.layers import Activation, Dropout, Flatten, Dense, BatchNormalization\n",
        "from tensorflow.keras.callbacks import TensorBoard \n",
        "from tensorflow.keras import layers\n",
        "from IPython.display import Image\n",
        "from tensorflow.keras.utils import load_img, img_to_array\n",
        "from tensorflow.keras.utils import array_to_img\n",
        "\n",
        "from sklearn.metrics import confusion_matrix\n",
        "from sklearn.metrics import classification_report\n",
        "from sklearn.utils.class_weight import compute_class_weight\n",
        "import sys\n",
        "\n",
        "from PIL import Image\n",
        "from numpy import asarray\n",
        "from numpy import savetxt\n",
        "\n",
        "import random"
      ],
      "metadata": {
        "colab": {
          "base_uri": "https://localhost:8080/"
        },
        "id": "B5-est-O-zN-",
        "outputId": "46a3e418-7ce0-4010-8490-5bef66f13f50"
      },
      "execution_count": 16,
      "outputs": [
        {
          "output_type": "stream",
          "name": "stdout",
          "text": [
            "Populating the interactive namespace from numpy and matplotlib\n"
          ]
        }
      ]
    },
    {
      "cell_type": "code",
      "source": [
        "from google.colab import drive\n",
        "drive.mount('/content/drive')"
      ],
      "metadata": {
        "colab": {
          "base_uri": "https://localhost:8080/"
        },
        "id": "DTJF-_R--06v",
        "outputId": "252df28a-2113-4fec-d258-64ab0861b1a5"
      },
      "execution_count": 4,
      "outputs": [
        {
          "output_type": "stream",
          "name": "stdout",
          "text": [
            "Mounted at /content/drive\n"
          ]
        }
      ]
    },
    {
      "cell_type": "code",
      "source": [
        "!unzip \"/content/drive/My Drive/Colab Notebooks/data/2020-02-14_InfraredSolarModules.zip\""
      ],
      "metadata": {
        "id": "BIxzOskO-22V"
      },
      "execution_count": null,
      "outputs": []
    },
    {
      "cell_type": "code",
      "source": [
        "df = pd.read_json(\"/content/InfraredSolarModules/module_metadata.json\",orient=\"index\")\n",
        "df['image_name'] = df['image_filepath'].str[7:]\n",
        "df"
      ],
      "metadata": {
        "colab": {
          "base_uri": "https://localhost:8080/",
          "height": 0
        },
        "id": "lRKTvR36-4nX",
        "outputId": "eca68e0a-e957-462a-a092-98fbc7e7c39d"
      },
      "execution_count": 11,
      "outputs": [
        {
          "output_type": "execute_result",
          "data": {
            "text/plain": [
              "         image_filepath anomaly_class image_name\n",
              "13357  images/13357.jpg    No-Anomaly  13357.jpg\n",
              "13356  images/13356.jpg    No-Anomaly  13356.jpg\n",
              "19719  images/19719.jpg    No-Anomaly  19719.jpg\n",
              "11542  images/11542.jpg    No-Anomaly  11542.jpg\n",
              "11543  images/11543.jpg    No-Anomaly  11543.jpg\n",
              "...                 ...           ...        ...\n",
              "8488    images/8488.jpg    Vegetation   8488.jpg\n",
              "8489    images/8489.jpg    Vegetation   8489.jpg\n",
              "7464    images/7464.jpg      Cracking   7464.jpg\n",
              "18065  images/18065.jpg    No-Anomaly  18065.jpg\n",
              "13354  images/13354.jpg    No-Anomaly  13354.jpg\n",
              "\n",
              "[20000 rows x 3 columns]"
            ],
            "text/html": [
              "\n",
              "  <div id=\"df-326d1136-562c-46cf-8146-33e356c6581d\">\n",
              "    <div class=\"colab-df-container\">\n",
              "      <div>\n",
              "<style scoped>\n",
              "    .dataframe tbody tr th:only-of-type {\n",
              "        vertical-align: middle;\n",
              "    }\n",
              "\n",
              "    .dataframe tbody tr th {\n",
              "        vertical-align: top;\n",
              "    }\n",
              "\n",
              "    .dataframe thead th {\n",
              "        text-align: right;\n",
              "    }\n",
              "</style>\n",
              "<table border=\"1\" class=\"dataframe\">\n",
              "  <thead>\n",
              "    <tr style=\"text-align: right;\">\n",
              "      <th></th>\n",
              "      <th>image_filepath</th>\n",
              "      <th>anomaly_class</th>\n",
              "      <th>image_name</th>\n",
              "    </tr>\n",
              "  </thead>\n",
              "  <tbody>\n",
              "    <tr>\n",
              "      <th>13357</th>\n",
              "      <td>images/13357.jpg</td>\n",
              "      <td>No-Anomaly</td>\n",
              "      <td>13357.jpg</td>\n",
              "    </tr>\n",
              "    <tr>\n",
              "      <th>13356</th>\n",
              "      <td>images/13356.jpg</td>\n",
              "      <td>No-Anomaly</td>\n",
              "      <td>13356.jpg</td>\n",
              "    </tr>\n",
              "    <tr>\n",
              "      <th>19719</th>\n",
              "      <td>images/19719.jpg</td>\n",
              "      <td>No-Anomaly</td>\n",
              "      <td>19719.jpg</td>\n",
              "    </tr>\n",
              "    <tr>\n",
              "      <th>11542</th>\n",
              "      <td>images/11542.jpg</td>\n",
              "      <td>No-Anomaly</td>\n",
              "      <td>11542.jpg</td>\n",
              "    </tr>\n",
              "    <tr>\n",
              "      <th>11543</th>\n",
              "      <td>images/11543.jpg</td>\n",
              "      <td>No-Anomaly</td>\n",
              "      <td>11543.jpg</td>\n",
              "    </tr>\n",
              "    <tr>\n",
              "      <th>...</th>\n",
              "      <td>...</td>\n",
              "      <td>...</td>\n",
              "      <td>...</td>\n",
              "    </tr>\n",
              "    <tr>\n",
              "      <th>8488</th>\n",
              "      <td>images/8488.jpg</td>\n",
              "      <td>Vegetation</td>\n",
              "      <td>8488.jpg</td>\n",
              "    </tr>\n",
              "    <tr>\n",
              "      <th>8489</th>\n",
              "      <td>images/8489.jpg</td>\n",
              "      <td>Vegetation</td>\n",
              "      <td>8489.jpg</td>\n",
              "    </tr>\n",
              "    <tr>\n",
              "      <th>7464</th>\n",
              "      <td>images/7464.jpg</td>\n",
              "      <td>Cracking</td>\n",
              "      <td>7464.jpg</td>\n",
              "    </tr>\n",
              "    <tr>\n",
              "      <th>18065</th>\n",
              "      <td>images/18065.jpg</td>\n",
              "      <td>No-Anomaly</td>\n",
              "      <td>18065.jpg</td>\n",
              "    </tr>\n",
              "    <tr>\n",
              "      <th>13354</th>\n",
              "      <td>images/13354.jpg</td>\n",
              "      <td>No-Anomaly</td>\n",
              "      <td>13354.jpg</td>\n",
              "    </tr>\n",
              "  </tbody>\n",
              "</table>\n",
              "<p>20000 rows × 3 columns</p>\n",
              "</div>\n",
              "      <button class=\"colab-df-convert\" onclick=\"convertToInteractive('df-326d1136-562c-46cf-8146-33e356c6581d')\"\n",
              "              title=\"Convert this dataframe to an interactive table.\"\n",
              "              style=\"display:none;\">\n",
              "        \n",
              "  <svg xmlns=\"http://www.w3.org/2000/svg\" height=\"24px\"viewBox=\"0 0 24 24\"\n",
              "       width=\"24px\">\n",
              "    <path d=\"M0 0h24v24H0V0z\" fill=\"none\"/>\n",
              "    <path d=\"M18.56 5.44l.94 2.06.94-2.06 2.06-.94-2.06-.94-.94-2.06-.94 2.06-2.06.94zm-11 1L8.5 8.5l.94-2.06 2.06-.94-2.06-.94L8.5 2.5l-.94 2.06-2.06.94zm10 10l.94 2.06.94-2.06 2.06-.94-2.06-.94-.94-2.06-.94 2.06-2.06.94z\"/><path d=\"M17.41 7.96l-1.37-1.37c-.4-.4-.92-.59-1.43-.59-.52 0-1.04.2-1.43.59L10.3 9.45l-7.72 7.72c-.78.78-.78 2.05 0 2.83L4 21.41c.39.39.9.59 1.41.59.51 0 1.02-.2 1.41-.59l7.78-7.78 2.81-2.81c.8-.78.8-2.07 0-2.86zM5.41 20L4 18.59l7.72-7.72 1.47 1.35L5.41 20z\"/>\n",
              "  </svg>\n",
              "      </button>\n",
              "      \n",
              "  <style>\n",
              "    .colab-df-container {\n",
              "      display:flex;\n",
              "      flex-wrap:wrap;\n",
              "      gap: 12px;\n",
              "    }\n",
              "\n",
              "    .colab-df-convert {\n",
              "      background-color: #E8F0FE;\n",
              "      border: none;\n",
              "      border-radius: 50%;\n",
              "      cursor: pointer;\n",
              "      display: none;\n",
              "      fill: #1967D2;\n",
              "      height: 32px;\n",
              "      padding: 0 0 0 0;\n",
              "      width: 32px;\n",
              "    }\n",
              "\n",
              "    .colab-df-convert:hover {\n",
              "      background-color: #E2EBFA;\n",
              "      box-shadow: 0px 1px 2px rgba(60, 64, 67, 0.3), 0px 1px 3px 1px rgba(60, 64, 67, 0.15);\n",
              "      fill: #174EA6;\n",
              "    }\n",
              "\n",
              "    [theme=dark] .colab-df-convert {\n",
              "      background-color: #3B4455;\n",
              "      fill: #D2E3FC;\n",
              "    }\n",
              "\n",
              "    [theme=dark] .colab-df-convert:hover {\n",
              "      background-color: #434B5C;\n",
              "      box-shadow: 0px 1px 3px 1px rgba(0, 0, 0, 0.15);\n",
              "      filter: drop-shadow(0px 1px 2px rgba(0, 0, 0, 0.3));\n",
              "      fill: #FFFFFF;\n",
              "    }\n",
              "  </style>\n",
              "\n",
              "      <script>\n",
              "        const buttonEl =\n",
              "          document.querySelector('#df-326d1136-562c-46cf-8146-33e356c6581d button.colab-df-convert');\n",
              "        buttonEl.style.display =\n",
              "          google.colab.kernel.accessAllowed ? 'block' : 'none';\n",
              "\n",
              "        async function convertToInteractive(key) {\n",
              "          const element = document.querySelector('#df-326d1136-562c-46cf-8146-33e356c6581d');\n",
              "          const dataTable =\n",
              "            await google.colab.kernel.invokeFunction('convertToInteractive',\n",
              "                                                     [key], {});\n",
              "          if (!dataTable) return;\n",
              "\n",
              "          const docLinkHtml = 'Like what you see? Visit the ' +\n",
              "            '<a target=\"_blank\" href=https://colab.research.google.com/notebooks/data_table.ipynb>data table notebook</a>'\n",
              "            + ' to learn more about interactive tables.';\n",
              "          element.innerHTML = '';\n",
              "          dataTable['output_type'] = 'display_data';\n",
              "          await google.colab.output.renderOutput(dataTable, element);\n",
              "          const docLink = document.createElement('div');\n",
              "          docLink.innerHTML = docLinkHtml;\n",
              "          element.appendChild(docLink);\n",
              "        }\n",
              "      </script>\n",
              "    </div>\n",
              "  </div>\n",
              "  "
            ]
          },
          "metadata": {},
          "execution_count": 11
        }
      ]
    },
    {
      "cell_type": "code",
      "source": [
        "reduced_df = df.sample(frac=0.8,random_state=200)       # random state is a seed value\n",
        "train_df = reduced_df.sample(frac=0.8,random_state=200) # random state is a seed value\n",
        "validation_test_df = reduced_df.drop(train_df.index)\n",
        "validation_df = validation_test_df.sample(frac=0.5,random_state=200)\n",
        "test_df = validation_test_df.drop(validation_df.index)\n",
        "\n",
        "print(train_df.info())\n",
        "print()\n",
        "print(validation_df.info())\n",
        "print()\n",
        "test_df.info()\n",
        "\n",
        "test_df.anomaly_class"
      ],
      "metadata": {
        "id": "VFvRy6Uf-6Rt"
      },
      "execution_count": null,
      "outputs": []
    },
    {
      "cell_type": "code",
      "source": [
        "def image_binarizer(image, treshold, print, save):\n",
        "  dir_path = '/content/binary_images/'\n",
        "  path = \"/content/InfraredSolarModules/images/\" + str(image) + \".jpg\"\n",
        "  imagee = mpimg.imread(path)\n",
        "  img = np.array(imagee)\n",
        "\n",
        "  t = float(treshold)\n",
        "  arr = img\n",
        "  max_num, min_num, i , n = 0, 0, 0, 0\n",
        "\n",
        "  flat_list = [x for xs in arr for x in xs]    # Normalising the image\n",
        "  max_num = max(flat_list)\n",
        "  min_num = min(flat_list)\n",
        "  normdividend = max_num - min_num\n",
        "  a2 = np.array([[(k - min_num) / normdividend for k in j] for j in img])\n",
        "\n",
        "  for list in a2:\n",
        "    for number in list:\n",
        "      if (float(number) < t):\n",
        "        arr[i][n] = 0\n",
        "      else:\n",
        "        arr[i][n] = 1\n",
        "      n = n + 1\n",
        "    i = i + 1\n",
        "    n = 0\n",
        "\n",
        "  if (save == 1):\n",
        "    isExist = os.path.exists(dir_path)\n",
        "    if not isExist:\n",
        "      os.makedirs(dir_path)\n",
        "    data = asarray(arr)\n",
        "    savetxt(dir_path + str(image) + '.csv', data, delimiter=',')\n",
        "\n",
        "  if (print == 1):\n",
        "    fig = plt.figure()\n",
        "    rows, columns = 1 , 2\n",
        "    fig.add_subplot(rows, columns, 1)\n",
        "    plt.imshow(imagee)\n",
        "    fig.add_subplot(rows, columns, 2)\n",
        "    plt.imshow(arr)"
      ],
      "metadata": {
        "id": "ZPkRHjHC-psl"
      },
      "execution_count": 13,
      "outputs": []
    },
    {
      "cell_type": "markdown",
      "source": [
        "## Create Binary Image Data set"
      ],
      "metadata": {
        "id": "9dsTE0ze_Obw"
      }
    },
    {
      "cell_type": "code",
      "source": [
        "for i in range(1, 20000):\n",
        "  image_binarizer(i, 0.92, 0, 1)"
      ],
      "metadata": {
        "id": "dt9lIxlN-pu5"
      },
      "execution_count": 14,
      "outputs": []
    },
    {
      "cell_type": "code",
      "execution_count": 15,
      "metadata": {
        "colab": {
          "base_uri": "https://localhost:8080/",
          "height": 517
        },
        "id": "1TQMhtws-b_x",
        "outputId": "220856fc-1776-4599-d182-3001541dc488"
      },
      "outputs": [
        {
          "output_type": "display_data",
          "data": {
            "text/plain": [
              "<Figure size 432x288 with 1 Axes>"
            ],
            "image/png": "[encoded data removed]"
          },
          "metadata": {
            "needs_background": "light"
          }
        },
        {
          "output_type": "display_data",
          "data": {
            "text/plain": [
              "<Figure size 432x288 with 2 Axes>"
            ],
            "image/png": "[encoded data removed]"
          },
          "metadata": {
            "needs_background": "light"
          }
        }
      ],
      "source": [
        "csv_im = pd.read_csv('/content/binary_images/110.csv', sep = ',', header=None)\n",
        "plt.imshow(csv_im)\n",
        "\n",
        "image_binarizer(110, 0.92, 1, 0)"
      ]
    },
    {
      "cell_type": "markdown",
      "source": [
        "## Prepare Data Set"
      ],
      "metadata": {
        "id": "a7XPDMoo5MjG"
      }
    },
    {
      "cell_type": "code",
      "source": [
        "\n",
        "input_dir = \"images/\"\n",
        "target_dir = \"annotations/trimaps/\"\n",
        "input_img_paths = sorted(\n",
        "    [os.path.join(input_dir, fname)\n",
        "    for fname in os.listdir(input_dir)\n",
        "    if fname.endswith(\".jpg\")])\n",
        "    \n",
        "target_paths = sorted([os.path.join(target_dir, fname)\n",
        "    for fname in os.listdir(target_dir)\n",
        "    if fname.endswith(\".png\") and not fname.startswith(\".\")])"
      ],
      "metadata": {
        "id": "D42RVEX05W0X"
      },
      "execution_count": null,
      "outputs": []
    },
    {
      "cell_type": "code",
      "source": [
        "plt.axis(\"off\")\n",
        "\n",
        "# Display input image number 9\n",
        "plt.imshow(load_img(input_img_paths[9]))"
      ],
      "metadata": {
        "id": "veFL20Lc5gE2"
      },
      "execution_count": null,
      "outputs": []
    },
    {
      "cell_type": "markdown",
      "source": [
        "### Load data into NumPy Array"
      ],
      "metadata": {
        "id": "fKi8MnkP5mce"
      }
    },
    {
      "cell_type": "code",
      "source": [
        "# We resize everything to 160x160\n",
        "img_size = (160, 160)\n",
        "# Total number of samples in the data\n",
        "num_imgs = len(input_img_paths)\n",
        "\n",
        "# Shuffle the file paths (they were originally sorted by breed). We \n",
        "# use the same seed (1337) in both statements to ensure that the input \n",
        "# paths and target paths stay in the same order\n",
        "\n",
        "random.Random(1337).shuffle(input_img_paths)\n",
        "random.Random(1337).shuffle(target_paths)\n",
        "\n",
        "def path_to_input_image(path):\n",
        "    return img_to_array(load_img(path, target_size=img_size))\n",
        "\n",
        "def path_to_target(path):\n",
        "    img = img_to_array(\n",
        "    load_img(path, target_size=img_size, color_mode=\"grayscale\"))\n",
        "    # Subtract 1 so that our labels become 0, 1, and 2\n",
        "    img = img.astype(\"uint8\") - 1\n",
        "    return img\n",
        "\n",
        "# Load all images in the input_imgs float32 array and their masks in the\n",
        "# targets uint8 array (same order). The inputs have three channels (RBG values)\n",
        "# and the targets have a single channel (which contains integer labels)\n",
        "input_imgs = np.zeros((num_imgs,) + img_size + (3,), dtype=\"float32\")\n",
        "targets = np.zeros((num_imgs,) + img_size + (1,), dtype=\"uint8\")\n",
        "for i in range(num_imgs):\n",
        "    input_imgs[i] = path_to_input_image(input_img_paths[i])\n",
        "    targets[i] = path_to_target(target_paths[i])\n",
        "  \n",
        "# Reserve 1000 samples for validation\n",
        "num_val_samples = 1000\n",
        "\n",
        "# Split the data into a training and a\n",
        "# validation set\n",
        "train_input_imgs = input_imgs[:-num_val_samples]\n",
        "train_targets = targets[:-num_val_samples]\n",
        "val_input_imgs = input_imgs[-num_val_samples:]\n",
        "val_targets = targets[-num_val_samples:]"
      ],
      "metadata": {
        "id": "jFqExwEh5tve"
      },
      "execution_count": null,
      "outputs": []
    },
    {
      "cell_type": "markdown",
      "source": [
        "## Build Model"
      ],
      "metadata": {
        "id": "gyGuS26UJmDe"
      }
    },
    {
      "cell_type": "code",
      "source": [
        "\n",
        "# We resize everything to 160x160\n",
        "img_size = (160, 160)\n",
        "# Total number of samples in the data\n",
        "num_imgs = len(input_img_paths)\n",
        "\n",
        "# Shuffle the file paths (they were originally sorted by breed). We \n",
        "# use the same seed (1337) in both statements to ensure that the input \n",
        "# paths and target paths stay in the same order\n",
        "\n",
        "random.Random(1337).shuffle(input_img_paths)\n",
        "random.Random(1337).shuffle(target_paths)\n",
        "\n",
        "def path_to_input_image(path):\n",
        "    return img_to_array(load_img(path, target_size=img_size))\n",
        "\n",
        "def path_to_target(path):\n",
        "    img = img_to_array(\n",
        "    load_img(path, target_size=img_size, color_mode=\"grayscale\"))\n",
        "    # Subtract 1 so that our labels become 0, 1, and 2\n",
        "    img = img.astype(\"uint8\") - 1\n",
        "    return img\n",
        "\n",
        "# Load all images in the input_imgs float32 array and their masks in the\n",
        "# targets uint8 array (same order). The inputs have three channels (RBG values)\n",
        "# and the targets have a single channel (which contains integer labels)\n",
        "input_imgs = np.zeros((num_imgs,) + img_size + (3,), dtype=\"float32\")\n",
        "targets = np.zeros((num_imgs,) + img_size + (1,), dtype=\"uint8\")\n",
        "for i in range(num_imgs):\n",
        "    input_imgs[i] = path_to_input_image(input_img_paths[i])\n",
        "    targets[i] = path_to_target(target_paths[i])\n",
        "  \n",
        "# Reserve 1000 samples for validation\n",
        "num_val_samples = 1000\n",
        "\n",
        "# Split the data into a training and a\n",
        "# validation set\n",
        "train_input_imgs = input_imgs[:-num_val_samples]\n",
        "train_targets = targets[:-num_val_samples]\n",
        "val_input_imgs = input_imgs[-num_val_samples:]\n",
        "val_targets = targets[-num_val_samples:]"
      ],
      "metadata": {
        "id": "Caa6SjwI5w7S"
      },
      "execution_count": null,
      "outputs": []
    },
    {
      "cell_type": "markdown",
      "source": [
        "## Train Model"
      ],
      "metadata": {
        "id": "83bfVqww53nk"
      }
    },
    {
      "cell_type": "code",
      "source": [
        "\n",
        "model.compile(optimizer=\"rmsprop\", loss=\"sparse_categorical_crossentropy\",\n",
        "    metrics=[\"accuracy\"])\n",
        "\n",
        "logdir = os.path.join(\"logs\", datetime.datetime.now().strftime(\"%Y%m%d-%H%M%S\"))\n",
        "callbacks = [\n",
        "    keras.callbacks.ModelCheckpoint(filepath=\"unet_segmentation.keras\", save_best_only=True, monitor=\"val_loss\"),\n",
        "    tf.keras.callbacks.TensorBoard(logdir, histogram_freq=1)\n",
        "] \n",
        "\n",
        "history = model.fit(train_input_imgs, train_targets,\n",
        "    epochs=50,\n",
        "    callbacks=callbacks,\n",
        "    batch_size=64,\n",
        "    validation_data=(val_input_imgs, val_targets))"
      ],
      "metadata": {
        "id": "V8EJj7ZU55fV"
      },
      "execution_count": null,
      "outputs": []
    },
    {
      "cell_type": "markdown",
      "source": [
        "## Model Evaluation"
      ],
      "metadata": {
        "id": "Wxmus0-U59Nn"
      }
    },
    {
      "cell_type": "markdown",
      "source": [
        "### Training and Validation Loss"
      ],
      "metadata": {
        "id": "7m7CXB4O6AYe"
      }
    },
    {
      "cell_type": "code",
      "source": [
        "plt.plot(history.history['accuracy'])\n",
        "plt.plot(history.history['val_accuracy'])\n",
        "plt.title('model accuracy')\n",
        "plt.ylabel('accuracy')\n",
        "plt.xlabel('epoch')\n",
        "plt.legend(['train', 'valid'], loc='lower right')\n",
        "plt.show()\n",
        "plt.plot(history.history['loss'])\n",
        "plt.plot(history.history['val_loss'])\n",
        "plt.title('model loss')\n",
        "plt.ylabel('loss')\n",
        "plt.xlabel('epoch')\n",
        "plt.legend(['train', 'valid'], loc='upper right')\n",
        "plt.show()"
      ],
      "metadata": {
        "id": "ksO3lrHS6Ffp"
      },
      "execution_count": null,
      "outputs": []
    },
    {
      "cell_type": "markdown",
      "source": [
        "### Compute Prediction"
      ],
      "metadata": {
        "id": "3KOjunR16Ly6"
      }
    },
    {
      "cell_type": "code",
      "source": [
        "\n",
        "model = keras.models.load_model(\"unet_segmentation.keras\")\n",
        "i = 4\n",
        "test_image = val_input_imgs[i]\n",
        "plt.axis(\"off\")\n",
        "plt.imshow(array_to_img(test_image))\n",
        "mask = model.predict(np.expand_dims(test_image, 0))[0]\n",
        "\n",
        "# Utility to display a model’s prediction\n",
        "def display_mask(pred):\n",
        "    mask = np.argmax(pred, axis=-1)\n",
        "    mask *= 127\n",
        "    plt.axis(\"off\")\n",
        "    plt.imshow(mask)\n",
        "    \n",
        "display_mask(mask)"
      ],
      "metadata": {
        "id": "ecBZfCxS6LXt"
      },
      "execution_count": null,
      "outputs": []
    }
  ]
}